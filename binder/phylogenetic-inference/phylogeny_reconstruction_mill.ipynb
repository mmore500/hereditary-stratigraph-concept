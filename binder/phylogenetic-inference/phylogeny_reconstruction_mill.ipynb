{
 "cells": [
  {
   "cell_type": "code",
   "execution_count": null,
   "metadata": {},
   "outputs": [],
   "source": [
    "import endomill\n",
    "from nbmetalog import nbmetalog as nbm\n"
   ]
  },
  {
   "cell_type": "code",
   "execution_count": null,
   "metadata": {},
   "outputs": [],
   "source": [
    "nbm.print_metadata()\n"
   ]
  },
  {
   "cell_type": "code",
   "execution_count": null,
   "metadata": {},
   "outputs": [],
   "source": [
    "data_urls = [\n",
    "    'https://github.com/mmore500/hereditary-stratigraph-concept/blob/26405273f59455d45002ad0745a12689bb486b0e/binder/phylogenetic-inference/a=pairwise_mrca_estimates+source=nk_lexicaseselection_seed110_pop165_mut.01_snapshot_500.csv.gz',\n",
    "    'https://github.com/mmore500/hereditary-stratigraph-concept/blob/26405273f59455d45002ad0745a12689bb486b0e/binder/phylogenetic-inference/a=pairwise_mrca_estimates+source=nk_randomselection_seed7_pop100_mut.01_snapshot_5000.csv.gz',\n",
    "    'https://github.com/mmore500/hereditary-stratigraph-concept/blob/26405273f59455d45002ad0745a12689bb486b0e/binder/phylogenetic-inference/a=pairwise_mrca_estimates+source=nk_sharingselection_seed10_pop100_mut.01_snapshot_5000.csv.gz',\n",
    "    'https://github.com/mmore500/hereditary-stratigraph-concept/blob/26405273f59455d45002ad0745a12689bb486b0e/binder/phylogenetic-inference/a=pairwise_mrca_estimates+source=nk_tournamentselection_seed140_pop100_mut.01_snapshot_5000.csv.gz',\n",
    "]\n",
    "\n",
    "endomill.instantiate_over(\n",
    "    parameter_packs=[\n",
    "        {'data_url': data_url}\n",
    "        for data_url in data_urls\n",
    "    ],\n",
    ")\n"
   ]
  },
  {
   "cell_type": "code",
   "execution_count": null,
   "metadata": {},
   "outputs": [],
   "source": [
    "#define papermil parameters\n",
    "data_url: str\n"
   ]
  },
  {
   "cell_type": "code",
   "execution_count": null,
   "metadata": {},
   "outputs": [],
   "source": [
    "import alifedata_phyloinformatics_convert as apc\n",
    "import itertools as it\n",
    "from keyname import keyname as kn\n",
    "from matplotlib import pyplot as plt\n",
    "import numpy as np\n",
    "from os.path import basename\n",
    "import pandas as pd\n",
    "import scipy\n",
    "from scipy.cluster.hierarchy import dendrogram as scipy_dendrogram\n",
    "from scipy.cluster.hierarchy import linkage as scipy_linkage\n",
    "from scipy.spatial.distance import squareform as scipy_squareform\n",
    "import sys\n",
    "from teeplot import teeplot as tp\n",
    "from tqdm import tqdm\n"
   ]
  },
  {
   "cell_type": "code",
   "execution_count": null,
   "metadata": {},
   "outputs": [],
   "source": [
    "nbm.print_metadata()\n"
   ]
  },
  {
   "cell_type": "code",
   "execution_count": null,
   "metadata": {},
   "outputs": [],
   "source": [
    "df = pd.read_csv(\n",
    "    f'{data_url}?raw=true',\n",
    "    compression='gzip',\n",
    ")\n",
    "\n",
    "nbm.print_dataframe_synopsis(df)\n",
    "\n",
    "data_filename = basename(data_url)\n",
    "\n",
    "print(data_filename)\n"
   ]
  },
  {
   "cell_type": "code",
   "execution_count": null,
   "metadata": {},
   "outputs": [],
   "source": [
    "endomill.add_instance_outpath(\n",
    "    f'a=phylogeny_reconstruction+source={kn.unpack(data_filename)[\"source\"]}.endomill.ipynb'\n",
    ")\n"
   ]
  },
  {
   "cell_type": "code",
   "execution_count": null,
   "metadata": {},
   "outputs": [],
   "source": [
    "df['Treatment'] = df.apply(\n",
    "    lambda row: kn.pack({\n",
    "        'target': row['Stratigraphic Column Target Retained Bits'],\n",
    "        'differentia': row['Differentia Bit Width'],\n",
    "        'policy': row['Stratum Retention Policy'],\n",
    "    }),\n",
    "    axis=1,\n",
    ")\n"
   ]
  },
  {
   "cell_type": "code",
   "execution_count": null,
   "metadata": {},
   "outputs": [],
   "source": [
    "max_gen = df['Generation of Taxon Compared From'].max()\n"
   ]
  },
  {
   "cell_type": "code",
   "execution_count": null,
   "metadata": {},
   "outputs": [],
   "source": [
    "def create_distance_matrix(df):\n",
    "    assert len(df['Treatment'].unique() == 1)\n",
    "\n",
    "    counter = it.count()\n",
    "    taxon_to_index = {\n",
    "        taxon : next(counter)\n",
    "        for taxon in df['Taxon Compared From'].unique()\n",
    "    }\n",
    "    label_list = sorted(\n",
    "        [*df['Taxon Compared From'].unique()],\n",
    "        key=lambda x: taxon_to_index[x],\n",
    "    )\n",
    "    assert len(label_list) == len(taxon_to_index)\n",
    "    distance_dict = {\n",
    "    #     (taxon_to_index[row['Taxon Compared From']], taxon_to_index[row['Taxon Compared To']]) : row['Generation of Taxon Compared From'] - row['Generation Of MRCA Lower Bound (inclusive)']\n",
    "#         (taxon_to_index[row['Taxon Compared From']], taxon_to_index[row['Taxon Compared To']]) : max_gen - row['Generation Of MRCA Lower Bound (inclusive)']\n",
    "        (taxon_to_index[row['Taxon Compared From']], taxon_to_index[row['Taxon Compared To']]) : max_gen - row['Generation Of MRCA Upper Bound (exclusive)']\n",
    "        for __, row in df.iterrows()\n",
    "    #     for __, row in tqdm(df[df['Column Configuration'] == 'actual_bits=1016+actual_strata=127+bits_error=-8+differentia=8+policy=RecencyProportionalResolution+resolution=28+target_bits=1024'].iterrows())\n",
    "    }\n",
    "\n",
    "    distance_matrix = np.array([\n",
    "        [\n",
    "#             float(distance_dict[(i, j)] + distance_dict[(j, i)])\n",
    "            float(distance_dict[(i, j)])\n",
    "            if i != j\n",
    "            else 0.0\n",
    "            for j in range(len(taxon_to_index))\n",
    "        ]\n",
    "        for i in range(len(taxon_to_index))\n",
    "    ])\n",
    "\n",
    "    return distance_matrix, label_list\n"
   ]
  },
  {
   "cell_type": "code",
   "execution_count": null,
   "metadata": {},
   "outputs": [],
   "source": [
    "def construct_linkage(df):\n",
    "    assert len(df['Treatment'].unique() == 1)\n",
    "    distance_matrix, label_list = create_distance_matrix(df)\n",
    "    np.nan_to_num(distance_matrix, nan=max_gen+1, copy=False)\n",
    "    condensed_distance_matrix = scipy_squareform(\n",
    "        distance_matrix,\n",
    "    )\n",
    "    return scipy_linkage(\n",
    "        condensed_distance_matrix,\n",
    "        method='complete',\n",
    "    ), label_list\n"
   ]
  },
  {
   "cell_type": "code",
   "execution_count": null,
   "metadata": {},
   "outputs": [],
   "source": [
    "linkages = {\n",
    "    treatment: construct_linkage(group)\n",
    "    for treatment, group in tqdm(df.groupby('Treatment'))\n",
    "}\n"
   ]
  },
  {
   "cell_type": "code",
   "execution_count": null,
   "metadata": {},
   "outputs": [],
   "source": [
    "for treatment, (linkage, label_list) in linkages.items():\n",
    "    tp.tee(\n",
    "        scipy_dendrogram,\n",
    "        linkage,\n",
    "        labels=label_list,\n",
    "        orientation='top',\n",
    "        distance_sort='descending',\n",
    "        teeplot_outattrs={\n",
    "            'treatment' : kn.demote(treatment),\n",
    "        },\n",
    "    )\n",
    "    plt.show()\n"
   ]
  },
  {
   "cell_type": "code",
   "execution_count": null,
   "metadata": {},
   "outputs": [],
   "source": [
    "trees = {\n",
    "    treatment: apc.scipy_linkage_matrix_to_dendropy_tree(\n",
    "        linkage,\n",
    "        leaf_taxon_labels=label_list,\n",
    "    )\n",
    "    \\for treatment, (linkage, label_list) in linkages.items()\n",
    "}\n"
   ]
  },
  {
   "cell_type": "code",
   "execution_count": null,
   "metadata": {},
   "outputs": [],
   "source": [
    "alife_dataframes = {\n",
    "    treatment: apc.dendropy_tree_to_alife_dataframe(tree)\n",
    "    for treatment, tree in trees.items()\n",
    "}\n",
    "for treatment, df in alife_dataframes.items():\n",
    "    df['Treatment'] = treatment\n"
   ]
  },
  {
   "cell_type": "code",
   "execution_count": null,
   "metadata": {},
   "outputs": [],
   "source": [
    "res_df = pd.concat(alife_dataframes.values()).reset_index()\n"
   ]
  },
  {
   "cell_type": "code",
   "execution_count": null,
   "metadata": {},
   "outputs": [],
   "source": [
    "res_df\n"
   ]
  },
  {
   "cell_type": "code",
   "execution_count": null,
   "metadata": {},
   "outputs": [],
   "source": [
    "nbm.print_dataframe_synopsis(res_df)\n"
   ]
  },
  {
   "cell_type": "code",
   "execution_count": null,
   "metadata": {},
   "outputs": [],
   "source": [
    "res_df.to_csv(\n",
    "    f'a=reconstructed_phylogenies+source={kn.unpack(data_filename)[\"source\"]}',\n",
    "    compression='gzip',\n",
    ")\n"
   ]
  }
 ],
 "metadata": {
  "kernelspec": {
   "display_name": "Python 3",
   "language": "python",
   "name": "python3"
  },
  "language_info": {
   "codemirror_mode": {
    "name": "ipython",
    "version": 3
   },
   "file_extension": ".py",
   "mimetype": "text/x-python",
   "name": "python",
   "nbconvert_exporter": "python",
   "pygments_lexer": "ipython3",
   "version": "3.8.10"
  }
 },
 "nbformat": 4,
 "nbformat_minor": 5
}
