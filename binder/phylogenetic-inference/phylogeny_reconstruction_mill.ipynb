{
 "cells": [
  {
   "cell_type": "code",
   "execution_count": 1,
   "id": "aff6d5bf",
   "metadata": {},
   "outputs": [],
   "source": [
    "import endomill\n",
    "from nbmetalog import nbmetalog as nbm\n"
   ]
  },
  {
   "cell_type": "code",
   "execution_count": 2,
   "id": "e7f95a9e",
   "metadata": {},
   "outputs": [
    {
     "name": "stdout",
     "output_type": "stream",
     "text": [
      "context: ci\n",
      "hostname: 6bbf4a479cf4\n",
      "interpreter: 3.8.12 (default, Jan 15 2022, 18:39:47)  [GCC 7.5.0]\n",
      "nbcellexec: 2\n",
      "nbname: phylogeny_reconstruction_mill\n",
      "nbpath: /opt/hereditary-stratigraph-concept/binder/phylogenetic-inference/phylogeny_reconstruction_mill.ipynb\n",
      "revision: null\n",
      "session: 88c1a650-c203-43df-8ab4-45554e4b8e2f\n",
      "timestamp: 2022-05-21T05:58:18Z00:00\n",
      "\n",
      "\n",
      "IPython==7.16.1\n",
      "keyname==0.4.1\n",
      "yaml==5.3.1\n",
      "endomill==0.1.3\n",
      "nbmetalog==0.2.6\n",
      "re==2.2.1\n",
      "ipython_genutils==0.2.0\n",
      "logging==0.5.1.2\n",
      "zmq==22.3.0\n",
      "json==2.0.9\n",
      "ipykernel==5.5.3\n"
     ]
    }
   ],
   "source": [
    "nbm.print_metadata()\n"
   ]
  },
  {
   "cell_type": "code",
   "execution_count": 3,
   "id": "a89dfb2a",
   "metadata": {},
   "outputs": [
    {
     "name": "stdout",
     "output_type": "stream",
     "text": [
      "👷🪓 milling {'data_url': 'https://github.com/mmore500/hereditary-stratigraph-concept/blob/f21c71cc31c6cc3eed4bbd47bfce2208020ce930/binder/phylogenetic-inference/a=pairwise_mrca_estimates+source=nk_ecoeaselection_seed110_pop100_mut.01_snapshot_3000.csv.gz'} ...\n"
     ]
    },
    {
     "data": {
      "application/javascript": [
       "Jupyter.notebook.kernel.interrupt()"
      ],
      "text/plain": [
       "<IPython.core.display.Javascript object>"
      ]
     },
     "metadata": {},
     "output_type": "display_data"
    },
    {
     "name": "stderr",
     "output_type": "stream",
     "text": [
      "Input notebook does not contain a cell with tag 'parameters'\n"
     ]
    },
    {
     "name": "stdout",
     "output_type": "stream",
     "text": [
      "🪵✨ milled a=phylogeny_reconstruction+source=nk_ecoeaselection_seed110_pop100_mut.01_snapshot_3000.csv.gz.endomill.ipynb\n"
     ]
    },
    {
     "data": {
      "text/html": [
       "&nbsp;&nbsp;&nbsp;&nbsp;&nbsp;&nbsp;&nbsp;&nbsp;📎 <a href=\"a=phylogeny_reconstruction+source=nk_ecoeaselection_seed110_pop100_mut.01_snapshot_3000.csv.gz.endomill.ipynb\">a=phylogeny_reconstruction+source=nk_ecoeaselection_seed110_pop100_mut.01_snapshot_3000.csv.gz.endomill.ipynb</a>"
      ],
      "text/plain": [
       "<IPython.core.display.HTML object>"
      ]
     },
     "metadata": {},
     "output_type": "display_data"
    },
    {
     "name": "stdout",
     "output_type": "stream",
     "text": [
      "\n",
      "👷🪓 milling {'data_url': 'https://github.com/mmore500/hereditary-stratigraph-concept/blob/f21c71cc31c6cc3eed4bbd47bfce2208020ce930/binder/phylogenetic-inference/a=pairwise_mrca_estimates+source=nk_lexicaseselection_seed110_pop165_mut.01_snapshot_500.csv.gz'} ...\n"
     ]
    },
    {
     "data": {
      "application/javascript": [
       "Jupyter.notebook.kernel.interrupt()"
      ],
      "text/plain": [
       "<IPython.core.display.Javascript object>"
      ]
     },
     "metadata": {},
     "output_type": "display_data"
    },
    {
     "name": "stderr",
     "output_type": "stream",
     "text": [
      "Input notebook does not contain a cell with tag 'parameters'\n"
     ]
    },
    {
     "name": "stdout",
     "output_type": "stream",
     "text": [
      "🪵✨ milled a=phylogeny_reconstruction+source=nk_lexicaseselection_seed110_pop165_mut.01_snapshot_500.csv.gz.endomill.ipynb\n"
     ]
    },
    {
     "data": {
      "text/html": [
       "&nbsp;&nbsp;&nbsp;&nbsp;&nbsp;&nbsp;&nbsp;&nbsp;📎 <a href=\"a=phylogeny_reconstruction+source=nk_lexicaseselection_seed110_pop165_mut.01_snapshot_500.csv.gz.endomill.ipynb\">a=phylogeny_reconstruction+source=nk_lexicaseselection_seed110_pop165_mut.01_snapshot_500.csv.gz.endomill.ipynb</a>"
      ],
      "text/plain": [
       "<IPython.core.display.HTML object>"
      ]
     },
     "metadata": {},
     "output_type": "display_data"
    },
    {
     "name": "stdout",
     "output_type": "stream",
     "text": [
      "\n",
      "👷🪓 milling {'data_url': 'https://github.com/mmore500/hereditary-stratigraph-concept/blob/f21c71cc31c6cc3eed4bbd47bfce2208020ce930/binder/phylogenetic-inference/a=pairwise_mrca_estimates+source=nk_randomselection_seed7_pop100_mut.01_snapshot_5000.csv.gz'} ...\n"
     ]
    },
    {
     "data": {
      "application/javascript": [
       "Jupyter.notebook.kernel.interrupt()"
      ],
      "text/plain": [
       "<IPython.core.display.Javascript object>"
      ]
     },
     "metadata": {},
     "output_type": "display_data"
    },
    {
     "name": "stderr",
     "output_type": "stream",
     "text": [
      "Input notebook does not contain a cell with tag 'parameters'\n"
     ]
    },
    {
     "name": "stdout",
     "output_type": "stream",
     "text": [
      "🪵✨ milled a=phylogeny_reconstruction+source=nk_randomselection_seed7_pop100_mut.01_snapshot_5000.csv.gz.endomill.ipynb\n"
     ]
    },
    {
     "data": {
      "text/html": [
       "&nbsp;&nbsp;&nbsp;&nbsp;&nbsp;&nbsp;&nbsp;&nbsp;📎 <a href=\"a=phylogeny_reconstruction+source=nk_randomselection_seed7_pop100_mut.01_snapshot_5000.csv.gz.endomill.ipynb\">a=phylogeny_reconstruction+source=nk_randomselection_seed7_pop100_mut.01_snapshot_5000.csv.gz.endomill.ipynb</a>"
      ],
      "text/plain": [
       "<IPython.core.display.HTML object>"
      ]
     },
     "metadata": {},
     "output_type": "display_data"
    },
    {
     "name": "stdout",
     "output_type": "stream",
     "text": [
      "\n",
      "👷🪓 milling {'data_url': 'https://github.com/mmore500/hereditary-stratigraph-concept/blob/f21c71cc31c6cc3eed4bbd47bfce2208020ce930/binder/phylogenetic-inference/a=pairwise_mrca_estimates+source=nk_sharingselection_seed10_pop100_mut.01_snapshot_5000.csv.gz'} ...\n"
     ]
    },
    {
     "data": {
      "application/javascript": [
       "Jupyter.notebook.kernel.interrupt()"
      ],
      "text/plain": [
       "<IPython.core.display.Javascript object>"
      ]
     },
     "metadata": {},
     "output_type": "display_data"
    },
    {
     "name": "stderr",
     "output_type": "stream",
     "text": [
      "Input notebook does not contain a cell with tag 'parameters'\n"
     ]
    },
    {
     "name": "stdout",
     "output_type": "stream",
     "text": [
      "🪵✨ milled a=phylogeny_reconstruction+source=nk_sharingselection_seed10_pop100_mut.01_snapshot_5000.csv.gz.endomill.ipynb\n"
     ]
    },
    {
     "data": {
      "text/html": [
       "&nbsp;&nbsp;&nbsp;&nbsp;&nbsp;&nbsp;&nbsp;&nbsp;📎 <a href=\"a=phylogeny_reconstruction+source=nk_sharingselection_seed10_pop100_mut.01_snapshot_5000.csv.gz.endomill.ipynb\">a=phylogeny_reconstruction+source=nk_sharingselection_seed10_pop100_mut.01_snapshot_5000.csv.gz.endomill.ipynb</a>"
      ],
      "text/plain": [
       "<IPython.core.display.HTML object>"
      ]
     },
     "metadata": {},
     "output_type": "display_data"
    },
    {
     "name": "stdout",
     "output_type": "stream",
     "text": [
      "\n",
      "👷🪓 milling {'data_url': 'https://github.com/mmore500/hereditary-stratigraph-concept/blob/f21c71cc31c6cc3eed4bbd47bfce2208020ce930/binder/phylogenetic-inference/a=pairwise_mrca_estimates+source=nk_tournamentselection_seed140_pop100_mut.01_snapshot_5000.csv.gz'} ...\n"
     ]
    },
    {
     "data": {
      "application/javascript": [
       "Jupyter.notebook.kernel.interrupt()"
      ],
      "text/plain": [
       "<IPython.core.display.Javascript object>"
      ]
     },
     "metadata": {},
     "output_type": "display_data"
    },
    {
     "name": "stderr",
     "output_type": "stream",
     "text": [
      "Input notebook does not contain a cell with tag 'parameters'\n"
     ]
    },
    {
     "name": "stdout",
     "output_type": "stream",
     "text": [
      "🪵✨ milled a=phylogeny_reconstruction+source=nk_tournamentselection_seed140_pop100_mut.01_snapshot_5000.csv.gz.endomill.ipynb\n"
     ]
    },
    {
     "data": {
      "text/html": [
       "&nbsp;&nbsp;&nbsp;&nbsp;&nbsp;&nbsp;&nbsp;&nbsp;📎 <a href=\"a=phylogeny_reconstruction+source=nk_tournamentselection_seed140_pop100_mut.01_snapshot_5000.csv.gz.endomill.ipynb\">a=phylogeny_reconstruction+source=nk_tournamentselection_seed140_pop100_mut.01_snapshot_5000.csv.gz.endomill.ipynb</a>"
      ],
      "text/plain": [
       "<IPython.core.display.HTML object>"
      ]
     },
     "metadata": {},
     "output_type": "display_data"
    },
    {
     "name": "stdout",
     "output_type": "stream",
     "text": [
      "\n",
      "🏠🍻 milling complete!\n"
     ]
    },
    {
     "data": {
      "application/javascript": [
       "Jupyter.notebook.kernel.interrupt()"
      ],
      "text/plain": [
       "<IPython.core.display.Javascript object>"
      ]
     },
     "metadata": {},
     "output_type": "display_data"
    },
    {
     "name": "stdout",
     "output_type": "stream",
     "text": [
      "🌛💤 disabling notebok by overriding IPython with nop runner\n"
     ]
    }
   ],
   "source": [
    "base_url = (\n",
    "    'https://github.com/mmore500/hereditary-stratigraph-concept/'\n",
    "    'blob/f21c71cc31c6cc3eed4bbd47bfce2208020ce930/'\n",
    "    'binder/phylogenetic-inference/'\n",
    ")\n",
    "\n",
    "data_urls = [\n",
    "    base_url + 'a=pairwise_mrca_estimates+source=nk_ecoeaselection_seed110_pop100_mut.01_snapshot_3000.csv.gz',\n",
    "    base_url + 'a=pairwise_mrca_estimates+source=nk_lexicaseselection_seed110_pop165_mut.01_snapshot_500.csv.gz',\n",
    "    base_url + 'a=pairwise_mrca_estimates+source=nk_randomselection_seed7_pop100_mut.01_snapshot_5000.csv.gz',\n",
    "    base_url + 'a=pairwise_mrca_estimates+source=nk_sharingselection_seed10_pop100_mut.01_snapshot_5000.csv.gz',\n",
    "    base_url + 'a=pairwise_mrca_estimates+source=nk_tournamentselection_seed140_pop100_mut.01_snapshot_5000.csv.gz',\n",
    "]\n",
    "\n",
    "endomill.instantiate_over(\n",
    "    parameter_packs=[\n",
    "        {'data_url': data_url}\n",
    "        for data_url in data_urls\n",
    "    ],\n",
    ")\n"
   ]
  },
  {
   "cell_type": "code",
   "execution_count": 4,
   "id": "02c06ec0",
   "metadata": {},
   "outputs": [],
   "source": [
    "#define papermil parameters\n",
    "data_url: str\n"
   ]
  },
  {
   "cell_type": "code",
   "execution_count": 5,
   "id": "c30bc85d",
   "metadata": {},
   "outputs": [],
   "source": [
    "import alifedata_phyloinformatics_convert as apc\n",
    "from Bio import Phylo\n",
    "from Bio.Phylo.TreeConstruction import DistanceMatrix, DistanceTreeConstructor\n",
    "from collections import Counter\n",
    "from iterpop import iterpop as ip\n",
    "import itertools as it\n",
    "from keyname import keyname as kn\n",
    "from matplotlib import pyplot as plt\n",
    "import numpy as np\n",
    "from os.path import basename\n",
    "import pandas as pd\n",
    "import sys\n",
    "from teeplot import teeplot as tp\n",
    "from tqdm import tqdm\n",
    "import warnings\n"
   ]
  },
  {
   "cell_type": "code",
   "execution_count": 6,
   "id": "1e576c78",
   "metadata": {},
   "outputs": [],
   "source": [
    "from pylib import draw_biopython_tree_with_origin_time_bounds\n"
   ]
  },
  {
   "cell_type": "code",
   "execution_count": 7,
   "id": "4890b763",
   "metadata": {},
   "outputs": [],
   "source": [
    "nbm.print_metadata()\n"
   ]
  },
  {
   "cell_type": "code",
   "execution_count": 8,
   "id": "84144378",
   "metadata": {},
   "outputs": [],
   "source": [
    "df = pd.read_csv(\n",
    "    f'{data_url}?raw=true',\n",
    "    compression='gzip',\n",
    ")\n",
    "\n",
    "nbm.print_dataframe_synopsis(df)\n",
    "\n",
    "data_filename = basename(data_url)\n",
    "\n",
    "print(data_filename)\n"
   ]
  },
  {
   "cell_type": "code",
   "execution_count": 9,
   "id": "27e3814a",
   "metadata": {},
   "outputs": [],
   "source": [
    "endomill.add_instance_outpath(\n",
    "    f'a=phylogeny_reconstruction+source={kn.unpack(data_filename)[\"source\"]}.endomill.ipynb'\n",
    ")\n"
   ]
  },
  {
   "cell_type": "code",
   "execution_count": 10,
   "id": "59ff974a",
   "metadata": {},
   "outputs": [],
   "source": [
    "df['Treatment'] = df.apply(\n",
    "    lambda row: kn.pack({\n",
    "        'target': row['Stratigraphic Column Target Retained Bits'],\n",
    "        'differentia': row['Differentia Bit Width'],\n",
    "        'policy': row['Stratum Retention Policy'],\n",
    "    }),\n",
    "    axis=1,\n",
    ")\n"
   ]
  },
  {
   "cell_type": "code",
   "execution_count": 11,
   "id": "b628d599",
   "metadata": {},
   "outputs": [],
   "source": [
    "max_gen = df['Generation of Taxon Compared From'].max()\n"
   ]
  },
  {
   "cell_type": "code",
   "execution_count": 12,
   "id": "52762294",
   "metadata": {},
   "outputs": [],
   "source": [
    "def create_distance_matrix(df):\n",
    "    assert len(df['Treatment'].unique() == 1)\n",
    "\n",
    "    counter = it.count()\n",
    "    taxon_to_index = {\n",
    "        taxon : next(counter)\n",
    "        for taxon in df['Taxon Compared From'].unique()\n",
    "    }\n",
    "    label_list = sorted(\n",
    "        [*df['Taxon Compared From'].unique()],\n",
    "        key=lambda x: taxon_to_index[x],\n",
    "    )\n",
    "    assert len(label_list) == len(taxon_to_index)\n",
    "\n",
    "    def row_to_mrca_time_mid(row):\n",
    "        mrca_lb = row['Generation Of MRCA Lower Bound (inclusive)']\n",
    "        mrca_ub = row['Generation Of MRCA Upper Bound (exclusive)']\n",
    "        earliest_detectable_mrca = row['Rank of Earliest Detectable Mrca With']\n",
    "        taxon1_gen = row['Generation of Taxon Compared From']\n",
    "        taxon2_gen = row['Generation of Taxon Compared To']\n",
    "\n",
    "        if not np.isnan(mrca_lb) and not np.isnan(mrca_ub):\n",
    "            return (mrca_lb + mrca_ub - 1) / 2 # ub is exclusive\n",
    "        elif earliest_detectable_mrca == 0:\n",
    "            # we are confident that no mrca exists, but return 0\n",
    "            return 0\n",
    "        elif np.isnan(mrca_ub) and not np.isnan(earliest_detectable_mrca):\n",
    "            assert np.isnan(mrca_lb)\n",
    "            return (earliest_detectable_mrca - 1) / 2 # exclusive\n",
    "        else:\n",
    "            assert np.isnan(mrca_lb) and np.isnan(mrca_ub) and np.isnan(earliest_detectable_mrca)\n",
    "            ub = min(taxon1_gen, taxon2_gen)\n",
    "            return ub / 2\n",
    "    mrca_time_mid_dict = {\n",
    "        (row['Taxon Compared From'], row['Taxon Compared To']):\n",
    "             row_to_mrca_time_mid(row)\n",
    "        for __, row in df.iterrows()\n",
    "    }\n",
    "    assert not any(np.isnan(x) for x in mrca_time_mid_dict.values())\n",
    "\n",
    "    distance_dict = {\n",
    "        (taxon_to_index[row['Taxon Compared From']], taxon_to_index[row['Taxon Compared To']]):\n",
    "            row['Generation of Taxon Compared From']\n",
    "            + row['Generation of Taxon Compared To']\n",
    "            - 2 * mrca_time_mid_dict[\n",
    "                (row['Taxon Compared From'], row['Taxon Compared To'])\n",
    "            ]\n",
    "        for __, row in df.iterrows()\n",
    "    }\n",
    "    assert not any(np.isnan(x) for x in distance_dict.values())\n",
    "\n",
    "    distance_matrix = np.array([\n",
    "        [\n",
    "            float(distance_dict[(i, j)] + distance_dict[(j, i)])\n",
    "            if i != j\n",
    "            else 0.0\n",
    "            for j in range(len(taxon_to_index))\n",
    "        ]\n",
    "        for i in range(len(taxon_to_index))\n",
    "    ])\n",
    "\n",
    "    return distance_matrix, label_list\n"
   ]
  },
  {
   "cell_type": "code",
   "execution_count": 13,
   "id": "0135545f",
   "metadata": {},
   "outputs": [],
   "source": [
    "def to_tril(matrix):\n",
    "    return [\n",
    "        row[:row_idx] + [0]\n",
    "        for row_idx, row in enumerate(matrix.tolist())\n",
    "    ]\n"
   ]
  },
  {
   "cell_type": "code",
   "execution_count": 14,
   "id": "2784d977",
   "metadata": {},
   "outputs": [],
   "source": [
    "def distance_construct_tree(df, algorithm):\n",
    "    def row_to_mrca_time_lb(row):\n",
    "        mrca_lb = row['Generation Of MRCA Lower Bound (inclusive)']\n",
    "        if not np.isnan(mrca_lb):\n",
    "            return mrca_lb\n",
    "        else:\n",
    "            assert np.isnan(row['Generation Of MRCA Upper Bound (exclusive)'])\n",
    "            return 0\n",
    "    mrca_time_lb_dict = {\n",
    "        (row['Taxon Compared From'], row['Taxon Compared To']):\n",
    "            row_to_mrca_time_lb(row)\n",
    "        for __, row in df.iterrows()\n",
    "    }\n",
    "    assert not any(np.isnan(x) for x in mrca_time_lb_dict.values())\n",
    "\n",
    "    def row_to_mrca_time_ub(row):\n",
    "        mrca_ub = row['Generation Of MRCA Upper Bound (exclusive)']\n",
    "        earliest_detectable_mrca = row['Rank of Earliest Detectable Mrca With']\n",
    "        taxon1_gen = row['Generation of Taxon Compared From']\n",
    "        taxon2_gen = row['Generation of Taxon Compared To']\n",
    "        if not np.isnan(mrca_ub):\n",
    "            return mrca_ub\n",
    "        elif not np.isnan(earliest_detectable_mrca):\n",
    "            return earliest_detectable_mrca\n",
    "        else:\n",
    "            assert np.isnan(mrca_ub) and np.isnan(earliest_detectable_mrca)\n",
    "            return min(taxon1_gen, taxon2_gen) + 1 #exclusive\n",
    "    mrca_time_ub_dict = {\n",
    "        (row['Taxon Compared From'], row['Taxon Compared To']):\n",
    "            row_to_mrca_time_ub(row)\n",
    "        for __, row in df.iterrows()\n",
    "    }\n",
    "    assert not any(np.isnan(x) for x in mrca_time_ub_dict.values())\n",
    "\n",
    "    for __, row in df.iterrows():\n",
    "        mrca_time_lb_dict[(row['Taxon Compared From'], row['Taxon Compared From'])] \\\n",
    "            = row['Generation of Taxon Compared From'] # inclusive\n",
    "        mrca_time_ub_dict[(row['Taxon Compared From'], row['Taxon Compared From'])] \\\n",
    "            = row['Generation of Taxon Compared From'] + 1 # exclusive\n",
    "\n",
    "\n",
    "    assert len(df['Treatment'].unique() == 1)\n",
    "    distance_matrix, label_list = create_distance_matrix(df)\n",
    "    assert not np.isnan(distance_matrix.sum())\n",
    "    dm = DistanceMatrix([*map(str, label_list)], to_tril(distance_matrix))\n",
    "    tree = getattr(DistanceTreeConstructor(), algorithm)(dm)\n",
    "\n",
    "    # fixup orign times\n",
    "    for node in tree.find_clades():\n",
    "        node.origin_time_lbs = []\n",
    "        node.origin_time_ubs = []\n",
    "\n",
    "    for leaf1, leaf2 in it.product(tree.get_terminals(), tree.get_terminals()):\n",
    "        mrca_node = tree.common_ancestor(leaf1, leaf2)\n",
    "        if leaf1 == leaf2:\n",
    "            assert mrca_node == leaf1\n",
    "\n",
    "        mrca_time_lb = mrca_time_lb_dict[(int(leaf1.name), int(leaf2.name))]\n",
    "        assert not np.isnan(mrca_time_lb)\n",
    "        mrca_node.origin_time_lbs.append(mrca_time_lb)\n",
    "\n",
    "        mrca_time_ub = mrca_time_ub_dict[(int(leaf1.name), int(leaf2.name))]\n",
    "        assert not np.isnan(mrca_time_ub)\n",
    "        mrca_node.origin_time_ubs.append(mrca_time_ub)\n",
    "\n",
    "    for node in tree.find_clades():\n",
    "        assert node.origin_time_lbs\n",
    "        assert node.origin_time_ubs\n",
    "\n",
    "        # upper bound is a hard bound,\n",
    "        # so anything above the lowest upper bound\n",
    "        # is strictly impossible\n",
    "        node.origin_time_ub = np.min(node.origin_time_ubs)\n",
    "\n",
    "        # to calculate the consolidated lower bound\n",
    "        # find all bounds with an upper component that is\n",
    "        # has not been undercut\n",
    "        # and then pick the strictest among those\n",
    "        node.origin_time_lb = np.max([\n",
    "            lb\n",
    "            for lb, ub in zip(\n",
    "                node.origin_time_lbs,\n",
    "                node.origin_time_ubs,\n",
    "            )\n",
    "            if ub <= node.origin_time_ub\n",
    "        ])\n",
    "\n",
    "        assert node.origin_time_ub > node.origin_time_lb\n",
    "\n",
    "        node.origin_time_est = np.mean([node.origin_time_lb, node.origin_time_ub - 1])\n",
    "\n",
    "    # reroot tree\n",
    "    new_root = min(tree.find_clades(), key=lambda node: node.origin_time_est)\n",
    "    tree.root_with_outgroup(new_root)\n",
    "\n",
    "    # fixup branch lengths\n",
    "    tree.root.branch_length = tree.root.origin_time_est\n",
    "    for node in tree.find_clades():\n",
    "        for child in node.clades:\n",
    "            child.branch_length = child.origin_time_est - node.origin_time_est\n",
    "\n",
    "    # sort clades for consistent display\n",
    "    for node in tree.find_clades(order='postorder'):\n",
    "        if node.clades:\n",
    "            node.max_descendant = max(child.max_descendant for child in node.clades)\n",
    "        else:\n",
    "            node.max_descendant = int(node.name)\n",
    "        node.clades.sort(key=lambda node: node.max_descendant)\n",
    "\n",
    "    return tree\n"
   ]
  },
  {
   "cell_type": "code",
   "execution_count": 15,
   "id": "6a7db562",
   "metadata": {},
   "outputs": [],
   "source": [
    "def nj(df): return distance_construct_tree(df, 'nj')\n",
    "def upgma(df): return distance_construct_tree(df, 'upgma')\n",
    "\n",
    "trees = {\n",
    "    (treatment, algorithm): algorithm(group)\n",
    "    for treatment, group in tqdm(df.groupby('Treatment'))\n",
    "    for algorithm in (\n",
    "        # disabled nj due to obvious discrepancies\n",
    "        # with respect to origin time of internal nodes\n",
    "        # that break assertions\n",
    "        # nj,\n",
    "        upgma,\n",
    "    )\n",
    "}\n"
   ]
  },
  {
   "cell_type": "code",
   "execution_count": 16,
   "id": "5f499c4c",
   "metadata": {},
   "outputs": [],
   "source": [
    "taxon_rename_dict = {\n",
    "    str(taxon): np.base_repr(i, 36).lower()\n",
    "    for i, taxon\n",
    "    in enumerate(sorted(df['Taxon Compared From'].unique()))\n",
    "}\n",
    "for (treatment, algorithm), tree in trees.items():\n",
    "    tp.tee(\n",
    "        draw_biopython_tree_with_origin_time_bounds,\n",
    "        tree,\n",
    "        label_func=lambda node: None if 'Inner' in str(node) else taxon_rename_dict[str(node)],\n",
    "        teeplot_outattrs={\n",
    "            'algorithm' : algorithm.__name__,\n",
    "            'treatment' : kn.demote(treatment),\n",
    "        },\n",
    "    )\n",
    "    plt.show()\n"
   ]
  },
  {
   "cell_type": "code",
   "execution_count": 17,
   "id": "7986f14e",
   "metadata": {},
   "outputs": [],
   "source": [
    "alife_dataframes = {\n",
    "    (treatment, algorithm): apc.biopython_tree_to_alife_dataframe(\n",
    "        tree,\n",
    "        exportattrs={\n",
    "            'origin_time_lb': 'Origin Time Lower Bound (Inclusive)',\n",
    "            'origin_time_ub': 'Origin Time Upper Bound (Exclusive)',\n",
    "            'origin_time_est': 'Origin Time Estimate',\n",
    "        }\n",
    "    )\n",
    "    for (treatment, algorithm), tree in trees.items()\n",
    "}\n",
    "for (treatment, algorithm), df in alife_dataframes.items():\n",
    "    df['Treatment'] = treatment\n",
    "    df['Algorithm'] = algorithm\n"
   ]
  },
  {
   "cell_type": "code",
   "execution_count": 18,
   "id": "b4f19122",
   "metadata": {},
   "outputs": [],
   "source": [
    "res_df = pd.concat(alife_dataframes.values()).reset_index()\n"
   ]
  },
  {
   "cell_type": "code",
   "execution_count": 19,
   "id": "93fca515",
   "metadata": {},
   "outputs": [],
   "source": [
    "res_df\n"
   ]
  },
  {
   "cell_type": "code",
   "execution_count": 20,
   "id": "0572186f",
   "metadata": {},
   "outputs": [],
   "source": [
    "nbm.print_dataframe_synopsis(res_df)\n"
   ]
  },
  {
   "cell_type": "code",
   "execution_count": 21,
   "id": "218b683c",
   "metadata": {},
   "outputs": [],
   "source": [
    "res_df.to_csv(\n",
    "    f'a=reconstructed_phylogenies+source={kn.unpack(data_filename)[\"source\"]}',\n",
    "    compression='gzip',\n",
    ")\n",
    "res_df.to_csv(\n",
    "    f'a=reconstructed_phylogenies+source={kn.unpack(data_filename)[\"source\"][:-len(\".gz\")]}',\n",
    ")\n"
   ]
  }
 ],
 "metadata": {
  "kernelspec": {
   "display_name": "Python 3",
   "language": "python",
   "name": "python3"
  },
  "language_info": {
   "codemirror_mode": {
    "name": "ipython",
    "version": 3
   },
   "file_extension": ".py",
   "mimetype": "text/x-python",
   "name": "python",
   "nbconvert_exporter": "python",
   "pygments_lexer": "ipython3",
   "version": "3.8.12"
  }
 },
 "nbformat": 4,
 "nbformat_minor": 5
}
