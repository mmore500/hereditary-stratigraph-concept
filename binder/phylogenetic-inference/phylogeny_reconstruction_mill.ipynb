{
 "cells": [
  {
   "cell_type": "code",
   "execution_count": null,
   "metadata": {},
   "outputs": [],
   "source": [
    "import endomill\n",
    "from nbmetalog import nbmetalog as nbm\n"
   ]
  },
  {
   "cell_type": "code",
   "execution_count": null,
   "metadata": {},
   "outputs": [],
   "source": [
    "nbm.print_metadata()\n"
   ]
  },
  {
   "cell_type": "code",
   "execution_count": null,
   "metadata": {},
   "outputs": [],
   "source": [
    "data_urls = [\n",
    "    'https://github.com/mmore500/hereditary-stratigraph-concept/blob/89982d838379d5a26aabfef6889e1262fc3b289f/binder/phylogenetic-inference/a=pairwise_mrca_estimates+source=nk_lexicaseselection_seed110_pop165_mut.01_snapshot_500.csv.gz',\n",
    "    'https://github.com/mmore500/hereditary-stratigraph-concept/blob/89982d838379d5a26aabfef6889e1262fc3b289f/binder/phylogenetic-inference/a=pairwise_mrca_estimates+source=nk_randomselection_seed7_pop100_mut.01_snapshot_5000.csv.gz',\n",
    "    'https://github.com/mmore500/hereditary-stratigraph-concept/blob/89982d838379d5a26aabfef6889e1262fc3b289f/binder/phylogenetic-inference/a=pairwise_mrca_estimates+source=nk_sharingselection_seed10_pop100_mut.01_snapshot_5000.csv.gz',\n",
    "    'https://github.com/mmore500/hereditary-stratigraph-concept/blob/89982d838379d5a26aabfef6889e1262fc3b289f/binder/phylogenetic-inference/a=pairwise_mrca_estimates+source=nk_tournamentselection_seed140_pop100_mut.01_snapshot_5000.csv.gz',\n",
    "]\n",
    "\n",
    "endomill.instantiate_over(\n",
    "    parameter_packs=[\n",
    "        {'data_url': data_url}\n",
    "        for data_url in data_urls\n",
    "    ],\n",
    ")\n"
   ]
  },
  {
   "cell_type": "code",
   "execution_count": null,
   "metadata": {},
   "outputs": [],
   "source": [
    "#define papermil parameters\n",
    "data_url: str\n"
   ]
  },
  {
   "cell_type": "code",
   "execution_count": null,
   "metadata": {},
   "outputs": [],
   "source": [
    "import alifedata_phyloinformatics_convert as apc\n",
    "from Bio import Phylo\n",
    "from Bio.Phylo.TreeConstruction import DistanceMatrix, DistanceTreeConstructor\n",
    "import itertools as it\n",
    "from keyname import keyname as kn\n",
    "from matplotlib import pyplot as plt\n",
    "import numpy as np\n",
    "from os.path import basename\n",
    "import pandas as pd\n",
    "import sys\n",
    "from teeplot import teeplot as tp\n",
    "from tqdm import tqdm\n"
   ]
  },
  {
   "cell_type": "code",
   "execution_count": null,
   "metadata": {},
   "outputs": [],
   "source": [
    "nbm.print_metadata()\n"
   ]
  },
  {
   "cell_type": "code",
   "execution_count": null,
   "metadata": {},
   "outputs": [],
   "source": [
    "df = pd.read_csv(\n",
    "    f'{data_url}?raw=true',\n",
    "    compression='gzip',\n",
    ")\n",
    "\n",
    "nbm.print_dataframe_synopsis(df)\n",
    "\n",
    "data_filename = basename(data_url)\n",
    "\n",
    "print(data_filename)\n"
   ]
  },
  {
   "cell_type": "code",
   "execution_count": null,
   "metadata": {},
   "outputs": [],
   "source": [
    "endomill.add_instance_outpath(\n",
    "    f'a=phylogeny_reconstruction+source={kn.unpack(data_filename)[\"source\"]}.endomill.ipynb'\n",
    ")\n"
   ]
  },
  {
   "cell_type": "code",
   "execution_count": null,
   "metadata": {},
   "outputs": [],
   "source": [
    "df['Treatment'] = df.apply(\n",
    "    lambda row: kn.pack({\n",
    "        'target': row['Stratigraphic Column Target Retained Bits'],\n",
    "        'differentia': row['Differentia Bit Width'],\n",
    "        'policy': row['Stratum Retention Policy'],\n",
    "    }),\n",
    "    axis=1,\n",
    ")\n"
   ]
  },
  {
   "cell_type": "code",
   "execution_count": null,
   "metadata": {},
   "outputs": [],
   "source": [
    "max_gen = df['Generation of Taxon Compared From'].max()\n"
   ]
  },
  {
   "cell_type": "code",
   "execution_count": null,
   "metadata": {},
   "outputs": [],
   "source": [
    "def create_distance_matrix(df):\n",
    "    assert len(df['Treatment'].unique() == 1)\n",
    "\n",
    "    counter = it.count()\n",
    "    taxon_to_index = {\n",
    "        taxon : next(counter)\n",
    "        for taxon in df['Taxon Compared From'].unique()\n",
    "    }\n",
    "    label_list = sorted(\n",
    "        [*df['Taxon Compared From'].unique()],\n",
    "        key=lambda x: taxon_to_index[x],\n",
    "    )\n",
    "    assert len(label_list) == len(taxon_to_index)\n",
    "    distance_dict = {\n",
    "        (taxon_to_index[row['Taxon Compared From']], taxon_to_index[row['Taxon Compared To']]):\n",
    "            row['Generation of Taxon Compared From']\n",
    "            - row['Generation Of MRCA Lower Bound (inclusive)']/2\n",
    "            - row['Generation Of MRCA Upper Bound (exclusive)']/2\n",
    "        for __, row in df.iterrows()\n",
    "    }\n",
    "\n",
    "    distance_matrix = np.array([\n",
    "        [\n",
    "            float(distance_dict[(i, j)] + distance_dict[(j, i)])\n",
    "            if i != j\n",
    "            else 0.0\n",
    "            for j in range(len(taxon_to_index))\n",
    "        ]\n",
    "        for i in range(len(taxon_to_index))\n",
    "    ])\n",
    "\n",
    "    return distance_matrix, label_list\n"
   ]
  },
  {
   "cell_type": "code",
   "execution_count": null,
   "metadata": {},
   "outputs": [],
   "source": [
    "def to_tril(matrix):\n",
    "    return [\n",
    "        row[:row_idx] + [0]\n",
    "        for row_idx, row in enumerate(matrix.tolist())\n",
    "    ]\n"
   ]
  },
  {
   "cell_type": "code",
   "execution_count": null,
   "metadata": {},
   "outputs": [],
   "source": [
    "mrca_dict = {\n",
    "    (row['Taxon Compared From'], row['Taxon Compared To']):\n",
    "        row['Generation Of MRCA Lower Bound (inclusive)']/2\n",
    "        + row['Generation Of MRCA Upper Bound (exclusive)']/2\n",
    "    for __, row in df.iterrows()\n",
    "}\n",
    "for __, row in df.iterrows():\n",
    "    mrca_dict[(row['Taxon Compared From'], row['Taxon Compared From'])] \\\n",
    "        = row['Generation of Taxon Compared From']\n",
    "\n",
    "def construct_tree(df, algorithm):\n",
    "    assert len(df['Treatment'].unique() == 1)\n",
    "    distance_matrix, label_list = create_distance_matrix(df)\n",
    "    np.nan_to_num(distance_matrix, nan=max_gen+1, copy=False)\n",
    "    dm = DistanceMatrix([*map(str, label_list)], to_tril(distance_matrix))\n",
    "    tree = getattr(DistanceTreeConstructor(), algorithm)(dm)\n",
    "\n",
    "    # fixup orign times\n",
    "    for leaf1, leaf2 in it.product(tree.get_terminals(), tree.get_terminals()):\n",
    "        mrca_node = tree.common_ancestor(leaf1, leaf2)\n",
    "        calculated_mrca_time = mrca_dict[(int(leaf1.name), int(leaf2.name))]\n",
    "        mrca_node.origin_time = calculated_mrca_time\n",
    "\n",
    "    # reroot tree\n",
    "    new_root = min(tree.find_clades(), key=lambda node: node.origin_time)\n",
    "    tree.root_with_outgroup(new_root)\n",
    "\n",
    "    # fixup branch lengths\n",
    "    tree.root.edge_length = tree.root.origin_time\n",
    "    for node in tree.find_clades():\n",
    "        for child in node.clades:\n",
    "            child.branch_length = child.origin_time - node.origin_time\n",
    "\n",
    "    # sort clades for consistent display\n",
    "    for node in tree.find_clades(order='postorder'):\n",
    "        if node.clades:\n",
    "            node.max_descendant = max(child.max_descendant for child in node.clades)\n",
    "        else:\n",
    "            node.max_descendant = int(node.name)\n",
    "        node.clades.sort(key=lambda node: node.max_descendant)\n",
    "\n",
    "    return tree\n"
   ]
  },
  {
   "cell_type": "code",
   "execution_count": null,
   "metadata": {},
   "outputs": [],
   "source": [
    "trees = {\n",
    "    (treatment, algorithm): construct_tree(group, algorithm)\n",
    "    for treatment, group in tqdm(df.groupby('Treatment'))\n",
    "    for algorithm in ('nj', 'upgma')\n",
    "}\n"
   ]
  },
  {
   "cell_type": "code",
   "execution_count": null,
   "metadata": {},
   "outputs": [],
   "source": [
    "for (treatment, algorithm), tree in trees.items():\n",
    "    tp.tee(\n",
    "        Phylo.draw,\n",
    "        tree,\n",
    "        label_func=lambda node: None if 'Inner' in str(node) else str(node),\n",
    "        teeplot_outattrs={\n",
    "            'algorithm' : algorithm,\n",
    "            'treatment' : kn.demote(treatment),\n",
    "        },\n",
    "    )\n",
    "    plt.show()\n"
   ]
  },
  {
   "cell_type": "code",
   "execution_count": null,
   "metadata": {},
   "outputs": [],
   "source": [
    "alife_dataframes = {\n",
    "    (treatment, algorithm): apc.biopython_tree_to_alife_dataframe(tree)\n",
    "    for (treatment, algorithm), tree in trees.items()\n",
    "}\n",
    "for (treatment, algorithm), df in alife_dataframes.items():\n",
    "    df['Treatment'] = treatment\n",
    "    df['Algorithm'] = algorithm\n"
   ]
  },
  {
   "cell_type": "code",
   "execution_count": null,
   "metadata": {},
   "outputs": [],
   "source": [
    "res_df = pd.concat(alife_dataframes.values()).reset_index()\n"
   ]
  },
  {
   "cell_type": "code",
   "execution_count": null,
   "metadata": {},
   "outputs": [],
   "source": [
    "res_df\n"
   ]
  },
  {
   "cell_type": "code",
   "execution_count": null,
   "metadata": {},
   "outputs": [],
   "source": [
    "nbm.print_dataframe_synopsis(res_df)\n"
   ]
  },
  {
   "cell_type": "code",
   "execution_count": null,
   "metadata": {},
   "outputs": [],
   "source": [
    "res_df.to_csv(\n",
    "    f'a=reconstructed_phylogenies+source={kn.unpack(data_filename)[\"source\"]}',\n",
    "    compression='gzip',\n",
    ")\n"
   ]
  }
 ],
 "metadata": {
  "kernelspec": {
   "display_name": "Python 3",
   "language": "python",
   "name": "python3"
  },
  "language_info": {
   "codemirror_mode": {
    "name": "ipython",
    "version": 3
   },
   "file_extension": ".py",
   "mimetype": "text/x-python",
   "name": "python",
   "nbconvert_exporter": "python",
   "pygments_lexer": "ipython3",
   "version": "3.8.10"
  }
 },
 "nbformat": 4,
 "nbformat_minor": 5
}
