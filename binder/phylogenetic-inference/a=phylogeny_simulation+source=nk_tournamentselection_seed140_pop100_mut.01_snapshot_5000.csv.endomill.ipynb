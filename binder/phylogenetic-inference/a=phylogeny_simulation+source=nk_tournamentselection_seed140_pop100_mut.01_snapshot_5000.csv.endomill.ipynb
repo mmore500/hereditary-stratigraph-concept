{
 "cells": [
  {
   "cell_type": "code",
   "execution_count": 1,
   "id": "dc72bfbf",
   "metadata": {
    "execution": {
     "iopub.execute_input": "2022-03-06T06:45:18.512157Z",
     "iopub.status.busy": "2022-03-06T06:45:18.511762Z",
     "iopub.status.idle": "2022-03-06T06:45:18.521161Z",
     "shell.execute_reply": "2022-03-06T06:45:18.520275Z"
    },
    "papermill": {
     "duration": 0.031947,
     "end_time": "2022-03-06T06:45:18.522958",
     "exception": false,
     "start_time": "2022-03-06T06:45:18.491011",
     "status": "completed"
    },
    "tags": [
     "injected-parameters"
    ]
   },
   "outputs": [],
   "source": [
    "# Parameters\n",
    "data_url = \"https://osf.io/5ubn8/\"\n"
   ]
  },
  {
   "cell_type": "code",
   "execution_count": 2,
   "id": "074bf2ba",
   "metadata": {
    "execution": {
     "iopub.execute_input": "2022-03-06T06:45:18.566055Z",
     "iopub.status.busy": "2022-03-06T06:45:18.565807Z",
     "iopub.status.idle": "2022-03-06T06:45:19.447846Z",
     "shell.execute_reply": "2022-03-06T06:45:19.446930Z"
    },
    "papermill": {
     "duration": 0.909426,
     "end_time": "2022-03-06T06:45:19.450037",
     "exception": false,
     "start_time": "2022-03-06T06:45:18.540611",
     "status": "completed"
    },
    "tags": []
   },
   "outputs": [],
   "source": [
    "import endomill\n",
    "from nbmetalog import nbmetalog as nbm\n"
   ]
  },
  {
   "cell_type": "code",
   "execution_count": 3,
   "id": "aa42f0e4",
   "metadata": {
    "execution": {
     "iopub.execute_input": "2022-03-06T06:45:19.488089Z",
     "iopub.status.busy": "2022-03-06T06:45:19.487870Z",
     "iopub.status.idle": "2022-03-06T06:45:19.865999Z",
     "shell.execute_reply": "2022-03-06T06:45:19.865127Z"
    },
    "papermill": {
     "duration": 0.398814,
     "end_time": "2022-03-06T06:45:19.867973",
     "exception": false,
     "start_time": "2022-03-06T06:45:19.469159",
     "status": "completed"
    },
    "tags": []
   },
   "outputs": [
    {
     "name": "stdout",
     "output_type": "stream",
     "text": [
      "context: ci\n",
      "hostname: 47dca9ab4cdc\n",
      "interpreter: 3.8.12 (default, Jan 15 2022, 18:39:47)  [GCC 7.5.0]\n",
      "nbcellexec: 3\n",
      "nbname: phylogeny_simulation_mill\n",
      "nbpath: /opt/hereditary-stratigraph-concept/binder/phylogenetic-inference/phylogeny_simulation_mill.ipynb\n",
      "revision: null\n",
      "session: 97368fd7-2d71-4bbb-815e-8e9418863fc0\n",
      "timestamp: 2022-03-06T06:45:19Z00:00\n",
      "\n",
      "\n"
     ]
    },
    {
     "name": "stdout",
     "output_type": "stream",
     "text": [
      "IPython==7.16.1\n",
      "keyname==0.4.1\n",
      "yaml==5.3.1\n",
      "endomill==0.1.2\n",
      "nbmetalog==0.2.6\n",
      "re==2.2.1\n",
      "ipython_genutils==0.2.0\n",
      "logging==0.5.1.2\n",
      "zmq==22.3.0\n",
      "json==2.0.9\n",
      "ipykernel==5.5.3\n"
     ]
    }
   ],
   "source": [
    "nbm.print_metadata()\n"
   ]
  },
  {
   "cell_type": "code",
   "execution_count": 4,
   "id": "372bd297",
   "metadata": {
    "execution": {
     "iopub.execute_input": "2022-03-06T06:45:19.907974Z",
     "iopub.status.busy": "2022-03-06T06:45:19.907716Z",
     "iopub.status.idle": "2022-03-06T06:45:19.913021Z",
     "shell.execute_reply": "2022-03-06T06:45:19.912307Z"
    },
    "papermill": {
     "duration": 0.026876,
     "end_time": "2022-03-06T06:45:19.914699",
     "exception": false,
     "start_time": "2022-03-06T06:45:19.887823",
     "status": "completed"
    },
    "tags": []
   },
   "outputs": [
    {
     "name": "stdout",
     "output_type": "stream",
     "text": [
      "detected executing.endomill.ipynb file\n",
      "skipping instantiate_over\n"
     ]
    }
   ],
   "source": [
    "endomill.instantiate_over(\n",
    "    parameter_packs=[\n",
    "        {'data_url': data_url}\n",
    "        for data_url in [\n",
    "            'https://osf.io/cz9fk/',\n",
    "            'https://osf.io/ydxt7/',\n",
    "            'https://osf.io/8ycq7/',\n",
    "            'https://osf.io/5ubn8/',\n",
    "        ]\n",
    "    ],\n",
    ")\n"
   ]
  },
  {
   "cell_type": "code",
   "execution_count": 5,
   "id": "c78b40ef",
   "metadata": {
    "execution": {
     "iopub.execute_input": "2022-03-06T06:45:19.953204Z",
     "iopub.status.busy": "2022-03-06T06:45:19.952954Z",
     "iopub.status.idle": "2022-03-06T06:45:19.957531Z",
     "shell.execute_reply": "2022-03-06T06:45:19.956841Z"
    },
    "papermill": {
     "duration": 0.026074,
     "end_time": "2022-03-06T06:45:19.959237",
     "exception": false,
     "start_time": "2022-03-06T06:45:19.933163",
     "status": "completed"
    },
    "tags": []
   },
   "outputs": [],
   "source": [
    "# define papermill parameters\n",
    "data_url: str\n"
   ]
  },
  {
   "cell_type": "code",
   "execution_count": 6,
   "id": "09b2a538",
   "metadata": {
    "execution": {
     "iopub.execute_input": "2022-03-06T06:45:19.999439Z",
     "iopub.status.busy": "2022-03-06T06:45:19.999237Z",
     "iopub.status.idle": "2022-03-06T06:45:20.106193Z",
     "shell.execute_reply": "2022-03-06T06:45:20.104786Z"
    },
    "papermill": {
     "duration": 0.129413,
     "end_time": "2022-03-06T06:45:20.108387",
     "exception": false,
     "start_time": "2022-03-06T06:45:19.978974",
     "status": "completed"
    },
    "tags": []
   },
   "outputs": [],
   "source": [
    "import anytree\n",
    "from bs4 import BeautifulSoup\n",
    "from collections import defaultdict\n",
    "from hstrat import hstrat\n",
    "from interval_search import doubling_search\n",
    "from iterpop import iterpop as ip\n",
    "import itertools as it\n",
    "from keyname import keyname as kn\n",
    "import opytional as opyt\n",
    "import pandas as pd\n",
    "import random\n",
    "import sys\n",
    "from tqdm import tqdm\n",
    "from urllib import request\n"
   ]
  },
  {
   "cell_type": "code",
   "execution_count": 7,
   "id": "bf2c27b2",
   "metadata": {
    "execution": {
     "iopub.execute_input": "2022-03-06T06:45:20.147517Z",
     "iopub.status.busy": "2022-03-06T06:45:20.147318Z",
     "iopub.status.idle": "2022-03-06T06:45:20.150804Z",
     "shell.execute_reply": "2022-03-06T06:45:20.150083Z"
    },
    "papermill": {
     "duration": 0.025016,
     "end_time": "2022-03-06T06:45:20.152545",
     "exception": false,
     "start_time": "2022-03-06T06:45:20.127529",
     "status": "completed"
    },
    "tags": []
   },
   "outputs": [],
   "source": [
    "random.seed(1) # ensure reproducibility\n",
    "sys.setrecursionlimit(100000) # anytree exceeds default recursion limit on our data\n"
   ]
  },
  {
   "cell_type": "code",
   "execution_count": 8,
   "id": "76cb2476",
   "metadata": {
    "execution": {
     "iopub.execute_input": "2022-03-06T06:45:20.195605Z",
     "iopub.status.busy": "2022-03-06T06:45:20.195410Z",
     "iopub.status.idle": "2022-03-06T06:45:20.451736Z",
     "shell.execute_reply": "2022-03-06T06:45:20.451018Z"
    },
    "papermill": {
     "duration": 0.282444,
     "end_time": "2022-03-06T06:45:20.453855",
     "exception": false,
     "start_time": "2022-03-06T06:45:20.171411",
     "status": "completed"
    },
    "tags": []
   },
   "outputs": [
    {
     "name": "stdout",
     "output_type": "stream",
     "text": [
      "context: ci\n",
      "hostname: 47dca9ab4cdc\n",
      "interpreter: 3.8.12 (default, Jan 15 2022, 18:39:47)  [GCC 7.5.0]\n",
      "nbcellexec: 8\n",
      "nbname: phylogeny_simulation_mill\n",
      "nbpath: /opt/hereditary-stratigraph-concept/binder/phylogenetic-inference/phylogeny_simulation_mill.ipynb\n",
      "revision: null\n",
      "session: 97368fd7-2d71-4bbb-815e-8e9418863fc0\n",
      "timestamp: 2022-03-06T06:45:20Z00:00\n",
      "\n",
      "\n"
     ]
    },
    {
     "name": "stdout",
     "output_type": "stream",
     "text": [
      "IPython==7.16.1\n",
      "endomill==0.1.2\n",
      "ipykernel==5.5.3\n",
      "ipython_genutils==0.2.0\n",
      "json==2.0.9\n",
      "keyname==0.4.1\n",
      "logging==0.5.1.2\n",
      "nbmetalog==0.2.6\n",
      "re==2.2.1\n",
      "yaml==5.3.1\n",
      "zmq==22.3.0\n",
      "anytree==2.8.0\n",
      "hstrat==0.2.0\n",
      "iterpop==0.3.4\n",
      "opytional==0.1.0\n",
      "pandas==1.1.2\n"
     ]
    }
   ],
   "source": [
    "nbm.print_metadata()\n"
   ]
  },
  {
   "cell_type": "code",
   "execution_count": 9,
   "id": "2e6568b4",
   "metadata": {
    "execution": {
     "iopub.execute_input": "2022-03-06T06:45:20.496182Z",
     "iopub.status.busy": "2022-03-06T06:45:20.495976Z",
     "iopub.status.idle": "2022-03-06T06:45:20.988872Z",
     "shell.execute_reply": "2022-03-06T06:45:20.987955Z"
    },
    "papermill": {
     "duration": 0.516082,
     "end_time": "2022-03-06T06:45:20.990892",
     "exception": false,
     "start_time": "2022-03-06T06:45:20.474810",
     "status": "completed"
    },
    "tags": []
   },
   "outputs": [
    {
     "name": "stdout",
     "output_type": "stream",
     "text": [
      "nk_tournamentselection_seed140_pop100_mut.01_snapshot_5000.csv\n"
     ]
    }
   ],
   "source": [
    "html = request.urlopen(data_url).read().decode('utf8')\n",
    "\n",
    "soup = BeautifulSoup(html, 'html.parser')\n",
    "title = soup.find('title')\n",
    "\n",
    "data_filename = title.string.split()[-1]\n",
    "print(data_filename)\n"
   ]
  },
  {
   "cell_type": "code",
   "execution_count": 10,
   "id": "94bc36ce",
   "metadata": {
    "execution": {
     "iopub.execute_input": "2022-03-06T06:45:21.032385Z",
     "iopub.status.busy": "2022-03-06T06:45:21.032140Z",
     "iopub.status.idle": "2022-03-06T06:45:21.035547Z",
     "shell.execute_reply": "2022-03-06T06:45:21.034785Z"
    },
    "papermill": {
     "duration": 0.025849,
     "end_time": "2022-03-06T06:45:21.037209",
     "exception": false,
     "start_time": "2022-03-06T06:45:21.011360",
     "status": "completed"
    },
    "tags": []
   },
   "outputs": [],
   "source": [
    "endomill.add_instance_outpath(\n",
    "    f'a=phylogeny_simulation+source={data_filename}.endomill.ipynb'\n",
    ")\n"
   ]
  },
  {
   "cell_type": "markdown",
   "id": "e5998224",
   "metadata": {
    "papermill": {
     "duration": 0.021605,
     "end_time": "2022-03-06T06:45:21.081060",
     "exception": false,
     "start_time": "2022-03-06T06:45:21.059455",
     "status": "completed"
    },
    "tags": []
   },
   "source": [
    "# Retrieve Target Phylogeny from OSF\n"
   ]
  },
  {
   "cell_type": "code",
   "execution_count": 11,
   "id": "215fa39a",
   "metadata": {
    "execution": {
     "iopub.execute_input": "2022-03-06T06:45:21.127387Z",
     "iopub.status.busy": "2022-03-06T06:45:21.127123Z",
     "iopub.status.idle": "2022-03-06T06:45:22.387091Z",
     "shell.execute_reply": "2022-03-06T06:45:22.385844Z"
    },
    "papermill": {
     "duration": 1.286462,
     "end_time": "2022-03-06T06:45:22.388818",
     "exception": false,
     "start_time": "2022-03-06T06:45:21.102356",
     "status": "completed"
    },
    "tags": []
   },
   "outputs": [
    {
     "name": "stdout",
     "output_type": "stream",
     "text": [
      "digest: 4c251759926792904321cbc4ed9dfae37e26ff5251f1f60570325be9fcfae704\n",
      "manifest:\n",
      "  ancestor_list: '    9#   ex., [250]'\n",
      "  depth: '            9#   ex., 8'\n",
      "  destruction_time: ' 7#   ex., inf'\n",
      "  id: '               17#  ex., 47645'\n",
      "  num_offspring: '    3#   ex., 0'\n",
      "  num_orgs: '         3#   ex., 1'\n",
      "  origin_time: '      10#  ex., 5000'\n",
      "  phenotype: '        15#  ex., [ 0.897281 0.627867 0.842173 0.953767 0.615421 0.849175\n",
      "    0.795495 0.655207 0.630174 0.939279 0.457317 0.102534 0.960229 0.780958 0.248017\n",
      "    0.843595 0.791117 0.595291 0.68697 0.513536 ]'\n",
      "  tot_orgs: '         9#   ex., 1'\n",
      "  total_offspring: '  3#   ex., 0'\n",
      "num cols: 10\n",
      "num cols all na: 0\n",
      "num cols any na: 0\n",
      "num na: 0\n",
      "num rows: 17\n",
      "num rows all na: 0\n",
      "num rows any na: 0\n",
      "size: 6K\n",
      "\n"
     ]
    }
   ],
   "source": [
    "target_phylogeny_df = pd.read_csv(\n",
    "    f'{data_url}/download',\n",
    ")\n",
    "\n",
    "nbm.print_dataframe_synopsis(target_phylogeny_df)\n"
   ]
  },
  {
   "cell_type": "markdown",
   "id": "3362a9ff",
   "metadata": {
    "papermill": {
     "duration": 0.021089,
     "end_time": "2022-03-06T06:45:22.432435",
     "exception": false,
     "start_time": "2022-03-06T06:45:22.411346",
     "status": "completed"
    },
    "tags": []
   },
   "source": [
    "# Create a Tree with Target Phylogeny Structure\n"
   ]
  },
  {
   "cell_type": "code",
   "execution_count": 12,
   "id": "df0c3430",
   "metadata": {
    "execution": {
     "iopub.execute_input": "2022-03-06T06:45:22.479311Z",
     "iopub.status.busy": "2022-03-06T06:45:22.479072Z",
     "iopub.status.idle": "2022-03-06T06:45:22.487435Z",
     "shell.execute_reply": "2022-03-06T06:45:22.486709Z"
    },
    "papermill": {
     "duration": 0.037613,
     "end_time": "2022-03-06T06:45:22.492452",
     "exception": false,
     "start_time": "2022-03-06T06:45:22.454839",
     "status": "completed"
    },
    "tags": []
   },
   "outputs": [],
   "source": [
    "# map id to anytree node\n",
    "nodes = defaultdict(anytree.AnyNode)\n",
    "for __, row in target_phylogeny_df.iterrows():\n",
    "    node = nodes[row['id']]\n",
    "    node.id = row['id']\n",
    "    node.origin_time = row['origin_time']\n",
    "    if 'NONE' not in row['ancestor_list']:\n",
    "        ancestor_id = ip.popsingleton(\n",
    "            eval(row['ancestor_list'])\n",
    "        )\n",
    "        node.parent = nodes[ancestor_id]\n",
    "\n",
    "roots = {node.root for node in nodes.values()}\n"
   ]
  },
  {
   "cell_type": "code",
   "execution_count": 13,
   "id": "34a2620d",
   "metadata": {
    "execution": {
     "iopub.execute_input": "2022-03-06T06:45:22.539388Z",
     "iopub.status.busy": "2022-03-06T06:45:22.539170Z",
     "iopub.status.idle": "2022-03-06T06:45:22.549511Z",
     "shell.execute_reply": "2022-03-06T06:45:22.548829Z"
    },
    "papermill": {
     "duration": 0.036287,
     "end_time": "2022-03-06T06:45:22.551140",
     "exception": false,
     "start_time": "2022-03-06T06:45:22.514853",
     "status": "completed"
    },
    "tags": []
   },
   "outputs": [
    {
     "data": {
      "text/plain": [
       "8"
      ]
     },
     "execution_count": 13,
     "metadata": {},
     "output_type": "execute_result"
    }
   ],
   "source": [
    "root = ip.popsingleton(roots)\n",
    "root.height\n"
   ]
  },
  {
   "cell_type": "markdown",
   "id": "fd7e146c",
   "metadata": {
    "papermill": {
     "duration": 0.022749,
     "end_time": "2022-03-06T06:45:22.594492",
     "exception": false,
     "start_time": "2022-03-06T06:45:22.571743",
     "status": "completed"
    },
    "tags": []
   },
   "source": [
    "# Pick Parameters for Hereditary Stratigraphic Columns\n"
   ]
  },
  {
   "cell_type": "code",
   "execution_count": 14,
   "id": "9f6c8fde",
   "metadata": {
    "execution": {
     "iopub.execute_input": "2022-03-06T06:45:22.640658Z",
     "iopub.status.busy": "2022-03-06T06:45:22.640420Z",
     "iopub.status.idle": "2022-03-06T06:45:22.648814Z",
     "shell.execute_reply": "2022-03-06T06:45:22.648110Z"
    },
    "papermill": {
     "duration": 0.034486,
     "end_time": "2022-03-06T06:45:22.650517",
     "exception": false,
     "start_time": "2022-03-06T06:45:22.616031",
     "status": "completed"
    },
    "tags": []
   },
   "outputs": [],
   "source": [
    "def make_conditions(num_generations: int) -> pd.DataFrame:\n",
    "    res = []\n",
    "    for condemner_factory, target_column_bits, differentia_bit_width in it.product(\n",
    "        [\n",
    "            hstrat.StratumRetentionCondemnerTaperedDepthProportionalResolution,\n",
    "            hstrat.StratumRetentionCondemnerRecencyProportionalResolution,\n",
    "        ],\n",
    "        [\n",
    "            64,\n",
    "            64 * 8,\n",
    "            64 * 16,\n",
    "        ],\n",
    "        [\n",
    "            1,\n",
    "            8,\n",
    "            64,\n",
    "        ],\n",
    "    ):\n",
    "        policy_param = doubling_search(\n",
    "            lambda x: \\\n",
    "                condemner_factory(x + 1).CalcNumStrataRetainedExact(num_generations)\n",
    "                * differentia_bit_width > target_column_bits or x >= num_generations,\n",
    "            {\n",
    "                hstrat.StratumRetentionCondemnerTaperedDepthProportionalResolution: 1,\n",
    "                hstrat.StratumRetentionCondemnerRecencyProportionalResolution: 0,\n",
    "            }[condemner_factory],\n",
    "        )\n",
    "\n",
    "        actual_column_strata = condemner_factory(policy_param).CalcNumStrataRetainedExact(num_generations)\n",
    "        actual_column_bits = actual_column_strata * differentia_bit_width\n",
    "\n",
    "        res.append({\n",
    "            'Retention Policy' : condemner_factory.__name__[25:],\n",
    "            'Differentia Bit Width' : differentia_bit_width,\n",
    "            'Retention Policy Resolution Parameter' : policy_param,\n",
    "            'Target Retained Bits' : target_column_bits,\n",
    "            'Actual Retained Bits' : actual_column_bits,\n",
    "            'Retained Bits Error' : actual_column_bits - target_column_bits,\n",
    "            'Actual Retained Strata' : actual_column_strata,\n",
    "            'condemner' : condemner_factory(policy_param),\n",
    "        })\n",
    "    return pd.DataFrame.from_records(res)\n"
   ]
  },
  {
   "cell_type": "code",
   "execution_count": 15,
   "id": "75a41761",
   "metadata": {
    "execution": {
     "iopub.execute_input": "2022-03-06T06:45:22.692819Z",
     "iopub.status.busy": "2022-03-06T06:45:22.692621Z",
     "iopub.status.idle": "2022-03-06T06:45:22.710083Z",
     "shell.execute_reply": "2022-03-06T06:45:22.709273Z"
    },
    "papermill": {
     "duration": 0.040787,
     "end_time": "2022-03-06T06:45:22.711578",
     "exception": false,
     "start_time": "2022-03-06T06:45:22.670791",
     "status": "completed"
    },
    "tags": []
   },
   "outputs": [
    {
     "data": {
      "text/html": [
       "<div>\n",
       "<style scoped>\n",
       "    .dataframe tbody tr th:only-of-type {\n",
       "        vertical-align: middle;\n",
       "    }\n",
       "\n",
       "    .dataframe tbody tr th {\n",
       "        vertical-align: top;\n",
       "    }\n",
       "\n",
       "    .dataframe thead th {\n",
       "        text-align: right;\n",
       "    }\n",
       "</style>\n",
       "<table border=\"1\" class=\"dataframe\">\n",
       "  <thead>\n",
       "    <tr style=\"text-align: right;\">\n",
       "      <th></th>\n",
       "      <th>Retention Policy</th>\n",
       "      <th>Differentia Bit Width</th>\n",
       "      <th>Retention Policy Resolution Parameter</th>\n",
       "      <th>Target Retained Bits</th>\n",
       "      <th>Actual Retained Bits</th>\n",
       "      <th>Retained Bits Error</th>\n",
       "      <th>Actual Retained Strata</th>\n",
       "    </tr>\n",
       "  </thead>\n",
       "  <tbody>\n",
       "    <tr>\n",
       "      <th>0</th>\n",
       "      <td>TaperedDepthProportionalResolution</td>\n",
       "      <td>1</td>\n",
       "      <td>9</td>\n",
       "      <td>64</td>\n",
       "      <td>9</td>\n",
       "      <td>-55</td>\n",
       "      <td>9</td>\n",
       "    </tr>\n",
       "    <tr>\n",
       "      <th>1</th>\n",
       "      <td>TaperedDepthProportionalResolution</td>\n",
       "      <td>8</td>\n",
       "      <td>4</td>\n",
       "      <td>64</td>\n",
       "      <td>64</td>\n",
       "      <td>0</td>\n",
       "      <td>8</td>\n",
       "    </tr>\n",
       "    <tr>\n",
       "      <th>2</th>\n",
       "      <td>TaperedDepthProportionalResolution</td>\n",
       "      <td>64</td>\n",
       "      <td>1</td>\n",
       "      <td>64</td>\n",
       "      <td>128</td>\n",
       "      <td>64</td>\n",
       "      <td>2</td>\n",
       "    </tr>\n",
       "    <tr>\n",
       "      <th>3</th>\n",
       "      <td>TaperedDepthProportionalResolution</td>\n",
       "      <td>1</td>\n",
       "      <td>9</td>\n",
       "      <td>512</td>\n",
       "      <td>9</td>\n",
       "      <td>-503</td>\n",
       "      <td>9</td>\n",
       "    </tr>\n",
       "    <tr>\n",
       "      <th>4</th>\n",
       "      <td>TaperedDepthProportionalResolution</td>\n",
       "      <td>8</td>\n",
       "      <td>9</td>\n",
       "      <td>512</td>\n",
       "      <td>72</td>\n",
       "      <td>-440</td>\n",
       "      <td>9</td>\n",
       "    </tr>\n",
       "    <tr>\n",
       "      <th>5</th>\n",
       "      <td>TaperedDepthProportionalResolution</td>\n",
       "      <td>64</td>\n",
       "      <td>4</td>\n",
       "      <td>512</td>\n",
       "      <td>512</td>\n",
       "      <td>0</td>\n",
       "      <td>8</td>\n",
       "    </tr>\n",
       "    <tr>\n",
       "      <th>6</th>\n",
       "      <td>TaperedDepthProportionalResolution</td>\n",
       "      <td>1</td>\n",
       "      <td>9</td>\n",
       "      <td>1024</td>\n",
       "      <td>9</td>\n",
       "      <td>-1015</td>\n",
       "      <td>9</td>\n",
       "    </tr>\n",
       "    <tr>\n",
       "      <th>7</th>\n",
       "      <td>TaperedDepthProportionalResolution</td>\n",
       "      <td>8</td>\n",
       "      <td>9</td>\n",
       "      <td>1024</td>\n",
       "      <td>72</td>\n",
       "      <td>-952</td>\n",
       "      <td>9</td>\n",
       "    </tr>\n",
       "    <tr>\n",
       "      <th>8</th>\n",
       "      <td>TaperedDepthProportionalResolution</td>\n",
       "      <td>64</td>\n",
       "      <td>9</td>\n",
       "      <td>1024</td>\n",
       "      <td>576</td>\n",
       "      <td>-448</td>\n",
       "      <td>9</td>\n",
       "    </tr>\n",
       "    <tr>\n",
       "      <th>9</th>\n",
       "      <td>RecencyProportionalResolution</td>\n",
       "      <td>1</td>\n",
       "      <td>9</td>\n",
       "      <td>64</td>\n",
       "      <td>9</td>\n",
       "      <td>-55</td>\n",
       "      <td>9</td>\n",
       "    </tr>\n",
       "    <tr>\n",
       "      <th>10</th>\n",
       "      <td>RecencyProportionalResolution</td>\n",
       "      <td>8</td>\n",
       "      <td>3</td>\n",
       "      <td>64</td>\n",
       "      <td>64</td>\n",
       "      <td>0</td>\n",
       "      <td>8</td>\n",
       "    </tr>\n",
       "    <tr>\n",
       "      <th>11</th>\n",
       "      <td>RecencyProportionalResolution</td>\n",
       "      <td>64</td>\n",
       "      <td>0</td>\n",
       "      <td>64</td>\n",
       "      <td>128</td>\n",
       "      <td>64</td>\n",
       "      <td>2</td>\n",
       "    </tr>\n",
       "    <tr>\n",
       "      <th>12</th>\n",
       "      <td>RecencyProportionalResolution</td>\n",
       "      <td>1</td>\n",
       "      <td>9</td>\n",
       "      <td>512</td>\n",
       "      <td>9</td>\n",
       "      <td>-503</td>\n",
       "      <td>9</td>\n",
       "    </tr>\n",
       "    <tr>\n",
       "      <th>13</th>\n",
       "      <td>RecencyProportionalResolution</td>\n",
       "      <td>8</td>\n",
       "      <td>9</td>\n",
       "      <td>512</td>\n",
       "      <td>72</td>\n",
       "      <td>-440</td>\n",
       "      <td>9</td>\n",
       "    </tr>\n",
       "    <tr>\n",
       "      <th>14</th>\n",
       "      <td>RecencyProportionalResolution</td>\n",
       "      <td>64</td>\n",
       "      <td>3</td>\n",
       "      <td>512</td>\n",
       "      <td>512</td>\n",
       "      <td>0</td>\n",
       "      <td>8</td>\n",
       "    </tr>\n",
       "    <tr>\n",
       "      <th>15</th>\n",
       "      <td>RecencyProportionalResolution</td>\n",
       "      <td>1</td>\n",
       "      <td>9</td>\n",
       "      <td>1024</td>\n",
       "      <td>9</td>\n",
       "      <td>-1015</td>\n",
       "      <td>9</td>\n",
       "    </tr>\n",
       "    <tr>\n",
       "      <th>16</th>\n",
       "      <td>RecencyProportionalResolution</td>\n",
       "      <td>8</td>\n",
       "      <td>9</td>\n",
       "      <td>1024</td>\n",
       "      <td>72</td>\n",
       "      <td>-952</td>\n",
       "      <td>9</td>\n",
       "    </tr>\n",
       "    <tr>\n",
       "      <th>17</th>\n",
       "      <td>RecencyProportionalResolution</td>\n",
       "      <td>64</td>\n",
       "      <td>9</td>\n",
       "      <td>1024</td>\n",
       "      <td>576</td>\n",
       "      <td>-448</td>\n",
       "      <td>9</td>\n",
       "    </tr>\n",
       "  </tbody>\n",
       "</table>\n",
       "</div>"
      ],
      "text/plain": [
       "                      Retention Policy  Differentia Bit Width  \\\n",
       "0   TaperedDepthProportionalResolution                      1   \n",
       "1   TaperedDepthProportionalResolution                      8   \n",
       "2   TaperedDepthProportionalResolution                     64   \n",
       "3   TaperedDepthProportionalResolution                      1   \n",
       "4   TaperedDepthProportionalResolution                      8   \n",
       "5   TaperedDepthProportionalResolution                     64   \n",
       "6   TaperedDepthProportionalResolution                      1   \n",
       "7   TaperedDepthProportionalResolution                      8   \n",
       "8   TaperedDepthProportionalResolution                     64   \n",
       "9        RecencyProportionalResolution                      1   \n",
       "10       RecencyProportionalResolution                      8   \n",
       "11       RecencyProportionalResolution                     64   \n",
       "12       RecencyProportionalResolution                      1   \n",
       "13       RecencyProportionalResolution                      8   \n",
       "14       RecencyProportionalResolution                     64   \n",
       "15       RecencyProportionalResolution                      1   \n",
       "16       RecencyProportionalResolution                      8   \n",
       "17       RecencyProportionalResolution                     64   \n",
       "\n",
       "    Retention Policy Resolution Parameter  Target Retained Bits  \\\n",
       "0                                       9                    64   \n",
       "1                                       4                    64   \n",
       "2                                       1                    64   \n",
       "3                                       9                   512   \n",
       "4                                       9                   512   \n",
       "5                                       4                   512   \n",
       "6                                       9                  1024   \n",
       "7                                       9                  1024   \n",
       "8                                       9                  1024   \n",
       "9                                       9                    64   \n",
       "10                                      3                    64   \n",
       "11                                      0                    64   \n",
       "12                                      9                   512   \n",
       "13                                      9                   512   \n",
       "14                                      3                   512   \n",
       "15                                      9                  1024   \n",
       "16                                      9                  1024   \n",
       "17                                      9                  1024   \n",
       "\n",
       "    Actual Retained Bits  Retained Bits Error  Actual Retained Strata  \n",
       "0                      9                  -55                       9  \n",
       "1                     64                    0                       8  \n",
       "2                    128                   64                       2  \n",
       "3                      9                 -503                       9  \n",
       "4                     72                 -440                       9  \n",
       "5                    512                    0                       8  \n",
       "6                      9                -1015                       9  \n",
       "7                     72                 -952                       9  \n",
       "8                    576                 -448                       9  \n",
       "9                      9                  -55                       9  \n",
       "10                    64                    0                       8  \n",
       "11                   128                   64                       2  \n",
       "12                     9                 -503                       9  \n",
       "13                    72                 -440                       9  \n",
       "14                   512                    0                       8  \n",
       "15                     9                -1015                       9  \n",
       "16                    72                 -952                       9  \n",
       "17                   576                 -448                       9  "
      ]
     },
     "execution_count": 15,
     "metadata": {},
     "output_type": "execute_result"
    }
   ],
   "source": [
    "conditions_df = make_conditions(root.height + 1)\n",
    "conditions_df.drop('condemner', axis=1)\n"
   ]
  },
  {
   "cell_type": "markdown",
   "id": "cd25284f",
   "metadata": {
    "papermill": {
     "duration": 0.021632,
     "end_time": "2022-03-06T06:45:22.755666",
     "exception": false,
     "start_time": "2022-03-06T06:45:22.734034",
     "status": "completed"
    },
    "tags": []
   },
   "source": [
    "# Set Up Ancestor Column\n"
   ]
  },
  {
   "cell_type": "code",
   "execution_count": 16,
   "id": "1e089aac",
   "metadata": {
    "execution": {
     "iopub.execute_input": "2022-03-06T06:45:22.802501Z",
     "iopub.status.busy": "2022-03-06T06:45:22.802207Z",
     "iopub.status.idle": "2022-03-06T06:45:22.811769Z",
     "shell.execute_reply": "2022-03-06T06:45:22.811143Z"
    },
    "papermill": {
     "duration": 0.035078,
     "end_time": "2022-03-06T06:45:22.813849",
     "exception": false,
     "start_time": "2022-03-06T06:45:22.778771",
     "status": "completed"
    },
    "tags": []
   },
   "outputs": [],
   "source": [
    "bundle = hstrat.HereditaryStratigraphicColumnBundle({\n",
    "    kn.pack({\n",
    "        'differentia' : row['Differentia Bit Width'],\n",
    "        'policy' : row['Retention Policy'],\n",
    "        'resolution' : row['Retention Policy Resolution Parameter'],\n",
    "        'target_bits' : row['Target Retained Bits'],\n",
    "        'actual_bits' : row['Actual Retained Bits'],\n",
    "        'bits_error' : row['Retained Bits Error'],\n",
    "        'actual_strata' : row['Actual Retained Strata'],\n",
    "    }) \\\n",
    "        : hstrat.HereditaryStratigraphicColumn(\n",
    "            stratum_differentia_bit_width=row['Differentia Bit Width'],\n",
    "            stratum_retention_condemner=row['condemner'],\n",
    "    )\n",
    "    for __, row in conditions_df.iterrows()\n",
    "})\n"
   ]
  },
  {
   "cell_type": "markdown",
   "id": "ae63a355",
   "metadata": {
    "papermill": {
     "duration": 0.025238,
     "end_time": "2022-03-06T06:45:22.864926",
     "exception": false,
     "start_time": "2022-03-06T06:45:22.839688",
     "status": "completed"
    },
    "tags": []
   },
   "source": [
    "# Simulate Inheritance of Ancestor Column Down Phylogenetic Tree\n"
   ]
  },
  {
   "cell_type": "code",
   "execution_count": 17,
   "id": "4cf67fc5",
   "metadata": {
    "execution": {
     "iopub.execute_input": "2022-03-06T06:45:22.915732Z",
     "iopub.status.busy": "2022-03-06T06:45:22.915413Z",
     "iopub.status.idle": "2022-03-06T06:45:33.734419Z",
     "shell.execute_reply": "2022-03-06T06:45:33.733469Z"
    },
    "papermill": {
     "duration": 10.846449,
     "end_time": "2022-03-06T06:45:33.736304",
     "exception": false,
     "start_time": "2022-03-06T06:45:22.889855",
     "status": "completed"
    },
    "tags": []
   },
   "outputs": [],
   "source": [
    "root = ip.popsingleton(roots)\n",
    "root.hstrat_column = bundle\n",
    "\n",
    "for node in anytree.LevelOrderIter(ip.popsingleton(roots)):\n",
    "    parent = node.parent\n",
    "    if parent is not None:\n",
    "        node.hstrat_column = parent.hstrat_column.Clone()\n",
    "        for __ in range(node.origin_time - parent.origin_time): node.hstrat_column.DepositStratum()\n"
   ]
  },
  {
   "cell_type": "markdown",
   "id": "61187762",
   "metadata": {
    "papermill": {
     "duration": 0.023541,
     "end_time": "2022-03-06T06:45:33.782935",
     "exception": false,
     "start_time": "2022-03-06T06:45:33.759394",
     "status": "completed"
    },
    "tags": []
   },
   "source": [
    "# Extract Pairwise MRCA Estimates for Extant Organisms\n"
   ]
  },
  {
   "cell_type": "code",
   "execution_count": 18,
   "id": "349ed6a2",
   "metadata": {
    "execution": {
     "iopub.execute_input": "2022-03-06T06:45:33.828839Z",
     "iopub.status.busy": "2022-03-06T06:45:33.828563Z",
     "iopub.status.idle": "2022-03-06T06:45:33.977243Z",
     "shell.execute_reply": "2022-03-06T06:45:33.976550Z"
    },
    "papermill": {
     "duration": 0.174076,
     "end_time": "2022-03-06T06:45:33.979285",
     "exception": false,
     "start_time": "2022-03-06T06:45:33.805209",
     "status": "completed"
    },
    "tags": []
   },
   "outputs": [
    {
     "name": "stderr",
     "output_type": "stream",
     "text": [
      "\r",
      "  0%|          | 0/81 [00:00<?, ?it/s]"
     ]
    },
    {
     "name": "stderr",
     "output_type": "stream",
     "text": [
      "\r",
      " 77%|███████▋  | 62/81 [00:00<00:00, 614.71it/s]"
     ]
    },
    {
     "name": "stderr",
     "output_type": "stream",
     "text": [
      "\r",
      "100%|██████████| 81/81 [00:00<00:00, 631.12it/s]"
     ]
    },
    {
     "name": "stderr",
     "output_type": "stream",
     "text": [
      "\n"
     ]
    }
   ],
   "source": [
    "res = []\n",
    "for extant1, extant2 in tqdm([*it.product(root.leaves, root.leaves)]):\n",
    "    if extant1 != extant2:\n",
    "        bounds = extant1.hstrat_column.CalcRankOfMrcaBoundsWith(extant2.hstrat_column)\n",
    "        for impl in extant1.hstrat_column:\n",
    "            res.append({\n",
    "                'Column Configuration' \\\n",
    "                    : impl,\n",
    "                'Differentia Bit Width' \\\n",
    "                    : kn.unpack(impl)['differentia'],\n",
    "                'Stratum Retention Policy' \\\n",
    "                    : kn.unpack(impl)['policy'],\n",
    "                'Stratum Retention Policy Resolution Parameter' \\\n",
    "                    : kn.unpack(impl)['resolution'],\n",
    "                'Stratigraphic Column Actual Retained Bits' \\\n",
    "                    : kn.unpack(impl)['actual_bits'],\n",
    "                'Stratigraphic Column Target Retained Bits' \\\n",
    "                    : kn.unpack(impl)['target_bits'],\n",
    "                'Stratigraphic Column Retained Bits Error' \\\n",
    "                    : kn.unpack(impl)['bits_error'],\n",
    "                'Stratigraphic Column Actual Num Retained Strata' \\\n",
    "                    : kn.unpack(impl)['actual_strata'],\n",
    "                'Taxon Compared From' \\\n",
    "                    : extant1.id,\n",
    "                'Taxon Compared To' \\\n",
    "                    : extant2.id,\n",
    "                'Generation of Taxon Compared From' \\\n",
    "                    : extant1.hstrat_column.GetNumStrataDeposited(),\n",
    "                'Generation of Taxon Compared To' \\\n",
    "                    : extant2.hstrat_column.GetNumStrataDeposited(),\n",
    "                'Generation Of MRCA Lower Bound (inclusive)' \\\n",
    "                    : opyt.apply_if(\n",
    "                        bounds[impl],\n",
    "                        lambda x: x[0],\n",
    "                    ),\n",
    "                'Generation Of MRCA Upper Bound (exclusive)' \\\n",
    "                    : opyt.apply_if(\n",
    "                        bounds[impl],\n",
    "                        lambda x: x[1],\n",
    "                    ),\n",
    "                'MRCA Bound Confidence' \\\n",
    "                    : extant1.hstrat_column[impl].CalcRankOfMrcaBoundsWithProvidedConfidenceLevel(),\n",
    "                'Rank of Earliest Detectable Mrca With' \\\n",
    "                    : extant1.hstrat_column[impl].CalcRankOfEarliestDetectableMrcaWith(extant2.hstrat_column[impl]),\n",
    "            })\n",
    "\n",
    "res_df = pd.DataFrame.from_records(res)\n"
   ]
  },
  {
   "cell_type": "code",
   "execution_count": 19,
   "id": "789b408b",
   "metadata": {
    "execution": {
     "iopub.execute_input": "2022-03-06T06:45:34.030028Z",
     "iopub.status.busy": "2022-03-06T06:45:34.029821Z",
     "iopub.status.idle": "2022-03-06T06:45:34.059160Z",
     "shell.execute_reply": "2022-03-06T06:45:34.058532Z"
    },
    "papermill": {
     "duration": 0.056168,
     "end_time": "2022-03-06T06:45:34.060616",
     "exception": false,
     "start_time": "2022-03-06T06:45:34.004448",
     "status": "completed"
    },
    "tags": []
   },
   "outputs": [
    {
     "data": {
      "text/html": [
       "<div>\n",
       "<style scoped>\n",
       "    .dataframe tbody tr th:only-of-type {\n",
       "        vertical-align: middle;\n",
       "    }\n",
       "\n",
       "    .dataframe tbody tr th {\n",
       "        vertical-align: top;\n",
       "    }\n",
       "\n",
       "    .dataframe thead th {\n",
       "        text-align: right;\n",
       "    }\n",
       "</style>\n",
       "<table border=\"1\" class=\"dataframe\">\n",
       "  <thead>\n",
       "    <tr style=\"text-align: right;\">\n",
       "      <th></th>\n",
       "      <th>Column Configuration</th>\n",
       "      <th>Differentia Bit Width</th>\n",
       "      <th>Stratum Retention Policy</th>\n",
       "      <th>Stratum Retention Policy Resolution Parameter</th>\n",
       "      <th>Stratigraphic Column Actual Retained Bits</th>\n",
       "      <th>Stratigraphic Column Target Retained Bits</th>\n",
       "      <th>Stratigraphic Column Retained Bits Error</th>\n",
       "      <th>Stratigraphic Column Actual Num Retained Strata</th>\n",
       "      <th>Taxon Compared From</th>\n",
       "      <th>Taxon Compared To</th>\n",
       "      <th>Generation of Taxon Compared From</th>\n",
       "      <th>Generation of Taxon Compared To</th>\n",
       "      <th>Generation Of MRCA Lower Bound (inclusive)</th>\n",
       "      <th>Generation Of MRCA Upper Bound (exclusive)</th>\n",
       "      <th>MRCA Bound Confidence</th>\n",
       "      <th>Rank of Earliest Detectable Mrca With</th>\n",
       "    </tr>\n",
       "  </thead>\n",
       "  <tbody>\n",
       "    <tr>\n",
       "      <th>0</th>\n",
       "      <td>actual_bits=9+actual_strata=9+bits_error=-55+d...</td>\n",
       "      <td>1</td>\n",
       "      <td>TaperedDepthProportionalResolution</td>\n",
       "      <td>9</td>\n",
       "      <td>9</td>\n",
       "      <td>64</td>\n",
       "      <td>-55</td>\n",
       "      <td>9</td>\n",
       "      <td>47645</td>\n",
       "      <td>47644</td>\n",
       "      <td>5001</td>\n",
       "      <td>5001</td>\n",
       "      <td>NaN</td>\n",
       "      <td>NaN</td>\n",
       "      <td>0.968750</td>\n",
       "      <td>1536</td>\n",
       "    </tr>\n",
       "    <tr>\n",
       "      <th>1</th>\n",
       "      <td>actual_bits=64+actual_strata=8+bits_error=0+di...</td>\n",
       "      <td>8</td>\n",
       "      <td>TaperedDepthProportionalResolution</td>\n",
       "      <td>4</td>\n",
       "      <td>64</td>\n",
       "      <td>64</td>\n",
       "      <td>0</td>\n",
       "      <td>8</td>\n",
       "      <td>47645</td>\n",
       "      <td>47644</td>\n",
       "      <td>5001</td>\n",
       "      <td>5001</td>\n",
       "      <td>0.0</td>\n",
       "      <td>1024.0</td>\n",
       "      <td>0.996094</td>\n",
       "      <td>0</td>\n",
       "    </tr>\n",
       "    <tr>\n",
       "      <th>2</th>\n",
       "      <td>actual_bits=128+actual_strata=2+bits_error=64+...</td>\n",
       "      <td>64</td>\n",
       "      <td>TaperedDepthProportionalResolution</td>\n",
       "      <td>1</td>\n",
       "      <td>128</td>\n",
       "      <td>64</td>\n",
       "      <td>64</td>\n",
       "      <td>2</td>\n",
       "      <td>47645</td>\n",
       "      <td>47644</td>\n",
       "      <td>5001</td>\n",
       "      <td>5001</td>\n",
       "      <td>0.0</td>\n",
       "      <td>4096.0</td>\n",
       "      <td>1.000000</td>\n",
       "      <td>0</td>\n",
       "    </tr>\n",
       "    <tr>\n",
       "      <th>3</th>\n",
       "      <td>actual_bits=9+actual_strata=9+bits_error=-503+...</td>\n",
       "      <td>1</td>\n",
       "      <td>TaperedDepthProportionalResolution</td>\n",
       "      <td>9</td>\n",
       "      <td>9</td>\n",
       "      <td>512</td>\n",
       "      <td>-503</td>\n",
       "      <td>9</td>\n",
       "      <td>47645</td>\n",
       "      <td>47644</td>\n",
       "      <td>5001</td>\n",
       "      <td>5001</td>\n",
       "      <td>NaN</td>\n",
       "      <td>NaN</td>\n",
       "      <td>0.968750</td>\n",
       "      <td>1536</td>\n",
       "    </tr>\n",
       "    <tr>\n",
       "      <th>4</th>\n",
       "      <td>actual_bits=72+actual_strata=9+bits_error=-440...</td>\n",
       "      <td>8</td>\n",
       "      <td>TaperedDepthProportionalResolution</td>\n",
       "      <td>9</td>\n",
       "      <td>72</td>\n",
       "      <td>512</td>\n",
       "      <td>-440</td>\n",
       "      <td>9</td>\n",
       "      <td>47645</td>\n",
       "      <td>47644</td>\n",
       "      <td>5001</td>\n",
       "      <td>5001</td>\n",
       "      <td>0.0</td>\n",
       "      <td>512.0</td>\n",
       "      <td>0.996094</td>\n",
       "      <td>0</td>\n",
       "    </tr>\n",
       "    <tr>\n",
       "      <th>...</th>\n",
       "      <td>...</td>\n",
       "      <td>...</td>\n",
       "      <td>...</td>\n",
       "      <td>...</td>\n",
       "      <td>...</td>\n",
       "      <td>...</td>\n",
       "      <td>...</td>\n",
       "      <td>...</td>\n",
       "      <td>...</td>\n",
       "      <td>...</td>\n",
       "      <td>...</td>\n",
       "      <td>...</td>\n",
       "      <td>...</td>\n",
       "      <td>...</td>\n",
       "      <td>...</td>\n",
       "      <td>...</td>\n",
       "    </tr>\n",
       "    <tr>\n",
       "      <th>1291</th>\n",
       "      <td>actual_bits=72+actual_strata=9+bits_error=-440...</td>\n",
       "      <td>8</td>\n",
       "      <td>RecencyProportionalResolution</td>\n",
       "      <td>9</td>\n",
       "      <td>72</td>\n",
       "      <td>512</td>\n",
       "      <td>-440</td>\n",
       "      <td>9</td>\n",
       "      <td>47633</td>\n",
       "      <td>47626</td>\n",
       "      <td>5000</td>\n",
       "      <td>5000</td>\n",
       "      <td>0.0</td>\n",
       "      <td>256.0</td>\n",
       "      <td>0.996094</td>\n",
       "      <td>0</td>\n",
       "    </tr>\n",
       "    <tr>\n",
       "      <th>1292</th>\n",
       "      <td>actual_bits=512+actual_strata=8+bits_error=0+d...</td>\n",
       "      <td>64</td>\n",
       "      <td>RecencyProportionalResolution</td>\n",
       "      <td>3</td>\n",
       "      <td>512</td>\n",
       "      <td>512</td>\n",
       "      <td>0</td>\n",
       "      <td>8</td>\n",
       "      <td>47633</td>\n",
       "      <td>47626</td>\n",
       "      <td>5000</td>\n",
       "      <td>5000</td>\n",
       "      <td>0.0</td>\n",
       "      <td>1024.0</td>\n",
       "      <td>1.000000</td>\n",
       "      <td>0</td>\n",
       "    </tr>\n",
       "    <tr>\n",
       "      <th>1293</th>\n",
       "      <td>actual_bits=9+actual_strata=9+bits_error=-1015...</td>\n",
       "      <td>1</td>\n",
       "      <td>RecencyProportionalResolution</td>\n",
       "      <td>9</td>\n",
       "      <td>9</td>\n",
       "      <td>1024</td>\n",
       "      <td>-1015</td>\n",
       "      <td>9</td>\n",
       "      <td>47633</td>\n",
       "      <td>47626</td>\n",
       "      <td>5000</td>\n",
       "      <td>5000</td>\n",
       "      <td>NaN</td>\n",
       "      <td>NaN</td>\n",
       "      <td>0.968750</td>\n",
       "      <td>1024</td>\n",
       "    </tr>\n",
       "    <tr>\n",
       "      <th>1294</th>\n",
       "      <td>actual_bits=72+actual_strata=9+bits_error=-952...</td>\n",
       "      <td>8</td>\n",
       "      <td>RecencyProportionalResolution</td>\n",
       "      <td>9</td>\n",
       "      <td>72</td>\n",
       "      <td>1024</td>\n",
       "      <td>-952</td>\n",
       "      <td>9</td>\n",
       "      <td>47633</td>\n",
       "      <td>47626</td>\n",
       "      <td>5000</td>\n",
       "      <td>5000</td>\n",
       "      <td>0.0</td>\n",
       "      <td>256.0</td>\n",
       "      <td>0.996094</td>\n",
       "      <td>0</td>\n",
       "    </tr>\n",
       "    <tr>\n",
       "      <th>1295</th>\n",
       "      <td>actual_bits=576+actual_strata=9+bits_error=-44...</td>\n",
       "      <td>64</td>\n",
       "      <td>RecencyProportionalResolution</td>\n",
       "      <td>9</td>\n",
       "      <td>576</td>\n",
       "      <td>1024</td>\n",
       "      <td>-448</td>\n",
       "      <td>9</td>\n",
       "      <td>47633</td>\n",
       "      <td>47626</td>\n",
       "      <td>5000</td>\n",
       "      <td>5000</td>\n",
       "      <td>0.0</td>\n",
       "      <td>256.0</td>\n",
       "      <td>1.000000</td>\n",
       "      <td>0</td>\n",
       "    </tr>\n",
       "  </tbody>\n",
       "</table>\n",
       "<p>1296 rows × 16 columns</p>\n",
       "</div>"
      ],
      "text/plain": [
       "                                   Column Configuration Differentia Bit Width  \\\n",
       "0     actual_bits=9+actual_strata=9+bits_error=-55+d...                     1   \n",
       "1     actual_bits=64+actual_strata=8+bits_error=0+di...                     8   \n",
       "2     actual_bits=128+actual_strata=2+bits_error=64+...                    64   \n",
       "3     actual_bits=9+actual_strata=9+bits_error=-503+...                     1   \n",
       "4     actual_bits=72+actual_strata=9+bits_error=-440...                     8   \n",
       "...                                                 ...                   ...   \n",
       "1291  actual_bits=72+actual_strata=9+bits_error=-440...                     8   \n",
       "1292  actual_bits=512+actual_strata=8+bits_error=0+d...                    64   \n",
       "1293  actual_bits=9+actual_strata=9+bits_error=-1015...                     1   \n",
       "1294  actual_bits=72+actual_strata=9+bits_error=-952...                     8   \n",
       "1295  actual_bits=576+actual_strata=9+bits_error=-44...                    64   \n",
       "\n",
       "                Stratum Retention Policy  \\\n",
       "0     TaperedDepthProportionalResolution   \n",
       "1     TaperedDepthProportionalResolution   \n",
       "2     TaperedDepthProportionalResolution   \n",
       "3     TaperedDepthProportionalResolution   \n",
       "4     TaperedDepthProportionalResolution   \n",
       "...                                  ...   \n",
       "1291       RecencyProportionalResolution   \n",
       "1292       RecencyProportionalResolution   \n",
       "1293       RecencyProportionalResolution   \n",
       "1294       RecencyProportionalResolution   \n",
       "1295       RecencyProportionalResolution   \n",
       "\n",
       "     Stratum Retention Policy Resolution Parameter  \\\n",
       "0                                                9   \n",
       "1                                                4   \n",
       "2                                                1   \n",
       "3                                                9   \n",
       "4                                                9   \n",
       "...                                            ...   \n",
       "1291                                             9   \n",
       "1292                                             3   \n",
       "1293                                             9   \n",
       "1294                                             9   \n",
       "1295                                             9   \n",
       "\n",
       "     Stratigraphic Column Actual Retained Bits  \\\n",
       "0                                            9   \n",
       "1                                           64   \n",
       "2                                          128   \n",
       "3                                            9   \n",
       "4                                           72   \n",
       "...                                        ...   \n",
       "1291                                        72   \n",
       "1292                                       512   \n",
       "1293                                         9   \n",
       "1294                                        72   \n",
       "1295                                       576   \n",
       "\n",
       "     Stratigraphic Column Target Retained Bits  \\\n",
       "0                                           64   \n",
       "1                                           64   \n",
       "2                                           64   \n",
       "3                                          512   \n",
       "4                                          512   \n",
       "...                                        ...   \n",
       "1291                                       512   \n",
       "1292                                       512   \n",
       "1293                                      1024   \n",
       "1294                                      1024   \n",
       "1295                                      1024   \n",
       "\n",
       "     Stratigraphic Column Retained Bits Error  \\\n",
       "0                                         -55   \n",
       "1                                           0   \n",
       "2                                          64   \n",
       "3                                        -503   \n",
       "4                                        -440   \n",
       "...                                       ...   \n",
       "1291                                     -440   \n",
       "1292                                        0   \n",
       "1293                                    -1015   \n",
       "1294                                     -952   \n",
       "1295                                     -448   \n",
       "\n",
       "     Stratigraphic Column Actual Num Retained Strata  Taxon Compared From  \\\n",
       "0                                                  9                47645   \n",
       "1                                                  8                47645   \n",
       "2                                                  2                47645   \n",
       "3                                                  9                47645   \n",
       "4                                                  9                47645   \n",
       "...                                              ...                  ...   \n",
       "1291                                               9                47633   \n",
       "1292                                               8                47633   \n",
       "1293                                               9                47633   \n",
       "1294                                               9                47633   \n",
       "1295                                               9                47633   \n",
       "\n",
       "      Taxon Compared To  Generation of Taxon Compared From  \\\n",
       "0                 47644                               5001   \n",
       "1                 47644                               5001   \n",
       "2                 47644                               5001   \n",
       "3                 47644                               5001   \n",
       "4                 47644                               5001   \n",
       "...                 ...                                ...   \n",
       "1291              47626                               5000   \n",
       "1292              47626                               5000   \n",
       "1293              47626                               5000   \n",
       "1294              47626                               5000   \n",
       "1295              47626                               5000   \n",
       "\n",
       "      Generation of Taxon Compared To  \\\n",
       "0                                5001   \n",
       "1                                5001   \n",
       "2                                5001   \n",
       "3                                5001   \n",
       "4                                5001   \n",
       "...                               ...   \n",
       "1291                             5000   \n",
       "1292                             5000   \n",
       "1293                             5000   \n",
       "1294                             5000   \n",
       "1295                             5000   \n",
       "\n",
       "      Generation Of MRCA Lower Bound (inclusive)  \\\n",
       "0                                            NaN   \n",
       "1                                            0.0   \n",
       "2                                            0.0   \n",
       "3                                            NaN   \n",
       "4                                            0.0   \n",
       "...                                          ...   \n",
       "1291                                         0.0   \n",
       "1292                                         0.0   \n",
       "1293                                         NaN   \n",
       "1294                                         0.0   \n",
       "1295                                         0.0   \n",
       "\n",
       "      Generation Of MRCA Upper Bound (exclusive)  MRCA Bound Confidence  \\\n",
       "0                                            NaN               0.968750   \n",
       "1                                         1024.0               0.996094   \n",
       "2                                         4096.0               1.000000   \n",
       "3                                            NaN               0.968750   \n",
       "4                                          512.0               0.996094   \n",
       "...                                          ...                    ...   \n",
       "1291                                       256.0               0.996094   \n",
       "1292                                      1024.0               1.000000   \n",
       "1293                                         NaN               0.968750   \n",
       "1294                                       256.0               0.996094   \n",
       "1295                                       256.0               1.000000   \n",
       "\n",
       "      Rank of Earliest Detectable Mrca With  \n",
       "0                                      1536  \n",
       "1                                         0  \n",
       "2                                         0  \n",
       "3                                      1536  \n",
       "4                                         0  \n",
       "...                                     ...  \n",
       "1291                                      0  \n",
       "1292                                      0  \n",
       "1293                                   1024  \n",
       "1294                                      0  \n",
       "1295                                      0  \n",
       "\n",
       "[1296 rows x 16 columns]"
      ]
     },
     "execution_count": 19,
     "metadata": {},
     "output_type": "execute_result"
    }
   ],
   "source": [
    "res_df\n"
   ]
  },
  {
   "cell_type": "code",
   "execution_count": 20,
   "id": "bf6b6a1e",
   "metadata": {
    "execution": {
     "iopub.execute_input": "2022-03-06T06:45:34.114987Z",
     "iopub.status.busy": "2022-03-06T06:45:34.114732Z",
     "iopub.status.idle": "2022-03-06T06:45:34.161716Z",
     "shell.execute_reply": "2022-03-06T06:45:34.160824Z"
    },
    "papermill": {
     "duration": 0.076923,
     "end_time": "2022-03-06T06:45:34.163417",
     "exception": false,
     "start_time": "2022-03-06T06:45:34.086494",
     "status": "completed"
    },
    "tags": []
   },
   "outputs": [
    {
     "name": "stdout",
     "output_type": "stream",
     "text": [
      "digest: 052934ba2ea68141ab8ceaa44cde41546953656aeb66e6814458f7a91cce81f4\n",
      "manifest:\n",
      "  Column Configuration: '                            18#        ex., actual_bits=64+actual_strata=8+bits_error=0+differentia=8+policy=TaperedDepthProportionalResolution+resolution=4+target_bits=64'\n",
      "  Differentia Bit Width: '                           3#         ex., 8'\n",
      "  Generation Of MRCA Lower Bound (inclusive): '      5#,408na   ex., 0.0'\n",
      "  Generation Of MRCA Upper Bound (exclusive): '      10#,408na  ex., 1024.0'\n",
      "  Generation of Taxon Compared From: '               2#         ex., 5001'\n",
      "  Generation of Taxon Compared To: '                 2#         ex., 5001'\n",
      "  MRCA Bound Confidence: '                           3#         ex., 0.99609375'\n",
      "  Rank of Earliest Detectable Mrca With: '           3#         ex., 0'\n",
      "  Stratigraphic Column Actual Num Retained Strata: ' 3#         ex., 8'\n",
      "  Stratigraphic Column Actual Retained Bits: '       6#         ex., 64'\n",
      "  Stratigraphic Column Retained Bits Error: '        8#         ex., 0'\n",
      "  Stratigraphic Column Target Retained Bits: '       3#         ex., 64'\n",
      "  Stratum Retention Policy: '                        2#         ex., TaperedDepthProportionalResolution'\n",
      "  Stratum Retention Policy Resolution Parameter: '   5#         ex., 4'\n",
      "  Taxon Compared From: '                             9#         ex., 47645'\n",
      "  Taxon Compared To: '                               9#         ex., 47644'\n",
      "num cols: 16\n",
      "num cols all na: 0\n",
      "num cols any na: 2\n",
      "num na: 816\n",
      "num rows: 1296\n",
      "num rows all na: 0\n",
      "num rows any na: 408\n",
      "size: 874K\n",
      "\n"
     ]
    }
   ],
   "source": [
    "nbm.print_dataframe_synopsis(res_df)\n"
   ]
  },
  {
   "cell_type": "markdown",
   "id": "38c0ccd0",
   "metadata": {
    "papermill": {
     "duration": 0.023397,
     "end_time": "2022-03-06T06:45:34.211806",
     "exception": false,
     "start_time": "2022-03-06T06:45:34.188409",
     "status": "completed"
    },
    "tags": []
   },
   "source": [
    "# Save Pairwise MRCA Estimates to File\n"
   ]
  },
  {
   "cell_type": "code",
   "execution_count": 21,
   "id": "a52d8b43",
   "metadata": {
    "execution": {
     "iopub.execute_input": "2022-03-06T06:45:34.269496Z",
     "iopub.status.busy": "2022-03-06T06:45:34.269261Z",
     "iopub.status.idle": "2022-03-06T06:45:34.294416Z",
     "shell.execute_reply": "2022-03-06T06:45:34.293688Z"
    },
    "papermill": {
     "duration": 0.059364,
     "end_time": "2022-03-06T06:45:34.296220",
     "exception": false,
     "start_time": "2022-03-06T06:45:34.236856",
     "status": "completed"
    },
    "tags": []
   },
   "outputs": [],
   "source": [
    "res_df.to_csv(\n",
    "    f'a=pairwise_mrca_estimates+source={data_filename}.gz',\n",
    "    compression='gzip',\n",
    ")\n"
   ]
  }
 ],
 "metadata": {
  "kernelspec": {
   "display_name": "Python 3",
   "language": "python",
   "name": "python3"
  },
  "language_info": {
   "codemirror_mode": {
    "name": "ipython",
    "version": 3
   },
   "file_extension": ".py",
   "mimetype": "text/x-python",
   "name": "python",
   "nbconvert_exporter": "python",
   "pygments_lexer": "ipython3",
   "version": "3.8.10"
  },
  "papermill": {
   "default_parameters": {},
   "duration": null,
   "end_time": null,
   "environment_variables": {},
   "exception": null,
   "input_path": "/opt/hereditary-stratigraph-concept/binder/phylogenetic-inference/phylogeny_simulation_mill.ipynb",
   "output_path": "executing.endomill.ipynb",
   "parameters": {
    "data_url": "https://osf.io/5ubn8/"
   },
   "start_time": "2022-03-06T06:45:17.506653",
   "version": "2.3.4"
  }
 },
 "nbformat": 4,
 "nbformat_minor": 5
}