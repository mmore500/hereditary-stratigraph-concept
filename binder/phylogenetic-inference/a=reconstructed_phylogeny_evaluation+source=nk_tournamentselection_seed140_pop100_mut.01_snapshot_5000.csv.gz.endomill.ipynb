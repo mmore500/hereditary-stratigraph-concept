{
 "cells": [
  {
   "cell_type": "code",
   "execution_count": 1,
   "id": "213d384d",
   "metadata": {
    "execution": {
     "iopub.execute_input": "2023-08-27T01:28:28.179435Z",
     "iopub.status.busy": "2023-08-27T01:28:28.179184Z",
     "iopub.status.idle": "2023-08-27T01:28:28.866764Z",
     "shell.execute_reply": "2023-08-27T01:28:28.866255Z"
    },
    "papermill": {
     "duration": 0.703994,
     "end_time": "2023-08-27T01:28:28.868416",
     "exception": false,
     "start_time": "2023-08-27T01:28:28.164422",
     "status": "completed"
    },
    "tags": []
   },
   "outputs": [],
   "source": [
    "import endomill\n",
    "from nbmetalog import nbmetalog as nbm\n"
   ]
  },
  {
   "cell_type": "code",
   "execution_count": 2,
   "id": "27151ccc",
   "metadata": {
    "execution": {
     "iopub.execute_input": "2023-08-27T01:28:28.895725Z",
     "iopub.status.busy": "2023-08-27T01:28:28.895556Z",
     "iopub.status.idle": "2023-08-27T01:28:29.160889Z",
     "shell.execute_reply": "2023-08-27T01:28:29.160348Z"
    },
    "papermill": {
     "duration": 0.280879,
     "end_time": "2023-08-27T01:28:29.162646",
     "exception": false,
     "start_time": "2023-08-27T01:28:28.881767",
     "status": "completed"
    },
    "tags": []
   },
   "outputs": [
    {
     "name": "stdout",
     "output_type": "stream",
     "text": [
      "context: ci\n",
      "hostname: 35c412e11b43\n",
      "interpreter: 3.8.10 (default, May 26 2023, 14:05:08)  [GCC 9.4.0]\n",
      "nbcellexec: 2\n",
      "nbname: reconstructed_phylogeny_evaluation_mill\n",
      "nbpath: /opt/hereditary-stratigraph-concept/binder/phylogenetic-inference/reconstructed_phylogeny_evaluation_mill.ipynb\n",
      "revision: null\n",
      "session: 4aebc659-24d8-4896-8524-c54af3caa655\n",
      "timestamp: 2023-08-27T01:28:28Z00:00\n",
      "\n",
      "\n",
      "IPython==7.16.1\n",
      "keyname==0.4.1\n",
      "yaml==5.3.1\n",
      "endomill==0.1.3\n",
      "nbmetalog==0.2.6\n",
      "re==2.2.1\n",
      "ipython_genutils==0.2.0\n",
      "logging==0.5.1.2\n",
      "zmq==22.3.0\n",
      "json==2.0.9\n",
      "ipykernel==5.5.3\n"
     ]
    }
   ],
   "source": [
    "nbm.print_metadata()\n"
   ]
  },
  {
   "cell_type": "code",
   "execution_count": 3,
   "id": "74b847ab",
   "metadata": {
    "execution": {
     "iopub.execute_input": "2023-08-27T01:28:29.190428Z",
     "iopub.status.busy": "2023-08-27T01:28:29.190264Z",
     "iopub.status.idle": "2023-08-27T01:28:29.194620Z",
     "shell.execute_reply": "2023-08-27T01:28:29.194237Z"
    },
    "papermill": {
     "duration": 0.019525,
     "end_time": "2023-08-27T01:28:29.195739",
     "exception": false,
     "start_time": "2023-08-27T01:28:29.176214",
     "status": "completed"
    },
    "tags": []
   },
   "outputs": [
    {
     "name": "stdout",
     "output_type": "stream",
     "text": [
      "detected executing.endomill.ipynb file\n",
      "skipping instantiate_over\n"
     ]
    }
   ],
   "source": [
    "prefix = (\n",
    "    'https://github.com/mmore500/hereditary-stratigraph-concept/'\n",
    "    'blob/49e2bb1ff4c433af5eab2532f077663dc7d9efa3/'\n",
    "    'binder/phylogenetic-inference/'\n",
    ")\n",
    "reconstructed_phylogeny_urls = [\n",
    "    prefix + 'a=reconstructed_phylogenies+source=nk_ecoeaselection_seed110_pop100_mut.01_snapshot_3000.csv.gz',\n",
    "    prefix + 'a=reconstructed_phylogenies+source=nk_lexicaseselection_seed110_pop165_mut.01_snapshot_500.csv.gz',\n",
    "    prefix + 'a=reconstructed_phylogenies+source=nk_randomselection_seed7_pop100_mut.01_snapshot_5000.csv.gz',\n",
    "    prefix + 'a=reconstructed_phylogenies+source=nk_sharingselection_seed10_pop100_mut.01_snapshot_5000.csv.gz',\n",
    "    prefix + 'a=reconstructed_phylogenies+source=nk_tournamentselection_seed140_pop100_mut.01_snapshot_5000.csv.gz',\n",
    "]\n",
    "\n",
    "original_phylogeny_urls = [\n",
    "            # nk_ecoeaselection_seed110_pop100_mut.01_snapshot_3000.csv\n",
    "            'https://osf.io/5d3be/',\n",
    "            # nk_lexicaseselection_seed110_pop165_mut.01_snapshot_500.csv\n",
    "            'https://osf.io/8ycq7/',\n",
    "            # nk_randomselection_seed7_pop100_mut.01_snapshot_5000.csv\n",
    "            'https://osf.io/ydxt7/',\n",
    "            # nk_sharingselection_seed10_pop100_mut.01_snapshot_5000.csv\n",
    "            'https://osf.io/cz9fk/',\n",
    "            # nk_tournamentselection_seed140_pop100_mut.01_snapshot_5000.csv\n",
    "            'https://osf.io/5ubn8/',\n",
    "]\n",
    "\n",
    "endomill.instantiate_over(\n",
    "    parameter_packs=[\n",
    "        {\n",
    "            'reconstructed_phylogeny_url': reconstructed_phylogeny_url,\n",
    "            'original_phylogeny_url': original_phylogeny_url,\n",
    "        }\n",
    "        for reconstructed_phylogeny_url, original_phylogeny_url\n",
    "        in zip(reconstructed_phylogeny_urls, original_phylogeny_urls)\n",
    "    ],\n",
    ")\n"
   ]
  },
  {
   "cell_type": "code",
   "execution_count": 4,
   "id": "a7fe90e1",
   "metadata": {
    "execution": {
     "iopub.execute_input": "2023-08-27T01:28:29.223634Z",
     "iopub.status.busy": "2023-08-27T01:28:29.223482Z",
     "iopub.status.idle": "2023-08-27T01:28:29.225803Z",
     "shell.execute_reply": "2023-08-27T01:28:29.225323Z"
    },
    "papermill": {
     "duration": 0.017724,
     "end_time": "2023-08-27T01:28:29.227018",
     "exception": false,
     "start_time": "2023-08-27T01:28:29.209294",
     "status": "completed"
    },
    "tags": [
     "parameters"
    ]
   },
   "outputs": [],
   "source": [
    "#define papermil parameters\n",
    "reconstructed_phylogeny_url: str\n",
    "original_phylogeny_url: str\n"
   ]
  },
  {
   "cell_type": "code",
   "execution_count": 5,
   "id": "752a898a",
   "metadata": {
    "execution": {
     "iopub.execute_input": "2023-08-27T01:28:29.255051Z",
     "iopub.status.busy": "2023-08-27T01:28:29.254898Z",
     "iopub.status.idle": "2023-08-27T01:28:29.257261Z",
     "shell.execute_reply": "2023-08-27T01:28:29.256802Z"
    },
    "papermill": {
     "duration": 0.017776,
     "end_time": "2023-08-27T01:28:29.258432",
     "exception": false,
     "start_time": "2023-08-27T01:28:29.240656",
     "status": "completed"
    },
    "tags": [
     "injected-parameters"
    ]
   },
   "outputs": [],
   "source": [
    "# Parameters\n",
    "reconstructed_phylogeny_url = \"https://github.com/mmore500/hereditary-stratigraph-concept/blob/49e2bb1ff4c433af5eab2532f077663dc7d9efa3/binder/phylogenetic-inference/a=reconstructed_phylogenies+source=nk_tournamentselection_seed140_pop100_mut.01_snapshot_5000.csv.gz\"\n",
    "original_phylogeny_url = \"https://osf.io/5ubn8/\"\n"
   ]
  },
  {
   "cell_type": "code",
   "execution_count": 6,
   "id": "b3940f73",
   "metadata": {
    "execution": {
     "iopub.execute_input": "2023-08-27T01:28:29.286639Z",
     "iopub.status.busy": "2023-08-27T01:28:29.286475Z",
     "iopub.status.idle": "2023-08-27T01:28:29.878030Z",
     "shell.execute_reply": "2023-08-27T01:28:29.877511Z"
    },
    "papermill": {
     "duration": 0.607472,
     "end_time": "2023-08-27T01:28:29.879582",
     "exception": false,
     "start_time": "2023-08-27T01:28:29.272110",
     "status": "completed"
    },
    "tags": []
   },
   "outputs": [],
   "source": [
    "import alifedata_phyloinformatics_convert as apc\n",
    "from Bio import Phylo\n",
    "import dendropy\n",
    "from iterpop import iterpop as ip\n",
    "from keyname import keyname as kn\n",
    "from matplotlib import pyplot as plt\n",
    "import numpy as np\n",
    "import opytional as opyt\n",
    "from os.path import basename\n",
    "import pandas as pd\n",
    "import seaborn as sns\n",
    "import sys\n",
    "from teeplot import teeplot as tp\n"
   ]
  },
  {
   "cell_type": "code",
   "execution_count": 7,
   "id": "e87bbd10",
   "metadata": {
    "execution": {
     "iopub.execute_input": "2023-08-27T01:28:29.908521Z",
     "iopub.status.busy": "2023-08-27T01:28:29.908352Z",
     "iopub.status.idle": "2023-08-27T01:28:29.911522Z",
     "shell.execute_reply": "2023-08-27T01:28:29.911055Z"
    },
    "papermill": {
     "duration": 0.019162,
     "end_time": "2023-08-27T01:28:29.912849",
     "exception": false,
     "start_time": "2023-08-27T01:28:29.893687",
     "status": "completed"
    },
    "tags": []
   },
   "outputs": [],
   "source": [
    "from pylib import draw_biopython_tree_with_origin_time_bounds\n"
   ]
  },
  {
   "cell_type": "code",
   "execution_count": 8,
   "id": "806f6e94",
   "metadata": {
    "execution": {
     "iopub.execute_input": "2023-08-27T01:28:29.941326Z",
     "iopub.status.busy": "2023-08-27T01:28:29.941160Z",
     "iopub.status.idle": "2023-08-27T01:28:29.944563Z",
     "shell.execute_reply": "2023-08-27T01:28:29.944116Z"
    },
    "papermill": {
     "duration": 0.019171,
     "end_time": "2023-08-27T01:28:29.945845",
     "exception": false,
     "start_time": "2023-08-27T01:28:29.926674",
     "status": "completed"
    },
    "tags": []
   },
   "outputs": [],
   "source": [
    "sys.setrecursionlimit(100000) # data exceeds default recursion limit\n"
   ]
  },
  {
   "cell_type": "code",
   "execution_count": 9,
   "id": "a50ae8c7",
   "metadata": {
    "execution": {
     "iopub.execute_input": "2023-08-27T01:28:29.974754Z",
     "iopub.status.busy": "2023-08-27T01:28:29.974592Z",
     "iopub.status.idle": "2023-08-27T01:28:30.281474Z",
     "shell.execute_reply": "2023-08-27T01:28:30.280926Z"
    },
    "papermill": {
     "duration": 0.323055,
     "end_time": "2023-08-27T01:28:30.283214",
     "exception": false,
     "start_time": "2023-08-27T01:28:29.960159",
     "status": "completed"
    },
    "tags": []
   },
   "outputs": [
    {
     "name": "stdout",
     "output_type": "stream",
     "text": [
      "context: ci\n",
      "hostname: 35c412e11b43\n",
      "interpreter: 3.8.10 (default, May 26 2023, 14:05:08)  [GCC 9.4.0]\n",
      "nbcellexec: 9\n",
      "nbname: reconstructed_phylogeny_evaluation_mill\n",
      "nbpath: /opt/hereditary-stratigraph-concept/binder/phylogenetic-inference/reconstructed_phylogeny_evaluation_mill.ipynb\n",
      "revision: null\n",
      "session: 4aebc659-24d8-4896-8524-c54af3caa655\n",
      "timestamp: 2023-08-27T01:28:30Z00:00\n",
      "\n",
      "\n"
     ]
    },
    {
     "name": "stdout",
     "output_type": "stream",
     "text": [
      "IPython==7.16.1\n",
      "endomill==0.1.3\n",
      "ipykernel==5.5.3\n",
      "ipython_genutils==0.2.0\n",
      "json==2.0.9\n",
      "keyname==0.4.1\n",
      "logging==0.5.1.2\n",
      "nbmetalog==0.2.6\n",
      "re==2.2.1\n",
      "yaml==5.3.1\n",
      "zmq==22.3.0\n",
      "Bio==1.79\n",
      "alifedata_phyloinformatics_convert==0.13.0\n",
      "dendropy==4.5.2\n",
      "iterpop==0.4.0\n",
      "matplotlib==3.3.2\n",
      "numpy==1.21.5\n",
      "opytional==0.1.0\n",
      "pandas==2.0.3\n",
      "seaborn==0.11.0\n",
      "teeplot==0.2.0\n"
     ]
    }
   ],
   "source": [
    "nbm.print_metadata()\n"
   ]
  },
  {
   "cell_type": "code",
   "execution_count": 10,
   "id": "f5cc3976",
   "metadata": {
    "execution": {
     "iopub.execute_input": "2023-08-27T01:28:30.313292Z",
     "iopub.status.busy": "2023-08-27T01:28:30.313132Z",
     "iopub.status.idle": "2023-08-27T01:28:31.060151Z",
     "shell.execute_reply": "2023-08-27T01:28:31.059401Z"
    },
    "papermill": {
     "duration": 0.763937,
     "end_time": "2023-08-27T01:28:31.061775",
     "exception": false,
     "start_time": "2023-08-27T01:28:30.297838",
     "status": "completed"
    },
    "tags": []
   },
   "outputs": [
    {
     "name": "stdout",
     "output_type": "stream",
     "text": [
      "digest: c6b696c726b86e9938266653c2fce10b2151e0d42bbc95740eaf4332b3f31307\n",
      "manifest:\n",
      "  ancestor_list: '    9#   ex., [250]'\n",
      "  depth: '            9#   ex., 8'\n",
      "  destruction_time: ' 7#   ex., inf'\n",
      "  id: '               17#  ex., 47645'\n",
      "  name: '             17#  ex., 47645'\n",
      "  num_offspring: '    3#   ex., 0'\n",
      "  num_orgs: '         3#   ex., 1'\n",
      "  origin_time: '      10#  ex., 5000'\n",
      "  phenotype: '        15#  ex., [ 0.897281 0.627867 0.842173 0.953767 0.615421 0.849175\n",
      "    0.795495 0.655207 0.630174 0.939279 0.457317 0.102534 0.960229 0.780958 0.248017\n",
      "    0.843595 0.791117 0.595291 0.68697 0.513536 ]'\n",
      "  taxon_label: '      17#  ex., 47645'\n",
      "  tot_orgs: '         9#   ex., 1'\n",
      "  total_offspring: '  3#   ex., 0'\n",
      "num cols: 12\n",
      "num cols all na: 0\n",
      "num cols any na: 0\n",
      "num na: 0\n",
      "num rows: 17\n",
      "num rows all na: 0\n",
      "num rows any na: 0\n",
      "size: 8K\n",
      "\n"
     ]
    }
   ],
   "source": [
    "original_df = pd.read_csv(\n",
    "    f'{original_phylogeny_url}/download',\n",
    ")\n",
    "\n",
    "original_df['name'] = original_df['id'].astype(str)\n",
    "original_df['taxon_label'] = original_df['id'].astype(str)\n",
    "\n",
    "nbm.print_dataframe_synopsis(original_df)\n"
   ]
  },
  {
   "cell_type": "code",
   "execution_count": 11,
   "id": "273ef913",
   "metadata": {
    "execution": {
     "iopub.execute_input": "2023-08-27T01:28:31.092878Z",
     "iopub.status.busy": "2023-08-27T01:28:31.092699Z",
     "iopub.status.idle": "2023-08-27T01:28:31.757850Z",
     "shell.execute_reply": "2023-08-27T01:28:31.757295Z"
    },
    "papermill": {
     "duration": 0.682271,
     "end_time": "2023-08-27T01:28:31.759138",
     "exception": false,
     "start_time": "2023-08-27T01:28:31.076867",
     "status": "completed"
    },
    "tags": []
   },
   "outputs": [
    {
     "name": "stdout",
     "output_type": "stream",
     "text": [
      "digest: ac2d0e411e0b284730b0b4d257a45d61163c6ca03e5d916d33d9f3ce60440473\n",
      "manifest:\n",
      "  Algorithm: '                           1#    ex., <function upgma at 0x7f295e9051f0>'\n",
      "  Instance: '                            18#   ex., differentia=1+policy=RecencyProportionalResolution+target=4096<function\n",
      "    upgma at 0x7f295e9051f0>'\n",
      "  Origin Time Estimate: '                24#   ex., 20.5'\n",
      "  Origin Time Lower Bound (Inclusive): ' 13#   ex., 16.0'\n",
      "  Origin Time Upper Bound (Exclusive): ' 23#   ex., 26.0'\n",
      "  Treatment: '                           18#   ex., differentia=1+policy=RecencyProportionalResolution+target=4096'\n",
      "  'Unnamed: 0': '                          306#  ex., 0'\n",
      "  ancestor_list: '                       15#   ex., [None]'\n",
      "  branch_length: '                       53#   ex., 20.5'\n",
      "  id: '                                  17#   ex., 0'\n",
      "  index: '                               17#   ex., 0'\n",
      "  name: '                                17#   ex., Inner8'\n",
      "  origin_time: '                         24#   ex., 20.5'\n",
      "  taxon_label: '                         17#   ex., Inner8'\n",
      "num cols: 14\n",
      "num cols all na: 0\n",
      "num cols any na: 0\n",
      "num na: 0\n",
      "num rows: 306\n",
      "num rows all na: 0\n",
      "num rows any na: 0\n",
      "size: 184K\n",
      "\n",
      "a=reconstructed_phylogenies+source=nk_tournamentselection_seed140_pop100_mut.01_snapshot_5000.csv.gz\n"
     ]
    }
   ],
   "source": [
    "reconstructed_df = pd.read_csv(\n",
    "    f'{reconstructed_phylogeny_url}?raw=true',\n",
    "    compression='gzip',\n",
    ")\n",
    "reconstructed_df['taxon_label'] = reconstructed_df['name']\n",
    "reconstructed_df['Instance'] = reconstructed_df.apply(\n",
    "    lambda row: row['Treatment'] + row['Algorithm'],\n",
    "    axis=1,\n",
    ")\n",
    "\n",
    "nbm.print_dataframe_synopsis(reconstructed_df)\n",
    "\n",
    "data_filename = basename(reconstructed_phylogeny_url)\n",
    "\n",
    "print(data_filename)\n"
   ]
  },
  {
   "cell_type": "code",
   "execution_count": 12,
   "id": "ea41c8cf",
   "metadata": {
    "execution": {
     "iopub.execute_input": "2023-08-27T01:28:31.790800Z",
     "iopub.status.busy": "2023-08-27T01:28:31.790628Z",
     "iopub.status.idle": "2023-08-27T01:28:31.794450Z",
     "shell.execute_reply": "2023-08-27T01:28:31.793712Z"
    },
    "papermill": {
     "duration": 0.02125,
     "end_time": "2023-08-27T01:28:31.795800",
     "exception": false,
     "start_time": "2023-08-27T01:28:31.774550",
     "status": "completed"
    },
    "tags": []
   },
   "outputs": [],
   "source": [
    "endomill.add_instance_outpath(\n",
    "    f'a=reconstructed_phylogeny_evaluation+source={kn.unpack(data_filename)[\"source\"]}.endomill.ipynb',\n",
    ")\n"
   ]
  },
  {
   "cell_type": "code",
   "execution_count": 13,
   "id": "871152d7",
   "metadata": {
    "execution": {
     "iopub.execute_input": "2023-08-27T01:28:31.827183Z",
     "iopub.status.busy": "2023-08-27T01:28:31.827022Z",
     "iopub.status.idle": "2023-08-27T01:28:31.830670Z",
     "shell.execute_reply": "2023-08-27T01:28:31.830196Z"
    },
    "papermill": {
     "duration": 0.020965,
     "end_time": "2023-08-27T01:28:31.832044",
     "exception": false,
     "start_time": "2023-08-27T01:28:31.811079",
     "status": "completed"
    },
    "tags": []
   },
   "outputs": [],
   "source": [
    "def sort_tree(tree):\n",
    "    # sort clades for consistent display\n",
    "    for node in tree.find_clades(order='postorder'):\n",
    "        if node.clades:\n",
    "            node.max_descendant = max(child.max_descendant for child in node.clades)\n",
    "        else:\n",
    "            node.max_descendant = int(node.name)\n",
    "        node.clades.sort(key=lambda node: node.max_descendant)\n"
   ]
  },
  {
   "cell_type": "code",
   "execution_count": 14,
   "id": "cba66eda",
   "metadata": {
    "execution": {
     "iopub.execute_input": "2023-08-27T01:28:31.863899Z",
     "iopub.status.busy": "2023-08-27T01:28:31.863737Z",
     "iopub.status.idle": "2023-08-27T01:28:31.866952Z",
     "shell.execute_reply": "2023-08-27T01:28:31.866468Z"
    },
    "papermill": {
     "duration": 0.020626,
     "end_time": "2023-08-27T01:28:31.868119",
     "exception": false,
     "start_time": "2023-08-27T01:28:31.847493",
     "status": "completed"
    },
    "tags": []
   },
   "outputs": [],
   "source": [
    "taxon_rename_dict = {\n",
    "    str(taxon): np.base_repr(i, 36).lower()\n",
    "    for i, taxon\n",
    "    in enumerate(sorted(reconstructed_df['name'].unique()))\n",
    "    if 'Inner' not in taxon\n",
    "}\n"
   ]
  },
  {
   "cell_type": "code",
   "execution_count": 15,
   "id": "d644d53f",
   "metadata": {
    "execution": {
     "iopub.execute_input": "2023-08-27T01:28:31.899762Z",
     "iopub.status.busy": "2023-08-27T01:28:31.899610Z",
     "iopub.status.idle": "2023-08-27T01:28:32.376465Z",
     "shell.execute_reply": "2023-08-27T01:28:32.375971Z"
    },
    "papermill": {
     "duration": 0.494662,
     "end_time": "2023-08-27T01:28:32.378177",
     "exception": false,
     "start_time": "2023-08-27T01:28:31.883515",
     "status": "completed"
    },
    "tags": []
   },
   "outputs": [
    {
     "name": "stdout",
     "output_type": "stream",
     "text": [
      "teeplots/a=true_phylogeny+source=a%reconstructed_phylogenies~source%nk_tournamentselection_seed140_pop100_mut.01_snapshot_5000.csv.gz+viz=truncate-phylo+ext=.pdf\n"
     ]
    },
    {
     "name": "stdout",
     "output_type": "stream",
     "text": [
      "teeplots/a=true_phylogeny+source=a%reconstructed_phylogenies~source%nk_tournamentselection_seed140_pop100_mut.01_snapshot_5000.csv.gz+viz=truncate-phylo+ext=.png\n"
     ]
    },
    {
     "data": {
      "image/png": "[encoded data removed]",
      "text/plain": [
       "<Figure size 432x288 with 1 Axes>"
      ]
     },
     "metadata": {
      "needs_background": "light"
     },
     "output_type": "display_data"
    }
   ],
   "source": [
    "actual_tree = apc.alife_dataframe_to_biopython_tree(\n",
    "    original_df,\n",
    "    setup_branch_lengths=True,\n",
    ")\n",
    "for inner_node in actual_tree.get_nonterminals():\n",
    "    inner_node.name = None\n",
    "sort_tree(actual_tree)\n",
    "\n",
    "\n",
    "def truncate_phylo(*args, **kwargs):\n",
    "    Phylo.draw(*args, **kwargs)\n",
    "    if 'sharingselection' in reconstructed_phylogeny_url:\n",
    "        plt.gca().set_xlim(4920, 5020)\n",
    "        plt.gcf().set_size_inches(3, 15)\n",
    "\n",
    "tp.tee(\n",
    "    truncate_phylo,\n",
    "    actual_tree,\n",
    "    label_func=lambda node: opyt.apply_if(node.name, lambda x: taxon_rename_dict[str(x)]),\n",
    "    do_show=False,\n",
    "    teeplot_outattrs={\n",
    "        'a' : 'true_phylogeny',\n",
    "        'source' : kn.demote(data_filename),\n",
    "    },\n",
    ")\n"
   ]
  },
  {
   "cell_type": "code",
   "execution_count": 16,
   "id": "6fe2dd1f",
   "metadata": {
    "execution": {
     "iopub.execute_input": "2023-08-27T01:28:32.412677Z",
     "iopub.status.busy": "2023-08-27T01:28:32.412504Z",
     "iopub.status.idle": "2023-08-27T01:28:43.582960Z",
     "shell.execute_reply": "2023-08-27T01:28:43.582418Z"
    },
    "papermill": {
     "duration": 11.189392,
     "end_time": "2023-08-27T01:28:43.584380",
     "exception": false,
     "start_time": "2023-08-27T01:28:32.394988",
     "status": "completed"
    },
    "tags": []
   },
   "outputs": [
    {
     "name": "stdout",
     "output_type": "stream",
     "text": [
      "teeplots/source=a%reconstructed_phylogenies~source%nk_tournamentselection_seed140_pop100_mut.01_snapshot_5000.csv.gz+treatment=differentia%1~policy%RecencyProportionalResolution~target%4096+viz=truncate-phylo-bounds+ext=.pdf\n"
     ]
    },
    {
     "name": "stdout",
     "output_type": "stream",
     "text": [
      "teeplots/source=a%reconstructed_phylogenies~source%nk_tournamentselection_seed140_pop100_mut.01_snapshot_5000.csv.gz+treatment=differentia%1~policy%RecencyProportionalResolution~target%4096+viz=truncate-phylo-bounds+ext=.png\n"
     ]
    },
    {
     "name": "stdout",
     "output_type": "stream",
     "text": [
      "teeplots/source=a%reconstructed_phylogenies~source%nk_tournamentselection_seed140_pop100_mut.01_snapshot_5000.csv.gz+treatment=differentia%1~policy%RecencyProportionalResolution~target%512+viz=truncate-phylo-bounds+ext=.pdf\n"
     ]
    },
    {
     "name": "stdout",
     "output_type": "stream",
     "text": [
      "teeplots/source=a%reconstructed_phylogenies~source%nk_tournamentselection_seed140_pop100_mut.01_snapshot_5000.csv.gz+treatment=differentia%1~policy%RecencyProportionalResolution~target%512+viz=truncate-phylo-bounds+ext=.png\n"
     ]
    },
    {
     "name": "stdout",
     "output_type": "stream",
     "text": [
      "teeplots/source=a%reconstructed_phylogenies~source%nk_tournamentselection_seed140_pop100_mut.01_snapshot_5000.csv.gz+treatment=differentia%1~policy%RecencyProportionalResolution~target%64+viz=truncate-phylo-bounds+ext=.pdf\n"
     ]
    },
    {
     "name": "stdout",
     "output_type": "stream",
     "text": [
      "teeplots/source=a%reconstructed_phylogenies~source%nk_tournamentselection_seed140_pop100_mut.01_snapshot_5000.csv.gz+treatment=differentia%1~policy%RecencyProportionalResolution~target%64+viz=truncate-phylo-bounds+ext=.png\n"
     ]
    },
    {
     "name": "stdout",
     "output_type": "stream",
     "text": [
      "teeplots/source=a%reconstructed_phylogenies~source%nk_tournamentselection_seed140_pop100_mut.01_snapshot_5000.csv.gz+treatment=differentia%1~policy%TaperedDepthProportionalResolution~target%4096+viz=truncate-phylo-bounds+ext=.pdf\n"
     ]
    },
    {
     "name": "stdout",
     "output_type": "stream",
     "text": [
      "teeplots/source=a%reconstructed_phylogenies~source%nk_tournamentselection_seed140_pop100_mut.01_snapshot_5000.csv.gz+treatment=differentia%1~policy%TaperedDepthProportionalResolution~target%4096+viz=truncate-phylo-bounds+ext=.png\n"
     ]
    },
    {
     "name": "stdout",
     "output_type": "stream",
     "text": [
      "teeplots/source=a%reconstructed_phylogenies~source%nk_tournamentselection_seed140_pop100_mut.01_snapshot_5000.csv.gz+treatment=differentia%1~policy%TaperedDepthProportionalResolution~target%512+viz=truncate-phylo-bounds+ext=.pdf\n"
     ]
    },
    {
     "name": "stdout",
     "output_type": "stream",
     "text": [
      "teeplots/source=a%reconstructed_phylogenies~source%nk_tournamentselection_seed140_pop100_mut.01_snapshot_5000.csv.gz+treatment=differentia%1~policy%TaperedDepthProportionalResolution~target%512+viz=truncate-phylo-bounds+ext=.png\n"
     ]
    },
    {
     "name": "stdout",
     "output_type": "stream",
     "text": [
      "teeplots/source=a%reconstructed_phylogenies~source%nk_tournamentselection_seed140_pop100_mut.01_snapshot_5000.csv.gz+treatment=differentia%1~policy%TaperedDepthProportionalResolution~target%64+viz=truncate-phylo-bounds+ext=.pdf\n"
     ]
    },
    {
     "name": "stdout",
     "output_type": "stream",
     "text": [
      "teeplots/source=a%reconstructed_phylogenies~source%nk_tournamentselection_seed140_pop100_mut.01_snapshot_5000.csv.gz+treatment=differentia%1~policy%TaperedDepthProportionalResolution~target%64+viz=truncate-phylo-bounds+ext=.png\n"
     ]
    },
    {
     "name": "stdout",
     "output_type": "stream",
     "text": [
      "teeplots/source=a%reconstructed_phylogenies~source%nk_tournamentselection_seed140_pop100_mut.01_snapshot_5000.csv.gz+treatment=differentia%64~policy%RecencyProportionalResolution~target%4096+viz=truncate-phylo-bounds+ext=.pdf\n"
     ]
    },
    {
     "name": "stdout",
     "output_type": "stream",
     "text": [
      "teeplots/source=a%reconstructed_phylogenies~source%nk_tournamentselection_seed140_pop100_mut.01_snapshot_5000.csv.gz+treatment=differentia%64~policy%RecencyProportionalResolution~target%4096+viz=truncate-phylo-bounds+ext=.png\n"
     ]
    },
    {
     "name": "stdout",
     "output_type": "stream",
     "text": [
      "teeplots/source=a%reconstructed_phylogenies~source%nk_tournamentselection_seed140_pop100_mut.01_snapshot_5000.csv.gz+treatment=differentia%64~policy%RecencyProportionalResolution~target%512+viz=truncate-phylo-bounds+ext=.pdf\n"
     ]
    },
    {
     "name": "stdout",
     "output_type": "stream",
     "text": [
      "teeplots/source=a%reconstructed_phylogenies~source%nk_tournamentselection_seed140_pop100_mut.01_snapshot_5000.csv.gz+treatment=differentia%64~policy%RecencyProportionalResolution~target%512+viz=truncate-phylo-bounds+ext=.png\n"
     ]
    },
    {
     "name": "stdout",
     "output_type": "stream",
     "text": [
      "teeplots/source=a%reconstructed_phylogenies~source%nk_tournamentselection_seed140_pop100_mut.01_snapshot_5000.csv.gz+treatment=differentia%64~policy%RecencyProportionalResolution~target%64+viz=truncate-phylo-bounds+ext=.pdf\n"
     ]
    },
    {
     "name": "stdout",
     "output_type": "stream",
     "text": [
      "teeplots/source=a%reconstructed_phylogenies~source%nk_tournamentselection_seed140_pop100_mut.01_snapshot_5000.csv.gz+treatment=differentia%64~policy%RecencyProportionalResolution~target%64+viz=truncate-phylo-bounds+ext=.png\n"
     ]
    },
    {
     "name": "stdout",
     "output_type": "stream",
     "text": [
      "teeplots/source=a%reconstructed_phylogenies~source%nk_tournamentselection_seed140_pop100_mut.01_snapshot_5000.csv.gz+treatment=differentia%64~policy%TaperedDepthProportionalResolution~target%4096+viz=truncate-phylo-bounds+ext=.pdf\n"
     ]
    },
    {
     "name": "stdout",
     "output_type": "stream",
     "text": [
      "teeplots/source=a%reconstructed_phylogenies~source%nk_tournamentselection_seed140_pop100_mut.01_snapshot_5000.csv.gz+treatment=differentia%64~policy%TaperedDepthProportionalResolution~target%4096+viz=truncate-phylo-bounds+ext=.png\n"
     ]
    },
    {
     "name": "stdout",
     "output_type": "stream",
     "text": [
      "teeplots/source=a%reconstructed_phylogenies~source%nk_tournamentselection_seed140_pop100_mut.01_snapshot_5000.csv.gz+treatment=differentia%64~policy%TaperedDepthProportionalResolution~target%512+viz=truncate-phylo-bounds+ext=.pdf\n"
     ]
    },
    {
     "name": "stdout",
     "output_type": "stream",
     "text": [
      "teeplots/source=a%reconstructed_phylogenies~source%nk_tournamentselection_seed140_pop100_mut.01_snapshot_5000.csv.gz+treatment=differentia%64~policy%TaperedDepthProportionalResolution~target%512+viz=truncate-phylo-bounds+ext=.png\n"
     ]
    },
    {
     "name": "stdout",
     "output_type": "stream",
     "text": [
      "teeplots/source=a%reconstructed_phylogenies~source%nk_tournamentselection_seed140_pop100_mut.01_snapshot_5000.csv.gz+treatment=differentia%64~policy%TaperedDepthProportionalResolution~target%64+viz=truncate-phylo-bounds+ext=.pdf\n"
     ]
    },
    {
     "name": "stdout",
     "output_type": "stream",
     "text": [
      "teeplots/source=a%reconstructed_phylogenies~source%nk_tournamentselection_seed140_pop100_mut.01_snapshot_5000.csv.gz+treatment=differentia%64~policy%TaperedDepthProportionalResolution~target%64+viz=truncate-phylo-bounds+ext=.png\n"
     ]
    },
    {
     "name": "stdout",
     "output_type": "stream",
     "text": [
      "teeplots/source=a%reconstructed_phylogenies~source%nk_tournamentselection_seed140_pop100_mut.01_snapshot_5000.csv.gz+treatment=differentia%8~policy%RecencyProportionalResolution~target%4096+viz=truncate-phylo-bounds+ext=.pdf\n"
     ]
    },
    {
     "name": "stdout",
     "output_type": "stream",
     "text": [
      "teeplots/source=a%reconstructed_phylogenies~source%nk_tournamentselection_seed140_pop100_mut.01_snapshot_5000.csv.gz+treatment=differentia%8~policy%RecencyProportionalResolution~target%4096+viz=truncate-phylo-bounds+ext=.png\n"
     ]
    },
    {
     "name": "stdout",
     "output_type": "stream",
     "text": [
      "teeplots/source=a%reconstructed_phylogenies~source%nk_tournamentselection_seed140_pop100_mut.01_snapshot_5000.csv.gz+treatment=differentia%8~policy%RecencyProportionalResolution~target%512+viz=truncate-phylo-bounds+ext=.pdf\n"
     ]
    },
    {
     "name": "stdout",
     "output_type": "stream",
     "text": [
      "teeplots/source=a%reconstructed_phylogenies~source%nk_tournamentselection_seed140_pop100_mut.01_snapshot_5000.csv.gz+treatment=differentia%8~policy%RecencyProportionalResolution~target%512+viz=truncate-phylo-bounds+ext=.png\n"
     ]
    },
    {
     "name": "stdout",
     "output_type": "stream",
     "text": [
      "teeplots/source=a%reconstructed_phylogenies~source%nk_tournamentselection_seed140_pop100_mut.01_snapshot_5000.csv.gz+treatment=differentia%8~policy%RecencyProportionalResolution~target%64+viz=truncate-phylo-bounds+ext=.pdf\n"
     ]
    },
    {
     "name": "stdout",
     "output_type": "stream",
     "text": [
      "teeplots/source=a%reconstructed_phylogenies~source%nk_tournamentselection_seed140_pop100_mut.01_snapshot_5000.csv.gz+treatment=differentia%8~policy%RecencyProportionalResolution~target%64+viz=truncate-phylo-bounds+ext=.png\n"
     ]
    },
    {
     "name": "stdout",
     "output_type": "stream",
     "text": [
      "teeplots/source=a%reconstructed_phylogenies~source%nk_tournamentselection_seed140_pop100_mut.01_snapshot_5000.csv.gz+treatment=differentia%8~policy%TaperedDepthProportionalResolution~target%4096+viz=truncate-phylo-bounds+ext=.pdf\n"
     ]
    },
    {
     "name": "stdout",
     "output_type": "stream",
     "text": [
      "teeplots/source=a%reconstructed_phylogenies~source%nk_tournamentselection_seed140_pop100_mut.01_snapshot_5000.csv.gz+treatment=differentia%8~policy%TaperedDepthProportionalResolution~target%4096+viz=truncate-phylo-bounds+ext=.png\n"
     ]
    },
    {
     "name": "stdout",
     "output_type": "stream",
     "text": [
      "teeplots/source=a%reconstructed_phylogenies~source%nk_tournamentselection_seed140_pop100_mut.01_snapshot_5000.csv.gz+treatment=differentia%8~policy%TaperedDepthProportionalResolution~target%512+viz=truncate-phylo-bounds+ext=.pdf\n"
     ]
    },
    {
     "name": "stdout",
     "output_type": "stream",
     "text": [
      "teeplots/source=a%reconstructed_phylogenies~source%nk_tournamentselection_seed140_pop100_mut.01_snapshot_5000.csv.gz+treatment=differentia%8~policy%TaperedDepthProportionalResolution~target%512+viz=truncate-phylo-bounds+ext=.png\n"
     ]
    },
    {
     "name": "stdout",
     "output_type": "stream",
     "text": [
      "teeplots/source=a%reconstructed_phylogenies~source%nk_tournamentselection_seed140_pop100_mut.01_snapshot_5000.csv.gz+treatment=differentia%8~policy%TaperedDepthProportionalResolution~target%64+viz=truncate-phylo-bounds+ext=.pdf\n"
     ]
    },
    {
     "name": "stdout",
     "output_type": "stream",
     "text": [
      "teeplots/source=a%reconstructed_phylogenies~source%nk_tournamentselection_seed140_pop100_mut.01_snapshot_5000.csv.gz+treatment=differentia%8~policy%TaperedDepthProportionalResolution~target%64+viz=truncate-phylo-bounds+ext=.png\n"
     ]
    },
    {
     "data": {
      "image/png": "[encoded data removed]",
      "text/plain": [
       "<Figure size 432x288 with 1 Axes>"
      ]
     },
     "metadata": {
      "needs_background": "light"
     },
     "output_type": "display_data"
    },
    {
     "data": {
      "image/png": "[encoded data removed]",
      "text/plain": [
       "<Figure size 432x288 with 1 Axes>"
      ]
     },
     "metadata": {
      "needs_background": "light"
     },
     "output_type": "display_data"
    },
    {
     "data": {
      "image/png": "[encoded data removed]",
      "text/plain": [
       "<Figure size 432x288 with 1 Axes>"
      ]
     },
     "metadata": {
      "needs_background": "light"
     },
     "output_type": "display_data"
    },
    {
     "data": {
      "image/png": "[encoded data removed]",
      "text/plain": [
       "<Figure size 432x288 with 1 Axes>"
      ]
     },
     "metadata": {
      "needs_background": "light"
     },
     "output_type": "display_data"
    },
    {
     "data": {
      "image/png": "[encoded data removed]",
      "text/plain": [
       "<Figure size 432x288 with 1 Axes>"
      ]
     },
     "metadata": {
      "needs_background": "light"
     },
     "output_type": "display_data"
    },
    {
     "data": {
      "image/png": "[encoded data removed]",
      "text/plain": [
       "<Figure size 432x288 with 1 Axes>"
      ]
     },
     "metadata": {
      "needs_background": "light"
     },
     "output_type": "display_data"
    },
    {
     "data": {
      "image/png": "[encoded data removed]",
      "text/plain": [
       "<Figure size 432x288 with 1 Axes>"
      ]
     },
     "metadata": {
      "needs_background": "light"
     },
     "output_type": "display_data"
    },
    {
     "data": {
      "image/png": "[encoded data removed]",
      "text/plain": [
       "<Figure size 432x288 with 1 Axes>"
      ]
     },
     "metadata": {
      "needs_background": "light"
     },
     "output_type": "display_data"
    },
    {
     "data": {
      "image/png": "[encoded data removed]",
      "text/plain": [
       "<Figure size 432x288 with 1 Axes>"
      ]
     },
     "metadata": {
      "needs_background": "light"
     },
     "output_type": "display_data"
    },
    {
     "data": {
      "image/png": "[encoded data removed]",
      "text/plain": [
       "<Figure size 432x288 with 1 Axes>"
      ]
     },
     "metadata": {
      "needs_background": "light"
     },
     "output_type": "display_data"
    },
    {
     "data": {
      "image/png": "[encoded data removed]",
      "text/plain": [
       "<Figure size 432x288 with 1 Axes>"
      ]
     },
     "metadata": {
      "needs_background": "light"
     },
     "output_type": "display_data"
    },
    {
     "data": {
      "image/png": "[encoded data removed]",
      "text/plain": [
       "<Figure size 432x288 with 1 Axes>"
      ]
     },
     "metadata": {
      "needs_background": "light"
     },
     "output_type": "display_data"
    },
    {
     "data": {
      "image/png": "[encoded data removed]",
      "text/plain": [
       "<Figure size 432x288 with 1 Axes>"
      ]
     },
     "metadata": {
      "needs_background": "light"
     },
     "output_type": "display_data"
    },
    {
     "data": {
      "image/png": "[encoded data removed]",
      "text/plain": [
       "<Figure size 432x288 with 1 Axes>"
      ]
     },
     "metadata": {
      "needs_background": "light"
     },
     "output_type": "display_data"
    },
    {
     "data": {
      "image/png": "[encoded data removed]",
      "text/plain": [
       "<Figure size 432x288 with 1 Axes>"
      ]
     },
     "metadata": {
      "needs_background": "light"
     },
     "output_type": "display_data"
    },
    {
     "data": {
      "image/png": "[encoded data removed]",
      "text/plain": [
       "<Figure size 432x288 with 1 Axes>"
      ]
     },
     "metadata": {
      "needs_background": "light"
     },
     "output_type": "display_data"
    },
    {
     "data": {
      "image/png": "[encoded data removed]",
      "text/plain": [
       "<Figure size 432x288 with 1 Axes>"
      ]
     },
     "metadata": {
      "needs_background": "light"
     },
     "output_type": "display_data"
    },
    {
     "data": {
      "image/png": "[encoded data removed]",
      "text/plain": [
       "<Figure size 432x288 with 1 Axes>"
      ]
     },
     "metadata": {
      "needs_background": "light"
     },
     "output_type": "display_data"
    }
   ],
   "source": [
    "def truncate_phylo_bounds(*args, **kwargs):\n",
    "    draw_biopython_tree_with_origin_time_bounds(*args, **kwargs)\n",
    "    if 'sharingselection' in reconstructed_phylogeny_url:\n",
    "        plt.gca().set_xlim(4920, 5020)\n",
    "        plt.gcf().set_size_inches(3, 15)\n",
    "\n",
    "\n",
    "for instance, group in reconstructed_df.groupby('Instance'):\n",
    "    assert not any(group['branch_length'].isnull())\n",
    "    tree = apc.alife_dataframe_to_biopython_tree(\n",
    "        group,\n",
    "        # don't need to pass setup_edge_lengths=True\n",
    "        # because they're provided directly\n",
    "        # as a column in the dataframe\n",
    "        setattrs={\n",
    "            'Origin Time Lower Bound (Inclusive)': 'origin_time_lb',\n",
    "            'Origin Time Upper Bound (Exclusive)': 'origin_time_ub',\n",
    "        },\n",
    "    )\n",
    "    sort_tree(tree)\n",
    "    tp.tee(\n",
    "        truncate_phylo_bounds,\n",
    "        tree,\n",
    "        label_func=lambda node: opyt.apply_if(\n",
    "            node.name, lambda x: taxon_rename_dict[str(x)]\n",
    "        )\n",
    "        if \"Inner\" not in node.name\n",
    "        else None,\n",
    "        do_show=False,\n",
    "        teeplot_outattrs={\n",
    "            'treatment': kn.demote(ip.popsingleton(group['Treatment'].unique())),\n",
    "            'source' : kn.demote(data_filename),\n",
    "        },\n",
    "    )\n"
   ]
  },
  {
   "cell_type": "code",
   "execution_count": 17,
   "id": "3efb967c",
   "metadata": {
    "execution": {
     "iopub.execute_input": "2023-08-27T01:28:43.655753Z",
     "iopub.status.busy": "2023-08-27T01:28:43.655561Z",
     "iopub.status.idle": "2023-08-27T01:28:43.870747Z",
     "shell.execute_reply": "2023-08-27T01:28:43.869963Z"
    },
    "papermill": {
     "duration": 0.2525,
     "end_time": "2023-08-27T01:28:43.872220",
     "exception": false,
     "start_time": "2023-08-27T01:28:43.619720",
     "status": "completed"
    },
    "tags": []
   },
   "outputs": [],
   "source": [
    "actual_tree = apc.alife_dataframe_to_dendropy_tree(original_df)\n",
    "for inner_node in actual_tree.internal_nodes():\n",
    "    inner_node.taxon = None\n",
    "\n",
    "records = []\n",
    "for instance, group in reconstructed_df.groupby('Instance'):\n",
    "    group['edge_length'] = group['branch_length']\n",
    "    assert not any(group['edge_length'].isnull())\n",
    "    tree = apc.alife_dataframe_to_dendropy_tree(\n",
    "        group,\n",
    "        # don't need to pass setup_edge_lengths=True\n",
    "        # because they're provided directly\n",
    "        # as a column in the dataframe\n",
    "    )\n",
    "    tree.migrate_taxon_namespace(actual_tree.taxon_namespace)\n",
    "    unweighted_robinson_foulds = dendropy.calculate.treecompare.unweighted_robinson_foulds_distance(\n",
    "        actual_tree,\n",
    "        tree,\n",
    "    )\n",
    "    weighted_robinson_foulds = dendropy.calculate.treecompare.weighted_robinson_foulds_distance(\n",
    "        actual_tree,\n",
    "        tree,\n",
    "    )\n",
    "    euclidean = dendropy.calculate.treecompare.euclidean_distance(\n",
    "        actual_tree,\n",
    "        tree,\n",
    "    )\n",
    "\n",
    "    records.append({\n",
    "        **{\n",
    "            'Instance': 'Instance',\n",
    "            'Algorithm': ip.popsingleton(group['Algorithm'].unique()),\n",
    "            'Treatment': ip.popsingleton(group['Treatment'].unique()),\n",
    "            'Unweighted Robinson Foulds Distance Error': unweighted_robinson_foulds,\n",
    "            'Weighted Robinson Foulds Distance Error': weighted_robinson_foulds,\n",
    "            'Euclidean Distance Error': euclidean,\n",
    "        },\n",
    "        **kn.unpack(ip.popsingleton(group['Treatment'].unique())),\n",
    "    })\n",
    "\n",
    "\n",
    "res_df = pd.DataFrame.from_records(records)\n"
   ]
  },
  {
   "cell_type": "code",
   "execution_count": 18,
   "id": "8f23067f",
   "metadata": {
    "execution": {
     "iopub.execute_input": "2023-08-27T01:28:43.943570Z",
     "iopub.status.busy": "2023-08-27T01:28:43.943389Z",
     "iopub.status.idle": "2023-08-27T01:28:43.956462Z",
     "shell.execute_reply": "2023-08-27T01:28:43.956082Z"
    },
    "papermill": {
     "duration": 0.050154,
     "end_time": "2023-08-27T01:28:43.957652",
     "exception": false,
     "start_time": "2023-08-27T01:28:43.907498",
     "status": "completed"
    },
    "tags": []
   },
   "outputs": [
    {
     "data": {
      "text/html": [
       "<div>\n",
       "<style scoped>\n",
       "    .dataframe tbody tr th:only-of-type {\n",
       "        vertical-align: middle;\n",
       "    }\n",
       "\n",
       "    .dataframe tbody tr th {\n",
       "        vertical-align: top;\n",
       "    }\n",
       "\n",
       "    .dataframe thead th {\n",
       "        text-align: right;\n",
       "    }\n",
       "</style>\n",
       "<table border=\"1\" class=\"dataframe\">\n",
       "  <thead>\n",
       "    <tr style=\"text-align: right;\">\n",
       "      <th></th>\n",
       "      <th>Instance</th>\n",
       "      <th>Algorithm</th>\n",
       "      <th>Treatment</th>\n",
       "      <th>Unweighted Robinson Foulds Distance Error</th>\n",
       "      <th>Weighted Robinson Foulds Distance Error</th>\n",
       "      <th>Euclidean Distance Error</th>\n",
       "      <th>differentia</th>\n",
       "      <th>policy</th>\n",
       "      <th>target</th>\n",
       "      <th>_</th>\n",
       "    </tr>\n",
       "  </thead>\n",
       "  <tbody>\n",
       "    <tr>\n",
       "      <th>0</th>\n",
       "      <td>Instance</td>\n",
       "      <td>&lt;function upgma at 0x7f295e9051f0&gt;</td>\n",
       "      <td>differentia=1+policy=RecencyProportionalResolu...</td>\n",
       "      <td>6</td>\n",
       "      <td>44803.0</td>\n",
       "      <td>14920.852606</td>\n",
       "      <td>1</td>\n",
       "      <td>RecencyProportionalResolution</td>\n",
       "      <td>4096</td>\n",
       "      <td>differentia=1+policy=RecencyProportionalResolu...</td>\n",
       "    </tr>\n",
       "    <tr>\n",
       "      <th>1</th>\n",
       "      <td>Instance</td>\n",
       "      <td>&lt;function upgma at 0x7f295e9051f0&gt;</td>\n",
       "      <td>differentia=1+policy=RecencyProportionalResolu...</td>\n",
       "      <td>6</td>\n",
       "      <td>43795.0</td>\n",
       "      <td>14504.980955</td>\n",
       "      <td>1</td>\n",
       "      <td>RecencyProportionalResolution</td>\n",
       "      <td>512</td>\n",
       "      <td>differentia=1+policy=RecencyProportionalResolu...</td>\n",
       "    </tr>\n",
       "    <tr>\n",
       "      <th>2</th>\n",
       "      <td>Instance</td>\n",
       "      <td>&lt;function upgma at 0x7f295e9051f0&gt;</td>\n",
       "      <td>differentia=1+policy=RecencyProportionalResolu...</td>\n",
       "      <td>6</td>\n",
       "      <td>34003.0</td>\n",
       "      <td>10984.941352</td>\n",
       "      <td>1</td>\n",
       "      <td>RecencyProportionalResolution</td>\n",
       "      <td>64</td>\n",
       "      <td>differentia=1+policy=RecencyProportionalResolu...</td>\n",
       "    </tr>\n",
       "    <tr>\n",
       "      <th>3</th>\n",
       "      <td>Instance</td>\n",
       "      <td>&lt;function upgma at 0x7f295e9051f0&gt;</td>\n",
       "      <td>differentia=1+policy=TaperedDepthProportionalR...</td>\n",
       "      <td>6</td>\n",
       "      <td>44811.0</td>\n",
       "      <td>14924.850368</td>\n",
       "      <td>1</td>\n",
       "      <td>TaperedDepthProportionalResolution</td>\n",
       "      <td>4096</td>\n",
       "      <td>differentia=1+policy=TaperedDepthProportionalR...</td>\n",
       "    </tr>\n",
       "    <tr>\n",
       "      <th>4</th>\n",
       "      <td>Instance</td>\n",
       "      <td>&lt;function upgma at 0x7f295e9051f0&gt;</td>\n",
       "      <td>differentia=1+policy=TaperedDepthProportionalR...</td>\n",
       "      <td>6</td>\n",
       "      <td>44699.0</td>\n",
       "      <td>14870.661872</td>\n",
       "      <td>1</td>\n",
       "      <td>TaperedDepthProportionalResolution</td>\n",
       "      <td>512</td>\n",
       "      <td>differentia=1+policy=TaperedDepthProportionalR...</td>\n",
       "    </tr>\n",
       "    <tr>\n",
       "      <th>5</th>\n",
       "      <td>Instance</td>\n",
       "      <td>&lt;function upgma at 0x7f295e9051f0&gt;</td>\n",
       "      <td>differentia=1+policy=TaperedDepthProportionalR...</td>\n",
       "      <td>6</td>\n",
       "      <td>42323.0</td>\n",
       "      <td>13841.369025</td>\n",
       "      <td>1</td>\n",
       "      <td>TaperedDepthProportionalResolution</td>\n",
       "      <td>64</td>\n",
       "      <td>differentia=1+policy=TaperedDepthProportionalR...</td>\n",
       "    </tr>\n",
       "    <tr>\n",
       "      <th>6</th>\n",
       "      <td>Instance</td>\n",
       "      <td>&lt;function upgma at 0x7f295e9051f0&gt;</td>\n",
       "      <td>differentia=64+policy=RecencyProportionalResol...</td>\n",
       "      <td>6</td>\n",
       "      <td>42963.0</td>\n",
       "      <td>14238.126018</td>\n",
       "      <td>64</td>\n",
       "      <td>RecencyProportionalResolution</td>\n",
       "      <td>4096</td>\n",
       "      <td>differentia=64+policy=RecencyProportionalResol...</td>\n",
       "    </tr>\n",
       "    <tr>\n",
       "      <th>7</th>\n",
       "      <td>Instance</td>\n",
       "      <td>&lt;function upgma at 0x7f295e9051f0&gt;</td>\n",
       "      <td>differentia=64+policy=RecencyProportionalResol...</td>\n",
       "      <td>6</td>\n",
       "      <td>28627.0</td>\n",
       "      <td>9093.343967</td>\n",
       "      <td>64</td>\n",
       "      <td>RecencyProportionalResolution</td>\n",
       "      <td>512</td>\n",
       "      <td>differentia=64+policy=RecencyProportionalResol...</td>\n",
       "    </tr>\n",
       "    <tr>\n",
       "      <th>8</th>\n",
       "      <td>Instance</td>\n",
       "      <td>&lt;function upgma at 0x7f295e9051f0&gt;</td>\n",
       "      <td>differentia=64+policy=RecencyProportionalResol...</td>\n",
       "      <td>6</td>\n",
       "      <td>28627.0</td>\n",
       "      <td>9093.343967</td>\n",
       "      <td>64</td>\n",
       "      <td>RecencyProportionalResolution</td>\n",
       "      <td>64</td>\n",
       "      <td>differentia=64+policy=RecencyProportionalResol...</td>\n",
       "    </tr>\n",
       "    <tr>\n",
       "      <th>9</th>\n",
       "      <td>Instance</td>\n",
       "      <td>&lt;function upgma at 0x7f295e9051f0&gt;</td>\n",
       "      <td>differentia=64+policy=TaperedDepthProportional...</td>\n",
       "      <td>6</td>\n",
       "      <td>44499.0</td>\n",
       "      <td>14811.969501</td>\n",
       "      <td>64</td>\n",
       "      <td>TaperedDepthProportionalResolution</td>\n",
       "      <td>4096</td>\n",
       "      <td>differentia=64+policy=TaperedDepthProportional...</td>\n",
       "    </tr>\n",
       "    <tr>\n",
       "      <th>10</th>\n",
       "      <td>Instance</td>\n",
       "      <td>&lt;function upgma at 0x7f295e9051f0&gt;</td>\n",
       "      <td>differentia=64+policy=TaperedDepthProportional...</td>\n",
       "      <td>6</td>\n",
       "      <td>40915.0</td>\n",
       "      <td>13477.543118</td>\n",
       "      <td>64</td>\n",
       "      <td>TaperedDepthProportionalResolution</td>\n",
       "      <td>512</td>\n",
       "      <td>differentia=64+policy=TaperedDepthProportional...</td>\n",
       "    </tr>\n",
       "    <tr>\n",
       "      <th>11</th>\n",
       "      <td>Instance</td>\n",
       "      <td>&lt;function upgma at 0x7f295e9051f0&gt;</td>\n",
       "      <td>differentia=64+policy=TaperedDepthProportional...</td>\n",
       "      <td>6</td>\n",
       "      <td>28627.0</td>\n",
       "      <td>9093.343967</td>\n",
       "      <td>64</td>\n",
       "      <td>TaperedDepthProportionalResolution</td>\n",
       "      <td>64</td>\n",
       "      <td>differentia=64+policy=TaperedDepthProportional...</td>\n",
       "    </tr>\n",
       "    <tr>\n",
       "      <th>12</th>\n",
       "      <td>Instance</td>\n",
       "      <td>&lt;function upgma at 0x7f295e9051f0&gt;</td>\n",
       "      <td>differentia=8+policy=RecencyProportionalResolu...</td>\n",
       "      <td>6</td>\n",
       "      <td>44755.0</td>\n",
       "      <td>14907.866665</td>\n",
       "      <td>8</td>\n",
       "      <td>RecencyProportionalResolution</td>\n",
       "      <td>4096</td>\n",
       "      <td>differentia=8+policy=RecencyProportionalResolu...</td>\n",
       "    </tr>\n",
       "    <tr>\n",
       "      <th>13</th>\n",
       "      <td>Instance</td>\n",
       "      <td>&lt;function upgma at 0x7f295e9051f0&gt;</td>\n",
       "      <td>differentia=8+policy=RecencyProportionalResolu...</td>\n",
       "      <td>6</td>\n",
       "      <td>42963.0</td>\n",
       "      <td>14238.126018</td>\n",
       "      <td>8</td>\n",
       "      <td>RecencyProportionalResolution</td>\n",
       "      <td>512</td>\n",
       "      <td>differentia=8+policy=RecencyProportionalResolu...</td>\n",
       "    </tr>\n",
       "    <tr>\n",
       "      <th>14</th>\n",
       "      <td>Instance</td>\n",
       "      <td>&lt;function upgma at 0x7f295e9051f0&gt;</td>\n",
       "      <td>differentia=8+policy=RecencyProportionalResolu...</td>\n",
       "      <td>6</td>\n",
       "      <td>28627.0</td>\n",
       "      <td>9093.343967</td>\n",
       "      <td>8</td>\n",
       "      <td>RecencyProportionalResolution</td>\n",
       "      <td>64</td>\n",
       "      <td>differentia=8+policy=RecencyProportionalResolu...</td>\n",
       "    </tr>\n",
       "    <tr>\n",
       "      <th>15</th>\n",
       "      <td>Instance</td>\n",
       "      <td>&lt;function upgma at 0x7f295e9051f0&gt;</td>\n",
       "      <td>differentia=8+policy=TaperedDepthProportionalR...</td>\n",
       "      <td>6</td>\n",
       "      <td>44803.0</td>\n",
       "      <td>14921.207743</td>\n",
       "      <td>8</td>\n",
       "      <td>TaperedDepthProportionalResolution</td>\n",
       "      <td>4096</td>\n",
       "      <td>differentia=8+policy=TaperedDepthProportionalR...</td>\n",
       "    </tr>\n",
       "    <tr>\n",
       "      <th>16</th>\n",
       "      <td>Instance</td>\n",
       "      <td>&lt;function upgma at 0x7f295e9051f0&gt;</td>\n",
       "      <td>differentia=8+policy=TaperedDepthProportionalR...</td>\n",
       "      <td>6</td>\n",
       "      <td>44499.0</td>\n",
       "      <td>14811.969501</td>\n",
       "      <td>8</td>\n",
       "      <td>TaperedDepthProportionalResolution</td>\n",
       "      <td>512</td>\n",
       "      <td>differentia=8+policy=TaperedDepthProportionalR...</td>\n",
       "    </tr>\n",
       "    <tr>\n",
       "      <th>17</th>\n",
       "      <td>Instance</td>\n",
       "      <td>&lt;function upgma at 0x7f295e9051f0&gt;</td>\n",
       "      <td>differentia=8+policy=TaperedDepthProportionalR...</td>\n",
       "      <td>6</td>\n",
       "      <td>40915.0</td>\n",
       "      <td>13477.543118</td>\n",
       "      <td>8</td>\n",
       "      <td>TaperedDepthProportionalResolution</td>\n",
       "      <td>64</td>\n",
       "      <td>differentia=8+policy=TaperedDepthProportionalR...</td>\n",
       "    </tr>\n",
       "  </tbody>\n",
       "</table>\n",
       "</div>"
      ],
      "text/plain": [
       "    Instance                           Algorithm  \\\n",
       "0   Instance  <function upgma at 0x7f295e9051f0>   \n",
       "1   Instance  <function upgma at 0x7f295e9051f0>   \n",
       "2   Instance  <function upgma at 0x7f295e9051f0>   \n",
       "3   Instance  <function upgma at 0x7f295e9051f0>   \n",
       "4   Instance  <function upgma at 0x7f295e9051f0>   \n",
       "5   Instance  <function upgma at 0x7f295e9051f0>   \n",
       "6   Instance  <function upgma at 0x7f295e9051f0>   \n",
       "7   Instance  <function upgma at 0x7f295e9051f0>   \n",
       "8   Instance  <function upgma at 0x7f295e9051f0>   \n",
       "9   Instance  <function upgma at 0x7f295e9051f0>   \n",
       "10  Instance  <function upgma at 0x7f295e9051f0>   \n",
       "11  Instance  <function upgma at 0x7f295e9051f0>   \n",
       "12  Instance  <function upgma at 0x7f295e9051f0>   \n",
       "13  Instance  <function upgma at 0x7f295e9051f0>   \n",
       "14  Instance  <function upgma at 0x7f295e9051f0>   \n",
       "15  Instance  <function upgma at 0x7f295e9051f0>   \n",
       "16  Instance  <function upgma at 0x7f295e9051f0>   \n",
       "17  Instance  <function upgma at 0x7f295e9051f0>   \n",
       "\n",
       "                                            Treatment  \\\n",
       "0   differentia=1+policy=RecencyProportionalResolu...   \n",
       "1   differentia=1+policy=RecencyProportionalResolu...   \n",
       "2   differentia=1+policy=RecencyProportionalResolu...   \n",
       "3   differentia=1+policy=TaperedDepthProportionalR...   \n",
       "4   differentia=1+policy=TaperedDepthProportionalR...   \n",
       "5   differentia=1+policy=TaperedDepthProportionalR...   \n",
       "6   differentia=64+policy=RecencyProportionalResol...   \n",
       "7   differentia=64+policy=RecencyProportionalResol...   \n",
       "8   differentia=64+policy=RecencyProportionalResol...   \n",
       "9   differentia=64+policy=TaperedDepthProportional...   \n",
       "10  differentia=64+policy=TaperedDepthProportional...   \n",
       "11  differentia=64+policy=TaperedDepthProportional...   \n",
       "12  differentia=8+policy=RecencyProportionalResolu...   \n",
       "13  differentia=8+policy=RecencyProportionalResolu...   \n",
       "14  differentia=8+policy=RecencyProportionalResolu...   \n",
       "15  differentia=8+policy=TaperedDepthProportionalR...   \n",
       "16  differentia=8+policy=TaperedDepthProportionalR...   \n",
       "17  differentia=8+policy=TaperedDepthProportionalR...   \n",
       "\n",
       "    Unweighted Robinson Foulds Distance Error  \\\n",
       "0                                           6   \n",
       "1                                           6   \n",
       "2                                           6   \n",
       "3                                           6   \n",
       "4                                           6   \n",
       "5                                           6   \n",
       "6                                           6   \n",
       "7                                           6   \n",
       "8                                           6   \n",
       "9                                           6   \n",
       "10                                          6   \n",
       "11                                          6   \n",
       "12                                          6   \n",
       "13                                          6   \n",
       "14                                          6   \n",
       "15                                          6   \n",
       "16                                          6   \n",
       "17                                          6   \n",
       "\n",
       "    Weighted Robinson Foulds Distance Error  Euclidean Distance Error  \\\n",
       "0                                   44803.0              14920.852606   \n",
       "1                                   43795.0              14504.980955   \n",
       "2                                   34003.0              10984.941352   \n",
       "3                                   44811.0              14924.850368   \n",
       "4                                   44699.0              14870.661872   \n",
       "5                                   42323.0              13841.369025   \n",
       "6                                   42963.0              14238.126018   \n",
       "7                                   28627.0               9093.343967   \n",
       "8                                   28627.0               9093.343967   \n",
       "9                                   44499.0              14811.969501   \n",
       "10                                  40915.0              13477.543118   \n",
       "11                                  28627.0               9093.343967   \n",
       "12                                  44755.0              14907.866665   \n",
       "13                                  42963.0              14238.126018   \n",
       "14                                  28627.0               9093.343967   \n",
       "15                                  44803.0              14921.207743   \n",
       "16                                  44499.0              14811.969501   \n",
       "17                                  40915.0              13477.543118   \n",
       "\n",
       "   differentia                              policy target  \\\n",
       "0            1       RecencyProportionalResolution   4096   \n",
       "1            1       RecencyProportionalResolution    512   \n",
       "2            1       RecencyProportionalResolution     64   \n",
       "3            1  TaperedDepthProportionalResolution   4096   \n",
       "4            1  TaperedDepthProportionalResolution    512   \n",
       "5            1  TaperedDepthProportionalResolution     64   \n",
       "6           64       RecencyProportionalResolution   4096   \n",
       "7           64       RecencyProportionalResolution    512   \n",
       "8           64       RecencyProportionalResolution     64   \n",
       "9           64  TaperedDepthProportionalResolution   4096   \n",
       "10          64  TaperedDepthProportionalResolution    512   \n",
       "11          64  TaperedDepthProportionalResolution     64   \n",
       "12           8       RecencyProportionalResolution   4096   \n",
       "13           8       RecencyProportionalResolution    512   \n",
       "14           8       RecencyProportionalResolution     64   \n",
       "15           8  TaperedDepthProportionalResolution   4096   \n",
       "16           8  TaperedDepthProportionalResolution    512   \n",
       "17           8  TaperedDepthProportionalResolution     64   \n",
       "\n",
       "                                                    _  \n",
       "0   differentia=1+policy=RecencyProportionalResolu...  \n",
       "1   differentia=1+policy=RecencyProportionalResolu...  \n",
       "2   differentia=1+policy=RecencyProportionalResolu...  \n",
       "3   differentia=1+policy=TaperedDepthProportionalR...  \n",
       "4   differentia=1+policy=TaperedDepthProportionalR...  \n",
       "5   differentia=1+policy=TaperedDepthProportionalR...  \n",
       "6   differentia=64+policy=RecencyProportionalResol...  \n",
       "7   differentia=64+policy=RecencyProportionalResol...  \n",
       "8   differentia=64+policy=RecencyProportionalResol...  \n",
       "9   differentia=64+policy=TaperedDepthProportional...  \n",
       "10  differentia=64+policy=TaperedDepthProportional...  \n",
       "11  differentia=64+policy=TaperedDepthProportional...  \n",
       "12  differentia=8+policy=RecencyProportionalResolu...  \n",
       "13  differentia=8+policy=RecencyProportionalResolu...  \n",
       "14  differentia=8+policy=RecencyProportionalResolu...  \n",
       "15  differentia=8+policy=TaperedDepthProportionalR...  \n",
       "16  differentia=8+policy=TaperedDepthProportionalR...  \n",
       "17  differentia=8+policy=TaperedDepthProportionalR...  "
      ]
     },
     "execution_count": 18,
     "metadata": {},
     "output_type": "execute_result"
    }
   ],
   "source": [
    "res_df\n"
   ]
  },
  {
   "cell_type": "code",
   "execution_count": 19,
   "id": "c79de2da",
   "metadata": {
    "execution": {
     "iopub.execute_input": "2023-08-27T01:28:44.030431Z",
     "iopub.status.busy": "2023-08-27T01:28:44.030106Z",
     "iopub.status.idle": "2023-08-27T01:28:44.042922Z",
     "shell.execute_reply": "2023-08-27T01:28:44.042386Z"
    },
    "papermill": {
     "duration": 0.05078,
     "end_time": "2023-08-27T01:28:44.044164",
     "exception": false,
     "start_time": "2023-08-27T01:28:43.993384",
     "status": "completed"
    },
    "tags": []
   },
   "outputs": [
    {
     "name": "stdout",
     "output_type": "stream",
     "text": [
      "digest: 1e9c5f727daef1850a43a41bbf81d1a6527057e7e6aa63cae992c6eea23d6d5f\n",
      "manifest:\n",
      "  Algorithm: '                                 1#   ex., <function upgma at 0x7f295e9051f0>'\n",
      "  Euclidean Distance Error: '                  12#  ex., 14920.852606335873'\n",
      "  Instance: '                                  1#   ex., Instance'\n",
      "  Treatment: '                                 18#  ex., differentia=1+policy=RecencyProportionalResolution+target=4096'\n",
      "  Unweighted Robinson Foulds Distance Error: ' 1#   ex., 6'\n",
      "  Weighted Robinson Foulds Distance Error: '   11#  ex., 44803.0'\n",
      "  _: '                                         18#  ex., differentia=1+policy=RecencyProportionalResolution+target=4096'\n",
      "  differentia: '                               3#   ex., 1'\n",
      "  policy: '                                    2#   ex., RecencyProportionalResolution'\n",
      "  target: '                                    3#   ex., 4096'\n",
      "num cols: 10\n",
      "num cols all na: 0\n",
      "num cols any na: 0\n",
      "num na: 0\n",
      "num rows: 18\n",
      "num rows all na: 0\n",
      "num rows any na: 0\n",
      "size: 11K\n",
      "\n"
     ]
    }
   ],
   "source": [
    "nbm.print_dataframe_synopsis(res_df)\n"
   ]
  },
  {
   "cell_type": "code",
   "execution_count": 20,
   "id": "67aa45a1",
   "metadata": {
    "execution": {
     "iopub.execute_input": "2023-08-27T01:28:44.117056Z",
     "iopub.status.busy": "2023-08-27T01:28:44.116880Z",
     "iopub.status.idle": "2023-08-27T01:28:44.120491Z",
     "shell.execute_reply": "2023-08-27T01:28:44.120086Z"
    },
    "papermill": {
     "duration": 0.041556,
     "end_time": "2023-08-27T01:28:44.121623",
     "exception": false,
     "start_time": "2023-08-27T01:28:44.080067",
     "status": "completed"
    },
    "tags": []
   },
   "outputs": [],
   "source": [
    "res_df['Target Column Bit Size'] = res_df['target']\n",
    "res_df['Stratum Retention Policy'] = res_df['policy']\n",
    "res_df['Differentia Bit Width'] = res_df['differentia']\n"
   ]
  },
  {
   "cell_type": "code",
   "execution_count": 21,
   "id": "7f09c394",
   "metadata": {
    "execution": {
     "iopub.execute_input": "2023-08-27T01:28:44.195008Z",
     "iopub.status.busy": "2023-08-27T01:28:44.194832Z",
     "iopub.status.idle": "2023-08-27T01:28:44.200734Z",
     "shell.execute_reply": "2023-08-27T01:28:44.200283Z"
    },
    "papermill": {
     "duration": 0.044381,
     "end_time": "2023-08-27T01:28:44.202136",
     "exception": false,
     "start_time": "2023-08-27T01:28:44.157755",
     "status": "completed"
    },
    "tags": []
   },
   "outputs": [],
   "source": [
    "def facet_barplot(\n",
    "    data,\n",
    "    col,\n",
    "    x,\n",
    "    y,\n",
    "    hue,\n",
    "):\n",
    "    g = sns.FacetGrid(\n",
    "        data,\n",
    "        col=col,\n",
    "        col_order=sorted(data[col].unique(), key=lambda x: int(x)),\n",
    "        margin_titles=True,\n",
    "        legend_out=True,\n",
    "    )\n",
    "    g.map_dataframe(\n",
    "        sns.barplot,\n",
    "        x=x,\n",
    "        y=y,\n",
    "        hue=hue,\n",
    "        order=sorted(data[x].unique(), key=lambda x: int(x)),\n",
    "        palette='colorblind',\n",
    "    )\n",
    "    g.add_legend()\n",
    "    g._legend.set_title(hue)\n",
    "    for ax in g.axes.flat:\n",
    "        ax.set_xlabel(x)\n",
    "    g.axes.flat[0].set_ylabel(y)\n"
   ]
  },
  {
   "cell_type": "code",
   "execution_count": 22,
   "id": "01d13d1d",
   "metadata": {
    "execution": {
     "iopub.execute_input": "2023-08-27T01:28:44.275601Z",
     "iopub.status.busy": "2023-08-27T01:28:44.275413Z",
     "iopub.status.idle": "2023-08-27T01:28:45.362572Z",
     "shell.execute_reply": "2023-08-27T01:28:45.362084Z"
    },
    "papermill": {
     "duration": 1.125545,
     "end_time": "2023-08-27T01:28:45.363843",
     "exception": false,
     "start_time": "2023-08-27T01:28:44.238298",
     "status": "completed"
    },
    "tags": []
   },
   "outputs": [
    {
     "name": "stdout",
     "output_type": "stream",
     "text": [
      "teeplots/col=differentia-bit-width+hue=stratum-retention-policy+viz=facet-barplot+x=target-column-bit-size+y=euclidean-distance-error+ext=.pdf\n"
     ]
    },
    {
     "name": "stdout",
     "output_type": "stream",
     "text": [
      "teeplots/col=differentia-bit-width+hue=stratum-retention-policy+viz=facet-barplot+x=target-column-bit-size+y=euclidean-distance-error+ext=.png\n"
     ]
    },
    {
     "data": {
      "image/png": "[encoded data removed]",
      "text/plain": [
       "<Figure size 866x216 with 3 Axes>"
      ]
     },
     "metadata": {
      "needs_background": "light"
     },
     "output_type": "display_data"
    }
   ],
   "source": [
    "tp.tee(\n",
    "    facet_barplot,\n",
    "    data=res_df,\n",
    "    col='Differentia Bit Width',\n",
    "    x='Target Column Bit Size',\n",
    "    y='Euclidean Distance Error',\n",
    "    hue='Stratum Retention Policy',\n",
    ")\n"
   ]
  },
  {
   "cell_type": "code",
   "execution_count": 23,
   "id": "9e80b1ba",
   "metadata": {
    "execution": {
     "iopub.execute_input": "2023-08-27T01:28:45.441095Z",
     "iopub.status.busy": "2023-08-27T01:28:45.440907Z",
     "iopub.status.idle": "2023-08-27T01:28:46.535483Z",
     "shell.execute_reply": "2023-08-27T01:28:46.534971Z"
    },
    "papermill": {
     "duration": 1.13509,
     "end_time": "2023-08-27T01:28:46.536793",
     "exception": false,
     "start_time": "2023-08-27T01:28:45.401703",
     "status": "completed"
    },
    "tags": []
   },
   "outputs": [
    {
     "name": "stdout",
     "output_type": "stream",
     "text": [
      "teeplots/col=differentia-bit-width+hue=stratum-retention-policy+viz=facet-barplot+x=target-column-bit-size+y=unweighted-robinson-foulds-distance-error+ext=.pdf\n"
     ]
    },
    {
     "name": "stdout",
     "output_type": "stream",
     "text": [
      "teeplots/col=differentia-bit-width+hue=stratum-retention-policy+viz=facet-barplot+x=target-column-bit-size+y=unweighted-robinson-foulds-distance-error+ext=.png\n"
     ]
    },
    {
     "data": {
      "image/png": "[encoded data removed]",
      "text/plain": [
       "<Figure size 866x216 with 3 Axes>"
      ]
     },
     "metadata": {
      "needs_background": "light"
     },
     "output_type": "display_data"
    }
   ],
   "source": [
    "tp.tee(\n",
    "    facet_barplot,\n",
    "    data=res_df,\n",
    "    col='Differentia Bit Width',\n",
    "    x='Target Column Bit Size',\n",
    "    y='Unweighted Robinson Foulds Distance Error',\n",
    "    hue='Stratum Retention Policy',\n",
    ")\n"
   ]
  },
  {
   "cell_type": "code",
   "execution_count": 24,
   "id": "ee35f236",
   "metadata": {
    "execution": {
     "iopub.execute_input": "2023-08-27T01:28:46.617177Z",
     "iopub.status.busy": "2023-08-27T01:28:46.616985Z",
     "iopub.status.idle": "2023-08-27T01:28:47.675524Z",
     "shell.execute_reply": "2023-08-27T01:28:47.674619Z"
    },
    "papermill": {
     "duration": 1.099889,
     "end_time": "2023-08-27T01:28:47.676903",
     "exception": false,
     "start_time": "2023-08-27T01:28:46.577014",
     "status": "completed"
    },
    "tags": []
   },
   "outputs": [
    {
     "name": "stdout",
     "output_type": "stream",
     "text": [
      "teeplots/col=differentia-bit-width+hue=stratum-retention-policy+viz=facet-barplot+x=target-column-bit-size+y=weighted-robinson-foulds-distance-error+ext=.pdf\n"
     ]
    },
    {
     "name": "stdout",
     "output_type": "stream",
     "text": [
      "teeplots/col=differentia-bit-width+hue=stratum-retention-policy+viz=facet-barplot+x=target-column-bit-size+y=weighted-robinson-foulds-distance-error+ext=.png\n"
     ]
    },
    {
     "data": {
      "image/png": "[encoded data removed]",
      "text/plain": [
       "<Figure size 866x216 with 3 Axes>"
      ]
     },
     "metadata": {
      "needs_background": "light"
     },
     "output_type": "display_data"
    }
   ],
   "source": [
    "tp.tee(\n",
    "    facet_barplot,\n",
    "    data=res_df,\n",
    "    col='Differentia Bit Width',\n",
    "    x='Target Column Bit Size',\n",
    "    y='Weighted Robinson Foulds Distance Error',\n",
    "    hue='Stratum Retention Policy',\n",
    ")\n"
   ]
  },
  {
   "cell_type": "code",
   "execution_count": 25,
   "id": "77b52d81",
   "metadata": {
    "execution": {
     "iopub.execute_input": "2023-08-27T01:28:47.759176Z",
     "iopub.status.busy": "2023-08-27T01:28:47.758977Z",
     "iopub.status.idle": "2023-08-27T01:28:47.765774Z",
     "shell.execute_reply": "2023-08-27T01:28:47.764521Z"
    },
    "papermill": {
     "duration": 0.049509,
     "end_time": "2023-08-27T01:28:47.767035",
     "exception": false,
     "start_time": "2023-08-27T01:28:47.717526",
     "status": "completed"
    },
    "tags": []
   },
   "outputs": [],
   "source": [
    "res_df.to_csv(\n",
    "    f'a=reconstructed_phylogeny_evaluation+source={kn.unpack(data_filename)[\"source\"]}',\n",
    "    compression='gzip',\n",
    ")\n",
    "res_df.to_csv(\n",
    "    f'a=reconstructed_phylogeny_evaluation+source={kn.unpack(data_filename)[\"source\"][:-len(\".gz\")]}',\n",
    ")\n"
   ]
  }
 ],
 "metadata": {
  "kernelspec": {
   "display_name": "Python 3",
   "language": "python",
   "name": "python3"
  },
  "papermill": {
   "default_parameters": {},
   "duration": null,
   "end_time": null,
   "environment_variables": {},
   "exception": null,
   "input_path": "/opt/hereditary-stratigraph-concept/binder/phylogenetic-inference/reconstructed_phylogeny_evaluation_mill.ipynb",
   "output_path": "executing.endomill.ipynb",
   "parameters": {
    "original_phylogeny_url": "https://osf.io/5ubn8/",
    "reconstructed_phylogeny_url": "https://github.com/mmore500/hereditary-stratigraph-concept/blob/49e2bb1ff4c433af5eab2532f077663dc7d9efa3/binder/phylogenetic-inference/a=reconstructed_phylogenies+source=nk_tournamentselection_seed140_pop100_mut.01_snapshot_5000.csv.gz"
   },
   "start_time": "2023-08-27T01:28:27.511475",
   "version": "2.3.4"
  }
 },
 "nbformat": 4,
 "nbformat_minor": 5
}