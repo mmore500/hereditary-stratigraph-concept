{
 "cells": [
  {
   "cell_type": "code",
   "execution_count": 1,
   "id": "fb9ff21e",
   "metadata": {
    "execution": {
     "iopub.execute_input": "2022-03-13T17:00:46.792841Z",
     "iopub.status.busy": "2022-03-13T17:00:46.792544Z",
     "iopub.status.idle": "2022-03-13T17:00:46.798711Z",
     "shell.execute_reply": "2022-03-13T17:00:46.798227Z"
    },
    "papermill": {
     "duration": 0.025656,
     "end_time": "2022-03-13T17:00:46.800179",
     "exception": false,
     "start_time": "2022-03-13T17:00:46.774523",
     "status": "completed"
    },
    "tags": [
     "injected-parameters"
    ]
   },
   "outputs": [],
   "source": [
    "# Parameters\n",
    "data_url = \"https://osf.io/8ycq7/\"\n"
   ]
  },
  {
   "cell_type": "code",
   "execution_count": 2,
   "id": "21082666",
   "metadata": {
    "execution": {
     "iopub.execute_input": "2022-03-13T17:00:46.829392Z",
     "iopub.status.busy": "2022-03-13T17:00:46.829110Z",
     "iopub.status.idle": "2022-03-13T17:00:47.556411Z",
     "shell.execute_reply": "2022-03-13T17:00:47.555738Z"
    },
    "papermill": {
     "duration": 0.744502,
     "end_time": "2022-03-13T17:00:47.558446",
     "exception": false,
     "start_time": "2022-03-13T17:00:46.813944",
     "status": "completed"
    },
    "tags": []
   },
   "outputs": [],
   "source": [
    "import endomill\n",
    "from nbmetalog import nbmetalog as nbm\n"
   ]
  },
  {
   "cell_type": "code",
   "execution_count": 3,
   "id": "5587be83",
   "metadata": {
    "execution": {
     "iopub.execute_input": "2022-03-13T17:00:47.589165Z",
     "iopub.status.busy": "2022-03-13T17:00:47.588892Z",
     "iopub.status.idle": "2022-03-13T17:00:47.876090Z",
     "shell.execute_reply": "2022-03-13T17:00:47.875382Z"
    },
    "papermill": {
     "duration": 0.304104,
     "end_time": "2022-03-13T17:00:47.877840",
     "exception": false,
     "start_time": "2022-03-13T17:00:47.573736",
     "status": "completed"
    },
    "tags": []
   },
   "outputs": [
    {
     "name": "stdout",
     "output_type": "stream",
     "text": [
      "context: ci\n",
      "hostname: 689c6f45a9a1\n",
      "interpreter: 3.8.12 (default, Jan 15 2022, 18:39:47)  [GCC 7.5.0]\n",
      "nbcellexec: 3\n",
      "nbname: phylogeny_simulation_mill\n",
      "nbpath: /opt/hereditary-stratigraph-concept/binder/phylogenetic-inference/phylogeny_simulation_mill.ipynb\n",
      "revision: null\n",
      "session: 7b644770-49a7-4c76-963e-01edf605c87b\n",
      "timestamp: 2022-03-13T17:00:47Z00:00\n",
      "\n",
      "\n",
      "IPython==7.16.1\n",
      "keyname==0.4.1\n",
      "yaml==5.3.1\n",
      "endomill==0.1.3\n",
      "nbmetalog==0.2.6\n",
      "re==2.2.1\n",
      "ipython_genutils==0.2.0\n",
      "logging==0.5.1.2\n",
      "zmq==22.3.0\n",
      "json==2.0.9\n",
      "ipykernel==5.5.3\n"
     ]
    }
   ],
   "source": [
    "nbm.print_metadata()\n"
   ]
  },
  {
   "cell_type": "code",
   "execution_count": 4,
   "id": "be57cff7",
   "metadata": {
    "execution": {
     "iopub.execute_input": "2022-03-13T17:00:47.907784Z",
     "iopub.status.busy": "2022-03-13T17:00:47.907542Z",
     "iopub.status.idle": "2022-03-13T17:00:47.913306Z",
     "shell.execute_reply": "2022-03-13T17:00:47.912822Z"
    },
    "papermill": {
     "duration": 0.022259,
     "end_time": "2022-03-13T17:00:47.914647",
     "exception": false,
     "start_time": "2022-03-13T17:00:47.892388",
     "status": "completed"
    },
    "tags": []
   },
   "outputs": [
    {
     "name": "stdout",
     "output_type": "stream",
     "text": [
      "detected executing.endomill.ipynb file\n",
      "skipping instantiate_over\n"
     ]
    }
   ],
   "source": [
    "endomill.instantiate_over(\n",
    "    parameter_packs=[\n",
    "        {'data_url': data_url}\n",
    "        for data_url in [\n",
    "            # nk_ecoeaselection_seed110_pop100_mut.01_snapshot_3000.csv\n",
    "            'https://osf.io/5d3be/',\n",
    "            # nk_lexicaseselection_seed110_pop165_mut.01_snapshot_500.csv\n",
    "            'https://osf.io/8ycq7/',\n",
    "            # nk_randomselection_seed7_pop100_mut.01_snapshot_5000.csv\n",
    "            'https://osf.io/ydxt7/',\n",
    "            # nk_sharingselection_seed10_pop100_mut.01_snapshot_5000.csv\n",
    "            'https://osf.io/cz9fk/',\n",
    "            # nk_tournamentselection_seed140_pop100_mut.01_snapshot_5000.csv\n",
    "            'https://osf.io/5ubn8/',\n",
    "        ]\n",
    "    ],\n",
    ")\n"
   ]
  },
  {
   "cell_type": "code",
   "execution_count": 5,
   "id": "72377d14",
   "metadata": {
    "execution": {
     "iopub.execute_input": "2022-03-13T17:00:47.944510Z",
     "iopub.status.busy": "2022-03-13T17:00:47.944211Z",
     "iopub.status.idle": "2022-03-13T17:00:47.946865Z",
     "shell.execute_reply": "2022-03-13T17:00:47.946450Z"
    },
    "papermill": {
     "duration": 0.019348,
     "end_time": "2022-03-13T17:00:47.948251",
     "exception": false,
     "start_time": "2022-03-13T17:00:47.928903",
     "status": "completed"
    },
    "tags": []
   },
   "outputs": [],
   "source": [
    "# define papermill parameters\n",
    "data_url: str\n"
   ]
  },
  {
   "cell_type": "code",
   "execution_count": 6,
   "id": "31ec34a1",
   "metadata": {
    "execution": {
     "iopub.execute_input": "2022-03-13T17:00:47.979681Z",
     "iopub.status.busy": "2022-03-13T17:00:47.979402Z",
     "iopub.status.idle": "2022-03-13T17:00:48.353123Z",
     "shell.execute_reply": "2022-03-13T17:00:48.352499Z"
    },
    "papermill": {
     "duration": 0.391619,
     "end_time": "2022-03-13T17:00:48.355095",
     "exception": false,
     "start_time": "2022-03-13T17:00:47.963476",
     "status": "completed"
    },
    "tags": []
   },
   "outputs": [],
   "source": [
    "import anytree\n",
    "from bs4 import BeautifulSoup\n",
    "from collections import defaultdict\n",
    "from hstrat import hstrat\n",
    "from interval_search import doubling_search\n",
    "from iterpop import iterpop as ip\n",
    "import itertools as it\n",
    "from keyname import keyname as kn\n",
    "import numpy as np\n",
    "import opytional as opyt\n",
    "import pandas as pd\n",
    "import random\n",
    "import sys\n",
    "from tqdm import tqdm\n",
    "from urllib import request\n"
   ]
  },
  {
   "cell_type": "code",
   "execution_count": 7,
   "id": "e7d44458",
   "metadata": {
    "execution": {
     "iopub.execute_input": "2022-03-13T17:00:48.386936Z",
     "iopub.status.busy": "2022-03-13T17:00:48.386663Z",
     "iopub.status.idle": "2022-03-13T17:00:48.391471Z",
     "shell.execute_reply": "2022-03-13T17:00:48.390933Z"
    },
    "papermill": {
     "duration": 0.022147,
     "end_time": "2022-03-13T17:00:48.392861",
     "exception": false,
     "start_time": "2022-03-13T17:00:48.370714",
     "status": "completed"
    },
    "tags": []
   },
   "outputs": [],
   "source": [
    "random.seed(1) # ensure reproducibility\n",
    "sys.setrecursionlimit(100000) # anytree exceeds default recursion limit on our data\n"
   ]
  },
  {
   "cell_type": "code",
   "execution_count": 8,
   "id": "cce5e114",
   "metadata": {
    "execution": {
     "iopub.execute_input": "2022-03-13T17:00:48.424102Z",
     "iopub.status.busy": "2022-03-13T17:00:48.423808Z",
     "iopub.status.idle": "2022-03-13T17:00:48.643234Z",
     "shell.execute_reply": "2022-03-13T17:00:48.642501Z"
    },
    "papermill": {
     "duration": 0.237569,
     "end_time": "2022-03-13T17:00:48.645157",
     "exception": false,
     "start_time": "2022-03-13T17:00:48.407588",
     "status": "completed"
    },
    "tags": []
   },
   "outputs": [
    {
     "name": "stdout",
     "output_type": "stream",
     "text": [
      "context: ci\n",
      "hostname: 689c6f45a9a1\n",
      "interpreter: 3.8.12 (default, Jan 15 2022, 18:39:47)  [GCC 7.5.0]\n",
      "nbcellexec: 8\n",
      "nbname: phylogeny_simulation_mill\n",
      "nbpath: /opt/hereditary-stratigraph-concept/binder/phylogenetic-inference/phylogeny_simulation_mill.ipynb\n",
      "revision: null\n",
      "session: 7b644770-49a7-4c76-963e-01edf605c87b\n",
      "timestamp: 2022-03-13T17:00:48Z00:00\n",
      "\n",
      "\n",
      "IPython==7.16.1\n",
      "endomill==0.1.3\n",
      "ipykernel==5.5.3\n",
      "ipython_genutils==0.2.0\n",
      "json==2.0.9\n",
      "keyname==0.4.1\n",
      "logging==0.5.1.2\n",
      "nbmetalog==0.2.6\n",
      "re==2.2.1\n",
      "yaml==5.3.1\n",
      "zmq==22.3.0\n",
      "anytree==2.8.0\n",
      "hstrat==0.3.2\n",
      "iterpop==0.4.0\n",
      "numpy==1.21.5\n",
      "opytional==0.1.0\n",
      "pandas==1.1.2\n"
     ]
    }
   ],
   "source": [
    "nbm.print_metadata()\n"
   ]
  },
  {
   "cell_type": "code",
   "execution_count": 9,
   "id": "9a9ced57",
   "metadata": {
    "execution": {
     "iopub.execute_input": "2022-03-13T17:00:48.677001Z",
     "iopub.status.busy": "2022-03-13T17:00:48.676734Z",
     "iopub.status.idle": "2022-03-13T17:00:49.174641Z",
     "shell.execute_reply": "2022-03-13T17:00:49.174150Z"
    },
    "papermill": {
     "duration": 0.515711,
     "end_time": "2022-03-13T17:00:49.176077",
     "exception": false,
     "start_time": "2022-03-13T17:00:48.660366",
     "status": "completed"
    },
    "tags": []
   },
   "outputs": [
    {
     "name": "stdout",
     "output_type": "stream",
     "text": [
      "nk_lexicaseselection_seed110_pop165_mut.01_snapshot_500.csv\n"
     ]
    }
   ],
   "source": [
    "html = request.urlopen(data_url).read().decode('utf8')\n",
    "\n",
    "soup = BeautifulSoup(html, 'html.parser')\n",
    "title = soup.find('title')\n",
    "\n",
    "data_filename = title.string.split()[-1]\n",
    "print(data_filename)\n"
   ]
  },
  {
   "cell_type": "code",
   "execution_count": 10,
   "id": "aa06377e",
   "metadata": {
    "execution": {
     "iopub.execute_input": "2022-03-13T17:00:49.208081Z",
     "iopub.status.busy": "2022-03-13T17:00:49.207806Z",
     "iopub.status.idle": "2022-03-13T17:00:49.212243Z",
     "shell.execute_reply": "2022-03-13T17:00:49.211716Z"
    },
    "papermill": {
     "duration": 0.022656,
     "end_time": "2022-03-13T17:00:49.213991",
     "exception": false,
     "start_time": "2022-03-13T17:00:49.191335",
     "status": "completed"
    },
    "tags": []
   },
   "outputs": [],
   "source": [
    "endomill.add_instance_outpath(\n",
    "    f'a=phylogeny_simulation+source={data_filename}.endomill.ipynb',\n",
    ")\n"
   ]
  },
  {
   "cell_type": "markdown",
   "id": "11014629",
   "metadata": {
    "papermill": {
     "duration": 0.015013,
     "end_time": "2022-03-13T17:00:49.244038",
     "exception": false,
     "start_time": "2022-03-13T17:00:49.229025",
     "status": "completed"
    },
    "tags": []
   },
   "source": [
    "# Retrieve Target Phylogeny from OSF\n"
   ]
  },
  {
   "cell_type": "code",
   "execution_count": 11,
   "id": "51b68b5a",
   "metadata": {
    "execution": {
     "iopub.execute_input": "2022-03-13T17:00:49.275457Z",
     "iopub.status.busy": "2022-03-13T17:00:49.275217Z",
     "iopub.status.idle": "2022-03-13T17:00:50.797290Z",
     "shell.execute_reply": "2022-03-13T17:00:50.796590Z"
    },
    "papermill": {
     "duration": 1.540355,
     "end_time": "2022-03-13T17:00:50.799360",
     "exception": false,
     "start_time": "2022-03-13T17:00:49.259005",
     "status": "completed"
    },
    "tags": []
   },
   "outputs": [
    {
     "name": "stdout",
     "output_type": "stream",
     "text": [
      "digest: 7bffa7d6c47b38c6b9dc45d5093196088d0d82dd210a18e110bc231e2aab7746\n",
      "manifest:\n",
      "  ancestor_list: '    210#  ex., [4727]'\n",
      "  depth: '            59#   ex., 37'\n",
      "  destruction_time: ' 159#  ex., inf'\n",
      "  id: '               233#  ex., 4737'\n",
      "  num_offspring: '    4#    ex., 0'\n",
      "  num_orgs: '         8#    ex., 1'\n",
      "  origin_time: '      176#  ex., 500'\n",
      "  phenotype: '        187#  ex., [ 0.78551 0.507546 0.298434 0.703895 0.70148 0.897296\n",
      "    0.852754 0.533489 0.975623 0.814646 0.0274892 0.45607 0.221636 0.767401 0.74891\n",
      "    0.860365 0.319087 0.293359 0.997853 0.770533 ]'\n",
      "  tot_orgs: '         111#  ex., 1'\n",
      "  total_offspring: '  15#   ex., 0'\n",
      "num cols: 10\n",
      "num cols all na: 0\n",
      "num cols any na: 0\n",
      "num na: 0\n",
      "num rows: 233\n",
      "num rows all na: 0\n",
      "num rows any na: 0\n",
      "size: 83K\n",
      "\n"
     ]
    }
   ],
   "source": [
    "target_phylogeny_df = pd.read_csv(\n",
    "    f'{data_url}/download',\n",
    ")\n",
    "\n",
    "nbm.print_dataframe_synopsis(target_phylogeny_df)\n"
   ]
  },
  {
   "cell_type": "markdown",
   "id": "2adef8dd",
   "metadata": {
    "papermill": {
     "duration": 0.015724,
     "end_time": "2022-03-13T17:00:50.831178",
     "exception": false,
     "start_time": "2022-03-13T17:00:50.815454",
     "status": "completed"
    },
    "tags": []
   },
   "source": [
    "# Create a Tree with Target Phylogeny Structure\n"
   ]
  },
  {
   "cell_type": "code",
   "execution_count": 12,
   "id": "8ac6c3bc",
   "metadata": {
    "execution": {
     "iopub.execute_input": "2022-03-13T17:00:50.864353Z",
     "iopub.status.busy": "2022-03-13T17:00:50.864010Z",
     "iopub.status.idle": "2022-03-13T17:00:50.894364Z",
     "shell.execute_reply": "2022-03-13T17:00:50.893728Z"
    },
    "papermill": {
     "duration": 0.049061,
     "end_time": "2022-03-13T17:00:50.895868",
     "exception": false,
     "start_time": "2022-03-13T17:00:50.846807",
     "status": "completed"
    },
    "tags": []
   },
   "outputs": [],
   "source": [
    "# map id to anytree node\n",
    "nodes = defaultdict(anytree.AnyNode)\n",
    "for __, row in target_phylogeny_df.iterrows():\n",
    "    node = nodes[row['id']]\n",
    "    node.id = row['id']\n",
    "    node.origin_time = row['origin_time']\n",
    "    if 'NONE' not in row['ancestor_list']:\n",
    "        ancestor_id = ip.popsingleton(\n",
    "            eval(row['ancestor_list'])\n",
    "        )\n",
    "        node.parent = nodes[ancestor_id]\n",
    "\n",
    "roots = {node.root for node in nodes.values()}\n"
   ]
  },
  {
   "cell_type": "code",
   "execution_count": 13,
   "id": "1bd3a0c5",
   "metadata": {
    "execution": {
     "iopub.execute_input": "2022-03-13T17:00:50.929285Z",
     "iopub.status.busy": "2022-03-13T17:00:50.928993Z",
     "iopub.status.idle": "2022-03-13T17:00:50.936735Z",
     "shell.execute_reply": "2022-03-13T17:00:50.936152Z"
    },
    "papermill": {
     "duration": 0.026364,
     "end_time": "2022-03-13T17:00:50.938031",
     "exception": false,
     "start_time": "2022-03-13T17:00:50.911667",
     "status": "completed"
    },
    "tags": []
   },
   "outputs": [
    {
     "data": {
      "text/plain": [
       "58"
      ]
     },
     "execution_count": 13,
     "metadata": {},
     "output_type": "execute_result"
    }
   ],
   "source": [
    "root = ip.popsingleton(roots)\n",
    "root.height\n"
   ]
  },
  {
   "cell_type": "code",
   "execution_count": 14,
   "id": "af3658f1",
   "metadata": {
    "execution": {
     "iopub.execute_input": "2022-03-13T17:00:50.973611Z",
     "iopub.status.busy": "2022-03-13T17:00:50.973346Z",
     "iopub.status.idle": "2022-03-13T17:00:50.977505Z",
     "shell.execute_reply": "2022-03-13T17:00:50.977097Z"
    },
    "papermill": {
     "duration": 0.024435,
     "end_time": "2022-03-13T17:00:50.978674",
     "exception": false,
     "start_time": "2022-03-13T17:00:50.954239",
     "status": "completed"
    },
    "tags": []
   },
   "outputs": [
    {
     "data": {
      "text/plain": [
       "500"
      ]
     },
     "execution_count": 14,
     "metadata": {},
     "output_type": "execute_result"
    }
   ],
   "source": [
    "max_origin_time = target_phylogeny_df['origin_time'].max()\n",
    "max_origin_time\n"
   ]
  },
  {
   "cell_type": "code",
   "execution_count": 15,
   "id": "2114c68d",
   "metadata": {
    "execution": {
     "iopub.execute_input": "2022-03-13T17:00:51.013233Z",
     "iopub.status.busy": "2022-03-13T17:00:51.012948Z",
     "iopub.status.idle": "2022-03-13T17:00:51.018172Z",
     "shell.execute_reply": "2022-03-13T17:00:51.017650Z"
    },
    "papermill": {
     "duration": 0.024311,
     "end_time": "2022-03-13T17:00:51.019450",
     "exception": false,
     "start_time": "2022-03-13T17:00:50.995139",
     "status": "completed"
    },
    "tags": []
   },
   "outputs": [
    {
     "data": {
      "text/plain": [
       "496.2916666666667"
      ]
     },
     "execution_count": 15,
     "metadata": {},
     "output_type": "execute_result"
    }
   ],
   "source": [
    "mean_leaf_origin_time = np.mean([\n",
    "    leaf.origin_time\n",
    "    for leaf in root.leaves\n",
    "])\n",
    "mean_leaf_origin_time\n"
   ]
  },
  {
   "cell_type": "markdown",
   "id": "1ca643df",
   "metadata": {
    "papermill": {
     "duration": 0.016734,
     "end_time": "2022-03-13T17:00:51.053085",
     "exception": false,
     "start_time": "2022-03-13T17:00:51.036351",
     "status": "completed"
    },
    "tags": []
   },
   "source": [
    "# Pick Parameters for Hereditary Stratigraphic Columns\n"
   ]
  },
  {
   "cell_type": "code",
   "execution_count": 16,
   "id": "85e24f1f",
   "metadata": {
    "execution": {
     "iopub.execute_input": "2022-03-13T17:00:51.087685Z",
     "iopub.status.busy": "2022-03-13T17:00:51.087401Z",
     "iopub.status.idle": "2022-03-13T17:00:51.095456Z",
     "shell.execute_reply": "2022-03-13T17:00:51.094771Z"
    },
    "papermill": {
     "duration": 0.027284,
     "end_time": "2022-03-13T17:00:51.096846",
     "exception": false,
     "start_time": "2022-03-13T17:00:51.069562",
     "status": "completed"
    },
    "tags": []
   },
   "outputs": [],
   "source": [
    "def make_conditions(num_generations: int) -> pd.DataFrame:\n",
    "    res = []\n",
    "    for condemner_factory, target_column_bits, differentia_bit_width in it.product(\n",
    "        [\n",
    "            hstrat.StratumRetentionCondemnerTaperedDepthProportionalResolution,\n",
    "            hstrat.StratumRetentionCondemnerRecencyProportionalResolution,\n",
    "        ],\n",
    "        [\n",
    "            64,\n",
    "            64 * 8,\n",
    "            64 * 64,\n",
    "        ],\n",
    "        [\n",
    "            1,\n",
    "            8,\n",
    "            64,\n",
    "        ],\n",
    "    ):\n",
    "        policy_param = doubling_search(\n",
    "            lambda x: \\\n",
    "                condemner_factory(x + 1).CalcNumStrataRetainedExact(num_generations)\n",
    "                * differentia_bit_width > target_column_bits or x >= num_generations,\n",
    "            {\n",
    "                hstrat.StratumRetentionCondemnerTaperedDepthProportionalResolution: 1,\n",
    "                hstrat.StratumRetentionCondemnerRecencyProportionalResolution: 0,\n",
    "            }[condemner_factory],\n",
    "        )\n",
    "\n",
    "        actual_column_strata = condemner_factory(policy_param).CalcNumStrataRetainedExact(num_generations)\n",
    "        actual_column_bits = actual_column_strata * differentia_bit_width\n",
    "\n",
    "        res.append({\n",
    "            'Retention Policy' : condemner_factory.__name__[25:],\n",
    "            'Differentia Bit Width' : differentia_bit_width,\n",
    "            'Retention Policy Resolution Parameter' : policy_param,\n",
    "            'Target Retained Bits' : target_column_bits,\n",
    "            'Actual Retained Bits' : actual_column_bits,\n",
    "            'Retained Bits Error' : actual_column_bits - target_column_bits,\n",
    "            'Actual Retained Strata' : actual_column_strata,\n",
    "            'condemner' : condemner_factory(policy_param),\n",
    "        })\n",
    "    return pd.DataFrame.from_records(res)\n"
   ]
  },
  {
   "cell_type": "code",
   "execution_count": 17,
   "id": "a0a00958",
   "metadata": {
    "execution": {
     "iopub.execute_input": "2022-03-13T17:00:51.131659Z",
     "iopub.status.busy": "2022-03-13T17:00:51.131403Z",
     "iopub.status.idle": "2022-03-13T17:00:51.146312Z",
     "shell.execute_reply": "2022-03-13T17:00:51.145759Z"
    },
    "papermill": {
     "duration": 0.034034,
     "end_time": "2022-03-13T17:00:51.147549",
     "exception": false,
     "start_time": "2022-03-13T17:00:51.113515",
     "status": "completed"
    },
    "tags": []
   },
   "outputs": [
    {
     "data": {
      "text/html": [
       "<div>\n",
       "<style scoped>\n",
       "    .dataframe tbody tr th:only-of-type {\n",
       "        vertical-align: middle;\n",
       "    }\n",
       "\n",
       "    .dataframe tbody tr th {\n",
       "        vertical-align: top;\n",
       "    }\n",
       "\n",
       "    .dataframe thead th {\n",
       "        text-align: right;\n",
       "    }\n",
       "</style>\n",
       "<table border=\"1\" class=\"dataframe\">\n",
       "  <thead>\n",
       "    <tr style=\"text-align: right;\">\n",
       "      <th></th>\n",
       "      <th>Retention Policy</th>\n",
       "      <th>Differentia Bit Width</th>\n",
       "      <th>Retention Policy Resolution Parameter</th>\n",
       "      <th>Target Retained Bits</th>\n",
       "      <th>Actual Retained Bits</th>\n",
       "      <th>Retained Bits Error</th>\n",
       "      <th>Actual Retained Strata</th>\n",
       "    </tr>\n",
       "  </thead>\n",
       "  <tbody>\n",
       "    <tr>\n",
       "      <th>0</th>\n",
       "      <td>TaperedDepthProportionalResolution</td>\n",
       "      <td>1</td>\n",
       "      <td>31</td>\n",
       "      <td>64</td>\n",
       "      <td>63</td>\n",
       "      <td>-1</td>\n",
       "      <td>63</td>\n",
       "    </tr>\n",
       "    <tr>\n",
       "      <th>1</th>\n",
       "      <td>TaperedDepthProportionalResolution</td>\n",
       "      <td>8</td>\n",
       "      <td>3</td>\n",
       "      <td>64</td>\n",
       "      <td>56</td>\n",
       "      <td>-8</td>\n",
       "      <td>7</td>\n",
       "    </tr>\n",
       "    <tr>\n",
       "      <th>2</th>\n",
       "      <td>TaperedDepthProportionalResolution</td>\n",
       "      <td>64</td>\n",
       "      <td>1</td>\n",
       "      <td>64</td>\n",
       "      <td>192</td>\n",
       "      <td>128</td>\n",
       "      <td>3</td>\n",
       "    </tr>\n",
       "    <tr>\n",
       "      <th>3</th>\n",
       "      <td>TaperedDepthProportionalResolution</td>\n",
       "      <td>1</td>\n",
       "      <td>496</td>\n",
       "      <td>512</td>\n",
       "      <td>496</td>\n",
       "      <td>-16</td>\n",
       "      <td>496</td>\n",
       "    </tr>\n",
       "    <tr>\n",
       "      <th>4</th>\n",
       "      <td>TaperedDepthProportionalResolution</td>\n",
       "      <td>8</td>\n",
       "      <td>31</td>\n",
       "      <td>512</td>\n",
       "      <td>504</td>\n",
       "      <td>-8</td>\n",
       "      <td>63</td>\n",
       "    </tr>\n",
       "    <tr>\n",
       "      <th>5</th>\n",
       "      <td>TaperedDepthProportionalResolution</td>\n",
       "      <td>64</td>\n",
       "      <td>3</td>\n",
       "      <td>512</td>\n",
       "      <td>448</td>\n",
       "      <td>-64</td>\n",
       "      <td>7</td>\n",
       "    </tr>\n",
       "    <tr>\n",
       "      <th>6</th>\n",
       "      <td>TaperedDepthProportionalResolution</td>\n",
       "      <td>1</td>\n",
       "      <td>496</td>\n",
       "      <td>4096</td>\n",
       "      <td>496</td>\n",
       "      <td>-3600</td>\n",
       "      <td>496</td>\n",
       "    </tr>\n",
       "    <tr>\n",
       "      <th>7</th>\n",
       "      <td>TaperedDepthProportionalResolution</td>\n",
       "      <td>8</td>\n",
       "      <td>496</td>\n",
       "      <td>4096</td>\n",
       "      <td>3968</td>\n",
       "      <td>-128</td>\n",
       "      <td>496</td>\n",
       "    </tr>\n",
       "    <tr>\n",
       "      <th>8</th>\n",
       "      <td>TaperedDepthProportionalResolution</td>\n",
       "      <td>64</td>\n",
       "      <td>31</td>\n",
       "      <td>4096</td>\n",
       "      <td>4032</td>\n",
       "      <td>-64</td>\n",
       "      <td>63</td>\n",
       "    </tr>\n",
       "    <tr>\n",
       "      <th>9</th>\n",
       "      <td>RecencyProportionalResolution</td>\n",
       "      <td>1</td>\n",
       "      <td>8</td>\n",
       "      <td>64</td>\n",
       "      <td>60</td>\n",
       "      <td>-4</td>\n",
       "      <td>60</td>\n",
       "    </tr>\n",
       "    <tr>\n",
       "      <th>10</th>\n",
       "      <td>RecencyProportionalResolution</td>\n",
       "      <td>8</td>\n",
       "      <td>0</td>\n",
       "      <td>64</td>\n",
       "      <td>72</td>\n",
       "      <td>8</td>\n",
       "      <td>9</td>\n",
       "    </tr>\n",
       "    <tr>\n",
       "      <th>11</th>\n",
       "      <td>RecencyProportionalResolution</td>\n",
       "      <td>64</td>\n",
       "      <td>0</td>\n",
       "      <td>64</td>\n",
       "      <td>576</td>\n",
       "      <td>512</td>\n",
       "      <td>9</td>\n",
       "    </tr>\n",
       "    <tr>\n",
       "      <th>12</th>\n",
       "      <td>RecencyProportionalResolution</td>\n",
       "      <td>1</td>\n",
       "      <td>496</td>\n",
       "      <td>512</td>\n",
       "      <td>496</td>\n",
       "      <td>-16</td>\n",
       "      <td>496</td>\n",
       "    </tr>\n",
       "    <tr>\n",
       "      <th>13</th>\n",
       "      <td>RecencyProportionalResolution</td>\n",
       "      <td>8</td>\n",
       "      <td>8</td>\n",
       "      <td>512</td>\n",
       "      <td>480</td>\n",
       "      <td>-32</td>\n",
       "      <td>60</td>\n",
       "    </tr>\n",
       "    <tr>\n",
       "      <th>14</th>\n",
       "      <td>RecencyProportionalResolution</td>\n",
       "      <td>64</td>\n",
       "      <td>0</td>\n",
       "      <td>512</td>\n",
       "      <td>576</td>\n",
       "      <td>64</td>\n",
       "      <td>9</td>\n",
       "    </tr>\n",
       "    <tr>\n",
       "      <th>15</th>\n",
       "      <td>RecencyProportionalResolution</td>\n",
       "      <td>1</td>\n",
       "      <td>496</td>\n",
       "      <td>4096</td>\n",
       "      <td>496</td>\n",
       "      <td>-3600</td>\n",
       "      <td>496</td>\n",
       "    </tr>\n",
       "    <tr>\n",
       "      <th>16</th>\n",
       "      <td>RecencyProportionalResolution</td>\n",
       "      <td>8</td>\n",
       "      <td>496</td>\n",
       "      <td>4096</td>\n",
       "      <td>3968</td>\n",
       "      <td>-128</td>\n",
       "      <td>496</td>\n",
       "    </tr>\n",
       "    <tr>\n",
       "      <th>17</th>\n",
       "      <td>RecencyProportionalResolution</td>\n",
       "      <td>64</td>\n",
       "      <td>8</td>\n",
       "      <td>4096</td>\n",
       "      <td>3840</td>\n",
       "      <td>-256</td>\n",
       "      <td>60</td>\n",
       "    </tr>\n",
       "  </tbody>\n",
       "</table>\n",
       "</div>"
      ],
      "text/plain": [
       "                      Retention Policy  Differentia Bit Width  \\\n",
       "0   TaperedDepthProportionalResolution                      1   \n",
       "1   TaperedDepthProportionalResolution                      8   \n",
       "2   TaperedDepthProportionalResolution                     64   \n",
       "3   TaperedDepthProportionalResolution                      1   \n",
       "4   TaperedDepthProportionalResolution                      8   \n",
       "5   TaperedDepthProportionalResolution                     64   \n",
       "6   TaperedDepthProportionalResolution                      1   \n",
       "7   TaperedDepthProportionalResolution                      8   \n",
       "8   TaperedDepthProportionalResolution                     64   \n",
       "9        RecencyProportionalResolution                      1   \n",
       "10       RecencyProportionalResolution                      8   \n",
       "11       RecencyProportionalResolution                     64   \n",
       "12       RecencyProportionalResolution                      1   \n",
       "13       RecencyProportionalResolution                      8   \n",
       "14       RecencyProportionalResolution                     64   \n",
       "15       RecencyProportionalResolution                      1   \n",
       "16       RecencyProportionalResolution                      8   \n",
       "17       RecencyProportionalResolution                     64   \n",
       "\n",
       "    Retention Policy Resolution Parameter  Target Retained Bits  \\\n",
       "0                                      31                    64   \n",
       "1                                       3                    64   \n",
       "2                                       1                    64   \n",
       "3                                     496                   512   \n",
       "4                                      31                   512   \n",
       "5                                       3                   512   \n",
       "6                                     496                  4096   \n",
       "7                                     496                  4096   \n",
       "8                                      31                  4096   \n",
       "9                                       8                    64   \n",
       "10                                      0                    64   \n",
       "11                                      0                    64   \n",
       "12                                    496                   512   \n",
       "13                                      8                   512   \n",
       "14                                      0                   512   \n",
       "15                                    496                  4096   \n",
       "16                                    496                  4096   \n",
       "17                                      8                  4096   \n",
       "\n",
       "    Actual Retained Bits  Retained Bits Error  Actual Retained Strata  \n",
       "0                     63                   -1                      63  \n",
       "1                     56                   -8                       7  \n",
       "2                    192                  128                       3  \n",
       "3                    496                  -16                     496  \n",
       "4                    504                   -8                      63  \n",
       "5                    448                  -64                       7  \n",
       "6                    496                -3600                     496  \n",
       "7                   3968                 -128                     496  \n",
       "8                   4032                  -64                      63  \n",
       "9                     60                   -4                      60  \n",
       "10                    72                    8                       9  \n",
       "11                   576                  512                       9  \n",
       "12                   496                  -16                     496  \n",
       "13                   480                  -32                      60  \n",
       "14                   576                   64                       9  \n",
       "15                   496                -3600                     496  \n",
       "16                  3968                 -128                     496  \n",
       "17                  3840                 -256                      60  "
      ]
     },
     "execution_count": 17,
     "metadata": {},
     "output_type": "execute_result"
    }
   ],
   "source": [
    "conditions_df = make_conditions(int(mean_leaf_origin_time))\n",
    "conditions_df.drop('condemner', axis=1)\n"
   ]
  },
  {
   "cell_type": "markdown",
   "id": "2b743227",
   "metadata": {
    "papermill": {
     "duration": 0.017103,
     "end_time": "2022-03-13T17:00:51.182082",
     "exception": false,
     "start_time": "2022-03-13T17:00:51.164979",
     "status": "completed"
    },
    "tags": []
   },
   "source": [
    "# Set Up Ancestor Column\n"
   ]
  },
  {
   "cell_type": "code",
   "execution_count": 18,
   "id": "8f886d2f",
   "metadata": {
    "execution": {
     "iopub.execute_input": "2022-03-13T17:00:51.217769Z",
     "iopub.status.busy": "2022-03-13T17:00:51.217492Z",
     "iopub.status.idle": "2022-03-13T17:00:51.224192Z",
     "shell.execute_reply": "2022-03-13T17:00:51.223773Z"
    },
    "papermill": {
     "duration": 0.026275,
     "end_time": "2022-03-13T17:00:51.225441",
     "exception": false,
     "start_time": "2022-03-13T17:00:51.199166",
     "status": "completed"
    },
    "tags": []
   },
   "outputs": [],
   "source": [
    "bundle = hstrat.HereditaryStratigraphicColumnBundle({\n",
    "    kn.pack({\n",
    "        'differentia' : row['Differentia Bit Width'],\n",
    "        'policy' : row['Retention Policy'],\n",
    "        'resolution' : row['Retention Policy Resolution Parameter'],\n",
    "        'target_bits' : row['Target Retained Bits'],\n",
    "        'actual_bits' : row['Actual Retained Bits'],\n",
    "        'bits_error' : row['Retained Bits Error'],\n",
    "        'actual_strata' : row['Actual Retained Strata'],\n",
    "    }) \\\n",
    "        : hstrat.HereditaryStratigraphicColumn(\n",
    "            stratum_differentia_bit_width=row['Differentia Bit Width'],\n",
    "            stratum_retention_condemner=row['condemner'],\n",
    "    )\n",
    "    for __, row in conditions_df.iterrows()\n",
    "})\n"
   ]
  },
  {
   "cell_type": "markdown",
   "id": "6d6ee113",
   "metadata": {
    "papermill": {
     "duration": 0.017237,
     "end_time": "2022-03-13T17:00:51.259755",
     "exception": false,
     "start_time": "2022-03-13T17:00:51.242518",
     "status": "completed"
    },
    "tags": []
   },
   "source": [
    "# Simulate Inheritance of Ancestor Column Down Phylogenetic Tree\n"
   ]
  },
  {
   "cell_type": "code",
   "execution_count": 19,
   "id": "f0d93098",
   "metadata": {
    "execution": {
     "iopub.execute_input": "2022-03-13T17:00:51.296070Z",
     "iopub.status.busy": "2022-03-13T17:00:51.295787Z",
     "iopub.status.idle": "2022-03-13T17:00:51.836848Z",
     "shell.execute_reply": "2022-03-13T17:00:51.836210Z"
    },
    "papermill": {
     "duration": 0.561791,
     "end_time": "2022-03-13T17:00:51.838914",
     "exception": false,
     "start_time": "2022-03-13T17:00:51.277123",
     "status": "completed"
    },
    "tags": []
   },
   "outputs": [],
   "source": [
    "root = ip.popsingleton(roots)\n",
    "root.hstrat_column = bundle\n",
    "\n",
    "for node in anytree.LevelOrderIter(ip.popsingleton(roots)):\n",
    "    parent = node.parent\n",
    "    if parent is not None:\n",
    "        node.hstrat_column = parent.hstrat_column.Clone()\n",
    "        for __ in range(node.origin_time - parent.origin_time): node.hstrat_column.DepositStratum()\n"
   ]
  },
  {
   "cell_type": "markdown",
   "id": "8d507969",
   "metadata": {
    "papermill": {
     "duration": 0.017517,
     "end_time": "2022-03-13T17:00:51.874161",
     "exception": false,
     "start_time": "2022-03-13T17:00:51.856644",
     "status": "completed"
    },
    "tags": []
   },
   "source": [
    "# Extract Pairwise MRCA Estimates for Extant Organisms\n"
   ]
  },
  {
   "cell_type": "code",
   "execution_count": 20,
   "id": "3a5d30b0",
   "metadata": {
    "execution": {
     "iopub.execute_input": "2022-03-13T17:00:51.911026Z",
     "iopub.status.busy": "2022-03-13T17:00:51.910745Z",
     "iopub.status.idle": "2022-03-13T17:00:51.948639Z",
     "shell.execute_reply": "2022-03-13T17:00:51.948000Z"
    },
    "papermill": {
     "duration": 0.05848,
     "end_time": "2022-03-13T17:00:51.950094",
     "exception": false,
     "start_time": "2022-03-13T17:00:51.891614",
     "status": "completed"
    },
    "tags": []
   },
   "outputs": [
    {
     "data": {
      "text/html": [
       "<div>\n",
       "<style scoped>\n",
       "    .dataframe tbody tr th:only-of-type {\n",
       "        vertical-align: middle;\n",
       "    }\n",
       "\n",
       "    .dataframe tbody tr th {\n",
       "        vertical-align: top;\n",
       "    }\n",
       "\n",
       "    .dataframe thead th {\n",
       "        text-align: right;\n",
       "    }\n",
       "</style>\n",
       "<table border=\"1\" class=\"dataframe\">\n",
       "  <thead>\n",
       "    <tr style=\"text-align: right;\">\n",
       "      <th></th>\n",
       "      <th>Mean Actual Retained Bits</th>\n",
       "      <th>actual_bits</th>\n",
       "      <th>actual_strata</th>\n",
       "      <th>bits_error</th>\n",
       "      <th>differentia</th>\n",
       "      <th>policy</th>\n",
       "      <th>resolution</th>\n",
       "      <th>target_bits</th>\n",
       "      <th>_</th>\n",
       "    </tr>\n",
       "  </thead>\n",
       "  <tbody>\n",
       "    <tr>\n",
       "      <th>0</th>\n",
       "      <td>62.833333</td>\n",
       "      <td>63</td>\n",
       "      <td>63</td>\n",
       "      <td>-1</td>\n",
       "      <td>1</td>\n",
       "      <td>TaperedDepthProportionalResolution</td>\n",
       "      <td>31</td>\n",
       "      <td>64</td>\n",
       "      <td>actual_bits=63+actual_strata=63+bits_error=-1+...</td>\n",
       "    </tr>\n",
       "    <tr>\n",
       "      <th>1</th>\n",
       "      <td>56.000000</td>\n",
       "      <td>56</td>\n",
       "      <td>7</td>\n",
       "      <td>-8</td>\n",
       "      <td>8</td>\n",
       "      <td>TaperedDepthProportionalResolution</td>\n",
       "      <td>3</td>\n",
       "      <td>64</td>\n",
       "      <td>actual_bits=56+actual_strata=7+bits_error=-8+d...</td>\n",
       "    </tr>\n",
       "    <tr>\n",
       "      <th>2</th>\n",
       "      <td>192.000000</td>\n",
       "      <td>192</td>\n",
       "      <td>3</td>\n",
       "      <td>128</td>\n",
       "      <td>64</td>\n",
       "      <td>TaperedDepthProportionalResolution</td>\n",
       "      <td>1</td>\n",
       "      <td>64</td>\n",
       "      <td>actual_bits=192+actual_strata=3+bits_error=128...</td>\n",
       "    </tr>\n",
       "    <tr>\n",
       "      <th>3</th>\n",
       "      <td>497.291667</td>\n",
       "      <td>496</td>\n",
       "      <td>496</td>\n",
       "      <td>-16</td>\n",
       "      <td>1</td>\n",
       "      <td>TaperedDepthProportionalResolution</td>\n",
       "      <td>496</td>\n",
       "      <td>512</td>\n",
       "      <td>actual_bits=496+actual_strata=496+bits_error=-...</td>\n",
       "    </tr>\n",
       "    <tr>\n",
       "      <th>4</th>\n",
       "      <td>502.666667</td>\n",
       "      <td>504</td>\n",
       "      <td>63</td>\n",
       "      <td>-8</td>\n",
       "      <td>8</td>\n",
       "      <td>TaperedDepthProportionalResolution</td>\n",
       "      <td>31</td>\n",
       "      <td>512</td>\n",
       "      <td>actual_bits=504+actual_strata=63+bits_error=-8...</td>\n",
       "    </tr>\n",
       "    <tr>\n",
       "      <th>5</th>\n",
       "      <td>448.000000</td>\n",
       "      <td>448</td>\n",
       "      <td>7</td>\n",
       "      <td>-64</td>\n",
       "      <td>64</td>\n",
       "      <td>TaperedDepthProportionalResolution</td>\n",
       "      <td>3</td>\n",
       "      <td>512</td>\n",
       "      <td>actual_bits=448+actual_strata=7+bits_error=-64...</td>\n",
       "    </tr>\n",
       "    <tr>\n",
       "      <th>6</th>\n",
       "      <td>497.291667</td>\n",
       "      <td>496</td>\n",
       "      <td>496</td>\n",
       "      <td>-3600</td>\n",
       "      <td>1</td>\n",
       "      <td>TaperedDepthProportionalResolution</td>\n",
       "      <td>496</td>\n",
       "      <td>4096</td>\n",
       "      <td>actual_bits=496+actual_strata=496+bits_error=-...</td>\n",
       "    </tr>\n",
       "    <tr>\n",
       "      <th>7</th>\n",
       "      <td>3978.333333</td>\n",
       "      <td>3968</td>\n",
       "      <td>496</td>\n",
       "      <td>-128</td>\n",
       "      <td>8</td>\n",
       "      <td>TaperedDepthProportionalResolution</td>\n",
       "      <td>496</td>\n",
       "      <td>4096</td>\n",
       "      <td>actual_bits=3968+actual_strata=496+bits_error=...</td>\n",
       "    </tr>\n",
       "    <tr>\n",
       "      <th>8</th>\n",
       "      <td>4021.333333</td>\n",
       "      <td>4032</td>\n",
       "      <td>63</td>\n",
       "      <td>-64</td>\n",
       "      <td>64</td>\n",
       "      <td>TaperedDepthProportionalResolution</td>\n",
       "      <td>31</td>\n",
       "      <td>4096</td>\n",
       "      <td>actual_bits=4032+actual_strata=63+bits_error=-...</td>\n",
       "    </tr>\n",
       "    <tr>\n",
       "      <th>9</th>\n",
       "      <td>57.958333</td>\n",
       "      <td>60</td>\n",
       "      <td>60</td>\n",
       "      <td>-4</td>\n",
       "      <td>1</td>\n",
       "      <td>RecencyProportionalResolution</td>\n",
       "      <td>8</td>\n",
       "      <td>64</td>\n",
       "      <td>actual_bits=60+actual_strata=60+bits_error=-4+...</td>\n",
       "    </tr>\n",
       "    <tr>\n",
       "      <th>10</th>\n",
       "      <td>55.666667</td>\n",
       "      <td>72</td>\n",
       "      <td>9</td>\n",
       "      <td>8</td>\n",
       "      <td>8</td>\n",
       "      <td>RecencyProportionalResolution</td>\n",
       "      <td>0</td>\n",
       "      <td>64</td>\n",
       "      <td>actual_bits=72+actual_strata=9+bits_error=8+di...</td>\n",
       "    </tr>\n",
       "    <tr>\n",
       "      <th>11</th>\n",
       "      <td>445.333333</td>\n",
       "      <td>576</td>\n",
       "      <td>9</td>\n",
       "      <td>512</td>\n",
       "      <td>64</td>\n",
       "      <td>RecencyProportionalResolution</td>\n",
       "      <td>0</td>\n",
       "      <td>64</td>\n",
       "      <td>actual_bits=576+actual_strata=9+bits_error=512...</td>\n",
       "    </tr>\n",
       "    <tr>\n",
       "      <th>12</th>\n",
       "      <td>497.291667</td>\n",
       "      <td>496</td>\n",
       "      <td>496</td>\n",
       "      <td>-16</td>\n",
       "      <td>1</td>\n",
       "      <td>RecencyProportionalResolution</td>\n",
       "      <td>496</td>\n",
       "      <td>512</td>\n",
       "      <td>actual_bits=496+actual_strata=496+bits_error=-...</td>\n",
       "    </tr>\n",
       "    <tr>\n",
       "      <th>13</th>\n",
       "      <td>463.666667</td>\n",
       "      <td>480</td>\n",
       "      <td>60</td>\n",
       "      <td>-32</td>\n",
       "      <td>8</td>\n",
       "      <td>RecencyProportionalResolution</td>\n",
       "      <td>8</td>\n",
       "      <td>512</td>\n",
       "      <td>actual_bits=480+actual_strata=60+bits_error=-3...</td>\n",
       "    </tr>\n",
       "    <tr>\n",
       "      <th>14</th>\n",
       "      <td>445.333333</td>\n",
       "      <td>576</td>\n",
       "      <td>9</td>\n",
       "      <td>64</td>\n",
       "      <td>64</td>\n",
       "      <td>RecencyProportionalResolution</td>\n",
       "      <td>0</td>\n",
       "      <td>512</td>\n",
       "      <td>actual_bits=576+actual_strata=9+bits_error=64+...</td>\n",
       "    </tr>\n",
       "    <tr>\n",
       "      <th>15</th>\n",
       "      <td>497.291667</td>\n",
       "      <td>496</td>\n",
       "      <td>496</td>\n",
       "      <td>-3600</td>\n",
       "      <td>1</td>\n",
       "      <td>RecencyProportionalResolution</td>\n",
       "      <td>496</td>\n",
       "      <td>4096</td>\n",
       "      <td>actual_bits=496+actual_strata=496+bits_error=-...</td>\n",
       "    </tr>\n",
       "    <tr>\n",
       "      <th>16</th>\n",
       "      <td>3978.333333</td>\n",
       "      <td>3968</td>\n",
       "      <td>496</td>\n",
       "      <td>-128</td>\n",
       "      <td>8</td>\n",
       "      <td>RecencyProportionalResolution</td>\n",
       "      <td>496</td>\n",
       "      <td>4096</td>\n",
       "      <td>actual_bits=3968+actual_strata=496+bits_error=...</td>\n",
       "    </tr>\n",
       "    <tr>\n",
       "      <th>17</th>\n",
       "      <td>3709.333333</td>\n",
       "      <td>3840</td>\n",
       "      <td>60</td>\n",
       "      <td>-256</td>\n",
       "      <td>64</td>\n",
       "      <td>RecencyProportionalResolution</td>\n",
       "      <td>8</td>\n",
       "      <td>4096</td>\n",
       "      <td>actual_bits=3840+actual_strata=60+bits_error=-...</td>\n",
       "    </tr>\n",
       "  </tbody>\n",
       "</table>\n",
       "</div>"
      ],
      "text/plain": [
       "    Mean Actual Retained Bits actual_bits actual_strata bits_error  \\\n",
       "0                   62.833333          63            63         -1   \n",
       "1                   56.000000          56             7         -8   \n",
       "2                  192.000000         192             3        128   \n",
       "3                  497.291667         496           496        -16   \n",
       "4                  502.666667         504            63         -8   \n",
       "5                  448.000000         448             7        -64   \n",
       "6                  497.291667         496           496      -3600   \n",
       "7                 3978.333333        3968           496       -128   \n",
       "8                 4021.333333        4032            63        -64   \n",
       "9                   57.958333          60            60         -4   \n",
       "10                  55.666667          72             9          8   \n",
       "11                 445.333333         576             9        512   \n",
       "12                 497.291667         496           496        -16   \n",
       "13                 463.666667         480            60        -32   \n",
       "14                 445.333333         576             9         64   \n",
       "15                 497.291667         496           496      -3600   \n",
       "16                3978.333333        3968           496       -128   \n",
       "17                3709.333333        3840            60       -256   \n",
       "\n",
       "   differentia                              policy resolution target_bits  \\\n",
       "0            1  TaperedDepthProportionalResolution         31          64   \n",
       "1            8  TaperedDepthProportionalResolution          3          64   \n",
       "2           64  TaperedDepthProportionalResolution          1          64   \n",
       "3            1  TaperedDepthProportionalResolution        496         512   \n",
       "4            8  TaperedDepthProportionalResolution         31         512   \n",
       "5           64  TaperedDepthProportionalResolution          3         512   \n",
       "6            1  TaperedDepthProportionalResolution        496        4096   \n",
       "7            8  TaperedDepthProportionalResolution        496        4096   \n",
       "8           64  TaperedDepthProportionalResolution         31        4096   \n",
       "9            1       RecencyProportionalResolution          8          64   \n",
       "10           8       RecencyProportionalResolution          0          64   \n",
       "11          64       RecencyProportionalResolution          0          64   \n",
       "12           1       RecencyProportionalResolution        496         512   \n",
       "13           8       RecencyProportionalResolution          8         512   \n",
       "14          64       RecencyProportionalResolution          0         512   \n",
       "15           1       RecencyProportionalResolution        496        4096   \n",
       "16           8       RecencyProportionalResolution        496        4096   \n",
       "17          64       RecencyProportionalResolution          8        4096   \n",
       "\n",
       "                                                    _  \n",
       "0   actual_bits=63+actual_strata=63+bits_error=-1+...  \n",
       "1   actual_bits=56+actual_strata=7+bits_error=-8+d...  \n",
       "2   actual_bits=192+actual_strata=3+bits_error=128...  \n",
       "3   actual_bits=496+actual_strata=496+bits_error=-...  \n",
       "4   actual_bits=504+actual_strata=63+bits_error=-8...  \n",
       "5   actual_bits=448+actual_strata=7+bits_error=-64...  \n",
       "6   actual_bits=496+actual_strata=496+bits_error=-...  \n",
       "7   actual_bits=3968+actual_strata=496+bits_error=...  \n",
       "8   actual_bits=4032+actual_strata=63+bits_error=-...  \n",
       "9   actual_bits=60+actual_strata=60+bits_error=-4+...  \n",
       "10  actual_bits=72+actual_strata=9+bits_error=8+di...  \n",
       "11  actual_bits=576+actual_strata=9+bits_error=512...  \n",
       "12  actual_bits=496+actual_strata=496+bits_error=-...  \n",
       "13  actual_bits=480+actual_strata=60+bits_error=-3...  \n",
       "14  actual_bits=576+actual_strata=9+bits_error=64+...  \n",
       "15  actual_bits=496+actual_strata=496+bits_error=-...  \n",
       "16  actual_bits=3968+actual_strata=496+bits_error=...  \n",
       "17  actual_bits=3840+actual_strata=60+bits_error=-...  "
      ]
     },
     "execution_count": 20,
     "metadata": {},
     "output_type": "execute_result"
    }
   ],
   "source": [
    "# impl -> mean retained bits\n",
    "mean_retained_bits = {\n",
    "    impl: np.mean([\n",
    "        node.hstrat_column.GetNumStrataRetained()[impl]\n",
    "        * int(kn.unpack(impl)['differentia'])\n",
    "        for node in root.leaves\n",
    "    ])\n",
    "    for impl in bundle\n",
    "}\n",
    "\n",
    "records = [\n",
    "    {\n",
    "        **{\n",
    "            'Mean Actual Retained Bits': v,\n",
    "        },\n",
    "        **kn.unpack(k)\n",
    "    }\n",
    "    for k, v in mean_retained_bits.items()\n",
    "]\n",
    "actual_retained_bits_df = pd.DataFrame.from_records(records)\n",
    "actual_retained_bits_df.to_csv(\n",
    "    f'a=actual_retained_bits+source={data_filename}',\n",
    ")\n",
    "\n",
    "actual_retained_bits_df\n"
   ]
  },
  {
   "cell_type": "code",
   "execution_count": 21,
   "id": "489b6657",
   "metadata": {
    "execution": {
     "iopub.execute_input": "2022-03-13T17:00:51.988117Z",
     "iopub.status.busy": "2022-03-13T17:00:51.987833Z",
     "iopub.status.idle": "2022-03-13T17:00:55.923716Z",
     "shell.execute_reply": "2022-03-13T17:00:55.923139Z"
    },
    "papermill": {
     "duration": 3.956878,
     "end_time": "2022-03-13T17:00:55.925376",
     "exception": false,
     "start_time": "2022-03-13T17:00:51.968498",
     "status": "completed"
    },
    "tags": []
   },
   "outputs": [
    {
     "name": "stderr",
     "output_type": "stream",
     "text": [
      "\r",
      "  0%|          | 0/576 [00:00<?, ?it/s]"
     ]
    },
    {
     "name": "stderr",
     "output_type": "stream",
     "text": [
      "\r",
      "  4%|▍         | 25/576 [00:00<00:02, 241.41it/s]"
     ]
    },
    {
     "name": "stderr",
     "output_type": "stream",
     "text": [
      "\r",
      "  9%|▉         | 53/576 [00:00<00:02, 240.49it/s]"
     ]
    },
    {
     "name": "stderr",
     "output_type": "stream",
     "text": [
      "\r",
      " 12%|█▏        | 71/576 [00:00<00:02, 218.08it/s]"
     ]
    },
    {
     "name": "stderr",
     "output_type": "stream",
     "text": [
      "\r",
      " 15%|█▍        | 85/576 [00:00<00:03, 159.26it/s]"
     ]
    },
    {
     "name": "stderr",
     "output_type": "stream",
     "text": [
      "\r",
      " 18%|█▊        | 103/576 [00:00<00:02, 162.83it/s]"
     ]
    },
    {
     "name": "stderr",
     "output_type": "stream",
     "text": [
      "\r",
      " 22%|██▏       | 124/576 [00:00<00:02, 169.48it/s]"
     ]
    },
    {
     "name": "stderr",
     "output_type": "stream",
     "text": [
      "\r",
      " 24%|██▍       | 140/576 [00:00<00:02, 163.09it/s]"
     ]
    },
    {
     "name": "stderr",
     "output_type": "stream",
     "text": [
      "\r",
      " 27%|██▋       | 156/576 [00:00<00:02, 143.13it/s]"
     ]
    },
    {
     "name": "stderr",
     "output_type": "stream",
     "text": [
      "\r",
      " 30%|███       | 175/576 [00:01<00:02, 147.95it/s]"
     ]
    },
    {
     "name": "stderr",
     "output_type": "stream",
     "text": [
      "\r",
      " 34%|███▍      | 197/576 [00:01<00:02, 160.24it/s]"
     ]
    },
    {
     "name": "stderr",
     "output_type": "stream",
     "text": [
      "\r",
      " 38%|███▊      | 219/576 [00:01<00:02, 168.74it/s]"
     ]
    },
    {
     "name": "stderr",
     "output_type": "stream",
     "text": [
      "\r",
      " 41%|████      | 237/576 [00:01<00:02, 164.13it/s]"
     ]
    },
    {
     "name": "stderr",
     "output_type": "stream",
     "text": [
      "\r",
      " 44%|████▍     | 256/576 [00:01<00:01, 170.26it/s]"
     ]
    },
    {
     "name": "stderr",
     "output_type": "stream",
     "text": [
      "\r",
      " 48%|████▊     | 275/576 [00:01<00:01, 167.97it/s]"
     ]
    },
    {
     "name": "stderr",
     "output_type": "stream",
     "text": [
      "\r",
      " 51%|█████     | 292/576 [00:01<00:01, 148.48it/s]"
     ]
    },
    {
     "name": "stderr",
     "output_type": "stream",
     "text": [
      "\r",
      " 53%|█████▎    | 308/576 [00:01<00:02, 121.67it/s]"
     ]
    },
    {
     "name": "stderr",
     "output_type": "stream",
     "text": [
      "\r",
      " 57%|█████▋    | 327/576 [00:02<00:01, 133.20it/s]"
     ]
    },
    {
     "name": "stderr",
     "output_type": "stream",
     "text": [
      "\r",
      " 59%|█████▉    | 342/576 [00:02<00:01, 125.13it/s]"
     ]
    },
    {
     "name": "stderr",
     "output_type": "stream",
     "text": [
      "\r",
      " 62%|██████▏   | 356/576 [00:02<00:02, 104.93it/s]"
     ]
    },
    {
     "name": "stderr",
     "output_type": "stream",
     "text": [
      "\r",
      " 65%|██████▍   | 374/576 [00:02<00:01, 117.65it/s]"
     ]
    },
    {
     "name": "stderr",
     "output_type": "stream",
     "text": [
      "\r",
      " 67%|██████▋   | 388/576 [00:02<00:01, 113.04it/s]"
     ]
    },
    {
     "name": "stderr",
     "output_type": "stream",
     "text": [
      "\r",
      " 70%|██████▉   | 401/576 [00:02<00:01, 110.60it/s]"
     ]
    },
    {
     "name": "stderr",
     "output_type": "stream",
     "text": [
      "\r",
      " 73%|███████▎  | 419/576 [00:02<00:01, 121.23it/s]"
     ]
    },
    {
     "name": "stderr",
     "output_type": "stream",
     "text": [
      "\r",
      " 75%|███████▌  | 432/576 [00:03<00:01, 99.22it/s] "
     ]
    },
    {
     "name": "stderr",
     "output_type": "stream",
     "text": [
      "\r",
      " 78%|███████▊  | 447/576 [00:03<00:01, 108.04it/s]"
     ]
    },
    {
     "name": "stderr",
     "output_type": "stream",
     "text": [
      "\r",
      " 80%|███████▉  | 459/576 [00:03<00:01, 106.92it/s]"
     ]
    },
    {
     "name": "stderr",
     "output_type": "stream",
     "text": [
      "\r",
      " 82%|████████▏ | 471/576 [00:03<00:00, 109.35it/s]"
     ]
    },
    {
     "name": "stderr",
     "output_type": "stream",
     "text": [
      "\r",
      " 84%|████████▍ | 483/576 [00:03<00:00, 107.91it/s]"
     ]
    },
    {
     "name": "stderr",
     "output_type": "stream",
     "text": [
      "\r",
      " 86%|████████▌ | 496/576 [00:03<00:00, 110.49it/s]"
     ]
    },
    {
     "name": "stderr",
     "output_type": "stream",
     "text": [
      "\r",
      " 91%|█████████ | 522/576 [00:03<00:00, 133.26it/s]"
     ]
    },
    {
     "name": "stderr",
     "output_type": "stream",
     "text": [
      "\r",
      " 96%|█████████▌| 552/576 [00:03<00:00, 155.73it/s]"
     ]
    },
    {
     "name": "stderr",
     "output_type": "stream",
     "text": [
      "\r",
      "100%|██████████| 576/576 [00:03<00:00, 148.03it/s]"
     ]
    },
    {
     "name": "stderr",
     "output_type": "stream",
     "text": [
      "\n"
     ]
    }
   ],
   "source": [
    "res = []\n",
    "for extant1, extant2 in tqdm([*it.product(root.leaves, root.leaves)]):\n",
    "    if extant1 != extant2:\n",
    "        bounds = extant1.hstrat_column.CalcRankOfMrcaBoundsWith(extant2.hstrat_column)\n",
    "        for impl in extant1.hstrat_column:\n",
    "            res.append({\n",
    "                'Column Configuration' \\\n",
    "                    : impl,\n",
    "                'Differentia Bit Width' \\\n",
    "                    : kn.unpack(impl)['differentia'],\n",
    "                'Stratum Retention Policy' \\\n",
    "                    : kn.unpack(impl)['policy'],\n",
    "                'Stratum Retention Policy Resolution Parameter' \\\n",
    "                    : kn.unpack(impl)['resolution'],\n",
    "                'Stratigraphic Column Expected Retained Bits' \\\n",
    "                    : kn.unpack(impl)['actual_bits'],\n",
    "                'Stratigraphic Column Mean Actual Retained Bits' \\\n",
    "                    : mean_retained_bits[impl],\n",
    "                'Stratigraphic Column Target Retained Bits' \\\n",
    "                    : kn.unpack(impl)['target_bits'],\n",
    "                'Stratigraphic Column Expected Retained Bits Error' \\\n",
    "                    : kn.unpack(impl)['bits_error'],\n",
    "                'Stratigraphic Column Actual Num Retained Strata' \\\n",
    "                    : kn.unpack(impl)['actual_strata'],\n",
    "                'Taxon Compared From' \\\n",
    "                    : extant1.id,\n",
    "                'Taxon Compared To' \\\n",
    "                    : extant2.id,\n",
    "                'Generation of Taxon Compared From' \\\n",
    "                    : extant1.hstrat_column.GetNumStrataDeposited(),\n",
    "                'Generation of Taxon Compared To' \\\n",
    "                    : extant2.hstrat_column.GetNumStrataDeposited(),\n",
    "                'Generation Of MRCA Lower Bound (inclusive)' \\\n",
    "                    : opyt.apply_if(\n",
    "                        bounds[impl],\n",
    "                        lambda x: x[0],\n",
    "                    ),\n",
    "                'Generation Of MRCA Upper Bound (exclusive)' \\\n",
    "                    : opyt.apply_if(\n",
    "                        bounds[impl],\n",
    "                        lambda x: x[1],\n",
    "                    ),\n",
    "                'MRCA Bound Confidence' \\\n",
    "                    : extant1.hstrat_column[impl].CalcRankOfMrcaBoundsWithProvidedConfidenceLevel(),\n",
    "                'Rank of Earliest Detectable Mrca With' \\\n",
    "                    : extant1.hstrat_column[impl].CalcRankOfEarliestDetectableMrcaWith(extant2.hstrat_column[impl]),\n",
    "            })\n",
    "\n",
    "res_df = pd.DataFrame.from_records(res)\n"
   ]
  },
  {
   "cell_type": "code",
   "execution_count": 22,
   "id": "3b401e20",
   "metadata": {
    "execution": {
     "iopub.execute_input": "2022-03-13T17:00:55.984580Z",
     "iopub.status.busy": "2022-03-13T17:00:55.984307Z",
     "iopub.status.idle": "2022-03-13T17:00:56.007955Z",
     "shell.execute_reply": "2022-03-13T17:00:56.007357Z"
    },
    "papermill": {
     "duration": 0.055297,
     "end_time": "2022-03-13T17:00:56.009443",
     "exception": false,
     "start_time": "2022-03-13T17:00:55.954146",
     "status": "completed"
    },
    "tags": []
   },
   "outputs": [
    {
     "data": {
      "text/html": [
       "<div>\n",
       "<style scoped>\n",
       "    .dataframe tbody tr th:only-of-type {\n",
       "        vertical-align: middle;\n",
       "    }\n",
       "\n",
       "    .dataframe tbody tr th {\n",
       "        vertical-align: top;\n",
       "    }\n",
       "\n",
       "    .dataframe thead th {\n",
       "        text-align: right;\n",
       "    }\n",
       "</style>\n",
       "<table border=\"1\" class=\"dataframe\">\n",
       "  <thead>\n",
       "    <tr style=\"text-align: right;\">\n",
       "      <th></th>\n",
       "      <th>Column Configuration</th>\n",
       "      <th>Differentia Bit Width</th>\n",
       "      <th>Stratum Retention Policy</th>\n",
       "      <th>Stratum Retention Policy Resolution Parameter</th>\n",
       "      <th>Stratigraphic Column Expected Retained Bits</th>\n",
       "      <th>Stratigraphic Column Mean Actual Retained Bits</th>\n",
       "      <th>Stratigraphic Column Target Retained Bits</th>\n",
       "      <th>Stratigraphic Column Expected Retained Bits Error</th>\n",
       "      <th>Stratigraphic Column Actual Num Retained Strata</th>\n",
       "      <th>Taxon Compared From</th>\n",
       "      <th>Taxon Compared To</th>\n",
       "      <th>Generation of Taxon Compared From</th>\n",
       "      <th>Generation of Taxon Compared To</th>\n",
       "      <th>Generation Of MRCA Lower Bound (inclusive)</th>\n",
       "      <th>Generation Of MRCA Upper Bound (exclusive)</th>\n",
       "      <th>MRCA Bound Confidence</th>\n",
       "      <th>Rank of Earliest Detectable Mrca With</th>\n",
       "    </tr>\n",
       "  </thead>\n",
       "  <tbody>\n",
       "    <tr>\n",
       "      <th>0</th>\n",
       "      <td>actual_bits=63+actual_strata=63+bits_error=-1+...</td>\n",
       "      <td>1</td>\n",
       "      <td>TaperedDepthProportionalResolution</td>\n",
       "      <td>31</td>\n",
       "      <td>63</td>\n",
       "      <td>62.833333</td>\n",
       "      <td>64</td>\n",
       "      <td>-1</td>\n",
       "      <td>63</td>\n",
       "      <td>4737</td>\n",
       "      <td>4733</td>\n",
       "      <td>501</td>\n",
       "      <td>501</td>\n",
       "      <td>440.0</td>\n",
       "      <td>480.0</td>\n",
       "      <td>0.968750</td>\n",
       "      <td>40</td>\n",
       "    </tr>\n",
       "    <tr>\n",
       "      <th>1</th>\n",
       "      <td>actual_bits=56+actual_strata=7+bits_error=-8+d...</td>\n",
       "      <td>8</td>\n",
       "      <td>TaperedDepthProportionalResolution</td>\n",
       "      <td>3</td>\n",
       "      <td>56</td>\n",
       "      <td>56.000000</td>\n",
       "      <td>64</td>\n",
       "      <td>-8</td>\n",
       "      <td>7</td>\n",
       "      <td>4737</td>\n",
       "      <td>4733</td>\n",
       "      <td>501</td>\n",
       "      <td>501</td>\n",
       "      <td>448.0</td>\n",
       "      <td>500.0</td>\n",
       "      <td>0.996094</td>\n",
       "      <td>0</td>\n",
       "    </tr>\n",
       "    <tr>\n",
       "      <th>2</th>\n",
       "      <td>actual_bits=192+actual_strata=3+bits_error=128...</td>\n",
       "      <td>64</td>\n",
       "      <td>TaperedDepthProportionalResolution</td>\n",
       "      <td>1</td>\n",
       "      <td>192</td>\n",
       "      <td>192.000000</td>\n",
       "      <td>64</td>\n",
       "      <td>128</td>\n",
       "      <td>3</td>\n",
       "      <td>4737</td>\n",
       "      <td>4733</td>\n",
       "      <td>501</td>\n",
       "      <td>501</td>\n",
       "      <td>256.0</td>\n",
       "      <td>500.0</td>\n",
       "      <td>1.000000</td>\n",
       "      <td>0</td>\n",
       "    </tr>\n",
       "    <tr>\n",
       "      <th>3</th>\n",
       "      <td>actual_bits=496+actual_strata=496+bits_error=-...</td>\n",
       "      <td>1</td>\n",
       "      <td>TaperedDepthProportionalResolution</td>\n",
       "      <td>496</td>\n",
       "      <td>496</td>\n",
       "      <td>497.291667</td>\n",
       "      <td>512</td>\n",
       "      <td>-16</td>\n",
       "      <td>496</td>\n",
       "      <td>4737</td>\n",
       "      <td>4733</td>\n",
       "      <td>501</td>\n",
       "      <td>501</td>\n",
       "      <td>474.0</td>\n",
       "      <td>479.0</td>\n",
       "      <td>0.968750</td>\n",
       "      <td>4</td>\n",
       "    </tr>\n",
       "    <tr>\n",
       "      <th>4</th>\n",
       "      <td>actual_bits=504+actual_strata=63+bits_error=-8...</td>\n",
       "      <td>8</td>\n",
       "      <td>TaperedDepthProportionalResolution</td>\n",
       "      <td>31</td>\n",
       "      <td>504</td>\n",
       "      <td>502.666667</td>\n",
       "      <td>512</td>\n",
       "      <td>-8</td>\n",
       "      <td>63</td>\n",
       "      <td>4737</td>\n",
       "      <td>4733</td>\n",
       "      <td>501</td>\n",
       "      <td>501</td>\n",
       "      <td>472.0</td>\n",
       "      <td>480.0</td>\n",
       "      <td>0.996094</td>\n",
       "      <td>0</td>\n",
       "    </tr>\n",
       "    <tr>\n",
       "      <th>...</th>\n",
       "      <td>...</td>\n",
       "      <td>...</td>\n",
       "      <td>...</td>\n",
       "      <td>...</td>\n",
       "      <td>...</td>\n",
       "      <td>...</td>\n",
       "      <td>...</td>\n",
       "      <td>...</td>\n",
       "      <td>...</td>\n",
       "      <td>...</td>\n",
       "      <td>...</td>\n",
       "      <td>...</td>\n",
       "      <td>...</td>\n",
       "      <td>...</td>\n",
       "      <td>...</td>\n",
       "      <td>...</td>\n",
       "      <td>...</td>\n",
       "    </tr>\n",
       "    <tr>\n",
       "      <th>9931</th>\n",
       "      <td>actual_bits=480+actual_strata=60+bits_error=-3...</td>\n",
       "      <td>8</td>\n",
       "      <td>RecencyProportionalResolution</td>\n",
       "      <td>8</td>\n",
       "      <td>480</td>\n",
       "      <td>463.666667</td>\n",
       "      <td>512</td>\n",
       "      <td>-32</td>\n",
       "      <td>60</td>\n",
       "      <td>4595</td>\n",
       "      <td>4738</td>\n",
       "      <td>486</td>\n",
       "      <td>501</td>\n",
       "      <td>480.0</td>\n",
       "      <td>482.0</td>\n",
       "      <td>0.996094</td>\n",
       "      <td>0</td>\n",
       "    </tr>\n",
       "    <tr>\n",
       "      <th>9932</th>\n",
       "      <td>actual_bits=576+actual_strata=9+bits_error=64+...</td>\n",
       "      <td>64</td>\n",
       "      <td>RecencyProportionalResolution</td>\n",
       "      <td>0</td>\n",
       "      <td>576</td>\n",
       "      <td>445.333333</td>\n",
       "      <td>512</td>\n",
       "      <td>64</td>\n",
       "      <td>9</td>\n",
       "      <td>4595</td>\n",
       "      <td>4738</td>\n",
       "      <td>486</td>\n",
       "      <td>501</td>\n",
       "      <td>480.0</td>\n",
       "      <td>486.0</td>\n",
       "      <td>1.000000</td>\n",
       "      <td>0</td>\n",
       "    </tr>\n",
       "    <tr>\n",
       "      <th>9933</th>\n",
       "      <td>actual_bits=496+actual_strata=496+bits_error=-...</td>\n",
       "      <td>1</td>\n",
       "      <td>RecencyProportionalResolution</td>\n",
       "      <td>496</td>\n",
       "      <td>496</td>\n",
       "      <td>497.291667</td>\n",
       "      <td>4096</td>\n",
       "      <td>-3600</td>\n",
       "      <td>496</td>\n",
       "      <td>4595</td>\n",
       "      <td>4738</td>\n",
       "      <td>486</td>\n",
       "      <td>501</td>\n",
       "      <td>476.0</td>\n",
       "      <td>481.0</td>\n",
       "      <td>0.968750</td>\n",
       "      <td>4</td>\n",
       "    </tr>\n",
       "    <tr>\n",
       "      <th>9934</th>\n",
       "      <td>actual_bits=3968+actual_strata=496+bits_error=...</td>\n",
       "      <td>8</td>\n",
       "      <td>RecencyProportionalResolution</td>\n",
       "      <td>496</td>\n",
       "      <td>3968</td>\n",
       "      <td>3978.333333</td>\n",
       "      <td>4096</td>\n",
       "      <td>-128</td>\n",
       "      <td>496</td>\n",
       "      <td>4595</td>\n",
       "      <td>4738</td>\n",
       "      <td>486</td>\n",
       "      <td>501</td>\n",
       "      <td>480.0</td>\n",
       "      <td>481.0</td>\n",
       "      <td>0.996094</td>\n",
       "      <td>0</td>\n",
       "    </tr>\n",
       "    <tr>\n",
       "      <th>9935</th>\n",
       "      <td>actual_bits=3840+actual_strata=60+bits_error=-...</td>\n",
       "      <td>64</td>\n",
       "      <td>RecencyProportionalResolution</td>\n",
       "      <td>8</td>\n",
       "      <td>3840</td>\n",
       "      <td>3709.333333</td>\n",
       "      <td>4096</td>\n",
       "      <td>-256</td>\n",
       "      <td>60</td>\n",
       "      <td>4595</td>\n",
       "      <td>4738</td>\n",
       "      <td>486</td>\n",
       "      <td>501</td>\n",
       "      <td>480.0</td>\n",
       "      <td>482.0</td>\n",
       "      <td>1.000000</td>\n",
       "      <td>0</td>\n",
       "    </tr>\n",
       "  </tbody>\n",
       "</table>\n",
       "<p>9936 rows × 17 columns</p>\n",
       "</div>"
      ],
      "text/plain": [
       "                                   Column Configuration Differentia Bit Width  \\\n",
       "0     actual_bits=63+actual_strata=63+bits_error=-1+...                     1   \n",
       "1     actual_bits=56+actual_strata=7+bits_error=-8+d...                     8   \n",
       "2     actual_bits=192+actual_strata=3+bits_error=128...                    64   \n",
       "3     actual_bits=496+actual_strata=496+bits_error=-...                     1   \n",
       "4     actual_bits=504+actual_strata=63+bits_error=-8...                     8   \n",
       "...                                                 ...                   ...   \n",
       "9931  actual_bits=480+actual_strata=60+bits_error=-3...                     8   \n",
       "9932  actual_bits=576+actual_strata=9+bits_error=64+...                    64   \n",
       "9933  actual_bits=496+actual_strata=496+bits_error=-...                     1   \n",
       "9934  actual_bits=3968+actual_strata=496+bits_error=...                     8   \n",
       "9935  actual_bits=3840+actual_strata=60+bits_error=-...                    64   \n",
       "\n",
       "                Stratum Retention Policy  \\\n",
       "0     TaperedDepthProportionalResolution   \n",
       "1     TaperedDepthProportionalResolution   \n",
       "2     TaperedDepthProportionalResolution   \n",
       "3     TaperedDepthProportionalResolution   \n",
       "4     TaperedDepthProportionalResolution   \n",
       "...                                  ...   \n",
       "9931       RecencyProportionalResolution   \n",
       "9932       RecencyProportionalResolution   \n",
       "9933       RecencyProportionalResolution   \n",
       "9934       RecencyProportionalResolution   \n",
       "9935       RecencyProportionalResolution   \n",
       "\n",
       "     Stratum Retention Policy Resolution Parameter  \\\n",
       "0                                               31   \n",
       "1                                                3   \n",
       "2                                                1   \n",
       "3                                              496   \n",
       "4                                               31   \n",
       "...                                            ...   \n",
       "9931                                             8   \n",
       "9932                                             0   \n",
       "9933                                           496   \n",
       "9934                                           496   \n",
       "9935                                             8   \n",
       "\n",
       "     Stratigraphic Column Expected Retained Bits  \\\n",
       "0                                             63   \n",
       "1                                             56   \n",
       "2                                            192   \n",
       "3                                            496   \n",
       "4                                            504   \n",
       "...                                          ...   \n",
       "9931                                         480   \n",
       "9932                                         576   \n",
       "9933                                         496   \n",
       "9934                                        3968   \n",
       "9935                                        3840   \n",
       "\n",
       "      Stratigraphic Column Mean Actual Retained Bits  \\\n",
       "0                                          62.833333   \n",
       "1                                          56.000000   \n",
       "2                                         192.000000   \n",
       "3                                         497.291667   \n",
       "4                                         502.666667   \n",
       "...                                              ...   \n",
       "9931                                      463.666667   \n",
       "9932                                      445.333333   \n",
       "9933                                      497.291667   \n",
       "9934                                     3978.333333   \n",
       "9935                                     3709.333333   \n",
       "\n",
       "     Stratigraphic Column Target Retained Bits  \\\n",
       "0                                           64   \n",
       "1                                           64   \n",
       "2                                           64   \n",
       "3                                          512   \n",
       "4                                          512   \n",
       "...                                        ...   \n",
       "9931                                       512   \n",
       "9932                                       512   \n",
       "9933                                      4096   \n",
       "9934                                      4096   \n",
       "9935                                      4096   \n",
       "\n",
       "     Stratigraphic Column Expected Retained Bits Error  \\\n",
       "0                                                   -1   \n",
       "1                                                   -8   \n",
       "2                                                  128   \n",
       "3                                                  -16   \n",
       "4                                                   -8   \n",
       "...                                                ...   \n",
       "9931                                               -32   \n",
       "9932                                                64   \n",
       "9933                                             -3600   \n",
       "9934                                              -128   \n",
       "9935                                              -256   \n",
       "\n",
       "     Stratigraphic Column Actual Num Retained Strata  Taxon Compared From  \\\n",
       "0                                                 63                 4737   \n",
       "1                                                  7                 4737   \n",
       "2                                                  3                 4737   \n",
       "3                                                496                 4737   \n",
       "4                                                 63                 4737   \n",
       "...                                              ...                  ...   \n",
       "9931                                              60                 4595   \n",
       "9932                                               9                 4595   \n",
       "9933                                             496                 4595   \n",
       "9934                                             496                 4595   \n",
       "9935                                              60                 4595   \n",
       "\n",
       "      Taxon Compared To  Generation of Taxon Compared From  \\\n",
       "0                  4733                                501   \n",
       "1                  4733                                501   \n",
       "2                  4733                                501   \n",
       "3                  4733                                501   \n",
       "4                  4733                                501   \n",
       "...                 ...                                ...   \n",
       "9931               4738                                486   \n",
       "9932               4738                                486   \n",
       "9933               4738                                486   \n",
       "9934               4738                                486   \n",
       "9935               4738                                486   \n",
       "\n",
       "      Generation of Taxon Compared To  \\\n",
       "0                                 501   \n",
       "1                                 501   \n",
       "2                                 501   \n",
       "3                                 501   \n",
       "4                                 501   \n",
       "...                               ...   \n",
       "9931                              501   \n",
       "9932                              501   \n",
       "9933                              501   \n",
       "9934                              501   \n",
       "9935                              501   \n",
       "\n",
       "      Generation Of MRCA Lower Bound (inclusive)  \\\n",
       "0                                          440.0   \n",
       "1                                          448.0   \n",
       "2                                          256.0   \n",
       "3                                          474.0   \n",
       "4                                          472.0   \n",
       "...                                          ...   \n",
       "9931                                       480.0   \n",
       "9932                                       480.0   \n",
       "9933                                       476.0   \n",
       "9934                                       480.0   \n",
       "9935                                       480.0   \n",
       "\n",
       "      Generation Of MRCA Upper Bound (exclusive)  MRCA Bound Confidence  \\\n",
       "0                                          480.0               0.968750   \n",
       "1                                          500.0               0.996094   \n",
       "2                                          500.0               1.000000   \n",
       "3                                          479.0               0.968750   \n",
       "4                                          480.0               0.996094   \n",
       "...                                          ...                    ...   \n",
       "9931                                       482.0               0.996094   \n",
       "9932                                       486.0               1.000000   \n",
       "9933                                       481.0               0.968750   \n",
       "9934                                       481.0               0.996094   \n",
       "9935                                       482.0               1.000000   \n",
       "\n",
       "      Rank of Earliest Detectable Mrca With  \n",
       "0                                        40  \n",
       "1                                         0  \n",
       "2                                         0  \n",
       "3                                         4  \n",
       "4                                         0  \n",
       "...                                     ...  \n",
       "9931                                      0  \n",
       "9932                                      0  \n",
       "9933                                      4  \n",
       "9934                                      0  \n",
       "9935                                      0  \n",
       "\n",
       "[9936 rows x 17 columns]"
      ]
     },
     "execution_count": 22,
     "metadata": {},
     "output_type": "execute_result"
    }
   ],
   "source": [
    "res_df\n"
   ]
  },
  {
   "cell_type": "code",
   "execution_count": 23,
   "id": "834e3f3e",
   "metadata": {
    "execution": {
     "iopub.execute_input": "2022-03-13T17:00:56.070850Z",
     "iopub.status.busy": "2022-03-13T17:00:56.070562Z",
     "iopub.status.idle": "2022-03-13T17:00:56.240193Z",
     "shell.execute_reply": "2022-03-13T17:00:56.239523Z"
    },
    "papermill": {
     "duration": 0.202457,
     "end_time": "2022-03-13T17:00:56.241899",
     "exception": false,
     "start_time": "2022-03-13T17:00:56.039442",
     "status": "completed"
    },
    "tags": []
   },
   "outputs": [
    {
     "name": "stdout",
     "output_type": "stream",
     "text": [
      "digest: 3d024b557a67b8e2a5572033518c8564b219fdbde3c226f09b29a38aebe1b15f\n",
      "manifest:\n",
      "  Column Configuration: '                              18#         ex., actual_bits=63+actual_strata=63+bits_error=-1+differentia=1+policy=TaperedDepthProportionalResolution+resolution=31+target_bits=64'\n",
      "  Differentia Bit Width: '                             3#          ex., 1'\n",
      "  Generation Of MRCA Lower Bound (inclusive): '        76#,1668na  ex., 440.0'\n",
      "  Generation Of MRCA Upper Bound (exclusive): '        70#,1668na  ex., 480.0'\n",
      "  Generation of Taxon Compared From: '                 10#         ex., 501'\n",
      "  Generation of Taxon Compared To: '                   10#         ex., 501'\n",
      "  MRCA Bound Confidence: '                             3#          ex., 0.96875'\n",
      "  Rank of Earliest Detectable Mrca With: '             5#          ex., 40'\n",
      "  Stratigraphic Column Actual Num Retained Strata: '   6#          ex., 63'\n",
      "  Stratigraphic Column Expected Retained Bits: '       13#         ex., 63'\n",
      "  Stratigraphic Column Expected Retained Bits Error: ' 13#         ex., -1'\n",
      "  Stratigraphic Column Mean Actual Retained Bits: '    13#         ex., 62.833333333333336'\n",
      "  Stratigraphic Column Target Retained Bits: '         3#          ex., 64'\n",
      "  Stratum Retention Policy: '                          2#          ex., TaperedDepthProportionalResolution'\n",
      "  Stratum Retention Policy Resolution Parameter: '     6#          ex., 31'\n",
      "  Taxon Compared From: '                               24#         ex., 4737'\n",
      "  Taxon Compared To: '                                 24#         ex., 4733'\n",
      "num cols: 17\n",
      "num cols all na: 0\n",
      "num cols any na: 2\n",
      "num na: 3336\n",
      "num rows: 9936\n",
      "num rows all na: 0\n",
      "num rows any na: 1668\n",
      "size: 6M\n",
      "\n"
     ]
    }
   ],
   "source": [
    "nbm.print_dataframe_synopsis(res_df)\n"
   ]
  },
  {
   "cell_type": "markdown",
   "id": "09a76395",
   "metadata": {
    "papermill": {
     "duration": 0.026387,
     "end_time": "2022-03-13T17:00:56.295584",
     "exception": false,
     "start_time": "2022-03-13T17:00:56.269197",
     "status": "completed"
    },
    "tags": []
   },
   "source": [
    "# Save Pairwise MRCA Estimates to File\n"
   ]
  },
  {
   "cell_type": "code",
   "execution_count": 24,
   "id": "0ee8f9d1",
   "metadata": {
    "execution": {
     "iopub.execute_input": "2022-03-13T17:00:56.350178Z",
     "iopub.status.busy": "2022-03-13T17:00:56.349897Z",
     "iopub.status.idle": "2022-03-13T17:00:56.577176Z",
     "shell.execute_reply": "2022-03-13T17:00:56.576533Z"
    },
    "papermill": {
     "duration": 0.257053,
     "end_time": "2022-03-13T17:00:56.578917",
     "exception": false,
     "start_time": "2022-03-13T17:00:56.321864",
     "status": "completed"
    },
    "tags": []
   },
   "outputs": [],
   "source": [
    "res_df.to_csv(\n",
    "    f'a=pairwise_mrca_estimates+source={data_filename}.gz',\n",
    "    compression='gzip',\n",
    ")\n",
    "res_df.to_csv(\n",
    "    f'a=pairwise_mrca_estimates+source={data_filename}',\n",
    ")\n"
   ]
  }
 ],
 "metadata": {
  "kernelspec": {
   "display_name": "Python 3",
   "language": "python",
   "name": "python3"
  },
  "language_info": {
   "codemirror_mode": {
    "name": "ipython",
    "version": 3
   },
   "file_extension": ".py",
   "mimetype": "text/x-python",
   "name": "python",
   "nbconvert_exporter": "python",
   "pygments_lexer": "ipython3",
   "version": "3.8.10"
  },
  "papermill": {
   "default_parameters": {},
   "duration": null,
   "end_time": null,
   "environment_variables": {},
   "exception": null,
   "input_path": "/opt/hereditary-stratigraph-concept/binder/phylogenetic-inference/phylogeny_simulation_mill.ipynb",
   "output_path": "executing.endomill.ipynb",
   "parameters": {
    "data_url": "https://osf.io/8ycq7/"
   },
   "start_time": "2022-03-13T17:00:46.001994",
   "version": "2.3.4"
  }
 },
 "nbformat": 4,
 "nbformat_minor": 5
}