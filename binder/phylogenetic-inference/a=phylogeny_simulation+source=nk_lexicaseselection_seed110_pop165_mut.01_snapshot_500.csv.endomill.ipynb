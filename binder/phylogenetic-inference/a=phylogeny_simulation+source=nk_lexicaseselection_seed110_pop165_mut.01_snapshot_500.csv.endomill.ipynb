{
 "cells": [
  {
   "cell_type": "code",
   "execution_count": 1,
   "id": "83c1976c",
   "metadata": {
    "execution": {
     "iopub.execute_input": "2022-12-12T06:07:28.311905Z",
     "iopub.status.busy": "2022-12-12T06:07:28.311401Z",
     "iopub.status.idle": "2022-12-12T06:07:29.136335Z",
     "shell.execute_reply": "2022-12-12T06:07:29.135633Z"
    },
    "papermill": {
     "duration": 0.851206,
     "end_time": "2022-12-12T06:07:29.138624",
     "exception": false,
     "start_time": "2022-12-12T06:07:28.287418",
     "status": "completed"
    },
    "tags": []
   },
   "outputs": [],
   "source": [
    "import endomill\n",
    "from nbmetalog import nbmetalog as nbm\n"
   ]
  },
  {
   "cell_type": "code",
   "execution_count": 2,
   "id": "c1f943bb",
   "metadata": {
    "execution": {
     "iopub.execute_input": "2022-12-12T06:07:29.174340Z",
     "iopub.status.busy": "2022-12-12T06:07:29.173975Z",
     "iopub.status.idle": "2022-12-12T06:07:29.510670Z",
     "shell.execute_reply": "2022-12-12T06:07:29.510027Z"
    },
    "papermill": {
     "duration": 0.356142,
     "end_time": "2022-12-12T06:07:29.512269",
     "exception": false,
     "start_time": "2022-12-12T06:07:29.156127",
     "status": "completed"
    },
    "tags": []
   },
   "outputs": [
    {
     "name": "stdout",
     "output_type": "stream",
     "text": [
      "context: ci\n",
      "hostname: 2f72ce04312a\n",
      "interpreter: 3.8.12 (default, Jan 15 2022, 18:39:47)  [GCC 7.5.0]\n",
      "nbcellexec: 2\n",
      "nbname: phylogeny_simulation_mill\n",
      "nbpath: /opt/hereditary-stratigraph-concept/binder/phylogenetic-inference/phylogeny_simulation_mill.ipynb\n",
      "revision: null\n",
      "session: 9cdea713-1383-48cf-9577-2117f9077fbb\n",
      "timestamp: 2022-12-12T06:07:29Z00:00\n",
      "\n",
      "\n"
     ]
    },
    {
     "name": "stdout",
     "output_type": "stream",
     "text": [
      "IPython==7.16.1\n",
      "keyname==0.4.1\n",
      "yaml==5.3.1\n",
      "endomill==0.1.3\n",
      "nbmetalog==0.2.6\n",
      "re==2.2.1\n",
      "ipython_genutils==0.2.0\n",
      "logging==0.5.1.2\n",
      "zmq==22.3.0\n",
      "json==2.0.9\n",
      "ipykernel==5.5.3\n"
     ]
    }
   ],
   "source": [
    "nbm.print_metadata()\n"
   ]
  },
  {
   "cell_type": "code",
   "execution_count": 3,
   "id": "e7f854e4",
   "metadata": {
    "execution": {
     "iopub.execute_input": "2022-12-12T06:07:29.549186Z",
     "iopub.status.busy": "2022-12-12T06:07:29.548794Z",
     "iopub.status.idle": "2022-12-12T06:07:29.556735Z",
     "shell.execute_reply": "2022-12-12T06:07:29.555851Z"
    },
    "papermill": {
     "duration": 0.028733,
     "end_time": "2022-12-12T06:07:29.558400",
     "exception": false,
     "start_time": "2022-12-12T06:07:29.529667",
     "status": "completed"
    },
    "tags": []
   },
   "outputs": [
    {
     "name": "stdout",
     "output_type": "stream",
     "text": [
      "detected executing.endomill.ipynb file\n",
      "skipping instantiate_over\n"
     ]
    }
   ],
   "source": [
    "endomill.instantiate_over(\n",
    "    parameter_packs=[\n",
    "        {\n",
    "            'data_url': data_url,\n",
    "            'data_filename': data_filename,\n",
    "        }\n",
    "        for data_filename, data_url in [\n",
    "            (\n",
    "                'nk_ecoeaselection_seed110_pop100_mut.01_snapshot_3000.csv',\n",
    "                'https://osf.io/5d3be/',\n",
    "            ),\n",
    "            (\n",
    "                'nk_lexicaseselection_seed110_pop165_mut.01_snapshot_500.csv',\n",
    "                'https://osf.io/8ycq7/',\n",
    "            ),\n",
    "            (\n",
    "                'nk_randomselection_seed7_pop100_mut.01_snapshot_5000.csv',\n",
    "                'https://osf.io/ydxt7/',\n",
    "            ),\n",
    "            (\n",
    "                'nk_sharingselection_seed10_pop100_mut.01_snapshot_5000.csv',\n",
    "                'https://osf.io/cz9fk/',\n",
    "            ),\n",
    "            (\n",
    "                'nk_tournamentselection_seed140_pop100_mut.01_snapshot_5000.csv',\n",
    "                'https://osf.io/5ubn8/',\n",
    "            )\n",
    "        ]\n",
    "    ],\n",
    ")\n"
   ]
  },
  {
   "cell_type": "code",
   "execution_count": 4,
   "id": "5cf9fe7c",
   "metadata": {
    "execution": {
     "iopub.execute_input": "2022-12-12T06:07:29.595873Z",
     "iopub.status.busy": "2022-12-12T06:07:29.595604Z",
     "iopub.status.idle": "2022-12-12T06:07:29.599288Z",
     "shell.execute_reply": "2022-12-12T06:07:29.598450Z"
    },
    "papermill": {
     "duration": 0.024231,
     "end_time": "2022-12-12T06:07:29.600734",
     "exception": false,
     "start_time": "2022-12-12T06:07:29.576503",
     "status": "completed"
    },
    "tags": [
     "parameters"
    ]
   },
   "outputs": [],
   "source": [
    "# define papermill parameters\n",
    "data_url: str\n",
    "data_filename: str\n"
   ]
  },
  {
   "cell_type": "code",
   "execution_count": 5,
   "id": "526ab153",
   "metadata": {
    "execution": {
     "iopub.execute_input": "2022-12-12T06:07:29.637813Z",
     "iopub.status.busy": "2022-12-12T06:07:29.637447Z",
     "iopub.status.idle": "2022-12-12T06:07:29.641346Z",
     "shell.execute_reply": "2022-12-12T06:07:29.640668Z"
    },
    "papermill": {
     "duration": 0.024488,
     "end_time": "2022-12-12T06:07:29.642837",
     "exception": false,
     "start_time": "2022-12-12T06:07:29.618349",
     "status": "completed"
    },
    "tags": [
     "injected-parameters"
    ]
   },
   "outputs": [],
   "source": [
    "# Parameters\n",
    "data_url = \"https://osf.io/8ycq7/\"\n",
    "data_filename = \"nk_lexicaseselection_seed110_pop165_mut.01_snapshot_500.csv\"\n"
   ]
  },
  {
   "cell_type": "code",
   "execution_count": 6,
   "id": "ffc55119",
   "metadata": {
    "execution": {
     "iopub.execute_input": "2022-12-12T06:07:29.682652Z",
     "iopub.status.busy": "2022-12-12T06:07:29.682315Z",
     "iopub.status.idle": "2022-12-12T06:07:30.108079Z",
     "shell.execute_reply": "2022-12-12T06:07:30.107286Z"
    },
    "papermill": {
     "duration": 0.449632,
     "end_time": "2022-12-12T06:07:30.110562",
     "exception": false,
     "start_time": "2022-12-12T06:07:29.660930",
     "status": "completed"
    },
    "tags": []
   },
   "outputs": [],
   "source": [
    "import anytree\n",
    "from bs4 import BeautifulSoup\n",
    "from collections import defaultdict\n",
    "from hstrat import hstrat\n",
    "from interval_search import doubling_search\n",
    "from iterpop import iterpop as ip\n",
    "import itertools as it\n",
    "from keyname import keyname as kn\n",
    "import numpy as np\n",
    "import opytional as opyt\n",
    "import pandas as pd\n",
    "import random\n",
    "import sys\n",
    "from tqdm import tqdm\n",
    "from urllib import request\n"
   ]
  },
  {
   "cell_type": "code",
   "execution_count": 7,
   "id": "c49a9e4b",
   "metadata": {
    "execution": {
     "iopub.execute_input": "2022-12-12T06:07:30.150980Z",
     "iopub.status.busy": "2022-12-12T06:07:30.150598Z",
     "iopub.status.idle": "2022-12-12T06:07:30.155164Z",
     "shell.execute_reply": "2022-12-12T06:07:30.154274Z"
    },
    "papermill": {
     "duration": 0.025808,
     "end_time": "2022-12-12T06:07:30.156812",
     "exception": false,
     "start_time": "2022-12-12T06:07:30.131004",
     "status": "completed"
    },
    "tags": []
   },
   "outputs": [],
   "source": [
    "random.seed(1) # ensure reproducibility\n",
    "sys.setrecursionlimit(100000) # anytree exceeds default recursion limit on our data\n"
   ]
  },
  {
   "cell_type": "code",
   "execution_count": 8,
   "id": "fafa1dce",
   "metadata": {
    "execution": {
     "iopub.execute_input": "2022-12-12T06:07:30.195039Z",
     "iopub.status.busy": "2022-12-12T06:07:30.194702Z",
     "iopub.status.idle": "2022-12-12T06:07:30.457268Z",
     "shell.execute_reply": "2022-12-12T06:07:30.456383Z"
    },
    "papermill": {
     "duration": 0.284174,
     "end_time": "2022-12-12T06:07:30.459211",
     "exception": false,
     "start_time": "2022-12-12T06:07:30.175037",
     "status": "completed"
    },
    "tags": []
   },
   "outputs": [
    {
     "name": "stdout",
     "output_type": "stream",
     "text": [
      "context: ci\n",
      "hostname: 2f72ce04312a\n",
      "interpreter: 3.8.12 (default, Jan 15 2022, 18:39:47)  [GCC 7.5.0]\n",
      "nbcellexec: 8\n",
      "nbname: phylogeny_simulation_mill\n",
      "nbpath: /opt/hereditary-stratigraph-concept/binder/phylogenetic-inference/phylogeny_simulation_mill.ipynb\n",
      "revision: null\n",
      "session: 9cdea713-1383-48cf-9577-2117f9077fbb\n",
      "timestamp: 2022-12-12T06:07:30Z00:00\n",
      "\n",
      "\n"
     ]
    },
    {
     "name": "stdout",
     "output_type": "stream",
     "text": [
      "IPython==7.16.1\n",
      "endomill==0.1.3\n",
      "ipykernel==5.5.3\n",
      "ipython_genutils==0.2.0\n",
      "json==2.0.9\n",
      "keyname==0.4.1\n",
      "logging==0.5.1.2\n",
      "nbmetalog==0.2.6\n",
      "re==2.2.1\n",
      "yaml==5.3.1\n",
      "zmq==22.3.0\n",
      "anytree==2.8.0\n",
      "hstrat==0.3.2\n",
      "iterpop==0.4.0\n",
      "numpy==1.21.5\n",
      "opytional==0.1.0\n",
      "pandas==1.1.2\n"
     ]
    }
   ],
   "source": [
    "from nbmetalog import nbmetalog as nbm\n",
    "nbm.print_metadata()\n"
   ]
  },
  {
   "cell_type": "code",
   "execution_count": 9,
   "id": "2b9b7c4e",
   "metadata": {
    "execution": {
     "iopub.execute_input": "2022-12-12T06:07:30.498053Z",
     "iopub.status.busy": "2022-12-12T06:07:30.497710Z",
     "iopub.status.idle": "2022-12-12T06:07:30.501926Z",
     "shell.execute_reply": "2022-12-12T06:07:30.501100Z"
    },
    "papermill": {
     "duration": 0.025458,
     "end_time": "2022-12-12T06:07:30.503514",
     "exception": false,
     "start_time": "2022-12-12T06:07:30.478056",
     "status": "completed"
    },
    "tags": []
   },
   "outputs": [],
   "source": [
    "endomill.add_instance_outpath(\n",
    "    f'a=phylogeny_simulation+source={data_filename}.endomill.ipynb',\n",
    ")\n"
   ]
  },
  {
   "cell_type": "markdown",
   "id": "ca17009e",
   "metadata": {
    "papermill": {
     "duration": 0.018825,
     "end_time": "2022-12-12T06:07:30.541017",
     "exception": false,
     "start_time": "2022-12-12T06:07:30.522192",
     "status": "completed"
    },
    "tags": []
   },
   "source": [
    "# Retrieve Target Phylogeny from OSF\n"
   ]
  },
  {
   "cell_type": "code",
   "execution_count": 10,
   "id": "b55e2dc2",
   "metadata": {
    "execution": {
     "iopub.execute_input": "2022-12-12T06:07:30.579570Z",
     "iopub.status.busy": "2022-12-12T06:07:30.579349Z",
     "iopub.status.idle": "2022-12-12T06:07:31.371332Z",
     "shell.execute_reply": "2022-12-12T06:07:31.369613Z"
    },
    "papermill": {
     "duration": 0.814197,
     "end_time": "2022-12-12T06:07:31.373596",
     "exception": false,
     "start_time": "2022-12-12T06:07:30.559399",
     "status": "completed"
    },
    "tags": []
   },
   "outputs": [
    {
     "name": "stdout",
     "output_type": "stream",
     "text": [
      "digest: 7bffa7d6c47b38c6b9dc45d5093196088d0d82dd210a18e110bc231e2aab7746\n",
      "manifest:\n",
      "  ancestor_list: '    210#  ex., [4727]'\n",
      "  depth: '            59#   ex., 37'\n",
      "  destruction_time: ' 159#  ex., inf'\n",
      "  id: '               233#  ex., 4737'\n",
      "  num_offspring: '    4#    ex., 0'\n",
      "  num_orgs: '         8#    ex., 1'\n",
      "  origin_time: '      176#  ex., 500'\n",
      "  phenotype: '        187#  ex., [ 0.78551 0.507546 0.298434 0.703895 0.70148 0.897296\n",
      "    0.852754 0.533489 0.975623 0.814646 0.0274892 0.45607 0.221636 0.767401 0.74891\n",
      "    0.860365 0.319087 0.293359 0.997853 0.770533 ]'\n",
      "  tot_orgs: '         111#  ex., 1'\n",
      "  total_offspring: '  15#   ex., 0'\n",
      "num cols: 10\n",
      "num cols all na: 0\n",
      "num cols any na: 0\n",
      "num na: 0\n",
      "num rows: 233\n",
      "num rows all na: 0\n",
      "num rows any na: 0\n",
      "size: 83K\n",
      "\n"
     ]
    }
   ],
   "source": [
    "target_phylogeny_df = pd.read_csv(\n",
    "    f'{data_url}/download',\n",
    ")\n",
    "\n",
    "nbm.print_dataframe_synopsis(target_phylogeny_df)\n"
   ]
  },
  {
   "cell_type": "markdown",
   "id": "7058c908",
   "metadata": {
    "papermill": {
     "duration": 0.018685,
     "end_time": "2022-12-12T06:07:31.410842",
     "exception": false,
     "start_time": "2022-12-12T06:07:31.392157",
     "status": "completed"
    },
    "tags": []
   },
   "source": [
    "# Create a Tree with Target Phylogeny Structure\n"
   ]
  },
  {
   "cell_type": "code",
   "execution_count": 11,
   "id": "0bb798d1",
   "metadata": {
    "execution": {
     "iopub.execute_input": "2022-12-12T06:07:31.449727Z",
     "iopub.status.busy": "2022-12-12T06:07:31.449497Z",
     "iopub.status.idle": "2022-12-12T06:07:31.485219Z",
     "shell.execute_reply": "2022-12-12T06:07:31.484378Z"
    },
    "papermill": {
     "duration": 0.057093,
     "end_time": "2022-12-12T06:07:31.486692",
     "exception": false,
     "start_time": "2022-12-12T06:07:31.429599",
     "status": "completed"
    },
    "tags": []
   },
   "outputs": [],
   "source": [
    "# map id to anytree node\n",
    "nodes = defaultdict(anytree.AnyNode)\n",
    "for __, row in target_phylogeny_df.iterrows():\n",
    "    node = nodes[row['id']]\n",
    "    node.id = row['id']\n",
    "    node.origin_time = row['origin_time']\n",
    "    if 'NONE' not in row['ancestor_list']:\n",
    "        ancestor_id = ip.popsingleton(\n",
    "            eval(row['ancestor_list'])\n",
    "        )\n",
    "        node.parent = nodes[ancestor_id]\n",
    "\n",
    "roots = {node.root for node in nodes.values()}\n"
   ]
  },
  {
   "cell_type": "code",
   "execution_count": 12,
   "id": "d24fff7f",
   "metadata": {
    "execution": {
     "iopub.execute_input": "2022-12-12T06:07:31.524858Z",
     "iopub.status.busy": "2022-12-12T06:07:31.524622Z",
     "iopub.status.idle": "2022-12-12T06:07:31.531900Z",
     "shell.execute_reply": "2022-12-12T06:07:31.531283Z"
    },
    "papermill": {
     "duration": 0.028813,
     "end_time": "2022-12-12T06:07:31.533421",
     "exception": false,
     "start_time": "2022-12-12T06:07:31.504608",
     "status": "completed"
    },
    "tags": []
   },
   "outputs": [
    {
     "data": {
      "text/plain": [
       "58"
      ]
     },
     "execution_count": 12,
     "metadata": {},
     "output_type": "execute_result"
    }
   ],
   "source": [
    "root = ip.popsingleton(roots)\n",
    "root.height\n"
   ]
  },
  {
   "cell_type": "code",
   "execution_count": 13,
   "id": "18d38955",
   "metadata": {
    "execution": {
     "iopub.execute_input": "2022-12-12T06:07:31.574341Z",
     "iopub.status.busy": "2022-12-12T06:07:31.573995Z",
     "iopub.status.idle": "2022-12-12T06:07:31.580546Z",
     "shell.execute_reply": "2022-12-12T06:07:31.579920Z"
    },
    "papermill": {
     "duration": 0.029299,
     "end_time": "2022-12-12T06:07:31.582053",
     "exception": false,
     "start_time": "2022-12-12T06:07:31.552754",
     "status": "completed"
    },
    "tags": []
   },
   "outputs": [
    {
     "data": {
      "text/plain": [
       "500"
      ]
     },
     "execution_count": 13,
     "metadata": {},
     "output_type": "execute_result"
    }
   ],
   "source": [
    "max_origin_time = target_phylogeny_df['origin_time'].max()\n",
    "max_origin_time\n"
   ]
  },
  {
   "cell_type": "code",
   "execution_count": 14,
   "id": "13cf7b61",
   "metadata": {
    "execution": {
     "iopub.execute_input": "2022-12-12T06:07:31.622891Z",
     "iopub.status.busy": "2022-12-12T06:07:31.622557Z",
     "iopub.status.idle": "2022-12-12T06:07:31.629220Z",
     "shell.execute_reply": "2022-12-12T06:07:31.628753Z"
    },
    "papermill": {
     "duration": 0.028844,
     "end_time": "2022-12-12T06:07:31.630657",
     "exception": false,
     "start_time": "2022-12-12T06:07:31.601813",
     "status": "completed"
    },
    "tags": []
   },
   "outputs": [
    {
     "data": {
      "text/plain": [
       "496.2916666666667"
      ]
     },
     "execution_count": 14,
     "metadata": {},
     "output_type": "execute_result"
    }
   ],
   "source": [
    "mean_leaf_origin_time = np.mean([\n",
    "    leaf.origin_time\n",
    "    for leaf in root.leaves\n",
    "])\n",
    "mean_leaf_origin_time\n"
   ]
  },
  {
   "cell_type": "markdown",
   "id": "228b1d65",
   "metadata": {
    "papermill": {
     "duration": 0.020396,
     "end_time": "2022-12-12T06:07:31.671043",
     "exception": false,
     "start_time": "2022-12-12T06:07:31.650647",
     "status": "completed"
    },
    "tags": []
   },
   "source": [
    "# Pick Parameters for Hereditary Stratigraphic Columns\n"
   ]
  },
  {
   "cell_type": "code",
   "execution_count": 15,
   "id": "8dab8911",
   "metadata": {
    "execution": {
     "iopub.execute_input": "2022-12-12T06:07:31.712750Z",
     "iopub.status.busy": "2022-12-12T06:07:31.712410Z",
     "iopub.status.idle": "2022-12-12T06:07:31.722899Z",
     "shell.execute_reply": "2022-12-12T06:07:31.722295Z"
    },
    "papermill": {
     "duration": 0.033295,
     "end_time": "2022-12-12T06:07:31.724454",
     "exception": false,
     "start_time": "2022-12-12T06:07:31.691159",
     "status": "completed"
    },
    "tags": []
   },
   "outputs": [],
   "source": [
    "def make_conditions(num_generations: int) -> pd.DataFrame:\n",
    "    res = []\n",
    "    for condemner_factory, target_column_bits, differentia_bit_width in it.product(\n",
    "        [\n",
    "            hstrat.StratumRetentionCondemnerTaperedDepthProportionalResolution,\n",
    "            hstrat.StratumRetentionCondemnerRecencyProportionalResolution,\n",
    "        ],\n",
    "        [\n",
    "            64,\n",
    "            64 * 8,\n",
    "            64 * 64,\n",
    "        ],\n",
    "        [\n",
    "            1,\n",
    "            8,\n",
    "            64,\n",
    "        ],\n",
    "    ):\n",
    "        policy_param = doubling_search(\n",
    "            lambda x: \\\n",
    "                condemner_factory(x + 1).CalcNumStrataRetainedExact(num_generations)\n",
    "                * differentia_bit_width > target_column_bits or x >= num_generations,\n",
    "            {\n",
    "                hstrat.StratumRetentionCondemnerTaperedDepthProportionalResolution: 1,\n",
    "                hstrat.StratumRetentionCondemnerRecencyProportionalResolution: 0,\n",
    "            }[condemner_factory],\n",
    "        )\n",
    "\n",
    "        actual_column_strata = condemner_factory(policy_param).CalcNumStrataRetainedExact(num_generations)\n",
    "        actual_column_bits = actual_column_strata * differentia_bit_width\n",
    "\n",
    "        res.append({\n",
    "            'Retention Policy' : condemner_factory.__name__[25:],\n",
    "            'Differentia Bit Width' : differentia_bit_width,\n",
    "            'Retention Policy Resolution Parameter' : policy_param,\n",
    "            'Target Retained Bits' : target_column_bits,\n",
    "            'Actual Retained Bits' : actual_column_bits,\n",
    "            'Retained Bits Error' : actual_column_bits - target_column_bits,\n",
    "            'Actual Retained Strata' : actual_column_strata,\n",
    "            'condemner' : condemner_factory(policy_param),\n",
    "        })\n",
    "    return pd.DataFrame.from_records(res)\n"
   ]
  },
  {
   "cell_type": "code",
   "execution_count": 16,
   "id": "53cc09ea",
   "metadata": {
    "execution": {
     "iopub.execute_input": "2022-12-12T06:07:31.765891Z",
     "iopub.status.busy": "2022-12-12T06:07:31.765557Z",
     "iopub.status.idle": "2022-12-12T06:07:31.782261Z",
     "shell.execute_reply": "2022-12-12T06:07:31.781674Z"
    },
    "papermill": {
     "duration": 0.039318,
     "end_time": "2022-12-12T06:07:31.783721",
     "exception": false,
     "start_time": "2022-12-12T06:07:31.744403",
     "status": "completed"
    },
    "tags": []
   },
   "outputs": [
    {
     "data": {
      "text/html": [
       "<div>\n",
       "<style scoped>\n",
       "    .dataframe tbody tr th:only-of-type {\n",
       "        vertical-align: middle;\n",
       "    }\n",
       "\n",
       "    .dataframe tbody tr th {\n",
       "        vertical-align: top;\n",
       "    }\n",
       "\n",
       "    .dataframe thead th {\n",
       "        text-align: right;\n",
       "    }\n",
       "</style>\n",
       "<table border=\"1\" class=\"dataframe\">\n",
       "  <thead>\n",
       "    <tr style=\"text-align: right;\">\n",
       "      <th></th>\n",
       "      <th>Retention Policy</th>\n",
       "      <th>Differentia Bit Width</th>\n",
       "      <th>Retention Policy Resolution Parameter</th>\n",
       "      <th>Target Retained Bits</th>\n",
       "      <th>Actual Retained Bits</th>\n",
       "      <th>Retained Bits Error</th>\n",
       "      <th>Actual Retained Strata</th>\n",
       "    </tr>\n",
       "  </thead>\n",
       "  <tbody>\n",
       "    <tr>\n",
       "      <th>0</th>\n",
       "      <td>TaperedDepthProportionalResolution</td>\n",
       "      <td>1</td>\n",
       "      <td>31</td>\n",
       "      <td>64</td>\n",
       "      <td>63</td>\n",
       "      <td>-1</td>\n",
       "      <td>63</td>\n",
       "    </tr>\n",
       "    <tr>\n",
       "      <th>1</th>\n",
       "      <td>TaperedDepthProportionalResolution</td>\n",
       "      <td>8</td>\n",
       "      <td>3</td>\n",
       "      <td>64</td>\n",
       "      <td>56</td>\n",
       "      <td>-8</td>\n",
       "      <td>7</td>\n",
       "    </tr>\n",
       "    <tr>\n",
       "      <th>2</th>\n",
       "      <td>TaperedDepthProportionalResolution</td>\n",
       "      <td>64</td>\n",
       "      <td>1</td>\n",
       "      <td>64</td>\n",
       "      <td>192</td>\n",
       "      <td>128</td>\n",
       "      <td>3</td>\n",
       "    </tr>\n",
       "    <tr>\n",
       "      <th>3</th>\n",
       "      <td>TaperedDepthProportionalResolution</td>\n",
       "      <td>1</td>\n",
       "      <td>496</td>\n",
       "      <td>512</td>\n",
       "      <td>496</td>\n",
       "      <td>-16</td>\n",
       "      <td>496</td>\n",
       "    </tr>\n",
       "    <tr>\n",
       "      <th>4</th>\n",
       "      <td>TaperedDepthProportionalResolution</td>\n",
       "      <td>8</td>\n",
       "      <td>31</td>\n",
       "      <td>512</td>\n",
       "      <td>504</td>\n",
       "      <td>-8</td>\n",
       "      <td>63</td>\n",
       "    </tr>\n",
       "    <tr>\n",
       "      <th>5</th>\n",
       "      <td>TaperedDepthProportionalResolution</td>\n",
       "      <td>64</td>\n",
       "      <td>3</td>\n",
       "      <td>512</td>\n",
       "      <td>448</td>\n",
       "      <td>-64</td>\n",
       "      <td>7</td>\n",
       "    </tr>\n",
       "    <tr>\n",
       "      <th>6</th>\n",
       "      <td>TaperedDepthProportionalResolution</td>\n",
       "      <td>1</td>\n",
       "      <td>496</td>\n",
       "      <td>4096</td>\n",
       "      <td>496</td>\n",
       "      <td>-3600</td>\n",
       "      <td>496</td>\n",
       "    </tr>\n",
       "    <tr>\n",
       "      <th>7</th>\n",
       "      <td>TaperedDepthProportionalResolution</td>\n",
       "      <td>8</td>\n",
       "      <td>496</td>\n",
       "      <td>4096</td>\n",
       "      <td>3968</td>\n",
       "      <td>-128</td>\n",
       "      <td>496</td>\n",
       "    </tr>\n",
       "    <tr>\n",
       "      <th>8</th>\n",
       "      <td>TaperedDepthProportionalResolution</td>\n",
       "      <td>64</td>\n",
       "      <td>31</td>\n",
       "      <td>4096</td>\n",
       "      <td>4032</td>\n",
       "      <td>-64</td>\n",
       "      <td>63</td>\n",
       "    </tr>\n",
       "    <tr>\n",
       "      <th>9</th>\n",
       "      <td>RecencyProportionalResolution</td>\n",
       "      <td>1</td>\n",
       "      <td>8</td>\n",
       "      <td>64</td>\n",
       "      <td>60</td>\n",
       "      <td>-4</td>\n",
       "      <td>60</td>\n",
       "    </tr>\n",
       "    <tr>\n",
       "      <th>10</th>\n",
       "      <td>RecencyProportionalResolution</td>\n",
       "      <td>8</td>\n",
       "      <td>0</td>\n",
       "      <td>64</td>\n",
       "      <td>72</td>\n",
       "      <td>8</td>\n",
       "      <td>9</td>\n",
       "    </tr>\n",
       "    <tr>\n",
       "      <th>11</th>\n",
       "      <td>RecencyProportionalResolution</td>\n",
       "      <td>64</td>\n",
       "      <td>0</td>\n",
       "      <td>64</td>\n",
       "      <td>576</td>\n",
       "      <td>512</td>\n",
       "      <td>9</td>\n",
       "    </tr>\n",
       "    <tr>\n",
       "      <th>12</th>\n",
       "      <td>RecencyProportionalResolution</td>\n",
       "      <td>1</td>\n",
       "      <td>496</td>\n",
       "      <td>512</td>\n",
       "      <td>496</td>\n",
       "      <td>-16</td>\n",
       "      <td>496</td>\n",
       "    </tr>\n",
       "    <tr>\n",
       "      <th>13</th>\n",
       "      <td>RecencyProportionalResolution</td>\n",
       "      <td>8</td>\n",
       "      <td>8</td>\n",
       "      <td>512</td>\n",
       "      <td>480</td>\n",
       "      <td>-32</td>\n",
       "      <td>60</td>\n",
       "    </tr>\n",
       "    <tr>\n",
       "      <th>14</th>\n",
       "      <td>RecencyProportionalResolution</td>\n",
       "      <td>64</td>\n",
       "      <td>0</td>\n",
       "      <td>512</td>\n",
       "      <td>576</td>\n",
       "      <td>64</td>\n",
       "      <td>9</td>\n",
       "    </tr>\n",
       "    <tr>\n",
       "      <th>15</th>\n",
       "      <td>RecencyProportionalResolution</td>\n",
       "      <td>1</td>\n",
       "      <td>496</td>\n",
       "      <td>4096</td>\n",
       "      <td>496</td>\n",
       "      <td>-3600</td>\n",
       "      <td>496</td>\n",
       "    </tr>\n",
       "    <tr>\n",
       "      <th>16</th>\n",
       "      <td>RecencyProportionalResolution</td>\n",
       "      <td>8</td>\n",
       "      <td>496</td>\n",
       "      <td>4096</td>\n",
       "      <td>3968</td>\n",
       "      <td>-128</td>\n",
       "      <td>496</td>\n",
       "    </tr>\n",
       "    <tr>\n",
       "      <th>17</th>\n",
       "      <td>RecencyProportionalResolution</td>\n",
       "      <td>64</td>\n",
       "      <td>8</td>\n",
       "      <td>4096</td>\n",
       "      <td>3840</td>\n",
       "      <td>-256</td>\n",
       "      <td>60</td>\n",
       "    </tr>\n",
       "  </tbody>\n",
       "</table>\n",
       "</div>"
      ],
      "text/plain": [
       "                      Retention Policy  Differentia Bit Width  \\\n",
       "0   TaperedDepthProportionalResolution                      1   \n",
       "1   TaperedDepthProportionalResolution                      8   \n",
       "2   TaperedDepthProportionalResolution                     64   \n",
       "3   TaperedDepthProportionalResolution                      1   \n",
       "4   TaperedDepthProportionalResolution                      8   \n",
       "5   TaperedDepthProportionalResolution                     64   \n",
       "6   TaperedDepthProportionalResolution                      1   \n",
       "7   TaperedDepthProportionalResolution                      8   \n",
       "8   TaperedDepthProportionalResolution                     64   \n",
       "9        RecencyProportionalResolution                      1   \n",
       "10       RecencyProportionalResolution                      8   \n",
       "11       RecencyProportionalResolution                     64   \n",
       "12       RecencyProportionalResolution                      1   \n",
       "13       RecencyProportionalResolution                      8   \n",
       "14       RecencyProportionalResolution                     64   \n",
       "15       RecencyProportionalResolution                      1   \n",
       "16       RecencyProportionalResolution                      8   \n",
       "17       RecencyProportionalResolution                     64   \n",
       "\n",
       "    Retention Policy Resolution Parameter  Target Retained Bits  \\\n",
       "0                                      31                    64   \n",
       "1                                       3                    64   \n",
       "2                                       1                    64   \n",
       "3                                     496                   512   \n",
       "4                                      31                   512   \n",
       "5                                       3                   512   \n",
       "6                                     496                  4096   \n",
       "7                                     496                  4096   \n",
       "8                                      31                  4096   \n",
       "9                                       8                    64   \n",
       "10                                      0                    64   \n",
       "11                                      0                    64   \n",
       "12                                    496                   512   \n",
       "13                                      8                   512   \n",
       "14                                      0                   512   \n",
       "15                                    496                  4096   \n",
       "16                                    496                  4096   \n",
       "17                                      8                  4096   \n",
       "\n",
       "    Actual Retained Bits  Retained Bits Error  Actual Retained Strata  \n",
       "0                     63                   -1                      63  \n",
       "1                     56                   -8                       7  \n",
       "2                    192                  128                       3  \n",
       "3                    496                  -16                     496  \n",
       "4                    504                   -8                      63  \n",
       "5                    448                  -64                       7  \n",
       "6                    496                -3600                     496  \n",
       "7                   3968                 -128                     496  \n",
       "8                   4032                  -64                      63  \n",
       "9                     60                   -4                      60  \n",
       "10                    72                    8                       9  \n",
       "11                   576                  512                       9  \n",
       "12                   496                  -16                     496  \n",
       "13                   480                  -32                      60  \n",
       "14                   576                   64                       9  \n",
       "15                   496                -3600                     496  \n",
       "16                  3968                 -128                     496  \n",
       "17                  3840                 -256                      60  "
      ]
     },
     "execution_count": 16,
     "metadata": {},
     "output_type": "execute_result"
    }
   ],
   "source": [
    "conditions_df = make_conditions(int(mean_leaf_origin_time))\n",
    "conditions_df.drop('condemner', axis=1)\n"
   ]
  },
  {
   "cell_type": "markdown",
   "id": "3755febc",
   "metadata": {
    "papermill": {
     "duration": 0.020864,
     "end_time": "2022-12-12T06:07:31.825486",
     "exception": false,
     "start_time": "2022-12-12T06:07:31.804622",
     "status": "completed"
    },
    "tags": []
   },
   "source": [
    "# Set Up Ancestor Column\n"
   ]
  },
  {
   "cell_type": "code",
   "execution_count": 17,
   "id": "bcb593cf",
   "metadata": {
    "execution": {
     "iopub.execute_input": "2022-12-12T06:07:31.867309Z",
     "iopub.status.busy": "2022-12-12T06:07:31.866989Z",
     "iopub.status.idle": "2022-12-12T06:07:31.876562Z",
     "shell.execute_reply": "2022-12-12T06:07:31.876032Z"
    },
    "papermill": {
     "duration": 0.033223,
     "end_time": "2022-12-12T06:07:31.878256",
     "exception": false,
     "start_time": "2022-12-12T06:07:31.845033",
     "status": "completed"
    },
    "tags": []
   },
   "outputs": [],
   "source": [
    "bundle = hstrat.HereditaryStratigraphicColumnBundle({\n",
    "    kn.pack({\n",
    "        'differentia' : row['Differentia Bit Width'],\n",
    "        'policy' : row['Retention Policy'],\n",
    "        'resolution' : row['Retention Policy Resolution Parameter'],\n",
    "        'target_bits' : row['Target Retained Bits'],\n",
    "        'actual_bits' : row['Actual Retained Bits'],\n",
    "        'bits_error' : row['Retained Bits Error'],\n",
    "        'actual_strata' : row['Actual Retained Strata'],\n",
    "    }) \\\n",
    "        : hstrat.HereditaryStratigraphicColumn(\n",
    "            stratum_differentia_bit_width=row['Differentia Bit Width'],\n",
    "            stratum_retention_condemner=row['condemner'],\n",
    "    )\n",
    "    for __, row in conditions_df.iterrows()\n",
    "})\n"
   ]
  },
  {
   "cell_type": "markdown",
   "id": "af4e7b10",
   "metadata": {
    "papermill": {
     "duration": 0.020992,
     "end_time": "2022-12-12T06:07:31.920377",
     "exception": false,
     "start_time": "2022-12-12T06:07:31.899385",
     "status": "completed"
    },
    "tags": []
   },
   "source": [
    "# Simulate Inheritance of Ancestor Column Down Phylogenetic Tree\n"
   ]
  },
  {
   "cell_type": "code",
   "execution_count": 18,
   "id": "723154f4",
   "metadata": {
    "execution": {
     "iopub.execute_input": "2022-12-12T06:07:31.964367Z",
     "iopub.status.busy": "2022-12-12T06:07:31.964020Z",
     "iopub.status.idle": "2022-12-12T06:07:32.581781Z",
     "shell.execute_reply": "2022-12-12T06:07:32.581026Z"
    },
    "papermill": {
     "duration": 0.643018,
     "end_time": "2022-12-12T06:07:32.584594",
     "exception": false,
     "start_time": "2022-12-12T06:07:31.941576",
     "status": "completed"
    },
    "tags": []
   },
   "outputs": [],
   "source": [
    "root = ip.popsingleton(roots)\n",
    "root.hstrat_column = bundle\n",
    "\n",
    "for node in anytree.LevelOrderIter(ip.popsingleton(roots)):\n",
    "    parent = node.parent\n",
    "    if parent is not None:\n",
    "        node.hstrat_column = parent.hstrat_column.Clone()\n",
    "        for __ in range(node.origin_time - parent.origin_time): node.hstrat_column.DepositStratum()\n"
   ]
  },
  {
   "cell_type": "markdown",
   "id": "943dd526",
   "metadata": {
    "papermill": {
     "duration": 0.021358,
     "end_time": "2022-12-12T06:07:32.630441",
     "exception": false,
     "start_time": "2022-12-12T06:07:32.609083",
     "status": "completed"
    },
    "tags": []
   },
   "source": [
    "# Extract Pairwise MRCA Estimates for Extant Organisms\n"
   ]
  },
  {
   "cell_type": "code",
   "execution_count": 19,
   "id": "f6db522d",
   "metadata": {
    "execution": {
     "iopub.execute_input": "2022-12-12T06:07:32.675229Z",
     "iopub.status.busy": "2022-12-12T06:07:32.674868Z",
     "iopub.status.idle": "2022-12-12T06:07:32.721190Z",
     "shell.execute_reply": "2022-12-12T06:07:32.720487Z"
    },
    "papermill": {
     "duration": 0.07119,
     "end_time": "2022-12-12T06:07:32.723032",
     "exception": false,
     "start_time": "2022-12-12T06:07:32.651842",
     "status": "completed"
    },
    "tags": []
   },
   "outputs": [
    {
     "data": {
      "text/html": [
       "<div>\n",
       "<style scoped>\n",
       "    .dataframe tbody tr th:only-of-type {\n",
       "        vertical-align: middle;\n",
       "    }\n",
       "\n",
       "    .dataframe tbody tr th {\n",
       "        vertical-align: top;\n",
       "    }\n",
       "\n",
       "    .dataframe thead th {\n",
       "        text-align: right;\n",
       "    }\n",
       "</style>\n",
       "<table border=\"1\" class=\"dataframe\">\n",
       "  <thead>\n",
       "    <tr style=\"text-align: right;\">\n",
       "      <th></th>\n",
       "      <th>Mean Actual Retained Bits</th>\n",
       "      <th>actual_bits</th>\n",
       "      <th>actual_strata</th>\n",
       "      <th>bits_error</th>\n",
       "      <th>differentia</th>\n",
       "      <th>policy</th>\n",
       "      <th>resolution</th>\n",
       "      <th>target_bits</th>\n",
       "      <th>_</th>\n",
       "    </tr>\n",
       "  </thead>\n",
       "  <tbody>\n",
       "    <tr>\n",
       "      <th>0</th>\n",
       "      <td>62.833333</td>\n",
       "      <td>63</td>\n",
       "      <td>63</td>\n",
       "      <td>-1</td>\n",
       "      <td>1</td>\n",
       "      <td>TaperedDepthProportionalResolution</td>\n",
       "      <td>31</td>\n",
       "      <td>64</td>\n",
       "      <td>actual_bits=63+actual_strata=63+bits_error=-1+...</td>\n",
       "    </tr>\n",
       "    <tr>\n",
       "      <th>1</th>\n",
       "      <td>56.000000</td>\n",
       "      <td>56</td>\n",
       "      <td>7</td>\n",
       "      <td>-8</td>\n",
       "      <td>8</td>\n",
       "      <td>TaperedDepthProportionalResolution</td>\n",
       "      <td>3</td>\n",
       "      <td>64</td>\n",
       "      <td>actual_bits=56+actual_strata=7+bits_error=-8+d...</td>\n",
       "    </tr>\n",
       "    <tr>\n",
       "      <th>2</th>\n",
       "      <td>192.000000</td>\n",
       "      <td>192</td>\n",
       "      <td>3</td>\n",
       "      <td>128</td>\n",
       "      <td>64</td>\n",
       "      <td>TaperedDepthProportionalResolution</td>\n",
       "      <td>1</td>\n",
       "      <td>64</td>\n",
       "      <td>actual_bits=192+actual_strata=3+bits_error=128...</td>\n",
       "    </tr>\n",
       "    <tr>\n",
       "      <th>3</th>\n",
       "      <td>497.291667</td>\n",
       "      <td>496</td>\n",
       "      <td>496</td>\n",
       "      <td>-16</td>\n",
       "      <td>1</td>\n",
       "      <td>TaperedDepthProportionalResolution</td>\n",
       "      <td>496</td>\n",
       "      <td>512</td>\n",
       "      <td>actual_bits=496+actual_strata=496+bits_error=-...</td>\n",
       "    </tr>\n",
       "    <tr>\n",
       "      <th>4</th>\n",
       "      <td>502.666667</td>\n",
       "      <td>504</td>\n",
       "      <td>63</td>\n",
       "      <td>-8</td>\n",
       "      <td>8</td>\n",
       "      <td>TaperedDepthProportionalResolution</td>\n",
       "      <td>31</td>\n",
       "      <td>512</td>\n",
       "      <td>actual_bits=504+actual_strata=63+bits_error=-8...</td>\n",
       "    </tr>\n",
       "    <tr>\n",
       "      <th>5</th>\n",
       "      <td>448.000000</td>\n",
       "      <td>448</td>\n",
       "      <td>7</td>\n",
       "      <td>-64</td>\n",
       "      <td>64</td>\n",
       "      <td>TaperedDepthProportionalResolution</td>\n",
       "      <td>3</td>\n",
       "      <td>512</td>\n",
       "      <td>actual_bits=448+actual_strata=7+bits_error=-64...</td>\n",
       "    </tr>\n",
       "    <tr>\n",
       "      <th>6</th>\n",
       "      <td>497.291667</td>\n",
       "      <td>496</td>\n",
       "      <td>496</td>\n",
       "      <td>-3600</td>\n",
       "      <td>1</td>\n",
       "      <td>TaperedDepthProportionalResolution</td>\n",
       "      <td>496</td>\n",
       "      <td>4096</td>\n",
       "      <td>actual_bits=496+actual_strata=496+bits_error=-...</td>\n",
       "    </tr>\n",
       "    <tr>\n",
       "      <th>7</th>\n",
       "      <td>3978.333333</td>\n",
       "      <td>3968</td>\n",
       "      <td>496</td>\n",
       "      <td>-128</td>\n",
       "      <td>8</td>\n",
       "      <td>TaperedDepthProportionalResolution</td>\n",
       "      <td>496</td>\n",
       "      <td>4096</td>\n",
       "      <td>actual_bits=3968+actual_strata=496+bits_error=...</td>\n",
       "    </tr>\n",
       "    <tr>\n",
       "      <th>8</th>\n",
       "      <td>4021.333333</td>\n",
       "      <td>4032</td>\n",
       "      <td>63</td>\n",
       "      <td>-64</td>\n",
       "      <td>64</td>\n",
       "      <td>TaperedDepthProportionalResolution</td>\n",
       "      <td>31</td>\n",
       "      <td>4096</td>\n",
       "      <td>actual_bits=4032+actual_strata=63+bits_error=-...</td>\n",
       "    </tr>\n",
       "    <tr>\n",
       "      <th>9</th>\n",
       "      <td>57.958333</td>\n",
       "      <td>60</td>\n",
       "      <td>60</td>\n",
       "      <td>-4</td>\n",
       "      <td>1</td>\n",
       "      <td>RecencyProportionalResolution</td>\n",
       "      <td>8</td>\n",
       "      <td>64</td>\n",
       "      <td>actual_bits=60+actual_strata=60+bits_error=-4+...</td>\n",
       "    </tr>\n",
       "    <tr>\n",
       "      <th>10</th>\n",
       "      <td>55.666667</td>\n",
       "      <td>72</td>\n",
       "      <td>9</td>\n",
       "      <td>8</td>\n",
       "      <td>8</td>\n",
       "      <td>RecencyProportionalResolution</td>\n",
       "      <td>0</td>\n",
       "      <td>64</td>\n",
       "      <td>actual_bits=72+actual_strata=9+bits_error=8+di...</td>\n",
       "    </tr>\n",
       "    <tr>\n",
       "      <th>11</th>\n",
       "      <td>445.333333</td>\n",
       "      <td>576</td>\n",
       "      <td>9</td>\n",
       "      <td>512</td>\n",
       "      <td>64</td>\n",
       "      <td>RecencyProportionalResolution</td>\n",
       "      <td>0</td>\n",
       "      <td>64</td>\n",
       "      <td>actual_bits=576+actual_strata=9+bits_error=512...</td>\n",
       "    </tr>\n",
       "    <tr>\n",
       "      <th>12</th>\n",
       "      <td>497.291667</td>\n",
       "      <td>496</td>\n",
       "      <td>496</td>\n",
       "      <td>-16</td>\n",
       "      <td>1</td>\n",
       "      <td>RecencyProportionalResolution</td>\n",
       "      <td>496</td>\n",
       "      <td>512</td>\n",
       "      <td>actual_bits=496+actual_strata=496+bits_error=-...</td>\n",
       "    </tr>\n",
       "    <tr>\n",
       "      <th>13</th>\n",
       "      <td>463.666667</td>\n",
       "      <td>480</td>\n",
       "      <td>60</td>\n",
       "      <td>-32</td>\n",
       "      <td>8</td>\n",
       "      <td>RecencyProportionalResolution</td>\n",
       "      <td>8</td>\n",
       "      <td>512</td>\n",
       "      <td>actual_bits=480+actual_strata=60+bits_error=-3...</td>\n",
       "    </tr>\n",
       "    <tr>\n",
       "      <th>14</th>\n",
       "      <td>445.333333</td>\n",
       "      <td>576</td>\n",
       "      <td>9</td>\n",
       "      <td>64</td>\n",
       "      <td>64</td>\n",
       "      <td>RecencyProportionalResolution</td>\n",
       "      <td>0</td>\n",
       "      <td>512</td>\n",
       "      <td>actual_bits=576+actual_strata=9+bits_error=64+...</td>\n",
       "    </tr>\n",
       "    <tr>\n",
       "      <th>15</th>\n",
       "      <td>497.291667</td>\n",
       "      <td>496</td>\n",
       "      <td>496</td>\n",
       "      <td>-3600</td>\n",
       "      <td>1</td>\n",
       "      <td>RecencyProportionalResolution</td>\n",
       "      <td>496</td>\n",
       "      <td>4096</td>\n",
       "      <td>actual_bits=496+actual_strata=496+bits_error=-...</td>\n",
       "    </tr>\n",
       "    <tr>\n",
       "      <th>16</th>\n",
       "      <td>3978.333333</td>\n",
       "      <td>3968</td>\n",
       "      <td>496</td>\n",
       "      <td>-128</td>\n",
       "      <td>8</td>\n",
       "      <td>RecencyProportionalResolution</td>\n",
       "      <td>496</td>\n",
       "      <td>4096</td>\n",
       "      <td>actual_bits=3968+actual_strata=496+bits_error=...</td>\n",
       "    </tr>\n",
       "    <tr>\n",
       "      <th>17</th>\n",
       "      <td>3709.333333</td>\n",
       "      <td>3840</td>\n",
       "      <td>60</td>\n",
       "      <td>-256</td>\n",
       "      <td>64</td>\n",
       "      <td>RecencyProportionalResolution</td>\n",
       "      <td>8</td>\n",
       "      <td>4096</td>\n",
       "      <td>actual_bits=3840+actual_strata=60+bits_error=-...</td>\n",
       "    </tr>\n",
       "  </tbody>\n",
       "</table>\n",
       "</div>"
      ],
      "text/plain": [
       "    Mean Actual Retained Bits actual_bits actual_strata bits_error  \\\n",
       "0                   62.833333          63            63         -1   \n",
       "1                   56.000000          56             7         -8   \n",
       "2                  192.000000         192             3        128   \n",
       "3                  497.291667         496           496        -16   \n",
       "4                  502.666667         504            63         -8   \n",
       "5                  448.000000         448             7        -64   \n",
       "6                  497.291667         496           496      -3600   \n",
       "7                 3978.333333        3968           496       -128   \n",
       "8                 4021.333333        4032            63        -64   \n",
       "9                   57.958333          60            60         -4   \n",
       "10                  55.666667          72             9          8   \n",
       "11                 445.333333         576             9        512   \n",
       "12                 497.291667         496           496        -16   \n",
       "13                 463.666667         480            60        -32   \n",
       "14                 445.333333         576             9         64   \n",
       "15                 497.291667         496           496      -3600   \n",
       "16                3978.333333        3968           496       -128   \n",
       "17                3709.333333        3840            60       -256   \n",
       "\n",
       "   differentia                              policy resolution target_bits  \\\n",
       "0            1  TaperedDepthProportionalResolution         31          64   \n",
       "1            8  TaperedDepthProportionalResolution          3          64   \n",
       "2           64  TaperedDepthProportionalResolution          1          64   \n",
       "3            1  TaperedDepthProportionalResolution        496         512   \n",
       "4            8  TaperedDepthProportionalResolution         31         512   \n",
       "5           64  TaperedDepthProportionalResolution          3         512   \n",
       "6            1  TaperedDepthProportionalResolution        496        4096   \n",
       "7            8  TaperedDepthProportionalResolution        496        4096   \n",
       "8           64  TaperedDepthProportionalResolution         31        4096   \n",
       "9            1       RecencyProportionalResolution          8          64   \n",
       "10           8       RecencyProportionalResolution          0          64   \n",
       "11          64       RecencyProportionalResolution          0          64   \n",
       "12           1       RecencyProportionalResolution        496         512   \n",
       "13           8       RecencyProportionalResolution          8         512   \n",
       "14          64       RecencyProportionalResolution          0         512   \n",
       "15           1       RecencyProportionalResolution        496        4096   \n",
       "16           8       RecencyProportionalResolution        496        4096   \n",
       "17          64       RecencyProportionalResolution          8        4096   \n",
       "\n",
       "                                                    _  \n",
       "0   actual_bits=63+actual_strata=63+bits_error=-1+...  \n",
       "1   actual_bits=56+actual_strata=7+bits_error=-8+d...  \n",
       "2   actual_bits=192+actual_strata=3+bits_error=128...  \n",
       "3   actual_bits=496+actual_strata=496+bits_error=-...  \n",
       "4   actual_bits=504+actual_strata=63+bits_error=-8...  \n",
       "5   actual_bits=448+actual_strata=7+bits_error=-64...  \n",
       "6   actual_bits=496+actual_strata=496+bits_error=-...  \n",
       "7   actual_bits=3968+actual_strata=496+bits_error=...  \n",
       "8   actual_bits=4032+actual_strata=63+bits_error=-...  \n",
       "9   actual_bits=60+actual_strata=60+bits_error=-4+...  \n",
       "10  actual_bits=72+actual_strata=9+bits_error=8+di...  \n",
       "11  actual_bits=576+actual_strata=9+bits_error=512...  \n",
       "12  actual_bits=496+actual_strata=496+bits_error=-...  \n",
       "13  actual_bits=480+actual_strata=60+bits_error=-3...  \n",
       "14  actual_bits=576+actual_strata=9+bits_error=64+...  \n",
       "15  actual_bits=496+actual_strata=496+bits_error=-...  \n",
       "16  actual_bits=3968+actual_strata=496+bits_error=...  \n",
       "17  actual_bits=3840+actual_strata=60+bits_error=-...  "
      ]
     },
     "execution_count": 19,
     "metadata": {},
     "output_type": "execute_result"
    }
   ],
   "source": [
    "# impl -> mean retained bits\n",
    "mean_retained_bits = {\n",
    "    impl: np.mean([\n",
    "        node.hstrat_column.GetNumStrataRetained()[impl]\n",
    "        * int(kn.unpack(impl)['differentia'])\n",
    "        for node in root.leaves\n",
    "    ])\n",
    "    for impl in bundle\n",
    "}\n",
    "\n",
    "records = [\n",
    "    {\n",
    "        **{\n",
    "            'Mean Actual Retained Bits': v,\n",
    "        },\n",
    "        **kn.unpack(k)\n",
    "    }\n",
    "    for k, v in mean_retained_bits.items()\n",
    "]\n",
    "actual_retained_bits_df = pd.DataFrame.from_records(records)\n",
    "actual_retained_bits_df.to_csv(\n",
    "    f'a=actual_retained_bits+source={data_filename}',\n",
    ")\n",
    "\n",
    "actual_retained_bits_df\n"
   ]
  },
  {
   "cell_type": "code",
   "execution_count": 20,
   "id": "45dbf364",
   "metadata": {
    "execution": {
     "iopub.execute_input": "2022-12-12T06:07:32.768997Z",
     "iopub.status.busy": "2022-12-12T06:07:32.768643Z",
     "iopub.status.idle": "2022-12-12T06:07:37.427005Z",
     "shell.execute_reply": "2022-12-12T06:07:37.426383Z"
    },
    "papermill": {
     "duration": 4.683761,
     "end_time": "2022-12-12T06:07:37.428935",
     "exception": false,
     "start_time": "2022-12-12T06:07:32.745174",
     "status": "completed"
    },
    "tags": []
   },
   "outputs": [
    {
     "name": "stderr",
     "output_type": "stream",
     "text": [
      "\r",
      "  0%|          | 0/576 [00:00<?, ?it/s]"
     ]
    },
    {
     "name": "stderr",
     "output_type": "stream",
     "text": [
      "\r",
      "  4%|▍         | 24/576 [00:00<00:02, 237.76it/s]"
     ]
    },
    {
     "name": "stderr",
     "output_type": "stream",
     "text": [
      "\r",
      "  9%|▊         | 49/576 [00:00<00:02, 237.09it/s]"
     ]
    },
    {
     "name": "stderr",
     "output_type": "stream",
     "text": [
      "\r",
      " 11%|█         | 62/576 [00:00<00:03, 149.28it/s]"
     ]
    },
    {
     "name": "stderr",
     "output_type": "stream",
     "text": [
      "\r",
      " 14%|█▎        | 78/576 [00:00<00:03, 150.62it/s]"
     ]
    },
    {
     "name": "stderr",
     "output_type": "stream",
     "text": [
      "\r",
      " 16%|█▋        | 95/576 [00:00<00:03, 155.36it/s]"
     ]
    },
    {
     "name": "stderr",
     "output_type": "stream",
     "text": [
      "\r",
      " 19%|█▉        | 109/576 [00:00<00:03, 122.13it/s]"
     ]
    },
    {
     "name": "stderr",
     "output_type": "stream",
     "text": [
      "\r",
      " 22%|██▏       | 127/576 [00:00<00:03, 130.40it/s]"
     ]
    },
    {
     "name": "stderr",
     "output_type": "stream",
     "text": [
      "\r",
      " 25%|██▌       | 146/576 [00:00<00:02, 143.87it/s]"
     ]
    },
    {
     "name": "stderr",
     "output_type": "stream",
     "text": [
      "\r",
      " 28%|██▊       | 161/576 [00:01<00:03, 123.58it/s]"
     ]
    },
    {
     "name": "stderr",
     "output_type": "stream",
     "text": [
      "\r",
      " 30%|███       | 175/576 [00:01<00:03, 117.60it/s]"
     ]
    },
    {
     "name": "stderr",
     "output_type": "stream",
     "text": [
      "\r",
      " 34%|███▍      | 196/576 [00:01<00:02, 131.48it/s]"
     ]
    },
    {
     "name": "stderr",
     "output_type": "stream",
     "text": [
      "\r",
      " 37%|███▋      | 211/576 [00:01<00:02, 129.81it/s]"
     ]
    },
    {
     "name": "stderr",
     "output_type": "stream",
     "text": [
      "\r",
      " 39%|███▉      | 225/576 [00:01<00:03, 113.20it/s]"
     ]
    },
    {
     "name": "stderr",
     "output_type": "stream",
     "text": [
      "\r",
      " 44%|████▍     | 254/576 [00:01<00:02, 137.60it/s]"
     ]
    },
    {
     "name": "stderr",
     "output_type": "stream",
     "text": [
      "\r",
      " 47%|████▋     | 271/576 [00:01<00:02, 129.91it/s]"
     ]
    },
    {
     "name": "stderr",
     "output_type": "stream",
     "text": [
      "\r",
      " 50%|████▉     | 287/576 [00:02<00:02, 109.97it/s]"
     ]
    },
    {
     "name": "stderr",
     "output_type": "stream",
     "text": [
      "\r",
      " 53%|█████▎    | 303/576 [00:02<00:02, 119.36it/s]"
     ]
    },
    {
     "name": "stderr",
     "output_type": "stream",
     "text": [
      "\r",
      " 55%|█████▌    | 317/576 [00:02<00:02, 107.92it/s]"
     ]
    },
    {
     "name": "stderr",
     "output_type": "stream",
     "text": [
      "\r",
      " 57%|█████▋    | 330/576 [00:02<00:02, 96.25it/s] "
     ]
    },
    {
     "name": "stderr",
     "output_type": "stream",
     "text": [
      "\r",
      " 60%|██████    | 347/576 [00:02<00:02, 108.35it/s]"
     ]
    },
    {
     "name": "stderr",
     "output_type": "stream",
     "text": [
      "\r",
      " 62%|██████▎   | 360/576 [00:02<00:02, 86.79it/s] "
     ]
    },
    {
     "name": "stderr",
     "output_type": "stream",
     "text": [
      "\r",
      " 65%|██████▍   | 374/576 [00:02<00:02, 97.80it/s]"
     ]
    },
    {
     "name": "stderr",
     "output_type": "stream",
     "text": [
      "\r",
      " 67%|██████▋   | 386/576 [00:03<00:02, 91.45it/s]"
     ]
    },
    {
     "name": "stderr",
     "output_type": "stream",
     "text": [
      "\r",
      " 69%|██████▉   | 399/576 [00:03<00:01, 95.32it/s]"
     ]
    },
    {
     "name": "stderr",
     "output_type": "stream",
     "text": [
      "\r",
      " 71%|███████   | 410/576 [00:03<00:01, 92.93it/s]"
     ]
    },
    {
     "name": "stderr",
     "output_type": "stream",
     "text": [
      "\r",
      " 73%|███████▎  | 423/576 [00:03<00:01, 96.38it/s]"
     ]
    },
    {
     "name": "stderr",
     "output_type": "stream",
     "text": [
      "\r",
      " 75%|███████▌  | 434/576 [00:03<00:01, 92.21it/s]"
     ]
    },
    {
     "name": "stderr",
     "output_type": "stream",
     "text": [
      "\r",
      " 78%|███████▊  | 447/576 [00:03<00:01, 96.24it/s]"
     ]
    },
    {
     "name": "stderr",
     "output_type": "stream",
     "text": [
      "\r",
      " 79%|███████▉  | 457/576 [00:03<00:01, 89.08it/s]"
     ]
    },
    {
     "name": "stderr",
     "output_type": "stream",
     "text": [
      "\r",
      " 82%|████████▏ | 470/576 [00:03<00:01, 97.98it/s]"
     ]
    },
    {
     "name": "stderr",
     "output_type": "stream",
     "text": [
      "\r",
      " 84%|████████▎ | 481/576 [00:04<00:01, 88.09it/s]"
     ]
    },
    {
     "name": "stderr",
     "output_type": "stream",
     "text": [
      "\r",
      " 86%|████████▌ | 495/576 [00:04<00:00, 97.04it/s]"
     ]
    },
    {
     "name": "stderr",
     "output_type": "stream",
     "text": [
      "\r",
      " 88%|████████▊ | 506/576 [00:04<00:00, 96.94it/s]"
     ]
    },
    {
     "name": "stderr",
     "output_type": "stream",
     "text": [
      "\r",
      " 94%|█████████▎| 539/576 [00:04<00:00, 122.96it/s]"
     ]
    },
    {
     "name": "stderr",
     "output_type": "stream",
     "text": [
      "\r",
      " 99%|█████████▉| 573/576 [00:04<00:00, 151.76it/s]"
     ]
    },
    {
     "name": "stderr",
     "output_type": "stream",
     "text": [
      "\r",
      "100%|██████████| 576/576 [00:04<00:00, 125.02it/s]"
     ]
    },
    {
     "name": "stderr",
     "output_type": "stream",
     "text": [
      "\n"
     ]
    }
   ],
   "source": [
    "res = []\n",
    "for extant1, extant2 in tqdm([*it.product(root.leaves, root.leaves)]):\n",
    "    if extant1 != extant2:\n",
    "        bounds = extant1.hstrat_column.CalcRankOfMrcaBoundsWith(extant2.hstrat_column)\n",
    "        for impl in extant1.hstrat_column:\n",
    "            res.append({\n",
    "                'Column Configuration' \\\n",
    "                    : impl,\n",
    "                'Differentia Bit Width' \\\n",
    "                    : kn.unpack(impl)['differentia'],\n",
    "                'Stratum Retention Policy' \\\n",
    "                    : kn.unpack(impl)['policy'],\n",
    "                'Stratum Retention Policy Resolution Parameter' \\\n",
    "                    : kn.unpack(impl)['resolution'],\n",
    "                'Stratigraphic Column Expected Retained Bits' \\\n",
    "                    : kn.unpack(impl)['actual_bits'],\n",
    "                'Stratigraphic Column Mean Actual Retained Bits' \\\n",
    "                    : mean_retained_bits[impl],\n",
    "                'Stratigraphic Column Target Retained Bits' \\\n",
    "                    : kn.unpack(impl)['target_bits'],\n",
    "                'Stratigraphic Column Expected Retained Bits Error' \\\n",
    "                    : kn.unpack(impl)['bits_error'],\n",
    "                'Stratigraphic Column Actual Num Retained Strata' \\\n",
    "                    : kn.unpack(impl)['actual_strata'],\n",
    "                'Taxon Compared From' \\\n",
    "                    : extant1.id,\n",
    "                'Taxon Compared To' \\\n",
    "                    : extant2.id,\n",
    "                'Generation of Taxon Compared From' \\\n",
    "                    : extant1.hstrat_column.GetNumStrataDeposited(),\n",
    "                'Generation of Taxon Compared To' \\\n",
    "                    : extant2.hstrat_column.GetNumStrataDeposited(),\n",
    "                'Generation Of MRCA Lower Bound (inclusive)' \\\n",
    "                    : opyt.apply_if(\n",
    "                        bounds[impl],\n",
    "                        lambda x: x[0],\n",
    "                    ),\n",
    "                'Generation Of MRCA Upper Bound (exclusive)' \\\n",
    "                    : opyt.apply_if(\n",
    "                        bounds[impl],\n",
    "                        lambda x: x[1],\n",
    "                    ),\n",
    "                'MRCA Bound Confidence' \\\n",
    "                    : extant1.hstrat_column[impl].CalcRankOfMrcaBoundsWithProvidedConfidenceLevel(),\n",
    "                'Rank of Earliest Detectable Mrca With' \\\n",
    "                    : extant1.hstrat_column[impl].CalcRankOfEarliestDetectableMrcaWith(extant2.hstrat_column[impl]),\n",
    "            })\n",
    "\n",
    "res_df = pd.DataFrame.from_records(res)\n"
   ]
  },
  {
   "cell_type": "code",
   "execution_count": 21,
   "id": "e0662b5a",
   "metadata": {
    "execution": {
     "iopub.execute_input": "2022-12-12T06:07:37.495594Z",
     "iopub.status.busy": "2022-12-12T06:07:37.495363Z",
     "iopub.status.idle": "2022-12-12T06:07:37.520148Z",
     "shell.execute_reply": "2022-12-12T06:07:37.519609Z"
    },
    "papermill": {
     "duration": 0.0608,
     "end_time": "2022-12-12T06:07:37.521709",
     "exception": false,
     "start_time": "2022-12-12T06:07:37.460909",
     "status": "completed"
    },
    "tags": []
   },
   "outputs": [
    {
     "data": {
      "text/html": [
       "<div>\n",
       "<style scoped>\n",
       "    .dataframe tbody tr th:only-of-type {\n",
       "        vertical-align: middle;\n",
       "    }\n",
       "\n",
       "    .dataframe tbody tr th {\n",
       "        vertical-align: top;\n",
       "    }\n",
       "\n",
       "    .dataframe thead th {\n",
       "        text-align: right;\n",
       "    }\n",
       "</style>\n",
       "<table border=\"1\" class=\"dataframe\">\n",
       "  <thead>\n",
       "    <tr style=\"text-align: right;\">\n",
       "      <th></th>\n",
       "      <th>Column Configuration</th>\n",
       "      <th>Differentia Bit Width</th>\n",
       "      <th>Stratum Retention Policy</th>\n",
       "      <th>Stratum Retention Policy Resolution Parameter</th>\n",
       "      <th>Stratigraphic Column Expected Retained Bits</th>\n",
       "      <th>Stratigraphic Column Mean Actual Retained Bits</th>\n",
       "      <th>Stratigraphic Column Target Retained Bits</th>\n",
       "      <th>Stratigraphic Column Expected Retained Bits Error</th>\n",
       "      <th>Stratigraphic Column Actual Num Retained Strata</th>\n",
       "      <th>Taxon Compared From</th>\n",
       "      <th>Taxon Compared To</th>\n",
       "      <th>Generation of Taxon Compared From</th>\n",
       "      <th>Generation of Taxon Compared To</th>\n",
       "      <th>Generation Of MRCA Lower Bound (inclusive)</th>\n",
       "      <th>Generation Of MRCA Upper Bound (exclusive)</th>\n",
       "      <th>MRCA Bound Confidence</th>\n",
       "      <th>Rank of Earliest Detectable Mrca With</th>\n",
       "    </tr>\n",
       "  </thead>\n",
       "  <tbody>\n",
       "    <tr>\n",
       "      <th>0</th>\n",
       "      <td>actual_bits=63+actual_strata=63+bits_error=-1+...</td>\n",
       "      <td>1</td>\n",
       "      <td>TaperedDepthProportionalResolution</td>\n",
       "      <td>31</td>\n",
       "      <td>63</td>\n",
       "      <td>62.833333</td>\n",
       "      <td>64</td>\n",
       "      <td>-1</td>\n",
       "      <td>63</td>\n",
       "      <td>4737</td>\n",
       "      <td>4733</td>\n",
       "      <td>501</td>\n",
       "      <td>501</td>\n",
       "      <td>440.0</td>\n",
       "      <td>480.0</td>\n",
       "      <td>0.968750</td>\n",
       "      <td>40</td>\n",
       "    </tr>\n",
       "    <tr>\n",
       "      <th>1</th>\n",
       "      <td>actual_bits=56+actual_strata=7+bits_error=-8+d...</td>\n",
       "      <td>8</td>\n",
       "      <td>TaperedDepthProportionalResolution</td>\n",
       "      <td>3</td>\n",
       "      <td>56</td>\n",
       "      <td>56.000000</td>\n",
       "      <td>64</td>\n",
       "      <td>-8</td>\n",
       "      <td>7</td>\n",
       "      <td>4737</td>\n",
       "      <td>4733</td>\n",
       "      <td>501</td>\n",
       "      <td>501</td>\n",
       "      <td>448.0</td>\n",
       "      <td>500.0</td>\n",
       "      <td>0.996094</td>\n",
       "      <td>0</td>\n",
       "    </tr>\n",
       "    <tr>\n",
       "      <th>2</th>\n",
       "      <td>actual_bits=192+actual_strata=3+bits_error=128...</td>\n",
       "      <td>64</td>\n",
       "      <td>TaperedDepthProportionalResolution</td>\n",
       "      <td>1</td>\n",
       "      <td>192</td>\n",
       "      <td>192.000000</td>\n",
       "      <td>64</td>\n",
       "      <td>128</td>\n",
       "      <td>3</td>\n",
       "      <td>4737</td>\n",
       "      <td>4733</td>\n",
       "      <td>501</td>\n",
       "      <td>501</td>\n",
       "      <td>256.0</td>\n",
       "      <td>500.0</td>\n",
       "      <td>1.000000</td>\n",
       "      <td>0</td>\n",
       "    </tr>\n",
       "    <tr>\n",
       "      <th>3</th>\n",
       "      <td>actual_bits=496+actual_strata=496+bits_error=-...</td>\n",
       "      <td>1</td>\n",
       "      <td>TaperedDepthProportionalResolution</td>\n",
       "      <td>496</td>\n",
       "      <td>496</td>\n",
       "      <td>497.291667</td>\n",
       "      <td>512</td>\n",
       "      <td>-16</td>\n",
       "      <td>496</td>\n",
       "      <td>4737</td>\n",
       "      <td>4733</td>\n",
       "      <td>501</td>\n",
       "      <td>501</td>\n",
       "      <td>474.0</td>\n",
       "      <td>479.0</td>\n",
       "      <td>0.968750</td>\n",
       "      <td>4</td>\n",
       "    </tr>\n",
       "    <tr>\n",
       "      <th>4</th>\n",
       "      <td>actual_bits=504+actual_strata=63+bits_error=-8...</td>\n",
       "      <td>8</td>\n",
       "      <td>TaperedDepthProportionalResolution</td>\n",
       "      <td>31</td>\n",
       "      <td>504</td>\n",
       "      <td>502.666667</td>\n",
       "      <td>512</td>\n",
       "      <td>-8</td>\n",
       "      <td>63</td>\n",
       "      <td>4737</td>\n",
       "      <td>4733</td>\n",
       "      <td>501</td>\n",
       "      <td>501</td>\n",
       "      <td>472.0</td>\n",
       "      <td>480.0</td>\n",
       "      <td>0.996094</td>\n",
       "      <td>0</td>\n",
       "    </tr>\n",
       "    <tr>\n",
       "      <th>...</th>\n",
       "      <td>...</td>\n",
       "      <td>...</td>\n",
       "      <td>...</td>\n",
       "      <td>...</td>\n",
       "      <td>...</td>\n",
       "      <td>...</td>\n",
       "      <td>...</td>\n",
       "      <td>...</td>\n",
       "      <td>...</td>\n",
       "      <td>...</td>\n",
       "      <td>...</td>\n",
       "      <td>...</td>\n",
       "      <td>...</td>\n",
       "      <td>...</td>\n",
       "      <td>...</td>\n",
       "      <td>...</td>\n",
       "      <td>...</td>\n",
       "    </tr>\n",
       "    <tr>\n",
       "      <th>9931</th>\n",
       "      <td>actual_bits=480+actual_strata=60+bits_error=-3...</td>\n",
       "      <td>8</td>\n",
       "      <td>RecencyProportionalResolution</td>\n",
       "      <td>8</td>\n",
       "      <td>480</td>\n",
       "      <td>463.666667</td>\n",
       "      <td>512</td>\n",
       "      <td>-32</td>\n",
       "      <td>60</td>\n",
       "      <td>4595</td>\n",
       "      <td>4738</td>\n",
       "      <td>486</td>\n",
       "      <td>501</td>\n",
       "      <td>480.0</td>\n",
       "      <td>482.0</td>\n",
       "      <td>0.996094</td>\n",
       "      <td>0</td>\n",
       "    </tr>\n",
       "    <tr>\n",
       "      <th>9932</th>\n",
       "      <td>actual_bits=576+actual_strata=9+bits_error=64+...</td>\n",
       "      <td>64</td>\n",
       "      <td>RecencyProportionalResolution</td>\n",
       "      <td>0</td>\n",
       "      <td>576</td>\n",
       "      <td>445.333333</td>\n",
       "      <td>512</td>\n",
       "      <td>64</td>\n",
       "      <td>9</td>\n",
       "      <td>4595</td>\n",
       "      <td>4738</td>\n",
       "      <td>486</td>\n",
       "      <td>501</td>\n",
       "      <td>480.0</td>\n",
       "      <td>486.0</td>\n",
       "      <td>1.000000</td>\n",
       "      <td>0</td>\n",
       "    </tr>\n",
       "    <tr>\n",
       "      <th>9933</th>\n",
       "      <td>actual_bits=496+actual_strata=496+bits_error=-...</td>\n",
       "      <td>1</td>\n",
       "      <td>RecencyProportionalResolution</td>\n",
       "      <td>496</td>\n",
       "      <td>496</td>\n",
       "      <td>497.291667</td>\n",
       "      <td>4096</td>\n",
       "      <td>-3600</td>\n",
       "      <td>496</td>\n",
       "      <td>4595</td>\n",
       "      <td>4738</td>\n",
       "      <td>486</td>\n",
       "      <td>501</td>\n",
       "      <td>476.0</td>\n",
       "      <td>481.0</td>\n",
       "      <td>0.968750</td>\n",
       "      <td>4</td>\n",
       "    </tr>\n",
       "    <tr>\n",
       "      <th>9934</th>\n",
       "      <td>actual_bits=3968+actual_strata=496+bits_error=...</td>\n",
       "      <td>8</td>\n",
       "      <td>RecencyProportionalResolution</td>\n",
       "      <td>496</td>\n",
       "      <td>3968</td>\n",
       "      <td>3978.333333</td>\n",
       "      <td>4096</td>\n",
       "      <td>-128</td>\n",
       "      <td>496</td>\n",
       "      <td>4595</td>\n",
       "      <td>4738</td>\n",
       "      <td>486</td>\n",
       "      <td>501</td>\n",
       "      <td>480.0</td>\n",
       "      <td>481.0</td>\n",
       "      <td>0.996094</td>\n",
       "      <td>0</td>\n",
       "    </tr>\n",
       "    <tr>\n",
       "      <th>9935</th>\n",
       "      <td>actual_bits=3840+actual_strata=60+bits_error=-...</td>\n",
       "      <td>64</td>\n",
       "      <td>RecencyProportionalResolution</td>\n",
       "      <td>8</td>\n",
       "      <td>3840</td>\n",
       "      <td>3709.333333</td>\n",
       "      <td>4096</td>\n",
       "      <td>-256</td>\n",
       "      <td>60</td>\n",
       "      <td>4595</td>\n",
       "      <td>4738</td>\n",
       "      <td>486</td>\n",
       "      <td>501</td>\n",
       "      <td>480.0</td>\n",
       "      <td>482.0</td>\n",
       "      <td>1.000000</td>\n",
       "      <td>0</td>\n",
       "    </tr>\n",
       "  </tbody>\n",
       "</table>\n",
       "<p>9936 rows × 17 columns</p>\n",
       "</div>"
      ],
      "text/plain": [
       "                                   Column Configuration Differentia Bit Width  \\\n",
       "0     actual_bits=63+actual_strata=63+bits_error=-1+...                     1   \n",
       "1     actual_bits=56+actual_strata=7+bits_error=-8+d...                     8   \n",
       "2     actual_bits=192+actual_strata=3+bits_error=128...                    64   \n",
       "3     actual_bits=496+actual_strata=496+bits_error=-...                     1   \n",
       "4     actual_bits=504+actual_strata=63+bits_error=-8...                     8   \n",
       "...                                                 ...                   ...   \n",
       "9931  actual_bits=480+actual_strata=60+bits_error=-3...                     8   \n",
       "9932  actual_bits=576+actual_strata=9+bits_error=64+...                    64   \n",
       "9933  actual_bits=496+actual_strata=496+bits_error=-...                     1   \n",
       "9934  actual_bits=3968+actual_strata=496+bits_error=...                     8   \n",
       "9935  actual_bits=3840+actual_strata=60+bits_error=-...                    64   \n",
       "\n",
       "                Stratum Retention Policy  \\\n",
       "0     TaperedDepthProportionalResolution   \n",
       "1     TaperedDepthProportionalResolution   \n",
       "2     TaperedDepthProportionalResolution   \n",
       "3     TaperedDepthProportionalResolution   \n",
       "4     TaperedDepthProportionalResolution   \n",
       "...                                  ...   \n",
       "9931       RecencyProportionalResolution   \n",
       "9932       RecencyProportionalResolution   \n",
       "9933       RecencyProportionalResolution   \n",
       "9934       RecencyProportionalResolution   \n",
       "9935       RecencyProportionalResolution   \n",
       "\n",
       "     Stratum Retention Policy Resolution Parameter  \\\n",
       "0                                               31   \n",
       "1                                                3   \n",
       "2                                                1   \n",
       "3                                              496   \n",
       "4                                               31   \n",
       "...                                            ...   \n",
       "9931                                             8   \n",
       "9932                                             0   \n",
       "9933                                           496   \n",
       "9934                                           496   \n",
       "9935                                             8   \n",
       "\n",
       "     Stratigraphic Column Expected Retained Bits  \\\n",
       "0                                             63   \n",
       "1                                             56   \n",
       "2                                            192   \n",
       "3                                            496   \n",
       "4                                            504   \n",
       "...                                          ...   \n",
       "9931                                         480   \n",
       "9932                                         576   \n",
       "9933                                         496   \n",
       "9934                                        3968   \n",
       "9935                                        3840   \n",
       "\n",
       "      Stratigraphic Column Mean Actual Retained Bits  \\\n",
       "0                                          62.833333   \n",
       "1                                          56.000000   \n",
       "2                                         192.000000   \n",
       "3                                         497.291667   \n",
       "4                                         502.666667   \n",
       "...                                              ...   \n",
       "9931                                      463.666667   \n",
       "9932                                      445.333333   \n",
       "9933                                      497.291667   \n",
       "9934                                     3978.333333   \n",
       "9935                                     3709.333333   \n",
       "\n",
       "     Stratigraphic Column Target Retained Bits  \\\n",
       "0                                           64   \n",
       "1                                           64   \n",
       "2                                           64   \n",
       "3                                          512   \n",
       "4                                          512   \n",
       "...                                        ...   \n",
       "9931                                       512   \n",
       "9932                                       512   \n",
       "9933                                      4096   \n",
       "9934                                      4096   \n",
       "9935                                      4096   \n",
       "\n",
       "     Stratigraphic Column Expected Retained Bits Error  \\\n",
       "0                                                   -1   \n",
       "1                                                   -8   \n",
       "2                                                  128   \n",
       "3                                                  -16   \n",
       "4                                                   -8   \n",
       "...                                                ...   \n",
       "9931                                               -32   \n",
       "9932                                                64   \n",
       "9933                                             -3600   \n",
       "9934                                              -128   \n",
       "9935                                              -256   \n",
       "\n",
       "     Stratigraphic Column Actual Num Retained Strata  Taxon Compared From  \\\n",
       "0                                                 63                 4737   \n",
       "1                                                  7                 4737   \n",
       "2                                                  3                 4737   \n",
       "3                                                496                 4737   \n",
       "4                                                 63                 4737   \n",
       "...                                              ...                  ...   \n",
       "9931                                              60                 4595   \n",
       "9932                                               9                 4595   \n",
       "9933                                             496                 4595   \n",
       "9934                                             496                 4595   \n",
       "9935                                              60                 4595   \n",
       "\n",
       "      Taxon Compared To  Generation of Taxon Compared From  \\\n",
       "0                  4733                                501   \n",
       "1                  4733                                501   \n",
       "2                  4733                                501   \n",
       "3                  4733                                501   \n",
       "4                  4733                                501   \n",
       "...                 ...                                ...   \n",
       "9931               4738                                486   \n",
       "9932               4738                                486   \n",
       "9933               4738                                486   \n",
       "9934               4738                                486   \n",
       "9935               4738                                486   \n",
       "\n",
       "      Generation of Taxon Compared To  \\\n",
       "0                                 501   \n",
       "1                                 501   \n",
       "2                                 501   \n",
       "3                                 501   \n",
       "4                                 501   \n",
       "...                               ...   \n",
       "9931                              501   \n",
       "9932                              501   \n",
       "9933                              501   \n",
       "9934                              501   \n",
       "9935                              501   \n",
       "\n",
       "      Generation Of MRCA Lower Bound (inclusive)  \\\n",
       "0                                          440.0   \n",
       "1                                          448.0   \n",
       "2                                          256.0   \n",
       "3                                          474.0   \n",
       "4                                          472.0   \n",
       "...                                          ...   \n",
       "9931                                       480.0   \n",
       "9932                                       480.0   \n",
       "9933                                       476.0   \n",
       "9934                                       480.0   \n",
       "9935                                       480.0   \n",
       "\n",
       "      Generation Of MRCA Upper Bound (exclusive)  MRCA Bound Confidence  \\\n",
       "0                                          480.0               0.968750   \n",
       "1                                          500.0               0.996094   \n",
       "2                                          500.0               1.000000   \n",
       "3                                          479.0               0.968750   \n",
       "4                                          480.0               0.996094   \n",
       "...                                          ...                    ...   \n",
       "9931                                       482.0               0.996094   \n",
       "9932                                       486.0               1.000000   \n",
       "9933                                       481.0               0.968750   \n",
       "9934                                       481.0               0.996094   \n",
       "9935                                       482.0               1.000000   \n",
       "\n",
       "      Rank of Earliest Detectable Mrca With  \n",
       "0                                        40  \n",
       "1                                         0  \n",
       "2                                         0  \n",
       "3                                         4  \n",
       "4                                         0  \n",
       "...                                     ...  \n",
       "9931                                      0  \n",
       "9932                                      0  \n",
       "9933                                      4  \n",
       "9934                                      0  \n",
       "9935                                      0  \n",
       "\n",
       "[9936 rows x 17 columns]"
      ]
     },
     "execution_count": 21,
     "metadata": {},
     "output_type": "execute_result"
    }
   ],
   "source": [
    "res_df\n"
   ]
  },
  {
   "cell_type": "code",
   "execution_count": 22,
   "id": "1441d03e",
   "metadata": {
    "execution": {
     "iopub.execute_input": "2022-12-12T06:07:37.590974Z",
     "iopub.status.busy": "2022-12-12T06:07:37.590686Z",
     "iopub.status.idle": "2022-12-12T06:07:37.791389Z",
     "shell.execute_reply": "2022-12-12T06:07:37.789665Z"
    },
    "papermill": {
     "duration": 0.237562,
     "end_time": "2022-12-12T06:07:37.793855",
     "exception": false,
     "start_time": "2022-12-12T06:07:37.556293",
     "status": "completed"
    },
    "tags": []
   },
   "outputs": [
    {
     "name": "stdout",
     "output_type": "stream",
     "text": [
      "digest: 3d024b557a67b8e2a5572033518c8564b219fdbde3c226f09b29a38aebe1b15f\n",
      "manifest:\n",
      "  Column Configuration: '                              18#         ex., actual_bits=63+actual_strata=63+bits_error=-1+differentia=1+policy=TaperedDepthProportionalResolution+resolution=31+target_bits=64'\n",
      "  Differentia Bit Width: '                             3#          ex., 1'\n",
      "  Generation Of MRCA Lower Bound (inclusive): '        76#,1668na  ex., 440.0'\n",
      "  Generation Of MRCA Upper Bound (exclusive): '        70#,1668na  ex., 480.0'\n",
      "  Generation of Taxon Compared From: '                 10#         ex., 501'\n",
      "  Generation of Taxon Compared To: '                   10#         ex., 501'\n",
      "  MRCA Bound Confidence: '                             3#          ex., 0.96875'\n",
      "  Rank of Earliest Detectable Mrca With: '             5#          ex., 40'\n",
      "  Stratigraphic Column Actual Num Retained Strata: '   6#          ex., 63'\n",
      "  Stratigraphic Column Expected Retained Bits: '       13#         ex., 63'\n",
      "  Stratigraphic Column Expected Retained Bits Error: ' 13#         ex., -1'\n",
      "  Stratigraphic Column Mean Actual Retained Bits: '    13#         ex., 62.833333333333336'\n",
      "  Stratigraphic Column Target Retained Bits: '         3#          ex., 64'\n",
      "  Stratum Retention Policy: '                          2#          ex., TaperedDepthProportionalResolution'\n",
      "  Stratum Retention Policy Resolution Parameter: '     6#          ex., 31'\n",
      "  Taxon Compared From: '                               24#         ex., 4737'\n",
      "  Taxon Compared To: '                                 24#         ex., 4733'\n",
      "num cols: 17\n",
      "num cols all na: 0\n",
      "num cols any na: 2\n",
      "num na: 3336\n",
      "num rows: 9936\n",
      "num rows all na: 0\n",
      "num rows any na: 1668\n",
      "size: 6M\n",
      "\n"
     ]
    }
   ],
   "source": [
    "nbm.print_dataframe_synopsis(res_df)\n"
   ]
  },
  {
   "cell_type": "markdown",
   "id": "ad943e1c",
   "metadata": {
    "papermill": {
     "duration": 0.03143,
     "end_time": "2022-12-12T06:07:37.857757",
     "exception": false,
     "start_time": "2022-12-12T06:07:37.826327",
     "status": "completed"
    },
    "tags": []
   },
   "source": [
    "# Save Pairwise MRCA Estimates to File\n"
   ]
  },
  {
   "cell_type": "code",
   "execution_count": 23,
   "id": "4a2b6c40",
   "metadata": {
    "execution": {
     "iopub.execute_input": "2022-12-12T06:07:37.925138Z",
     "iopub.status.busy": "2022-12-12T06:07:37.924751Z",
     "iopub.status.idle": "2022-12-12T06:07:38.224119Z",
     "shell.execute_reply": "2022-12-12T06:07:38.223405Z"
    },
    "papermill": {
     "duration": 0.33693,
     "end_time": "2022-12-12T06:07:38.226346",
     "exception": false,
     "start_time": "2022-12-12T06:07:37.889416",
     "status": "completed"
    },
    "tags": []
   },
   "outputs": [],
   "source": [
    "res_df.to_csv(\n",
    "    f'a=pairwise_mrca_estimates+source={data_filename}.gz',\n",
    "    compression='gzip',\n",
    ")\n",
    "res_df.to_csv(\n",
    "    f'a=pairwise_mrca_estimates+source={data_filename}',\n",
    ")\n"
   ]
  }
 ],
 "metadata": {
  "kernelspec": {
   "display_name": "Python 3",
   "language": "python",
   "name": "python3"
  },
  "papermill": {
   "default_parameters": {},
   "duration": null,
   "end_time": null,
   "environment_variables": {},
   "exception": null,
   "input_path": "/opt/hereditary-stratigraph-concept/binder/phylogenetic-inference/phylogeny_simulation_mill.ipynb",
   "output_path": "executing.endomill.ipynb",
   "parameters": {
    "data_filename": "nk_lexicaseselection_seed110_pop165_mut.01_snapshot_500.csv",
    "data_url": "https://osf.io/8ycq7/"
   },
   "start_time": "2022-12-12T06:07:27.340362",
   "version": "2.3.4"
  }
 },
 "nbformat": 4,
 "nbformat_minor": 5
}