{
 "cells": [
  {
   "cell_type": "code",
   "execution_count": 1,
   "id": "80a4c9d3",
   "metadata": {
    "execution": {
     "iopub.execute_input": "2022-03-06T07:12:02.820102Z",
     "iopub.status.busy": "2022-03-06T07:12:02.819843Z",
     "iopub.status.idle": "2022-03-06T07:12:02.826036Z",
     "shell.execute_reply": "2022-03-06T07:12:02.825511Z"
    },
    "papermill": {
     "duration": 0.023955,
     "end_time": "2022-03-06T07:12:02.827331",
     "exception": false,
     "start_time": "2022-03-06T07:12:02.803376",
     "status": "completed"
    },
    "tags": [
     "injected-parameters"
    ]
   },
   "outputs": [],
   "source": [
    "# Parameters\n",
    "data_url = \"https://osf.io/8ycq7/\"\n"
   ]
  },
  {
   "cell_type": "code",
   "execution_count": 2,
   "id": "bd697e03",
   "metadata": {
    "execution": {
     "iopub.execute_input": "2022-03-06T07:12:02.852546Z",
     "iopub.status.busy": "2022-03-06T07:12:02.852355Z",
     "iopub.status.idle": "2022-03-06T07:12:03.570126Z",
     "shell.execute_reply": "2022-03-06T07:12:03.569514Z"
    },
    "papermill": {
     "duration": 0.732441,
     "end_time": "2022-03-06T07:12:03.571923",
     "exception": false,
     "start_time": "2022-03-06T07:12:02.839482",
     "status": "completed"
    },
    "tags": []
   },
   "outputs": [],
   "source": [
    "import endomill\n",
    "from nbmetalog import nbmetalog as nbm\n"
   ]
  },
  {
   "cell_type": "code",
   "execution_count": 3,
   "id": "b239a641",
   "metadata": {
    "execution": {
     "iopub.execute_input": "2022-03-06T07:12:03.597894Z",
     "iopub.status.busy": "2022-03-06T07:12:03.597668Z",
     "iopub.status.idle": "2022-03-06T07:12:03.899889Z",
     "shell.execute_reply": "2022-03-06T07:12:03.899314Z"
    },
    "papermill": {
     "duration": 0.317015,
     "end_time": "2022-03-06T07:12:03.901536",
     "exception": false,
     "start_time": "2022-03-06T07:12:03.584521",
     "status": "completed"
    },
    "tags": []
   },
   "outputs": [
    {
     "name": "stdout",
     "output_type": "stream",
     "text": [
      "context: ci\n",
      "hostname: 87b688f1e3b8\n",
      "interpreter: 3.8.12 (default, Jan 15 2022, 18:39:47)  [GCC 7.5.0]\n",
      "nbcellexec: 3\n",
      "nbname: phylogeny_simulation_mill\n",
      "nbpath: /opt/hereditary-stratigraph-concept/binder/phylogenetic-inference/phylogeny_simulation_mill.ipynb\n",
      "revision: null\n",
      "session: af6231e6-1289-4420-90ee-170d9e5b07ee\n",
      "timestamp: 2022-03-06T07:12:03Z00:00\n",
      "\n",
      "\n",
      "IPython==7.16.1\n",
      "keyname==0.4.1\n",
      "yaml==5.3.1\n",
      "endomill==0.1.2\n",
      "nbmetalog==0.2.6\n",
      "re==2.2.1\n",
      "ipython_genutils==0.2.0\n",
      "logging==0.5.1.2\n",
      "zmq==22.3.0\n",
      "json==2.0.9\n",
      "ipykernel==5.5.3\n"
     ]
    }
   ],
   "source": [
    "nbm.print_metadata()\n"
   ]
  },
  {
   "cell_type": "code",
   "execution_count": 4,
   "id": "06b153df",
   "metadata": {
    "execution": {
     "iopub.execute_input": "2022-03-06T07:12:03.931434Z",
     "iopub.status.busy": "2022-03-06T07:12:03.931233Z",
     "iopub.status.idle": "2022-03-06T07:12:03.935049Z",
     "shell.execute_reply": "2022-03-06T07:12:03.934479Z"
    },
    "papermill": {
     "duration": 0.021044,
     "end_time": "2022-03-06T07:12:03.936993",
     "exception": false,
     "start_time": "2022-03-06T07:12:03.915949",
     "status": "completed"
    },
    "tags": []
   },
   "outputs": [
    {
     "name": "stdout",
     "output_type": "stream",
     "text": [
      "detected executing.endomill.ipynb file\n",
      "skipping instantiate_over\n"
     ]
    }
   ],
   "source": [
    "endomill.instantiate_over(\n",
    "    parameter_packs=[\n",
    "        {'data_url': data_url}\n",
    "        for data_url in [\n",
    "            'https://osf.io/cz9fk/',\n",
    "            'https://osf.io/ydxt7/',\n",
    "            'https://osf.io/8ycq7/',\n",
    "            'https://osf.io/5ubn8/',\n",
    "        ]\n",
    "    ],\n",
    ")\n"
   ]
  },
  {
   "cell_type": "code",
   "execution_count": 5,
   "id": "00576079",
   "metadata": {
    "execution": {
     "iopub.execute_input": "2022-03-06T07:12:03.966846Z",
     "iopub.status.busy": "2022-03-06T07:12:03.966648Z",
     "iopub.status.idle": "2022-03-06T07:12:03.970323Z",
     "shell.execute_reply": "2022-03-06T07:12:03.969761Z"
    },
    "papermill": {
     "duration": 0.020241,
     "end_time": "2022-03-06T07:12:03.971642",
     "exception": false,
     "start_time": "2022-03-06T07:12:03.951401",
     "status": "completed"
    },
    "tags": []
   },
   "outputs": [],
   "source": [
    "# define papermill parameters\n",
    "data_url: str\n"
   ]
  },
  {
   "cell_type": "code",
   "execution_count": 6,
   "id": "fed4ce3e",
   "metadata": {
    "execution": {
     "iopub.execute_input": "2022-03-06T07:12:03.998100Z",
     "iopub.status.busy": "2022-03-06T07:12:03.997864Z",
     "iopub.status.idle": "2022-03-06T07:12:04.076211Z",
     "shell.execute_reply": "2022-03-06T07:12:04.075131Z"
    },
    "papermill": {
     "duration": 0.093418,
     "end_time": "2022-03-06T07:12:04.077832",
     "exception": false,
     "start_time": "2022-03-06T07:12:03.984414",
     "status": "completed"
    },
    "tags": []
   },
   "outputs": [],
   "source": [
    "import anytree\n",
    "from bs4 import BeautifulSoup\n",
    "from collections import defaultdict\n",
    "from hstrat import hstrat\n",
    "from interval_search import doubling_search\n",
    "from iterpop import iterpop as ip\n",
    "import itertools as it\n",
    "from keyname import keyname as kn\n",
    "import opytional as opyt\n",
    "import pandas as pd\n",
    "import random\n",
    "import sys\n",
    "from tqdm import tqdm\n",
    "from urllib import request\n"
   ]
  },
  {
   "cell_type": "code",
   "execution_count": 7,
   "id": "457eb6df",
   "metadata": {
    "execution": {
     "iopub.execute_input": "2022-03-06T07:12:04.108353Z",
     "iopub.status.busy": "2022-03-06T07:12:04.108158Z",
     "iopub.status.idle": "2022-03-06T07:12:04.112584Z",
     "shell.execute_reply": "2022-03-06T07:12:04.111627Z"
    },
    "papermill": {
     "duration": 0.021082,
     "end_time": "2022-03-06T07:12:04.113849",
     "exception": false,
     "start_time": "2022-03-06T07:12:04.092767",
     "status": "completed"
    },
    "tags": []
   },
   "outputs": [],
   "source": [
    "random.seed(1) # ensure reproducibility\n",
    "sys.setrecursionlimit(100000) # anytree exceeds default recursion limit on our data\n"
   ]
  },
  {
   "cell_type": "code",
   "execution_count": 8,
   "id": "27b05d98",
   "metadata": {
    "execution": {
     "iopub.execute_input": "2022-03-06T07:12:04.140886Z",
     "iopub.status.busy": "2022-03-06T07:12:04.140690Z",
     "iopub.status.idle": "2022-03-06T07:12:04.344800Z",
     "shell.execute_reply": "2022-03-06T07:12:04.344272Z"
    },
    "papermill": {
     "duration": 0.219308,
     "end_time": "2022-03-06T07:12:04.346153",
     "exception": false,
     "start_time": "2022-03-06T07:12:04.126845",
     "status": "completed"
    },
    "tags": []
   },
   "outputs": [
    {
     "name": "stdout",
     "output_type": "stream",
     "text": [
      "context: ci\n",
      "hostname: 87b688f1e3b8\n",
      "interpreter: 3.8.12 (default, Jan 15 2022, 18:39:47)  [GCC 7.5.0]\n",
      "nbcellexec: 8\n",
      "nbname: phylogeny_simulation_mill\n",
      "nbpath: /opt/hereditary-stratigraph-concept/binder/phylogenetic-inference/phylogeny_simulation_mill.ipynb\n",
      "revision: null\n",
      "session: af6231e6-1289-4420-90ee-170d9e5b07ee\n",
      "timestamp: 2022-03-06T07:12:04Z00:00\n",
      "\n",
      "\n",
      "IPython==7.16.1\n",
      "endomill==0.1.2\n",
      "ipykernel==5.5.3\n",
      "ipython_genutils==0.2.0\n",
      "json==2.0.9\n",
      "keyname==0.4.1\n",
      "logging==0.5.1.2\n",
      "nbmetalog==0.2.6\n",
      "re==2.2.1\n",
      "yaml==5.3.1\n",
      "zmq==22.3.0\n",
      "anytree==2.8.0\n",
      "hstrat==0.2.0\n",
      "iterpop==0.3.4\n",
      "opytional==0.1.0\n",
      "pandas==1.1.2\n"
     ]
    }
   ],
   "source": [
    "nbm.print_metadata()\n"
   ]
  },
  {
   "cell_type": "code",
   "execution_count": 9,
   "id": "b73725ad",
   "metadata": {
    "execution": {
     "iopub.execute_input": "2022-03-06T07:12:04.373721Z",
     "iopub.status.busy": "2022-03-06T07:12:04.373526Z",
     "iopub.status.idle": "2022-03-06T07:12:04.733919Z",
     "shell.execute_reply": "2022-03-06T07:12:04.732767Z"
    },
    "papermill": {
     "duration": 0.375957,
     "end_time": "2022-03-06T07:12:04.735430",
     "exception": false,
     "start_time": "2022-03-06T07:12:04.359473",
     "status": "completed"
    },
    "tags": []
   },
   "outputs": [
    {
     "name": "stdout",
     "output_type": "stream",
     "text": [
      "nk_lexicaseselection_seed110_pop165_mut.01_snapshot_500.csv\n"
     ]
    }
   ],
   "source": [
    "html = request.urlopen(data_url).read().decode('utf8')\n",
    "\n",
    "soup = BeautifulSoup(html, 'html.parser')\n",
    "title = soup.find('title')\n",
    "\n",
    "data_filename = title.string.split()[-1]\n",
    "print(data_filename)\n"
   ]
  },
  {
   "cell_type": "code",
   "execution_count": 10,
   "id": "c5ea951e",
   "metadata": {
    "execution": {
     "iopub.execute_input": "2022-03-06T07:12:04.764281Z",
     "iopub.status.busy": "2022-03-06T07:12:04.764065Z",
     "iopub.status.idle": "2022-03-06T07:12:04.767262Z",
     "shell.execute_reply": "2022-03-06T07:12:04.766720Z"
    },
    "papermill": {
     "duration": 0.01933,
     "end_time": "2022-03-06T07:12:04.768673",
     "exception": false,
     "start_time": "2022-03-06T07:12:04.749343",
     "status": "completed"
    },
    "tags": []
   },
   "outputs": [],
   "source": [
    "endomill.add_instance_outpath(\n",
    "    f'a=phylogeny_simulation+source={data_filename}.endomill.ipynb'\n",
    ")\n"
   ]
  },
  {
   "cell_type": "markdown",
   "id": "9904a106",
   "metadata": {
    "papermill": {
     "duration": 0.015548,
     "end_time": "2022-03-06T07:12:04.799808",
     "exception": false,
     "start_time": "2022-03-06T07:12:04.784260",
     "status": "completed"
    },
    "tags": []
   },
   "source": [
    "# Retrieve Target Phylogeny from OSF\n"
   ]
  },
  {
   "cell_type": "code",
   "execution_count": 11,
   "id": "50e62f13",
   "metadata": {
    "execution": {
     "iopub.execute_input": "2022-03-06T07:12:04.831933Z",
     "iopub.status.busy": "2022-03-06T07:12:04.831667Z",
     "iopub.status.idle": "2022-03-06T07:12:05.508816Z",
     "shell.execute_reply": "2022-03-06T07:12:05.508269Z"
    },
    "papermill": {
     "duration": 0.69512,
     "end_time": "2022-03-06T07:12:05.510514",
     "exception": false,
     "start_time": "2022-03-06T07:12:04.815394",
     "status": "completed"
    },
    "tags": []
   },
   "outputs": [
    {
     "name": "stdout",
     "output_type": "stream",
     "text": [
      "digest: 7bffa7d6c47b38c6b9dc45d5093196088d0d82dd210a18e110bc231e2aab7746\n",
      "manifest:\n",
      "  ancestor_list: '    210#  ex., [4727]'\n",
      "  depth: '            59#   ex., 37'\n",
      "  destruction_time: ' 159#  ex., inf'\n",
      "  id: '               233#  ex., 4737'\n",
      "  num_offspring: '    4#    ex., 0'\n",
      "  num_orgs: '         8#    ex., 1'\n",
      "  origin_time: '      176#  ex., 500'\n",
      "  phenotype: '        187#  ex., [ 0.78551 0.507546 0.298434 0.703895 0.70148 0.897296\n",
      "    0.852754 0.533489 0.975623 0.814646 0.0274892 0.45607 0.221636 0.767401 0.74891\n",
      "    0.860365 0.319087 0.293359 0.997853 0.770533 ]'\n",
      "  tot_orgs: '         111#  ex., 1'\n",
      "  total_offspring: '  15#   ex., 0'\n",
      "num cols: 10\n",
      "num cols all na: 0\n",
      "num cols any na: 0\n",
      "num na: 0\n",
      "num rows: 233\n",
      "num rows all na: 0\n",
      "num rows any na: 0\n",
      "size: 83K\n",
      "\n"
     ]
    }
   ],
   "source": [
    "target_phylogeny_df = pd.read_csv(\n",
    "    f'{data_url}/download',\n",
    ")\n",
    "\n",
    "nbm.print_dataframe_synopsis(target_phylogeny_df)\n"
   ]
  },
  {
   "cell_type": "markdown",
   "id": "8446fb7c",
   "metadata": {
    "papermill": {
     "duration": 0.014114,
     "end_time": "2022-03-06T07:12:05.539042",
     "exception": false,
     "start_time": "2022-03-06T07:12:05.524928",
     "status": "completed"
    },
    "tags": []
   },
   "source": [
    "# Create a Tree with Target Phylogeny Structure\n"
   ]
  },
  {
   "cell_type": "code",
   "execution_count": 12,
   "id": "6534e70a",
   "metadata": {
    "execution": {
     "iopub.execute_input": "2022-03-06T07:12:05.568539Z",
     "iopub.status.busy": "2022-03-06T07:12:05.568327Z",
     "iopub.status.idle": "2022-03-06T07:12:05.599110Z",
     "shell.execute_reply": "2022-03-06T07:12:05.598541Z"
    },
    "papermill": {
     "duration": 0.047466,
     "end_time": "2022-03-06T07:12:05.600534",
     "exception": false,
     "start_time": "2022-03-06T07:12:05.553068",
     "status": "completed"
    },
    "tags": []
   },
   "outputs": [],
   "source": [
    "# map id to anytree node\n",
    "nodes = defaultdict(anytree.AnyNode)\n",
    "for __, row in target_phylogeny_df.iterrows():\n",
    "    node = nodes[row['id']]\n",
    "    node.id = row['id']\n",
    "    node.origin_time = row['origin_time']\n",
    "    if 'NONE' not in row['ancestor_list']:\n",
    "        ancestor_id = ip.popsingleton(\n",
    "            eval(row['ancestor_list'])\n",
    "        )\n",
    "        node.parent = nodes[ancestor_id]\n",
    "\n",
    "roots = {node.root for node in nodes.values()}\n"
   ]
  },
  {
   "cell_type": "code",
   "execution_count": 13,
   "id": "c92b3bab",
   "metadata": {
    "execution": {
     "iopub.execute_input": "2022-03-06T07:12:05.629881Z",
     "iopub.status.busy": "2022-03-06T07:12:05.629676Z",
     "iopub.status.idle": "2022-03-06T07:12:05.638349Z",
     "shell.execute_reply": "2022-03-06T07:12:05.637810Z"
    },
    "papermill": {
     "duration": 0.024787,
     "end_time": "2022-03-06T07:12:05.639539",
     "exception": false,
     "start_time": "2022-03-06T07:12:05.614752",
     "status": "completed"
    },
    "tags": []
   },
   "outputs": [
    {
     "data": {
      "text/plain": [
       "58"
      ]
     },
     "execution_count": 13,
     "metadata": {},
     "output_type": "execute_result"
    }
   ],
   "source": [
    "root = ip.popsingleton(roots)\n",
    "root.height\n"
   ]
  },
  {
   "cell_type": "markdown",
   "id": "e46492a2",
   "metadata": {
    "papermill": {
     "duration": 0.014417,
     "end_time": "2022-03-06T07:12:05.668452",
     "exception": false,
     "start_time": "2022-03-06T07:12:05.654035",
     "status": "completed"
    },
    "tags": []
   },
   "source": [
    "# Pick Parameters for Hereditary Stratigraphic Columns\n"
   ]
  },
  {
   "cell_type": "code",
   "execution_count": 14,
   "id": "159741a4",
   "metadata": {
    "execution": {
     "iopub.execute_input": "2022-03-06T07:12:05.698712Z",
     "iopub.status.busy": "2022-03-06T07:12:05.698476Z",
     "iopub.status.idle": "2022-03-06T07:12:05.705903Z",
     "shell.execute_reply": "2022-03-06T07:12:05.705318Z"
    },
    "papermill": {
     "duration": 0.024186,
     "end_time": "2022-03-06T07:12:05.707119",
     "exception": false,
     "start_time": "2022-03-06T07:12:05.682933",
     "status": "completed"
    },
    "tags": []
   },
   "outputs": [],
   "source": [
    "def make_conditions(num_generations: int) -> pd.DataFrame:\n",
    "    res = []\n",
    "    for condemner_factory, target_column_bits, differentia_bit_width in it.product(\n",
    "        [\n",
    "            hstrat.StratumRetentionCondemnerTaperedDepthProportionalResolution,\n",
    "            hstrat.StratumRetentionCondemnerRecencyProportionalResolution,\n",
    "        ],\n",
    "        [\n",
    "            64,\n",
    "            64 * 8,\n",
    "            64 * 16,\n",
    "        ],\n",
    "        [\n",
    "            1,\n",
    "            8,\n",
    "            64,\n",
    "        ],\n",
    "    ):\n",
    "        policy_param = doubling_search(\n",
    "            lambda x: \\\n",
    "                condemner_factory(x + 1).CalcNumStrataRetainedExact(num_generations)\n",
    "                * differentia_bit_width > target_column_bits or x >= num_generations,\n",
    "            {\n",
    "                hstrat.StratumRetentionCondemnerTaperedDepthProportionalResolution: 1,\n",
    "                hstrat.StratumRetentionCondemnerRecencyProportionalResolution: 0,\n",
    "            }[condemner_factory],\n",
    "        )\n",
    "\n",
    "        actual_column_strata = condemner_factory(policy_param).CalcNumStrataRetainedExact(num_generations)\n",
    "        actual_column_bits = actual_column_strata * differentia_bit_width\n",
    "\n",
    "        res.append({\n",
    "            'Retention Policy' : condemner_factory.__name__[25:],\n",
    "            'Differentia Bit Width' : differentia_bit_width,\n",
    "            'Retention Policy Resolution Parameter' : policy_param,\n",
    "            'Target Retained Bits' : target_column_bits,\n",
    "            'Actual Retained Bits' : actual_column_bits,\n",
    "            'Retained Bits Error' : actual_column_bits - target_column_bits,\n",
    "            'Actual Retained Strata' : actual_column_strata,\n",
    "            'condemner' : condemner_factory(policy_param),\n",
    "        })\n",
    "    return pd.DataFrame.from_records(res)\n"
   ]
  },
  {
   "cell_type": "code",
   "execution_count": 15,
   "id": "edf1fe96",
   "metadata": {
    "execution": {
     "iopub.execute_input": "2022-03-06T07:12:05.737053Z",
     "iopub.status.busy": "2022-03-06T07:12:05.736855Z",
     "iopub.status.idle": "2022-03-06T07:12:05.750808Z",
     "shell.execute_reply": "2022-03-06T07:12:05.750438Z"
    },
    "papermill": {
     "duration": 0.030645,
     "end_time": "2022-03-06T07:12:05.752274",
     "exception": false,
     "start_time": "2022-03-06T07:12:05.721629",
     "status": "completed"
    },
    "tags": []
   },
   "outputs": [
    {
     "data": {
      "text/html": [
       "<div>\n",
       "<style scoped>\n",
       "    .dataframe tbody tr th:only-of-type {\n",
       "        vertical-align: middle;\n",
       "    }\n",
       "\n",
       "    .dataframe tbody tr th {\n",
       "        vertical-align: top;\n",
       "    }\n",
       "\n",
       "    .dataframe thead th {\n",
       "        text-align: right;\n",
       "    }\n",
       "</style>\n",
       "<table border=\"1\" class=\"dataframe\">\n",
       "  <thead>\n",
       "    <tr style=\"text-align: right;\">\n",
       "      <th></th>\n",
       "      <th>Retention Policy</th>\n",
       "      <th>Differentia Bit Width</th>\n",
       "      <th>Retention Policy Resolution Parameter</th>\n",
       "      <th>Target Retained Bits</th>\n",
       "      <th>Actual Retained Bits</th>\n",
       "      <th>Retained Bits Error</th>\n",
       "      <th>Actual Retained Strata</th>\n",
       "    </tr>\n",
       "  </thead>\n",
       "  <tbody>\n",
       "    <tr>\n",
       "      <th>0</th>\n",
       "      <td>TaperedDepthProportionalResolution</td>\n",
       "      <td>1</td>\n",
       "      <td>59</td>\n",
       "      <td>64</td>\n",
       "      <td>59</td>\n",
       "      <td>-5</td>\n",
       "      <td>59</td>\n",
       "    </tr>\n",
       "    <tr>\n",
       "      <th>1</th>\n",
       "      <td>TaperedDepthProportionalResolution</td>\n",
       "      <td>8</td>\n",
       "      <td>3</td>\n",
       "      <td>64</td>\n",
       "      <td>56</td>\n",
       "      <td>-8</td>\n",
       "      <td>7</td>\n",
       "    </tr>\n",
       "    <tr>\n",
       "      <th>2</th>\n",
       "      <td>TaperedDepthProportionalResolution</td>\n",
       "      <td>64</td>\n",
       "      <td>1</td>\n",
       "      <td>64</td>\n",
       "      <td>192</td>\n",
       "      <td>128</td>\n",
       "      <td>3</td>\n",
       "    </tr>\n",
       "    <tr>\n",
       "      <th>3</th>\n",
       "      <td>TaperedDepthProportionalResolution</td>\n",
       "      <td>1</td>\n",
       "      <td>59</td>\n",
       "      <td>512</td>\n",
       "      <td>59</td>\n",
       "      <td>-453</td>\n",
       "      <td>59</td>\n",
       "    </tr>\n",
       "    <tr>\n",
       "      <th>4</th>\n",
       "      <td>TaperedDepthProportionalResolution</td>\n",
       "      <td>8</td>\n",
       "      <td>59</td>\n",
       "      <td>512</td>\n",
       "      <td>472</td>\n",
       "      <td>-40</td>\n",
       "      <td>59</td>\n",
       "    </tr>\n",
       "    <tr>\n",
       "      <th>5</th>\n",
       "      <td>TaperedDepthProportionalResolution</td>\n",
       "      <td>64</td>\n",
       "      <td>3</td>\n",
       "      <td>512</td>\n",
       "      <td>448</td>\n",
       "      <td>-64</td>\n",
       "      <td>7</td>\n",
       "    </tr>\n",
       "    <tr>\n",
       "      <th>6</th>\n",
       "      <td>TaperedDepthProportionalResolution</td>\n",
       "      <td>1</td>\n",
       "      <td>59</td>\n",
       "      <td>1024</td>\n",
       "      <td>59</td>\n",
       "      <td>-965</td>\n",
       "      <td>59</td>\n",
       "    </tr>\n",
       "    <tr>\n",
       "      <th>7</th>\n",
       "      <td>TaperedDepthProportionalResolution</td>\n",
       "      <td>8</td>\n",
       "      <td>59</td>\n",
       "      <td>1024</td>\n",
       "      <td>472</td>\n",
       "      <td>-552</td>\n",
       "      <td>59</td>\n",
       "    </tr>\n",
       "    <tr>\n",
       "      <th>8</th>\n",
       "      <td>TaperedDepthProportionalResolution</td>\n",
       "      <td>64</td>\n",
       "      <td>8</td>\n",
       "      <td>1024</td>\n",
       "      <td>1024</td>\n",
       "      <td>0</td>\n",
       "      <td>16</td>\n",
       "    </tr>\n",
       "    <tr>\n",
       "      <th>9</th>\n",
       "      <td>RecencyProportionalResolution</td>\n",
       "      <td>1</td>\n",
       "      <td>59</td>\n",
       "      <td>64</td>\n",
       "      <td>59</td>\n",
       "      <td>-5</td>\n",
       "      <td>59</td>\n",
       "    </tr>\n",
       "    <tr>\n",
       "      <th>10</th>\n",
       "      <td>RecencyProportionalResolution</td>\n",
       "      <td>8</td>\n",
       "      <td>0</td>\n",
       "      <td>64</td>\n",
       "      <td>40</td>\n",
       "      <td>-24</td>\n",
       "      <td>5</td>\n",
       "    </tr>\n",
       "    <tr>\n",
       "      <th>11</th>\n",
       "      <td>RecencyProportionalResolution</td>\n",
       "      <td>64</td>\n",
       "      <td>0</td>\n",
       "      <td>64</td>\n",
       "      <td>320</td>\n",
       "      <td>256</td>\n",
       "      <td>5</td>\n",
       "    </tr>\n",
       "    <tr>\n",
       "      <th>12</th>\n",
       "      <td>RecencyProportionalResolution</td>\n",
       "      <td>1</td>\n",
       "      <td>59</td>\n",
       "      <td>512</td>\n",
       "      <td>59</td>\n",
       "      <td>-453</td>\n",
       "      <td>59</td>\n",
       "    </tr>\n",
       "    <tr>\n",
       "      <th>13</th>\n",
       "      <td>RecencyProportionalResolution</td>\n",
       "      <td>8</td>\n",
       "      <td>59</td>\n",
       "      <td>512</td>\n",
       "      <td>472</td>\n",
       "      <td>-40</td>\n",
       "      <td>59</td>\n",
       "    </tr>\n",
       "    <tr>\n",
       "      <th>14</th>\n",
       "      <td>RecencyProportionalResolution</td>\n",
       "      <td>64</td>\n",
       "      <td>0</td>\n",
       "      <td>512</td>\n",
       "      <td>320</td>\n",
       "      <td>-192</td>\n",
       "      <td>5</td>\n",
       "    </tr>\n",
       "    <tr>\n",
       "      <th>15</th>\n",
       "      <td>RecencyProportionalResolution</td>\n",
       "      <td>1</td>\n",
       "      <td>59</td>\n",
       "      <td>1024</td>\n",
       "      <td>59</td>\n",
       "      <td>-965</td>\n",
       "      <td>59</td>\n",
       "    </tr>\n",
       "    <tr>\n",
       "      <th>16</th>\n",
       "      <td>RecencyProportionalResolution</td>\n",
       "      <td>8</td>\n",
       "      <td>59</td>\n",
       "      <td>1024</td>\n",
       "      <td>472</td>\n",
       "      <td>-552</td>\n",
       "      <td>59</td>\n",
       "    </tr>\n",
       "    <tr>\n",
       "      <th>17</th>\n",
       "      <td>RecencyProportionalResolution</td>\n",
       "      <td>64</td>\n",
       "      <td>2</td>\n",
       "      <td>1024</td>\n",
       "      <td>896</td>\n",
       "      <td>-128</td>\n",
       "      <td>14</td>\n",
       "    </tr>\n",
       "  </tbody>\n",
       "</table>\n",
       "</div>"
      ],
      "text/plain": [
       "                      Retention Policy  Differentia Bit Width  \\\n",
       "0   TaperedDepthProportionalResolution                      1   \n",
       "1   TaperedDepthProportionalResolution                      8   \n",
       "2   TaperedDepthProportionalResolution                     64   \n",
       "3   TaperedDepthProportionalResolution                      1   \n",
       "4   TaperedDepthProportionalResolution                      8   \n",
       "5   TaperedDepthProportionalResolution                     64   \n",
       "6   TaperedDepthProportionalResolution                      1   \n",
       "7   TaperedDepthProportionalResolution                      8   \n",
       "8   TaperedDepthProportionalResolution                     64   \n",
       "9        RecencyProportionalResolution                      1   \n",
       "10       RecencyProportionalResolution                      8   \n",
       "11       RecencyProportionalResolution                     64   \n",
       "12       RecencyProportionalResolution                      1   \n",
       "13       RecencyProportionalResolution                      8   \n",
       "14       RecencyProportionalResolution                     64   \n",
       "15       RecencyProportionalResolution                      1   \n",
       "16       RecencyProportionalResolution                      8   \n",
       "17       RecencyProportionalResolution                     64   \n",
       "\n",
       "    Retention Policy Resolution Parameter  Target Retained Bits  \\\n",
       "0                                      59                    64   \n",
       "1                                       3                    64   \n",
       "2                                       1                    64   \n",
       "3                                      59                   512   \n",
       "4                                      59                   512   \n",
       "5                                       3                   512   \n",
       "6                                      59                  1024   \n",
       "7                                      59                  1024   \n",
       "8                                       8                  1024   \n",
       "9                                      59                    64   \n",
       "10                                      0                    64   \n",
       "11                                      0                    64   \n",
       "12                                     59                   512   \n",
       "13                                     59                   512   \n",
       "14                                      0                   512   \n",
       "15                                     59                  1024   \n",
       "16                                     59                  1024   \n",
       "17                                      2                  1024   \n",
       "\n",
       "    Actual Retained Bits  Retained Bits Error  Actual Retained Strata  \n",
       "0                     59                   -5                      59  \n",
       "1                     56                   -8                       7  \n",
       "2                    192                  128                       3  \n",
       "3                     59                 -453                      59  \n",
       "4                    472                  -40                      59  \n",
       "5                    448                  -64                       7  \n",
       "6                     59                 -965                      59  \n",
       "7                    472                 -552                      59  \n",
       "8                   1024                    0                      16  \n",
       "9                     59                   -5                      59  \n",
       "10                    40                  -24                       5  \n",
       "11                   320                  256                       5  \n",
       "12                    59                 -453                      59  \n",
       "13                   472                  -40                      59  \n",
       "14                   320                 -192                       5  \n",
       "15                    59                 -965                      59  \n",
       "16                   472                 -552                      59  \n",
       "17                   896                 -128                      14  "
      ]
     },
     "execution_count": 15,
     "metadata": {},
     "output_type": "execute_result"
    }
   ],
   "source": [
    "conditions_df = make_conditions(root.height + 1)\n",
    "conditions_df.drop('condemner', axis=1)\n"
   ]
  },
  {
   "cell_type": "markdown",
   "id": "97a3b058",
   "metadata": {
    "papermill": {
     "duration": 0.015049,
     "end_time": "2022-03-06T07:12:05.782952",
     "exception": false,
     "start_time": "2022-03-06T07:12:05.767903",
     "status": "completed"
    },
    "tags": []
   },
   "source": [
    "# Set Up Ancestor Column\n"
   ]
  },
  {
   "cell_type": "code",
   "execution_count": 16,
   "id": "329853c7",
   "metadata": {
    "execution": {
     "iopub.execute_input": "2022-03-06T07:12:05.814267Z",
     "iopub.status.busy": "2022-03-06T07:12:05.814063Z",
     "iopub.status.idle": "2022-03-06T07:12:05.823261Z",
     "shell.execute_reply": "2022-03-06T07:12:05.822469Z"
    },
    "papermill": {
     "duration": 0.026582,
     "end_time": "2022-03-06T07:12:05.824719",
     "exception": false,
     "start_time": "2022-03-06T07:12:05.798137",
     "status": "completed"
    },
    "tags": []
   },
   "outputs": [],
   "source": [
    "bundle = hstrat.HereditaryStratigraphicColumnBundle({\n",
    "    kn.pack({\n",
    "        'differentia' : row['Differentia Bit Width'],\n",
    "        'policy' : row['Retention Policy'],\n",
    "        'resolution' : row['Retention Policy Resolution Parameter'],\n",
    "        'target_bits' : row['Target Retained Bits'],\n",
    "        'actual_bits' : row['Actual Retained Bits'],\n",
    "        'bits_error' : row['Retained Bits Error'],\n",
    "        'actual_strata' : row['Actual Retained Strata'],\n",
    "    }) \\\n",
    "        : hstrat.HereditaryStratigraphicColumn(\n",
    "            stratum_differentia_bit_width=row['Differentia Bit Width'],\n",
    "            stratum_retention_condemner=row['condemner'],\n",
    "    )\n",
    "    for __, row in conditions_df.iterrows()\n",
    "})\n"
   ]
  },
  {
   "cell_type": "markdown",
   "id": "80b8c186",
   "metadata": {
    "papermill": {
     "duration": 0.015121,
     "end_time": "2022-03-06T07:12:05.854937",
     "exception": false,
     "start_time": "2022-03-06T07:12:05.839816",
     "status": "completed"
    },
    "tags": []
   },
   "source": [
    "# Simulate Inheritance of Ancestor Column Down Phylogenetic Tree\n"
   ]
  },
  {
   "cell_type": "code",
   "execution_count": 17,
   "id": "cba9b040",
   "metadata": {
    "execution": {
     "iopub.execute_input": "2022-03-06T07:12:05.886360Z",
     "iopub.status.busy": "2022-03-06T07:12:05.886160Z",
     "iopub.status.idle": "2022-03-06T07:12:06.470664Z",
     "shell.execute_reply": "2022-03-06T07:12:06.470046Z"
    },
    "papermill": {
     "duration": 0.602489,
     "end_time": "2022-03-06T07:12:06.472550",
     "exception": false,
     "start_time": "2022-03-06T07:12:05.870061",
     "status": "completed"
    },
    "tags": []
   },
   "outputs": [],
   "source": [
    "root = ip.popsingleton(roots)\n",
    "root.hstrat_column = bundle\n",
    "\n",
    "for node in anytree.LevelOrderIter(ip.popsingleton(roots)):\n",
    "    parent = node.parent\n",
    "    if parent is not None:\n",
    "        node.hstrat_column = parent.hstrat_column.Clone()\n",
    "        for __ in range(node.origin_time - parent.origin_time): node.hstrat_column.DepositStratum()\n"
   ]
  },
  {
   "cell_type": "markdown",
   "id": "366bd913",
   "metadata": {
    "papermill": {
     "duration": 0.015442,
     "end_time": "2022-03-06T07:12:06.503741",
     "exception": false,
     "start_time": "2022-03-06T07:12:06.488299",
     "status": "completed"
    },
    "tags": []
   },
   "source": [
    "# Extract Pairwise MRCA Estimates for Extant Organisms\n"
   ]
  },
  {
   "cell_type": "code",
   "execution_count": 18,
   "id": "f136e9a2",
   "metadata": {
    "execution": {
     "iopub.execute_input": "2022-03-06T07:12:06.535957Z",
     "iopub.status.busy": "2022-03-06T07:12:06.535730Z",
     "iopub.status.idle": "2022-03-06T07:12:08.743615Z",
     "shell.execute_reply": "2022-03-06T07:12:08.743029Z"
    },
    "papermill": {
     "duration": 2.22587,
     "end_time": "2022-03-06T07:12:08.745018",
     "exception": false,
     "start_time": "2022-03-06T07:12:06.519148",
     "status": "completed"
    },
    "tags": []
   },
   "outputs": [
    {
     "name": "stderr",
     "output_type": "stream",
     "text": [
      "\r",
      "  0%|          | 0/576 [00:00<?, ?it/s]"
     ]
    },
    {
     "name": "stderr",
     "output_type": "stream",
     "text": [
      "\r",
      "  9%|▊         | 49/576 [00:00<00:01, 479.10it/s]"
     ]
    },
    {
     "name": "stderr",
     "output_type": "stream",
     "text": [
      "\r",
      " 13%|█▎        | 75/576 [00:00<00:01, 380.19it/s]"
     ]
    },
    {
     "name": "stderr",
     "output_type": "stream",
     "text": [
      "\r",
      " 18%|█▊        | 102/576 [00:00<00:01, 331.89it/s]"
     ]
    },
    {
     "name": "stderr",
     "output_type": "stream",
     "text": [
      "\r",
      " 22%|██▏       | 129/576 [00:00<00:01, 303.29it/s]"
     ]
    },
    {
     "name": "stderr",
     "output_type": "stream",
     "text": [
      "\r",
      " 28%|██▊       | 161/576 [00:00<00:01, 307.35it/s]"
     ]
    },
    {
     "name": "stderr",
     "output_type": "stream",
     "text": [
      "\r",
      " 34%|███▍      | 195/576 [00:00<00:01, 312.39it/s]"
     ]
    },
    {
     "name": "stderr",
     "output_type": "stream",
     "text": [
      "\r",
      " 39%|███▊      | 223/576 [00:00<00:01, 294.50it/s]"
     ]
    },
    {
     "name": "stderr",
     "output_type": "stream",
     "text": [
      "\r",
      " 45%|████▍     | 258/576 [00:00<00:01, 307.41it/s]"
     ]
    },
    {
     "name": "stderr",
     "output_type": "stream",
     "text": [
      "\r",
      " 50%|████▉     | 287/576 [00:00<00:01, 288.32it/s]"
     ]
    },
    {
     "name": "stderr",
     "output_type": "stream",
     "text": [
      "\r",
      " 55%|█████▍    | 315/576 [00:01<00:00, 265.84it/s]"
     ]
    },
    {
     "name": "stderr",
     "output_type": "stream",
     "text": [
      "\r",
      " 59%|█████▉    | 342/576 [00:01<00:00, 249.87it/s]"
     ]
    },
    {
     "name": "stderr",
     "output_type": "stream",
     "text": [
      "\r",
      " 64%|██████▎   | 367/576 [00:01<00:00, 235.26it/s]"
     ]
    },
    {
     "name": "stderr",
     "output_type": "stream",
     "text": [
      "\r",
      " 68%|██████▊   | 391/576 [00:01<00:00, 223.37it/s]"
     ]
    },
    {
     "name": "stderr",
     "output_type": "stream",
     "text": [
      "\r",
      " 72%|███████▏  | 414/576 [00:01<00:00, 214.66it/s]"
     ]
    },
    {
     "name": "stderr",
     "output_type": "stream",
     "text": [
      "\r",
      " 76%|███████▌  | 436/576 [00:01<00:00, 205.68it/s]"
     ]
    },
    {
     "name": "stderr",
     "output_type": "stream",
     "text": [
      "\r",
      " 79%|███████▉  | 457/576 [00:01<00:00, 196.59it/s]"
     ]
    },
    {
     "name": "stderr",
     "output_type": "stream",
     "text": [
      "\r",
      " 83%|████████▎ | 477/576 [00:01<00:00, 188.21it/s]"
     ]
    },
    {
     "name": "stderr",
     "output_type": "stream",
     "text": [
      "\r",
      " 87%|████████▋ | 500/576 [00:02<00:00, 198.82it/s]"
     ]
    },
    {
     "name": "stderr",
     "output_type": "stream",
     "text": [
      "\r",
      " 96%|█████████▌| 552/576 [00:02<00:00, 242.54it/s]"
     ]
    },
    {
     "name": "stderr",
     "output_type": "stream",
     "text": [
      "\r",
      "100%|██████████| 576/576 [00:02<00:00, 266.33it/s]"
     ]
    },
    {
     "name": "stderr",
     "output_type": "stream",
     "text": [
      "\n"
     ]
    }
   ],
   "source": [
    "res = []\n",
    "for extant1, extant2 in tqdm([*it.product(root.leaves, root.leaves)]):\n",
    "    if extant1 != extant2:\n",
    "        bounds = extant1.hstrat_column.CalcRankOfMrcaBoundsWith(extant2.hstrat_column)\n",
    "        for impl in extant1.hstrat_column:\n",
    "            res.append({\n",
    "                'Column Configuration' \\\n",
    "                    : impl,\n",
    "                'Differentia Bit Width' \\\n",
    "                    : kn.unpack(impl)['differentia'],\n",
    "                'Stratum Retention Policy' \\\n",
    "                    : kn.unpack(impl)['policy'],\n",
    "                'Stratum Retention Policy Resolution Parameter' \\\n",
    "                    : kn.unpack(impl)['resolution'],\n",
    "                'Stratigraphic Column Actual Retained Bits' \\\n",
    "                    : kn.unpack(impl)['actual_bits'],\n",
    "                'Stratigraphic Column Target Retained Bits' \\\n",
    "                    : kn.unpack(impl)['target_bits'],\n",
    "                'Stratigraphic Column Retained Bits Error' \\\n",
    "                    : kn.unpack(impl)['bits_error'],\n",
    "                'Stratigraphic Column Actual Num Retained Strata' \\\n",
    "                    : kn.unpack(impl)['actual_strata'],\n",
    "                'Taxon Compared From' \\\n",
    "                    : extant1.id,\n",
    "                'Taxon Compared To' \\\n",
    "                    : extant2.id,\n",
    "                'Generation of Taxon Compared From' \\\n",
    "                    : extant1.hstrat_column.GetNumStrataDeposited(),\n",
    "                'Generation of Taxon Compared To' \\\n",
    "                    : extant2.hstrat_column.GetNumStrataDeposited(),\n",
    "                'Generation Of MRCA Lower Bound (inclusive)' \\\n",
    "                    : opyt.apply_if(\n",
    "                        bounds[impl],\n",
    "                        lambda x: x[0],\n",
    "                    ),\n",
    "                'Generation Of MRCA Upper Bound (exclusive)' \\\n",
    "                    : opyt.apply_if(\n",
    "                        bounds[impl],\n",
    "                        lambda x: x[1],\n",
    "                    ),\n",
    "                'MRCA Bound Confidence' \\\n",
    "                    : extant1.hstrat_column[impl].CalcRankOfMrcaBoundsWithProvidedConfidenceLevel(),\n",
    "                'Rank of Earliest Detectable Mrca With' \\\n",
    "                    : extant1.hstrat_column[impl].CalcRankOfEarliestDetectableMrcaWith(extant2.hstrat_column[impl]),\n",
    "            })\n",
    "\n",
    "res_df = pd.DataFrame.from_records(res)\n"
   ]
  },
  {
   "cell_type": "code",
   "execution_count": 19,
   "id": "83778ec2",
   "metadata": {
    "execution": {
     "iopub.execute_input": "2022-03-06T07:12:08.788584Z",
     "iopub.status.busy": "2022-03-06T07:12:08.788292Z",
     "iopub.status.idle": "2022-03-06T07:12:08.810629Z",
     "shell.execute_reply": "2022-03-06T07:12:08.809864Z"
    },
    "papermill": {
     "duration": 0.046625,
     "end_time": "2022-03-06T07:12:08.812743",
     "exception": false,
     "start_time": "2022-03-06T07:12:08.766118",
     "status": "completed"
    },
    "tags": []
   },
   "outputs": [
    {
     "data": {
      "text/html": [
       "<div>\n",
       "<style scoped>\n",
       "    .dataframe tbody tr th:only-of-type {\n",
       "        vertical-align: middle;\n",
       "    }\n",
       "\n",
       "    .dataframe tbody tr th {\n",
       "        vertical-align: top;\n",
       "    }\n",
       "\n",
       "    .dataframe thead th {\n",
       "        text-align: right;\n",
       "    }\n",
       "</style>\n",
       "<table border=\"1\" class=\"dataframe\">\n",
       "  <thead>\n",
       "    <tr style=\"text-align: right;\">\n",
       "      <th></th>\n",
       "      <th>Column Configuration</th>\n",
       "      <th>Differentia Bit Width</th>\n",
       "      <th>Stratum Retention Policy</th>\n",
       "      <th>Stratum Retention Policy Resolution Parameter</th>\n",
       "      <th>Stratigraphic Column Actual Retained Bits</th>\n",
       "      <th>Stratigraphic Column Target Retained Bits</th>\n",
       "      <th>Stratigraphic Column Retained Bits Error</th>\n",
       "      <th>Stratigraphic Column Actual Num Retained Strata</th>\n",
       "      <th>Taxon Compared From</th>\n",
       "      <th>Taxon Compared To</th>\n",
       "      <th>Generation of Taxon Compared From</th>\n",
       "      <th>Generation of Taxon Compared To</th>\n",
       "      <th>Generation Of MRCA Lower Bound (inclusive)</th>\n",
       "      <th>Generation Of MRCA Upper Bound (exclusive)</th>\n",
       "      <th>MRCA Bound Confidence</th>\n",
       "      <th>Rank of Earliest Detectable Mrca With</th>\n",
       "    </tr>\n",
       "  </thead>\n",
       "  <tbody>\n",
       "    <tr>\n",
       "      <th>0</th>\n",
       "      <td>actual_bits=59+actual_strata=59+bits_error=-5+...</td>\n",
       "      <td>1</td>\n",
       "      <td>TaperedDepthProportionalResolution</td>\n",
       "      <td>59</td>\n",
       "      <td>59</td>\n",
       "      <td>64</td>\n",
       "      <td>-5</td>\n",
       "      <td>59</td>\n",
       "      <td>4737</td>\n",
       "      <td>4733</td>\n",
       "      <td>501</td>\n",
       "      <td>501</td>\n",
       "      <td>460.0</td>\n",
       "      <td>480.0</td>\n",
       "      <td>0.968750</td>\n",
       "      <td>32</td>\n",
       "    </tr>\n",
       "    <tr>\n",
       "      <th>1</th>\n",
       "      <td>actual_bits=56+actual_strata=7+bits_error=-8+d...</td>\n",
       "      <td>8</td>\n",
       "      <td>TaperedDepthProportionalResolution</td>\n",
       "      <td>3</td>\n",
       "      <td>56</td>\n",
       "      <td>64</td>\n",
       "      <td>-8</td>\n",
       "      <td>7</td>\n",
       "      <td>4737</td>\n",
       "      <td>4733</td>\n",
       "      <td>501</td>\n",
       "      <td>501</td>\n",
       "      <td>448.0</td>\n",
       "      <td>500.0</td>\n",
       "      <td>0.996094</td>\n",
       "      <td>0</td>\n",
       "    </tr>\n",
       "    <tr>\n",
       "      <th>2</th>\n",
       "      <td>actual_bits=192+actual_strata=3+bits_error=128...</td>\n",
       "      <td>64</td>\n",
       "      <td>TaperedDepthProportionalResolution</td>\n",
       "      <td>1</td>\n",
       "      <td>192</td>\n",
       "      <td>64</td>\n",
       "      <td>128</td>\n",
       "      <td>3</td>\n",
       "      <td>4737</td>\n",
       "      <td>4733</td>\n",
       "      <td>501</td>\n",
       "      <td>501</td>\n",
       "      <td>256.0</td>\n",
       "      <td>500.0</td>\n",
       "      <td>1.000000</td>\n",
       "      <td>0</td>\n",
       "    </tr>\n",
       "    <tr>\n",
       "      <th>3</th>\n",
       "      <td>actual_bits=59+actual_strata=59+bits_error=-45...</td>\n",
       "      <td>1</td>\n",
       "      <td>TaperedDepthProportionalResolution</td>\n",
       "      <td>59</td>\n",
       "      <td>59</td>\n",
       "      <td>512</td>\n",
       "      <td>-453</td>\n",
       "      <td>59</td>\n",
       "      <td>4737</td>\n",
       "      <td>4733</td>\n",
       "      <td>501</td>\n",
       "      <td>501</td>\n",
       "      <td>460.0</td>\n",
       "      <td>480.0</td>\n",
       "      <td>0.968750</td>\n",
       "      <td>32</td>\n",
       "    </tr>\n",
       "    <tr>\n",
       "      <th>4</th>\n",
       "      <td>actual_bits=472+actual_strata=59+bits_error=-4...</td>\n",
       "      <td>8</td>\n",
       "      <td>TaperedDepthProportionalResolution</td>\n",
       "      <td>59</td>\n",
       "      <td>472</td>\n",
       "      <td>512</td>\n",
       "      <td>-40</td>\n",
       "      <td>59</td>\n",
       "      <td>4737</td>\n",
       "      <td>4733</td>\n",
       "      <td>501</td>\n",
       "      <td>501</td>\n",
       "      <td>476.0</td>\n",
       "      <td>480.0</td>\n",
       "      <td>0.996094</td>\n",
       "      <td>0</td>\n",
       "    </tr>\n",
       "    <tr>\n",
       "      <th>...</th>\n",
       "      <td>...</td>\n",
       "      <td>...</td>\n",
       "      <td>...</td>\n",
       "      <td>...</td>\n",
       "      <td>...</td>\n",
       "      <td>...</td>\n",
       "      <td>...</td>\n",
       "      <td>...</td>\n",
       "      <td>...</td>\n",
       "      <td>...</td>\n",
       "      <td>...</td>\n",
       "      <td>...</td>\n",
       "      <td>...</td>\n",
       "      <td>...</td>\n",
       "      <td>...</td>\n",
       "      <td>...</td>\n",
       "    </tr>\n",
       "    <tr>\n",
       "      <th>9931</th>\n",
       "      <td>actual_bits=472+actual_strata=59+bits_error=-4...</td>\n",
       "      <td>8</td>\n",
       "      <td>RecencyProportionalResolution</td>\n",
       "      <td>59</td>\n",
       "      <td>472</td>\n",
       "      <td>512</td>\n",
       "      <td>-40</td>\n",
       "      <td>59</td>\n",
       "      <td>4595</td>\n",
       "      <td>4738</td>\n",
       "      <td>486</td>\n",
       "      <td>501</td>\n",
       "      <td>480.0</td>\n",
       "      <td>481.0</td>\n",
       "      <td>0.996094</td>\n",
       "      <td>0</td>\n",
       "    </tr>\n",
       "    <tr>\n",
       "      <th>9932</th>\n",
       "      <td>actual_bits=320+actual_strata=5+bits_error=-19...</td>\n",
       "      <td>64</td>\n",
       "      <td>RecencyProportionalResolution</td>\n",
       "      <td>0</td>\n",
       "      <td>320</td>\n",
       "      <td>512</td>\n",
       "      <td>-192</td>\n",
       "      <td>5</td>\n",
       "      <td>4595</td>\n",
       "      <td>4738</td>\n",
       "      <td>486</td>\n",
       "      <td>501</td>\n",
       "      <td>480.0</td>\n",
       "      <td>486.0</td>\n",
       "      <td>1.000000</td>\n",
       "      <td>0</td>\n",
       "    </tr>\n",
       "    <tr>\n",
       "      <th>9933</th>\n",
       "      <td>actual_bits=59+actual_strata=59+bits_error=-96...</td>\n",
       "      <td>1</td>\n",
       "      <td>RecencyProportionalResolution</td>\n",
       "      <td>59</td>\n",
       "      <td>59</td>\n",
       "      <td>1024</td>\n",
       "      <td>-965</td>\n",
       "      <td>59</td>\n",
       "      <td>4595</td>\n",
       "      <td>4738</td>\n",
       "      <td>486</td>\n",
       "      <td>501</td>\n",
       "      <td>476.0</td>\n",
       "      <td>481.0</td>\n",
       "      <td>0.968750</td>\n",
       "      <td>28</td>\n",
       "    </tr>\n",
       "    <tr>\n",
       "      <th>9934</th>\n",
       "      <td>actual_bits=472+actual_strata=59+bits_error=-5...</td>\n",
       "      <td>8</td>\n",
       "      <td>RecencyProportionalResolution</td>\n",
       "      <td>59</td>\n",
       "      <td>472</td>\n",
       "      <td>1024</td>\n",
       "      <td>-552</td>\n",
       "      <td>59</td>\n",
       "      <td>4595</td>\n",
       "      <td>4738</td>\n",
       "      <td>486</td>\n",
       "      <td>501</td>\n",
       "      <td>480.0</td>\n",
       "      <td>481.0</td>\n",
       "      <td>0.996094</td>\n",
       "      <td>0</td>\n",
       "    </tr>\n",
       "    <tr>\n",
       "      <th>9935</th>\n",
       "      <td>actual_bits=896+actual_strata=14+bits_error=-1...</td>\n",
       "      <td>64</td>\n",
       "      <td>RecencyProportionalResolution</td>\n",
       "      <td>2</td>\n",
       "      <td>896</td>\n",
       "      <td>1024</td>\n",
       "      <td>-128</td>\n",
       "      <td>14</td>\n",
       "      <td>4595</td>\n",
       "      <td>4738</td>\n",
       "      <td>486</td>\n",
       "      <td>501</td>\n",
       "      <td>480.0</td>\n",
       "      <td>484.0</td>\n",
       "      <td>1.000000</td>\n",
       "      <td>0</td>\n",
       "    </tr>\n",
       "  </tbody>\n",
       "</table>\n",
       "<p>9936 rows × 16 columns</p>\n",
       "</div>"
      ],
      "text/plain": [
       "                                   Column Configuration Differentia Bit Width  \\\n",
       "0     actual_bits=59+actual_strata=59+bits_error=-5+...                     1   \n",
       "1     actual_bits=56+actual_strata=7+bits_error=-8+d...                     8   \n",
       "2     actual_bits=192+actual_strata=3+bits_error=128...                    64   \n",
       "3     actual_bits=59+actual_strata=59+bits_error=-45...                     1   \n",
       "4     actual_bits=472+actual_strata=59+bits_error=-4...                     8   \n",
       "...                                                 ...                   ...   \n",
       "9931  actual_bits=472+actual_strata=59+bits_error=-4...                     8   \n",
       "9932  actual_bits=320+actual_strata=5+bits_error=-19...                    64   \n",
       "9933  actual_bits=59+actual_strata=59+bits_error=-96...                     1   \n",
       "9934  actual_bits=472+actual_strata=59+bits_error=-5...                     8   \n",
       "9935  actual_bits=896+actual_strata=14+bits_error=-1...                    64   \n",
       "\n",
       "                Stratum Retention Policy  \\\n",
       "0     TaperedDepthProportionalResolution   \n",
       "1     TaperedDepthProportionalResolution   \n",
       "2     TaperedDepthProportionalResolution   \n",
       "3     TaperedDepthProportionalResolution   \n",
       "4     TaperedDepthProportionalResolution   \n",
       "...                                  ...   \n",
       "9931       RecencyProportionalResolution   \n",
       "9932       RecencyProportionalResolution   \n",
       "9933       RecencyProportionalResolution   \n",
       "9934       RecencyProportionalResolution   \n",
       "9935       RecencyProportionalResolution   \n",
       "\n",
       "     Stratum Retention Policy Resolution Parameter  \\\n",
       "0                                               59   \n",
       "1                                                3   \n",
       "2                                                1   \n",
       "3                                               59   \n",
       "4                                               59   \n",
       "...                                            ...   \n",
       "9931                                            59   \n",
       "9932                                             0   \n",
       "9933                                            59   \n",
       "9934                                            59   \n",
       "9935                                             2   \n",
       "\n",
       "     Stratigraphic Column Actual Retained Bits  \\\n",
       "0                                           59   \n",
       "1                                           56   \n",
       "2                                          192   \n",
       "3                                           59   \n",
       "4                                          472   \n",
       "...                                        ...   \n",
       "9931                                       472   \n",
       "9932                                       320   \n",
       "9933                                        59   \n",
       "9934                                       472   \n",
       "9935                                       896   \n",
       "\n",
       "     Stratigraphic Column Target Retained Bits  \\\n",
       "0                                           64   \n",
       "1                                           64   \n",
       "2                                           64   \n",
       "3                                          512   \n",
       "4                                          512   \n",
       "...                                        ...   \n",
       "9931                                       512   \n",
       "9932                                       512   \n",
       "9933                                      1024   \n",
       "9934                                      1024   \n",
       "9935                                      1024   \n",
       "\n",
       "     Stratigraphic Column Retained Bits Error  \\\n",
       "0                                          -5   \n",
       "1                                          -8   \n",
       "2                                         128   \n",
       "3                                        -453   \n",
       "4                                         -40   \n",
       "...                                       ...   \n",
       "9931                                      -40   \n",
       "9932                                     -192   \n",
       "9933                                     -965   \n",
       "9934                                     -552   \n",
       "9935                                     -128   \n",
       "\n",
       "     Stratigraphic Column Actual Num Retained Strata  Taxon Compared From  \\\n",
       "0                                                 59                 4737   \n",
       "1                                                  7                 4737   \n",
       "2                                                  3                 4737   \n",
       "3                                                 59                 4737   \n",
       "4                                                 59                 4737   \n",
       "...                                              ...                  ...   \n",
       "9931                                              59                 4595   \n",
       "9932                                               5                 4595   \n",
       "9933                                              59                 4595   \n",
       "9934                                              59                 4595   \n",
       "9935                                              14                 4595   \n",
       "\n",
       "      Taxon Compared To  Generation of Taxon Compared From  \\\n",
       "0                  4733                                501   \n",
       "1                  4733                                501   \n",
       "2                  4733                                501   \n",
       "3                  4733                                501   \n",
       "4                  4733                                501   \n",
       "...                 ...                                ...   \n",
       "9931               4738                                486   \n",
       "9932               4738                                486   \n",
       "9933               4738                                486   \n",
       "9934               4738                                486   \n",
       "9935               4738                                486   \n",
       "\n",
       "      Generation of Taxon Compared To  \\\n",
       "0                                 501   \n",
       "1                                 501   \n",
       "2                                 501   \n",
       "3                                 501   \n",
       "4                                 501   \n",
       "...                               ...   \n",
       "9931                              501   \n",
       "9932                              501   \n",
       "9933                              501   \n",
       "9934                              501   \n",
       "9935                              501   \n",
       "\n",
       "      Generation Of MRCA Lower Bound (inclusive)  \\\n",
       "0                                          460.0   \n",
       "1                                          448.0   \n",
       "2                                          256.0   \n",
       "3                                          460.0   \n",
       "4                                          476.0   \n",
       "...                                          ...   \n",
       "9931                                       480.0   \n",
       "9932                                       480.0   \n",
       "9933                                       476.0   \n",
       "9934                                       480.0   \n",
       "9935                                       480.0   \n",
       "\n",
       "      Generation Of MRCA Upper Bound (exclusive)  MRCA Bound Confidence  \\\n",
       "0                                          480.0               0.968750   \n",
       "1                                          500.0               0.996094   \n",
       "2                                          500.0               1.000000   \n",
       "3                                          480.0               0.968750   \n",
       "4                                          480.0               0.996094   \n",
       "...                                          ...                    ...   \n",
       "9931                                       481.0               0.996094   \n",
       "9932                                       486.0               1.000000   \n",
       "9933                                       481.0               0.968750   \n",
       "9934                                       481.0               0.996094   \n",
       "9935                                       484.0               1.000000   \n",
       "\n",
       "      Rank of Earliest Detectable Mrca With  \n",
       "0                                        32  \n",
       "1                                         0  \n",
       "2                                         0  \n",
       "3                                        32  \n",
       "4                                         0  \n",
       "...                                     ...  \n",
       "9931                                      0  \n",
       "9932                                      0  \n",
       "9933                                     28  \n",
       "9934                                      0  \n",
       "9935                                      0  \n",
       "\n",
       "[9936 rows x 16 columns]"
      ]
     },
     "execution_count": 19,
     "metadata": {},
     "output_type": "execute_result"
    }
   ],
   "source": [
    "res_df\n"
   ]
  },
  {
   "cell_type": "code",
   "execution_count": 20,
   "id": "71c8bcb7",
   "metadata": {
    "execution": {
     "iopub.execute_input": "2022-03-06T07:12:08.859171Z",
     "iopub.status.busy": "2022-03-06T07:12:08.858915Z",
     "iopub.status.idle": "2022-03-06T07:12:09.020524Z",
     "shell.execute_reply": "2022-03-06T07:12:09.020013Z"
    },
    "papermill": {
     "duration": 0.185954,
     "end_time": "2022-03-06T07:12:09.021859",
     "exception": false,
     "start_time": "2022-03-06T07:12:08.835905",
     "status": "completed"
    },
    "tags": []
   },
   "outputs": [
    {
     "name": "stdout",
     "output_type": "stream",
     "text": [
      "digest: e6697cce570a5f2195fa0045077882142a8ec691f9c2dbaf10acc7411233b7c3\n",
      "manifest:\n",
      "  Column Configuration: '                            18#         ex., actual_bits=59+actual_strata=59+bits_error=-5+differentia=1+policy=TaperedDepthProportionalResolution+resolution=59+target_bits=64'\n",
      "  Differentia Bit Width: '                           3#          ex., 1'\n",
      "  Generation Of MRCA Lower Bound (inclusive): '      71#,1964na  ex., 460.0'\n",
      "  Generation Of MRCA Upper Bound (exclusive): '      61#,1964na  ex., 480.0'\n",
      "  Generation of Taxon Compared From: '               10#         ex., 501'\n",
      "  Generation of Taxon Compared To: '                 10#         ex., 501'\n",
      "  MRCA Bound Confidence: '                           3#          ex., 0.96875'\n",
      "  Rank of Earliest Detectable Mrca With: '           5#          ex., 32'\n",
      "  Stratigraphic Column Actual Num Retained Strata: ' 6#          ex., 59'\n",
      "  Stratigraphic Column Actual Retained Bits: '       9#          ex., 59'\n",
      "  Stratigraphic Column Retained Bits Error: '        13#         ex., -5'\n",
      "  Stratigraphic Column Target Retained Bits: '       3#          ex., 64'\n",
      "  Stratum Retention Policy: '                        2#          ex., TaperedDepthProportionalResolution'\n",
      "  Stratum Retention Policy Resolution Parameter: '   6#          ex., 59'\n",
      "  Taxon Compared From: '                             24#         ex., 4737'\n",
      "  Taxon Compared To: '                               24#         ex., 4733'\n",
      "num cols: 16\n",
      "num cols all na: 0\n",
      "num cols any na: 2\n",
      "num na: 3928\n",
      "num rows: 9936\n",
      "num rows all na: 0\n",
      "num rows any na: 1964\n",
      "size: 6M\n",
      "\n"
     ]
    }
   ],
   "source": [
    "nbm.print_dataframe_synopsis(res_df)\n"
   ]
  },
  {
   "cell_type": "markdown",
   "id": "60b39245",
   "metadata": {
    "papermill": {
     "duration": 0.021626,
     "end_time": "2022-03-06T07:12:09.065693",
     "exception": false,
     "start_time": "2022-03-06T07:12:09.044067",
     "status": "completed"
    },
    "tags": []
   },
   "source": [
    "# Save Pairwise MRCA Estimates to File\n"
   ]
  },
  {
   "cell_type": "code",
   "execution_count": 21,
   "id": "6d193bfc",
   "metadata": {
    "execution": {
     "iopub.execute_input": "2022-03-06T07:12:09.111134Z",
     "iopub.status.busy": "2022-03-06T07:12:09.110836Z",
     "iopub.status.idle": "2022-03-06T07:12:09.232060Z",
     "shell.execute_reply": "2022-03-06T07:12:09.231417Z"
    },
    "papermill": {
     "duration": 0.146585,
     "end_time": "2022-03-06T07:12:09.234075",
     "exception": false,
     "start_time": "2022-03-06T07:12:09.087490",
     "status": "completed"
    },
    "tags": []
   },
   "outputs": [],
   "source": [
    "res_df.to_csv(\n",
    "    f'a=pairwise_mrca_estimates+source={data_filename}.gz',\n",
    "    compression='gzip',\n",
    ")\n"
   ]
  }
 ],
 "metadata": {
  "kernelspec": {
   "display_name": "Python 3",
   "language": "python",
   "name": "python3"
  },
  "language_info": {
   "codemirror_mode": {
    "name": "ipython",
    "version": 3
   },
   "file_extension": ".py",
   "mimetype": "text/x-python",
   "name": "python",
   "nbconvert_exporter": "python",
   "pygments_lexer": "ipython3",
   "version": "3.8.10"
  },
  "papermill": {
   "default_parameters": {},
   "duration": null,
   "end_time": null,
   "environment_variables": {},
   "exception": null,
   "input_path": "/opt/hereditary-stratigraph-concept/binder/phylogenetic-inference/phylogeny_simulation_mill.ipynb",
   "output_path": "executing.endomill.ipynb",
   "parameters": {
    "data_url": "https://osf.io/8ycq7/"
   },
   "start_time": "2022-03-06T07:12:01.845619",
   "version": "2.3.4"
  }
 },
 "nbformat": 4,
 "nbformat_minor": 5
}