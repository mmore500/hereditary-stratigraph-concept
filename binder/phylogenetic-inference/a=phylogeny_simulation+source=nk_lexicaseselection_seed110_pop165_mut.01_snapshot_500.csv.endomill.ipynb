{
 "cells": [
  {
   "cell_type": "code",
   "execution_count": 1,
   "id": "7a0288c1",
   "metadata": {
    "execution": {
     "iopub.execute_input": "2022-03-06T06:19:25.363760Z",
     "iopub.status.busy": "2022-03-06T06:19:25.363464Z",
     "iopub.status.idle": "2022-03-06T06:19:25.370620Z",
     "shell.execute_reply": "2022-03-06T06:19:25.369965Z"
    },
    "papermill": {
     "duration": 0.026256,
     "end_time": "2022-03-06T06:19:25.372221",
     "exception": false,
     "start_time": "2022-03-06T06:19:25.345965",
     "status": "completed"
    },
    "tags": [
     "injected-parameters"
    ]
   },
   "outputs": [],
   "source": [
    "# Parameters\n",
    "data_url = \"https://osf.io/8ycq7/\"\n"
   ]
  },
  {
   "cell_type": "code",
   "execution_count": 2,
   "id": "0acc1b23",
   "metadata": {
    "execution": {
     "iopub.execute_input": "2022-03-06T06:19:25.404592Z",
     "iopub.status.busy": "2022-03-06T06:19:25.404351Z",
     "iopub.status.idle": "2022-03-06T06:19:26.189892Z",
     "shell.execute_reply": "2022-03-06T06:19:26.188630Z"
    },
    "papermill": {
     "duration": 0.8041,
     "end_time": "2022-03-06T06:19:26.192438",
     "exception": false,
     "start_time": "2022-03-06T06:19:25.388338",
     "status": "completed"
    },
    "tags": []
   },
   "outputs": [],
   "source": [
    "import endomill\n",
    "from nbmetalog import nbmetalog as nbm\n"
   ]
  },
  {
   "cell_type": "code",
   "execution_count": 3,
   "id": "467350d9",
   "metadata": {
    "execution": {
     "iopub.execute_input": "2022-03-06T06:19:26.227386Z",
     "iopub.status.busy": "2022-03-06T06:19:26.227146Z",
     "iopub.status.idle": "2022-03-06T06:19:26.567895Z",
     "shell.execute_reply": "2022-03-06T06:19:26.567176Z"
    },
    "papermill": {
     "duration": 0.358902,
     "end_time": "2022-03-06T06:19:26.569584",
     "exception": false,
     "start_time": "2022-03-06T06:19:26.210682",
     "status": "completed"
    },
    "tags": []
   },
   "outputs": [
    {
     "name": "stdout",
     "output_type": "stream",
     "text": [
      "context: ci\n",
      "hostname: f34a98294200\n",
      "interpreter: 3.8.12 (default, Jan 15 2022, 18:39:47)  [GCC 7.5.0]\n",
      "nbcellexec: 3\n",
      "nbname: phylogeny_simulation_mill\n",
      "nbpath: /opt/hereditary-stratigraph-concept/binder/phylogenetic-inference/phylogeny_simulation_mill.ipynb\n",
      "revision: null\n",
      "session: 56d21d66-d8db-40d6-8d36-8c47d30043d1\n",
      "timestamp: 2022-03-06T06:19:26Z00:00\n",
      "\n",
      "\n"
     ]
    },
    {
     "name": "stdout",
     "output_type": "stream",
     "text": [
      "IPython==7.16.1\n",
      "keyname==0.4.1\n",
      "yaml==5.3.1\n",
      "endomill==0.1.2\n",
      "nbmetalog==0.2.6\n",
      "re==2.2.1\n",
      "ipython_genutils==0.2.0\n",
      "logging==0.5.1.2\n",
      "zmq==22.3.0\n",
      "json==2.0.9\n",
      "ipykernel==5.5.3\n"
     ]
    }
   ],
   "source": [
    "nbm.print_metadata()\n"
   ]
  },
  {
   "cell_type": "code",
   "execution_count": 4,
   "id": "383b1da3",
   "metadata": {
    "execution": {
     "iopub.execute_input": "2022-03-06T06:19:26.602993Z",
     "iopub.status.busy": "2022-03-06T06:19:26.602639Z",
     "iopub.status.idle": "2022-03-06T06:19:26.609299Z",
     "shell.execute_reply": "2022-03-06T06:19:26.608623Z"
    },
    "papermill": {
     "duration": 0.025101,
     "end_time": "2022-03-06T06:19:26.610709",
     "exception": false,
     "start_time": "2022-03-06T06:19:26.585608",
     "status": "completed"
    },
    "tags": []
   },
   "outputs": [
    {
     "name": "stdout",
     "output_type": "stream",
     "text": [
      "detected executing.endomill.ipynb file\n",
      "skipping instantiate_over\n"
     ]
    }
   ],
   "source": [
    "endomill.instantiate_over(\n",
    "    parameter_packs=[\n",
    "        {'data_url': data_url}\n",
    "        for data_url in [\n",
    "            'https://osf.io/cz9fk/',\n",
    "            'https://osf.io/ydxt7/',\n",
    "            'https://osf.io/8ycq7/',\n",
    "            'https://osf.io/5ubn8/',\n",
    "        ]\n",
    "    ],\n",
    ")\n"
   ]
  },
  {
   "cell_type": "code",
   "execution_count": 5,
   "id": "945c84f8",
   "metadata": {
    "execution": {
     "iopub.execute_input": "2022-03-06T06:19:26.645158Z",
     "iopub.status.busy": "2022-03-06T06:19:26.644815Z",
     "iopub.status.idle": "2022-03-06T06:19:26.647948Z",
     "shell.execute_reply": "2022-03-06T06:19:26.647352Z"
    },
    "papermill": {
     "duration": 0.022129,
     "end_time": "2022-03-06T06:19:26.649447",
     "exception": false,
     "start_time": "2022-03-06T06:19:26.627318",
     "status": "completed"
    },
    "tags": []
   },
   "outputs": [],
   "source": [
    "# define papermill parameters\n",
    "data_url: str\n"
   ]
  },
  {
   "cell_type": "code",
   "execution_count": 6,
   "id": "cf6f4ab2",
   "metadata": {
    "execution": {
     "iopub.execute_input": "2022-03-06T06:19:26.682086Z",
     "iopub.status.busy": "2022-03-06T06:19:26.681815Z",
     "iopub.status.idle": "2022-03-06T06:19:26.783257Z",
     "shell.execute_reply": "2022-03-06T06:19:26.782347Z"
    },
    "papermill": {
     "duration": 0.119809,
     "end_time": "2022-03-06T06:19:26.785108",
     "exception": false,
     "start_time": "2022-03-06T06:19:26.665299",
     "status": "completed"
    },
    "tags": []
   },
   "outputs": [],
   "source": [
    "import anytree\n",
    "from bs4 import BeautifulSoup\n",
    "from collections import defaultdict\n",
    "from hstrat import hstrat\n",
    "from interval_search import doubling_search\n",
    "from iterpop import iterpop as ip\n",
    "import itertools as it\n",
    "from keyname import keyname as kn\n",
    "import opytional as opyt\n",
    "import pandas as pd\n",
    "import random\n",
    "import sys\n",
    "from tqdm import tqdm\n",
    "from urllib import request\n"
   ]
  },
  {
   "cell_type": "code",
   "execution_count": 7,
   "id": "8b9cbfe5",
   "metadata": {
    "execution": {
     "iopub.execute_input": "2022-03-06T06:19:26.820703Z",
     "iopub.status.busy": "2022-03-06T06:19:26.820367Z",
     "iopub.status.idle": "2022-03-06T06:19:26.825194Z",
     "shell.execute_reply": "2022-03-06T06:19:26.824507Z"
    },
    "papermill": {
     "duration": 0.025374,
     "end_time": "2022-03-06T06:19:26.827450",
     "exception": false,
     "start_time": "2022-03-06T06:19:26.802076",
     "status": "completed"
    },
    "tags": []
   },
   "outputs": [],
   "source": [
    "random.seed(1) # ensure reproducibility\n",
    "sys.setrecursionlimit(100000) # anytree exceeds default recursion limit on our data\n"
   ]
  },
  {
   "cell_type": "code",
   "execution_count": 8,
   "id": "dc450931",
   "metadata": {
    "execution": {
     "iopub.execute_input": "2022-03-06T06:19:26.862415Z",
     "iopub.status.busy": "2022-03-06T06:19:26.862083Z",
     "iopub.status.idle": "2022-03-06T06:19:27.114433Z",
     "shell.execute_reply": "2022-03-06T06:19:27.113610Z"
    },
    "papermill": {
     "duration": 0.271681,
     "end_time": "2022-03-06T06:19:27.115964",
     "exception": false,
     "start_time": "2022-03-06T06:19:26.844283",
     "status": "completed"
    },
    "tags": []
   },
   "outputs": [
    {
     "name": "stdout",
     "output_type": "stream",
     "text": [
      "context: ci\n",
      "hostname: f34a98294200\n",
      "interpreter: 3.8.12 (default, Jan 15 2022, 18:39:47)  [GCC 7.5.0]\n",
      "nbcellexec: 8\n",
      "nbname: phylogeny_simulation_mill\n",
      "nbpath: /opt/hereditary-stratigraph-concept/binder/phylogenetic-inference/phylogeny_simulation_mill.ipynb\n",
      "revision: null\n",
      "session: 56d21d66-d8db-40d6-8d36-8c47d30043d1\n",
      "timestamp: 2022-03-06T06:19:26Z00:00\n",
      "\n",
      "\n"
     ]
    },
    {
     "name": "stdout",
     "output_type": "stream",
     "text": [
      "IPython==7.16.1\n",
      "endomill==0.1.2\n",
      "ipykernel==5.5.3\n",
      "ipython_genutils==0.2.0\n",
      "json==2.0.9\n",
      "keyname==0.4.1\n",
      "logging==0.5.1.2\n",
      "nbmetalog==0.2.6\n",
      "re==2.2.1\n",
      "yaml==5.3.1\n",
      "zmq==22.3.0\n",
      "anytree==2.8.0\n",
      "hstrat==0.2.0\n",
      "iterpop==0.3.4\n",
      "opytional==0.1.0\n",
      "pandas==1.1.2\n"
     ]
    }
   ],
   "source": [
    "nbm.print_metadata()\n"
   ]
  },
  {
   "cell_type": "code",
   "execution_count": 9,
   "id": "2026702e",
   "metadata": {
    "execution": {
     "iopub.execute_input": "2022-03-06T06:19:27.152260Z",
     "iopub.status.busy": "2022-03-06T06:19:27.151930Z",
     "iopub.status.idle": "2022-03-06T06:19:27.524834Z",
     "shell.execute_reply": "2022-03-06T06:19:27.524003Z"
    },
    "papermill": {
     "duration": 0.393149,
     "end_time": "2022-03-06T06:19:27.526532",
     "exception": false,
     "start_time": "2022-03-06T06:19:27.133383",
     "status": "completed"
    },
    "tags": []
   },
   "outputs": [
    {
     "name": "stdout",
     "output_type": "stream",
     "text": [
      "nk_lexicaseselection_seed110_pop165_mut.01_snapshot_500.csv\n"
     ]
    }
   ],
   "source": [
    "html = request.urlopen(data_url).read().decode('utf8')\n",
    "\n",
    "soup = BeautifulSoup(html, 'html.parser')\n",
    "title = soup.find('title')\n",
    "\n",
    "data_filename = title.string.split()[-1]\n",
    "print(data_filename)\n"
   ]
  },
  {
   "cell_type": "code",
   "execution_count": 10,
   "id": "4adec3c5",
   "metadata": {
    "execution": {
     "iopub.execute_input": "2022-03-06T06:19:27.563473Z",
     "iopub.status.busy": "2022-03-06T06:19:27.563239Z",
     "iopub.status.idle": "2022-03-06T06:19:27.568113Z",
     "shell.execute_reply": "2022-03-06T06:19:27.567380Z"
    },
    "papermill": {
     "duration": 0.025603,
     "end_time": "2022-03-06T06:19:27.570603",
     "exception": false,
     "start_time": "2022-03-06T06:19:27.545000",
     "status": "completed"
    },
    "tags": []
   },
   "outputs": [],
   "source": [
    "endomill.add_instance_outpath(\n",
    "    f'a=phylogeny_simulation+source={data_filename}.endomill.ipynb'\n",
    ")\n"
   ]
  },
  {
   "cell_type": "markdown",
   "id": "10a0d6d7",
   "metadata": {
    "papermill": {
     "duration": 0.017498,
     "end_time": "2022-03-06T06:19:27.605467",
     "exception": false,
     "start_time": "2022-03-06T06:19:27.587969",
     "status": "completed"
    },
    "tags": []
   },
   "source": [
    "# Retrieve Target Phylogeny from OSF\n"
   ]
  },
  {
   "cell_type": "code",
   "execution_count": 11,
   "id": "fded8219",
   "metadata": {
    "execution": {
     "iopub.execute_input": "2022-03-06T06:19:27.642111Z",
     "iopub.status.busy": "2022-03-06T06:19:27.641757Z",
     "iopub.status.idle": "2022-03-06T06:19:28.287494Z",
     "shell.execute_reply": "2022-03-06T06:19:28.286761Z"
    },
    "papermill": {
     "duration": 0.666158,
     "end_time": "2022-03-06T06:19:28.289338",
     "exception": false,
     "start_time": "2022-03-06T06:19:27.623180",
     "status": "completed"
    },
    "tags": []
   },
   "outputs": [
    {
     "name": "stdout",
     "output_type": "stream",
     "text": [
      "digest: 7bffa7d6c47b38c6b9dc45d5093196088d0d82dd210a18e110bc231e2aab7746\n",
      "manifest:\n",
      "  ancestor_list: '    210#  ex., [4727]'\n",
      "  depth: '            59#   ex., 37'\n",
      "  destruction_time: ' 159#  ex., inf'\n",
      "  id: '               233#  ex., 4737'\n",
      "  num_offspring: '    4#    ex., 0'\n",
      "  num_orgs: '         8#    ex., 1'\n",
      "  origin_time: '      176#  ex., 500'\n",
      "  phenotype: '        187#  ex., [ 0.78551 0.507546 0.298434 0.703895 0.70148 0.897296\n",
      "    0.852754 0.533489 0.975623 0.814646 0.0274892 0.45607 0.221636 0.767401 0.74891\n",
      "    0.860365 0.319087 0.293359 0.997853 0.770533 ]'\n",
      "  tot_orgs: '         111#  ex., 1'\n",
      "  total_offspring: '  15#   ex., 0'\n",
      "num cols: 10\n",
      "num cols all na: 0\n",
      "num cols any na: 0\n",
      "num na: 0\n",
      "num rows: 233\n",
      "num rows all na: 0\n",
      "num rows any na: 0\n",
      "size: 83K\n",
      "\n"
     ]
    }
   ],
   "source": [
    "target_phylogeny_df = pd.read_csv(\n",
    "    f'{data_url}/download',\n",
    ")\n",
    "\n",
    "nbm.print_dataframe_synopsis(target_phylogeny_df)\n"
   ]
  },
  {
   "cell_type": "markdown",
   "id": "742e952d",
   "metadata": {
    "papermill": {
     "duration": 0.01956,
     "end_time": "2022-03-06T06:19:28.333447",
     "exception": false,
     "start_time": "2022-03-06T06:19:28.313887",
     "status": "completed"
    },
    "tags": []
   },
   "source": [
    "# Create a Tree with Target Phylogeny Structure\n"
   ]
  },
  {
   "cell_type": "code",
   "execution_count": 12,
   "id": "98e97dc2",
   "metadata": {
    "execution": {
     "iopub.execute_input": "2022-03-06T06:19:28.372526Z",
     "iopub.status.busy": "2022-03-06T06:19:28.372278Z",
     "iopub.status.idle": "2022-03-06T06:19:28.408331Z",
     "shell.execute_reply": "2022-03-06T06:19:28.407352Z"
    },
    "papermill": {
     "duration": 0.059493,
     "end_time": "2022-03-06T06:19:28.410943",
     "exception": false,
     "start_time": "2022-03-06T06:19:28.351450",
     "status": "completed"
    },
    "tags": []
   },
   "outputs": [],
   "source": [
    "# map id to anytree node\n",
    "nodes = defaultdict(anytree.AnyNode)\n",
    "for __, row in target_phylogeny_df.iterrows():\n",
    "    node = nodes[row['id']]\n",
    "    node.id = row['id']\n",
    "    node.origin_time = row['origin_time']\n",
    "    if 'NONE' not in row['ancestor_list']:\n",
    "        ancestor_id = ip.popsingleton(\n",
    "            eval(row['ancestor_list'])\n",
    "        )\n",
    "        node.parent = nodes[ancestor_id]\n",
    "\n",
    "roots = {node.root for node in nodes.values()}\n"
   ]
  },
  {
   "cell_type": "code",
   "execution_count": 13,
   "id": "5d677796",
   "metadata": {
    "execution": {
     "iopub.execute_input": "2022-03-06T06:19:28.452647Z",
     "iopub.status.busy": "2022-03-06T06:19:28.452423Z",
     "iopub.status.idle": "2022-03-06T06:19:28.463415Z",
     "shell.execute_reply": "2022-03-06T06:19:28.462376Z"
    },
    "papermill": {
     "duration": 0.032108,
     "end_time": "2022-03-06T06:19:28.465114",
     "exception": false,
     "start_time": "2022-03-06T06:19:28.433006",
     "status": "completed"
    },
    "tags": []
   },
   "outputs": [
    {
     "data": {
      "text/plain": [
       "58"
      ]
     },
     "execution_count": 13,
     "metadata": {},
     "output_type": "execute_result"
    }
   ],
   "source": [
    "root = ip.popsingleton(roots)\n",
    "root.height\n"
   ]
  },
  {
   "cell_type": "markdown",
   "id": "fce74321",
   "metadata": {
    "papermill": {
     "duration": 0.017661,
     "end_time": "2022-03-06T06:19:28.502331",
     "exception": false,
     "start_time": "2022-03-06T06:19:28.484670",
     "status": "completed"
    },
    "tags": []
   },
   "source": [
    "# Pick Parameters for Hereditary Stratigraphic Columns\n"
   ]
  },
  {
   "cell_type": "code",
   "execution_count": 14,
   "id": "92256c9d",
   "metadata": {
    "execution": {
     "iopub.execute_input": "2022-03-06T06:19:28.546852Z",
     "iopub.status.busy": "2022-03-06T06:19:28.546478Z",
     "iopub.status.idle": "2022-03-06T06:19:28.554705Z",
     "shell.execute_reply": "2022-03-06T06:19:28.554132Z"
    },
    "papermill": {
     "duration": 0.030305,
     "end_time": "2022-03-06T06:19:28.556311",
     "exception": false,
     "start_time": "2022-03-06T06:19:28.526006",
     "status": "completed"
    },
    "tags": []
   },
   "outputs": [],
   "source": [
    "def make_conditions(num_generations: int) -> pd.DataFrame:\n",
    "    res = []\n",
    "    for condemner_factory, target_column_bits, differentia_bit_width in it.product(\n",
    "        [\n",
    "            hstrat.StratumRetentionCondemnerTaperedDepthProportionalResolution,\n",
    "            hstrat.StratumRetentionCondemnerRecencyProportionalResolution,\n",
    "        ],\n",
    "        [\n",
    "            64,\n",
    "            64 * 8,\n",
    "            64 * 16,\n",
    "        ],\n",
    "        [\n",
    "            1,\n",
    "            8,\n",
    "            64,\n",
    "        ],\n",
    "    ):\n",
    "        policy_param = doubling_search(\n",
    "            lambda x: \\\n",
    "                condemner_factory(x + 1).CalcNumStrataRetainedExact(num_generations)\n",
    "                * differentia_bit_width > target_column_bits or x >= num_generations,\n",
    "            {\n",
    "                hstrat.StratumRetentionCondemnerTaperedDepthProportionalResolution: 1,\n",
    "                hstrat.StratumRetentionCondemnerRecencyProportionalResolution: 0,\n",
    "            }[condemner_factory],\n",
    "        )\n",
    "\n",
    "        actual_column_strata = condemner_factory(policy_param).CalcNumStrataRetainedExact(num_generations)\n",
    "        actual_column_bits = actual_column_strata * differentia_bit_width\n",
    "\n",
    "        res.append({\n",
    "            'Retention Policy' : condemner_factory.__name__[25:],\n",
    "            'Differentia Bit Width' : differentia_bit_width,\n",
    "            'Retention Policy Resolution Parameter' : policy_param,\n",
    "            'Target Retained Bits' : target_column_bits,\n",
    "            'Actual Retained Bits' : actual_column_bits,\n",
    "            'Retained Bits Error' : actual_column_bits - target_column_bits,\n",
    "            'Actual Retained Strata' : actual_column_strata,\n",
    "            'condemner' : condemner_factory(policy_param),\n",
    "        })\n",
    "    return pd.DataFrame.from_records(res)\n"
   ]
  },
  {
   "cell_type": "code",
   "execution_count": 15,
   "id": "1596ab45",
   "metadata": {
    "execution": {
     "iopub.execute_input": "2022-03-06T06:19:28.595559Z",
     "iopub.status.busy": "2022-03-06T06:19:28.595253Z",
     "iopub.status.idle": "2022-03-06T06:19:28.613235Z",
     "shell.execute_reply": "2022-03-06T06:19:28.612309Z"
    },
    "papermill": {
     "duration": 0.039438,
     "end_time": "2022-03-06T06:19:28.614666",
     "exception": false,
     "start_time": "2022-03-06T06:19:28.575228",
     "status": "completed"
    },
    "tags": []
   },
   "outputs": [
    {
     "data": {
      "text/html": [
       "<div>\n",
       "<style scoped>\n",
       "    .dataframe tbody tr th:only-of-type {\n",
       "        vertical-align: middle;\n",
       "    }\n",
       "\n",
       "    .dataframe tbody tr th {\n",
       "        vertical-align: top;\n",
       "    }\n",
       "\n",
       "    .dataframe thead th {\n",
       "        text-align: right;\n",
       "    }\n",
       "</style>\n",
       "<table border=\"1\" class=\"dataframe\">\n",
       "  <thead>\n",
       "    <tr style=\"text-align: right;\">\n",
       "      <th></th>\n",
       "      <th>Retention Policy</th>\n",
       "      <th>Differentia Bit Width</th>\n",
       "      <th>Retention Policy Resolution Parameter</th>\n",
       "      <th>Target Retained Bits</th>\n",
       "      <th>Actual Retained Bits</th>\n",
       "      <th>Retained Bits Error</th>\n",
       "      <th>Actual Retained Strata</th>\n",
       "    </tr>\n",
       "  </thead>\n",
       "  <tbody>\n",
       "    <tr>\n",
       "      <th>0</th>\n",
       "      <td>TaperedDepthProportionalResolution</td>\n",
       "      <td>1</td>\n",
       "      <td>59</td>\n",
       "      <td>64</td>\n",
       "      <td>59</td>\n",
       "      <td>-5</td>\n",
       "      <td>59</td>\n",
       "    </tr>\n",
       "    <tr>\n",
       "      <th>1</th>\n",
       "      <td>TaperedDepthProportionalResolution</td>\n",
       "      <td>8</td>\n",
       "      <td>3</td>\n",
       "      <td>64</td>\n",
       "      <td>56</td>\n",
       "      <td>-8</td>\n",
       "      <td>7</td>\n",
       "    </tr>\n",
       "    <tr>\n",
       "      <th>2</th>\n",
       "      <td>TaperedDepthProportionalResolution</td>\n",
       "      <td>64</td>\n",
       "      <td>1</td>\n",
       "      <td>64</td>\n",
       "      <td>192</td>\n",
       "      <td>128</td>\n",
       "      <td>3</td>\n",
       "    </tr>\n",
       "    <tr>\n",
       "      <th>3</th>\n",
       "      <td>TaperedDepthProportionalResolution</td>\n",
       "      <td>1</td>\n",
       "      <td>59</td>\n",
       "      <td>512</td>\n",
       "      <td>59</td>\n",
       "      <td>-453</td>\n",
       "      <td>59</td>\n",
       "    </tr>\n",
       "    <tr>\n",
       "      <th>4</th>\n",
       "      <td>TaperedDepthProportionalResolution</td>\n",
       "      <td>8</td>\n",
       "      <td>59</td>\n",
       "      <td>512</td>\n",
       "      <td>472</td>\n",
       "      <td>-40</td>\n",
       "      <td>59</td>\n",
       "    </tr>\n",
       "    <tr>\n",
       "      <th>5</th>\n",
       "      <td>TaperedDepthProportionalResolution</td>\n",
       "      <td>64</td>\n",
       "      <td>3</td>\n",
       "      <td>512</td>\n",
       "      <td>448</td>\n",
       "      <td>-64</td>\n",
       "      <td>7</td>\n",
       "    </tr>\n",
       "    <tr>\n",
       "      <th>6</th>\n",
       "      <td>TaperedDepthProportionalResolution</td>\n",
       "      <td>1</td>\n",
       "      <td>59</td>\n",
       "      <td>1024</td>\n",
       "      <td>59</td>\n",
       "      <td>-965</td>\n",
       "      <td>59</td>\n",
       "    </tr>\n",
       "    <tr>\n",
       "      <th>7</th>\n",
       "      <td>TaperedDepthProportionalResolution</td>\n",
       "      <td>8</td>\n",
       "      <td>59</td>\n",
       "      <td>1024</td>\n",
       "      <td>472</td>\n",
       "      <td>-552</td>\n",
       "      <td>59</td>\n",
       "    </tr>\n",
       "    <tr>\n",
       "      <th>8</th>\n",
       "      <td>TaperedDepthProportionalResolution</td>\n",
       "      <td>64</td>\n",
       "      <td>8</td>\n",
       "      <td>1024</td>\n",
       "      <td>1024</td>\n",
       "      <td>0</td>\n",
       "      <td>16</td>\n",
       "    </tr>\n",
       "    <tr>\n",
       "      <th>9</th>\n",
       "      <td>RecencyProportionalResolution</td>\n",
       "      <td>1</td>\n",
       "      <td>59</td>\n",
       "      <td>64</td>\n",
       "      <td>59</td>\n",
       "      <td>-5</td>\n",
       "      <td>59</td>\n",
       "    </tr>\n",
       "    <tr>\n",
       "      <th>10</th>\n",
       "      <td>RecencyProportionalResolution</td>\n",
       "      <td>8</td>\n",
       "      <td>0</td>\n",
       "      <td>64</td>\n",
       "      <td>40</td>\n",
       "      <td>-24</td>\n",
       "      <td>5</td>\n",
       "    </tr>\n",
       "    <tr>\n",
       "      <th>11</th>\n",
       "      <td>RecencyProportionalResolution</td>\n",
       "      <td>64</td>\n",
       "      <td>0</td>\n",
       "      <td>64</td>\n",
       "      <td>320</td>\n",
       "      <td>256</td>\n",
       "      <td>5</td>\n",
       "    </tr>\n",
       "    <tr>\n",
       "      <th>12</th>\n",
       "      <td>RecencyProportionalResolution</td>\n",
       "      <td>1</td>\n",
       "      <td>59</td>\n",
       "      <td>512</td>\n",
       "      <td>59</td>\n",
       "      <td>-453</td>\n",
       "      <td>59</td>\n",
       "    </tr>\n",
       "    <tr>\n",
       "      <th>13</th>\n",
       "      <td>RecencyProportionalResolution</td>\n",
       "      <td>8</td>\n",
       "      <td>59</td>\n",
       "      <td>512</td>\n",
       "      <td>472</td>\n",
       "      <td>-40</td>\n",
       "      <td>59</td>\n",
       "    </tr>\n",
       "    <tr>\n",
       "      <th>14</th>\n",
       "      <td>RecencyProportionalResolution</td>\n",
       "      <td>64</td>\n",
       "      <td>0</td>\n",
       "      <td>512</td>\n",
       "      <td>320</td>\n",
       "      <td>-192</td>\n",
       "      <td>5</td>\n",
       "    </tr>\n",
       "    <tr>\n",
       "      <th>15</th>\n",
       "      <td>RecencyProportionalResolution</td>\n",
       "      <td>1</td>\n",
       "      <td>59</td>\n",
       "      <td>1024</td>\n",
       "      <td>59</td>\n",
       "      <td>-965</td>\n",
       "      <td>59</td>\n",
       "    </tr>\n",
       "    <tr>\n",
       "      <th>16</th>\n",
       "      <td>RecencyProportionalResolution</td>\n",
       "      <td>8</td>\n",
       "      <td>59</td>\n",
       "      <td>1024</td>\n",
       "      <td>472</td>\n",
       "      <td>-552</td>\n",
       "      <td>59</td>\n",
       "    </tr>\n",
       "    <tr>\n",
       "      <th>17</th>\n",
       "      <td>RecencyProportionalResolution</td>\n",
       "      <td>64</td>\n",
       "      <td>2</td>\n",
       "      <td>1024</td>\n",
       "      <td>896</td>\n",
       "      <td>-128</td>\n",
       "      <td>14</td>\n",
       "    </tr>\n",
       "  </tbody>\n",
       "</table>\n",
       "</div>"
      ],
      "text/plain": [
       "                      Retention Policy  Differentia Bit Width  \\\n",
       "0   TaperedDepthProportionalResolution                      1   \n",
       "1   TaperedDepthProportionalResolution                      8   \n",
       "2   TaperedDepthProportionalResolution                     64   \n",
       "3   TaperedDepthProportionalResolution                      1   \n",
       "4   TaperedDepthProportionalResolution                      8   \n",
       "5   TaperedDepthProportionalResolution                     64   \n",
       "6   TaperedDepthProportionalResolution                      1   \n",
       "7   TaperedDepthProportionalResolution                      8   \n",
       "8   TaperedDepthProportionalResolution                     64   \n",
       "9        RecencyProportionalResolution                      1   \n",
       "10       RecencyProportionalResolution                      8   \n",
       "11       RecencyProportionalResolution                     64   \n",
       "12       RecencyProportionalResolution                      1   \n",
       "13       RecencyProportionalResolution                      8   \n",
       "14       RecencyProportionalResolution                     64   \n",
       "15       RecencyProportionalResolution                      1   \n",
       "16       RecencyProportionalResolution                      8   \n",
       "17       RecencyProportionalResolution                     64   \n",
       "\n",
       "    Retention Policy Resolution Parameter  Target Retained Bits  \\\n",
       "0                                      59                    64   \n",
       "1                                       3                    64   \n",
       "2                                       1                    64   \n",
       "3                                      59                   512   \n",
       "4                                      59                   512   \n",
       "5                                       3                   512   \n",
       "6                                      59                  1024   \n",
       "7                                      59                  1024   \n",
       "8                                       8                  1024   \n",
       "9                                      59                    64   \n",
       "10                                      0                    64   \n",
       "11                                      0                    64   \n",
       "12                                     59                   512   \n",
       "13                                     59                   512   \n",
       "14                                      0                   512   \n",
       "15                                     59                  1024   \n",
       "16                                     59                  1024   \n",
       "17                                      2                  1024   \n",
       "\n",
       "    Actual Retained Bits  Retained Bits Error  Actual Retained Strata  \n",
       "0                     59                   -5                      59  \n",
       "1                     56                   -8                       7  \n",
       "2                    192                  128                       3  \n",
       "3                     59                 -453                      59  \n",
       "4                    472                  -40                      59  \n",
       "5                    448                  -64                       7  \n",
       "6                     59                 -965                      59  \n",
       "7                    472                 -552                      59  \n",
       "8                   1024                    0                      16  \n",
       "9                     59                   -5                      59  \n",
       "10                    40                  -24                       5  \n",
       "11                   320                  256                       5  \n",
       "12                    59                 -453                      59  \n",
       "13                   472                  -40                      59  \n",
       "14                   320                 -192                       5  \n",
       "15                    59                 -965                      59  \n",
       "16                   472                 -552                      59  \n",
       "17                   896                 -128                      14  "
      ]
     },
     "execution_count": 15,
     "metadata": {},
     "output_type": "execute_result"
    }
   ],
   "source": [
    "conditions_df = make_conditions(root.height + 1)\n",
    "conditions_df.drop('condemner', axis=1)\n"
   ]
  },
  {
   "cell_type": "markdown",
   "id": "5c03ec28",
   "metadata": {
    "papermill": {
     "duration": 0.018235,
     "end_time": "2022-03-06T06:19:28.651982",
     "exception": false,
     "start_time": "2022-03-06T06:19:28.633747",
     "status": "completed"
    },
    "tags": []
   },
   "source": [
    "# Set Up Ancestor Column\n"
   ]
  },
  {
   "cell_type": "code",
   "execution_count": 16,
   "id": "3940ea4f",
   "metadata": {
    "execution": {
     "iopub.execute_input": "2022-03-06T06:19:28.690884Z",
     "iopub.status.busy": "2022-03-06T06:19:28.690672Z",
     "iopub.status.idle": "2022-03-06T06:19:28.699332Z",
     "shell.execute_reply": "2022-03-06T06:19:28.698488Z"
    },
    "papermill": {
     "duration": 0.030267,
     "end_time": "2022-03-06T06:19:28.700933",
     "exception": false,
     "start_time": "2022-03-06T06:19:28.670666",
     "status": "completed"
    },
    "tags": []
   },
   "outputs": [],
   "source": [
    "bundle = hstrat.HereditaryStratigraphicColumnBundle({\n",
    "    kn.pack({\n",
    "        'differentia' : row['Differentia Bit Width'],\n",
    "        'policy' : row['Retention Policy'],\n",
    "        'resolution' : row['Retention Policy Resolution Parameter'],\n",
    "        'target_bits' : row['Target Retained Bits'],\n",
    "        'actual_bits' : row['Actual Retained Bits'],\n",
    "        'bits_error' : row['Retained Bits Error'],\n",
    "        'actual_strata' : row['Actual Retained Strata'],\n",
    "    }) \\\n",
    "        : hstrat.HereditaryStratigraphicColumn(\n",
    "            stratum_differentia_bit_width=row['Differentia Bit Width'],\n",
    "            stratum_retention_condemner=row['condemner'],\n",
    "    )\n",
    "    for __, row in conditions_df.iterrows()\n",
    "})\n"
   ]
  },
  {
   "cell_type": "markdown",
   "id": "3153e8a1",
   "metadata": {
    "papermill": {
     "duration": 0.019748,
     "end_time": "2022-03-06T06:19:28.739243",
     "exception": false,
     "start_time": "2022-03-06T06:19:28.719495",
     "status": "completed"
    },
    "tags": []
   },
   "source": [
    "# Simulate Inheritance of Ancestor Column Down Phylogenetic Tree\n"
   ]
  },
  {
   "cell_type": "code",
   "execution_count": 17,
   "id": "3630ad0d",
   "metadata": {
    "execution": {
     "iopub.execute_input": "2022-03-06T06:19:28.780064Z",
     "iopub.status.busy": "2022-03-06T06:19:28.779681Z",
     "iopub.status.idle": "2022-03-06T06:19:29.460205Z",
     "shell.execute_reply": "2022-03-06T06:19:29.459076Z"
    },
    "papermill": {
     "duration": 0.703188,
     "end_time": "2022-03-06T06:19:29.462087",
     "exception": false,
     "start_time": "2022-03-06T06:19:28.758899",
     "status": "completed"
    },
    "tags": []
   },
   "outputs": [],
   "source": [
    "root = ip.popsingleton(roots)\n",
    "root.hstrat_column = bundle\n",
    "\n",
    "for node in anytree.LevelOrderIter(ip.popsingleton(roots)):\n",
    "    parent = node.parent\n",
    "    if parent is not None:\n",
    "        node.hstrat_column = parent.hstrat_column.Clone()\n",
    "        for __ in range(node.origin_time - parent.origin_time): node.hstrat_column.DepositStratum()\n"
   ]
  },
  {
   "cell_type": "markdown",
   "id": "59bfcd34",
   "metadata": {
    "papermill": {
     "duration": 0.021344,
     "end_time": "2022-03-06T06:19:29.503611",
     "exception": false,
     "start_time": "2022-03-06T06:19:29.482267",
     "status": "completed"
    },
    "tags": []
   },
   "source": [
    "# Extract Pairwise MRCA Estimates for Extant Organisms\n"
   ]
  },
  {
   "cell_type": "code",
   "execution_count": 18,
   "id": "9749fc63",
   "metadata": {
    "execution": {
     "iopub.execute_input": "2022-03-06T06:19:29.545572Z",
     "iopub.status.busy": "2022-03-06T06:19:29.545178Z",
     "iopub.status.idle": "2022-03-06T06:19:32.220626Z",
     "shell.execute_reply": "2022-03-06T06:19:32.219675Z"
    },
    "papermill": {
     "duration": 2.699985,
     "end_time": "2022-03-06T06:19:32.223272",
     "exception": false,
     "start_time": "2022-03-06T06:19:29.523287",
     "status": "completed"
    },
    "tags": []
   },
   "outputs": [
    {
     "name": "stderr",
     "output_type": "stream",
     "text": [
      "\r",
      "  0%|          | 0/576 [00:00<?, ?it/s]"
     ]
    },
    {
     "name": "stderr",
     "output_type": "stream",
     "text": [
      "\r",
      "  6%|▋         | 36/576 [00:00<00:01, 355.21it/s]"
     ]
    },
    {
     "name": "stderr",
     "output_type": "stream",
     "text": [
      "\r",
      " 10%|█         | 58/576 [00:00<00:01, 298.02it/s]"
     ]
    },
    {
     "name": "stderr",
     "output_type": "stream",
     "text": [
      "\r",
      " 14%|█▍        | 82/576 [00:00<00:01, 276.52it/s]"
     ]
    },
    {
     "name": "stderr",
     "output_type": "stream",
     "text": [
      "\r",
      " 18%|█▊        | 106/576 [00:00<00:01, 261.87it/s]"
     ]
    },
    {
     "name": "stderr",
     "output_type": "stream",
     "text": [
      "\r",
      " 23%|██▎       | 130/576 [00:00<00:01, 253.24it/s]"
     ]
    },
    {
     "name": "stderr",
     "output_type": "stream",
     "text": [
      "\r",
      " 27%|██▋       | 154/576 [00:00<00:01, 246.46it/s]"
     ]
    },
    {
     "name": "stderr",
     "output_type": "stream",
     "text": [
      "\r",
      " 31%|███       | 179/576 [00:00<00:01, 246.99it/s]"
     ]
    },
    {
     "name": "stderr",
     "output_type": "stream",
     "text": [
      "\r",
      " 36%|███▋      | 210/576 [00:00<00:01, 262.57it/s]"
     ]
    },
    {
     "name": "stderr",
     "output_type": "stream",
     "text": [
      "\r",
      " 41%|████▏     | 239/576 [00:00<00:01, 270.16it/s]"
     ]
    },
    {
     "name": "stderr",
     "output_type": "stream",
     "text": [
      "\r",
      " 46%|████▌     | 266/576 [00:01<00:01, 257.59it/s]"
     ]
    },
    {
     "name": "stderr",
     "output_type": "stream",
     "text": [
      "\r",
      " 51%|█████     | 292/576 [00:01<00:01, 248.91it/s]"
     ]
    },
    {
     "name": "stderr",
     "output_type": "stream",
     "text": [
      "\r",
      " 55%|█████▌    | 317/576 [00:01<00:01, 221.72it/s]"
     ]
    },
    {
     "name": "stderr",
     "output_type": "stream",
     "text": [
      "\r",
      " 59%|█████▉    | 340/576 [00:01<00:01, 201.19it/s]"
     ]
    },
    {
     "name": "stderr",
     "output_type": "stream",
     "text": [
      "\r",
      " 63%|██████▎   | 361/576 [00:01<00:01, 181.96it/s]"
     ]
    },
    {
     "name": "stderr",
     "output_type": "stream",
     "text": [
      "\r",
      " 66%|██████▌   | 380/576 [00:01<00:01, 169.77it/s]"
     ]
    },
    {
     "name": "stderr",
     "output_type": "stream",
     "text": [
      "\r",
      " 69%|██████▉   | 400/576 [00:01<00:01, 174.75it/s]"
     ]
    },
    {
     "name": "stderr",
     "output_type": "stream",
     "text": [
      "\r",
      " 73%|███████▎  | 421/576 [00:01<00:00, 182.67it/s]"
     ]
    },
    {
     "name": "stderr",
     "output_type": "stream",
     "text": [
      "\r",
      " 76%|███████▋  | 440/576 [00:02<00:00, 177.18it/s]"
     ]
    },
    {
     "name": "stderr",
     "output_type": "stream",
     "text": [
      "\r",
      " 80%|███████▉  | 459/576 [00:02<00:00, 164.44it/s]"
     ]
    },
    {
     "name": "stderr",
     "output_type": "stream",
     "text": [
      "\r",
      " 83%|████████▎ | 476/576 [00:02<00:00, 153.29it/s]"
     ]
    },
    {
     "name": "stderr",
     "output_type": "stream",
     "text": [
      "\r",
      " 86%|████████▋ | 497/576 [00:02<00:00, 166.63it/s]"
     ]
    },
    {
     "name": "stderr",
     "output_type": "stream",
     "text": [
      "\r",
      " 92%|█████████▏| 528/576 [00:02<00:00, 193.17it/s]"
     ]
    },
    {
     "name": "stderr",
     "output_type": "stream",
     "text": [
      "\r",
      " 99%|█████████▉| 570/576 [00:02<00:00, 230.23it/s]"
     ]
    },
    {
     "name": "stderr",
     "output_type": "stream",
     "text": [
      "\r",
      "100%|██████████| 576/576 [00:02<00:00, 219.68it/s]"
     ]
    },
    {
     "name": "stderr",
     "output_type": "stream",
     "text": [
      "\n"
     ]
    }
   ],
   "source": [
    "res = []\n",
    "for extant1, extant2 in tqdm([*it.product(root.leaves, root.leaves)]):\n",
    "    if extant1 != extant2:\n",
    "        bounds = extant1.hstrat_column.CalcRankOfMrcaBoundsWith(extant2.hstrat_column)\n",
    "        for impl in extant1.hstrat_column:\n",
    "            res.append({\n",
    "                'Column Configuration' \\\n",
    "                    : impl,\n",
    "                'Differentia Bit Width' \\\n",
    "                    : kn.unpack(impl)['differentia'],\n",
    "                'Stratum Retention Policy' \\\n",
    "                    : kn.unpack(impl)['policy'],\n",
    "                'Stratum Retention Policy Resolution Parameter' \\\n",
    "                    : kn.unpack(impl)['resolution'],\n",
    "                'Stratigraphic Column Actual Retained Bits' \\\n",
    "                    : kn.unpack(impl)['actual_bits'],\n",
    "                'Stratigraphic Column Target Retained Bits' \\\n",
    "                    : kn.unpack(impl)['target_bits'],\n",
    "                'Stratigraphic Column Retained Bits Error' \\\n",
    "                    : kn.unpack(impl)['bits_error'],\n",
    "                'Stratigraphic Column Actual Num Retained Strata' \\\n",
    "                    : kn.unpack(impl)['actual_strata'],\n",
    "                'Taxon Compared From' \\\n",
    "                    : extant1.id,\n",
    "                'Taxon Compared To' \\\n",
    "                    : extant2.id,\n",
    "                'Generation of Taxon Compared From' \\\n",
    "                    : extant1.hstrat_column.GetNumStrataDeposited(),\n",
    "                'Generation of Taxon Compared To' \\\n",
    "                    : extant2.hstrat_column.GetNumStrataDeposited(),\n",
    "                'Generation Of MRCA Lower Bound (inclusive)' \\\n",
    "                    : opyt.apply_if(\n",
    "                        bounds[impl],\n",
    "                        lambda x: x[0],\n",
    "                    ),\n",
    "                'Generation Of MRCA Upper Bound (exclusive)' \\\n",
    "                    : opyt.apply_if(\n",
    "                        bounds[impl],\n",
    "                        lambda x: x[1],\n",
    "                    ),\n",
    "                'MRCA Bound Confidence' \\\n",
    "                    : extant1.hstrat_column[impl].CalcRankOfMrcaBoundsWithProvidedConfidenceLevel(),\n",
    "                'Rank of Earliest Detectable Mrca With' \\\n",
    "                    : extant1.hstrat_column[impl].CalcRankOfEarliestDetectableMrcaWith(extant2.hstrat_column[impl]),\n",
    "            })\n",
    "\n",
    "res_df = pd.DataFrame.from_records(res)\n"
   ]
  },
  {
   "cell_type": "code",
   "execution_count": 19,
   "id": "60001c36",
   "metadata": {
    "execution": {
     "iopub.execute_input": "2022-03-06T06:19:32.279053Z",
     "iopub.status.busy": "2022-03-06T06:19:32.278679Z",
     "iopub.status.idle": "2022-03-06T06:19:32.301511Z",
     "shell.execute_reply": "2022-03-06T06:19:32.300869Z"
    },
    "papermill": {
     "duration": 0.052361,
     "end_time": "2022-03-06T06:19:32.303086",
     "exception": false,
     "start_time": "2022-03-06T06:19:32.250725",
     "status": "completed"
    },
    "tags": []
   },
   "outputs": [
    {
     "data": {
      "text/html": [
       "<div>\n",
       "<style scoped>\n",
       "    .dataframe tbody tr th:only-of-type {\n",
       "        vertical-align: middle;\n",
       "    }\n",
       "\n",
       "    .dataframe tbody tr th {\n",
       "        vertical-align: top;\n",
       "    }\n",
       "\n",
       "    .dataframe thead th {\n",
       "        text-align: right;\n",
       "    }\n",
       "</style>\n",
       "<table border=\"1\" class=\"dataframe\">\n",
       "  <thead>\n",
       "    <tr style=\"text-align: right;\">\n",
       "      <th></th>\n",
       "      <th>Column Configuration</th>\n",
       "      <th>Differentia Bit Width</th>\n",
       "      <th>Stratum Retention Policy</th>\n",
       "      <th>Stratum Retention Policy Resolution Parameter</th>\n",
       "      <th>Stratigraphic Column Actual Retained Bits</th>\n",
       "      <th>Stratigraphic Column Target Retained Bits</th>\n",
       "      <th>Stratigraphic Column Retained Bits Error</th>\n",
       "      <th>Stratigraphic Column Actual Num Retained Strata</th>\n",
       "      <th>Taxon Compared From</th>\n",
       "      <th>Taxon Compared To</th>\n",
       "      <th>Generation of Taxon Compared From</th>\n",
       "      <th>Generation of Taxon Compared To</th>\n",
       "      <th>Generation Of MRCA Lower Bound (inclusive)</th>\n",
       "      <th>Generation Of MRCA Upper Bound (exclusive)</th>\n",
       "      <th>MRCA Bound Confidence</th>\n",
       "      <th>Rank of Earliest Detectable Mrca With</th>\n",
       "    </tr>\n",
       "  </thead>\n",
       "  <tbody>\n",
       "    <tr>\n",
       "      <th>0</th>\n",
       "      <td>actual_bits=59+actual_strata=59+bits_error=-5+...</td>\n",
       "      <td>1</td>\n",
       "      <td>TaperedDepthProportionalResolution</td>\n",
       "      <td>59</td>\n",
       "      <td>59</td>\n",
       "      <td>64</td>\n",
       "      <td>-5</td>\n",
       "      <td>59</td>\n",
       "      <td>4737</td>\n",
       "      <td>4733</td>\n",
       "      <td>501</td>\n",
       "      <td>501</td>\n",
       "      <td>460.0</td>\n",
       "      <td>480.0</td>\n",
       "      <td>0.968750</td>\n",
       "      <td>32</td>\n",
       "    </tr>\n",
       "    <tr>\n",
       "      <th>1</th>\n",
       "      <td>actual_bits=56+actual_strata=7+bits_error=-8+d...</td>\n",
       "      <td>8</td>\n",
       "      <td>TaperedDepthProportionalResolution</td>\n",
       "      <td>3</td>\n",
       "      <td>56</td>\n",
       "      <td>64</td>\n",
       "      <td>-8</td>\n",
       "      <td>7</td>\n",
       "      <td>4737</td>\n",
       "      <td>4733</td>\n",
       "      <td>501</td>\n",
       "      <td>501</td>\n",
       "      <td>448.0</td>\n",
       "      <td>500.0</td>\n",
       "      <td>0.996094</td>\n",
       "      <td>0</td>\n",
       "    </tr>\n",
       "    <tr>\n",
       "      <th>2</th>\n",
       "      <td>actual_bits=192+actual_strata=3+bits_error=128...</td>\n",
       "      <td>64</td>\n",
       "      <td>TaperedDepthProportionalResolution</td>\n",
       "      <td>1</td>\n",
       "      <td>192</td>\n",
       "      <td>64</td>\n",
       "      <td>128</td>\n",
       "      <td>3</td>\n",
       "      <td>4737</td>\n",
       "      <td>4733</td>\n",
       "      <td>501</td>\n",
       "      <td>501</td>\n",
       "      <td>256.0</td>\n",
       "      <td>500.0</td>\n",
       "      <td>1.000000</td>\n",
       "      <td>0</td>\n",
       "    </tr>\n",
       "    <tr>\n",
       "      <th>3</th>\n",
       "      <td>actual_bits=59+actual_strata=59+bits_error=-45...</td>\n",
       "      <td>1</td>\n",
       "      <td>TaperedDepthProportionalResolution</td>\n",
       "      <td>59</td>\n",
       "      <td>59</td>\n",
       "      <td>512</td>\n",
       "      <td>-453</td>\n",
       "      <td>59</td>\n",
       "      <td>4737</td>\n",
       "      <td>4733</td>\n",
       "      <td>501</td>\n",
       "      <td>501</td>\n",
       "      <td>460.0</td>\n",
       "      <td>480.0</td>\n",
       "      <td>0.968750</td>\n",
       "      <td>32</td>\n",
       "    </tr>\n",
       "    <tr>\n",
       "      <th>4</th>\n",
       "      <td>actual_bits=472+actual_strata=59+bits_error=-4...</td>\n",
       "      <td>8</td>\n",
       "      <td>TaperedDepthProportionalResolution</td>\n",
       "      <td>59</td>\n",
       "      <td>472</td>\n",
       "      <td>512</td>\n",
       "      <td>-40</td>\n",
       "      <td>59</td>\n",
       "      <td>4737</td>\n",
       "      <td>4733</td>\n",
       "      <td>501</td>\n",
       "      <td>501</td>\n",
       "      <td>476.0</td>\n",
       "      <td>480.0</td>\n",
       "      <td>0.996094</td>\n",
       "      <td>0</td>\n",
       "    </tr>\n",
       "    <tr>\n",
       "      <th>...</th>\n",
       "      <td>...</td>\n",
       "      <td>...</td>\n",
       "      <td>...</td>\n",
       "      <td>...</td>\n",
       "      <td>...</td>\n",
       "      <td>...</td>\n",
       "      <td>...</td>\n",
       "      <td>...</td>\n",
       "      <td>...</td>\n",
       "      <td>...</td>\n",
       "      <td>...</td>\n",
       "      <td>...</td>\n",
       "      <td>...</td>\n",
       "      <td>...</td>\n",
       "      <td>...</td>\n",
       "      <td>...</td>\n",
       "    </tr>\n",
       "    <tr>\n",
       "      <th>9931</th>\n",
       "      <td>actual_bits=472+actual_strata=59+bits_error=-4...</td>\n",
       "      <td>8</td>\n",
       "      <td>RecencyProportionalResolution</td>\n",
       "      <td>59</td>\n",
       "      <td>472</td>\n",
       "      <td>512</td>\n",
       "      <td>-40</td>\n",
       "      <td>59</td>\n",
       "      <td>4595</td>\n",
       "      <td>4738</td>\n",
       "      <td>486</td>\n",
       "      <td>501</td>\n",
       "      <td>480.0</td>\n",
       "      <td>481.0</td>\n",
       "      <td>0.996094</td>\n",
       "      <td>0</td>\n",
       "    </tr>\n",
       "    <tr>\n",
       "      <th>9932</th>\n",
       "      <td>actual_bits=320+actual_strata=5+bits_error=-19...</td>\n",
       "      <td>64</td>\n",
       "      <td>RecencyProportionalResolution</td>\n",
       "      <td>0</td>\n",
       "      <td>320</td>\n",
       "      <td>512</td>\n",
       "      <td>-192</td>\n",
       "      <td>5</td>\n",
       "      <td>4595</td>\n",
       "      <td>4738</td>\n",
       "      <td>486</td>\n",
       "      <td>501</td>\n",
       "      <td>480.0</td>\n",
       "      <td>486.0</td>\n",
       "      <td>1.000000</td>\n",
       "      <td>0</td>\n",
       "    </tr>\n",
       "    <tr>\n",
       "      <th>9933</th>\n",
       "      <td>actual_bits=59+actual_strata=59+bits_error=-96...</td>\n",
       "      <td>1</td>\n",
       "      <td>RecencyProportionalResolution</td>\n",
       "      <td>59</td>\n",
       "      <td>59</td>\n",
       "      <td>1024</td>\n",
       "      <td>-965</td>\n",
       "      <td>59</td>\n",
       "      <td>4595</td>\n",
       "      <td>4738</td>\n",
       "      <td>486</td>\n",
       "      <td>501</td>\n",
       "      <td>476.0</td>\n",
       "      <td>481.0</td>\n",
       "      <td>0.968750</td>\n",
       "      <td>28</td>\n",
       "    </tr>\n",
       "    <tr>\n",
       "      <th>9934</th>\n",
       "      <td>actual_bits=472+actual_strata=59+bits_error=-5...</td>\n",
       "      <td>8</td>\n",
       "      <td>RecencyProportionalResolution</td>\n",
       "      <td>59</td>\n",
       "      <td>472</td>\n",
       "      <td>1024</td>\n",
       "      <td>-552</td>\n",
       "      <td>59</td>\n",
       "      <td>4595</td>\n",
       "      <td>4738</td>\n",
       "      <td>486</td>\n",
       "      <td>501</td>\n",
       "      <td>480.0</td>\n",
       "      <td>481.0</td>\n",
       "      <td>0.996094</td>\n",
       "      <td>0</td>\n",
       "    </tr>\n",
       "    <tr>\n",
       "      <th>9935</th>\n",
       "      <td>actual_bits=896+actual_strata=14+bits_error=-1...</td>\n",
       "      <td>64</td>\n",
       "      <td>RecencyProportionalResolution</td>\n",
       "      <td>2</td>\n",
       "      <td>896</td>\n",
       "      <td>1024</td>\n",
       "      <td>-128</td>\n",
       "      <td>14</td>\n",
       "      <td>4595</td>\n",
       "      <td>4738</td>\n",
       "      <td>486</td>\n",
       "      <td>501</td>\n",
       "      <td>480.0</td>\n",
       "      <td>484.0</td>\n",
       "      <td>1.000000</td>\n",
       "      <td>0</td>\n",
       "    </tr>\n",
       "  </tbody>\n",
       "</table>\n",
       "<p>9936 rows × 16 columns</p>\n",
       "</div>"
      ],
      "text/plain": [
       "                                   Column Configuration Differentia Bit Width  \\\n",
       "0     actual_bits=59+actual_strata=59+bits_error=-5+...                     1   \n",
       "1     actual_bits=56+actual_strata=7+bits_error=-8+d...                     8   \n",
       "2     actual_bits=192+actual_strata=3+bits_error=128...                    64   \n",
       "3     actual_bits=59+actual_strata=59+bits_error=-45...                     1   \n",
       "4     actual_bits=472+actual_strata=59+bits_error=-4...                     8   \n",
       "...                                                 ...                   ...   \n",
       "9931  actual_bits=472+actual_strata=59+bits_error=-4...                     8   \n",
       "9932  actual_bits=320+actual_strata=5+bits_error=-19...                    64   \n",
       "9933  actual_bits=59+actual_strata=59+bits_error=-96...                     1   \n",
       "9934  actual_bits=472+actual_strata=59+bits_error=-5...                     8   \n",
       "9935  actual_bits=896+actual_strata=14+bits_error=-1...                    64   \n",
       "\n",
       "                Stratum Retention Policy  \\\n",
       "0     TaperedDepthProportionalResolution   \n",
       "1     TaperedDepthProportionalResolution   \n",
       "2     TaperedDepthProportionalResolution   \n",
       "3     TaperedDepthProportionalResolution   \n",
       "4     TaperedDepthProportionalResolution   \n",
       "...                                  ...   \n",
       "9931       RecencyProportionalResolution   \n",
       "9932       RecencyProportionalResolution   \n",
       "9933       RecencyProportionalResolution   \n",
       "9934       RecencyProportionalResolution   \n",
       "9935       RecencyProportionalResolution   \n",
       "\n",
       "     Stratum Retention Policy Resolution Parameter  \\\n",
       "0                                               59   \n",
       "1                                                3   \n",
       "2                                                1   \n",
       "3                                               59   \n",
       "4                                               59   \n",
       "...                                            ...   \n",
       "9931                                            59   \n",
       "9932                                             0   \n",
       "9933                                            59   \n",
       "9934                                            59   \n",
       "9935                                             2   \n",
       "\n",
       "     Stratigraphic Column Actual Retained Bits  \\\n",
       "0                                           59   \n",
       "1                                           56   \n",
       "2                                          192   \n",
       "3                                           59   \n",
       "4                                          472   \n",
       "...                                        ...   \n",
       "9931                                       472   \n",
       "9932                                       320   \n",
       "9933                                        59   \n",
       "9934                                       472   \n",
       "9935                                       896   \n",
       "\n",
       "     Stratigraphic Column Target Retained Bits  \\\n",
       "0                                           64   \n",
       "1                                           64   \n",
       "2                                           64   \n",
       "3                                          512   \n",
       "4                                          512   \n",
       "...                                        ...   \n",
       "9931                                       512   \n",
       "9932                                       512   \n",
       "9933                                      1024   \n",
       "9934                                      1024   \n",
       "9935                                      1024   \n",
       "\n",
       "     Stratigraphic Column Retained Bits Error  \\\n",
       "0                                          -5   \n",
       "1                                          -8   \n",
       "2                                         128   \n",
       "3                                        -453   \n",
       "4                                         -40   \n",
       "...                                       ...   \n",
       "9931                                      -40   \n",
       "9932                                     -192   \n",
       "9933                                     -965   \n",
       "9934                                     -552   \n",
       "9935                                     -128   \n",
       "\n",
       "     Stratigraphic Column Actual Num Retained Strata  Taxon Compared From  \\\n",
       "0                                                 59                 4737   \n",
       "1                                                  7                 4737   \n",
       "2                                                  3                 4737   \n",
       "3                                                 59                 4737   \n",
       "4                                                 59                 4737   \n",
       "...                                              ...                  ...   \n",
       "9931                                              59                 4595   \n",
       "9932                                               5                 4595   \n",
       "9933                                              59                 4595   \n",
       "9934                                              59                 4595   \n",
       "9935                                              14                 4595   \n",
       "\n",
       "      Taxon Compared To  Generation of Taxon Compared From  \\\n",
       "0                  4733                                501   \n",
       "1                  4733                                501   \n",
       "2                  4733                                501   \n",
       "3                  4733                                501   \n",
       "4                  4733                                501   \n",
       "...                 ...                                ...   \n",
       "9931               4738                                486   \n",
       "9932               4738                                486   \n",
       "9933               4738                                486   \n",
       "9934               4738                                486   \n",
       "9935               4738                                486   \n",
       "\n",
       "      Generation of Taxon Compared To  \\\n",
       "0                                 501   \n",
       "1                                 501   \n",
       "2                                 501   \n",
       "3                                 501   \n",
       "4                                 501   \n",
       "...                               ...   \n",
       "9931                              501   \n",
       "9932                              501   \n",
       "9933                              501   \n",
       "9934                              501   \n",
       "9935                              501   \n",
       "\n",
       "      Generation Of MRCA Lower Bound (inclusive)  \\\n",
       "0                                          460.0   \n",
       "1                                          448.0   \n",
       "2                                          256.0   \n",
       "3                                          460.0   \n",
       "4                                          476.0   \n",
       "...                                          ...   \n",
       "9931                                       480.0   \n",
       "9932                                       480.0   \n",
       "9933                                       476.0   \n",
       "9934                                       480.0   \n",
       "9935                                       480.0   \n",
       "\n",
       "      Generation Of MRCA Upper Bound (exclusive)  MRCA Bound Confidence  \\\n",
       "0                                          480.0               0.968750   \n",
       "1                                          500.0               0.996094   \n",
       "2                                          500.0               1.000000   \n",
       "3                                          480.0               0.968750   \n",
       "4                                          480.0               0.996094   \n",
       "...                                          ...                    ...   \n",
       "9931                                       481.0               0.996094   \n",
       "9932                                       486.0               1.000000   \n",
       "9933                                       481.0               0.968750   \n",
       "9934                                       481.0               0.996094   \n",
       "9935                                       484.0               1.000000   \n",
       "\n",
       "      Rank of Earliest Detectable Mrca With  \n",
       "0                                        32  \n",
       "1                                         0  \n",
       "2                                         0  \n",
       "3                                        32  \n",
       "4                                         0  \n",
       "...                                     ...  \n",
       "9931                                      0  \n",
       "9932                                      0  \n",
       "9933                                     28  \n",
       "9934                                      0  \n",
       "9935                                      0  \n",
       "\n",
       "[9936 rows x 16 columns]"
      ]
     },
     "execution_count": 19,
     "metadata": {},
     "output_type": "execute_result"
    }
   ],
   "source": [
    "res_df\n"
   ]
  },
  {
   "cell_type": "code",
   "execution_count": 20,
   "id": "ac829160",
   "metadata": {
    "execution": {
     "iopub.execute_input": "2022-03-06T06:19:32.358239Z",
     "iopub.status.busy": "2022-03-06T06:19:32.357875Z",
     "iopub.status.idle": "2022-03-06T06:19:32.554659Z",
     "shell.execute_reply": "2022-03-06T06:19:32.553660Z"
    },
    "papermill": {
     "duration": 0.226097,
     "end_time": "2022-03-06T06:19:32.556552",
     "exception": false,
     "start_time": "2022-03-06T06:19:32.330455",
     "status": "completed"
    },
    "tags": []
   },
   "outputs": [
    {
     "name": "stdout",
     "output_type": "stream",
     "text": [
      "digest: e6697cce570a5f2195fa0045077882142a8ec691f9c2dbaf10acc7411233b7c3\n",
      "manifest:\n",
      "  Column Configuration: '                            18#         ex., actual_bits=59+actual_strata=59+bits_error=-5+differentia=1+policy=TaperedDepthProportionalResolution+resolution=59+target_bits=64'\n",
      "  Differentia Bit Width: '                           3#          ex., 1'\n",
      "  Generation Of MRCA Lower Bound (inclusive): '      71#,1964na  ex., 460.0'\n",
      "  Generation Of MRCA Upper Bound (exclusive): '      61#,1964na  ex., 480.0'\n",
      "  Generation of Taxon Compared From: '               10#         ex., 501'\n",
      "  Generation of Taxon Compared To: '                 10#         ex., 501'\n",
      "  MRCA Bound Confidence: '                           3#          ex., 0.96875'\n",
      "  Rank of Earliest Detectable Mrca With: '           5#          ex., 32'\n",
      "  Stratigraphic Column Actual Num Retained Strata: ' 6#          ex., 59'\n",
      "  Stratigraphic Column Actual Retained Bits: '       9#          ex., 59'\n",
      "  Stratigraphic Column Retained Bits Error: '        13#         ex., -5'\n",
      "  Stratigraphic Column Target Retained Bits: '       3#          ex., 64'\n",
      "  Stratum Retention Policy: '                        2#          ex., TaperedDepthProportionalResolution'\n",
      "  Stratum Retention Policy Resolution Parameter: '   6#          ex., 59'\n",
      "  Taxon Compared From: '                             24#         ex., 4737'\n",
      "  Taxon Compared To: '                               24#         ex., 4733'\n",
      "num cols: 16\n",
      "num cols all na: 0\n",
      "num cols any na: 2\n",
      "num na: 3928\n",
      "num rows: 9936\n",
      "num rows all na: 0\n",
      "num rows any na: 1964\n",
      "size: 6M\n",
      "\n"
     ]
    }
   ],
   "source": [
    "nbm.print_dataframe_synopsis(res_df)\n"
   ]
  },
  {
   "cell_type": "markdown",
   "id": "8ab6cd6e",
   "metadata": {
    "papermill": {
     "duration": 0.027657,
     "end_time": "2022-03-06T06:19:32.613078",
     "exception": false,
     "start_time": "2022-03-06T06:19:32.585421",
     "status": "completed"
    },
    "tags": []
   },
   "source": [
    "# Save Pairwise MRCA Estimates to File\n"
   ]
  },
  {
   "cell_type": "code",
   "execution_count": 21,
   "id": "37fad8ea",
   "metadata": {
    "execution": {
     "iopub.execute_input": "2022-03-06T06:19:32.672841Z",
     "iopub.status.busy": "2022-03-06T06:19:32.672465Z",
     "iopub.status.idle": "2022-03-06T06:19:32.821610Z",
     "shell.execute_reply": "2022-03-06T06:19:32.820476Z"
    },
    "papermill": {
     "duration": 0.181804,
     "end_time": "2022-03-06T06:19:32.823804",
     "exception": false,
     "start_time": "2022-03-06T06:19:32.642000",
     "status": "completed"
    },
    "tags": []
   },
   "outputs": [],
   "source": [
    "res_df.to_csv(\n",
    "    f'a=pairwise_mrca_estimates+source={data_filename}.gz',\n",
    "    compression='gzip',\n",
    ")\n"
   ]
  }
 ],
 "metadata": {
  "kernelspec": {
   "display_name": "Python 3",
   "language": "python",
   "name": "python3"
  },
  "language_info": {
   "codemirror_mode": {
    "name": "ipython",
    "version": 3
   },
   "file_extension": ".py",
   "mimetype": "text/x-python",
   "name": "python",
   "nbconvert_exporter": "python",
   "pygments_lexer": "ipython3",
   "version": "3.8.10"
  },
  "papermill": {
   "default_parameters": {},
   "duration": null,
   "end_time": null,
   "environment_variables": {},
   "exception": null,
   "input_path": "/opt/hereditary-stratigraph-concept/binder/phylogenetic-inference/phylogeny_simulation_mill.ipynb",
   "output_path": "executing.endomill.ipynb",
   "parameters": {
    "data_url": "https://osf.io/8ycq7/"
   },
   "start_time": "2022-03-06T06:19:24.438058",
   "version": "2.3.4"
  }
 },
 "nbformat": 4,
 "nbformat_minor": 5
}