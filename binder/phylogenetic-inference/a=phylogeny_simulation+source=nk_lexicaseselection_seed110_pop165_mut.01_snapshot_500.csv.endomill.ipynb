{
 "cells": [
  {
   "cell_type": "code",
   "execution_count": 1,
   "id": "444cf71a",
   "metadata": {
    "execution": {
     "iopub.execute_input": "2022-12-13T12:41:00.080963Z",
     "iopub.status.busy": "2022-12-13T12:41:00.080657Z",
     "iopub.status.idle": "2022-12-13T12:41:00.961146Z",
     "shell.execute_reply": "2022-12-13T12:41:00.960392Z"
    },
    "papermill": {
     "duration": 0.904855,
     "end_time": "2022-12-13T12:41:00.963445",
     "exception": false,
     "start_time": "2022-12-13T12:41:00.058590",
     "status": "completed"
    },
    "tags": []
   },
   "outputs": [],
   "source": [
    "import endomill\n",
    "from nbmetalog import nbmetalog as nbm\n"
   ]
  },
  {
   "cell_type": "code",
   "execution_count": 2,
   "id": "c9a212bd",
   "metadata": {
    "execution": {
     "iopub.execute_input": "2022-12-13T12:41:01.003561Z",
     "iopub.status.busy": "2022-12-13T12:41:01.003303Z",
     "iopub.status.idle": "2022-12-13T12:41:01.375020Z",
     "shell.execute_reply": "2022-12-13T12:41:01.374132Z"
    },
    "papermill": {
     "duration": 0.393411,
     "end_time": "2022-12-13T12:41:01.376672",
     "exception": false,
     "start_time": "2022-12-13T12:41:00.983261",
     "status": "completed"
    },
    "tags": []
   },
   "outputs": [
    {
     "name": "stdout",
     "output_type": "stream",
     "text": [
      "context: ci\n",
      "hostname: 335ee079bf9b\n",
      "interpreter: 3.8.12 (default, Jan 15 2022, 18:39:47)  [GCC 7.5.0]\n",
      "nbcellexec: 2\n",
      "nbname: phylogeny_simulation_mill\n",
      "nbpath: /opt/hereditary-stratigraph-concept/binder/phylogenetic-inference/phylogeny_simulation_mill.ipynb\n",
      "revision: null\n",
      "session: 232cc8e7-fb32-4b17-b9a0-239c67dca607\n",
      "timestamp: 2022-12-13T12:41:01Z00:00\n",
      "\n",
      "\n"
     ]
    },
    {
     "name": "stdout",
     "output_type": "stream",
     "text": [
      "IPython==7.16.1\n",
      "keyname==0.4.1\n",
      "yaml==5.3.1\n",
      "endomill==0.1.3\n",
      "nbmetalog==0.2.6\n",
      "re==2.2.1\n",
      "ipython_genutils==0.2.0\n",
      "logging==0.5.1.2\n",
      "zmq==22.3.0\n",
      "json==2.0.9\n",
      "ipykernel==5.5.3\n"
     ]
    }
   ],
   "source": [
    "nbm.print_metadata()\n"
   ]
  },
  {
   "cell_type": "code",
   "execution_count": 3,
   "id": "0b7c3e55",
   "metadata": {
    "execution": {
     "iopub.execute_input": "2022-12-13T12:41:01.415550Z",
     "iopub.status.busy": "2022-12-13T12:41:01.414797Z",
     "iopub.status.idle": "2022-12-13T12:41:01.421882Z",
     "shell.execute_reply": "2022-12-13T12:41:01.421385Z"
    },
    "papermill": {
     "duration": 0.028487,
     "end_time": "2022-12-13T12:41:01.423511",
     "exception": false,
     "start_time": "2022-12-13T12:41:01.395024",
     "status": "completed"
    },
    "tags": []
   },
   "outputs": [
    {
     "name": "stdout",
     "output_type": "stream",
     "text": [
      "detected executing.endomill.ipynb file\n",
      "skipping instantiate_over\n"
     ]
    }
   ],
   "source": [
    "endomill.instantiate_over(\n",
    "    parameter_packs=[\n",
    "        {\n",
    "            'data_url': data_url,\n",
    "            'data_filename': data_filename,\n",
    "        }\n",
    "        for data_filename, data_url in [\n",
    "            (\n",
    "                'nk_ecoeaselection_seed110_pop100_mut.01_snapshot_3000.csv',\n",
    "                'https://osf.io/5d3be/',\n",
    "            ),\n",
    "            (\n",
    "                'nk_lexicaseselection_seed110_pop165_mut.01_snapshot_500.csv',\n",
    "                'https://osf.io/8ycq7/',\n",
    "            ),\n",
    "            (\n",
    "                'nk_randomselection_seed7_pop100_mut.01_snapshot_5000.csv',\n",
    "                'https://osf.io/ydxt7/',\n",
    "            ),\n",
    "            (\n",
    "                'nk_sharingselection_seed10_pop100_mut.01_snapshot_5000.csv',\n",
    "                'https://osf.io/cz9fk/',\n",
    "            ),\n",
    "            (\n",
    "                'nk_tournamentselection_seed140_pop100_mut.01_snapshot_5000.csv',\n",
    "                'https://osf.io/5ubn8/',\n",
    "            )\n",
    "        ]\n",
    "    ],\n",
    ")\n"
   ]
  },
  {
   "cell_type": "code",
   "execution_count": 4,
   "id": "24f804c4",
   "metadata": {
    "execution": {
     "iopub.execute_input": "2022-12-13T12:41:01.464244Z",
     "iopub.status.busy": "2022-12-13T12:41:01.462991Z",
     "iopub.status.idle": "2022-12-13T12:41:01.468895Z",
     "shell.execute_reply": "2022-12-13T12:41:01.467370Z"
    },
    "papermill": {
     "duration": 0.02866,
     "end_time": "2022-12-13T12:41:01.470597",
     "exception": false,
     "start_time": "2022-12-13T12:41:01.441937",
     "status": "completed"
    },
    "tags": [
     "parameters"
    ]
   },
   "outputs": [],
   "source": [
    "# define papermill parameters\n",
    "data_url: str\n",
    "data_filename: str\n"
   ]
  },
  {
   "cell_type": "code",
   "execution_count": 5,
   "id": "fe8ebe41",
   "metadata": {
    "execution": {
     "iopub.execute_input": "2022-12-13T12:41:01.512188Z",
     "iopub.status.busy": "2022-12-13T12:41:01.511655Z",
     "iopub.status.idle": "2022-12-13T12:41:01.515268Z",
     "shell.execute_reply": "2022-12-13T12:41:01.514499Z"
    },
    "papermill": {
     "duration": 0.027883,
     "end_time": "2022-12-13T12:41:01.516942",
     "exception": false,
     "start_time": "2022-12-13T12:41:01.489059",
     "status": "completed"
    },
    "tags": [
     "injected-parameters"
    ]
   },
   "outputs": [],
   "source": [
    "# Parameters\n",
    "data_url = \"https://osf.io/8ycq7/\"\n",
    "data_filename = \"nk_lexicaseselection_seed110_pop165_mut.01_snapshot_500.csv\"\n"
   ]
  },
  {
   "cell_type": "code",
   "execution_count": 6,
   "id": "3f8fad7c",
   "metadata": {
    "execution": {
     "iopub.execute_input": "2022-12-13T12:41:01.561698Z",
     "iopub.status.busy": "2022-12-13T12:41:01.561433Z",
     "iopub.status.idle": "2022-12-13T12:41:02.003526Z",
     "shell.execute_reply": "2022-12-13T12:41:02.002700Z"
    },
    "papermill": {
     "duration": 0.468911,
     "end_time": "2022-12-13T12:41:02.006647",
     "exception": false,
     "start_time": "2022-12-13T12:41:01.537736",
     "status": "completed"
    },
    "tags": []
   },
   "outputs": [],
   "source": [
    "import anytree\n",
    "from bs4 import BeautifulSoup\n",
    "from collections import defaultdict\n",
    "from hstrat import hstrat\n",
    "from interval_search import doubling_search\n",
    "from iterpop import iterpop as ip\n",
    "import itertools as it\n",
    "from keyname import keyname as kn\n",
    "import numpy as np\n",
    "import opytional as opyt\n",
    "import pandas as pd\n",
    "import random\n",
    "import sys\n",
    "from tqdm import tqdm\n",
    "from urllib import request\n"
   ]
  },
  {
   "cell_type": "code",
   "execution_count": 7,
   "id": "b0e371a1",
   "metadata": {
    "execution": {
     "iopub.execute_input": "2022-12-13T12:41:02.048462Z",
     "iopub.status.busy": "2022-12-13T12:41:02.048130Z",
     "iopub.status.idle": "2022-12-13T12:41:02.052853Z",
     "shell.execute_reply": "2022-12-13T12:41:02.052187Z"
    },
    "papermill": {
     "duration": 0.027669,
     "end_time": "2022-12-13T12:41:02.054659",
     "exception": false,
     "start_time": "2022-12-13T12:41:02.026990",
     "status": "completed"
    },
    "tags": []
   },
   "outputs": [],
   "source": [
    "random.seed(1) # ensure reproducibility\n",
    "sys.setrecursionlimit(100000) # anytree exceeds default recursion limit on our data\n"
   ]
  },
  {
   "cell_type": "code",
   "execution_count": 8,
   "id": "8da668b0",
   "metadata": {
    "execution": {
     "iopub.execute_input": "2022-12-13T12:41:02.093739Z",
     "iopub.status.busy": "2022-12-13T12:41:02.093498Z",
     "iopub.status.idle": "2022-12-13T12:41:02.347304Z",
     "shell.execute_reply": "2022-12-13T12:41:02.346623Z"
    },
    "papermill": {
     "duration": 0.275565,
     "end_time": "2022-12-13T12:41:02.349130",
     "exception": false,
     "start_time": "2022-12-13T12:41:02.073565",
     "status": "completed"
    },
    "tags": []
   },
   "outputs": [
    {
     "name": "stdout",
     "output_type": "stream",
     "text": [
      "context: ci\n",
      "hostname: 335ee079bf9b\n",
      "interpreter: 3.8.12 (default, Jan 15 2022, 18:39:47)  [GCC 7.5.0]\n",
      "nbcellexec: 8\n",
      "nbname: phylogeny_simulation_mill\n",
      "nbpath: /opt/hereditary-stratigraph-concept/binder/phylogenetic-inference/phylogeny_simulation_mill.ipynb\n",
      "revision: null\n",
      "session: 232cc8e7-fb32-4b17-b9a0-239c67dca607\n",
      "timestamp: 2022-12-13T12:41:02Z00:00\n",
      "\n",
      "\n"
     ]
    },
    {
     "name": "stdout",
     "output_type": "stream",
     "text": [
      "IPython==7.16.1\n",
      "endomill==0.1.3\n",
      "ipykernel==5.5.3\n",
      "ipython_genutils==0.2.0\n",
      "json==2.0.9\n",
      "keyname==0.4.1\n",
      "logging==0.5.1.2\n",
      "nbmetalog==0.2.6\n",
      "re==2.2.1\n",
      "yaml==5.3.1\n",
      "zmq==22.3.0\n",
      "anytree==2.8.0\n",
      "hstrat==0.3.2\n",
      "iterpop==0.4.0\n",
      "numpy==1.21.5\n",
      "opytional==0.1.0\n",
      "pandas==1.1.2\n"
     ]
    }
   ],
   "source": [
    "from nbmetalog import nbmetalog as nbm\n",
    "nbm.print_metadata()\n"
   ]
  },
  {
   "cell_type": "code",
   "execution_count": 9,
   "id": "71cba633",
   "metadata": {
    "execution": {
     "iopub.execute_input": "2022-12-13T12:41:02.390004Z",
     "iopub.status.busy": "2022-12-13T12:41:02.389601Z",
     "iopub.status.idle": "2022-12-13T12:41:02.395687Z",
     "shell.execute_reply": "2022-12-13T12:41:02.395125Z"
    },
    "papermill": {
     "duration": 0.028855,
     "end_time": "2022-12-13T12:41:02.397257",
     "exception": false,
     "start_time": "2022-12-13T12:41:02.368402",
     "status": "completed"
    },
    "tags": []
   },
   "outputs": [],
   "source": [
    "endomill.add_instance_outpath(\n",
    "    f'a=phylogeny_simulation+source={data_filename}.endomill.ipynb',\n",
    ")\n"
   ]
  },
  {
   "cell_type": "markdown",
   "id": "2653e950",
   "metadata": {
    "papermill": {
     "duration": 0.019491,
     "end_time": "2022-12-13T12:41:02.435280",
     "exception": false,
     "start_time": "2022-12-13T12:41:02.415789",
     "status": "completed"
    },
    "tags": []
   },
   "source": [
    "# Retrieve Target Phylogeny from OSF\n"
   ]
  },
  {
   "cell_type": "code",
   "execution_count": 10,
   "id": "06299e34",
   "metadata": {
    "execution": {
     "iopub.execute_input": "2022-12-13T12:41:02.472215Z",
     "iopub.status.busy": "2022-12-13T12:41:02.471953Z",
     "iopub.status.idle": "2022-12-13T12:41:04.357601Z",
     "shell.execute_reply": "2022-12-13T12:41:04.356831Z"
    },
    "papermill": {
     "duration": 1.905422,
     "end_time": "2022-12-13T12:41:04.359248",
     "exception": false,
     "start_time": "2022-12-13T12:41:02.453826",
     "status": "completed"
    },
    "tags": []
   },
   "outputs": [
    {
     "name": "stdout",
     "output_type": "stream",
     "text": [
      "digest: 7bffa7d6c47b38c6b9dc45d5093196088d0d82dd210a18e110bc231e2aab7746\n",
      "manifest:\n",
      "  ancestor_list: '    210#  ex., [4727]'\n",
      "  depth: '            59#   ex., 37'\n",
      "  destruction_time: ' 159#  ex., inf'\n",
      "  id: '               233#  ex., 4737'\n",
      "  num_offspring: '    4#    ex., 0'\n",
      "  num_orgs: '         8#    ex., 1'\n",
      "  origin_time: '      176#  ex., 500'\n",
      "  phenotype: '        187#  ex., [ 0.78551 0.507546 0.298434 0.703895 0.70148 0.897296\n",
      "    0.852754 0.533489 0.975623 0.814646 0.0274892 0.45607 0.221636 0.767401 0.74891\n",
      "    0.860365 0.319087 0.293359 0.997853 0.770533 ]'\n",
      "  tot_orgs: '         111#  ex., 1'\n",
      "  total_offspring: '  15#   ex., 0'\n",
      "num cols: 10\n",
      "num cols all na: 0\n",
      "num cols any na: 0\n",
      "num na: 0\n",
      "num rows: 233\n",
      "num rows all na: 0\n",
      "num rows any na: 0\n",
      "size: 83K\n",
      "\n"
     ]
    }
   ],
   "source": [
    "target_phylogeny_df = pd.read_csv(\n",
    "    f'{data_url}/download',\n",
    ")\n",
    "\n",
    "nbm.print_dataframe_synopsis(target_phylogeny_df)\n"
   ]
  },
  {
   "cell_type": "markdown",
   "id": "c2ada97f",
   "metadata": {
    "papermill": {
     "duration": 0.021227,
     "end_time": "2022-12-13T12:41:04.401396",
     "exception": false,
     "start_time": "2022-12-13T12:41:04.380169",
     "status": "completed"
    },
    "tags": []
   },
   "source": [
    "# Create a Tree with Target Phylogeny Structure\n"
   ]
  },
  {
   "cell_type": "code",
   "execution_count": 11,
   "id": "fcc011bc",
   "metadata": {
    "execution": {
     "iopub.execute_input": "2022-12-13T12:41:04.443651Z",
     "iopub.status.busy": "2022-12-13T12:41:04.443337Z",
     "iopub.status.idle": "2022-12-13T12:41:04.484313Z",
     "shell.execute_reply": "2022-12-13T12:41:04.483571Z"
    },
    "papermill": {
     "duration": 0.064581,
     "end_time": "2022-12-13T12:41:04.486143",
     "exception": false,
     "start_time": "2022-12-13T12:41:04.421562",
     "status": "completed"
    },
    "tags": []
   },
   "outputs": [],
   "source": [
    "# map id to anytree node\n",
    "nodes = defaultdict(anytree.AnyNode)\n",
    "for __, row in target_phylogeny_df.iterrows():\n",
    "    node = nodes[row['id']]\n",
    "    node.id = row['id']\n",
    "    node.origin_time = row['origin_time']\n",
    "    if 'NONE' not in row['ancestor_list']:\n",
    "        ancestor_id = ip.popsingleton(\n",
    "            eval(row['ancestor_list'])\n",
    "        )\n",
    "        node.parent = nodes[ancestor_id]\n",
    "\n",
    "roots = {node.root for node in nodes.values()}\n"
   ]
  },
  {
   "cell_type": "code",
   "execution_count": 12,
   "id": "fbe4705a",
   "metadata": {
    "execution": {
     "iopub.execute_input": "2022-12-13T12:41:04.530752Z",
     "iopub.status.busy": "2022-12-13T12:41:04.530492Z",
     "iopub.status.idle": "2022-12-13T12:41:04.538080Z",
     "shell.execute_reply": "2022-12-13T12:41:04.537108Z"
    },
    "papermill": {
     "duration": 0.0326,
     "end_time": "2022-12-13T12:41:04.539809",
     "exception": false,
     "start_time": "2022-12-13T12:41:04.507209",
     "status": "completed"
    },
    "tags": []
   },
   "outputs": [
    {
     "data": {
      "text/plain": [
       "58"
      ]
     },
     "execution_count": 12,
     "metadata": {},
     "output_type": "execute_result"
    }
   ],
   "source": [
    "root = ip.popsingleton(roots)\n",
    "root.height\n"
   ]
  },
  {
   "cell_type": "code",
   "execution_count": 13,
   "id": "ee061a92",
   "metadata": {
    "execution": {
     "iopub.execute_input": "2022-12-13T12:41:04.584653Z",
     "iopub.status.busy": "2022-12-13T12:41:04.584391Z",
     "iopub.status.idle": "2022-12-13T12:41:04.590853Z",
     "shell.execute_reply": "2022-12-13T12:41:04.590332Z"
    },
    "papermill": {
     "duration": 0.031697,
     "end_time": "2022-12-13T12:41:04.592461",
     "exception": false,
     "start_time": "2022-12-13T12:41:04.560764",
     "status": "completed"
    },
    "tags": []
   },
   "outputs": [
    {
     "data": {
      "text/plain": [
       "500"
      ]
     },
     "execution_count": 13,
     "metadata": {},
     "output_type": "execute_result"
    }
   ],
   "source": [
    "max_origin_time = target_phylogeny_df['origin_time'].max()\n",
    "max_origin_time\n"
   ]
  },
  {
   "cell_type": "code",
   "execution_count": 14,
   "id": "8f8db3c0",
   "metadata": {
    "execution": {
     "iopub.execute_input": "2022-12-13T12:41:04.636931Z",
     "iopub.status.busy": "2022-12-13T12:41:04.636558Z",
     "iopub.status.idle": "2022-12-13T12:41:04.645497Z",
     "shell.execute_reply": "2022-12-13T12:41:04.644520Z"
    },
    "papermill": {
     "duration": 0.033273,
     "end_time": "2022-12-13T12:41:04.647328",
     "exception": false,
     "start_time": "2022-12-13T12:41:04.614055",
     "status": "completed"
    },
    "tags": []
   },
   "outputs": [
    {
     "data": {
      "text/plain": [
       "496.2916666666667"
      ]
     },
     "execution_count": 14,
     "metadata": {},
     "output_type": "execute_result"
    }
   ],
   "source": [
    "mean_leaf_origin_time = np.mean([\n",
    "    leaf.origin_time\n",
    "    for leaf in root.leaves\n",
    "])\n",
    "mean_leaf_origin_time\n"
   ]
  },
  {
   "cell_type": "markdown",
   "id": "8e6e4ac2",
   "metadata": {
    "papermill": {
     "duration": 0.022363,
     "end_time": "2022-12-13T12:41:04.691348",
     "exception": false,
     "start_time": "2022-12-13T12:41:04.668985",
     "status": "completed"
    },
    "tags": []
   },
   "source": [
    "# Pick Parameters for Hereditary Stratigraphic Columns\n"
   ]
  },
  {
   "cell_type": "code",
   "execution_count": 15,
   "id": "53609997",
   "metadata": {
    "execution": {
     "iopub.execute_input": "2022-12-13T12:41:04.734601Z",
     "iopub.status.busy": "2022-12-13T12:41:04.734155Z",
     "iopub.status.idle": "2022-12-13T12:41:04.743433Z",
     "shell.execute_reply": "2022-12-13T12:41:04.742900Z"
    },
    "papermill": {
     "duration": 0.031908,
     "end_time": "2022-12-13T12:41:04.744930",
     "exception": false,
     "start_time": "2022-12-13T12:41:04.713022",
     "status": "completed"
    },
    "tags": []
   },
   "outputs": [],
   "source": [
    "def make_conditions(num_generations: int) -> pd.DataFrame:\n",
    "    res = []\n",
    "    for condemner_factory, target_column_bits, differentia_bit_width in it.product(\n",
    "        [\n",
    "            hstrat.StratumRetentionCondemnerTaperedDepthProportionalResolution,\n",
    "            hstrat.StratumRetentionCondemnerRecencyProportionalResolution,\n",
    "        ],\n",
    "        [\n",
    "            64,\n",
    "            64 * 8,\n",
    "            64 * 64,\n",
    "        ],\n",
    "        [\n",
    "            1,\n",
    "            8,\n",
    "            64,\n",
    "        ],\n",
    "    ):\n",
    "        policy_param = doubling_search(\n",
    "            lambda x: \\\n",
    "                condemner_factory(x + 1).CalcNumStrataRetainedExact(num_generations)\n",
    "                * differentia_bit_width > target_column_bits or x >= num_generations,\n",
    "            {\n",
    "                hstrat.StratumRetentionCondemnerTaperedDepthProportionalResolution: 1,\n",
    "                hstrat.StratumRetentionCondemnerRecencyProportionalResolution: 0,\n",
    "            }[condemner_factory],\n",
    "        )\n",
    "\n",
    "        actual_column_strata = condemner_factory(policy_param).CalcNumStrataRetainedExact(num_generations)\n",
    "        actual_column_bits = actual_column_strata * differentia_bit_width\n",
    "\n",
    "        res.append({\n",
    "            'Retention Policy' : condemner_factory.__name__[25:],\n",
    "            'Differentia Bit Width' : differentia_bit_width,\n",
    "            'Retention Policy Resolution Parameter' : policy_param,\n",
    "            'Target Retained Bits' : target_column_bits,\n",
    "            'Actual Retained Bits' : actual_column_bits,\n",
    "            'Retained Bits Error' : actual_column_bits - target_column_bits,\n",
    "            'Actual Retained Strata' : actual_column_strata,\n",
    "            'condemner' : condemner_factory(policy_param),\n",
    "        })\n",
    "    return pd.DataFrame.from_records(res)\n"
   ]
  },
  {
   "cell_type": "code",
   "execution_count": 16,
   "id": "e28d4c09",
   "metadata": {
    "execution": {
     "iopub.execute_input": "2022-12-13T12:41:04.787200Z",
     "iopub.status.busy": "2022-12-13T12:41:04.786940Z",
     "iopub.status.idle": "2022-12-13T12:41:04.804672Z",
     "shell.execute_reply": "2022-12-13T12:41:04.804048Z"
    },
    "papermill": {
     "duration": 0.040294,
     "end_time": "2022-12-13T12:41:04.806305",
     "exception": false,
     "start_time": "2022-12-13T12:41:04.766011",
     "status": "completed"
    },
    "tags": []
   },
   "outputs": [
    {
     "data": {
      "text/html": [
       "<div>\n",
       "<style scoped>\n",
       "    .dataframe tbody tr th:only-of-type {\n",
       "        vertical-align: middle;\n",
       "    }\n",
       "\n",
       "    .dataframe tbody tr th {\n",
       "        vertical-align: top;\n",
       "    }\n",
       "\n",
       "    .dataframe thead th {\n",
       "        text-align: right;\n",
       "    }\n",
       "</style>\n",
       "<table border=\"1\" class=\"dataframe\">\n",
       "  <thead>\n",
       "    <tr style=\"text-align: right;\">\n",
       "      <th></th>\n",
       "      <th>Retention Policy</th>\n",
       "      <th>Differentia Bit Width</th>\n",
       "      <th>Retention Policy Resolution Parameter</th>\n",
       "      <th>Target Retained Bits</th>\n",
       "      <th>Actual Retained Bits</th>\n",
       "      <th>Retained Bits Error</th>\n",
       "      <th>Actual Retained Strata</th>\n",
       "    </tr>\n",
       "  </thead>\n",
       "  <tbody>\n",
       "    <tr>\n",
       "      <th>0</th>\n",
       "      <td>TaperedDepthProportionalResolution</td>\n",
       "      <td>1</td>\n",
       "      <td>31</td>\n",
       "      <td>64</td>\n",
       "      <td>63</td>\n",
       "      <td>-1</td>\n",
       "      <td>63</td>\n",
       "    </tr>\n",
       "    <tr>\n",
       "      <th>1</th>\n",
       "      <td>TaperedDepthProportionalResolution</td>\n",
       "      <td>8</td>\n",
       "      <td>3</td>\n",
       "      <td>64</td>\n",
       "      <td>56</td>\n",
       "      <td>-8</td>\n",
       "      <td>7</td>\n",
       "    </tr>\n",
       "    <tr>\n",
       "      <th>2</th>\n",
       "      <td>TaperedDepthProportionalResolution</td>\n",
       "      <td>64</td>\n",
       "      <td>1</td>\n",
       "      <td>64</td>\n",
       "      <td>192</td>\n",
       "      <td>128</td>\n",
       "      <td>3</td>\n",
       "    </tr>\n",
       "    <tr>\n",
       "      <th>3</th>\n",
       "      <td>TaperedDepthProportionalResolution</td>\n",
       "      <td>1</td>\n",
       "      <td>496</td>\n",
       "      <td>512</td>\n",
       "      <td>496</td>\n",
       "      <td>-16</td>\n",
       "      <td>496</td>\n",
       "    </tr>\n",
       "    <tr>\n",
       "      <th>4</th>\n",
       "      <td>TaperedDepthProportionalResolution</td>\n",
       "      <td>8</td>\n",
       "      <td>31</td>\n",
       "      <td>512</td>\n",
       "      <td>504</td>\n",
       "      <td>-8</td>\n",
       "      <td>63</td>\n",
       "    </tr>\n",
       "    <tr>\n",
       "      <th>5</th>\n",
       "      <td>TaperedDepthProportionalResolution</td>\n",
       "      <td>64</td>\n",
       "      <td>3</td>\n",
       "      <td>512</td>\n",
       "      <td>448</td>\n",
       "      <td>-64</td>\n",
       "      <td>7</td>\n",
       "    </tr>\n",
       "    <tr>\n",
       "      <th>6</th>\n",
       "      <td>TaperedDepthProportionalResolution</td>\n",
       "      <td>1</td>\n",
       "      <td>496</td>\n",
       "      <td>4096</td>\n",
       "      <td>496</td>\n",
       "      <td>-3600</td>\n",
       "      <td>496</td>\n",
       "    </tr>\n",
       "    <tr>\n",
       "      <th>7</th>\n",
       "      <td>TaperedDepthProportionalResolution</td>\n",
       "      <td>8</td>\n",
       "      <td>496</td>\n",
       "      <td>4096</td>\n",
       "      <td>3968</td>\n",
       "      <td>-128</td>\n",
       "      <td>496</td>\n",
       "    </tr>\n",
       "    <tr>\n",
       "      <th>8</th>\n",
       "      <td>TaperedDepthProportionalResolution</td>\n",
       "      <td>64</td>\n",
       "      <td>31</td>\n",
       "      <td>4096</td>\n",
       "      <td>4032</td>\n",
       "      <td>-64</td>\n",
       "      <td>63</td>\n",
       "    </tr>\n",
       "    <tr>\n",
       "      <th>9</th>\n",
       "      <td>RecencyProportionalResolution</td>\n",
       "      <td>1</td>\n",
       "      <td>8</td>\n",
       "      <td>64</td>\n",
       "      <td>60</td>\n",
       "      <td>-4</td>\n",
       "      <td>60</td>\n",
       "    </tr>\n",
       "    <tr>\n",
       "      <th>10</th>\n",
       "      <td>RecencyProportionalResolution</td>\n",
       "      <td>8</td>\n",
       "      <td>0</td>\n",
       "      <td>64</td>\n",
       "      <td>72</td>\n",
       "      <td>8</td>\n",
       "      <td>9</td>\n",
       "    </tr>\n",
       "    <tr>\n",
       "      <th>11</th>\n",
       "      <td>RecencyProportionalResolution</td>\n",
       "      <td>64</td>\n",
       "      <td>0</td>\n",
       "      <td>64</td>\n",
       "      <td>576</td>\n",
       "      <td>512</td>\n",
       "      <td>9</td>\n",
       "    </tr>\n",
       "    <tr>\n",
       "      <th>12</th>\n",
       "      <td>RecencyProportionalResolution</td>\n",
       "      <td>1</td>\n",
       "      <td>496</td>\n",
       "      <td>512</td>\n",
       "      <td>496</td>\n",
       "      <td>-16</td>\n",
       "      <td>496</td>\n",
       "    </tr>\n",
       "    <tr>\n",
       "      <th>13</th>\n",
       "      <td>RecencyProportionalResolution</td>\n",
       "      <td>8</td>\n",
       "      <td>8</td>\n",
       "      <td>512</td>\n",
       "      <td>480</td>\n",
       "      <td>-32</td>\n",
       "      <td>60</td>\n",
       "    </tr>\n",
       "    <tr>\n",
       "      <th>14</th>\n",
       "      <td>RecencyProportionalResolution</td>\n",
       "      <td>64</td>\n",
       "      <td>0</td>\n",
       "      <td>512</td>\n",
       "      <td>576</td>\n",
       "      <td>64</td>\n",
       "      <td>9</td>\n",
       "    </tr>\n",
       "    <tr>\n",
       "      <th>15</th>\n",
       "      <td>RecencyProportionalResolution</td>\n",
       "      <td>1</td>\n",
       "      <td>496</td>\n",
       "      <td>4096</td>\n",
       "      <td>496</td>\n",
       "      <td>-3600</td>\n",
       "      <td>496</td>\n",
       "    </tr>\n",
       "    <tr>\n",
       "      <th>16</th>\n",
       "      <td>RecencyProportionalResolution</td>\n",
       "      <td>8</td>\n",
       "      <td>496</td>\n",
       "      <td>4096</td>\n",
       "      <td>3968</td>\n",
       "      <td>-128</td>\n",
       "      <td>496</td>\n",
       "    </tr>\n",
       "    <tr>\n",
       "      <th>17</th>\n",
       "      <td>RecencyProportionalResolution</td>\n",
       "      <td>64</td>\n",
       "      <td>8</td>\n",
       "      <td>4096</td>\n",
       "      <td>3840</td>\n",
       "      <td>-256</td>\n",
       "      <td>60</td>\n",
       "    </tr>\n",
       "  </tbody>\n",
       "</table>\n",
       "</div>"
      ],
      "text/plain": [
       "                      Retention Policy  Differentia Bit Width  \\\n",
       "0   TaperedDepthProportionalResolution                      1   \n",
       "1   TaperedDepthProportionalResolution                      8   \n",
       "2   TaperedDepthProportionalResolution                     64   \n",
       "3   TaperedDepthProportionalResolution                      1   \n",
       "4   TaperedDepthProportionalResolution                      8   \n",
       "5   TaperedDepthProportionalResolution                     64   \n",
       "6   TaperedDepthProportionalResolution                      1   \n",
       "7   TaperedDepthProportionalResolution                      8   \n",
       "8   TaperedDepthProportionalResolution                     64   \n",
       "9        RecencyProportionalResolution                      1   \n",
       "10       RecencyProportionalResolution                      8   \n",
       "11       RecencyProportionalResolution                     64   \n",
       "12       RecencyProportionalResolution                      1   \n",
       "13       RecencyProportionalResolution                      8   \n",
       "14       RecencyProportionalResolution                     64   \n",
       "15       RecencyProportionalResolution                      1   \n",
       "16       RecencyProportionalResolution                      8   \n",
       "17       RecencyProportionalResolution                     64   \n",
       "\n",
       "    Retention Policy Resolution Parameter  Target Retained Bits  \\\n",
       "0                                      31                    64   \n",
       "1                                       3                    64   \n",
       "2                                       1                    64   \n",
       "3                                     496                   512   \n",
       "4                                      31                   512   \n",
       "5                                       3                   512   \n",
       "6                                     496                  4096   \n",
       "7                                     496                  4096   \n",
       "8                                      31                  4096   \n",
       "9                                       8                    64   \n",
       "10                                      0                    64   \n",
       "11                                      0                    64   \n",
       "12                                    496                   512   \n",
       "13                                      8                   512   \n",
       "14                                      0                   512   \n",
       "15                                    496                  4096   \n",
       "16                                    496                  4096   \n",
       "17                                      8                  4096   \n",
       "\n",
       "    Actual Retained Bits  Retained Bits Error  Actual Retained Strata  \n",
       "0                     63                   -1                      63  \n",
       "1                     56                   -8                       7  \n",
       "2                    192                  128                       3  \n",
       "3                    496                  -16                     496  \n",
       "4                    504                   -8                      63  \n",
       "5                    448                  -64                       7  \n",
       "6                    496                -3600                     496  \n",
       "7                   3968                 -128                     496  \n",
       "8                   4032                  -64                      63  \n",
       "9                     60                   -4                      60  \n",
       "10                    72                    8                       9  \n",
       "11                   576                  512                       9  \n",
       "12                   496                  -16                     496  \n",
       "13                   480                  -32                      60  \n",
       "14                   576                   64                       9  \n",
       "15                   496                -3600                     496  \n",
       "16                  3968                 -128                     496  \n",
       "17                  3840                 -256                      60  "
      ]
     },
     "execution_count": 16,
     "metadata": {},
     "output_type": "execute_result"
    }
   ],
   "source": [
    "conditions_df = make_conditions(int(mean_leaf_origin_time))\n",
    "conditions_df.drop('condemner', axis=1)\n"
   ]
  },
  {
   "cell_type": "markdown",
   "id": "11a81dc4",
   "metadata": {
    "papermill": {
     "duration": 0.021933,
     "end_time": "2022-12-13T12:41:04.854970",
     "exception": false,
     "start_time": "2022-12-13T12:41:04.833037",
     "status": "completed"
    },
    "tags": []
   },
   "source": [
    "# Set Up Ancestor Column\n"
   ]
  },
  {
   "cell_type": "code",
   "execution_count": 17,
   "id": "c31d9a4d",
   "metadata": {
    "execution": {
     "iopub.execute_input": "2022-12-13T12:41:04.900560Z",
     "iopub.status.busy": "2022-12-13T12:41:04.900288Z",
     "iopub.status.idle": "2022-12-13T12:41:04.908677Z",
     "shell.execute_reply": "2022-12-13T12:41:04.908181Z"
    },
    "papermill": {
     "duration": 0.034036,
     "end_time": "2022-12-13T12:41:04.910580",
     "exception": false,
     "start_time": "2022-12-13T12:41:04.876544",
     "status": "completed"
    },
    "tags": []
   },
   "outputs": [],
   "source": [
    "bundle = hstrat.HereditaryStratigraphicColumnBundle({\n",
    "    kn.pack({\n",
    "        'differentia' : row['Differentia Bit Width'],\n",
    "        'policy' : row['Retention Policy'],\n",
    "        'resolution' : row['Retention Policy Resolution Parameter'],\n",
    "        'target_bits' : row['Target Retained Bits'],\n",
    "        'actual_bits' : row['Actual Retained Bits'],\n",
    "        'bits_error' : row['Retained Bits Error'],\n",
    "        'actual_strata' : row['Actual Retained Strata'],\n",
    "    }) \\\n",
    "        : hstrat.HereditaryStratigraphicColumn(\n",
    "            stratum_differentia_bit_width=row['Differentia Bit Width'],\n",
    "            stratum_retention_condemner=row['condemner'],\n",
    "    )\n",
    "    for __, row in conditions_df.iterrows()\n",
    "})\n"
   ]
  },
  {
   "cell_type": "markdown",
   "id": "50d5fc57",
   "metadata": {
    "papermill": {
     "duration": 0.019387,
     "end_time": "2022-12-13T12:41:04.950330",
     "exception": false,
     "start_time": "2022-12-13T12:41:04.930943",
     "status": "completed"
    },
    "tags": []
   },
   "source": [
    "# Simulate Inheritance of Ancestor Column Down Phylogenetic Tree\n"
   ]
  },
  {
   "cell_type": "code",
   "execution_count": 18,
   "id": "49d6ad9f",
   "metadata": {
    "execution": {
     "iopub.execute_input": "2022-12-13T12:41:04.993343Z",
     "iopub.status.busy": "2022-12-13T12:41:04.992969Z",
     "iopub.status.idle": "2022-12-13T12:41:05.593300Z",
     "shell.execute_reply": "2022-12-13T12:41:05.592074Z"
    },
    "papermill": {
     "duration": 0.624941,
     "end_time": "2022-12-13T12:41:05.595576",
     "exception": false,
     "start_time": "2022-12-13T12:41:04.970635",
     "status": "completed"
    },
    "tags": []
   },
   "outputs": [],
   "source": [
    "root = ip.popsingleton(roots)\n",
    "root.hstrat_column = bundle\n",
    "\n",
    "for node in anytree.LevelOrderIter(ip.popsingleton(roots)):\n",
    "    parent = node.parent\n",
    "    if parent is not None:\n",
    "        node.hstrat_column = parent.hstrat_column.Clone()\n",
    "        for __ in range(node.origin_time - parent.origin_time): node.hstrat_column.DepositStratum()\n"
   ]
  },
  {
   "cell_type": "markdown",
   "id": "f1cb487b",
   "metadata": {
    "papermill": {
     "duration": 0.022225,
     "end_time": "2022-12-13T12:41:05.639324",
     "exception": false,
     "start_time": "2022-12-13T12:41:05.617099",
     "status": "completed"
    },
    "tags": []
   },
   "source": [
    "# Extract Pairwise MRCA Estimates for Extant Organisms\n"
   ]
  },
  {
   "cell_type": "code",
   "execution_count": 19,
   "id": "c4189b70",
   "metadata": {
    "execution": {
     "iopub.execute_input": "2022-12-13T12:41:05.684438Z",
     "iopub.status.busy": "2022-12-13T12:41:05.684178Z",
     "iopub.status.idle": "2022-12-13T12:41:05.726749Z",
     "shell.execute_reply": "2022-12-13T12:41:05.726155Z"
    },
    "papermill": {
     "duration": 0.067202,
     "end_time": "2022-12-13T12:41:05.728404",
     "exception": false,
     "start_time": "2022-12-13T12:41:05.661202",
     "status": "completed"
    },
    "tags": []
   },
   "outputs": [
    {
     "data": {
      "text/html": [
       "<div>\n",
       "<style scoped>\n",
       "    .dataframe tbody tr th:only-of-type {\n",
       "        vertical-align: middle;\n",
       "    }\n",
       "\n",
       "    .dataframe tbody tr th {\n",
       "        vertical-align: top;\n",
       "    }\n",
       "\n",
       "    .dataframe thead th {\n",
       "        text-align: right;\n",
       "    }\n",
       "</style>\n",
       "<table border=\"1\" class=\"dataframe\">\n",
       "  <thead>\n",
       "    <tr style=\"text-align: right;\">\n",
       "      <th></th>\n",
       "      <th>Mean Actual Retained Bits</th>\n",
       "      <th>actual_bits</th>\n",
       "      <th>actual_strata</th>\n",
       "      <th>bits_error</th>\n",
       "      <th>differentia</th>\n",
       "      <th>policy</th>\n",
       "      <th>resolution</th>\n",
       "      <th>target_bits</th>\n",
       "      <th>_</th>\n",
       "    </tr>\n",
       "  </thead>\n",
       "  <tbody>\n",
       "    <tr>\n",
       "      <th>0</th>\n",
       "      <td>62.833333</td>\n",
       "      <td>63</td>\n",
       "      <td>63</td>\n",
       "      <td>-1</td>\n",
       "      <td>1</td>\n",
       "      <td>TaperedDepthProportionalResolution</td>\n",
       "      <td>31</td>\n",
       "      <td>64</td>\n",
       "      <td>actual_bits=63+actual_strata=63+bits_error=-1+...</td>\n",
       "    </tr>\n",
       "    <tr>\n",
       "      <th>1</th>\n",
       "      <td>56.000000</td>\n",
       "      <td>56</td>\n",
       "      <td>7</td>\n",
       "      <td>-8</td>\n",
       "      <td>8</td>\n",
       "      <td>TaperedDepthProportionalResolution</td>\n",
       "      <td>3</td>\n",
       "      <td>64</td>\n",
       "      <td>actual_bits=56+actual_strata=7+bits_error=-8+d...</td>\n",
       "    </tr>\n",
       "    <tr>\n",
       "      <th>2</th>\n",
       "      <td>192.000000</td>\n",
       "      <td>192</td>\n",
       "      <td>3</td>\n",
       "      <td>128</td>\n",
       "      <td>64</td>\n",
       "      <td>TaperedDepthProportionalResolution</td>\n",
       "      <td>1</td>\n",
       "      <td>64</td>\n",
       "      <td>actual_bits=192+actual_strata=3+bits_error=128...</td>\n",
       "    </tr>\n",
       "    <tr>\n",
       "      <th>3</th>\n",
       "      <td>497.291667</td>\n",
       "      <td>496</td>\n",
       "      <td>496</td>\n",
       "      <td>-16</td>\n",
       "      <td>1</td>\n",
       "      <td>TaperedDepthProportionalResolution</td>\n",
       "      <td>496</td>\n",
       "      <td>512</td>\n",
       "      <td>actual_bits=496+actual_strata=496+bits_error=-...</td>\n",
       "    </tr>\n",
       "    <tr>\n",
       "      <th>4</th>\n",
       "      <td>502.666667</td>\n",
       "      <td>504</td>\n",
       "      <td>63</td>\n",
       "      <td>-8</td>\n",
       "      <td>8</td>\n",
       "      <td>TaperedDepthProportionalResolution</td>\n",
       "      <td>31</td>\n",
       "      <td>512</td>\n",
       "      <td>actual_bits=504+actual_strata=63+bits_error=-8...</td>\n",
       "    </tr>\n",
       "    <tr>\n",
       "      <th>5</th>\n",
       "      <td>448.000000</td>\n",
       "      <td>448</td>\n",
       "      <td>7</td>\n",
       "      <td>-64</td>\n",
       "      <td>64</td>\n",
       "      <td>TaperedDepthProportionalResolution</td>\n",
       "      <td>3</td>\n",
       "      <td>512</td>\n",
       "      <td>actual_bits=448+actual_strata=7+bits_error=-64...</td>\n",
       "    </tr>\n",
       "    <tr>\n",
       "      <th>6</th>\n",
       "      <td>497.291667</td>\n",
       "      <td>496</td>\n",
       "      <td>496</td>\n",
       "      <td>-3600</td>\n",
       "      <td>1</td>\n",
       "      <td>TaperedDepthProportionalResolution</td>\n",
       "      <td>496</td>\n",
       "      <td>4096</td>\n",
       "      <td>actual_bits=496+actual_strata=496+bits_error=-...</td>\n",
       "    </tr>\n",
       "    <tr>\n",
       "      <th>7</th>\n",
       "      <td>3978.333333</td>\n",
       "      <td>3968</td>\n",
       "      <td>496</td>\n",
       "      <td>-128</td>\n",
       "      <td>8</td>\n",
       "      <td>TaperedDepthProportionalResolution</td>\n",
       "      <td>496</td>\n",
       "      <td>4096</td>\n",
       "      <td>actual_bits=3968+actual_strata=496+bits_error=...</td>\n",
       "    </tr>\n",
       "    <tr>\n",
       "      <th>8</th>\n",
       "      <td>4021.333333</td>\n",
       "      <td>4032</td>\n",
       "      <td>63</td>\n",
       "      <td>-64</td>\n",
       "      <td>64</td>\n",
       "      <td>TaperedDepthProportionalResolution</td>\n",
       "      <td>31</td>\n",
       "      <td>4096</td>\n",
       "      <td>actual_bits=4032+actual_strata=63+bits_error=-...</td>\n",
       "    </tr>\n",
       "    <tr>\n",
       "      <th>9</th>\n",
       "      <td>57.958333</td>\n",
       "      <td>60</td>\n",
       "      <td>60</td>\n",
       "      <td>-4</td>\n",
       "      <td>1</td>\n",
       "      <td>RecencyProportionalResolution</td>\n",
       "      <td>8</td>\n",
       "      <td>64</td>\n",
       "      <td>actual_bits=60+actual_strata=60+bits_error=-4+...</td>\n",
       "    </tr>\n",
       "    <tr>\n",
       "      <th>10</th>\n",
       "      <td>55.666667</td>\n",
       "      <td>72</td>\n",
       "      <td>9</td>\n",
       "      <td>8</td>\n",
       "      <td>8</td>\n",
       "      <td>RecencyProportionalResolution</td>\n",
       "      <td>0</td>\n",
       "      <td>64</td>\n",
       "      <td>actual_bits=72+actual_strata=9+bits_error=8+di...</td>\n",
       "    </tr>\n",
       "    <tr>\n",
       "      <th>11</th>\n",
       "      <td>445.333333</td>\n",
       "      <td>576</td>\n",
       "      <td>9</td>\n",
       "      <td>512</td>\n",
       "      <td>64</td>\n",
       "      <td>RecencyProportionalResolution</td>\n",
       "      <td>0</td>\n",
       "      <td>64</td>\n",
       "      <td>actual_bits=576+actual_strata=9+bits_error=512...</td>\n",
       "    </tr>\n",
       "    <tr>\n",
       "      <th>12</th>\n",
       "      <td>497.291667</td>\n",
       "      <td>496</td>\n",
       "      <td>496</td>\n",
       "      <td>-16</td>\n",
       "      <td>1</td>\n",
       "      <td>RecencyProportionalResolution</td>\n",
       "      <td>496</td>\n",
       "      <td>512</td>\n",
       "      <td>actual_bits=496+actual_strata=496+bits_error=-...</td>\n",
       "    </tr>\n",
       "    <tr>\n",
       "      <th>13</th>\n",
       "      <td>463.666667</td>\n",
       "      <td>480</td>\n",
       "      <td>60</td>\n",
       "      <td>-32</td>\n",
       "      <td>8</td>\n",
       "      <td>RecencyProportionalResolution</td>\n",
       "      <td>8</td>\n",
       "      <td>512</td>\n",
       "      <td>actual_bits=480+actual_strata=60+bits_error=-3...</td>\n",
       "    </tr>\n",
       "    <tr>\n",
       "      <th>14</th>\n",
       "      <td>445.333333</td>\n",
       "      <td>576</td>\n",
       "      <td>9</td>\n",
       "      <td>64</td>\n",
       "      <td>64</td>\n",
       "      <td>RecencyProportionalResolution</td>\n",
       "      <td>0</td>\n",
       "      <td>512</td>\n",
       "      <td>actual_bits=576+actual_strata=9+bits_error=64+...</td>\n",
       "    </tr>\n",
       "    <tr>\n",
       "      <th>15</th>\n",
       "      <td>497.291667</td>\n",
       "      <td>496</td>\n",
       "      <td>496</td>\n",
       "      <td>-3600</td>\n",
       "      <td>1</td>\n",
       "      <td>RecencyProportionalResolution</td>\n",
       "      <td>496</td>\n",
       "      <td>4096</td>\n",
       "      <td>actual_bits=496+actual_strata=496+bits_error=-...</td>\n",
       "    </tr>\n",
       "    <tr>\n",
       "      <th>16</th>\n",
       "      <td>3978.333333</td>\n",
       "      <td>3968</td>\n",
       "      <td>496</td>\n",
       "      <td>-128</td>\n",
       "      <td>8</td>\n",
       "      <td>RecencyProportionalResolution</td>\n",
       "      <td>496</td>\n",
       "      <td>4096</td>\n",
       "      <td>actual_bits=3968+actual_strata=496+bits_error=...</td>\n",
       "    </tr>\n",
       "    <tr>\n",
       "      <th>17</th>\n",
       "      <td>3709.333333</td>\n",
       "      <td>3840</td>\n",
       "      <td>60</td>\n",
       "      <td>-256</td>\n",
       "      <td>64</td>\n",
       "      <td>RecencyProportionalResolution</td>\n",
       "      <td>8</td>\n",
       "      <td>4096</td>\n",
       "      <td>actual_bits=3840+actual_strata=60+bits_error=-...</td>\n",
       "    </tr>\n",
       "  </tbody>\n",
       "</table>\n",
       "</div>"
      ],
      "text/plain": [
       "    Mean Actual Retained Bits actual_bits actual_strata bits_error  \\\n",
       "0                   62.833333          63            63         -1   \n",
       "1                   56.000000          56             7         -8   \n",
       "2                  192.000000         192             3        128   \n",
       "3                  497.291667         496           496        -16   \n",
       "4                  502.666667         504            63         -8   \n",
       "5                  448.000000         448             7        -64   \n",
       "6                  497.291667         496           496      -3600   \n",
       "7                 3978.333333        3968           496       -128   \n",
       "8                 4021.333333        4032            63        -64   \n",
       "9                   57.958333          60            60         -4   \n",
       "10                  55.666667          72             9          8   \n",
       "11                 445.333333         576             9        512   \n",
       "12                 497.291667         496           496        -16   \n",
       "13                 463.666667         480            60        -32   \n",
       "14                 445.333333         576             9         64   \n",
       "15                 497.291667         496           496      -3600   \n",
       "16                3978.333333        3968           496       -128   \n",
       "17                3709.333333        3840            60       -256   \n",
       "\n",
       "   differentia                              policy resolution target_bits  \\\n",
       "0            1  TaperedDepthProportionalResolution         31          64   \n",
       "1            8  TaperedDepthProportionalResolution          3          64   \n",
       "2           64  TaperedDepthProportionalResolution          1          64   \n",
       "3            1  TaperedDepthProportionalResolution        496         512   \n",
       "4            8  TaperedDepthProportionalResolution         31         512   \n",
       "5           64  TaperedDepthProportionalResolution          3         512   \n",
       "6            1  TaperedDepthProportionalResolution        496        4096   \n",
       "7            8  TaperedDepthProportionalResolution        496        4096   \n",
       "8           64  TaperedDepthProportionalResolution         31        4096   \n",
       "9            1       RecencyProportionalResolution          8          64   \n",
       "10           8       RecencyProportionalResolution          0          64   \n",
       "11          64       RecencyProportionalResolution          0          64   \n",
       "12           1       RecencyProportionalResolution        496         512   \n",
       "13           8       RecencyProportionalResolution          8         512   \n",
       "14          64       RecencyProportionalResolution          0         512   \n",
       "15           1       RecencyProportionalResolution        496        4096   \n",
       "16           8       RecencyProportionalResolution        496        4096   \n",
       "17          64       RecencyProportionalResolution          8        4096   \n",
       "\n",
       "                                                    _  \n",
       "0   actual_bits=63+actual_strata=63+bits_error=-1+...  \n",
       "1   actual_bits=56+actual_strata=7+bits_error=-8+d...  \n",
       "2   actual_bits=192+actual_strata=3+bits_error=128...  \n",
       "3   actual_bits=496+actual_strata=496+bits_error=-...  \n",
       "4   actual_bits=504+actual_strata=63+bits_error=-8...  \n",
       "5   actual_bits=448+actual_strata=7+bits_error=-64...  \n",
       "6   actual_bits=496+actual_strata=496+bits_error=-...  \n",
       "7   actual_bits=3968+actual_strata=496+bits_error=...  \n",
       "8   actual_bits=4032+actual_strata=63+bits_error=-...  \n",
       "9   actual_bits=60+actual_strata=60+bits_error=-4+...  \n",
       "10  actual_bits=72+actual_strata=9+bits_error=8+di...  \n",
       "11  actual_bits=576+actual_strata=9+bits_error=512...  \n",
       "12  actual_bits=496+actual_strata=496+bits_error=-...  \n",
       "13  actual_bits=480+actual_strata=60+bits_error=-3...  \n",
       "14  actual_bits=576+actual_strata=9+bits_error=64+...  \n",
       "15  actual_bits=496+actual_strata=496+bits_error=-...  \n",
       "16  actual_bits=3968+actual_strata=496+bits_error=...  \n",
       "17  actual_bits=3840+actual_strata=60+bits_error=-...  "
      ]
     },
     "execution_count": 19,
     "metadata": {},
     "output_type": "execute_result"
    }
   ],
   "source": [
    "# impl -> mean retained bits\n",
    "mean_retained_bits = {\n",
    "    impl: np.mean([\n",
    "        node.hstrat_column.GetNumStrataRetained()[impl]\n",
    "        * int(kn.unpack(impl)['differentia'])\n",
    "        for node in root.leaves\n",
    "    ])\n",
    "    for impl in bundle\n",
    "}\n",
    "\n",
    "records = [\n",
    "    {\n",
    "        **{\n",
    "            'Mean Actual Retained Bits': v,\n",
    "        },\n",
    "        **kn.unpack(k)\n",
    "    }\n",
    "    for k, v in mean_retained_bits.items()\n",
    "]\n",
    "actual_retained_bits_df = pd.DataFrame.from_records(records)\n",
    "actual_retained_bits_df.to_csv(\n",
    "    f'a=actual_retained_bits+source={data_filename}',\n",
    ")\n",
    "\n",
    "actual_retained_bits_df\n"
   ]
  },
  {
   "cell_type": "code",
   "execution_count": 20,
   "id": "621b8aac",
   "metadata": {
    "execution": {
     "iopub.execute_input": "2022-12-13T12:41:05.776681Z",
     "iopub.status.busy": "2022-12-13T12:41:05.776365Z",
     "iopub.status.idle": "2022-12-13T12:41:10.622821Z",
     "shell.execute_reply": "2022-12-13T12:41:10.622135Z"
    },
    "papermill": {
     "duration": 4.872636,
     "end_time": "2022-12-13T12:41:10.624707",
     "exception": false,
     "start_time": "2022-12-13T12:41:05.752071",
     "status": "completed"
    },
    "tags": []
   },
   "outputs": [
    {
     "name": "stderr",
     "output_type": "stream",
     "text": [
      "\r",
      "  0%|          | 0/576 [00:00<?, ?it/s]"
     ]
    },
    {
     "name": "stderr",
     "output_type": "stream",
     "text": [
      "\r",
      "  4%|▍         | 24/576 [00:00<00:02, 237.84it/s]"
     ]
    },
    {
     "name": "stderr",
     "output_type": "stream",
     "text": [
      "\r",
      "  9%|▊         | 49/576 [00:00<00:02, 240.01it/s]"
     ]
    },
    {
     "name": "stderr",
     "output_type": "stream",
     "text": [
      "\r",
      " 11%|█         | 62/576 [00:00<00:03, 142.70it/s]"
     ]
    },
    {
     "name": "stderr",
     "output_type": "stream",
     "text": [
      "\r",
      " 14%|█▎        | 79/576 [00:00<00:03, 143.93it/s]"
     ]
    },
    {
     "name": "stderr",
     "output_type": "stream",
     "text": [
      "\r",
      " 17%|█▋        | 99/576 [00:00<00:03, 151.82it/s]"
     ]
    },
    {
     "name": "stderr",
     "output_type": "stream",
     "text": [
      "\r",
      " 20%|█▉        | 113/576 [00:00<00:03, 132.05it/s]"
     ]
    },
    {
     "name": "stderr",
     "output_type": "stream",
     "text": [
      "\r",
      " 22%|██▏       | 127/576 [00:00<00:03, 131.09it/s]"
     ]
    },
    {
     "name": "stderr",
     "output_type": "stream",
     "text": [
      "\r",
      " 26%|██▌       | 147/576 [00:00<00:03, 141.83it/s]"
     ]
    },
    {
     "name": "stderr",
     "output_type": "stream",
     "text": [
      "\r",
      " 28%|██▊       | 162/576 [00:01<00:03, 127.50it/s]"
     ]
    },
    {
     "name": "stderr",
     "output_type": "stream",
     "text": [
      "\r",
      " 30%|███       | 175/576 [00:01<00:03, 114.89it/s]"
     ]
    },
    {
     "name": "stderr",
     "output_type": "stream",
     "text": [
      "\r",
      " 34%|███▍      | 196/576 [00:01<00:02, 128.77it/s]"
     ]
    },
    {
     "name": "stderr",
     "output_type": "stream",
     "text": [
      "\r",
      " 36%|███▋      | 210/576 [00:01<00:02, 126.17it/s]"
     ]
    },
    {
     "name": "stderr",
     "output_type": "stream",
     "text": [
      "\r",
      " 39%|███▉      | 224/576 [00:01<00:03, 115.68it/s]"
     ]
    },
    {
     "name": "stderr",
     "output_type": "stream",
     "text": [
      "\r",
      " 44%|████▍     | 253/576 [00:01<00:02, 137.61it/s]"
     ]
    },
    {
     "name": "stderr",
     "output_type": "stream",
     "text": [
      "\r",
      " 47%|████▋     | 269/576 [00:01<00:02, 120.18it/s]"
     ]
    },
    {
     "name": "stderr",
     "output_type": "stream",
     "text": [
      "\r",
      " 49%|████▉     | 283/576 [00:02<00:02, 105.53it/s]"
     ]
    },
    {
     "name": "stderr",
     "output_type": "stream",
     "text": [
      "\r",
      " 52%|█████▏    | 302/576 [00:02<00:02, 116.09it/s]"
     ]
    },
    {
     "name": "stderr",
     "output_type": "stream",
     "text": [
      "\r",
      " 55%|█████▍    | 316/576 [00:02<00:02, 97.46it/s] "
     ]
    },
    {
     "name": "stderr",
     "output_type": "stream",
     "text": [
      "\r",
      " 57%|█████▋    | 328/576 [00:02<00:02, 95.45it/s]"
     ]
    },
    {
     "name": "stderr",
     "output_type": "stream",
     "text": [
      "\r",
      " 59%|█████▉    | 339/576 [00:02<00:02, 89.45it/s]"
     ]
    },
    {
     "name": "stderr",
     "output_type": "stream",
     "text": [
      "\r",
      " 61%|██████    | 352/576 [00:02<00:02, 92.94it/s]"
     ]
    },
    {
     "name": "stderr",
     "output_type": "stream",
     "text": [
      "\r",
      " 63%|██████▎   | 362/576 [00:02<00:02, 86.73it/s]"
     ]
    },
    {
     "name": "stderr",
     "output_type": "stream",
     "text": [
      "\r",
      " 65%|██████▌   | 375/576 [00:03<00:02, 91.55it/s]"
     ]
    },
    {
     "name": "stderr",
     "output_type": "stream",
     "text": [
      "\r",
      " 67%|██████▋   | 385/576 [00:03<00:02, 89.05it/s]"
     ]
    },
    {
     "name": "stderr",
     "output_type": "stream",
     "text": [
      "\r",
      " 69%|██████▉   | 398/576 [00:03<00:01, 97.51it/s]"
     ]
    },
    {
     "name": "stderr",
     "output_type": "stream",
     "text": [
      "\r",
      " 71%|███████   | 409/576 [00:03<00:01, 87.29it/s]"
     ]
    },
    {
     "name": "stderr",
     "output_type": "stream",
     "text": [
      "\r",
      " 73%|███████▎  | 422/576 [00:03<00:01, 96.62it/s]"
     ]
    },
    {
     "name": "stderr",
     "output_type": "stream",
     "text": [
      "\r",
      " 75%|███████▌  | 433/576 [00:03<00:01, 85.33it/s]"
     ]
    },
    {
     "name": "stderr",
     "output_type": "stream",
     "text": [
      "\r",
      " 77%|███████▋  | 446/576 [00:03<00:01, 93.52it/s]"
     ]
    },
    {
     "name": "stderr",
     "output_type": "stream",
     "text": [
      "\r",
      " 79%|███████▉  | 457/576 [00:03<00:01, 82.87it/s]"
     ]
    },
    {
     "name": "stderr",
     "output_type": "stream",
     "text": [
      "\r",
      " 82%|████████▏ | 470/576 [00:04<00:01, 91.13it/s]"
     ]
    },
    {
     "name": "stderr",
     "output_type": "stream",
     "text": [
      "\r",
      " 83%|████████▎ | 480/576 [00:04<00:01, 80.76it/s]"
     ]
    },
    {
     "name": "stderr",
     "output_type": "stream",
     "text": [
      "\r",
      " 86%|████████▌ | 494/576 [00:04<00:00, 91.95it/s]"
     ]
    },
    {
     "name": "stderr",
     "output_type": "stream",
     "text": [
      "\r",
      " 88%|████████▊ | 505/576 [00:04<00:00, 86.44it/s]"
     ]
    },
    {
     "name": "stderr",
     "output_type": "stream",
     "text": [
      "\r",
      " 93%|█████████▎| 536/576 [00:04<00:00, 110.13it/s]"
     ]
    },
    {
     "name": "stderr",
     "output_type": "stream",
     "text": [
      "\r",
      " 98%|█████████▊| 564/576 [00:04<00:00, 134.52it/s]"
     ]
    },
    {
     "name": "stderr",
     "output_type": "stream",
     "text": [
      "\r",
      "100%|██████████| 576/576 [00:04<00:00, 120.33it/s]"
     ]
    },
    {
     "name": "stderr",
     "output_type": "stream",
     "text": [
      "\n"
     ]
    }
   ],
   "source": [
    "res = []\n",
    "for extant1, extant2 in tqdm([*it.product(root.leaves, root.leaves)]):\n",
    "    if extant1 != extant2:\n",
    "        bounds = extant1.hstrat_column.CalcRankOfMrcaBoundsWith(extant2.hstrat_column)\n",
    "        for impl in extant1.hstrat_column:\n",
    "            res.append({\n",
    "                'Column Configuration' \\\n",
    "                    : impl,\n",
    "                'Differentia Bit Width' \\\n",
    "                    : kn.unpack(impl)['differentia'],\n",
    "                'Stratum Retention Policy' \\\n",
    "                    : kn.unpack(impl)['policy'],\n",
    "                'Stratum Retention Policy Resolution Parameter' \\\n",
    "                    : kn.unpack(impl)['resolution'],\n",
    "                'Stratigraphic Column Expected Retained Bits' \\\n",
    "                    : kn.unpack(impl)['actual_bits'],\n",
    "                'Stratigraphic Column Mean Actual Retained Bits' \\\n",
    "                    : mean_retained_bits[impl],\n",
    "                'Stratigraphic Column Target Retained Bits' \\\n",
    "                    : kn.unpack(impl)['target_bits'],\n",
    "                'Stratigraphic Column Expected Retained Bits Error' \\\n",
    "                    : kn.unpack(impl)['bits_error'],\n",
    "                'Stratigraphic Column Actual Num Retained Strata' \\\n",
    "                    : kn.unpack(impl)['actual_strata'],\n",
    "                'Taxon Compared From' \\\n",
    "                    : extant1.id,\n",
    "                'Taxon Compared To' \\\n",
    "                    : extant2.id,\n",
    "                'Generation of Taxon Compared From' \\\n",
    "                    : extant1.hstrat_column.GetNumStrataDeposited(),\n",
    "                'Generation of Taxon Compared To' \\\n",
    "                    : extant2.hstrat_column.GetNumStrataDeposited(),\n",
    "                'Generation Of MRCA Lower Bound (inclusive)' \\\n",
    "                    : opyt.apply_if(\n",
    "                        bounds[impl],\n",
    "                        lambda x: x[0],\n",
    "                    ),\n",
    "                'Generation Of MRCA Upper Bound (exclusive)' \\\n",
    "                    : opyt.apply_if(\n",
    "                        bounds[impl],\n",
    "                        lambda x: x[1],\n",
    "                    ),\n",
    "                'MRCA Bound Confidence' \\\n",
    "                    : extant1.hstrat_column[impl].CalcRankOfMrcaBoundsWithProvidedConfidenceLevel(),\n",
    "                'Rank of Earliest Detectable Mrca With' \\\n",
    "                    : extant1.hstrat_column[impl].CalcRankOfEarliestDetectableMrcaWith(extant2.hstrat_column[impl]),\n",
    "            })\n",
    "\n",
    "res_df = pd.DataFrame.from_records(res)\n"
   ]
  },
  {
   "cell_type": "code",
   "execution_count": 21,
   "id": "ab6bb496",
   "metadata": {
    "execution": {
     "iopub.execute_input": "2022-12-13T12:41:10.687608Z",
     "iopub.status.busy": "2022-12-13T12:41:10.687208Z",
     "iopub.status.idle": "2022-12-13T12:41:10.714642Z",
     "shell.execute_reply": "2022-12-13T12:41:10.714018Z"
    },
    "papermill": {
     "duration": 0.060848,
     "end_time": "2022-12-13T12:41:10.716234",
     "exception": false,
     "start_time": "2022-12-13T12:41:10.655386",
     "status": "completed"
    },
    "tags": []
   },
   "outputs": [
    {
     "data": {
      "text/html": [
       "<div>\n",
       "<style scoped>\n",
       "    .dataframe tbody tr th:only-of-type {\n",
       "        vertical-align: middle;\n",
       "    }\n",
       "\n",
       "    .dataframe tbody tr th {\n",
       "        vertical-align: top;\n",
       "    }\n",
       "\n",
       "    .dataframe thead th {\n",
       "        text-align: right;\n",
       "    }\n",
       "</style>\n",
       "<table border=\"1\" class=\"dataframe\">\n",
       "  <thead>\n",
       "    <tr style=\"text-align: right;\">\n",
       "      <th></th>\n",
       "      <th>Column Configuration</th>\n",
       "      <th>Differentia Bit Width</th>\n",
       "      <th>Stratum Retention Policy</th>\n",
       "      <th>Stratum Retention Policy Resolution Parameter</th>\n",
       "      <th>Stratigraphic Column Expected Retained Bits</th>\n",
       "      <th>Stratigraphic Column Mean Actual Retained Bits</th>\n",
       "      <th>Stratigraphic Column Target Retained Bits</th>\n",
       "      <th>Stratigraphic Column Expected Retained Bits Error</th>\n",
       "      <th>Stratigraphic Column Actual Num Retained Strata</th>\n",
       "      <th>Taxon Compared From</th>\n",
       "      <th>Taxon Compared To</th>\n",
       "      <th>Generation of Taxon Compared From</th>\n",
       "      <th>Generation of Taxon Compared To</th>\n",
       "      <th>Generation Of MRCA Lower Bound (inclusive)</th>\n",
       "      <th>Generation Of MRCA Upper Bound (exclusive)</th>\n",
       "      <th>MRCA Bound Confidence</th>\n",
       "      <th>Rank of Earliest Detectable Mrca With</th>\n",
       "    </tr>\n",
       "  </thead>\n",
       "  <tbody>\n",
       "    <tr>\n",
       "      <th>0</th>\n",
       "      <td>actual_bits=63+actual_strata=63+bits_error=-1+...</td>\n",
       "      <td>1</td>\n",
       "      <td>TaperedDepthProportionalResolution</td>\n",
       "      <td>31</td>\n",
       "      <td>63</td>\n",
       "      <td>62.833333</td>\n",
       "      <td>64</td>\n",
       "      <td>-1</td>\n",
       "      <td>63</td>\n",
       "      <td>4737</td>\n",
       "      <td>4733</td>\n",
       "      <td>501</td>\n",
       "      <td>501</td>\n",
       "      <td>440.0</td>\n",
       "      <td>480.0</td>\n",
       "      <td>0.968750</td>\n",
       "      <td>40</td>\n",
       "    </tr>\n",
       "    <tr>\n",
       "      <th>1</th>\n",
       "      <td>actual_bits=56+actual_strata=7+bits_error=-8+d...</td>\n",
       "      <td>8</td>\n",
       "      <td>TaperedDepthProportionalResolution</td>\n",
       "      <td>3</td>\n",
       "      <td>56</td>\n",
       "      <td>56.000000</td>\n",
       "      <td>64</td>\n",
       "      <td>-8</td>\n",
       "      <td>7</td>\n",
       "      <td>4737</td>\n",
       "      <td>4733</td>\n",
       "      <td>501</td>\n",
       "      <td>501</td>\n",
       "      <td>448.0</td>\n",
       "      <td>500.0</td>\n",
       "      <td>0.996094</td>\n",
       "      <td>0</td>\n",
       "    </tr>\n",
       "    <tr>\n",
       "      <th>2</th>\n",
       "      <td>actual_bits=192+actual_strata=3+bits_error=128...</td>\n",
       "      <td>64</td>\n",
       "      <td>TaperedDepthProportionalResolution</td>\n",
       "      <td>1</td>\n",
       "      <td>192</td>\n",
       "      <td>192.000000</td>\n",
       "      <td>64</td>\n",
       "      <td>128</td>\n",
       "      <td>3</td>\n",
       "      <td>4737</td>\n",
       "      <td>4733</td>\n",
       "      <td>501</td>\n",
       "      <td>501</td>\n",
       "      <td>256.0</td>\n",
       "      <td>500.0</td>\n",
       "      <td>1.000000</td>\n",
       "      <td>0</td>\n",
       "    </tr>\n",
       "    <tr>\n",
       "      <th>3</th>\n",
       "      <td>actual_bits=496+actual_strata=496+bits_error=-...</td>\n",
       "      <td>1</td>\n",
       "      <td>TaperedDepthProportionalResolution</td>\n",
       "      <td>496</td>\n",
       "      <td>496</td>\n",
       "      <td>497.291667</td>\n",
       "      <td>512</td>\n",
       "      <td>-16</td>\n",
       "      <td>496</td>\n",
       "      <td>4737</td>\n",
       "      <td>4733</td>\n",
       "      <td>501</td>\n",
       "      <td>501</td>\n",
       "      <td>474.0</td>\n",
       "      <td>479.0</td>\n",
       "      <td>0.968750</td>\n",
       "      <td>4</td>\n",
       "    </tr>\n",
       "    <tr>\n",
       "      <th>4</th>\n",
       "      <td>actual_bits=504+actual_strata=63+bits_error=-8...</td>\n",
       "      <td>8</td>\n",
       "      <td>TaperedDepthProportionalResolution</td>\n",
       "      <td>31</td>\n",
       "      <td>504</td>\n",
       "      <td>502.666667</td>\n",
       "      <td>512</td>\n",
       "      <td>-8</td>\n",
       "      <td>63</td>\n",
       "      <td>4737</td>\n",
       "      <td>4733</td>\n",
       "      <td>501</td>\n",
       "      <td>501</td>\n",
       "      <td>472.0</td>\n",
       "      <td>480.0</td>\n",
       "      <td>0.996094</td>\n",
       "      <td>0</td>\n",
       "    </tr>\n",
       "    <tr>\n",
       "      <th>...</th>\n",
       "      <td>...</td>\n",
       "      <td>...</td>\n",
       "      <td>...</td>\n",
       "      <td>...</td>\n",
       "      <td>...</td>\n",
       "      <td>...</td>\n",
       "      <td>...</td>\n",
       "      <td>...</td>\n",
       "      <td>...</td>\n",
       "      <td>...</td>\n",
       "      <td>...</td>\n",
       "      <td>...</td>\n",
       "      <td>...</td>\n",
       "      <td>...</td>\n",
       "      <td>...</td>\n",
       "      <td>...</td>\n",
       "      <td>...</td>\n",
       "    </tr>\n",
       "    <tr>\n",
       "      <th>9931</th>\n",
       "      <td>actual_bits=480+actual_strata=60+bits_error=-3...</td>\n",
       "      <td>8</td>\n",
       "      <td>RecencyProportionalResolution</td>\n",
       "      <td>8</td>\n",
       "      <td>480</td>\n",
       "      <td>463.666667</td>\n",
       "      <td>512</td>\n",
       "      <td>-32</td>\n",
       "      <td>60</td>\n",
       "      <td>4595</td>\n",
       "      <td>4738</td>\n",
       "      <td>486</td>\n",
       "      <td>501</td>\n",
       "      <td>480.0</td>\n",
       "      <td>482.0</td>\n",
       "      <td>0.996094</td>\n",
       "      <td>0</td>\n",
       "    </tr>\n",
       "    <tr>\n",
       "      <th>9932</th>\n",
       "      <td>actual_bits=576+actual_strata=9+bits_error=64+...</td>\n",
       "      <td>64</td>\n",
       "      <td>RecencyProportionalResolution</td>\n",
       "      <td>0</td>\n",
       "      <td>576</td>\n",
       "      <td>445.333333</td>\n",
       "      <td>512</td>\n",
       "      <td>64</td>\n",
       "      <td>9</td>\n",
       "      <td>4595</td>\n",
       "      <td>4738</td>\n",
       "      <td>486</td>\n",
       "      <td>501</td>\n",
       "      <td>480.0</td>\n",
       "      <td>486.0</td>\n",
       "      <td>1.000000</td>\n",
       "      <td>0</td>\n",
       "    </tr>\n",
       "    <tr>\n",
       "      <th>9933</th>\n",
       "      <td>actual_bits=496+actual_strata=496+bits_error=-...</td>\n",
       "      <td>1</td>\n",
       "      <td>RecencyProportionalResolution</td>\n",
       "      <td>496</td>\n",
       "      <td>496</td>\n",
       "      <td>497.291667</td>\n",
       "      <td>4096</td>\n",
       "      <td>-3600</td>\n",
       "      <td>496</td>\n",
       "      <td>4595</td>\n",
       "      <td>4738</td>\n",
       "      <td>486</td>\n",
       "      <td>501</td>\n",
       "      <td>476.0</td>\n",
       "      <td>481.0</td>\n",
       "      <td>0.968750</td>\n",
       "      <td>4</td>\n",
       "    </tr>\n",
       "    <tr>\n",
       "      <th>9934</th>\n",
       "      <td>actual_bits=3968+actual_strata=496+bits_error=...</td>\n",
       "      <td>8</td>\n",
       "      <td>RecencyProportionalResolution</td>\n",
       "      <td>496</td>\n",
       "      <td>3968</td>\n",
       "      <td>3978.333333</td>\n",
       "      <td>4096</td>\n",
       "      <td>-128</td>\n",
       "      <td>496</td>\n",
       "      <td>4595</td>\n",
       "      <td>4738</td>\n",
       "      <td>486</td>\n",
       "      <td>501</td>\n",
       "      <td>480.0</td>\n",
       "      <td>481.0</td>\n",
       "      <td>0.996094</td>\n",
       "      <td>0</td>\n",
       "    </tr>\n",
       "    <tr>\n",
       "      <th>9935</th>\n",
       "      <td>actual_bits=3840+actual_strata=60+bits_error=-...</td>\n",
       "      <td>64</td>\n",
       "      <td>RecencyProportionalResolution</td>\n",
       "      <td>8</td>\n",
       "      <td>3840</td>\n",
       "      <td>3709.333333</td>\n",
       "      <td>4096</td>\n",
       "      <td>-256</td>\n",
       "      <td>60</td>\n",
       "      <td>4595</td>\n",
       "      <td>4738</td>\n",
       "      <td>486</td>\n",
       "      <td>501</td>\n",
       "      <td>480.0</td>\n",
       "      <td>482.0</td>\n",
       "      <td>1.000000</td>\n",
       "      <td>0</td>\n",
       "    </tr>\n",
       "  </tbody>\n",
       "</table>\n",
       "<p>9936 rows × 17 columns</p>\n",
       "</div>"
      ],
      "text/plain": [
       "                                   Column Configuration Differentia Bit Width  \\\n",
       "0     actual_bits=63+actual_strata=63+bits_error=-1+...                     1   \n",
       "1     actual_bits=56+actual_strata=7+bits_error=-8+d...                     8   \n",
       "2     actual_bits=192+actual_strata=3+bits_error=128...                    64   \n",
       "3     actual_bits=496+actual_strata=496+bits_error=-...                     1   \n",
       "4     actual_bits=504+actual_strata=63+bits_error=-8...                     8   \n",
       "...                                                 ...                   ...   \n",
       "9931  actual_bits=480+actual_strata=60+bits_error=-3...                     8   \n",
       "9932  actual_bits=576+actual_strata=9+bits_error=64+...                    64   \n",
       "9933  actual_bits=496+actual_strata=496+bits_error=-...                     1   \n",
       "9934  actual_bits=3968+actual_strata=496+bits_error=...                     8   \n",
       "9935  actual_bits=3840+actual_strata=60+bits_error=-...                    64   \n",
       "\n",
       "                Stratum Retention Policy  \\\n",
       "0     TaperedDepthProportionalResolution   \n",
       "1     TaperedDepthProportionalResolution   \n",
       "2     TaperedDepthProportionalResolution   \n",
       "3     TaperedDepthProportionalResolution   \n",
       "4     TaperedDepthProportionalResolution   \n",
       "...                                  ...   \n",
       "9931       RecencyProportionalResolution   \n",
       "9932       RecencyProportionalResolution   \n",
       "9933       RecencyProportionalResolution   \n",
       "9934       RecencyProportionalResolution   \n",
       "9935       RecencyProportionalResolution   \n",
       "\n",
       "     Stratum Retention Policy Resolution Parameter  \\\n",
       "0                                               31   \n",
       "1                                                3   \n",
       "2                                                1   \n",
       "3                                              496   \n",
       "4                                               31   \n",
       "...                                            ...   \n",
       "9931                                             8   \n",
       "9932                                             0   \n",
       "9933                                           496   \n",
       "9934                                           496   \n",
       "9935                                             8   \n",
       "\n",
       "     Stratigraphic Column Expected Retained Bits  \\\n",
       "0                                             63   \n",
       "1                                             56   \n",
       "2                                            192   \n",
       "3                                            496   \n",
       "4                                            504   \n",
       "...                                          ...   \n",
       "9931                                         480   \n",
       "9932                                         576   \n",
       "9933                                         496   \n",
       "9934                                        3968   \n",
       "9935                                        3840   \n",
       "\n",
       "      Stratigraphic Column Mean Actual Retained Bits  \\\n",
       "0                                          62.833333   \n",
       "1                                          56.000000   \n",
       "2                                         192.000000   \n",
       "3                                         497.291667   \n",
       "4                                         502.666667   \n",
       "...                                              ...   \n",
       "9931                                      463.666667   \n",
       "9932                                      445.333333   \n",
       "9933                                      497.291667   \n",
       "9934                                     3978.333333   \n",
       "9935                                     3709.333333   \n",
       "\n",
       "     Stratigraphic Column Target Retained Bits  \\\n",
       "0                                           64   \n",
       "1                                           64   \n",
       "2                                           64   \n",
       "3                                          512   \n",
       "4                                          512   \n",
       "...                                        ...   \n",
       "9931                                       512   \n",
       "9932                                       512   \n",
       "9933                                      4096   \n",
       "9934                                      4096   \n",
       "9935                                      4096   \n",
       "\n",
       "     Stratigraphic Column Expected Retained Bits Error  \\\n",
       "0                                                   -1   \n",
       "1                                                   -8   \n",
       "2                                                  128   \n",
       "3                                                  -16   \n",
       "4                                                   -8   \n",
       "...                                                ...   \n",
       "9931                                               -32   \n",
       "9932                                                64   \n",
       "9933                                             -3600   \n",
       "9934                                              -128   \n",
       "9935                                              -256   \n",
       "\n",
       "     Stratigraphic Column Actual Num Retained Strata  Taxon Compared From  \\\n",
       "0                                                 63                 4737   \n",
       "1                                                  7                 4737   \n",
       "2                                                  3                 4737   \n",
       "3                                                496                 4737   \n",
       "4                                                 63                 4737   \n",
       "...                                              ...                  ...   \n",
       "9931                                              60                 4595   \n",
       "9932                                               9                 4595   \n",
       "9933                                             496                 4595   \n",
       "9934                                             496                 4595   \n",
       "9935                                              60                 4595   \n",
       "\n",
       "      Taxon Compared To  Generation of Taxon Compared From  \\\n",
       "0                  4733                                501   \n",
       "1                  4733                                501   \n",
       "2                  4733                                501   \n",
       "3                  4733                                501   \n",
       "4                  4733                                501   \n",
       "...                 ...                                ...   \n",
       "9931               4738                                486   \n",
       "9932               4738                                486   \n",
       "9933               4738                                486   \n",
       "9934               4738                                486   \n",
       "9935               4738                                486   \n",
       "\n",
       "      Generation of Taxon Compared To  \\\n",
       "0                                 501   \n",
       "1                                 501   \n",
       "2                                 501   \n",
       "3                                 501   \n",
       "4                                 501   \n",
       "...                               ...   \n",
       "9931                              501   \n",
       "9932                              501   \n",
       "9933                              501   \n",
       "9934                              501   \n",
       "9935                              501   \n",
       "\n",
       "      Generation Of MRCA Lower Bound (inclusive)  \\\n",
       "0                                          440.0   \n",
       "1                                          448.0   \n",
       "2                                          256.0   \n",
       "3                                          474.0   \n",
       "4                                          472.0   \n",
       "...                                          ...   \n",
       "9931                                       480.0   \n",
       "9932                                       480.0   \n",
       "9933                                       476.0   \n",
       "9934                                       480.0   \n",
       "9935                                       480.0   \n",
       "\n",
       "      Generation Of MRCA Upper Bound (exclusive)  MRCA Bound Confidence  \\\n",
       "0                                          480.0               0.968750   \n",
       "1                                          500.0               0.996094   \n",
       "2                                          500.0               1.000000   \n",
       "3                                          479.0               0.968750   \n",
       "4                                          480.0               0.996094   \n",
       "...                                          ...                    ...   \n",
       "9931                                       482.0               0.996094   \n",
       "9932                                       486.0               1.000000   \n",
       "9933                                       481.0               0.968750   \n",
       "9934                                       481.0               0.996094   \n",
       "9935                                       482.0               1.000000   \n",
       "\n",
       "      Rank of Earliest Detectable Mrca With  \n",
       "0                                        40  \n",
       "1                                         0  \n",
       "2                                         0  \n",
       "3                                         4  \n",
       "4                                         0  \n",
       "...                                     ...  \n",
       "9931                                      0  \n",
       "9932                                      0  \n",
       "9933                                      4  \n",
       "9934                                      0  \n",
       "9935                                      0  \n",
       "\n",
       "[9936 rows x 17 columns]"
      ]
     },
     "execution_count": 21,
     "metadata": {},
     "output_type": "execute_result"
    }
   ],
   "source": [
    "res_df\n"
   ]
  },
  {
   "cell_type": "code",
   "execution_count": 22,
   "id": "299ff03f",
   "metadata": {
    "execution": {
     "iopub.execute_input": "2022-12-13T12:41:10.778935Z",
     "iopub.status.busy": "2022-12-13T12:41:10.778566Z",
     "iopub.status.idle": "2022-12-13T12:41:10.985056Z",
     "shell.execute_reply": "2022-12-13T12:41:10.984198Z"
    },
    "papermill": {
     "duration": 0.239219,
     "end_time": "2022-12-13T12:41:10.987064",
     "exception": false,
     "start_time": "2022-12-13T12:41:10.747845",
     "status": "completed"
    },
    "tags": []
   },
   "outputs": [
    {
     "name": "stdout",
     "output_type": "stream",
     "text": [
      "digest: 3d024b557a67b8e2a5572033518c8564b219fdbde3c226f09b29a38aebe1b15f\n",
      "manifest:\n",
      "  Column Configuration: '                              18#         ex., actual_bits=63+actual_strata=63+bits_error=-1+differentia=1+policy=TaperedDepthProportionalResolution+resolution=31+target_bits=64'\n",
      "  Differentia Bit Width: '                             3#          ex., 1'\n",
      "  Generation Of MRCA Lower Bound (inclusive): '        76#,1668na  ex., 440.0'\n",
      "  Generation Of MRCA Upper Bound (exclusive): '        70#,1668na  ex., 480.0'\n",
      "  Generation of Taxon Compared From: '                 10#         ex., 501'\n",
      "  Generation of Taxon Compared To: '                   10#         ex., 501'\n",
      "  MRCA Bound Confidence: '                             3#          ex., 0.96875'\n",
      "  Rank of Earliest Detectable Mrca With: '             5#          ex., 40'\n",
      "  Stratigraphic Column Actual Num Retained Strata: '   6#          ex., 63'\n",
      "  Stratigraphic Column Expected Retained Bits: '       13#         ex., 63'\n",
      "  Stratigraphic Column Expected Retained Bits Error: ' 13#         ex., -1'\n",
      "  Stratigraphic Column Mean Actual Retained Bits: '    13#         ex., 62.833333333333336'\n",
      "  Stratigraphic Column Target Retained Bits: '         3#          ex., 64'\n",
      "  Stratum Retention Policy: '                          2#          ex., TaperedDepthProportionalResolution'\n",
      "  Stratum Retention Policy Resolution Parameter: '     6#          ex., 31'\n",
      "  Taxon Compared From: '                               24#         ex., 4737'\n",
      "  Taxon Compared To: '                                 24#         ex., 4733'\n",
      "num cols: 17\n",
      "num cols all na: 0\n",
      "num cols any na: 2\n",
      "num na: 3336\n",
      "num rows: 9936\n",
      "num rows all na: 0\n",
      "num rows any na: 1668\n",
      "size: 6M\n",
      "\n"
     ]
    }
   ],
   "source": [
    "nbm.print_dataframe_synopsis(res_df)\n"
   ]
  },
  {
   "cell_type": "markdown",
   "id": "228e4458",
   "metadata": {
    "papermill": {
     "duration": 0.035323,
     "end_time": "2022-12-13T12:41:11.057790",
     "exception": false,
     "start_time": "2022-12-13T12:41:11.022467",
     "status": "completed"
    },
    "tags": []
   },
   "source": [
    "# Save Pairwise MRCA Estimates to File\n"
   ]
  },
  {
   "cell_type": "code",
   "execution_count": 23,
   "id": "c4857004",
   "metadata": {
    "execution": {
     "iopub.execute_input": "2022-12-13T12:41:11.131856Z",
     "iopub.status.busy": "2022-12-13T12:41:11.131472Z",
     "iopub.status.idle": "2022-12-13T12:41:11.428526Z",
     "shell.execute_reply": "2022-12-13T12:41:11.427504Z"
    },
    "papermill": {
     "duration": 0.337583,
     "end_time": "2022-12-13T12:41:11.431391",
     "exception": false,
     "start_time": "2022-12-13T12:41:11.093808",
     "status": "completed"
    },
    "tags": []
   },
   "outputs": [],
   "source": [
    "res_df.to_csv(\n",
    "    f'a=pairwise_mrca_estimates+source={data_filename}.gz',\n",
    "    compression='gzip',\n",
    ")\n",
    "res_df.to_csv(\n",
    "    f'a=pairwise_mrca_estimates+source={data_filename}',\n",
    ")\n"
   ]
  }
 ],
 "metadata": {
  "kernelspec": {
   "display_name": "Python 3",
   "language": "python",
   "name": "python3"
  },
  "papermill": {
   "default_parameters": {},
   "duration": null,
   "end_time": null,
   "environment_variables": {},
   "exception": null,
   "input_path": "/opt/hereditary-stratigraph-concept/binder/phylogenetic-inference/phylogeny_simulation_mill.ipynb",
   "output_path": "executing.endomill.ipynb",
   "parameters": {
    "data_filename": "nk_lexicaseselection_seed110_pop165_mut.01_snapshot_500.csv",
    "data_url": "https://osf.io/8ycq7/"
   },
   "start_time": "2022-12-13T12:40:59.144607",
   "version": "2.3.4"
  }
 },
 "nbformat": 4,
 "nbformat_minor": 5
}