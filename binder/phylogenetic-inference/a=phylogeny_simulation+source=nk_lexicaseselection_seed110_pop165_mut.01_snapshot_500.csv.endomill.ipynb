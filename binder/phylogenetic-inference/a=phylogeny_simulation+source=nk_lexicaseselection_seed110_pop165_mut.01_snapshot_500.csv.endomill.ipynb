{
 "cells": [
  {
   "cell_type": "code",
   "execution_count": 1,
   "id": "5a7610bb",
   "metadata": {
    "execution": {
     "iopub.execute_input": "2022-03-06T06:45:06.856097Z",
     "iopub.status.busy": "2022-03-06T06:45:06.855785Z",
     "iopub.status.idle": "2022-03-06T06:45:06.867080Z",
     "shell.execute_reply": "2022-03-06T06:45:06.866358Z"
    },
    "papermill": {
     "duration": 0.03542,
     "end_time": "2022-03-06T06:45:06.868956",
     "exception": false,
     "start_time": "2022-03-06T06:45:06.833536",
     "status": "completed"
    },
    "tags": [
     "injected-parameters"
    ]
   },
   "outputs": [],
   "source": [
    "# Parameters\n",
    "data_url = \"https://osf.io/8ycq7/\"\n"
   ]
  },
  {
   "cell_type": "code",
   "execution_count": 2,
   "id": "a03d2322",
   "metadata": {
    "execution": {
     "iopub.execute_input": "2022-03-06T06:45:06.907252Z",
     "iopub.status.busy": "2022-03-06T06:45:06.907031Z",
     "iopub.status.idle": "2022-03-06T06:45:07.845404Z",
     "shell.execute_reply": "2022-03-06T06:45:07.844585Z"
    },
    "papermill": {
     "duration": 0.959925,
     "end_time": "2022-03-06T06:45:07.847655",
     "exception": false,
     "start_time": "2022-03-06T06:45:06.887730",
     "status": "completed"
    },
    "tags": []
   },
   "outputs": [],
   "source": [
    "import endomill\n",
    "from nbmetalog import nbmetalog as nbm\n"
   ]
  },
  {
   "cell_type": "code",
   "execution_count": 3,
   "id": "c3c471bc",
   "metadata": {
    "execution": {
     "iopub.execute_input": "2022-03-06T06:45:07.883318Z",
     "iopub.status.busy": "2022-03-06T06:45:07.883101Z",
     "iopub.status.idle": "2022-03-06T06:45:08.266764Z",
     "shell.execute_reply": "2022-03-06T06:45:08.266036Z"
    },
    "papermill": {
     "duration": 0.402602,
     "end_time": "2022-03-06T06:45:08.268715",
     "exception": false,
     "start_time": "2022-03-06T06:45:07.866113",
     "status": "completed"
    },
    "tags": []
   },
   "outputs": [
    {
     "name": "stdout",
     "output_type": "stream",
     "text": [
      "context: ci\n",
      "hostname: 47dca9ab4cdc\n",
      "interpreter: 3.8.12 (default, Jan 15 2022, 18:39:47)  [GCC 7.5.0]\n",
      "nbcellexec: 3\n",
      "nbname: phylogeny_simulation_mill\n",
      "nbpath: /opt/hereditary-stratigraph-concept/binder/phylogenetic-inference/phylogeny_simulation_mill.ipynb\n",
      "revision: null\n",
      "session: e68e7397-a3cd-4a72-910f-b5942cacfd73\n",
      "timestamp: 2022-03-06T06:45:08Z00:00\n",
      "\n",
      "\n"
     ]
    },
    {
     "name": "stdout",
     "output_type": "stream",
     "text": [
      "IPython==7.16.1\n",
      "keyname==0.4.1\n",
      "yaml==5.3.1\n",
      "endomill==0.1.2\n",
      "nbmetalog==0.2.6\n",
      "re==2.2.1\n",
      "ipython_genutils==0.2.0\n",
      "logging==0.5.1.2\n",
      "zmq==22.3.0\n",
      "json==2.0.9\n",
      "ipykernel==5.5.3\n"
     ]
    }
   ],
   "source": [
    "nbm.print_metadata()\n"
   ]
  },
  {
   "cell_type": "code",
   "execution_count": 4,
   "id": "67fc1659",
   "metadata": {
    "execution": {
     "iopub.execute_input": "2022-03-06T06:45:08.307924Z",
     "iopub.status.busy": "2022-03-06T06:45:08.307708Z",
     "iopub.status.idle": "2022-03-06T06:45:08.312187Z",
     "shell.execute_reply": "2022-03-06T06:45:08.311272Z"
    },
    "papermill": {
     "duration": 0.026128,
     "end_time": "2022-03-06T06:45:08.314323",
     "exception": false,
     "start_time": "2022-03-06T06:45:08.288195",
     "status": "completed"
    },
    "tags": []
   },
   "outputs": [
    {
     "name": "stdout",
     "output_type": "stream",
     "text": [
      "detected executing.endomill.ipynb file\n",
      "skipping instantiate_over\n"
     ]
    }
   ],
   "source": [
    "endomill.instantiate_over(\n",
    "    parameter_packs=[\n",
    "        {'data_url': data_url}\n",
    "        for data_url in [\n",
    "            'https://osf.io/cz9fk/',\n",
    "            'https://osf.io/ydxt7/',\n",
    "            'https://osf.io/8ycq7/',\n",
    "            'https://osf.io/5ubn8/',\n",
    "        ]\n",
    "    ],\n",
    ")\n"
   ]
  },
  {
   "cell_type": "code",
   "execution_count": 5,
   "id": "bb6450ba",
   "metadata": {
    "execution": {
     "iopub.execute_input": "2022-03-06T06:45:08.355280Z",
     "iopub.status.busy": "2022-03-06T06:45:08.355048Z",
     "iopub.status.idle": "2022-03-06T06:45:08.359509Z",
     "shell.execute_reply": "2022-03-06T06:45:08.358569Z"
    },
    "papermill": {
     "duration": 0.028938,
     "end_time": "2022-03-06T06:45:08.361498",
     "exception": false,
     "start_time": "2022-03-06T06:45:08.332560",
     "status": "completed"
    },
    "tags": []
   },
   "outputs": [],
   "source": [
    "# define papermill parameters\n",
    "data_url: str\n"
   ]
  },
  {
   "cell_type": "code",
   "execution_count": 6,
   "id": "a340f5e3",
   "metadata": {
    "execution": {
     "iopub.execute_input": "2022-03-06T06:45:08.410239Z",
     "iopub.status.busy": "2022-03-06T06:45:08.410002Z",
     "iopub.status.idle": "2022-03-06T06:45:08.534842Z",
     "shell.execute_reply": "2022-03-06T06:45:08.533993Z"
    },
    "papermill": {
     "duration": 0.148521,
     "end_time": "2022-03-06T06:45:08.537248",
     "exception": false,
     "start_time": "2022-03-06T06:45:08.388727",
     "status": "completed"
    },
    "tags": []
   },
   "outputs": [],
   "source": [
    "import anytree\n",
    "from bs4 import BeautifulSoup\n",
    "from collections import defaultdict\n",
    "from hstrat import hstrat\n",
    "from interval_search import doubling_search\n",
    "from iterpop import iterpop as ip\n",
    "import itertools as it\n",
    "from keyname import keyname as kn\n",
    "import opytional as opyt\n",
    "import pandas as pd\n",
    "import random\n",
    "import sys\n",
    "from tqdm import tqdm\n",
    "from urllib import request\n"
   ]
  },
  {
   "cell_type": "code",
   "execution_count": 7,
   "id": "a411dd65",
   "metadata": {
    "execution": {
     "iopub.execute_input": "2022-03-06T06:45:08.583034Z",
     "iopub.status.busy": "2022-03-06T06:45:08.582788Z",
     "iopub.status.idle": "2022-03-06T06:45:08.587324Z",
     "shell.execute_reply": "2022-03-06T06:45:08.586599Z"
    },
    "papermill": {
     "duration": 0.029938,
     "end_time": "2022-03-06T06:45:08.589142",
     "exception": false,
     "start_time": "2022-03-06T06:45:08.559204",
     "status": "completed"
    },
    "tags": []
   },
   "outputs": [],
   "source": [
    "random.seed(1) # ensure reproducibility\n",
    "sys.setrecursionlimit(100000) # anytree exceeds default recursion limit on our data\n"
   ]
  },
  {
   "cell_type": "code",
   "execution_count": 8,
   "id": "37ec6d9e",
   "metadata": {
    "execution": {
     "iopub.execute_input": "2022-03-06T06:45:08.631766Z",
     "iopub.status.busy": "2022-03-06T06:45:08.631555Z",
     "iopub.status.idle": "2022-03-06T06:45:08.896908Z",
     "shell.execute_reply": "2022-03-06T06:45:08.896005Z"
    },
    "papermill": {
     "duration": 0.28877,
     "end_time": "2022-03-06T06:45:08.899342",
     "exception": false,
     "start_time": "2022-03-06T06:45:08.610572",
     "status": "completed"
    },
    "tags": []
   },
   "outputs": [
    {
     "name": "stdout",
     "output_type": "stream",
     "text": [
      "context: ci\n",
      "hostname: 47dca9ab4cdc\n",
      "interpreter: 3.8.12 (default, Jan 15 2022, 18:39:47)  [GCC 7.5.0]\n",
      "nbcellexec: 8\n",
      "nbname: phylogeny_simulation_mill\n",
      "nbpath: /opt/hereditary-stratigraph-concept/binder/phylogenetic-inference/phylogeny_simulation_mill.ipynb\n",
      "revision: null\n",
      "session: e68e7397-a3cd-4a72-910f-b5942cacfd73\n",
      "timestamp: 2022-03-06T06:45:08Z00:00\n",
      "\n",
      "\n"
     ]
    },
    {
     "name": "stdout",
     "output_type": "stream",
     "text": [
      "IPython==7.16.1\n",
      "endomill==0.1.2\n",
      "ipykernel==5.5.3\n",
      "ipython_genutils==0.2.0\n",
      "json==2.0.9\n",
      "keyname==0.4.1\n",
      "logging==0.5.1.2\n",
      "nbmetalog==0.2.6\n",
      "re==2.2.1\n",
      "yaml==5.3.1\n",
      "zmq==22.3.0\n",
      "anytree==2.8.0\n",
      "hstrat==0.2.0\n",
      "iterpop==0.3.4\n",
      "opytional==0.1.0\n",
      "pandas==1.1.2\n"
     ]
    }
   ],
   "source": [
    "nbm.print_metadata()\n"
   ]
  },
  {
   "cell_type": "code",
   "execution_count": 9,
   "id": "3e5ea169",
   "metadata": {
    "execution": {
     "iopub.execute_input": "2022-03-06T06:45:08.942475Z",
     "iopub.status.busy": "2022-03-06T06:45:08.942171Z",
     "iopub.status.idle": "2022-03-06T06:45:09.542907Z",
     "shell.execute_reply": "2022-03-06T06:45:09.542261Z"
    },
    "papermill": {
     "duration": 0.624382,
     "end_time": "2022-03-06T06:45:09.544827",
     "exception": false,
     "start_time": "2022-03-06T06:45:08.920445",
     "status": "completed"
    },
    "tags": []
   },
   "outputs": [
    {
     "name": "stdout",
     "output_type": "stream",
     "text": [
      "nk_lexicaseselection_seed110_pop165_mut.01_snapshot_500.csv\n"
     ]
    }
   ],
   "source": [
    "html = request.urlopen(data_url).read().decode('utf8')\n",
    "\n",
    "soup = BeautifulSoup(html, 'html.parser')\n",
    "title = soup.find('title')\n",
    "\n",
    "data_filename = title.string.split()[-1]\n",
    "print(data_filename)\n"
   ]
  },
  {
   "cell_type": "code",
   "execution_count": 10,
   "id": "5db467b7",
   "metadata": {
    "execution": {
     "iopub.execute_input": "2022-03-06T06:45:09.591946Z",
     "iopub.status.busy": "2022-03-06T06:45:09.591708Z",
     "iopub.status.idle": "2022-03-06T06:45:09.595183Z",
     "shell.execute_reply": "2022-03-06T06:45:09.594583Z"
    },
    "papermill": {
     "duration": 0.030735,
     "end_time": "2022-03-06T06:45:09.597199",
     "exception": false,
     "start_time": "2022-03-06T06:45:09.566464",
     "status": "completed"
    },
    "tags": []
   },
   "outputs": [],
   "source": [
    "endomill.add_instance_outpath(\n",
    "    f'a=phylogeny_simulation+source={data_filename}.endomill.ipynb'\n",
    ")\n"
   ]
  },
  {
   "cell_type": "markdown",
   "id": "730ecee4",
   "metadata": {
    "papermill": {
     "duration": 0.021814,
     "end_time": "2022-03-06T06:45:09.641841",
     "exception": false,
     "start_time": "2022-03-06T06:45:09.620027",
     "status": "completed"
    },
    "tags": []
   },
   "source": [
    "# Retrieve Target Phylogeny from OSF\n"
   ]
  },
  {
   "cell_type": "code",
   "execution_count": 11,
   "id": "21e988e9",
   "metadata": {
    "execution": {
     "iopub.execute_input": "2022-03-06T06:45:09.686039Z",
     "iopub.status.busy": "2022-03-06T06:45:09.685705Z",
     "iopub.status.idle": "2022-03-06T06:45:11.550946Z",
     "shell.execute_reply": "2022-03-06T06:45:11.550125Z"
    },
    "papermill": {
     "duration": 1.890637,
     "end_time": "2022-03-06T06:45:11.553262",
     "exception": false,
     "start_time": "2022-03-06T06:45:09.662625",
     "status": "completed"
    },
    "tags": []
   },
   "outputs": [
    {
     "name": "stdout",
     "output_type": "stream",
     "text": [
      "digest: 7bffa7d6c47b38c6b9dc45d5093196088d0d82dd210a18e110bc231e2aab7746\n",
      "manifest:\n",
      "  ancestor_list: '    210#  ex., [4727]'\n",
      "  depth: '            59#   ex., 37'\n",
      "  destruction_time: ' 159#  ex., inf'\n",
      "  id: '               233#  ex., 4737'\n",
      "  num_offspring: '    4#    ex., 0'\n",
      "  num_orgs: '         8#    ex., 1'\n",
      "  origin_time: '      176#  ex., 500'\n",
      "  phenotype: '        187#  ex., [ 0.78551 0.507546 0.298434 0.703895 0.70148 0.897296\n",
      "    0.852754 0.533489 0.975623 0.814646 0.0274892 0.45607 0.221636 0.767401 0.74891\n",
      "    0.860365 0.319087 0.293359 0.997853 0.770533 ]'\n",
      "  tot_orgs: '         111#  ex., 1'\n",
      "  total_offspring: '  15#   ex., 0'\n",
      "num cols: 10\n",
      "num cols all na: 0\n",
      "num cols any na: 0\n",
      "num na: 0\n",
      "num rows: 233\n",
      "num rows all na: 0\n",
      "num rows any na: 0\n",
      "size: 83K\n",
      "\n"
     ]
    }
   ],
   "source": [
    "target_phylogeny_df = pd.read_csv(\n",
    "    f'{data_url}/download',\n",
    ")\n",
    "\n",
    "nbm.print_dataframe_synopsis(target_phylogeny_df)\n"
   ]
  },
  {
   "cell_type": "markdown",
   "id": "ac110b6d",
   "metadata": {
    "papermill": {
     "duration": 0.025528,
     "end_time": "2022-03-06T06:45:11.603911",
     "exception": false,
     "start_time": "2022-03-06T06:45:11.578383",
     "status": "completed"
    },
    "tags": []
   },
   "source": [
    "# Create a Tree with Target Phylogeny Structure\n"
   ]
  },
  {
   "cell_type": "code",
   "execution_count": 12,
   "id": "e34576a9",
   "metadata": {
    "execution": {
     "iopub.execute_input": "2022-03-06T06:45:11.649992Z",
     "iopub.status.busy": "2022-03-06T06:45:11.649712Z",
     "iopub.status.idle": "2022-03-06T06:45:11.695760Z",
     "shell.execute_reply": "2022-03-06T06:45:11.695019Z"
    },
    "papermill": {
     "duration": 0.071457,
     "end_time": "2022-03-06T06:45:11.697729",
     "exception": false,
     "start_time": "2022-03-06T06:45:11.626272",
     "status": "completed"
    },
    "tags": []
   },
   "outputs": [],
   "source": [
    "# map id to anytree node\n",
    "nodes = defaultdict(anytree.AnyNode)\n",
    "for __, row in target_phylogeny_df.iterrows():\n",
    "    node = nodes[row['id']]\n",
    "    node.id = row['id']\n",
    "    node.origin_time = row['origin_time']\n",
    "    if 'NONE' not in row['ancestor_list']:\n",
    "        ancestor_id = ip.popsingleton(\n",
    "            eval(row['ancestor_list'])\n",
    "        )\n",
    "        node.parent = nodes[ancestor_id]\n",
    "\n",
    "roots = {node.root for node in nodes.values()}\n"
   ]
  },
  {
   "cell_type": "code",
   "execution_count": 13,
   "id": "489cce7c",
   "metadata": {
    "execution": {
     "iopub.execute_input": "2022-03-06T06:45:11.743703Z",
     "iopub.status.busy": "2022-03-06T06:45:11.743447Z",
     "iopub.status.idle": "2022-03-06T06:45:11.755046Z",
     "shell.execute_reply": "2022-03-06T06:45:11.754353Z"
    },
    "papermill": {
     "duration": 0.036072,
     "end_time": "2022-03-06T06:45:11.756640",
     "exception": false,
     "start_time": "2022-03-06T06:45:11.720568",
     "status": "completed"
    },
    "tags": []
   },
   "outputs": [
    {
     "data": {
      "text/plain": [
       "58"
      ]
     },
     "execution_count": 13,
     "metadata": {},
     "output_type": "execute_result"
    }
   ],
   "source": [
    "root = ip.popsingleton(roots)\n",
    "root.height\n"
   ]
  },
  {
   "cell_type": "markdown",
   "id": "5756b3db",
   "metadata": {
    "papermill": {
     "duration": 0.022936,
     "end_time": "2022-03-06T06:45:11.803279",
     "exception": false,
     "start_time": "2022-03-06T06:45:11.780343",
     "status": "completed"
    },
    "tags": []
   },
   "source": [
    "# Pick Parameters for Hereditary Stratigraphic Columns\n"
   ]
  },
  {
   "cell_type": "code",
   "execution_count": 14,
   "id": "4f16c43b",
   "metadata": {
    "execution": {
     "iopub.execute_input": "2022-03-06T06:45:11.851553Z",
     "iopub.status.busy": "2022-03-06T06:45:11.851250Z",
     "iopub.status.idle": "2022-03-06T06:45:11.859694Z",
     "shell.execute_reply": "2022-03-06T06:45:11.858799Z"
    },
    "papermill": {
     "duration": 0.03445,
     "end_time": "2022-03-06T06:45:11.861531",
     "exception": false,
     "start_time": "2022-03-06T06:45:11.827081",
     "status": "completed"
    },
    "tags": []
   },
   "outputs": [],
   "source": [
    "def make_conditions(num_generations: int) -> pd.DataFrame:\n",
    "    res = []\n",
    "    for condemner_factory, target_column_bits, differentia_bit_width in it.product(\n",
    "        [\n",
    "            hstrat.StratumRetentionCondemnerTaperedDepthProportionalResolution,\n",
    "            hstrat.StratumRetentionCondemnerRecencyProportionalResolution,\n",
    "        ],\n",
    "        [\n",
    "            64,\n",
    "            64 * 8,\n",
    "            64 * 16,\n",
    "        ],\n",
    "        [\n",
    "            1,\n",
    "            8,\n",
    "            64,\n",
    "        ],\n",
    "    ):\n",
    "        policy_param = doubling_search(\n",
    "            lambda x: \\\n",
    "                condemner_factory(x + 1).CalcNumStrataRetainedExact(num_generations)\n",
    "                * differentia_bit_width > target_column_bits or x >= num_generations,\n",
    "            {\n",
    "                hstrat.StratumRetentionCondemnerTaperedDepthProportionalResolution: 1,\n",
    "                hstrat.StratumRetentionCondemnerRecencyProportionalResolution: 0,\n",
    "            }[condemner_factory],\n",
    "        )\n",
    "\n",
    "        actual_column_strata = condemner_factory(policy_param).CalcNumStrataRetainedExact(num_generations)\n",
    "        actual_column_bits = actual_column_strata * differentia_bit_width\n",
    "\n",
    "        res.append({\n",
    "            'Retention Policy' : condemner_factory.__name__[25:],\n",
    "            'Differentia Bit Width' : differentia_bit_width,\n",
    "            'Retention Policy Resolution Parameter' : policy_param,\n",
    "            'Target Retained Bits' : target_column_bits,\n",
    "            'Actual Retained Bits' : actual_column_bits,\n",
    "            'Retained Bits Error' : actual_column_bits - target_column_bits,\n",
    "            'Actual Retained Strata' : actual_column_strata,\n",
    "            'condemner' : condemner_factory(policy_param),\n",
    "        })\n",
    "    return pd.DataFrame.from_records(res)\n"
   ]
  },
  {
   "cell_type": "code",
   "execution_count": 15,
   "id": "dbf72a1c",
   "metadata": {
    "execution": {
     "iopub.execute_input": "2022-03-06T06:45:11.910961Z",
     "iopub.status.busy": "2022-03-06T06:45:11.910655Z",
     "iopub.status.idle": "2022-03-06T06:45:11.928967Z",
     "shell.execute_reply": "2022-03-06T06:45:11.928295Z"
    },
    "papermill": {
     "duration": 0.044729,
     "end_time": "2022-03-06T06:45:11.930701",
     "exception": false,
     "start_time": "2022-03-06T06:45:11.885972",
     "status": "completed"
    },
    "tags": []
   },
   "outputs": [
    {
     "data": {
      "text/html": [
       "<div>\n",
       "<style scoped>\n",
       "    .dataframe tbody tr th:only-of-type {\n",
       "        vertical-align: middle;\n",
       "    }\n",
       "\n",
       "    .dataframe tbody tr th {\n",
       "        vertical-align: top;\n",
       "    }\n",
       "\n",
       "    .dataframe thead th {\n",
       "        text-align: right;\n",
       "    }\n",
       "</style>\n",
       "<table border=\"1\" class=\"dataframe\">\n",
       "  <thead>\n",
       "    <tr style=\"text-align: right;\">\n",
       "      <th></th>\n",
       "      <th>Retention Policy</th>\n",
       "      <th>Differentia Bit Width</th>\n",
       "      <th>Retention Policy Resolution Parameter</th>\n",
       "      <th>Target Retained Bits</th>\n",
       "      <th>Actual Retained Bits</th>\n",
       "      <th>Retained Bits Error</th>\n",
       "      <th>Actual Retained Strata</th>\n",
       "    </tr>\n",
       "  </thead>\n",
       "  <tbody>\n",
       "    <tr>\n",
       "      <th>0</th>\n",
       "      <td>TaperedDepthProportionalResolution</td>\n",
       "      <td>1</td>\n",
       "      <td>59</td>\n",
       "      <td>64</td>\n",
       "      <td>59</td>\n",
       "      <td>-5</td>\n",
       "      <td>59</td>\n",
       "    </tr>\n",
       "    <tr>\n",
       "      <th>1</th>\n",
       "      <td>TaperedDepthProportionalResolution</td>\n",
       "      <td>8</td>\n",
       "      <td>3</td>\n",
       "      <td>64</td>\n",
       "      <td>56</td>\n",
       "      <td>-8</td>\n",
       "      <td>7</td>\n",
       "    </tr>\n",
       "    <tr>\n",
       "      <th>2</th>\n",
       "      <td>TaperedDepthProportionalResolution</td>\n",
       "      <td>64</td>\n",
       "      <td>1</td>\n",
       "      <td>64</td>\n",
       "      <td>192</td>\n",
       "      <td>128</td>\n",
       "      <td>3</td>\n",
       "    </tr>\n",
       "    <tr>\n",
       "      <th>3</th>\n",
       "      <td>TaperedDepthProportionalResolution</td>\n",
       "      <td>1</td>\n",
       "      <td>59</td>\n",
       "      <td>512</td>\n",
       "      <td>59</td>\n",
       "      <td>-453</td>\n",
       "      <td>59</td>\n",
       "    </tr>\n",
       "    <tr>\n",
       "      <th>4</th>\n",
       "      <td>TaperedDepthProportionalResolution</td>\n",
       "      <td>8</td>\n",
       "      <td>59</td>\n",
       "      <td>512</td>\n",
       "      <td>472</td>\n",
       "      <td>-40</td>\n",
       "      <td>59</td>\n",
       "    </tr>\n",
       "    <tr>\n",
       "      <th>5</th>\n",
       "      <td>TaperedDepthProportionalResolution</td>\n",
       "      <td>64</td>\n",
       "      <td>3</td>\n",
       "      <td>512</td>\n",
       "      <td>448</td>\n",
       "      <td>-64</td>\n",
       "      <td>7</td>\n",
       "    </tr>\n",
       "    <tr>\n",
       "      <th>6</th>\n",
       "      <td>TaperedDepthProportionalResolution</td>\n",
       "      <td>1</td>\n",
       "      <td>59</td>\n",
       "      <td>1024</td>\n",
       "      <td>59</td>\n",
       "      <td>-965</td>\n",
       "      <td>59</td>\n",
       "    </tr>\n",
       "    <tr>\n",
       "      <th>7</th>\n",
       "      <td>TaperedDepthProportionalResolution</td>\n",
       "      <td>8</td>\n",
       "      <td>59</td>\n",
       "      <td>1024</td>\n",
       "      <td>472</td>\n",
       "      <td>-552</td>\n",
       "      <td>59</td>\n",
       "    </tr>\n",
       "    <tr>\n",
       "      <th>8</th>\n",
       "      <td>TaperedDepthProportionalResolution</td>\n",
       "      <td>64</td>\n",
       "      <td>8</td>\n",
       "      <td>1024</td>\n",
       "      <td>1024</td>\n",
       "      <td>0</td>\n",
       "      <td>16</td>\n",
       "    </tr>\n",
       "    <tr>\n",
       "      <th>9</th>\n",
       "      <td>RecencyProportionalResolution</td>\n",
       "      <td>1</td>\n",
       "      <td>59</td>\n",
       "      <td>64</td>\n",
       "      <td>59</td>\n",
       "      <td>-5</td>\n",
       "      <td>59</td>\n",
       "    </tr>\n",
       "    <tr>\n",
       "      <th>10</th>\n",
       "      <td>RecencyProportionalResolution</td>\n",
       "      <td>8</td>\n",
       "      <td>0</td>\n",
       "      <td>64</td>\n",
       "      <td>40</td>\n",
       "      <td>-24</td>\n",
       "      <td>5</td>\n",
       "    </tr>\n",
       "    <tr>\n",
       "      <th>11</th>\n",
       "      <td>RecencyProportionalResolution</td>\n",
       "      <td>64</td>\n",
       "      <td>0</td>\n",
       "      <td>64</td>\n",
       "      <td>320</td>\n",
       "      <td>256</td>\n",
       "      <td>5</td>\n",
       "    </tr>\n",
       "    <tr>\n",
       "      <th>12</th>\n",
       "      <td>RecencyProportionalResolution</td>\n",
       "      <td>1</td>\n",
       "      <td>59</td>\n",
       "      <td>512</td>\n",
       "      <td>59</td>\n",
       "      <td>-453</td>\n",
       "      <td>59</td>\n",
       "    </tr>\n",
       "    <tr>\n",
       "      <th>13</th>\n",
       "      <td>RecencyProportionalResolution</td>\n",
       "      <td>8</td>\n",
       "      <td>59</td>\n",
       "      <td>512</td>\n",
       "      <td>472</td>\n",
       "      <td>-40</td>\n",
       "      <td>59</td>\n",
       "    </tr>\n",
       "    <tr>\n",
       "      <th>14</th>\n",
       "      <td>RecencyProportionalResolution</td>\n",
       "      <td>64</td>\n",
       "      <td>0</td>\n",
       "      <td>512</td>\n",
       "      <td>320</td>\n",
       "      <td>-192</td>\n",
       "      <td>5</td>\n",
       "    </tr>\n",
       "    <tr>\n",
       "      <th>15</th>\n",
       "      <td>RecencyProportionalResolution</td>\n",
       "      <td>1</td>\n",
       "      <td>59</td>\n",
       "      <td>1024</td>\n",
       "      <td>59</td>\n",
       "      <td>-965</td>\n",
       "      <td>59</td>\n",
       "    </tr>\n",
       "    <tr>\n",
       "      <th>16</th>\n",
       "      <td>RecencyProportionalResolution</td>\n",
       "      <td>8</td>\n",
       "      <td>59</td>\n",
       "      <td>1024</td>\n",
       "      <td>472</td>\n",
       "      <td>-552</td>\n",
       "      <td>59</td>\n",
       "    </tr>\n",
       "    <tr>\n",
       "      <th>17</th>\n",
       "      <td>RecencyProportionalResolution</td>\n",
       "      <td>64</td>\n",
       "      <td>2</td>\n",
       "      <td>1024</td>\n",
       "      <td>896</td>\n",
       "      <td>-128</td>\n",
       "      <td>14</td>\n",
       "    </tr>\n",
       "  </tbody>\n",
       "</table>\n",
       "</div>"
      ],
      "text/plain": [
       "                      Retention Policy  Differentia Bit Width  \\\n",
       "0   TaperedDepthProportionalResolution                      1   \n",
       "1   TaperedDepthProportionalResolution                      8   \n",
       "2   TaperedDepthProportionalResolution                     64   \n",
       "3   TaperedDepthProportionalResolution                      1   \n",
       "4   TaperedDepthProportionalResolution                      8   \n",
       "5   TaperedDepthProportionalResolution                     64   \n",
       "6   TaperedDepthProportionalResolution                      1   \n",
       "7   TaperedDepthProportionalResolution                      8   \n",
       "8   TaperedDepthProportionalResolution                     64   \n",
       "9        RecencyProportionalResolution                      1   \n",
       "10       RecencyProportionalResolution                      8   \n",
       "11       RecencyProportionalResolution                     64   \n",
       "12       RecencyProportionalResolution                      1   \n",
       "13       RecencyProportionalResolution                      8   \n",
       "14       RecencyProportionalResolution                     64   \n",
       "15       RecencyProportionalResolution                      1   \n",
       "16       RecencyProportionalResolution                      8   \n",
       "17       RecencyProportionalResolution                     64   \n",
       "\n",
       "    Retention Policy Resolution Parameter  Target Retained Bits  \\\n",
       "0                                      59                    64   \n",
       "1                                       3                    64   \n",
       "2                                       1                    64   \n",
       "3                                      59                   512   \n",
       "4                                      59                   512   \n",
       "5                                       3                   512   \n",
       "6                                      59                  1024   \n",
       "7                                      59                  1024   \n",
       "8                                       8                  1024   \n",
       "9                                      59                    64   \n",
       "10                                      0                    64   \n",
       "11                                      0                    64   \n",
       "12                                     59                   512   \n",
       "13                                     59                   512   \n",
       "14                                      0                   512   \n",
       "15                                     59                  1024   \n",
       "16                                     59                  1024   \n",
       "17                                      2                  1024   \n",
       "\n",
       "    Actual Retained Bits  Retained Bits Error  Actual Retained Strata  \n",
       "0                     59                   -5                      59  \n",
       "1                     56                   -8                       7  \n",
       "2                    192                  128                       3  \n",
       "3                     59                 -453                      59  \n",
       "4                    472                  -40                      59  \n",
       "5                    448                  -64                       7  \n",
       "6                     59                 -965                      59  \n",
       "7                    472                 -552                      59  \n",
       "8                   1024                    0                      16  \n",
       "9                     59                   -5                      59  \n",
       "10                    40                  -24                       5  \n",
       "11                   320                  256                       5  \n",
       "12                    59                 -453                      59  \n",
       "13                   472                  -40                      59  \n",
       "14                   320                 -192                       5  \n",
       "15                    59                 -965                      59  \n",
       "16                   472                 -552                      59  \n",
       "17                   896                 -128                      14  "
      ]
     },
     "execution_count": 15,
     "metadata": {},
     "output_type": "execute_result"
    }
   ],
   "source": [
    "conditions_df = make_conditions(root.height + 1)\n",
    "conditions_df.drop('condemner', axis=1)\n"
   ]
  },
  {
   "cell_type": "markdown",
   "id": "9d636d04",
   "metadata": {
    "papermill": {
     "duration": 0.025808,
     "end_time": "2022-03-06T06:45:11.981110",
     "exception": false,
     "start_time": "2022-03-06T06:45:11.955302",
     "status": "completed"
    },
    "tags": []
   },
   "source": [
    "# Set Up Ancestor Column\n"
   ]
  },
  {
   "cell_type": "code",
   "execution_count": 16,
   "id": "d9ea800b",
   "metadata": {
    "execution": {
     "iopub.execute_input": "2022-03-06T06:45:12.032801Z",
     "iopub.status.busy": "2022-03-06T06:45:12.032526Z",
     "iopub.status.idle": "2022-03-06T06:45:12.042726Z",
     "shell.execute_reply": "2022-03-06T06:45:12.042065Z"
    },
    "papermill": {
     "duration": 0.0395,
     "end_time": "2022-03-06T06:45:12.044888",
     "exception": false,
     "start_time": "2022-03-06T06:45:12.005388",
     "status": "completed"
    },
    "tags": []
   },
   "outputs": [],
   "source": [
    "bundle = hstrat.HereditaryStratigraphicColumnBundle({\n",
    "    kn.pack({\n",
    "        'differentia' : row['Differentia Bit Width'],\n",
    "        'policy' : row['Retention Policy'],\n",
    "        'resolution' : row['Retention Policy Resolution Parameter'],\n",
    "        'target_bits' : row['Target Retained Bits'],\n",
    "        'actual_bits' : row['Actual Retained Bits'],\n",
    "        'bits_error' : row['Retained Bits Error'],\n",
    "        'actual_strata' : row['Actual Retained Strata'],\n",
    "    }) \\\n",
    "        : hstrat.HereditaryStratigraphicColumn(\n",
    "            stratum_differentia_bit_width=row['Differentia Bit Width'],\n",
    "            stratum_retention_condemner=row['condemner'],\n",
    "    )\n",
    "    for __, row in conditions_df.iterrows()\n",
    "})\n"
   ]
  },
  {
   "cell_type": "markdown",
   "id": "ebdb2334",
   "metadata": {
    "papermill": {
     "duration": 0.024627,
     "end_time": "2022-03-06T06:45:12.094445",
     "exception": false,
     "start_time": "2022-03-06T06:45:12.069818",
     "status": "completed"
    },
    "tags": []
   },
   "source": [
    "# Simulate Inheritance of Ancestor Column Down Phylogenetic Tree\n"
   ]
  },
  {
   "cell_type": "code",
   "execution_count": 17,
   "id": "aec7182a",
   "metadata": {
    "execution": {
     "iopub.execute_input": "2022-03-06T06:45:12.145737Z",
     "iopub.status.busy": "2022-03-06T06:45:12.145446Z",
     "iopub.status.idle": "2022-03-06T06:45:12.981643Z",
     "shell.execute_reply": "2022-03-06T06:45:12.980856Z"
    },
    "papermill": {
     "duration": 0.865175,
     "end_time": "2022-03-06T06:45:12.983696",
     "exception": false,
     "start_time": "2022-03-06T06:45:12.118521",
     "status": "completed"
    },
    "tags": []
   },
   "outputs": [],
   "source": [
    "root = ip.popsingleton(roots)\n",
    "root.hstrat_column = bundle\n",
    "\n",
    "for node in anytree.LevelOrderIter(ip.popsingleton(roots)):\n",
    "    parent = node.parent\n",
    "    if parent is not None:\n",
    "        node.hstrat_column = parent.hstrat_column.Clone()\n",
    "        for __ in range(node.origin_time - parent.origin_time): node.hstrat_column.DepositStratum()\n"
   ]
  },
  {
   "cell_type": "markdown",
   "id": "996f845b",
   "metadata": {
    "papermill": {
     "duration": 0.021443,
     "end_time": "2022-03-06T06:45:13.028303",
     "exception": false,
     "start_time": "2022-03-06T06:45:13.006860",
     "status": "completed"
    },
    "tags": []
   },
   "source": [
    "# Extract Pairwise MRCA Estimates for Extant Organisms\n"
   ]
  },
  {
   "cell_type": "code",
   "execution_count": 18,
   "id": "bae3fe0f",
   "metadata": {
    "execution": {
     "iopub.execute_input": "2022-03-06T06:45:13.074666Z",
     "iopub.status.busy": "2022-03-06T06:45:13.074448Z",
     "iopub.status.idle": "2022-03-06T06:45:16.104246Z",
     "shell.execute_reply": "2022-03-06T06:45:16.103654Z"
    },
    "papermill": {
     "duration": 3.057397,
     "end_time": "2022-03-06T06:45:16.106777",
     "exception": false,
     "start_time": "2022-03-06T06:45:13.049380",
     "status": "completed"
    },
    "tags": []
   },
   "outputs": [
    {
     "name": "stderr",
     "output_type": "stream",
     "text": [
      "\r",
      "  0%|          | 0/576 [00:00<?, ?it/s]"
     ]
    },
    {
     "name": "stderr",
     "output_type": "stream",
     "text": [
      "\r",
      "  5%|▌         | 31/576 [00:00<00:01, 306.15it/s]"
     ]
    },
    {
     "name": "stderr",
     "output_type": "stream",
     "text": [
      "\r",
      " 10%|▉         | 56/576 [00:00<00:01, 278.99it/s]"
     ]
    },
    {
     "name": "stderr",
     "output_type": "stream",
     "text": [
      "\r",
      " 14%|█▎        | 79/576 [00:00<00:01, 255.77it/s]"
     ]
    },
    {
     "name": "stderr",
     "output_type": "stream",
     "text": [
      "\r",
      " 17%|█▋        | 100/576 [00:00<00:02, 230.31it/s]"
     ]
    },
    {
     "name": "stderr",
     "output_type": "stream",
     "text": [
      "\r",
      " 22%|██▏       | 124/576 [00:00<00:01, 231.18it/s]"
     ]
    },
    {
     "name": "stderr",
     "output_type": "stream",
     "text": [
      "\r",
      " 26%|██▌       | 147/576 [00:00<00:01, 226.29it/s]"
     ]
    },
    {
     "name": "stderr",
     "output_type": "stream",
     "text": [
      "\r",
      " 29%|██▉       | 167/576 [00:00<00:01, 216.85it/s]"
     ]
    },
    {
     "name": "stderr",
     "output_type": "stream",
     "text": [
      "\r",
      " 32%|███▏      | 187/576 [00:00<00:01, 205.02it/s]"
     ]
    },
    {
     "name": "stderr",
     "output_type": "stream",
     "text": [
      "\r",
      " 36%|███▌      | 207/576 [00:00<00:01, 199.33it/s]"
     ]
    },
    {
     "name": "stderr",
     "output_type": "stream",
     "text": [
      "\r",
      " 40%|███▉      | 228/576 [00:01<00:01, 201.97it/s]"
     ]
    },
    {
     "name": "stderr",
     "output_type": "stream",
     "text": [
      "\r",
      " 45%|████▍     | 258/576 [00:01<00:01, 220.29it/s]"
     ]
    },
    {
     "name": "stderr",
     "output_type": "stream",
     "text": [
      "\r",
      " 49%|████▉     | 281/576 [00:01<00:01, 215.08it/s]"
     ]
    },
    {
     "name": "stderr",
     "output_type": "stream",
     "text": [
      "\r",
      " 53%|█████▎    | 303/576 [00:01<00:01, 213.81it/s]"
     ]
    },
    {
     "name": "stderr",
     "output_type": "stream",
     "text": [
      "\r",
      " 56%|█████▋    | 325/576 [00:01<00:01, 186.74it/s]"
     ]
    },
    {
     "name": "stderr",
     "output_type": "stream",
     "text": [
      "\r",
      " 60%|█████▉    | 345/576 [00:01<00:01, 178.76it/s]"
     ]
    },
    {
     "name": "stderr",
     "output_type": "stream",
     "text": [
      "\r",
      " 63%|██████▎   | 364/576 [00:01<00:01, 154.78it/s]"
     ]
    },
    {
     "name": "stderr",
     "output_type": "stream",
     "text": [
      "\r",
      " 66%|██████▌   | 381/576 [00:01<00:01, 140.48it/s]"
     ]
    },
    {
     "name": "stderr",
     "output_type": "stream",
     "text": [
      "\r",
      " 69%|██████▉   | 400/576 [00:02<00:01, 152.19it/s]"
     ]
    },
    {
     "name": "stderr",
     "output_type": "stream",
     "text": [
      "\r",
      " 73%|███████▎  | 420/576 [00:02<00:00, 162.24it/s]"
     ]
    },
    {
     "name": "stderr",
     "output_type": "stream",
     "text": [
      "\r",
      " 76%|███████▌  | 438/576 [00:02<00:00, 152.27it/s]"
     ]
    },
    {
     "name": "stderr",
     "output_type": "stream",
     "text": [
      "\r",
      " 79%|███████▉  | 454/576 [00:02<00:00, 135.94it/s]"
     ]
    },
    {
     "name": "stderr",
     "output_type": "stream",
     "text": [
      "\r",
      " 82%|████████▏ | 472/576 [00:02<00:00, 145.40it/s]"
     ]
    },
    {
     "name": "stderr",
     "output_type": "stream",
     "text": [
      "\r",
      " 85%|████████▌ | 492/576 [00:02<00:00, 157.77it/s]"
     ]
    },
    {
     "name": "stderr",
     "output_type": "stream",
     "text": [
      "\r",
      " 88%|████████▊ | 509/576 [00:02<00:00, 156.75it/s]"
     ]
    },
    {
     "name": "stderr",
     "output_type": "stream",
     "text": [
      "\r",
      " 95%|█████████▌| 549/576 [00:02<00:00, 191.49it/s]"
     ]
    },
    {
     "name": "stderr",
     "output_type": "stream",
     "text": [
      "\r",
      "100%|█████████▉| 575/576 [00:02<00:00, 204.90it/s]"
     ]
    },
    {
     "name": "stderr",
     "output_type": "stream",
     "text": [
      "\r",
      "100%|██████████| 576/576 [00:02<00:00, 193.51it/s]"
     ]
    },
    {
     "name": "stderr",
     "output_type": "stream",
     "text": [
      "\n"
     ]
    }
   ],
   "source": [
    "res = []\n",
    "for extant1, extant2 in tqdm([*it.product(root.leaves, root.leaves)]):\n",
    "    if extant1 != extant2:\n",
    "        bounds = extant1.hstrat_column.CalcRankOfMrcaBoundsWith(extant2.hstrat_column)\n",
    "        for impl in extant1.hstrat_column:\n",
    "            res.append({\n",
    "                'Column Configuration' \\\n",
    "                    : impl,\n",
    "                'Differentia Bit Width' \\\n",
    "                    : kn.unpack(impl)['differentia'],\n",
    "                'Stratum Retention Policy' \\\n",
    "                    : kn.unpack(impl)['policy'],\n",
    "                'Stratum Retention Policy Resolution Parameter' \\\n",
    "                    : kn.unpack(impl)['resolution'],\n",
    "                'Stratigraphic Column Actual Retained Bits' \\\n",
    "                    : kn.unpack(impl)['actual_bits'],\n",
    "                'Stratigraphic Column Target Retained Bits' \\\n",
    "                    : kn.unpack(impl)['target_bits'],\n",
    "                'Stratigraphic Column Retained Bits Error' \\\n",
    "                    : kn.unpack(impl)['bits_error'],\n",
    "                'Stratigraphic Column Actual Num Retained Strata' \\\n",
    "                    : kn.unpack(impl)['actual_strata'],\n",
    "                'Taxon Compared From' \\\n",
    "                    : extant1.id,\n",
    "                'Taxon Compared To' \\\n",
    "                    : extant2.id,\n",
    "                'Generation of Taxon Compared From' \\\n",
    "                    : extant1.hstrat_column.GetNumStrataDeposited(),\n",
    "                'Generation of Taxon Compared To' \\\n",
    "                    : extant2.hstrat_column.GetNumStrataDeposited(),\n",
    "                'Generation Of MRCA Lower Bound (inclusive)' \\\n",
    "                    : opyt.apply_if(\n",
    "                        bounds[impl],\n",
    "                        lambda x: x[0],\n",
    "                    ),\n",
    "                'Generation Of MRCA Upper Bound (exclusive)' \\\n",
    "                    : opyt.apply_if(\n",
    "                        bounds[impl],\n",
    "                        lambda x: x[1],\n",
    "                    ),\n",
    "                'MRCA Bound Confidence' \\\n",
    "                    : extant1.hstrat_column[impl].CalcRankOfMrcaBoundsWithProvidedConfidenceLevel(),\n",
    "                'Rank of Earliest Detectable Mrca With' \\\n",
    "                    : extant1.hstrat_column[impl].CalcRankOfEarliestDetectableMrcaWith(extant2.hstrat_column[impl]),\n",
    "            })\n",
    "\n",
    "res_df = pd.DataFrame.from_records(res)\n"
   ]
  },
  {
   "cell_type": "code",
   "execution_count": 19,
   "id": "5e12ad54",
   "metadata": {
    "execution": {
     "iopub.execute_input": "2022-03-06T06:45:16.175078Z",
     "iopub.status.busy": "2022-03-06T06:45:16.174853Z",
     "iopub.status.idle": "2022-03-06T06:45:16.201458Z",
     "shell.execute_reply": "2022-03-06T06:45:16.200499Z"
    },
    "papermill": {
     "duration": 0.063577,
     "end_time": "2022-03-06T06:45:16.203540",
     "exception": false,
     "start_time": "2022-03-06T06:45:16.139963",
     "status": "completed"
    },
    "tags": []
   },
   "outputs": [
    {
     "data": {
      "text/html": [
       "<div>\n",
       "<style scoped>\n",
       "    .dataframe tbody tr th:only-of-type {\n",
       "        vertical-align: middle;\n",
       "    }\n",
       "\n",
       "    .dataframe tbody tr th {\n",
       "        vertical-align: top;\n",
       "    }\n",
       "\n",
       "    .dataframe thead th {\n",
       "        text-align: right;\n",
       "    }\n",
       "</style>\n",
       "<table border=\"1\" class=\"dataframe\">\n",
       "  <thead>\n",
       "    <tr style=\"text-align: right;\">\n",
       "      <th></th>\n",
       "      <th>Column Configuration</th>\n",
       "      <th>Differentia Bit Width</th>\n",
       "      <th>Stratum Retention Policy</th>\n",
       "      <th>Stratum Retention Policy Resolution Parameter</th>\n",
       "      <th>Stratigraphic Column Actual Retained Bits</th>\n",
       "      <th>Stratigraphic Column Target Retained Bits</th>\n",
       "      <th>Stratigraphic Column Retained Bits Error</th>\n",
       "      <th>Stratigraphic Column Actual Num Retained Strata</th>\n",
       "      <th>Taxon Compared From</th>\n",
       "      <th>Taxon Compared To</th>\n",
       "      <th>Generation of Taxon Compared From</th>\n",
       "      <th>Generation of Taxon Compared To</th>\n",
       "      <th>Generation Of MRCA Lower Bound (inclusive)</th>\n",
       "      <th>Generation Of MRCA Upper Bound (exclusive)</th>\n",
       "      <th>MRCA Bound Confidence</th>\n",
       "      <th>Rank of Earliest Detectable Mrca With</th>\n",
       "    </tr>\n",
       "  </thead>\n",
       "  <tbody>\n",
       "    <tr>\n",
       "      <th>0</th>\n",
       "      <td>actual_bits=59+actual_strata=59+bits_error=-5+...</td>\n",
       "      <td>1</td>\n",
       "      <td>TaperedDepthProportionalResolution</td>\n",
       "      <td>59</td>\n",
       "      <td>59</td>\n",
       "      <td>64</td>\n",
       "      <td>-5</td>\n",
       "      <td>59</td>\n",
       "      <td>4737</td>\n",
       "      <td>4733</td>\n",
       "      <td>501</td>\n",
       "      <td>501</td>\n",
       "      <td>460.0</td>\n",
       "      <td>480.0</td>\n",
       "      <td>0.968750</td>\n",
       "      <td>32</td>\n",
       "    </tr>\n",
       "    <tr>\n",
       "      <th>1</th>\n",
       "      <td>actual_bits=56+actual_strata=7+bits_error=-8+d...</td>\n",
       "      <td>8</td>\n",
       "      <td>TaperedDepthProportionalResolution</td>\n",
       "      <td>3</td>\n",
       "      <td>56</td>\n",
       "      <td>64</td>\n",
       "      <td>-8</td>\n",
       "      <td>7</td>\n",
       "      <td>4737</td>\n",
       "      <td>4733</td>\n",
       "      <td>501</td>\n",
       "      <td>501</td>\n",
       "      <td>448.0</td>\n",
       "      <td>500.0</td>\n",
       "      <td>0.996094</td>\n",
       "      <td>0</td>\n",
       "    </tr>\n",
       "    <tr>\n",
       "      <th>2</th>\n",
       "      <td>actual_bits=192+actual_strata=3+bits_error=128...</td>\n",
       "      <td>64</td>\n",
       "      <td>TaperedDepthProportionalResolution</td>\n",
       "      <td>1</td>\n",
       "      <td>192</td>\n",
       "      <td>64</td>\n",
       "      <td>128</td>\n",
       "      <td>3</td>\n",
       "      <td>4737</td>\n",
       "      <td>4733</td>\n",
       "      <td>501</td>\n",
       "      <td>501</td>\n",
       "      <td>256.0</td>\n",
       "      <td>500.0</td>\n",
       "      <td>1.000000</td>\n",
       "      <td>0</td>\n",
       "    </tr>\n",
       "    <tr>\n",
       "      <th>3</th>\n",
       "      <td>actual_bits=59+actual_strata=59+bits_error=-45...</td>\n",
       "      <td>1</td>\n",
       "      <td>TaperedDepthProportionalResolution</td>\n",
       "      <td>59</td>\n",
       "      <td>59</td>\n",
       "      <td>512</td>\n",
       "      <td>-453</td>\n",
       "      <td>59</td>\n",
       "      <td>4737</td>\n",
       "      <td>4733</td>\n",
       "      <td>501</td>\n",
       "      <td>501</td>\n",
       "      <td>460.0</td>\n",
       "      <td>480.0</td>\n",
       "      <td>0.968750</td>\n",
       "      <td>32</td>\n",
       "    </tr>\n",
       "    <tr>\n",
       "      <th>4</th>\n",
       "      <td>actual_bits=472+actual_strata=59+bits_error=-4...</td>\n",
       "      <td>8</td>\n",
       "      <td>TaperedDepthProportionalResolution</td>\n",
       "      <td>59</td>\n",
       "      <td>472</td>\n",
       "      <td>512</td>\n",
       "      <td>-40</td>\n",
       "      <td>59</td>\n",
       "      <td>4737</td>\n",
       "      <td>4733</td>\n",
       "      <td>501</td>\n",
       "      <td>501</td>\n",
       "      <td>476.0</td>\n",
       "      <td>480.0</td>\n",
       "      <td>0.996094</td>\n",
       "      <td>0</td>\n",
       "    </tr>\n",
       "    <tr>\n",
       "      <th>...</th>\n",
       "      <td>...</td>\n",
       "      <td>...</td>\n",
       "      <td>...</td>\n",
       "      <td>...</td>\n",
       "      <td>...</td>\n",
       "      <td>...</td>\n",
       "      <td>...</td>\n",
       "      <td>...</td>\n",
       "      <td>...</td>\n",
       "      <td>...</td>\n",
       "      <td>...</td>\n",
       "      <td>...</td>\n",
       "      <td>...</td>\n",
       "      <td>...</td>\n",
       "      <td>...</td>\n",
       "      <td>...</td>\n",
       "    </tr>\n",
       "    <tr>\n",
       "      <th>9931</th>\n",
       "      <td>actual_bits=472+actual_strata=59+bits_error=-4...</td>\n",
       "      <td>8</td>\n",
       "      <td>RecencyProportionalResolution</td>\n",
       "      <td>59</td>\n",
       "      <td>472</td>\n",
       "      <td>512</td>\n",
       "      <td>-40</td>\n",
       "      <td>59</td>\n",
       "      <td>4595</td>\n",
       "      <td>4738</td>\n",
       "      <td>486</td>\n",
       "      <td>501</td>\n",
       "      <td>480.0</td>\n",
       "      <td>481.0</td>\n",
       "      <td>0.996094</td>\n",
       "      <td>0</td>\n",
       "    </tr>\n",
       "    <tr>\n",
       "      <th>9932</th>\n",
       "      <td>actual_bits=320+actual_strata=5+bits_error=-19...</td>\n",
       "      <td>64</td>\n",
       "      <td>RecencyProportionalResolution</td>\n",
       "      <td>0</td>\n",
       "      <td>320</td>\n",
       "      <td>512</td>\n",
       "      <td>-192</td>\n",
       "      <td>5</td>\n",
       "      <td>4595</td>\n",
       "      <td>4738</td>\n",
       "      <td>486</td>\n",
       "      <td>501</td>\n",
       "      <td>480.0</td>\n",
       "      <td>486.0</td>\n",
       "      <td>1.000000</td>\n",
       "      <td>0</td>\n",
       "    </tr>\n",
       "    <tr>\n",
       "      <th>9933</th>\n",
       "      <td>actual_bits=59+actual_strata=59+bits_error=-96...</td>\n",
       "      <td>1</td>\n",
       "      <td>RecencyProportionalResolution</td>\n",
       "      <td>59</td>\n",
       "      <td>59</td>\n",
       "      <td>1024</td>\n",
       "      <td>-965</td>\n",
       "      <td>59</td>\n",
       "      <td>4595</td>\n",
       "      <td>4738</td>\n",
       "      <td>486</td>\n",
       "      <td>501</td>\n",
       "      <td>476.0</td>\n",
       "      <td>481.0</td>\n",
       "      <td>0.968750</td>\n",
       "      <td>28</td>\n",
       "    </tr>\n",
       "    <tr>\n",
       "      <th>9934</th>\n",
       "      <td>actual_bits=472+actual_strata=59+bits_error=-5...</td>\n",
       "      <td>8</td>\n",
       "      <td>RecencyProportionalResolution</td>\n",
       "      <td>59</td>\n",
       "      <td>472</td>\n",
       "      <td>1024</td>\n",
       "      <td>-552</td>\n",
       "      <td>59</td>\n",
       "      <td>4595</td>\n",
       "      <td>4738</td>\n",
       "      <td>486</td>\n",
       "      <td>501</td>\n",
       "      <td>480.0</td>\n",
       "      <td>481.0</td>\n",
       "      <td>0.996094</td>\n",
       "      <td>0</td>\n",
       "    </tr>\n",
       "    <tr>\n",
       "      <th>9935</th>\n",
       "      <td>actual_bits=896+actual_strata=14+bits_error=-1...</td>\n",
       "      <td>64</td>\n",
       "      <td>RecencyProportionalResolution</td>\n",
       "      <td>2</td>\n",
       "      <td>896</td>\n",
       "      <td>1024</td>\n",
       "      <td>-128</td>\n",
       "      <td>14</td>\n",
       "      <td>4595</td>\n",
       "      <td>4738</td>\n",
       "      <td>486</td>\n",
       "      <td>501</td>\n",
       "      <td>480.0</td>\n",
       "      <td>484.0</td>\n",
       "      <td>1.000000</td>\n",
       "      <td>0</td>\n",
       "    </tr>\n",
       "  </tbody>\n",
       "</table>\n",
       "<p>9936 rows × 16 columns</p>\n",
       "</div>"
      ],
      "text/plain": [
       "                                   Column Configuration Differentia Bit Width  \\\n",
       "0     actual_bits=59+actual_strata=59+bits_error=-5+...                     1   \n",
       "1     actual_bits=56+actual_strata=7+bits_error=-8+d...                     8   \n",
       "2     actual_bits=192+actual_strata=3+bits_error=128...                    64   \n",
       "3     actual_bits=59+actual_strata=59+bits_error=-45...                     1   \n",
       "4     actual_bits=472+actual_strata=59+bits_error=-4...                     8   \n",
       "...                                                 ...                   ...   \n",
       "9931  actual_bits=472+actual_strata=59+bits_error=-4...                     8   \n",
       "9932  actual_bits=320+actual_strata=5+bits_error=-19...                    64   \n",
       "9933  actual_bits=59+actual_strata=59+bits_error=-96...                     1   \n",
       "9934  actual_bits=472+actual_strata=59+bits_error=-5...                     8   \n",
       "9935  actual_bits=896+actual_strata=14+bits_error=-1...                    64   \n",
       "\n",
       "                Stratum Retention Policy  \\\n",
       "0     TaperedDepthProportionalResolution   \n",
       "1     TaperedDepthProportionalResolution   \n",
       "2     TaperedDepthProportionalResolution   \n",
       "3     TaperedDepthProportionalResolution   \n",
       "4     TaperedDepthProportionalResolution   \n",
       "...                                  ...   \n",
       "9931       RecencyProportionalResolution   \n",
       "9932       RecencyProportionalResolution   \n",
       "9933       RecencyProportionalResolution   \n",
       "9934       RecencyProportionalResolution   \n",
       "9935       RecencyProportionalResolution   \n",
       "\n",
       "     Stratum Retention Policy Resolution Parameter  \\\n",
       "0                                               59   \n",
       "1                                                3   \n",
       "2                                                1   \n",
       "3                                               59   \n",
       "4                                               59   \n",
       "...                                            ...   \n",
       "9931                                            59   \n",
       "9932                                             0   \n",
       "9933                                            59   \n",
       "9934                                            59   \n",
       "9935                                             2   \n",
       "\n",
       "     Stratigraphic Column Actual Retained Bits  \\\n",
       "0                                           59   \n",
       "1                                           56   \n",
       "2                                          192   \n",
       "3                                           59   \n",
       "4                                          472   \n",
       "...                                        ...   \n",
       "9931                                       472   \n",
       "9932                                       320   \n",
       "9933                                        59   \n",
       "9934                                       472   \n",
       "9935                                       896   \n",
       "\n",
       "     Stratigraphic Column Target Retained Bits  \\\n",
       "0                                           64   \n",
       "1                                           64   \n",
       "2                                           64   \n",
       "3                                          512   \n",
       "4                                          512   \n",
       "...                                        ...   \n",
       "9931                                       512   \n",
       "9932                                       512   \n",
       "9933                                      1024   \n",
       "9934                                      1024   \n",
       "9935                                      1024   \n",
       "\n",
       "     Stratigraphic Column Retained Bits Error  \\\n",
       "0                                          -5   \n",
       "1                                          -8   \n",
       "2                                         128   \n",
       "3                                        -453   \n",
       "4                                         -40   \n",
       "...                                       ...   \n",
       "9931                                      -40   \n",
       "9932                                     -192   \n",
       "9933                                     -965   \n",
       "9934                                     -552   \n",
       "9935                                     -128   \n",
       "\n",
       "     Stratigraphic Column Actual Num Retained Strata  Taxon Compared From  \\\n",
       "0                                                 59                 4737   \n",
       "1                                                  7                 4737   \n",
       "2                                                  3                 4737   \n",
       "3                                                 59                 4737   \n",
       "4                                                 59                 4737   \n",
       "...                                              ...                  ...   \n",
       "9931                                              59                 4595   \n",
       "9932                                               5                 4595   \n",
       "9933                                              59                 4595   \n",
       "9934                                              59                 4595   \n",
       "9935                                              14                 4595   \n",
       "\n",
       "      Taxon Compared To  Generation of Taxon Compared From  \\\n",
       "0                  4733                                501   \n",
       "1                  4733                                501   \n",
       "2                  4733                                501   \n",
       "3                  4733                                501   \n",
       "4                  4733                                501   \n",
       "...                 ...                                ...   \n",
       "9931               4738                                486   \n",
       "9932               4738                                486   \n",
       "9933               4738                                486   \n",
       "9934               4738                                486   \n",
       "9935               4738                                486   \n",
       "\n",
       "      Generation of Taxon Compared To  \\\n",
       "0                                 501   \n",
       "1                                 501   \n",
       "2                                 501   \n",
       "3                                 501   \n",
       "4                                 501   \n",
       "...                               ...   \n",
       "9931                              501   \n",
       "9932                              501   \n",
       "9933                              501   \n",
       "9934                              501   \n",
       "9935                              501   \n",
       "\n",
       "      Generation Of MRCA Lower Bound (inclusive)  \\\n",
       "0                                          460.0   \n",
       "1                                          448.0   \n",
       "2                                          256.0   \n",
       "3                                          460.0   \n",
       "4                                          476.0   \n",
       "...                                          ...   \n",
       "9931                                       480.0   \n",
       "9932                                       480.0   \n",
       "9933                                       476.0   \n",
       "9934                                       480.0   \n",
       "9935                                       480.0   \n",
       "\n",
       "      Generation Of MRCA Upper Bound (exclusive)  MRCA Bound Confidence  \\\n",
       "0                                          480.0               0.968750   \n",
       "1                                          500.0               0.996094   \n",
       "2                                          500.0               1.000000   \n",
       "3                                          480.0               0.968750   \n",
       "4                                          480.0               0.996094   \n",
       "...                                          ...                    ...   \n",
       "9931                                       481.0               0.996094   \n",
       "9932                                       486.0               1.000000   \n",
       "9933                                       481.0               0.968750   \n",
       "9934                                       481.0               0.996094   \n",
       "9935                                       484.0               1.000000   \n",
       "\n",
       "      Rank of Earliest Detectable Mrca With  \n",
       "0                                        32  \n",
       "1                                         0  \n",
       "2                                         0  \n",
       "3                                        32  \n",
       "4                                         0  \n",
       "...                                     ...  \n",
       "9931                                      0  \n",
       "9932                                      0  \n",
       "9933                                     28  \n",
       "9934                                      0  \n",
       "9935                                      0  \n",
       "\n",
       "[9936 rows x 16 columns]"
      ]
     },
     "execution_count": 19,
     "metadata": {},
     "output_type": "execute_result"
    }
   ],
   "source": [
    "res_df\n"
   ]
  },
  {
   "cell_type": "code",
   "execution_count": 20,
   "id": "810b41a0",
   "metadata": {
    "execution": {
     "iopub.execute_input": "2022-03-06T06:45:16.274732Z",
     "iopub.status.busy": "2022-03-06T06:45:16.274429Z",
     "iopub.status.idle": "2022-03-06T06:45:16.476635Z",
     "shell.execute_reply": "2022-03-06T06:45:16.475907Z"
    },
    "papermill": {
     "duration": 0.240092,
     "end_time": "2022-03-06T06:45:16.478538",
     "exception": false,
     "start_time": "2022-03-06T06:45:16.238446",
     "status": "completed"
    },
    "tags": []
   },
   "outputs": [
    {
     "name": "stdout",
     "output_type": "stream",
     "text": [
      "digest: e6697cce570a5f2195fa0045077882142a8ec691f9c2dbaf10acc7411233b7c3\n",
      "manifest:\n",
      "  Column Configuration: '                            18#         ex., actual_bits=59+actual_strata=59+bits_error=-5+differentia=1+policy=TaperedDepthProportionalResolution+resolution=59+target_bits=64'\n",
      "  Differentia Bit Width: '                           3#          ex., 1'\n",
      "  Generation Of MRCA Lower Bound (inclusive): '      71#,1964na  ex., 460.0'\n",
      "  Generation Of MRCA Upper Bound (exclusive): '      61#,1964na  ex., 480.0'\n",
      "  Generation of Taxon Compared From: '               10#         ex., 501'\n",
      "  Generation of Taxon Compared To: '                 10#         ex., 501'\n",
      "  MRCA Bound Confidence: '                           3#          ex., 0.96875'\n",
      "  Rank of Earliest Detectable Mrca With: '           5#          ex., 32'\n",
      "  Stratigraphic Column Actual Num Retained Strata: ' 6#          ex., 59'\n",
      "  Stratigraphic Column Actual Retained Bits: '       9#          ex., 59'\n",
      "  Stratigraphic Column Retained Bits Error: '        13#         ex., -5'\n",
      "  Stratigraphic Column Target Retained Bits: '       3#          ex., 64'\n",
      "  Stratum Retention Policy: '                        2#          ex., TaperedDepthProportionalResolution'\n",
      "  Stratum Retention Policy Resolution Parameter: '   6#          ex., 59'\n",
      "  Taxon Compared From: '                             24#         ex., 4737'\n",
      "  Taxon Compared To: '                               24#         ex., 4733'\n",
      "num cols: 16\n",
      "num cols all na: 0\n",
      "num cols any na: 2\n",
      "num na: 3928\n",
      "num rows: 9936\n",
      "num rows all na: 0\n",
      "num rows any na: 1964\n",
      "size: 6M\n",
      "\n"
     ]
    }
   ],
   "source": [
    "nbm.print_dataframe_synopsis(res_df)\n"
   ]
  },
  {
   "cell_type": "markdown",
   "id": "dd4f6ed8",
   "metadata": {
    "papermill": {
     "duration": 0.032779,
     "end_time": "2022-03-06T06:45:16.544550",
     "exception": false,
     "start_time": "2022-03-06T06:45:16.511771",
     "status": "completed"
    },
    "tags": []
   },
   "source": [
    "# Save Pairwise MRCA Estimates to File\n"
   ]
  },
  {
   "cell_type": "code",
   "execution_count": 21,
   "id": "5c7be910",
   "metadata": {
    "execution": {
     "iopub.execute_input": "2022-03-06T06:45:16.615251Z",
     "iopub.status.busy": "2022-03-06T06:45:16.614956Z",
     "iopub.status.idle": "2022-03-06T06:45:16.765183Z",
     "shell.execute_reply": "2022-03-06T06:45:16.764298Z"
    },
    "papermill": {
     "duration": 0.188658,
     "end_time": "2022-03-06T06:45:16.767764",
     "exception": false,
     "start_time": "2022-03-06T06:45:16.579106",
     "status": "completed"
    },
    "tags": []
   },
   "outputs": [],
   "source": [
    "res_df.to_csv(\n",
    "    f'a=pairwise_mrca_estimates+source={data_filename}.gz',\n",
    "    compression='gzip',\n",
    ")\n"
   ]
  }
 ],
 "metadata": {
  "kernelspec": {
   "display_name": "Python 3",
   "language": "python",
   "name": "python3"
  },
  "language_info": {
   "codemirror_mode": {
    "name": "ipython",
    "version": 3
   },
   "file_extension": ".py",
   "mimetype": "text/x-python",
   "name": "python",
   "nbconvert_exporter": "python",
   "pygments_lexer": "ipython3",
   "version": "3.8.10"
  },
  "papermill": {
   "default_parameters": {},
   "duration": null,
   "end_time": null,
   "environment_variables": {},
   "exception": null,
   "input_path": "/opt/hereditary-stratigraph-concept/binder/phylogenetic-inference/phylogeny_simulation_mill.ipynb",
   "output_path": "executing.endomill.ipynb",
   "parameters": {
    "data_url": "https://osf.io/8ycq7/"
   },
   "start_time": "2022-03-06T06:45:05.826818",
   "version": "2.3.4"
  }
 },
 "nbformat": 4,
 "nbformat_minor": 5
}