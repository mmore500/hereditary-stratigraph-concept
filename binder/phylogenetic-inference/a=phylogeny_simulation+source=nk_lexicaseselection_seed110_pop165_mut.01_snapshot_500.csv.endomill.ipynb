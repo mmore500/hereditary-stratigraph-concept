{
 "cells": [
  {
   "cell_type": "code",
   "execution_count": 1,
   "id": "41233ae8",
   "metadata": {
    "execution": {
     "iopub.execute_input": "2023-08-20T01:08:53.391602Z",
     "iopub.status.busy": "2023-08-20T01:08:53.391248Z",
     "iopub.status.idle": "2023-08-20T01:08:54.083599Z",
     "shell.execute_reply": "2023-08-20T01:08:54.083056Z"
    },
    "papermill": {
     "duration": 0.710159,
     "end_time": "2023-08-20T01:08:54.085226",
     "exception": false,
     "start_time": "2023-08-20T01:08:53.375067",
     "status": "completed"
    },
    "tags": []
   },
   "outputs": [],
   "source": [
    "import endomill\n",
    "from nbmetalog import nbmetalog as nbm\n"
   ]
  },
  {
   "cell_type": "code",
   "execution_count": 2,
   "id": "bb4372f0",
   "metadata": {
    "execution": {
     "iopub.execute_input": "2023-08-20T01:08:54.114891Z",
     "iopub.status.busy": "2023-08-20T01:08:54.114709Z",
     "iopub.status.idle": "2023-08-20T01:08:54.380654Z",
     "shell.execute_reply": "2023-08-20T01:08:54.380213Z"
    },
    "papermill": {
     "duration": 0.282333,
     "end_time": "2023-08-20T01:08:54.381952",
     "exception": false,
     "start_time": "2023-08-20T01:08:54.099619",
     "status": "completed"
    },
    "tags": []
   },
   "outputs": [
    {
     "name": "stdout",
     "output_type": "stream",
     "text": [
      "context: ci\n",
      "hostname: 63c13be9b17f\n",
      "interpreter: 3.8.10 (default, May 26 2023, 14:05:08)  [GCC 9.4.0]\n",
      "nbcellexec: 2\n",
      "nbname: phylogeny_simulation_mill\n",
      "nbpath: /opt/hereditary-stratigraph-concept/binder/phylogenetic-inference/phylogeny_simulation_mill.ipynb\n",
      "revision: null\n",
      "session: 99365c36-29e4-4645-ad9b-bc972128a5c3\n",
      "timestamp: 2023-08-20T01:08:54Z00:00\n",
      "\n",
      "\n",
      "IPython==7.16.1\n",
      "keyname==0.4.1\n",
      "yaml==5.3.1\n",
      "endomill==0.1.3\n",
      "nbmetalog==0.2.6\n",
      "re==2.2.1\n",
      "ipython_genutils==0.2.0\n",
      "logging==0.5.1.2\n",
      "zmq==22.3.0\n",
      "json==2.0.9\n",
      "ipykernel==5.5.3\n"
     ]
    }
   ],
   "source": [
    "nbm.print_metadata()\n"
   ]
  },
  {
   "cell_type": "code",
   "execution_count": 3,
   "id": "1e092664",
   "metadata": {
    "execution": {
     "iopub.execute_input": "2023-08-20T01:08:54.412213Z",
     "iopub.status.busy": "2023-08-20T01:08:54.412027Z",
     "iopub.status.idle": "2023-08-20T01:08:54.416059Z",
     "shell.execute_reply": "2023-08-20T01:08:54.415666Z"
    },
    "papermill": {
     "duration": 0.020582,
     "end_time": "2023-08-20T01:08:54.417144",
     "exception": false,
     "start_time": "2023-08-20T01:08:54.396562",
     "status": "completed"
    },
    "tags": []
   },
   "outputs": [
    {
     "name": "stdout",
     "output_type": "stream",
     "text": [
      "detected executing.endomill.ipynb file\n",
      "skipping instantiate_over\n"
     ]
    }
   ],
   "source": [
    "endomill.instantiate_over(\n",
    "    parameter_packs=[\n",
    "        {\n",
    "            'data_url': data_url,\n",
    "            'data_filename': data_filename,\n",
    "        }\n",
    "        for data_filename, data_url in [\n",
    "            (\n",
    "                'nk_ecoeaselection_seed110_pop100_mut.01_snapshot_3000.csv',\n",
    "                'https://osf.io/5d3be/',\n",
    "            ),\n",
    "            (\n",
    "                'nk_lexicaseselection_seed110_pop165_mut.01_snapshot_500.csv',\n",
    "                'https://osf.io/8ycq7/',\n",
    "            ),\n",
    "            (\n",
    "                'nk_randomselection_seed7_pop100_mut.01_snapshot_5000.csv',\n",
    "                'https://osf.io/ydxt7/',\n",
    "            ),\n",
    "            (\n",
    "                'nk_sharingselection_seed10_pop100_mut.01_snapshot_5000.csv',\n",
    "                'https://osf.io/cz9fk/',\n",
    "            ),\n",
    "            (\n",
    "                'nk_tournamentselection_seed140_pop100_mut.01_snapshot_5000.csv',\n",
    "                'https://osf.io/5ubn8/',\n",
    "            )\n",
    "        ]\n",
    "    ],\n",
    ")\n"
   ]
  },
  {
   "cell_type": "code",
   "execution_count": 4,
   "id": "1b72c42d",
   "metadata": {
    "execution": {
     "iopub.execute_input": "2023-08-20T01:08:54.447664Z",
     "iopub.status.busy": "2023-08-20T01:08:54.447344Z",
     "iopub.status.idle": "2023-08-20T01:08:54.449767Z",
     "shell.execute_reply": "2023-08-20T01:08:54.449390Z"
    },
    "papermill": {
     "duration": 0.018934,
     "end_time": "2023-08-20T01:08:54.450853",
     "exception": false,
     "start_time": "2023-08-20T01:08:54.431919",
     "status": "completed"
    },
    "tags": [
     "parameters"
    ]
   },
   "outputs": [],
   "source": [
    "# define papermill parameters\n",
    "data_url: str\n",
    "data_filename: str\n"
   ]
  },
  {
   "cell_type": "code",
   "execution_count": 5,
   "id": "3e8dec3e",
   "metadata": {
    "execution": {
     "iopub.execute_input": "2023-08-20T01:08:54.481319Z",
     "iopub.status.busy": "2023-08-20T01:08:54.481157Z",
     "iopub.status.idle": "2023-08-20T01:08:54.483704Z",
     "shell.execute_reply": "2023-08-20T01:08:54.483010Z"
    },
    "papermill": {
     "duration": 0.01933,
     "end_time": "2023-08-20T01:08:54.485042",
     "exception": false,
     "start_time": "2023-08-20T01:08:54.465712",
     "status": "completed"
    },
    "tags": [
     "injected-parameters"
    ]
   },
   "outputs": [],
   "source": [
    "# Parameters\n",
    "data_url = \"https://osf.io/8ycq7/\"\n",
    "data_filename = \"nk_lexicaseselection_seed110_pop165_mut.01_snapshot_500.csv\"\n"
   ]
  },
  {
   "cell_type": "code",
   "execution_count": 6,
   "id": "3d277293",
   "metadata": {
    "execution": {
     "iopub.execute_input": "2023-08-20T01:08:54.516021Z",
     "iopub.status.busy": "2023-08-20T01:08:54.515866Z",
     "iopub.status.idle": "2023-08-20T01:08:54.837508Z",
     "shell.execute_reply": "2023-08-20T01:08:54.837006Z"
    },
    "papermill": {
     "duration": 0.338758,
     "end_time": "2023-08-20T01:08:54.838980",
     "exception": false,
     "start_time": "2023-08-20T01:08:54.500222",
     "status": "completed"
    },
    "tags": []
   },
   "outputs": [],
   "source": [
    "import anytree\n",
    "from bs4 import BeautifulSoup\n",
    "from collections import defaultdict\n",
    "from hstrat import hstrat\n",
    "from interval_search import doubling_search\n",
    "from iterpop import iterpop as ip\n",
    "import itertools as it\n",
    "from keyname import keyname as kn\n",
    "import numpy as np\n",
    "import opytional as opyt\n",
    "import pandas as pd\n",
    "import random\n",
    "import sys\n",
    "from tqdm import tqdm\n",
    "from urllib import request\n"
   ]
  },
  {
   "cell_type": "code",
   "execution_count": 7,
   "id": "428c9b68",
   "metadata": {
    "execution": {
     "iopub.execute_input": "2023-08-20T01:08:54.870412Z",
     "iopub.status.busy": "2023-08-20T01:08:54.870233Z",
     "iopub.status.idle": "2023-08-20T01:08:54.873853Z",
     "shell.execute_reply": "2023-08-20T01:08:54.873414Z"
    },
    "papermill": {
     "duration": 0.020846,
     "end_time": "2023-08-20T01:08:54.875071",
     "exception": false,
     "start_time": "2023-08-20T01:08:54.854225",
     "status": "completed"
    },
    "tags": []
   },
   "outputs": [],
   "source": [
    "random.seed(1) # ensure reproducibility\n",
    "sys.setrecursionlimit(100000) # anytree exceeds default recursion limit on our data\n"
   ]
  },
  {
   "cell_type": "code",
   "execution_count": 8,
   "id": "d300af30",
   "metadata": {
    "execution": {
     "iopub.execute_input": "2023-08-20T01:08:54.906381Z",
     "iopub.status.busy": "2023-08-20T01:08:54.906210Z",
     "iopub.status.idle": "2023-08-20T01:08:55.098092Z",
     "shell.execute_reply": "2023-08-20T01:08:55.097555Z"
    },
    "papermill": {
     "duration": 0.209528,
     "end_time": "2023-08-20T01:08:55.099817",
     "exception": false,
     "start_time": "2023-08-20T01:08:54.890289",
     "status": "completed"
    },
    "tags": []
   },
   "outputs": [
    {
     "name": "stdout",
     "output_type": "stream",
     "text": [
      "context: ci\n",
      "hostname: 63c13be9b17f\n",
      "interpreter: 3.8.10 (default, May 26 2023, 14:05:08)  [GCC 9.4.0]\n",
      "nbcellexec: 8\n",
      "nbname: phylogeny_simulation_mill\n",
      "nbpath: /opt/hereditary-stratigraph-concept/binder/phylogenetic-inference/phylogeny_simulation_mill.ipynb\n",
      "revision: null\n",
      "session: 99365c36-29e4-4645-ad9b-bc972128a5c3\n",
      "timestamp: 2023-08-20T01:08:54Z00:00\n",
      "\n",
      "\n",
      "IPython==7.16.1\n",
      "endomill==0.1.3\n",
      "ipykernel==5.5.3\n",
      "ipython_genutils==0.2.0\n",
      "json==2.0.9\n",
      "keyname==0.4.1\n",
      "logging==0.5.1.2\n",
      "nbmetalog==0.2.6\n",
      "re==2.2.1\n",
      "yaml==5.3.1\n",
      "zmq==22.3.0\n",
      "anytree==2.8.0\n",
      "hstrat==0.3.2\n",
      "iterpop==0.4.0\n",
      "numpy==1.21.5\n",
      "opytional==0.1.0\n",
      "pandas==2.0.3\n"
     ]
    }
   ],
   "source": [
    "from nbmetalog import nbmetalog as nbm\n",
    "nbm.print_metadata()\n"
   ]
  },
  {
   "cell_type": "code",
   "execution_count": 9,
   "id": "baeb4a5d",
   "metadata": {
    "execution": {
     "iopub.execute_input": "2023-08-20T01:08:55.132216Z",
     "iopub.status.busy": "2023-08-20T01:08:55.132037Z",
     "iopub.status.idle": "2023-08-20T01:08:55.135537Z",
     "shell.execute_reply": "2023-08-20T01:08:55.135070Z"
    },
    "papermill": {
     "duration": 0.021356,
     "end_time": "2023-08-20T01:08:55.136871",
     "exception": false,
     "start_time": "2023-08-20T01:08:55.115515",
     "status": "completed"
    },
    "tags": []
   },
   "outputs": [],
   "source": [
    "endomill.add_instance_outpath(\n",
    "    f'a=phylogeny_simulation+source={data_filename}.endomill.ipynb',\n",
    ")\n"
   ]
  },
  {
   "cell_type": "markdown",
   "id": "cda7db2e",
   "metadata": {
    "papermill": {
     "duration": 0.015596,
     "end_time": "2023-08-20T01:08:55.168200",
     "exception": false,
     "start_time": "2023-08-20T01:08:55.152604",
     "status": "completed"
    },
    "tags": []
   },
   "source": [
    "# Retrieve Target Phylogeny from OSF\n"
   ]
  },
  {
   "cell_type": "code",
   "execution_count": 10,
   "id": "253961fe",
   "metadata": {
    "execution": {
     "iopub.execute_input": "2023-08-20T01:08:55.200592Z",
     "iopub.status.busy": "2023-08-20T01:08:55.200400Z",
     "iopub.status.idle": "2023-08-20T01:08:56.095961Z",
     "shell.execute_reply": "2023-08-20T01:08:56.095394Z"
    },
    "papermill": {
     "duration": 0.91336,
     "end_time": "2023-08-20T01:08:56.097260",
     "exception": false,
     "start_time": "2023-08-20T01:08:55.183900",
     "status": "completed"
    },
    "tags": []
   },
   "outputs": [
    {
     "name": "stdout",
     "output_type": "stream",
     "text": [
      "digest: 7bffa7d6c47b38c6b9dc45d5093196088d0d82dd210a18e110bc231e2aab7746\n",
      "manifest:\n",
      "  ancestor_list: '    210#  ex., [4727]'\n",
      "  depth: '            59#   ex., 37'\n",
      "  destruction_time: ' 159#  ex., inf'\n",
      "  id: '               233#  ex., 4737'\n",
      "  num_offspring: '    4#    ex., 0'\n",
      "  num_orgs: '         8#    ex., 1'\n",
      "  origin_time: '      176#  ex., 500'\n",
      "  phenotype: '        187#  ex., [ 0.78551 0.507546 0.298434 0.703895 0.70148 0.897296\n",
      "    0.852754 0.533489 0.975623 0.814646 0.0274892 0.45607 0.221636 0.767401 0.74891\n",
      "    0.860365 0.319087 0.293359 0.997853 0.770533 ]'\n",
      "  tot_orgs: '         111#  ex., 1'\n",
      "  total_offspring: '  15#   ex., 0'\n",
      "num cols: 10\n",
      "num cols all na: 0\n",
      "num cols any na: 0\n",
      "num na: 0\n",
      "num rows: 233\n",
      "num rows all na: 0\n",
      "num rows any na: 0\n",
      "size: 83K\n",
      "\n"
     ]
    }
   ],
   "source": [
    "target_phylogeny_df = pd.read_csv(\n",
    "    f'{data_url}/download',\n",
    ")\n",
    "\n",
    "nbm.print_dataframe_synopsis(target_phylogeny_df)\n"
   ]
  },
  {
   "cell_type": "markdown",
   "id": "65940452",
   "metadata": {
    "papermill": {
     "duration": 0.016272,
     "end_time": "2023-08-20T01:08:56.129926",
     "exception": false,
     "start_time": "2023-08-20T01:08:56.113654",
     "status": "completed"
    },
    "tags": []
   },
   "source": [
    "# Create a Tree with Target Phylogeny Structure\n"
   ]
  },
  {
   "cell_type": "code",
   "execution_count": 11,
   "id": "f2061d52",
   "metadata": {
    "execution": {
     "iopub.execute_input": "2023-08-20T01:08:56.162976Z",
     "iopub.status.busy": "2023-08-20T01:08:56.162808Z",
     "iopub.status.idle": "2023-08-20T01:08:56.188731Z",
     "shell.execute_reply": "2023-08-20T01:08:56.188266Z"
    },
    "papermill": {
     "duration": 0.043996,
     "end_time": "2023-08-20T01:08:56.190019",
     "exception": false,
     "start_time": "2023-08-20T01:08:56.146023",
     "status": "completed"
    },
    "tags": []
   },
   "outputs": [],
   "source": [
    "# map id to anytree node\n",
    "nodes = defaultdict(anytree.AnyNode)\n",
    "for __, row in target_phylogeny_df.iterrows():\n",
    "    node = nodes[row['id']]\n",
    "    node.id = row['id']\n",
    "    node.origin_time = row['origin_time']\n",
    "    if 'NONE' not in row['ancestor_list']:\n",
    "        ancestor_id = ip.popsingleton(\n",
    "            eval(row['ancestor_list'])\n",
    "        )\n",
    "        node.parent = nodes[ancestor_id]\n",
    "\n",
    "roots = {node.root for node in nodes.values()}\n"
   ]
  },
  {
   "cell_type": "code",
   "execution_count": 12,
   "id": "cfb45f2e",
   "metadata": {
    "execution": {
     "iopub.execute_input": "2023-08-20T01:08:56.222845Z",
     "iopub.status.busy": "2023-08-20T01:08:56.222681Z",
     "iopub.status.idle": "2023-08-20T01:08:56.228497Z",
     "shell.execute_reply": "2023-08-20T01:08:56.228009Z"
    },
    "papermill": {
     "duration": 0.023814,
     "end_time": "2023-08-20T01:08:56.229755",
     "exception": false,
     "start_time": "2023-08-20T01:08:56.205941",
     "status": "completed"
    },
    "tags": []
   },
   "outputs": [
    {
     "data": {
      "text/plain": [
       "58"
      ]
     },
     "execution_count": 12,
     "metadata": {},
     "output_type": "execute_result"
    }
   ],
   "source": [
    "root = ip.popsingleton(roots)\n",
    "root.height\n"
   ]
  },
  {
   "cell_type": "code",
   "execution_count": 13,
   "id": "e5b76872",
   "metadata": {
    "execution": {
     "iopub.execute_input": "2023-08-20T01:08:56.263436Z",
     "iopub.status.busy": "2023-08-20T01:08:56.263263Z",
     "iopub.status.idle": "2023-08-20T01:08:56.266810Z",
     "shell.execute_reply": "2023-08-20T01:08:56.266353Z"
    },
    "papermill": {
     "duration": 0.021995,
     "end_time": "2023-08-20T01:08:56.268074",
     "exception": false,
     "start_time": "2023-08-20T01:08:56.246079",
     "status": "completed"
    },
    "tags": []
   },
   "outputs": [
    {
     "data": {
      "text/plain": [
       "500"
      ]
     },
     "execution_count": 13,
     "metadata": {},
     "output_type": "execute_result"
    }
   ],
   "source": [
    "max_origin_time = target_phylogeny_df['origin_time'].max()\n",
    "max_origin_time\n"
   ]
  },
  {
   "cell_type": "code",
   "execution_count": 14,
   "id": "77d81df0",
   "metadata": {
    "execution": {
     "iopub.execute_input": "2023-08-20T01:08:56.302350Z",
     "iopub.status.busy": "2023-08-20T01:08:56.302184Z",
     "iopub.status.idle": "2023-08-20T01:08:56.306212Z",
     "shell.execute_reply": "2023-08-20T01:08:56.305763Z"
    },
    "papermill": {
     "duration": 0.022556,
     "end_time": "2023-08-20T01:08:56.307363",
     "exception": false,
     "start_time": "2023-08-20T01:08:56.284807",
     "status": "completed"
    },
    "tags": []
   },
   "outputs": [
    {
     "data": {
      "text/plain": [
       "496.2916666666667"
      ]
     },
     "execution_count": 14,
     "metadata": {},
     "output_type": "execute_result"
    }
   ],
   "source": [
    "mean_leaf_origin_time = np.mean([\n",
    "    leaf.origin_time\n",
    "    for leaf in root.leaves\n",
    "])\n",
    "mean_leaf_origin_time\n"
   ]
  },
  {
   "cell_type": "markdown",
   "id": "019bf0b5",
   "metadata": {
    "papermill": {
     "duration": 0.017158,
     "end_time": "2023-08-20T01:08:56.341654",
     "exception": false,
     "start_time": "2023-08-20T01:08:56.324496",
     "status": "completed"
    },
    "tags": []
   },
   "source": [
    "# Pick Parameters for Hereditary Stratigraphic Columns\n"
   ]
  },
  {
   "cell_type": "code",
   "execution_count": 15,
   "id": "ffbcf839",
   "metadata": {
    "execution": {
     "iopub.execute_input": "2023-08-20T01:08:56.376825Z",
     "iopub.status.busy": "2023-08-20T01:08:56.376657Z",
     "iopub.status.idle": "2023-08-20T01:08:56.382230Z",
     "shell.execute_reply": "2023-08-20T01:08:56.381771Z"
    },
    "papermill": {
     "duration": 0.024724,
     "end_time": "2023-08-20T01:08:56.383436",
     "exception": false,
     "start_time": "2023-08-20T01:08:56.358712",
     "status": "completed"
    },
    "tags": []
   },
   "outputs": [],
   "source": [
    "def make_conditions(num_generations: int) -> pd.DataFrame:\n",
    "    res = []\n",
    "    for condemner_factory, target_column_bits, differentia_bit_width in it.product(\n",
    "        [\n",
    "            hstrat.StratumRetentionCondemnerTaperedDepthProportionalResolution,\n",
    "            hstrat.StratumRetentionCondemnerRecencyProportionalResolution,\n",
    "        ],\n",
    "        [\n",
    "            64,\n",
    "            64 * 8,\n",
    "            64 * 64,\n",
    "        ],\n",
    "        [\n",
    "            1,\n",
    "            8,\n",
    "            64,\n",
    "        ],\n",
    "    ):\n",
    "        policy_param = doubling_search(\n",
    "            lambda x: \\\n",
    "                condemner_factory(x + 1).CalcNumStrataRetainedExact(num_generations)\n",
    "                * differentia_bit_width > target_column_bits or x >= num_generations,\n",
    "            {\n",
    "                hstrat.StratumRetentionCondemnerTaperedDepthProportionalResolution: 1,\n",
    "                hstrat.StratumRetentionCondemnerRecencyProportionalResolution: 0,\n",
    "            }[condemner_factory],\n",
    "        )\n",
    "\n",
    "        actual_column_strata = condemner_factory(policy_param).CalcNumStrataRetainedExact(num_generations)\n",
    "        actual_column_bits = actual_column_strata * differentia_bit_width\n",
    "\n",
    "        res.append({\n",
    "            'Retention Policy' : condemner_factory.__name__[25:],\n",
    "            'Differentia Bit Width' : differentia_bit_width,\n",
    "            'Retention Policy Resolution Parameter' : policy_param,\n",
    "            'Target Retained Bits' : target_column_bits,\n",
    "            'Actual Retained Bits' : actual_column_bits,\n",
    "            'Retained Bits Error' : actual_column_bits - target_column_bits,\n",
    "            'Actual Retained Strata' : actual_column_strata,\n",
    "            'condemner' : condemner_factory(policy_param),\n",
    "        })\n",
    "    return pd.DataFrame.from_records(res)\n"
   ]
  },
  {
   "cell_type": "code",
   "execution_count": 16,
   "id": "5d81afe6",
   "metadata": {
    "execution": {
     "iopub.execute_input": "2023-08-20T01:08:56.418628Z",
     "iopub.status.busy": "2023-08-20T01:08:56.418475Z",
     "iopub.status.idle": "2023-08-20T01:08:56.430196Z",
     "shell.execute_reply": "2023-08-20T01:08:56.429735Z"
    },
    "papermill": {
     "duration": 0.030753,
     "end_time": "2023-08-20T01:08:56.431424",
     "exception": false,
     "start_time": "2023-08-20T01:08:56.400671",
     "status": "completed"
    },
    "tags": []
   },
   "outputs": [
    {
     "data": {
      "text/html": [
       "<div>\n",
       "<style scoped>\n",
       "    .dataframe tbody tr th:only-of-type {\n",
       "        vertical-align: middle;\n",
       "    }\n",
       "\n",
       "    .dataframe tbody tr th {\n",
       "        vertical-align: top;\n",
       "    }\n",
       "\n",
       "    .dataframe thead th {\n",
       "        text-align: right;\n",
       "    }\n",
       "</style>\n",
       "<table border=\"1\" class=\"dataframe\">\n",
       "  <thead>\n",
       "    <tr style=\"text-align: right;\">\n",
       "      <th></th>\n",
       "      <th>Retention Policy</th>\n",
       "      <th>Differentia Bit Width</th>\n",
       "      <th>Retention Policy Resolution Parameter</th>\n",
       "      <th>Target Retained Bits</th>\n",
       "      <th>Actual Retained Bits</th>\n",
       "      <th>Retained Bits Error</th>\n",
       "      <th>Actual Retained Strata</th>\n",
       "    </tr>\n",
       "  </thead>\n",
       "  <tbody>\n",
       "    <tr>\n",
       "      <th>0</th>\n",
       "      <td>TaperedDepthProportionalResolution</td>\n",
       "      <td>1</td>\n",
       "      <td>31</td>\n",
       "      <td>64</td>\n",
       "      <td>63</td>\n",
       "      <td>-1</td>\n",
       "      <td>63</td>\n",
       "    </tr>\n",
       "    <tr>\n",
       "      <th>1</th>\n",
       "      <td>TaperedDepthProportionalResolution</td>\n",
       "      <td>8</td>\n",
       "      <td>3</td>\n",
       "      <td>64</td>\n",
       "      <td>56</td>\n",
       "      <td>-8</td>\n",
       "      <td>7</td>\n",
       "    </tr>\n",
       "    <tr>\n",
       "      <th>2</th>\n",
       "      <td>TaperedDepthProportionalResolution</td>\n",
       "      <td>64</td>\n",
       "      <td>1</td>\n",
       "      <td>64</td>\n",
       "      <td>192</td>\n",
       "      <td>128</td>\n",
       "      <td>3</td>\n",
       "    </tr>\n",
       "    <tr>\n",
       "      <th>3</th>\n",
       "      <td>TaperedDepthProportionalResolution</td>\n",
       "      <td>1</td>\n",
       "      <td>496</td>\n",
       "      <td>512</td>\n",
       "      <td>496</td>\n",
       "      <td>-16</td>\n",
       "      <td>496</td>\n",
       "    </tr>\n",
       "    <tr>\n",
       "      <th>4</th>\n",
       "      <td>TaperedDepthProportionalResolution</td>\n",
       "      <td>8</td>\n",
       "      <td>31</td>\n",
       "      <td>512</td>\n",
       "      <td>504</td>\n",
       "      <td>-8</td>\n",
       "      <td>63</td>\n",
       "    </tr>\n",
       "    <tr>\n",
       "      <th>5</th>\n",
       "      <td>TaperedDepthProportionalResolution</td>\n",
       "      <td>64</td>\n",
       "      <td>3</td>\n",
       "      <td>512</td>\n",
       "      <td>448</td>\n",
       "      <td>-64</td>\n",
       "      <td>7</td>\n",
       "    </tr>\n",
       "    <tr>\n",
       "      <th>6</th>\n",
       "      <td>TaperedDepthProportionalResolution</td>\n",
       "      <td>1</td>\n",
       "      <td>496</td>\n",
       "      <td>4096</td>\n",
       "      <td>496</td>\n",
       "      <td>-3600</td>\n",
       "      <td>496</td>\n",
       "    </tr>\n",
       "    <tr>\n",
       "      <th>7</th>\n",
       "      <td>TaperedDepthProportionalResolution</td>\n",
       "      <td>8</td>\n",
       "      <td>496</td>\n",
       "      <td>4096</td>\n",
       "      <td>3968</td>\n",
       "      <td>-128</td>\n",
       "      <td>496</td>\n",
       "    </tr>\n",
       "    <tr>\n",
       "      <th>8</th>\n",
       "      <td>TaperedDepthProportionalResolution</td>\n",
       "      <td>64</td>\n",
       "      <td>31</td>\n",
       "      <td>4096</td>\n",
       "      <td>4032</td>\n",
       "      <td>-64</td>\n",
       "      <td>63</td>\n",
       "    </tr>\n",
       "    <tr>\n",
       "      <th>9</th>\n",
       "      <td>RecencyProportionalResolution</td>\n",
       "      <td>1</td>\n",
       "      <td>8</td>\n",
       "      <td>64</td>\n",
       "      <td>60</td>\n",
       "      <td>-4</td>\n",
       "      <td>60</td>\n",
       "    </tr>\n",
       "    <tr>\n",
       "      <th>10</th>\n",
       "      <td>RecencyProportionalResolution</td>\n",
       "      <td>8</td>\n",
       "      <td>0</td>\n",
       "      <td>64</td>\n",
       "      <td>72</td>\n",
       "      <td>8</td>\n",
       "      <td>9</td>\n",
       "    </tr>\n",
       "    <tr>\n",
       "      <th>11</th>\n",
       "      <td>RecencyProportionalResolution</td>\n",
       "      <td>64</td>\n",
       "      <td>0</td>\n",
       "      <td>64</td>\n",
       "      <td>576</td>\n",
       "      <td>512</td>\n",
       "      <td>9</td>\n",
       "    </tr>\n",
       "    <tr>\n",
       "      <th>12</th>\n",
       "      <td>RecencyProportionalResolution</td>\n",
       "      <td>1</td>\n",
       "      <td>496</td>\n",
       "      <td>512</td>\n",
       "      <td>496</td>\n",
       "      <td>-16</td>\n",
       "      <td>496</td>\n",
       "    </tr>\n",
       "    <tr>\n",
       "      <th>13</th>\n",
       "      <td>RecencyProportionalResolution</td>\n",
       "      <td>8</td>\n",
       "      <td>8</td>\n",
       "      <td>512</td>\n",
       "      <td>480</td>\n",
       "      <td>-32</td>\n",
       "      <td>60</td>\n",
       "    </tr>\n",
       "    <tr>\n",
       "      <th>14</th>\n",
       "      <td>RecencyProportionalResolution</td>\n",
       "      <td>64</td>\n",
       "      <td>0</td>\n",
       "      <td>512</td>\n",
       "      <td>576</td>\n",
       "      <td>64</td>\n",
       "      <td>9</td>\n",
       "    </tr>\n",
       "    <tr>\n",
       "      <th>15</th>\n",
       "      <td>RecencyProportionalResolution</td>\n",
       "      <td>1</td>\n",
       "      <td>496</td>\n",
       "      <td>4096</td>\n",
       "      <td>496</td>\n",
       "      <td>-3600</td>\n",
       "      <td>496</td>\n",
       "    </tr>\n",
       "    <tr>\n",
       "      <th>16</th>\n",
       "      <td>RecencyProportionalResolution</td>\n",
       "      <td>8</td>\n",
       "      <td>496</td>\n",
       "      <td>4096</td>\n",
       "      <td>3968</td>\n",
       "      <td>-128</td>\n",
       "      <td>496</td>\n",
       "    </tr>\n",
       "    <tr>\n",
       "      <th>17</th>\n",
       "      <td>RecencyProportionalResolution</td>\n",
       "      <td>64</td>\n",
       "      <td>8</td>\n",
       "      <td>4096</td>\n",
       "      <td>3840</td>\n",
       "      <td>-256</td>\n",
       "      <td>60</td>\n",
       "    </tr>\n",
       "  </tbody>\n",
       "</table>\n",
       "</div>"
      ],
      "text/plain": [
       "                      Retention Policy  Differentia Bit Width  \\\n",
       "0   TaperedDepthProportionalResolution                      1   \n",
       "1   TaperedDepthProportionalResolution                      8   \n",
       "2   TaperedDepthProportionalResolution                     64   \n",
       "3   TaperedDepthProportionalResolution                      1   \n",
       "4   TaperedDepthProportionalResolution                      8   \n",
       "5   TaperedDepthProportionalResolution                     64   \n",
       "6   TaperedDepthProportionalResolution                      1   \n",
       "7   TaperedDepthProportionalResolution                      8   \n",
       "8   TaperedDepthProportionalResolution                     64   \n",
       "9        RecencyProportionalResolution                      1   \n",
       "10       RecencyProportionalResolution                      8   \n",
       "11       RecencyProportionalResolution                     64   \n",
       "12       RecencyProportionalResolution                      1   \n",
       "13       RecencyProportionalResolution                      8   \n",
       "14       RecencyProportionalResolution                     64   \n",
       "15       RecencyProportionalResolution                      1   \n",
       "16       RecencyProportionalResolution                      8   \n",
       "17       RecencyProportionalResolution                     64   \n",
       "\n",
       "    Retention Policy Resolution Parameter  Target Retained Bits  \\\n",
       "0                                      31                    64   \n",
       "1                                       3                    64   \n",
       "2                                       1                    64   \n",
       "3                                     496                   512   \n",
       "4                                      31                   512   \n",
       "5                                       3                   512   \n",
       "6                                     496                  4096   \n",
       "7                                     496                  4096   \n",
       "8                                      31                  4096   \n",
       "9                                       8                    64   \n",
       "10                                      0                    64   \n",
       "11                                      0                    64   \n",
       "12                                    496                   512   \n",
       "13                                      8                   512   \n",
       "14                                      0                   512   \n",
       "15                                    496                  4096   \n",
       "16                                    496                  4096   \n",
       "17                                      8                  4096   \n",
       "\n",
       "    Actual Retained Bits  Retained Bits Error  Actual Retained Strata  \n",
       "0                     63                   -1                      63  \n",
       "1                     56                   -8                       7  \n",
       "2                    192                  128                       3  \n",
       "3                    496                  -16                     496  \n",
       "4                    504                   -8                      63  \n",
       "5                    448                  -64                       7  \n",
       "6                    496                -3600                     496  \n",
       "7                   3968                 -128                     496  \n",
       "8                   4032                  -64                      63  \n",
       "9                     60                   -4                      60  \n",
       "10                    72                    8                       9  \n",
       "11                   576                  512                       9  \n",
       "12                   496                  -16                     496  \n",
       "13                   480                  -32                      60  \n",
       "14                   576                   64                       9  \n",
       "15                   496                -3600                     496  \n",
       "16                  3968                 -128                     496  \n",
       "17                  3840                 -256                      60  "
      ]
     },
     "execution_count": 16,
     "metadata": {},
     "output_type": "execute_result"
    }
   ],
   "source": [
    "conditions_df = make_conditions(int(mean_leaf_origin_time))\n",
    "conditions_df.drop('condemner', axis=1)\n"
   ]
  },
  {
   "cell_type": "markdown",
   "id": "79fb425e",
   "metadata": {
    "papermill": {
     "duration": 0.017793,
     "end_time": "2023-08-20T01:08:56.467188",
     "exception": false,
     "start_time": "2023-08-20T01:08:56.449395",
     "status": "completed"
    },
    "tags": []
   },
   "source": [
    "# Set Up Ancestor Column\n"
   ]
  },
  {
   "cell_type": "code",
   "execution_count": 17,
   "id": "30e7b503",
   "metadata": {
    "execution": {
     "iopub.execute_input": "2023-08-20T01:08:56.503957Z",
     "iopub.status.busy": "2023-08-20T01:08:56.503756Z",
     "iopub.status.idle": "2023-08-20T01:08:56.510917Z",
     "shell.execute_reply": "2023-08-20T01:08:56.510454Z"
    },
    "papermill": {
     "duration": 0.02719,
     "end_time": "2023-08-20T01:08:56.512207",
     "exception": false,
     "start_time": "2023-08-20T01:08:56.485017",
     "status": "completed"
    },
    "tags": []
   },
   "outputs": [],
   "source": [
    "bundle = hstrat.HereditaryStratigraphicColumnBundle({\n",
    "    kn.pack({\n",
    "        'differentia' : row['Differentia Bit Width'],\n",
    "        'policy' : row['Retention Policy'],\n",
    "        'resolution' : row['Retention Policy Resolution Parameter'],\n",
    "        'target_bits' : row['Target Retained Bits'],\n",
    "        'actual_bits' : row['Actual Retained Bits'],\n",
    "        'bits_error' : row['Retained Bits Error'],\n",
    "        'actual_strata' : row['Actual Retained Strata'],\n",
    "    }) \\\n",
    "        : hstrat.HereditaryStratigraphicColumn(\n",
    "            stratum_differentia_bit_width=row['Differentia Bit Width'],\n",
    "            stratum_retention_condemner=row['condemner'],\n",
    "    )\n",
    "    for __, row in conditions_df.iterrows()\n",
    "})\n"
   ]
  },
  {
   "cell_type": "markdown",
   "id": "aa6005fa",
   "metadata": {
    "papermill": {
     "duration": 0.018129,
     "end_time": "2023-08-20T01:08:56.548238",
     "exception": false,
     "start_time": "2023-08-20T01:08:56.530109",
     "status": "completed"
    },
    "tags": []
   },
   "source": [
    "# Simulate Inheritance of Ancestor Column Down Phylogenetic Tree\n"
   ]
  },
  {
   "cell_type": "code",
   "execution_count": 18,
   "id": "77493912",
   "metadata": {
    "execution": {
     "iopub.execute_input": "2023-08-20T01:08:56.585407Z",
     "iopub.status.busy": "2023-08-20T01:08:56.585206Z",
     "iopub.status.idle": "2023-08-20T01:08:57.082121Z",
     "shell.execute_reply": "2023-08-20T01:08:57.081604Z"
    },
    "papermill": {
     "duration": 0.51745,
     "end_time": "2023-08-20T01:08:57.083758",
     "exception": false,
     "start_time": "2023-08-20T01:08:56.566308",
     "status": "completed"
    },
    "tags": []
   },
   "outputs": [],
   "source": [
    "root = ip.popsingleton(roots)\n",
    "root.hstrat_column = bundle\n",
    "\n",
    "for node in anytree.LevelOrderIter(ip.popsingleton(roots)):\n",
    "    parent = node.parent\n",
    "    if parent is not None:\n",
    "        node.hstrat_column = parent.hstrat_column.Clone()\n",
    "        for __ in range(node.origin_time - parent.origin_time): node.hstrat_column.DepositStratum()\n"
   ]
  },
  {
   "cell_type": "markdown",
   "id": "9336f85e",
   "metadata": {
    "papermill": {
     "duration": 0.018193,
     "end_time": "2023-08-20T01:08:57.120341",
     "exception": false,
     "start_time": "2023-08-20T01:08:57.102148",
     "status": "completed"
    },
    "tags": []
   },
   "source": [
    "# Extract Pairwise MRCA Estimates for Extant Organisms\n"
   ]
  },
  {
   "cell_type": "code",
   "execution_count": 19,
   "id": "2929ea3e",
   "metadata": {
    "execution": {
     "iopub.execute_input": "2023-08-20T01:08:57.157778Z",
     "iopub.status.busy": "2023-08-20T01:08:57.157577Z",
     "iopub.status.idle": "2023-08-20T01:08:57.190772Z",
     "shell.execute_reply": "2023-08-20T01:08:57.190283Z"
    },
    "papermill": {
     "duration": 0.053629,
     "end_time": "2023-08-20T01:08:57.192022",
     "exception": false,
     "start_time": "2023-08-20T01:08:57.138393",
     "status": "completed"
    },
    "tags": []
   },
   "outputs": [
    {
     "data": {
      "text/html": [
       "<div>\n",
       "<style scoped>\n",
       "    .dataframe tbody tr th:only-of-type {\n",
       "        vertical-align: middle;\n",
       "    }\n",
       "\n",
       "    .dataframe tbody tr th {\n",
       "        vertical-align: top;\n",
       "    }\n",
       "\n",
       "    .dataframe thead th {\n",
       "        text-align: right;\n",
       "    }\n",
       "</style>\n",
       "<table border=\"1\" class=\"dataframe\">\n",
       "  <thead>\n",
       "    <tr style=\"text-align: right;\">\n",
       "      <th></th>\n",
       "      <th>Mean Actual Retained Bits</th>\n",
       "      <th>actual_bits</th>\n",
       "      <th>actual_strata</th>\n",
       "      <th>bits_error</th>\n",
       "      <th>differentia</th>\n",
       "      <th>policy</th>\n",
       "      <th>resolution</th>\n",
       "      <th>target_bits</th>\n",
       "      <th>_</th>\n",
       "    </tr>\n",
       "  </thead>\n",
       "  <tbody>\n",
       "    <tr>\n",
       "      <th>0</th>\n",
       "      <td>62.833333</td>\n",
       "      <td>63</td>\n",
       "      <td>63</td>\n",
       "      <td>-1</td>\n",
       "      <td>1</td>\n",
       "      <td>TaperedDepthProportionalResolution</td>\n",
       "      <td>31</td>\n",
       "      <td>64</td>\n",
       "      <td>actual_bits=63+actual_strata=63+bits_error=-1+...</td>\n",
       "    </tr>\n",
       "    <tr>\n",
       "      <th>1</th>\n",
       "      <td>56.000000</td>\n",
       "      <td>56</td>\n",
       "      <td>7</td>\n",
       "      <td>-8</td>\n",
       "      <td>8</td>\n",
       "      <td>TaperedDepthProportionalResolution</td>\n",
       "      <td>3</td>\n",
       "      <td>64</td>\n",
       "      <td>actual_bits=56+actual_strata=7+bits_error=-8+d...</td>\n",
       "    </tr>\n",
       "    <tr>\n",
       "      <th>2</th>\n",
       "      <td>192.000000</td>\n",
       "      <td>192</td>\n",
       "      <td>3</td>\n",
       "      <td>128</td>\n",
       "      <td>64</td>\n",
       "      <td>TaperedDepthProportionalResolution</td>\n",
       "      <td>1</td>\n",
       "      <td>64</td>\n",
       "      <td>actual_bits=192+actual_strata=3+bits_error=128...</td>\n",
       "    </tr>\n",
       "    <tr>\n",
       "      <th>3</th>\n",
       "      <td>497.291667</td>\n",
       "      <td>496</td>\n",
       "      <td>496</td>\n",
       "      <td>-16</td>\n",
       "      <td>1</td>\n",
       "      <td>TaperedDepthProportionalResolution</td>\n",
       "      <td>496</td>\n",
       "      <td>512</td>\n",
       "      <td>actual_bits=496+actual_strata=496+bits_error=-...</td>\n",
       "    </tr>\n",
       "    <tr>\n",
       "      <th>4</th>\n",
       "      <td>502.666667</td>\n",
       "      <td>504</td>\n",
       "      <td>63</td>\n",
       "      <td>-8</td>\n",
       "      <td>8</td>\n",
       "      <td>TaperedDepthProportionalResolution</td>\n",
       "      <td>31</td>\n",
       "      <td>512</td>\n",
       "      <td>actual_bits=504+actual_strata=63+bits_error=-8...</td>\n",
       "    </tr>\n",
       "    <tr>\n",
       "      <th>5</th>\n",
       "      <td>448.000000</td>\n",
       "      <td>448</td>\n",
       "      <td>7</td>\n",
       "      <td>-64</td>\n",
       "      <td>64</td>\n",
       "      <td>TaperedDepthProportionalResolution</td>\n",
       "      <td>3</td>\n",
       "      <td>512</td>\n",
       "      <td>actual_bits=448+actual_strata=7+bits_error=-64...</td>\n",
       "    </tr>\n",
       "    <tr>\n",
       "      <th>6</th>\n",
       "      <td>497.291667</td>\n",
       "      <td>496</td>\n",
       "      <td>496</td>\n",
       "      <td>-3600</td>\n",
       "      <td>1</td>\n",
       "      <td>TaperedDepthProportionalResolution</td>\n",
       "      <td>496</td>\n",
       "      <td>4096</td>\n",
       "      <td>actual_bits=496+actual_strata=496+bits_error=-...</td>\n",
       "    </tr>\n",
       "    <tr>\n",
       "      <th>7</th>\n",
       "      <td>3978.333333</td>\n",
       "      <td>3968</td>\n",
       "      <td>496</td>\n",
       "      <td>-128</td>\n",
       "      <td>8</td>\n",
       "      <td>TaperedDepthProportionalResolution</td>\n",
       "      <td>496</td>\n",
       "      <td>4096</td>\n",
       "      <td>actual_bits=3968+actual_strata=496+bits_error=...</td>\n",
       "    </tr>\n",
       "    <tr>\n",
       "      <th>8</th>\n",
       "      <td>4021.333333</td>\n",
       "      <td>4032</td>\n",
       "      <td>63</td>\n",
       "      <td>-64</td>\n",
       "      <td>64</td>\n",
       "      <td>TaperedDepthProportionalResolution</td>\n",
       "      <td>31</td>\n",
       "      <td>4096</td>\n",
       "      <td>actual_bits=4032+actual_strata=63+bits_error=-...</td>\n",
       "    </tr>\n",
       "    <tr>\n",
       "      <th>9</th>\n",
       "      <td>57.958333</td>\n",
       "      <td>60</td>\n",
       "      <td>60</td>\n",
       "      <td>-4</td>\n",
       "      <td>1</td>\n",
       "      <td>RecencyProportionalResolution</td>\n",
       "      <td>8</td>\n",
       "      <td>64</td>\n",
       "      <td>actual_bits=60+actual_strata=60+bits_error=-4+...</td>\n",
       "    </tr>\n",
       "    <tr>\n",
       "      <th>10</th>\n",
       "      <td>55.666667</td>\n",
       "      <td>72</td>\n",
       "      <td>9</td>\n",
       "      <td>8</td>\n",
       "      <td>8</td>\n",
       "      <td>RecencyProportionalResolution</td>\n",
       "      <td>0</td>\n",
       "      <td>64</td>\n",
       "      <td>actual_bits=72+actual_strata=9+bits_error=8+di...</td>\n",
       "    </tr>\n",
       "    <tr>\n",
       "      <th>11</th>\n",
       "      <td>445.333333</td>\n",
       "      <td>576</td>\n",
       "      <td>9</td>\n",
       "      <td>512</td>\n",
       "      <td>64</td>\n",
       "      <td>RecencyProportionalResolution</td>\n",
       "      <td>0</td>\n",
       "      <td>64</td>\n",
       "      <td>actual_bits=576+actual_strata=9+bits_error=512...</td>\n",
       "    </tr>\n",
       "    <tr>\n",
       "      <th>12</th>\n",
       "      <td>497.291667</td>\n",
       "      <td>496</td>\n",
       "      <td>496</td>\n",
       "      <td>-16</td>\n",
       "      <td>1</td>\n",
       "      <td>RecencyProportionalResolution</td>\n",
       "      <td>496</td>\n",
       "      <td>512</td>\n",
       "      <td>actual_bits=496+actual_strata=496+bits_error=-...</td>\n",
       "    </tr>\n",
       "    <tr>\n",
       "      <th>13</th>\n",
       "      <td>463.666667</td>\n",
       "      <td>480</td>\n",
       "      <td>60</td>\n",
       "      <td>-32</td>\n",
       "      <td>8</td>\n",
       "      <td>RecencyProportionalResolution</td>\n",
       "      <td>8</td>\n",
       "      <td>512</td>\n",
       "      <td>actual_bits=480+actual_strata=60+bits_error=-3...</td>\n",
       "    </tr>\n",
       "    <tr>\n",
       "      <th>14</th>\n",
       "      <td>445.333333</td>\n",
       "      <td>576</td>\n",
       "      <td>9</td>\n",
       "      <td>64</td>\n",
       "      <td>64</td>\n",
       "      <td>RecencyProportionalResolution</td>\n",
       "      <td>0</td>\n",
       "      <td>512</td>\n",
       "      <td>actual_bits=576+actual_strata=9+bits_error=64+...</td>\n",
       "    </tr>\n",
       "    <tr>\n",
       "      <th>15</th>\n",
       "      <td>497.291667</td>\n",
       "      <td>496</td>\n",
       "      <td>496</td>\n",
       "      <td>-3600</td>\n",
       "      <td>1</td>\n",
       "      <td>RecencyProportionalResolution</td>\n",
       "      <td>496</td>\n",
       "      <td>4096</td>\n",
       "      <td>actual_bits=496+actual_strata=496+bits_error=-...</td>\n",
       "    </tr>\n",
       "    <tr>\n",
       "      <th>16</th>\n",
       "      <td>3978.333333</td>\n",
       "      <td>3968</td>\n",
       "      <td>496</td>\n",
       "      <td>-128</td>\n",
       "      <td>8</td>\n",
       "      <td>RecencyProportionalResolution</td>\n",
       "      <td>496</td>\n",
       "      <td>4096</td>\n",
       "      <td>actual_bits=3968+actual_strata=496+bits_error=...</td>\n",
       "    </tr>\n",
       "    <tr>\n",
       "      <th>17</th>\n",
       "      <td>3709.333333</td>\n",
       "      <td>3840</td>\n",
       "      <td>60</td>\n",
       "      <td>-256</td>\n",
       "      <td>64</td>\n",
       "      <td>RecencyProportionalResolution</td>\n",
       "      <td>8</td>\n",
       "      <td>4096</td>\n",
       "      <td>actual_bits=3840+actual_strata=60+bits_error=-...</td>\n",
       "    </tr>\n",
       "  </tbody>\n",
       "</table>\n",
       "</div>"
      ],
      "text/plain": [
       "    Mean Actual Retained Bits actual_bits actual_strata bits_error  \\\n",
       "0                   62.833333          63            63         -1   \n",
       "1                   56.000000          56             7         -8   \n",
       "2                  192.000000         192             3        128   \n",
       "3                  497.291667         496           496        -16   \n",
       "4                  502.666667         504            63         -8   \n",
       "5                  448.000000         448             7        -64   \n",
       "6                  497.291667         496           496      -3600   \n",
       "7                 3978.333333        3968           496       -128   \n",
       "8                 4021.333333        4032            63        -64   \n",
       "9                   57.958333          60            60         -4   \n",
       "10                  55.666667          72             9          8   \n",
       "11                 445.333333         576             9        512   \n",
       "12                 497.291667         496           496        -16   \n",
       "13                 463.666667         480            60        -32   \n",
       "14                 445.333333         576             9         64   \n",
       "15                 497.291667         496           496      -3600   \n",
       "16                3978.333333        3968           496       -128   \n",
       "17                3709.333333        3840            60       -256   \n",
       "\n",
       "   differentia                              policy resolution target_bits  \\\n",
       "0            1  TaperedDepthProportionalResolution         31          64   \n",
       "1            8  TaperedDepthProportionalResolution          3          64   \n",
       "2           64  TaperedDepthProportionalResolution          1          64   \n",
       "3            1  TaperedDepthProportionalResolution        496         512   \n",
       "4            8  TaperedDepthProportionalResolution         31         512   \n",
       "5           64  TaperedDepthProportionalResolution          3         512   \n",
       "6            1  TaperedDepthProportionalResolution        496        4096   \n",
       "7            8  TaperedDepthProportionalResolution        496        4096   \n",
       "8           64  TaperedDepthProportionalResolution         31        4096   \n",
       "9            1       RecencyProportionalResolution          8          64   \n",
       "10           8       RecencyProportionalResolution          0          64   \n",
       "11          64       RecencyProportionalResolution          0          64   \n",
       "12           1       RecencyProportionalResolution        496         512   \n",
       "13           8       RecencyProportionalResolution          8         512   \n",
       "14          64       RecencyProportionalResolution          0         512   \n",
       "15           1       RecencyProportionalResolution        496        4096   \n",
       "16           8       RecencyProportionalResolution        496        4096   \n",
       "17          64       RecencyProportionalResolution          8        4096   \n",
       "\n",
       "                                                    _  \n",
       "0   actual_bits=63+actual_strata=63+bits_error=-1+...  \n",
       "1   actual_bits=56+actual_strata=7+bits_error=-8+d...  \n",
       "2   actual_bits=192+actual_strata=3+bits_error=128...  \n",
       "3   actual_bits=496+actual_strata=496+bits_error=-...  \n",
       "4   actual_bits=504+actual_strata=63+bits_error=-8...  \n",
       "5   actual_bits=448+actual_strata=7+bits_error=-64...  \n",
       "6   actual_bits=496+actual_strata=496+bits_error=-...  \n",
       "7   actual_bits=3968+actual_strata=496+bits_error=...  \n",
       "8   actual_bits=4032+actual_strata=63+bits_error=-...  \n",
       "9   actual_bits=60+actual_strata=60+bits_error=-4+...  \n",
       "10  actual_bits=72+actual_strata=9+bits_error=8+di...  \n",
       "11  actual_bits=576+actual_strata=9+bits_error=512...  \n",
       "12  actual_bits=496+actual_strata=496+bits_error=-...  \n",
       "13  actual_bits=480+actual_strata=60+bits_error=-3...  \n",
       "14  actual_bits=576+actual_strata=9+bits_error=64+...  \n",
       "15  actual_bits=496+actual_strata=496+bits_error=-...  \n",
       "16  actual_bits=3968+actual_strata=496+bits_error=...  \n",
       "17  actual_bits=3840+actual_strata=60+bits_error=-...  "
      ]
     },
     "execution_count": 19,
     "metadata": {},
     "output_type": "execute_result"
    }
   ],
   "source": [
    "# impl -> mean retained bits\n",
    "mean_retained_bits = {\n",
    "    impl: np.mean([\n",
    "        node.hstrat_column.GetNumStrataRetained()[impl]\n",
    "        * int(kn.unpack(impl)['differentia'])\n",
    "        for node in root.leaves\n",
    "    ])\n",
    "    for impl in bundle\n",
    "}\n",
    "\n",
    "records = [\n",
    "    {\n",
    "        **{\n",
    "            'Mean Actual Retained Bits': v,\n",
    "        },\n",
    "        **kn.unpack(k)\n",
    "    }\n",
    "    for k, v in mean_retained_bits.items()\n",
    "]\n",
    "actual_retained_bits_df = pd.DataFrame.from_records(records)\n",
    "actual_retained_bits_df.to_csv(\n",
    "    f'a=actual_retained_bits+source={data_filename}',\n",
    ")\n",
    "\n",
    "actual_retained_bits_df\n"
   ]
  },
  {
   "cell_type": "code",
   "execution_count": 20,
   "id": "eed4d023",
   "metadata": {
    "execution": {
     "iopub.execute_input": "2023-08-20T01:08:57.230193Z",
     "iopub.status.busy": "2023-08-20T01:08:57.230021Z",
     "iopub.status.idle": "2023-08-20T01:09:01.005560Z",
     "shell.execute_reply": "2023-08-20T01:09:01.005079Z"
    },
    "papermill": {
     "duration": 3.796551,
     "end_time": "2023-08-20T01:09:01.007208",
     "exception": false,
     "start_time": "2023-08-20T01:08:57.210657",
     "status": "completed"
    },
    "tags": []
   },
   "outputs": [
    {
     "name": "stderr",
     "output_type": "stream",
     "text": [
      "\r",
      "  0%|          | 0/576 [00:00<?, ?it/s]"
     ]
    },
    {
     "name": "stderr",
     "output_type": "stream",
     "text": [
      "\r",
      "  4%|▍         | 25/576 [00:00<00:02, 249.70it/s]"
     ]
    },
    {
     "name": "stderr",
     "output_type": "stream",
     "text": [
      "\r",
      "  9%|▉         | 53/576 [00:00<00:02, 250.54it/s]"
     ]
    },
    {
     "name": "stderr",
     "output_type": "stream",
     "text": [
      "\r",
      " 13%|█▎        | 73/576 [00:00<00:02, 231.89it/s]"
     ]
    },
    {
     "name": "stderr",
     "output_type": "stream",
     "text": [
      "\r",
      " 15%|█▌        | 88/576 [00:00<00:02, 176.69it/s]"
     ]
    },
    {
     "name": "stderr",
     "output_type": "stream",
     "text": [
      "\r",
      " 18%|█▊        | 104/576 [00:00<00:02, 165.80it/s]"
     ]
    },
    {
     "name": "stderr",
     "output_type": "stream",
     "text": [
      "\r",
      " 22%|██▏       | 125/576 [00:00<00:02, 174.32it/s]"
     ]
    },
    {
     "name": "stderr",
     "output_type": "stream",
     "text": [
      "\r",
      " 25%|██▌       | 146/576 [00:00<00:02, 183.52it/s]"
     ]
    },
    {
     "name": "stderr",
     "output_type": "stream",
     "text": [
      "\r",
      " 28%|██▊       | 164/576 [00:00<00:02, 166.65it/s]"
     ]
    },
    {
     "name": "stderr",
     "output_type": "stream",
     "text": [
      "\r",
      " 31%|███▏      | 181/576 [00:01<00:02, 151.68it/s]"
     ]
    },
    {
     "name": "stderr",
     "output_type": "stream",
     "text": [
      "\r",
      " 35%|███▍      | 199/576 [00:01<00:02, 158.20it/s]"
     ]
    },
    {
     "name": "stderr",
     "output_type": "stream",
     "text": [
      "\r",
      " 38%|███▊      | 221/576 [00:01<00:02, 169.31it/s]"
     ]
    },
    {
     "name": "stderr",
     "output_type": "stream",
     "text": [
      "\r",
      " 41%|████▏     | 239/576 [00:01<00:02, 156.42it/s]"
     ]
    },
    {
     "name": "stderr",
     "output_type": "stream",
     "text": [
      "\r",
      " 45%|████▍     | 257/576 [00:01<00:02, 159.45it/s]"
     ]
    },
    {
     "name": "stderr",
     "output_type": "stream",
     "text": [
      "\r",
      " 48%|████▊     | 277/576 [00:01<00:01, 165.04it/s]"
     ]
    },
    {
     "name": "stderr",
     "output_type": "stream",
     "text": [
      "\r",
      " 51%|█████     | 294/576 [00:01<00:01, 153.73it/s]"
     ]
    },
    {
     "name": "stderr",
     "output_type": "stream",
     "text": [
      "\r",
      " 54%|█████▍    | 310/576 [00:01<00:02, 123.01it/s]"
     ]
    },
    {
     "name": "stderr",
     "output_type": "stream",
     "text": [
      "\r",
      " 57%|█████▋    | 328/576 [00:02<00:01, 134.14it/s]"
     ]
    },
    {
     "name": "stderr",
     "output_type": "stream",
     "text": [
      "\r",
      " 60%|█████▉    | 343/576 [00:02<00:01, 134.72it/s]"
     ]
    },
    {
     "name": "stderr",
     "output_type": "stream",
     "text": [
      "\r",
      " 62%|██████▏   | 358/576 [00:02<00:01, 111.15it/s]"
     ]
    },
    {
     "name": "stderr",
     "output_type": "stream",
     "text": [
      "\r",
      " 65%|██████▌   | 375/576 [00:02<00:01, 122.20it/s]"
     ]
    },
    {
     "name": "stderr",
     "output_type": "stream",
     "text": [
      "\r",
      " 68%|██████▊   | 389/576 [00:02<00:01, 124.19it/s]"
     ]
    },
    {
     "name": "stderr",
     "output_type": "stream",
     "text": [
      "\r",
      " 70%|██████▉   | 403/576 [00:02<00:01, 111.75it/s]"
     ]
    },
    {
     "name": "stderr",
     "output_type": "stream",
     "text": [
      "\r",
      " 73%|███████▎  | 421/576 [00:02<00:01, 124.78it/s]"
     ]
    },
    {
     "name": "stderr",
     "output_type": "stream",
     "text": [
      "\r",
      " 76%|███████▌  | 435/576 [00:02<00:01, 113.98it/s]"
     ]
    },
    {
     "name": "stderr",
     "output_type": "stream",
     "text": [
      "\r",
      " 78%|███████▊  | 448/576 [00:03<00:01, 113.09it/s]"
     ]
    },
    {
     "name": "stderr",
     "output_type": "stream",
     "text": [
      "\r",
      " 81%|████████  | 467/576 [00:03<00:00, 125.75it/s]"
     ]
    },
    {
     "name": "stderr",
     "output_type": "stream",
     "text": [
      "\r",
      " 84%|████████▎ | 481/576 [00:03<00:00, 106.67it/s]"
     ]
    },
    {
     "name": "stderr",
     "output_type": "stream",
     "text": [
      "\r",
      " 86%|████████▌ | 496/576 [00:03<00:00, 114.69it/s]"
     ]
    },
    {
     "name": "stderr",
     "output_type": "stream",
     "text": [
      "\r",
      " 91%|█████████ | 524/576 [00:03<00:00, 139.08it/s]"
     ]
    },
    {
     "name": "stderr",
     "output_type": "stream",
     "text": [
      "\r",
      " 96%|█████████▌| 552/576 [00:03<00:00, 161.26it/s]"
     ]
    },
    {
     "name": "stderr",
     "output_type": "stream",
     "text": [
      "\r",
      "100%|██████████| 576/576 [00:03<00:00, 154.15it/s]"
     ]
    },
    {
     "name": "stderr",
     "output_type": "stream",
     "text": [
      "\n"
     ]
    }
   ],
   "source": [
    "res = []\n",
    "for extant1, extant2 in tqdm([*it.product(root.leaves, root.leaves)]):\n",
    "    if extant1 != extant2:\n",
    "        bounds = extant1.hstrat_column.CalcRankOfMrcaBoundsWith(extant2.hstrat_column)\n",
    "        for impl in extant1.hstrat_column:\n",
    "            res.append({\n",
    "                'Column Configuration' \\\n",
    "                    : impl,\n",
    "                'Differentia Bit Width' \\\n",
    "                    : kn.unpack(impl)['differentia'],\n",
    "                'Stratum Retention Policy' \\\n",
    "                    : kn.unpack(impl)['policy'],\n",
    "                'Stratum Retention Policy Resolution Parameter' \\\n",
    "                    : kn.unpack(impl)['resolution'],\n",
    "                'Stratigraphic Column Expected Retained Bits' \\\n",
    "                    : kn.unpack(impl)['actual_bits'],\n",
    "                'Stratigraphic Column Mean Actual Retained Bits' \\\n",
    "                    : mean_retained_bits[impl],\n",
    "                'Stratigraphic Column Target Retained Bits' \\\n",
    "                    : kn.unpack(impl)['target_bits'],\n",
    "                'Stratigraphic Column Expected Retained Bits Error' \\\n",
    "                    : kn.unpack(impl)['bits_error'],\n",
    "                'Stratigraphic Column Actual Num Retained Strata' \\\n",
    "                    : kn.unpack(impl)['actual_strata'],\n",
    "                'Taxon Compared From' \\\n",
    "                    : extant1.id,\n",
    "                'Taxon Compared To' \\\n",
    "                    : extant2.id,\n",
    "                'Generation of Taxon Compared From' \\\n",
    "                    : extant1.hstrat_column.GetNumStrataDeposited(),\n",
    "                'Generation of Taxon Compared To' \\\n",
    "                    : extant2.hstrat_column.GetNumStrataDeposited(),\n",
    "                'Generation Of MRCA Lower Bound (inclusive)' \\\n",
    "                    : opyt.apply_if(\n",
    "                        bounds[impl],\n",
    "                        lambda x: x[0],\n",
    "                    ),\n",
    "                'Generation Of MRCA Upper Bound (exclusive)' \\\n",
    "                    : opyt.apply_if(\n",
    "                        bounds[impl],\n",
    "                        lambda x: x[1],\n",
    "                    ),\n",
    "                'MRCA Bound Confidence' \\\n",
    "                    : extant1.hstrat_column[impl].CalcRankOfMrcaBoundsWithProvidedConfidenceLevel(),\n",
    "                'Rank of Earliest Detectable Mrca With' \\\n",
    "                    : extant1.hstrat_column[impl].CalcRankOfEarliestDetectableMrcaWith(extant2.hstrat_column[impl]),\n",
    "            })\n",
    "\n",
    "res_df = pd.DataFrame.from_records(res)\n"
   ]
  },
  {
   "cell_type": "code",
   "execution_count": 21,
   "id": "1f25043a",
   "metadata": {
    "execution": {
     "iopub.execute_input": "2023-08-20T01:09:01.062219Z",
     "iopub.status.busy": "2023-08-20T01:09:01.062012Z",
     "iopub.status.idle": "2023-08-20T01:09:01.078676Z",
     "shell.execute_reply": "2023-08-20T01:09:01.078279Z"
    },
    "papermill": {
     "duration": 0.045655,
     "end_time": "2023-08-20T01:09:01.079874",
     "exception": false,
     "start_time": "2023-08-20T01:09:01.034219",
     "status": "completed"
    },
    "tags": []
   },
   "outputs": [
    {
     "data": {
      "text/html": [
       "<div>\n",
       "<style scoped>\n",
       "    .dataframe tbody tr th:only-of-type {\n",
       "        vertical-align: middle;\n",
       "    }\n",
       "\n",
       "    .dataframe tbody tr th {\n",
       "        vertical-align: top;\n",
       "    }\n",
       "\n",
       "    .dataframe thead th {\n",
       "        text-align: right;\n",
       "    }\n",
       "</style>\n",
       "<table border=\"1\" class=\"dataframe\">\n",
       "  <thead>\n",
       "    <tr style=\"text-align: right;\">\n",
       "      <th></th>\n",
       "      <th>Column Configuration</th>\n",
       "      <th>Differentia Bit Width</th>\n",
       "      <th>Stratum Retention Policy</th>\n",
       "      <th>Stratum Retention Policy Resolution Parameter</th>\n",
       "      <th>Stratigraphic Column Expected Retained Bits</th>\n",
       "      <th>Stratigraphic Column Mean Actual Retained Bits</th>\n",
       "      <th>Stratigraphic Column Target Retained Bits</th>\n",
       "      <th>Stratigraphic Column Expected Retained Bits Error</th>\n",
       "      <th>Stratigraphic Column Actual Num Retained Strata</th>\n",
       "      <th>Taxon Compared From</th>\n",
       "      <th>Taxon Compared To</th>\n",
       "      <th>Generation of Taxon Compared From</th>\n",
       "      <th>Generation of Taxon Compared To</th>\n",
       "      <th>Generation Of MRCA Lower Bound (inclusive)</th>\n",
       "      <th>Generation Of MRCA Upper Bound (exclusive)</th>\n",
       "      <th>MRCA Bound Confidence</th>\n",
       "      <th>Rank of Earliest Detectable Mrca With</th>\n",
       "    </tr>\n",
       "  </thead>\n",
       "  <tbody>\n",
       "    <tr>\n",
       "      <th>0</th>\n",
       "      <td>actual_bits=63+actual_strata=63+bits_error=-1+...</td>\n",
       "      <td>1</td>\n",
       "      <td>TaperedDepthProportionalResolution</td>\n",
       "      <td>31</td>\n",
       "      <td>63</td>\n",
       "      <td>62.833333</td>\n",
       "      <td>64</td>\n",
       "      <td>-1</td>\n",
       "      <td>63</td>\n",
       "      <td>4737</td>\n",
       "      <td>4733</td>\n",
       "      <td>501</td>\n",
       "      <td>501</td>\n",
       "      <td>440.0</td>\n",
       "      <td>480.0</td>\n",
       "      <td>0.968750</td>\n",
       "      <td>40</td>\n",
       "    </tr>\n",
       "    <tr>\n",
       "      <th>1</th>\n",
       "      <td>actual_bits=56+actual_strata=7+bits_error=-8+d...</td>\n",
       "      <td>8</td>\n",
       "      <td>TaperedDepthProportionalResolution</td>\n",
       "      <td>3</td>\n",
       "      <td>56</td>\n",
       "      <td>56.000000</td>\n",
       "      <td>64</td>\n",
       "      <td>-8</td>\n",
       "      <td>7</td>\n",
       "      <td>4737</td>\n",
       "      <td>4733</td>\n",
       "      <td>501</td>\n",
       "      <td>501</td>\n",
       "      <td>448.0</td>\n",
       "      <td>500.0</td>\n",
       "      <td>0.996094</td>\n",
       "      <td>0</td>\n",
       "    </tr>\n",
       "    <tr>\n",
       "      <th>2</th>\n",
       "      <td>actual_bits=192+actual_strata=3+bits_error=128...</td>\n",
       "      <td>64</td>\n",
       "      <td>TaperedDepthProportionalResolution</td>\n",
       "      <td>1</td>\n",
       "      <td>192</td>\n",
       "      <td>192.000000</td>\n",
       "      <td>64</td>\n",
       "      <td>128</td>\n",
       "      <td>3</td>\n",
       "      <td>4737</td>\n",
       "      <td>4733</td>\n",
       "      <td>501</td>\n",
       "      <td>501</td>\n",
       "      <td>256.0</td>\n",
       "      <td>500.0</td>\n",
       "      <td>1.000000</td>\n",
       "      <td>0</td>\n",
       "    </tr>\n",
       "    <tr>\n",
       "      <th>3</th>\n",
       "      <td>actual_bits=496+actual_strata=496+bits_error=-...</td>\n",
       "      <td>1</td>\n",
       "      <td>TaperedDepthProportionalResolution</td>\n",
       "      <td>496</td>\n",
       "      <td>496</td>\n",
       "      <td>497.291667</td>\n",
       "      <td>512</td>\n",
       "      <td>-16</td>\n",
       "      <td>496</td>\n",
       "      <td>4737</td>\n",
       "      <td>4733</td>\n",
       "      <td>501</td>\n",
       "      <td>501</td>\n",
       "      <td>474.0</td>\n",
       "      <td>479.0</td>\n",
       "      <td>0.968750</td>\n",
       "      <td>4</td>\n",
       "    </tr>\n",
       "    <tr>\n",
       "      <th>4</th>\n",
       "      <td>actual_bits=504+actual_strata=63+bits_error=-8...</td>\n",
       "      <td>8</td>\n",
       "      <td>TaperedDepthProportionalResolution</td>\n",
       "      <td>31</td>\n",
       "      <td>504</td>\n",
       "      <td>502.666667</td>\n",
       "      <td>512</td>\n",
       "      <td>-8</td>\n",
       "      <td>63</td>\n",
       "      <td>4737</td>\n",
       "      <td>4733</td>\n",
       "      <td>501</td>\n",
       "      <td>501</td>\n",
       "      <td>472.0</td>\n",
       "      <td>480.0</td>\n",
       "      <td>0.996094</td>\n",
       "      <td>0</td>\n",
       "    </tr>\n",
       "    <tr>\n",
       "      <th>...</th>\n",
       "      <td>...</td>\n",
       "      <td>...</td>\n",
       "      <td>...</td>\n",
       "      <td>...</td>\n",
       "      <td>...</td>\n",
       "      <td>...</td>\n",
       "      <td>...</td>\n",
       "      <td>...</td>\n",
       "      <td>...</td>\n",
       "      <td>...</td>\n",
       "      <td>...</td>\n",
       "      <td>...</td>\n",
       "      <td>...</td>\n",
       "      <td>...</td>\n",
       "      <td>...</td>\n",
       "      <td>...</td>\n",
       "      <td>...</td>\n",
       "    </tr>\n",
       "    <tr>\n",
       "      <th>9931</th>\n",
       "      <td>actual_bits=480+actual_strata=60+bits_error=-3...</td>\n",
       "      <td>8</td>\n",
       "      <td>RecencyProportionalResolution</td>\n",
       "      <td>8</td>\n",
       "      <td>480</td>\n",
       "      <td>463.666667</td>\n",
       "      <td>512</td>\n",
       "      <td>-32</td>\n",
       "      <td>60</td>\n",
       "      <td>4595</td>\n",
       "      <td>4738</td>\n",
       "      <td>486</td>\n",
       "      <td>501</td>\n",
       "      <td>480.0</td>\n",
       "      <td>482.0</td>\n",
       "      <td>0.996094</td>\n",
       "      <td>0</td>\n",
       "    </tr>\n",
       "    <tr>\n",
       "      <th>9932</th>\n",
       "      <td>actual_bits=576+actual_strata=9+bits_error=64+...</td>\n",
       "      <td>64</td>\n",
       "      <td>RecencyProportionalResolution</td>\n",
       "      <td>0</td>\n",
       "      <td>576</td>\n",
       "      <td>445.333333</td>\n",
       "      <td>512</td>\n",
       "      <td>64</td>\n",
       "      <td>9</td>\n",
       "      <td>4595</td>\n",
       "      <td>4738</td>\n",
       "      <td>486</td>\n",
       "      <td>501</td>\n",
       "      <td>480.0</td>\n",
       "      <td>486.0</td>\n",
       "      <td>1.000000</td>\n",
       "      <td>0</td>\n",
       "    </tr>\n",
       "    <tr>\n",
       "      <th>9933</th>\n",
       "      <td>actual_bits=496+actual_strata=496+bits_error=-...</td>\n",
       "      <td>1</td>\n",
       "      <td>RecencyProportionalResolution</td>\n",
       "      <td>496</td>\n",
       "      <td>496</td>\n",
       "      <td>497.291667</td>\n",
       "      <td>4096</td>\n",
       "      <td>-3600</td>\n",
       "      <td>496</td>\n",
       "      <td>4595</td>\n",
       "      <td>4738</td>\n",
       "      <td>486</td>\n",
       "      <td>501</td>\n",
       "      <td>476.0</td>\n",
       "      <td>481.0</td>\n",
       "      <td>0.968750</td>\n",
       "      <td>4</td>\n",
       "    </tr>\n",
       "    <tr>\n",
       "      <th>9934</th>\n",
       "      <td>actual_bits=3968+actual_strata=496+bits_error=...</td>\n",
       "      <td>8</td>\n",
       "      <td>RecencyProportionalResolution</td>\n",
       "      <td>496</td>\n",
       "      <td>3968</td>\n",
       "      <td>3978.333333</td>\n",
       "      <td>4096</td>\n",
       "      <td>-128</td>\n",
       "      <td>496</td>\n",
       "      <td>4595</td>\n",
       "      <td>4738</td>\n",
       "      <td>486</td>\n",
       "      <td>501</td>\n",
       "      <td>480.0</td>\n",
       "      <td>481.0</td>\n",
       "      <td>0.996094</td>\n",
       "      <td>0</td>\n",
       "    </tr>\n",
       "    <tr>\n",
       "      <th>9935</th>\n",
       "      <td>actual_bits=3840+actual_strata=60+bits_error=-...</td>\n",
       "      <td>64</td>\n",
       "      <td>RecencyProportionalResolution</td>\n",
       "      <td>8</td>\n",
       "      <td>3840</td>\n",
       "      <td>3709.333333</td>\n",
       "      <td>4096</td>\n",
       "      <td>-256</td>\n",
       "      <td>60</td>\n",
       "      <td>4595</td>\n",
       "      <td>4738</td>\n",
       "      <td>486</td>\n",
       "      <td>501</td>\n",
       "      <td>480.0</td>\n",
       "      <td>482.0</td>\n",
       "      <td>1.000000</td>\n",
       "      <td>0</td>\n",
       "    </tr>\n",
       "  </tbody>\n",
       "</table>\n",
       "<p>9936 rows × 17 columns</p>\n",
       "</div>"
      ],
      "text/plain": [
       "                                   Column Configuration Differentia Bit Width  \\\n",
       "0     actual_bits=63+actual_strata=63+bits_error=-1+...                     1   \n",
       "1     actual_bits=56+actual_strata=7+bits_error=-8+d...                     8   \n",
       "2     actual_bits=192+actual_strata=3+bits_error=128...                    64   \n",
       "3     actual_bits=496+actual_strata=496+bits_error=-...                     1   \n",
       "4     actual_bits=504+actual_strata=63+bits_error=-8...                     8   \n",
       "...                                                 ...                   ...   \n",
       "9931  actual_bits=480+actual_strata=60+bits_error=-3...                     8   \n",
       "9932  actual_bits=576+actual_strata=9+bits_error=64+...                    64   \n",
       "9933  actual_bits=496+actual_strata=496+bits_error=-...                     1   \n",
       "9934  actual_bits=3968+actual_strata=496+bits_error=...                     8   \n",
       "9935  actual_bits=3840+actual_strata=60+bits_error=-...                    64   \n",
       "\n",
       "                Stratum Retention Policy  \\\n",
       "0     TaperedDepthProportionalResolution   \n",
       "1     TaperedDepthProportionalResolution   \n",
       "2     TaperedDepthProportionalResolution   \n",
       "3     TaperedDepthProportionalResolution   \n",
       "4     TaperedDepthProportionalResolution   \n",
       "...                                  ...   \n",
       "9931       RecencyProportionalResolution   \n",
       "9932       RecencyProportionalResolution   \n",
       "9933       RecencyProportionalResolution   \n",
       "9934       RecencyProportionalResolution   \n",
       "9935       RecencyProportionalResolution   \n",
       "\n",
       "     Stratum Retention Policy Resolution Parameter  \\\n",
       "0                                               31   \n",
       "1                                                3   \n",
       "2                                                1   \n",
       "3                                              496   \n",
       "4                                               31   \n",
       "...                                            ...   \n",
       "9931                                             8   \n",
       "9932                                             0   \n",
       "9933                                           496   \n",
       "9934                                           496   \n",
       "9935                                             8   \n",
       "\n",
       "     Stratigraphic Column Expected Retained Bits  \\\n",
       "0                                             63   \n",
       "1                                             56   \n",
       "2                                            192   \n",
       "3                                            496   \n",
       "4                                            504   \n",
       "...                                          ...   \n",
       "9931                                         480   \n",
       "9932                                         576   \n",
       "9933                                         496   \n",
       "9934                                        3968   \n",
       "9935                                        3840   \n",
       "\n",
       "      Stratigraphic Column Mean Actual Retained Bits  \\\n",
       "0                                          62.833333   \n",
       "1                                          56.000000   \n",
       "2                                         192.000000   \n",
       "3                                         497.291667   \n",
       "4                                         502.666667   \n",
       "...                                              ...   \n",
       "9931                                      463.666667   \n",
       "9932                                      445.333333   \n",
       "9933                                      497.291667   \n",
       "9934                                     3978.333333   \n",
       "9935                                     3709.333333   \n",
       "\n",
       "     Stratigraphic Column Target Retained Bits  \\\n",
       "0                                           64   \n",
       "1                                           64   \n",
       "2                                           64   \n",
       "3                                          512   \n",
       "4                                          512   \n",
       "...                                        ...   \n",
       "9931                                       512   \n",
       "9932                                       512   \n",
       "9933                                      4096   \n",
       "9934                                      4096   \n",
       "9935                                      4096   \n",
       "\n",
       "     Stratigraphic Column Expected Retained Bits Error  \\\n",
       "0                                                   -1   \n",
       "1                                                   -8   \n",
       "2                                                  128   \n",
       "3                                                  -16   \n",
       "4                                                   -8   \n",
       "...                                                ...   \n",
       "9931                                               -32   \n",
       "9932                                                64   \n",
       "9933                                             -3600   \n",
       "9934                                              -128   \n",
       "9935                                              -256   \n",
       "\n",
       "     Stratigraphic Column Actual Num Retained Strata  Taxon Compared From  \\\n",
       "0                                                 63                 4737   \n",
       "1                                                  7                 4737   \n",
       "2                                                  3                 4737   \n",
       "3                                                496                 4737   \n",
       "4                                                 63                 4737   \n",
       "...                                              ...                  ...   \n",
       "9931                                              60                 4595   \n",
       "9932                                               9                 4595   \n",
       "9933                                             496                 4595   \n",
       "9934                                             496                 4595   \n",
       "9935                                              60                 4595   \n",
       "\n",
       "      Taxon Compared To  Generation of Taxon Compared From  \\\n",
       "0                  4733                                501   \n",
       "1                  4733                                501   \n",
       "2                  4733                                501   \n",
       "3                  4733                                501   \n",
       "4                  4733                                501   \n",
       "...                 ...                                ...   \n",
       "9931               4738                                486   \n",
       "9932               4738                                486   \n",
       "9933               4738                                486   \n",
       "9934               4738                                486   \n",
       "9935               4738                                486   \n",
       "\n",
       "      Generation of Taxon Compared To  \\\n",
       "0                                 501   \n",
       "1                                 501   \n",
       "2                                 501   \n",
       "3                                 501   \n",
       "4                                 501   \n",
       "...                               ...   \n",
       "9931                              501   \n",
       "9932                              501   \n",
       "9933                              501   \n",
       "9934                              501   \n",
       "9935                              501   \n",
       "\n",
       "      Generation Of MRCA Lower Bound (inclusive)  \\\n",
       "0                                          440.0   \n",
       "1                                          448.0   \n",
       "2                                          256.0   \n",
       "3                                          474.0   \n",
       "4                                          472.0   \n",
       "...                                          ...   \n",
       "9931                                       480.0   \n",
       "9932                                       480.0   \n",
       "9933                                       476.0   \n",
       "9934                                       480.0   \n",
       "9935                                       480.0   \n",
       "\n",
       "      Generation Of MRCA Upper Bound (exclusive)  MRCA Bound Confidence  \\\n",
       "0                                          480.0               0.968750   \n",
       "1                                          500.0               0.996094   \n",
       "2                                          500.0               1.000000   \n",
       "3                                          479.0               0.968750   \n",
       "4                                          480.0               0.996094   \n",
       "...                                          ...                    ...   \n",
       "9931                                       482.0               0.996094   \n",
       "9932                                       486.0               1.000000   \n",
       "9933                                       481.0               0.968750   \n",
       "9934                                       481.0               0.996094   \n",
       "9935                                       482.0               1.000000   \n",
       "\n",
       "      Rank of Earliest Detectable Mrca With  \n",
       "0                                        40  \n",
       "1                                         0  \n",
       "2                                         0  \n",
       "3                                         4  \n",
       "4                                         0  \n",
       "...                                     ...  \n",
       "9931                                      0  \n",
       "9932                                      0  \n",
       "9933                                      4  \n",
       "9934                                      0  \n",
       "9935                                      0  \n",
       "\n",
       "[9936 rows x 17 columns]"
      ]
     },
     "execution_count": 21,
     "metadata": {},
     "output_type": "execute_result"
    }
   ],
   "source": [
    "res_df\n"
   ]
  },
  {
   "cell_type": "code",
   "execution_count": 22,
   "id": "b57a8987",
   "metadata": {
    "execution": {
     "iopub.execute_input": "2023-08-20T01:09:01.136026Z",
     "iopub.status.busy": "2023-08-20T01:09:01.135851Z",
     "iopub.status.idle": "2023-08-20T01:09:01.240810Z",
     "shell.execute_reply": "2023-08-20T01:09:01.240197Z"
    },
    "papermill": {
     "duration": 0.134336,
     "end_time": "2023-08-20T01:09:01.242168",
     "exception": false,
     "start_time": "2023-08-20T01:09:01.107832",
     "status": "completed"
    },
    "tags": []
   },
   "outputs": [
    {
     "name": "stdout",
     "output_type": "stream",
     "text": [
      "digest: 3d024b557a67b8e2a5572033518c8564b219fdbde3c226f09b29a38aebe1b15f\n",
      "manifest:\n",
      "  Column Configuration: '                              18#         ex., actual_bits=63+actual_strata=63+bits_error=-1+differentia=1+policy=TaperedDepthProportionalResolution+resolution=31+target_bits=64'\n",
      "  Differentia Bit Width: '                             3#          ex., 1'\n",
      "  Generation Of MRCA Lower Bound (inclusive): '        76#,1668na  ex., 440.0'\n",
      "  Generation Of MRCA Upper Bound (exclusive): '        70#,1668na  ex., 480.0'\n",
      "  Generation of Taxon Compared From: '                 10#         ex., 501'\n",
      "  Generation of Taxon Compared To: '                   10#         ex., 501'\n",
      "  MRCA Bound Confidence: '                             3#          ex., 0.96875'\n",
      "  Rank of Earliest Detectable Mrca With: '             5#          ex., 40'\n",
      "  Stratigraphic Column Actual Num Retained Strata: '   6#          ex., 63'\n",
      "  Stratigraphic Column Expected Retained Bits: '       13#         ex., 63'\n",
      "  Stratigraphic Column Expected Retained Bits Error: ' 13#         ex., -1'\n",
      "  Stratigraphic Column Mean Actual Retained Bits: '    13#         ex., 62.833333333333336'\n",
      "  Stratigraphic Column Target Retained Bits: '         3#          ex., 64'\n",
      "  Stratum Retention Policy: '                          2#          ex., TaperedDepthProportionalResolution'\n",
      "  Stratum Retention Policy Resolution Parameter: '     6#          ex., 31'\n",
      "  Taxon Compared From: '                               24#         ex., 4737'\n",
      "  Taxon Compared To: '                                 24#         ex., 4733'\n",
      "num cols: 17\n",
      "num cols all na: 0\n",
      "num cols any na: 2\n",
      "num na: 3336\n",
      "num rows: 9936\n",
      "num rows all na: 0\n",
      "num rows any na: 1668\n",
      "size: 6M\n",
      "\n"
     ]
    }
   ],
   "source": [
    "nbm.print_dataframe_synopsis(res_df)\n"
   ]
  },
  {
   "cell_type": "markdown",
   "id": "5b9cbb25",
   "metadata": {
    "papermill": {
     "duration": 0.027623,
     "end_time": "2023-08-20T01:09:01.297654",
     "exception": false,
     "start_time": "2023-08-20T01:09:01.270031",
     "status": "completed"
    },
    "tags": []
   },
   "source": [
    "# Save Pairwise MRCA Estimates to File\n"
   ]
  },
  {
   "cell_type": "code",
   "execution_count": 23,
   "id": "eb8ba07c",
   "metadata": {
    "execution": {
     "iopub.execute_input": "2023-08-20T01:09:01.354204Z",
     "iopub.status.busy": "2023-08-20T01:09:01.354008Z",
     "iopub.status.idle": "2023-08-20T01:09:01.557366Z",
     "shell.execute_reply": "2023-08-20T01:09:01.556635Z"
    },
    "papermill": {
     "duration": 0.234051,
     "end_time": "2023-08-20T01:09:01.559325",
     "exception": false,
     "start_time": "2023-08-20T01:09:01.325274",
     "status": "completed"
    },
    "tags": []
   },
   "outputs": [],
   "source": [
    "res_df.to_csv(\n",
    "    f'a=pairwise_mrca_estimates+source={data_filename}.gz',\n",
    "    compression='gzip',\n",
    ")\n",
    "res_df.to_csv(\n",
    "    f'a=pairwise_mrca_estimates+source={data_filename}',\n",
    ")\n"
   ]
  }
 ],
 "metadata": {
  "kernelspec": {
   "display_name": "Python 3",
   "language": "python",
   "name": "python3"
  },
  "papermill": {
   "default_parameters": {},
   "duration": null,
   "end_time": null,
   "environment_variables": {},
   "exception": null,
   "input_path": "/opt/hereditary-stratigraph-concept/binder/phylogenetic-inference/phylogeny_simulation_mill.ipynb",
   "output_path": "executing.endomill.ipynb",
   "parameters": {
    "data_filename": "nk_lexicaseselection_seed110_pop165_mut.01_snapshot_500.csv",
    "data_url": "https://osf.io/8ycq7/"
   },
   "start_time": "2023-08-20T01:08:52.556935",
   "version": "2.3.4"
  }
 },
 "nbformat": 4,
 "nbformat_minor": 5
}