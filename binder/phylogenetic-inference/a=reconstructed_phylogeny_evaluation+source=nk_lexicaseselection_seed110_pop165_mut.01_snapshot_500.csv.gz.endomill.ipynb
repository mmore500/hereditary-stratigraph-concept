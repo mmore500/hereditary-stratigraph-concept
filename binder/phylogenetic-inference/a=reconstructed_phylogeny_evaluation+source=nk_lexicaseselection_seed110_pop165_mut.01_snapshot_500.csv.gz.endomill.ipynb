{
 "cells": [
  {
   "cell_type": "code",
   "execution_count": 1,
   "id": "2867c177",
   "metadata": {
    "execution": {
     "iopub.execute_input": "2023-08-13T01:34:14.185417Z",
     "iopub.status.busy": "2023-08-13T01:34:14.185007Z",
     "iopub.status.idle": "2023-08-13T01:34:15.086671Z",
     "shell.execute_reply": "2023-08-13T01:34:15.085947Z"
    },
    "papermill": {
     "duration": 0.921677,
     "end_time": "2023-08-13T01:34:15.088744",
     "exception": false,
     "start_time": "2023-08-13T01:34:14.167067",
     "status": "completed"
    },
    "tags": []
   },
   "outputs": [],
   "source": [
    "import endomill\n",
    "from nbmetalog import nbmetalog as nbm\n"
   ]
  },
  {
   "cell_type": "code",
   "execution_count": 2,
   "id": "5c6962d8",
   "metadata": {
    "execution": {
     "iopub.execute_input": "2023-08-13T01:34:15.121622Z",
     "iopub.status.busy": "2023-08-13T01:34:15.121225Z",
     "iopub.status.idle": "2023-08-13T01:34:15.469302Z",
     "shell.execute_reply": "2023-08-13T01:34:15.468592Z"
    },
    "papermill": {
     "duration": 0.36705,
     "end_time": "2023-08-13T01:34:15.471155",
     "exception": false,
     "start_time": "2023-08-13T01:34:15.104105",
     "status": "completed"
    },
    "tags": []
   },
   "outputs": [
    {
     "name": "stdout",
     "output_type": "stream",
     "text": [
      "context: ci\n",
      "hostname: 6ba40c58a217\n",
      "interpreter: 3.8.10 (default, May 26 2023, 14:05:08)  [GCC 9.4.0]\n",
      "nbcellexec: 2\n",
      "nbname: reconstructed_phylogeny_evaluation_mill\n",
      "nbpath: /opt/hereditary-stratigraph-concept/binder/phylogenetic-inference/reconstructed_phylogeny_evaluation_mill.ipynb\n",
      "revision: null\n",
      "session: 7881bb6c-69e3-4d74-bb24-698389da2294\n",
      "timestamp: 2023-08-13T01:34:15Z00:00\n",
      "\n",
      "\n"
     ]
    },
    {
     "name": "stdout",
     "output_type": "stream",
     "text": [
      "IPython==7.16.1\n",
      "keyname==0.4.1\n",
      "yaml==5.3.1\n",
      "endomill==0.1.3\n",
      "nbmetalog==0.2.6\n",
      "re==2.2.1\n",
      "ipython_genutils==0.2.0\n",
      "logging==0.5.1.2\n",
      "zmq==22.3.0\n",
      "json==2.0.9\n",
      "ipykernel==5.5.3\n"
     ]
    }
   ],
   "source": [
    "nbm.print_metadata()\n"
   ]
  },
  {
   "cell_type": "code",
   "execution_count": 3,
   "id": "e369dd0c",
   "metadata": {
    "execution": {
     "iopub.execute_input": "2023-08-13T01:34:15.505525Z",
     "iopub.status.busy": "2023-08-13T01:34:15.505265Z",
     "iopub.status.idle": "2023-08-13T01:34:15.511221Z",
     "shell.execute_reply": "2023-08-13T01:34:15.510684Z"
    },
    "papermill": {
     "duration": 0.025103,
     "end_time": "2023-08-13T01:34:15.512737",
     "exception": false,
     "start_time": "2023-08-13T01:34:15.487634",
     "status": "completed"
    },
    "tags": []
   },
   "outputs": [
    {
     "name": "stdout",
     "output_type": "stream",
     "text": [
      "detected executing.endomill.ipynb file\n",
      "skipping instantiate_over\n"
     ]
    }
   ],
   "source": [
    "prefix = (\n",
    "    'https://github.com/mmore500/hereditary-stratigraph-concept/'\n",
    "    'blob/49e2bb1ff4c433af5eab2532f077663dc7d9efa3/'\n",
    "    'binder/phylogenetic-inference/'\n",
    ")\n",
    "reconstructed_phylogeny_urls = [\n",
    "    prefix + 'a=reconstructed_phylogenies+source=nk_ecoeaselection_seed110_pop100_mut.01_snapshot_3000.csv.gz',\n",
    "    prefix + 'a=reconstructed_phylogenies+source=nk_lexicaseselection_seed110_pop165_mut.01_snapshot_500.csv.gz',\n",
    "    prefix + 'a=reconstructed_phylogenies+source=nk_randomselection_seed7_pop100_mut.01_snapshot_5000.csv.gz',\n",
    "    prefix + 'a=reconstructed_phylogenies+source=nk_sharingselection_seed10_pop100_mut.01_snapshot_5000.csv.gz',\n",
    "    prefix + 'a=reconstructed_phylogenies+source=nk_tournamentselection_seed140_pop100_mut.01_snapshot_5000.csv.gz',\n",
    "]\n",
    "\n",
    "original_phylogeny_urls = [\n",
    "            # nk_ecoeaselection_seed110_pop100_mut.01_snapshot_3000.csv\n",
    "            'https://osf.io/5d3be/',\n",
    "            # nk_lexicaseselection_seed110_pop165_mut.01_snapshot_500.csv\n",
    "            'https://osf.io/8ycq7/',\n",
    "            # nk_randomselection_seed7_pop100_mut.01_snapshot_5000.csv\n",
    "            'https://osf.io/ydxt7/',\n",
    "            # nk_sharingselection_seed10_pop100_mut.01_snapshot_5000.csv\n",
    "            'https://osf.io/cz9fk/',\n",
    "            # nk_tournamentselection_seed140_pop100_mut.01_snapshot_5000.csv\n",
    "            'https://osf.io/5ubn8/',\n",
    "]\n",
    "\n",
    "endomill.instantiate_over(\n",
    "    parameter_packs=[\n",
    "        {\n",
    "            'reconstructed_phylogeny_url': reconstructed_phylogeny_url,\n",
    "            'original_phylogeny_url': original_phylogeny_url,\n",
    "        }\n",
    "        for reconstructed_phylogeny_url, original_phylogeny_url\n",
    "        in zip(reconstructed_phylogeny_urls, original_phylogeny_urls)\n",
    "    ],\n",
    ")\n"
   ]
  },
  {
   "cell_type": "code",
   "execution_count": 4,
   "id": "7b996d53",
   "metadata": {
    "execution": {
     "iopub.execute_input": "2023-08-13T01:34:15.547066Z",
     "iopub.status.busy": "2023-08-13T01:34:15.546684Z",
     "iopub.status.idle": "2023-08-13T01:34:15.551121Z",
     "shell.execute_reply": "2023-08-13T01:34:15.550269Z"
    },
    "papermill": {
     "duration": 0.023938,
     "end_time": "2023-08-13T01:34:15.552727",
     "exception": false,
     "start_time": "2023-08-13T01:34:15.528789",
     "status": "completed"
    },
    "tags": [
     "parameters"
    ]
   },
   "outputs": [],
   "source": [
    "#define papermil parameters\n",
    "reconstructed_phylogeny_url: str\n",
    "original_phylogeny_url: str\n"
   ]
  },
  {
   "cell_type": "code",
   "execution_count": 5,
   "id": "e0335156",
   "metadata": {
    "execution": {
     "iopub.execute_input": "2023-08-13T01:34:15.586040Z",
     "iopub.status.busy": "2023-08-13T01:34:15.585828Z",
     "iopub.status.idle": "2023-08-13T01:34:15.588517Z",
     "shell.execute_reply": "2023-08-13T01:34:15.588026Z"
    },
    "papermill": {
     "duration": 0.021408,
     "end_time": "2023-08-13T01:34:15.590148",
     "exception": false,
     "start_time": "2023-08-13T01:34:15.568740",
     "status": "completed"
    },
    "tags": [
     "injected-parameters"
    ]
   },
   "outputs": [],
   "source": [
    "# Parameters\n",
    "reconstructed_phylogeny_url = \"https://github.com/mmore500/hereditary-stratigraph-concept/blob/49e2bb1ff4c433af5eab2532f077663dc7d9efa3/binder/phylogenetic-inference/a=reconstructed_phylogenies+source=nk_lexicaseselection_seed110_pop165_mut.01_snapshot_500.csv.gz\"\n",
    "original_phylogeny_url = \"https://osf.io/8ycq7/\"\n"
   ]
  },
  {
   "cell_type": "code",
   "execution_count": 6,
   "id": "912304e3",
   "metadata": {
    "execution": {
     "iopub.execute_input": "2023-08-13T01:34:15.625353Z",
     "iopub.status.busy": "2023-08-13T01:34:15.625148Z",
     "iopub.status.idle": "2023-08-13T01:34:16.407077Z",
     "shell.execute_reply": "2023-08-13T01:34:16.406235Z"
    },
    "papermill": {
     "duration": 0.802905,
     "end_time": "2023-08-13T01:34:16.409979",
     "exception": false,
     "start_time": "2023-08-13T01:34:15.607074",
     "status": "completed"
    },
    "tags": []
   },
   "outputs": [],
   "source": [
    "import alifedata_phyloinformatics_convert as apc\n",
    "from Bio import Phylo\n",
    "import dendropy\n",
    "from iterpop import iterpop as ip\n",
    "from keyname import keyname as kn\n",
    "from matplotlib import pyplot as plt\n",
    "import numpy as np\n",
    "import opytional as opyt\n",
    "from os.path import basename\n",
    "import pandas as pd\n",
    "import seaborn as sns\n",
    "import sys\n",
    "from teeplot import teeplot as tp\n"
   ]
  },
  {
   "cell_type": "code",
   "execution_count": 7,
   "id": "e95db46a",
   "metadata": {
    "execution": {
     "iopub.execute_input": "2023-08-13T01:34:16.444653Z",
     "iopub.status.busy": "2023-08-13T01:34:16.444380Z",
     "iopub.status.idle": "2023-08-13T01:34:16.448696Z",
     "shell.execute_reply": "2023-08-13T01:34:16.448040Z"
    },
    "papermill": {
     "duration": 0.023611,
     "end_time": "2023-08-13T01:34:16.450345",
     "exception": false,
     "start_time": "2023-08-13T01:34:16.426734",
     "status": "completed"
    },
    "tags": []
   },
   "outputs": [],
   "source": [
    "from pylib import draw_biopython_tree_with_origin_time_bounds\n"
   ]
  },
  {
   "cell_type": "code",
   "execution_count": 8,
   "id": "68d33207",
   "metadata": {
    "execution": {
     "iopub.execute_input": "2023-08-13T01:34:16.484886Z",
     "iopub.status.busy": "2023-08-13T01:34:16.484596Z",
     "iopub.status.idle": "2023-08-13T01:34:16.489460Z",
     "shell.execute_reply": "2023-08-13T01:34:16.488859Z"
    },
    "papermill": {
     "duration": 0.024203,
     "end_time": "2023-08-13T01:34:16.491379",
     "exception": false,
     "start_time": "2023-08-13T01:34:16.467176",
     "status": "completed"
    },
    "tags": []
   },
   "outputs": [],
   "source": [
    "sys.setrecursionlimit(100000) # data exceeds default recursion limit\n"
   ]
  },
  {
   "cell_type": "code",
   "execution_count": 9,
   "id": "2cd86f94",
   "metadata": {
    "execution": {
     "iopub.execute_input": "2023-08-13T01:34:16.526312Z",
     "iopub.status.busy": "2023-08-13T01:34:16.526068Z",
     "iopub.status.idle": "2023-08-13T01:34:16.939357Z",
     "shell.execute_reply": "2023-08-13T01:34:16.938703Z"
    },
    "papermill": {
     "duration": 0.433075,
     "end_time": "2023-08-13T01:34:16.941298",
     "exception": false,
     "start_time": "2023-08-13T01:34:16.508223",
     "status": "completed"
    },
    "tags": []
   },
   "outputs": [
    {
     "name": "stdout",
     "output_type": "stream",
     "text": [
      "context: ci\n",
      "hostname: 6ba40c58a217\n",
      "interpreter: 3.8.10 (default, May 26 2023, 14:05:08)  [GCC 9.4.0]\n",
      "nbcellexec: 9\n",
      "nbname: reconstructed_phylogeny_evaluation_mill\n",
      "nbpath: /opt/hereditary-stratigraph-concept/binder/phylogenetic-inference/reconstructed_phylogeny_evaluation_mill.ipynb\n",
      "revision: null\n",
      "session: 7881bb6c-69e3-4d74-bb24-698389da2294\n",
      "timestamp: 2023-08-13T01:34:16Z00:00\n",
      "\n",
      "\n"
     ]
    },
    {
     "name": "stdout",
     "output_type": "stream",
     "text": [
      "IPython==7.16.1\n",
      "endomill==0.1.3\n",
      "ipykernel==5.5.3\n",
      "ipython_genutils==0.2.0\n",
      "json==2.0.9\n",
      "keyname==0.4.1\n",
      "logging==0.5.1.2\n",
      "nbmetalog==0.2.6\n",
      "re==2.2.1\n",
      "yaml==5.3.1\n",
      "zmq==22.3.0\n",
      "Bio==1.79\n",
      "alifedata_phyloinformatics_convert==0.13.0\n",
      "dendropy==4.5.2\n",
      "iterpop==0.4.0\n",
      "matplotlib==3.3.2\n",
      "numpy==1.21.5\n",
      "opytional==0.1.0\n",
      "pandas==2.0.3\n",
      "seaborn==0.11.0\n",
      "teeplot==0.2.0\n"
     ]
    }
   ],
   "source": [
    "nbm.print_metadata()\n"
   ]
  },
  {
   "cell_type": "code",
   "execution_count": 10,
   "id": "0f6e1d70",
   "metadata": {
    "execution": {
     "iopub.execute_input": "2023-08-13T01:34:16.982712Z",
     "iopub.status.busy": "2023-08-13T01:34:16.982431Z",
     "iopub.status.idle": "2023-08-13T01:34:18.835644Z",
     "shell.execute_reply": "2023-08-13T01:34:18.834664Z"
    },
    "papermill": {
     "duration": 1.874911,
     "end_time": "2023-08-13T01:34:18.838461",
     "exception": false,
     "start_time": "2023-08-13T01:34:16.963550",
     "status": "completed"
    },
    "tags": []
   },
   "outputs": [
    {
     "name": "stdout",
     "output_type": "stream",
     "text": [
      "digest: 86769cfa0dc8832cd433846defef468661779b9b26ec70d5c23c6e09788112b2\n",
      "manifest:\n",
      "  ancestor_list: '    210#  ex., [4727]'\n",
      "  depth: '            59#   ex., 37'\n",
      "  destruction_time: ' 159#  ex., inf'\n",
      "  id: '               233#  ex., 4737'\n",
      "  name: '             233#  ex., 4737'\n",
      "  num_offspring: '    4#    ex., 0'\n",
      "  num_orgs: '         8#    ex., 1'\n",
      "  origin_time: '      176#  ex., 500'\n",
      "  phenotype: '        187#  ex., [ 0.78551 0.507546 0.298434 0.703895 0.70148 0.897296\n",
      "    0.852754 0.533489 0.975623 0.814646 0.0274892 0.45607 0.221636 0.767401 0.74891\n",
      "    0.860365 0.319087 0.293359 0.997853 0.770533 ]'\n",
      "  taxon_label: '      233#  ex., 4737'\n",
      "  tot_orgs: '         111#  ex., 1'\n",
      "  total_offspring: '  15#   ex., 0'\n",
      "num cols: 12\n",
      "num cols all na: 0\n",
      "num cols any na: 0\n",
      "num na: 0\n",
      "num rows: 233\n",
      "num rows all na: 0\n",
      "num rows any na: 0\n",
      "size: 111K\n",
      "\n"
     ]
    }
   ],
   "source": [
    "original_df = pd.read_csv(\n",
    "    f'{original_phylogeny_url}/download',\n",
    ")\n",
    "\n",
    "original_df['name'] = original_df['id'].astype(str)\n",
    "original_df['taxon_label'] = original_df['id'].astype(str)\n",
    "\n",
    "nbm.print_dataframe_synopsis(original_df)\n"
   ]
  },
  {
   "cell_type": "code",
   "execution_count": 11,
   "id": "946dbf5e",
   "metadata": {
    "execution": {
     "iopub.execute_input": "2023-08-13T01:34:18.876030Z",
     "iopub.status.busy": "2023-08-13T01:34:18.875749Z",
     "iopub.status.idle": "2023-08-13T01:34:19.512131Z",
     "shell.execute_reply": "2023-08-13T01:34:19.511388Z"
    },
    "papermill": {
     "duration": 0.657258,
     "end_time": "2023-08-13T01:34:19.513905",
     "exception": false,
     "start_time": "2023-08-13T01:34:18.856647",
     "status": "completed"
    },
    "tags": []
   },
   "outputs": [
    {
     "name": "stdout",
     "output_type": "stream",
     "text": [
      "digest: 57f78ce43e36e25fd68dafc77fef3100789f09a7df061e5fb529a26249d4638d\n",
      "manifest:\n",
      "  Algorithm: '                           1#    ex., <function upgma at 0x7f53f4084ca0>'\n",
      "  Instance: '                            18#   ex., differentia=1+policy=RecencyProportionalResolution+target=4096<function\n",
      "    upgma at 0x7f53f4084ca0>'\n",
      "  Origin Time Estimate: '                112#  ex., 1.5'\n",
      "  Origin Time Lower Bound (Inclusive): ' 82#   ex., 0.0'\n",
      "  Origin Time Upper Bound (Exclusive): ' 72#   ex., 4.0'\n",
      "  Treatment: '                           18#   ex., differentia=1+policy=RecencyProportionalResolution+target=4096'\n",
      "  'Unnamed: 0': '                          843#  ex., 0'\n",
      "  ancestor_list: '                       43#   ex., [None]'\n",
      "  branch_length: '                       184#  ex., 1.5'\n",
      "  id: '                                  47#   ex., 0'\n",
      "  index: '                               47#   ex., 0'\n",
      "  name: '                                47#   ex., Inner23'\n",
      "  origin_time: '                         112#  ex., 1.5'\n",
      "  taxon_label: '                         47#   ex., Inner23'\n",
      "num cols: 14\n",
      "num cols all na: 0\n",
      "num cols any na: 0\n",
      "num na: 0\n",
      "num rows: 843\n",
      "num rows all na: 0\n",
      "num rows any na: 0\n",
      "size: 507K\n",
      "\n",
      "a=reconstructed_phylogenies+source=nk_lexicaseselection_seed110_pop165_mut.01_snapshot_500.csv.gz\n"
     ]
    }
   ],
   "source": [
    "reconstructed_df = pd.read_csv(\n",
    "    f'{reconstructed_phylogeny_url}?raw=true',\n",
    "    compression='gzip',\n",
    ")\n",
    "reconstructed_df['taxon_label'] = reconstructed_df['name']\n",
    "reconstructed_df['Instance'] = reconstructed_df.apply(\n",
    "    lambda row: row['Treatment'] + row['Algorithm'],\n",
    "    axis=1,\n",
    ")\n",
    "\n",
    "nbm.print_dataframe_synopsis(reconstructed_df)\n",
    "\n",
    "data_filename = basename(reconstructed_phylogeny_url)\n",
    "\n",
    "print(data_filename)\n"
   ]
  },
  {
   "cell_type": "code",
   "execution_count": 12,
   "id": "070efa2a",
   "metadata": {
    "execution": {
     "iopub.execute_input": "2023-08-13T01:34:19.553178Z",
     "iopub.status.busy": "2023-08-13T01:34:19.552725Z",
     "iopub.status.idle": "2023-08-13T01:34:19.556727Z",
     "shell.execute_reply": "2023-08-13T01:34:19.556173Z"
    },
    "papermill": {
     "duration": 0.027142,
     "end_time": "2023-08-13T01:34:19.559700",
     "exception": false,
     "start_time": "2023-08-13T01:34:19.532558",
     "status": "completed"
    },
    "tags": []
   },
   "outputs": [],
   "source": [
    "endomill.add_instance_outpath(\n",
    "    f'a=reconstructed_phylogeny_evaluation+source={kn.unpack(data_filename)[\"source\"]}.endomill.ipynb',\n",
    ")\n"
   ]
  },
  {
   "cell_type": "code",
   "execution_count": 13,
   "id": "ed3e7486",
   "metadata": {
    "execution": {
     "iopub.execute_input": "2023-08-13T01:34:19.598174Z",
     "iopub.status.busy": "2023-08-13T01:34:19.597914Z",
     "iopub.status.idle": "2023-08-13T01:34:19.602298Z",
     "shell.execute_reply": "2023-08-13T01:34:19.601770Z"
    },
    "papermill": {
     "duration": 0.026155,
     "end_time": "2023-08-13T01:34:19.604218",
     "exception": false,
     "start_time": "2023-08-13T01:34:19.578063",
     "status": "completed"
    },
    "tags": []
   },
   "outputs": [],
   "source": [
    "def sort_tree(tree):\n",
    "    # sort clades for consistent display\n",
    "    for node in tree.find_clades(order='postorder'):\n",
    "        if node.clades:\n",
    "            node.max_descendant = max(child.max_descendant for child in node.clades)\n",
    "        else:\n",
    "            node.max_descendant = int(node.name)\n",
    "        node.clades.sort(key=lambda node: node.max_descendant)\n"
   ]
  },
  {
   "cell_type": "code",
   "execution_count": 14,
   "id": "448e7d80",
   "metadata": {
    "execution": {
     "iopub.execute_input": "2023-08-13T01:34:19.644271Z",
     "iopub.status.busy": "2023-08-13T01:34:19.643882Z",
     "iopub.status.idle": "2023-08-13T01:34:19.649985Z",
     "shell.execute_reply": "2023-08-13T01:34:19.649117Z"
    },
    "papermill": {
     "duration": 0.027752,
     "end_time": "2023-08-13T01:34:19.651680",
     "exception": false,
     "start_time": "2023-08-13T01:34:19.623928",
     "status": "completed"
    },
    "tags": []
   },
   "outputs": [],
   "source": [
    "taxon_rename_dict = {\n",
    "    str(taxon): np.base_repr(i, 36).lower()\n",
    "    for i, taxon\n",
    "    in enumerate(sorted(reconstructed_df['name'].unique()))\n",
    "    if 'Inner' not in taxon\n",
    "}\n"
   ]
  },
  {
   "cell_type": "code",
   "execution_count": 15,
   "id": "d797fa41",
   "metadata": {
    "execution": {
     "iopub.execute_input": "2023-08-13T01:34:19.690707Z",
     "iopub.status.busy": "2023-08-13T01:34:19.690317Z",
     "iopub.status.idle": "2023-08-13T01:34:21.514227Z",
     "shell.execute_reply": "2023-08-13T01:34:21.513565Z"
    },
    "papermill": {
     "duration": 1.845722,
     "end_time": "2023-08-13T01:34:21.515868",
     "exception": false,
     "start_time": "2023-08-13T01:34:19.670146",
     "status": "completed"
    },
    "tags": []
   },
   "outputs": [
    {
     "name": "stdout",
     "output_type": "stream",
     "text": [
      "teeplots/a=true_phylogeny+source=a%reconstructed_phylogenies~source%nk_lexicaseselection_seed110_pop165_mut.01_snapshot_500.csv.gz+viz=truncate-phylo+ext=.pdf\n"
     ]
    },
    {
     "name": "stdout",
     "output_type": "stream",
     "text": [
      "teeplots/a=true_phylogeny+source=a%reconstructed_phylogenies~source%nk_lexicaseselection_seed110_pop165_mut.01_snapshot_500.csv.gz+viz=truncate-phylo+ext=.png\n"
     ]
    },
    {
     "data": {
      "image/png": "[encoded data removed]",
      "text/plain": [
       "<Figure size 432x288 with 1 Axes>"
      ]
     },
     "metadata": {
      "needs_background": "light"
     },
     "output_type": "display_data"
    }
   ],
   "source": [
    "actual_tree = apc.alife_dataframe_to_biopython_tree(\n",
    "    original_df,\n",
    "    setup_branch_lengths=True,\n",
    ")\n",
    "for inner_node in actual_tree.get_nonterminals():\n",
    "    inner_node.name = None\n",
    "sort_tree(actual_tree)\n",
    "\n",
    "\n",
    "def truncate_phylo(*args, **kwargs):\n",
    "    Phylo.draw(*args, **kwargs)\n",
    "    if 'sharingselection' in reconstructed_phylogeny_url:\n",
    "        plt.gca().set_xlim(4920, 5020)\n",
    "        plt.gcf().set_size_inches(3, 15)\n",
    "\n",
    "tp.tee(\n",
    "    truncate_phylo,\n",
    "    actual_tree,\n",
    "    label_func=lambda node: opyt.apply_if(node.name, lambda x: taxon_rename_dict[str(x)]),\n",
    "    do_show=False,\n",
    "    teeplot_outattrs={\n",
    "        'a' : 'true_phylogeny',\n",
    "        'source' : kn.demote(data_filename),\n",
    "    },\n",
    ")\n"
   ]
  },
  {
   "cell_type": "code",
   "execution_count": 16,
   "id": "6ceefa59",
   "metadata": {
    "execution": {
     "iopub.execute_input": "2023-08-13T01:34:21.558163Z",
     "iopub.status.busy": "2023-08-13T01:34:21.557781Z",
     "iopub.status.idle": "2023-08-13T01:34:46.139536Z",
     "shell.execute_reply": "2023-08-13T01:34:46.138842Z"
    },
    "papermill": {
     "duration": 24.60558,
     "end_time": "2023-08-13T01:34:46.141783",
     "exception": false,
     "start_time": "2023-08-13T01:34:21.536203",
     "status": "completed"
    },
    "tags": []
   },
   "outputs": [
    {
     "name": "stdout",
     "output_type": "stream",
     "text": [
      "teeplots/source=a%reconstructed_phylogenies~source%nk_lexicaseselection_seed110_pop165_mut.01_snapshot_500.csv.gz+treatment=differentia%1~policy%RecencyProportionalResolution~target%4096+viz=truncate-phylo-bounds+ext=.pdf\n"
     ]
    },
    {
     "name": "stdout",
     "output_type": "stream",
     "text": [
      "teeplots/source=a%reconstructed_phylogenies~source%nk_lexicaseselection_seed110_pop165_mut.01_snapshot_500.csv.gz+treatment=differentia%1~policy%RecencyProportionalResolution~target%4096+viz=truncate-phylo-bounds+ext=.png\n"
     ]
    },
    {
     "name": "stdout",
     "output_type": "stream",
     "text": [
      "teeplots/source=a%reconstructed_phylogenies~source%nk_lexicaseselection_seed110_pop165_mut.01_snapshot_500.csv.gz+treatment=differentia%1~policy%RecencyProportionalResolution~target%512+viz=truncate-phylo-bounds+ext=.pdf\n"
     ]
    },
    {
     "name": "stdout",
     "output_type": "stream",
     "text": [
      "teeplots/source=a%reconstructed_phylogenies~source%nk_lexicaseselection_seed110_pop165_mut.01_snapshot_500.csv.gz+treatment=differentia%1~policy%RecencyProportionalResolution~target%512+viz=truncate-phylo-bounds+ext=.png\n"
     ]
    },
    {
     "name": "stdout",
     "output_type": "stream",
     "text": [
      "teeplots/source=a%reconstructed_phylogenies~source%nk_lexicaseselection_seed110_pop165_mut.01_snapshot_500.csv.gz+treatment=differentia%1~policy%RecencyProportionalResolution~target%64+viz=truncate-phylo-bounds+ext=.pdf\n"
     ]
    },
    {
     "name": "stdout",
     "output_type": "stream",
     "text": [
      "teeplots/source=a%reconstructed_phylogenies~source%nk_lexicaseselection_seed110_pop165_mut.01_snapshot_500.csv.gz+treatment=differentia%1~policy%RecencyProportionalResolution~target%64+viz=truncate-phylo-bounds+ext=.png\n"
     ]
    },
    {
     "name": "stdout",
     "output_type": "stream",
     "text": [
      "teeplots/source=a%reconstructed_phylogenies~source%nk_lexicaseselection_seed110_pop165_mut.01_snapshot_500.csv.gz+treatment=differentia%1~policy%TaperedDepthProportionalResolution~target%4096+viz=truncate-phylo-bounds+ext=.pdf\n"
     ]
    },
    {
     "name": "stdout",
     "output_type": "stream",
     "text": [
      "teeplots/source=a%reconstructed_phylogenies~source%nk_lexicaseselection_seed110_pop165_mut.01_snapshot_500.csv.gz+treatment=differentia%1~policy%TaperedDepthProportionalResolution~target%4096+viz=truncate-phylo-bounds+ext=.png\n"
     ]
    },
    {
     "name": "stdout",
     "output_type": "stream",
     "text": [
      "teeplots/source=a%reconstructed_phylogenies~source%nk_lexicaseselection_seed110_pop165_mut.01_snapshot_500.csv.gz+treatment=differentia%1~policy%TaperedDepthProportionalResolution~target%512+viz=truncate-phylo-bounds+ext=.pdf\n"
     ]
    },
    {
     "name": "stdout",
     "output_type": "stream",
     "text": [
      "teeplots/source=a%reconstructed_phylogenies~source%nk_lexicaseselection_seed110_pop165_mut.01_snapshot_500.csv.gz+treatment=differentia%1~policy%TaperedDepthProportionalResolution~target%512+viz=truncate-phylo-bounds+ext=.png\n"
     ]
    },
    {
     "name": "stdout",
     "output_type": "stream",
     "text": [
      "teeplots/source=a%reconstructed_phylogenies~source%nk_lexicaseselection_seed110_pop165_mut.01_snapshot_500.csv.gz+treatment=differentia%1~policy%TaperedDepthProportionalResolution~target%64+viz=truncate-phylo-bounds+ext=.pdf\n"
     ]
    },
    {
     "name": "stdout",
     "output_type": "stream",
     "text": [
      "teeplots/source=a%reconstructed_phylogenies~source%nk_lexicaseselection_seed110_pop165_mut.01_snapshot_500.csv.gz+treatment=differentia%1~policy%TaperedDepthProportionalResolution~target%64+viz=truncate-phylo-bounds+ext=.png\n"
     ]
    },
    {
     "name": "stdout",
     "output_type": "stream",
     "text": [
      "teeplots/source=a%reconstructed_phylogenies~source%nk_lexicaseselection_seed110_pop165_mut.01_snapshot_500.csv.gz+treatment=differentia%64~policy%RecencyProportionalResolution~target%4096+viz=truncate-phylo-bounds+ext=.pdf\n"
     ]
    },
    {
     "name": "stdout",
     "output_type": "stream",
     "text": [
      "teeplots/source=a%reconstructed_phylogenies~source%nk_lexicaseselection_seed110_pop165_mut.01_snapshot_500.csv.gz+treatment=differentia%64~policy%RecencyProportionalResolution~target%4096+viz=truncate-phylo-bounds+ext=.png\n"
     ]
    },
    {
     "name": "stdout",
     "output_type": "stream",
     "text": [
      "teeplots/source=a%reconstructed_phylogenies~source%nk_lexicaseselection_seed110_pop165_mut.01_snapshot_500.csv.gz+treatment=differentia%64~policy%RecencyProportionalResolution~target%512+viz=truncate-phylo-bounds+ext=.pdf\n"
     ]
    },
    {
     "name": "stdout",
     "output_type": "stream",
     "text": [
      "teeplots/source=a%reconstructed_phylogenies~source%nk_lexicaseselection_seed110_pop165_mut.01_snapshot_500.csv.gz+treatment=differentia%64~policy%RecencyProportionalResolution~target%512+viz=truncate-phylo-bounds+ext=.png\n"
     ]
    },
    {
     "name": "stdout",
     "output_type": "stream",
     "text": [
      "teeplots/source=a%reconstructed_phylogenies~source%nk_lexicaseselection_seed110_pop165_mut.01_snapshot_500.csv.gz+treatment=differentia%64~policy%RecencyProportionalResolution~target%64+viz=truncate-phylo-bounds+ext=.pdf\n"
     ]
    },
    {
     "name": "stdout",
     "output_type": "stream",
     "text": [
      "teeplots/source=a%reconstructed_phylogenies~source%nk_lexicaseselection_seed110_pop165_mut.01_snapshot_500.csv.gz+treatment=differentia%64~policy%RecencyProportionalResolution~target%64+viz=truncate-phylo-bounds+ext=.png\n"
     ]
    },
    {
     "name": "stdout",
     "output_type": "stream",
     "text": [
      "teeplots/source=a%reconstructed_phylogenies~source%nk_lexicaseselection_seed110_pop165_mut.01_snapshot_500.csv.gz+treatment=differentia%64~policy%TaperedDepthProportionalResolution~target%4096+viz=truncate-phylo-bounds+ext=.pdf\n"
     ]
    },
    {
     "name": "stdout",
     "output_type": "stream",
     "text": [
      "teeplots/source=a%reconstructed_phylogenies~source%nk_lexicaseselection_seed110_pop165_mut.01_snapshot_500.csv.gz+treatment=differentia%64~policy%TaperedDepthProportionalResolution~target%4096+viz=truncate-phylo-bounds+ext=.png\n"
     ]
    },
    {
     "name": "stdout",
     "output_type": "stream",
     "text": [
      "teeplots/source=a%reconstructed_phylogenies~source%nk_lexicaseselection_seed110_pop165_mut.01_snapshot_500.csv.gz+treatment=differentia%64~policy%TaperedDepthProportionalResolution~target%512+viz=truncate-phylo-bounds+ext=.pdf\n"
     ]
    },
    {
     "name": "stdout",
     "output_type": "stream",
     "text": [
      "teeplots/source=a%reconstructed_phylogenies~source%nk_lexicaseselection_seed110_pop165_mut.01_snapshot_500.csv.gz+treatment=differentia%64~policy%TaperedDepthProportionalResolution~target%512+viz=truncate-phylo-bounds+ext=.png\n"
     ]
    },
    {
     "name": "stdout",
     "output_type": "stream",
     "text": [
      "teeplots/source=a%reconstructed_phylogenies~source%nk_lexicaseselection_seed110_pop165_mut.01_snapshot_500.csv.gz+treatment=differentia%64~policy%TaperedDepthProportionalResolution~target%64+viz=truncate-phylo-bounds+ext=.pdf\n"
     ]
    },
    {
     "name": "stdout",
     "output_type": "stream",
     "text": [
      "teeplots/source=a%reconstructed_phylogenies~source%nk_lexicaseselection_seed110_pop165_mut.01_snapshot_500.csv.gz+treatment=differentia%64~policy%TaperedDepthProportionalResolution~target%64+viz=truncate-phylo-bounds+ext=.png\n"
     ]
    },
    {
     "name": "stdout",
     "output_type": "stream",
     "text": [
      "teeplots/source=a%reconstructed_phylogenies~source%nk_lexicaseselection_seed110_pop165_mut.01_snapshot_500.csv.gz+treatment=differentia%8~policy%RecencyProportionalResolution~target%4096+viz=truncate-phylo-bounds+ext=.pdf\n"
     ]
    },
    {
     "name": "stdout",
     "output_type": "stream",
     "text": [
      "teeplots/source=a%reconstructed_phylogenies~source%nk_lexicaseselection_seed110_pop165_mut.01_snapshot_500.csv.gz+treatment=differentia%8~policy%RecencyProportionalResolution~target%4096+viz=truncate-phylo-bounds+ext=.png\n"
     ]
    },
    {
     "name": "stdout",
     "output_type": "stream",
     "text": [
      "teeplots/source=a%reconstructed_phylogenies~source%nk_lexicaseselection_seed110_pop165_mut.01_snapshot_500.csv.gz+treatment=differentia%8~policy%RecencyProportionalResolution~target%512+viz=truncate-phylo-bounds+ext=.pdf\n"
     ]
    },
    {
     "name": "stdout",
     "output_type": "stream",
     "text": [
      "teeplots/source=a%reconstructed_phylogenies~source%nk_lexicaseselection_seed110_pop165_mut.01_snapshot_500.csv.gz+treatment=differentia%8~policy%RecencyProportionalResolution~target%512+viz=truncate-phylo-bounds+ext=.png\n"
     ]
    },
    {
     "name": "stdout",
     "output_type": "stream",
     "text": [
      "teeplots/source=a%reconstructed_phylogenies~source%nk_lexicaseselection_seed110_pop165_mut.01_snapshot_500.csv.gz+treatment=differentia%8~policy%RecencyProportionalResolution~target%64+viz=truncate-phylo-bounds+ext=.pdf\n"
     ]
    },
    {
     "name": "stdout",
     "output_type": "stream",
     "text": [
      "teeplots/source=a%reconstructed_phylogenies~source%nk_lexicaseselection_seed110_pop165_mut.01_snapshot_500.csv.gz+treatment=differentia%8~policy%RecencyProportionalResolution~target%64+viz=truncate-phylo-bounds+ext=.png\n"
     ]
    },
    {
     "name": "stdout",
     "output_type": "stream",
     "text": [
      "teeplots/source=a%reconstructed_phylogenies~source%nk_lexicaseselection_seed110_pop165_mut.01_snapshot_500.csv.gz+treatment=differentia%8~policy%TaperedDepthProportionalResolution~target%4096+viz=truncate-phylo-bounds+ext=.pdf\n"
     ]
    },
    {
     "name": "stdout",
     "output_type": "stream",
     "text": [
      "teeplots/source=a%reconstructed_phylogenies~source%nk_lexicaseselection_seed110_pop165_mut.01_snapshot_500.csv.gz+treatment=differentia%8~policy%TaperedDepthProportionalResolution~target%4096+viz=truncate-phylo-bounds+ext=.png\n"
     ]
    },
    {
     "name": "stdout",
     "output_type": "stream",
     "text": [
      "teeplots/source=a%reconstructed_phylogenies~source%nk_lexicaseselection_seed110_pop165_mut.01_snapshot_500.csv.gz+treatment=differentia%8~policy%TaperedDepthProportionalResolution~target%512+viz=truncate-phylo-bounds+ext=.pdf\n"
     ]
    },
    {
     "name": "stdout",
     "output_type": "stream",
     "text": [
      "teeplots/source=a%reconstructed_phylogenies~source%nk_lexicaseselection_seed110_pop165_mut.01_snapshot_500.csv.gz+treatment=differentia%8~policy%TaperedDepthProportionalResolution~target%512+viz=truncate-phylo-bounds+ext=.png\n"
     ]
    },
    {
     "name": "stdout",
     "output_type": "stream",
     "text": [
      "teeplots/source=a%reconstructed_phylogenies~source%nk_lexicaseselection_seed110_pop165_mut.01_snapshot_500.csv.gz+treatment=differentia%8~policy%TaperedDepthProportionalResolution~target%64+viz=truncate-phylo-bounds+ext=.pdf\n"
     ]
    },
    {
     "name": "stdout",
     "output_type": "stream",
     "text": [
      "teeplots/source=a%reconstructed_phylogenies~source%nk_lexicaseselection_seed110_pop165_mut.01_snapshot_500.csv.gz+treatment=differentia%8~policy%TaperedDepthProportionalResolution~target%64+viz=truncate-phylo-bounds+ext=.png\n"
     ]
    },
    {
     "data": {
      "image/png": "[encoded data removed]",
      "text/plain": [
       "<Figure size 432x288 with 1 Axes>"
      ]
     },
     "metadata": {
      "needs_background": "light"
     },
     "output_type": "display_data"
    },
    {
     "data": {
      "image/png": "[encoded data removed]",
      "text/plain": [
       "<Figure size 432x288 with 1 Axes>"
      ]
     },
     "metadata": {
      "needs_background": "light"
     },
     "output_type": "display_data"
    },
    {
     "data": {
      "image/png": "[encoded data removed]",
      "text/plain": [
       "<Figure size 432x288 with 1 Axes>"
      ]
     },
     "metadata": {
      "needs_background": "light"
     },
     "output_type": "display_data"
    },
    {
     "data": {
      "image/png": "[encoded data removed]",
      "text/plain": [
       "<Figure size 432x288 with 1 Axes>"
      ]
     },
     "metadata": {
      "needs_background": "light"
     },
     "output_type": "display_data"
    },
    {
     "data": {
      "image/png": "[encoded data removed]",
      "text/plain": [
       "<Figure size 432x288 with 1 Axes>"
      ]
     },
     "metadata": {
      "needs_background": "light"
     },
     "output_type": "display_data"
    },
    {
     "data": {
      "image/png": "[encoded data removed]",
      "text/plain": [
       "<Figure size 432x288 with 1 Axes>"
      ]
     },
     "metadata": {
      "needs_background": "light"
     },
     "output_type": "display_data"
    },
    {
     "data": {
      "image/png": "[encoded data removed]",
      "text/plain": [
       "<Figure size 432x288 with 1 Axes>"
      ]
     },
     "metadata": {
      "needs_background": "light"
     },
     "output_type": "display_data"
    },
    {
     "data": {
      "image/png": "[encoded data removed]",
      "text/plain": [
       "<Figure size 432x288 with 1 Axes>"
      ]
     },
     "metadata": {
      "needs_background": "light"
     },
     "output_type": "display_data"
    },
    {
     "data": {
      "image/png": "[encoded data removed]",
      "text/plain": [
       "<Figure size 432x288 with 1 Axes>"
      ]
     },
     "metadata": {
      "needs_background": "light"
     },
     "output_type": "display_data"
    },
    {
     "data": {
      "image/png": "[encoded data removed]",
      "text/plain": [
       "<Figure size 432x288 with 1 Axes>"
      ]
     },
     "metadata": {
      "needs_background": "light"
     },
     "output_type": "display_data"
    },
    {
     "data": {
      "image/png": "[encoded data removed]",
      "text/plain": [
       "<Figure size 432x288 with 1 Axes>"
      ]
     },
     "metadata": {
      "needs_background": "light"
     },
     "output_type": "display_data"
    },
    {
     "data": {
      "image/png": "[encoded data removed]",
      "text/plain": [
       "<Figure size 432x288 with 1 Axes>"
      ]
     },
     "metadata": {
      "needs_background": "light"
     },
     "output_type": "display_data"
    },
    {
     "data": {
      "image/png": "[encoded data removed]",
      "text/plain": [
       "<Figure size 432x288 with 1 Axes>"
      ]
     },
     "metadata": {
      "needs_background": "light"
     },
     "output_type": "display_data"
    },
    {
     "data": {
      "image/png": "[encoded data removed]",
      "text/plain": [
       "<Figure size 432x288 with 1 Axes>"
      ]
     },
     "metadata": {
      "needs_background": "light"
     },
     "output_type": "display_data"
    },
    {
     "data": {
      "image/png": "[encoded data removed]",
      "text/plain": [
       "<Figure size 432x288 with 1 Axes>"
      ]
     },
     "metadata": {
      "needs_background": "light"
     },
     "output_type": "display_data"
    },
    {
     "data": {
      "image/png": "[encoded data removed]",
      "text/plain": [
       "<Figure size 432x288 with 1 Axes>"
      ]
     },
     "metadata": {
      "needs_background": "light"
     },
     "output_type": "display_data"
    },
    {
     "data": {
      "image/png": "[encoded data removed]",
      "text/plain": [
       "<Figure size 432x288 with 1 Axes>"
      ]
     },
     "metadata": {
      "needs_background": "light"
     },
     "output_type": "display_data"
    },
    {
     "data": {
      "image/png": "[encoded data removed]",
      "text/plain": [
       "<Figure size 432x288 with 1 Axes>"
      ]
     },
     "metadata": {
      "needs_background": "light"
     },
     "output_type": "display_data"
    }
   ],
   "source": [
    "def truncate_phylo_bounds(*args, **kwargs):\n",
    "    draw_biopython_tree_with_origin_time_bounds(*args, **kwargs)\n",
    "    if 'sharingselection' in reconstructed_phylogeny_url:\n",
    "        plt.gca().set_xlim(4920, 5020)\n",
    "        plt.gcf().set_size_inches(3, 15)\n",
    "\n",
    "\n",
    "for instance, group in reconstructed_df.groupby('Instance'):\n",
    "    assert not any(group['branch_length'].isnull())\n",
    "    tree = apc.alife_dataframe_to_biopython_tree(\n",
    "        group,\n",
    "        # don't need to pass setup_edge_lengths=True\n",
    "        # because they're provided directly\n",
    "        # as a column in the dataframe\n",
    "        setattrs={\n",
    "            'Origin Time Lower Bound (Inclusive)': 'origin_time_lb',\n",
    "            'Origin Time Upper Bound (Exclusive)': 'origin_time_ub',\n",
    "        },\n",
    "    )\n",
    "    sort_tree(tree)\n",
    "    tp.tee(\n",
    "        truncate_phylo_bounds,\n",
    "        tree,\n",
    "        label_func=lambda node: opyt.apply_if(\n",
    "            node.name, lambda x: taxon_rename_dict[str(x)]\n",
    "        )\n",
    "        if \"Inner\" not in node.name\n",
    "        else None,\n",
    "        do_show=False,\n",
    "        teeplot_outattrs={\n",
    "            'treatment': kn.demote(ip.popsingleton(group['Treatment'].unique())),\n",
    "            'source' : kn.demote(data_filename),\n",
    "        },\n",
    "    )\n"
   ]
  },
  {
   "cell_type": "code",
   "execution_count": 17,
   "id": "880f4d3d",
   "metadata": {
    "execution": {
     "iopub.execute_input": "2023-08-13T01:34:46.235214Z",
     "iopub.status.busy": "2023-08-13T01:34:46.234911Z",
     "iopub.status.idle": "2023-08-13T01:34:46.874961Z",
     "shell.execute_reply": "2023-08-13T01:34:46.874207Z"
    },
    "papermill": {
     "duration": 0.690169,
     "end_time": "2023-08-13T01:34:46.878009",
     "exception": false,
     "start_time": "2023-08-13T01:34:46.187840",
     "status": "completed"
    },
    "tags": []
   },
   "outputs": [],
   "source": [
    "actual_tree = apc.alife_dataframe_to_dendropy_tree(original_df)\n",
    "for inner_node in actual_tree.internal_nodes():\n",
    "    inner_node.taxon = None\n",
    "\n",
    "records = []\n",
    "for instance, group in reconstructed_df.groupby('Instance'):\n",
    "    group['edge_length'] = group['branch_length']\n",
    "    assert not any(group['edge_length'].isnull())\n",
    "    tree = apc.alife_dataframe_to_dendropy_tree(\n",
    "        group,\n",
    "        # don't need to pass setup_edge_lengths=True\n",
    "        # because they're provided directly\n",
    "        # as a column in the dataframe\n",
    "    )\n",
    "    tree.migrate_taxon_namespace(actual_tree.taxon_namespace)\n",
    "    unweighted_robinson_foulds = dendropy.calculate.treecompare.unweighted_robinson_foulds_distance(\n",
    "        actual_tree,\n",
    "        tree,\n",
    "    )\n",
    "    weighted_robinson_foulds = dendropy.calculate.treecompare.weighted_robinson_foulds_distance(\n",
    "        actual_tree,\n",
    "        tree,\n",
    "    )\n",
    "    euclidean = dendropy.calculate.treecompare.euclidean_distance(\n",
    "        actual_tree,\n",
    "        tree,\n",
    "    )\n",
    "\n",
    "    records.append({\n",
    "        **{\n",
    "            'Instance': 'Instance',\n",
    "            'Algorithm': ip.popsingleton(group['Algorithm'].unique()),\n",
    "            'Treatment': ip.popsingleton(group['Treatment'].unique()),\n",
    "            'Unweighted Robinson Foulds Distance Error': unweighted_robinson_foulds,\n",
    "            'Weighted Robinson Foulds Distance Error': weighted_robinson_foulds,\n",
    "            'Euclidean Distance Error': euclidean,\n",
    "        },\n",
    "        **kn.unpack(ip.popsingleton(group['Treatment'].unique())),\n",
    "    })\n",
    "\n",
    "\n",
    "res_df = pd.DataFrame.from_records(records)\n"
   ]
  },
  {
   "cell_type": "code",
   "execution_count": 18,
   "id": "84755fd3",
   "metadata": {
    "execution": {
     "iopub.execute_input": "2023-08-13T01:34:46.970097Z",
     "iopub.status.busy": "2023-08-13T01:34:46.969735Z",
     "iopub.status.idle": "2023-08-13T01:34:46.989362Z",
     "shell.execute_reply": "2023-08-13T01:34:46.988839Z"
    },
    "papermill": {
     "duration": 0.068011,
     "end_time": "2023-08-13T01:34:46.991081",
     "exception": false,
     "start_time": "2023-08-13T01:34:46.923070",
     "status": "completed"
    },
    "tags": []
   },
   "outputs": [
    {
     "data": {
      "text/html": [
       "<div>\n",
       "<style scoped>\n",
       "    .dataframe tbody tr th:only-of-type {\n",
       "        vertical-align: middle;\n",
       "    }\n",
       "\n",
       "    .dataframe tbody tr th {\n",
       "        vertical-align: top;\n",
       "    }\n",
       "\n",
       "    .dataframe thead th {\n",
       "        text-align: right;\n",
       "    }\n",
       "</style>\n",
       "<table border=\"1\" class=\"dataframe\">\n",
       "  <thead>\n",
       "    <tr style=\"text-align: right;\">\n",
       "      <th></th>\n",
       "      <th>Instance</th>\n",
       "      <th>Algorithm</th>\n",
       "      <th>Treatment</th>\n",
       "      <th>Unweighted Robinson Foulds Distance Error</th>\n",
       "      <th>Weighted Robinson Foulds Distance Error</th>\n",
       "      <th>Euclidean Distance Error</th>\n",
       "      <th>differentia</th>\n",
       "      <th>policy</th>\n",
       "      <th>target</th>\n",
       "      <th>_</th>\n",
       "    </tr>\n",
       "  </thead>\n",
       "  <tbody>\n",
       "    <tr>\n",
       "      <th>0</th>\n",
       "      <td>Instance</td>\n",
       "      <td>&lt;function upgma at 0x7f53f4084ca0&gt;</td>\n",
       "      <td>differentia=1+policy=RecencyProportionalResolu...</td>\n",
       "      <td>4</td>\n",
       "      <td>2944.5</td>\n",
       "      <td>785.999523</td>\n",
       "      <td>1</td>\n",
       "      <td>RecencyProportionalResolution</td>\n",
       "      <td>4096</td>\n",
       "      <td>differentia=1+policy=RecencyProportionalResolu...</td>\n",
       "    </tr>\n",
       "    <tr>\n",
       "      <th>1</th>\n",
       "      <td>Instance</td>\n",
       "      <td>&lt;function upgma at 0x7f53f4084ca0&gt;</td>\n",
       "      <td>differentia=1+policy=RecencyProportionalResolu...</td>\n",
       "      <td>2</td>\n",
       "      <td>2923.5</td>\n",
       "      <td>785.393054</td>\n",
       "      <td>1</td>\n",
       "      <td>RecencyProportionalResolution</td>\n",
       "      <td>512</td>\n",
       "      <td>differentia=1+policy=RecencyProportionalResolu...</td>\n",
       "    </tr>\n",
       "    <tr>\n",
       "      <th>2</th>\n",
       "      <td>Instance</td>\n",
       "      <td>&lt;function upgma at 0x7f53f4084ca0&gt;</td>\n",
       "      <td>differentia=1+policy=RecencyProportionalResolu...</td>\n",
       "      <td>8</td>\n",
       "      <td>2844.0</td>\n",
       "      <td>737.027815</td>\n",
       "      <td>1</td>\n",
       "      <td>RecencyProportionalResolution</td>\n",
       "      <td>64</td>\n",
       "      <td>differentia=1+policy=RecencyProportionalResolu...</td>\n",
       "    </tr>\n",
       "    <tr>\n",
       "      <th>3</th>\n",
       "      <td>Instance</td>\n",
       "      <td>&lt;function upgma at 0x7f53f4084ca0&gt;</td>\n",
       "      <td>differentia=1+policy=TaperedDepthProportionalR...</td>\n",
       "      <td>4</td>\n",
       "      <td>2931.5</td>\n",
       "      <td>786.644933</td>\n",
       "      <td>1</td>\n",
       "      <td>TaperedDepthProportionalResolution</td>\n",
       "      <td>4096</td>\n",
       "      <td>differentia=1+policy=TaperedDepthProportionalR...</td>\n",
       "    </tr>\n",
       "    <tr>\n",
       "      <th>4</th>\n",
       "      <td>Instance</td>\n",
       "      <td>&lt;function upgma at 0x7f53f4084ca0&gt;</td>\n",
       "      <td>differentia=1+policy=TaperedDepthProportionalR...</td>\n",
       "      <td>4</td>\n",
       "      <td>2941.5</td>\n",
       "      <td>781.508957</td>\n",
       "      <td>1</td>\n",
       "      <td>TaperedDepthProportionalResolution</td>\n",
       "      <td>512</td>\n",
       "      <td>differentia=1+policy=TaperedDepthProportionalR...</td>\n",
       "    </tr>\n",
       "    <tr>\n",
       "      <th>5</th>\n",
       "      <td>Instance</td>\n",
       "      <td>&lt;function upgma at 0x7f53f4084ca0&gt;</td>\n",
       "      <td>differentia=1+policy=TaperedDepthProportionalR...</td>\n",
       "      <td>10</td>\n",
       "      <td>3026.0</td>\n",
       "      <td>774.294840</td>\n",
       "      <td>1</td>\n",
       "      <td>TaperedDepthProportionalResolution</td>\n",
       "      <td>64</td>\n",
       "      <td>differentia=1+policy=TaperedDepthProportionalR...</td>\n",
       "    </tr>\n",
       "    <tr>\n",
       "      <th>6</th>\n",
       "      <td>Instance</td>\n",
       "      <td>&lt;function upgma at 0x7f53f4084ca0&gt;</td>\n",
       "      <td>differentia=64+policy=RecencyProportionalResol...</td>\n",
       "      <td>6</td>\n",
       "      <td>2891.5</td>\n",
       "      <td>780.971991</td>\n",
       "      <td>64</td>\n",
       "      <td>RecencyProportionalResolution</td>\n",
       "      <td>4096</td>\n",
       "      <td>differentia=64+policy=RecencyProportionalResol...</td>\n",
       "    </tr>\n",
       "    <tr>\n",
       "      <th>7</th>\n",
       "      <td>Instance</td>\n",
       "      <td>&lt;function upgma at 0x7f53f4084ca0&gt;</td>\n",
       "      <td>differentia=64+policy=RecencyProportionalResol...</td>\n",
       "      <td>10</td>\n",
       "      <td>2714.0</td>\n",
       "      <td>648.849751</td>\n",
       "      <td>64</td>\n",
       "      <td>RecencyProportionalResolution</td>\n",
       "      <td>512</td>\n",
       "      <td>differentia=64+policy=RecencyProportionalResol...</td>\n",
       "    </tr>\n",
       "    <tr>\n",
       "      <th>8</th>\n",
       "      <td>Instance</td>\n",
       "      <td>&lt;function upgma at 0x7f53f4084ca0&gt;</td>\n",
       "      <td>differentia=64+policy=RecencyProportionalResol...</td>\n",
       "      <td>10</td>\n",
       "      <td>2714.0</td>\n",
       "      <td>648.849751</td>\n",
       "      <td>64</td>\n",
       "      <td>RecencyProportionalResolution</td>\n",
       "      <td>64</td>\n",
       "      <td>differentia=64+policy=RecencyProportionalResol...</td>\n",
       "    </tr>\n",
       "    <tr>\n",
       "      <th>9</th>\n",
       "      <td>Instance</td>\n",
       "      <td>&lt;function upgma at 0x7f53f4084ca0&gt;</td>\n",
       "      <td>differentia=64+policy=TaperedDepthProportional...</td>\n",
       "      <td>6</td>\n",
       "      <td>2906.0</td>\n",
       "      <td>784.088005</td>\n",
       "      <td>64</td>\n",
       "      <td>TaperedDepthProportionalResolution</td>\n",
       "      <td>4096</td>\n",
       "      <td>differentia=64+policy=TaperedDepthProportional...</td>\n",
       "    </tr>\n",
       "    <tr>\n",
       "      <th>10</th>\n",
       "      <td>Instance</td>\n",
       "      <td>&lt;function upgma at 0x7f53f4084ca0&gt;</td>\n",
       "      <td>differentia=64+policy=TaperedDepthProportional...</td>\n",
       "      <td>18</td>\n",
       "      <td>2861.5</td>\n",
       "      <td>747.823007</td>\n",
       "      <td>64</td>\n",
       "      <td>TaperedDepthProportionalResolution</td>\n",
       "      <td>512</td>\n",
       "      <td>differentia=64+policy=TaperedDepthProportional...</td>\n",
       "    </tr>\n",
       "    <tr>\n",
       "      <th>11</th>\n",
       "      <td>Instance</td>\n",
       "      <td>&lt;function upgma at 0x7f53f4084ca0&gt;</td>\n",
       "      <td>differentia=64+policy=TaperedDepthProportional...</td>\n",
       "      <td>30</td>\n",
       "      <td>4113.5</td>\n",
       "      <td>795.857242</td>\n",
       "      <td>64</td>\n",
       "      <td>TaperedDepthProportionalResolution</td>\n",
       "      <td>64</td>\n",
       "      <td>differentia=64+policy=TaperedDepthProportional...</td>\n",
       "    </tr>\n",
       "    <tr>\n",
       "      <th>12</th>\n",
       "      <td>Instance</td>\n",
       "      <td>&lt;function upgma at 0x7f53f4084ca0&gt;</td>\n",
       "      <td>differentia=8+policy=RecencyProportionalResolu...</td>\n",
       "      <td>4</td>\n",
       "      <td>2913.0</td>\n",
       "      <td>784.162611</td>\n",
       "      <td>8</td>\n",
       "      <td>RecencyProportionalResolution</td>\n",
       "      <td>4096</td>\n",
       "      <td>differentia=8+policy=RecencyProportionalResolu...</td>\n",
       "    </tr>\n",
       "    <tr>\n",
       "      <th>13</th>\n",
       "      <td>Instance</td>\n",
       "      <td>&lt;function upgma at 0x7f53f4084ca0&gt;</td>\n",
       "      <td>differentia=8+policy=RecencyProportionalResolu...</td>\n",
       "      <td>6</td>\n",
       "      <td>2891.5</td>\n",
       "      <td>780.971991</td>\n",
       "      <td>8</td>\n",
       "      <td>RecencyProportionalResolution</td>\n",
       "      <td>512</td>\n",
       "      <td>differentia=8+policy=RecencyProportionalResolu...</td>\n",
       "    </tr>\n",
       "    <tr>\n",
       "      <th>14</th>\n",
       "      <td>Instance</td>\n",
       "      <td>&lt;function upgma at 0x7f53f4084ca0&gt;</td>\n",
       "      <td>differentia=8+policy=RecencyProportionalResolu...</td>\n",
       "      <td>10</td>\n",
       "      <td>2714.0</td>\n",
       "      <td>648.849751</td>\n",
       "      <td>8</td>\n",
       "      <td>RecencyProportionalResolution</td>\n",
       "      <td>64</td>\n",
       "      <td>differentia=8+policy=RecencyProportionalResolu...</td>\n",
       "    </tr>\n",
       "    <tr>\n",
       "      <th>15</th>\n",
       "      <td>Instance</td>\n",
       "      <td>&lt;function upgma at 0x7f53f4084ca0&gt;</td>\n",
       "      <td>differentia=8+policy=TaperedDepthProportionalR...</td>\n",
       "      <td>4</td>\n",
       "      <td>2913.0</td>\n",
       "      <td>784.162611</td>\n",
       "      <td>8</td>\n",
       "      <td>TaperedDepthProportionalResolution</td>\n",
       "      <td>4096</td>\n",
       "      <td>differentia=8+policy=TaperedDepthProportionalR...</td>\n",
       "    </tr>\n",
       "    <tr>\n",
       "      <th>16</th>\n",
       "      <td>Instance</td>\n",
       "      <td>&lt;function upgma at 0x7f53f4084ca0&gt;</td>\n",
       "      <td>differentia=8+policy=TaperedDepthProportionalR...</td>\n",
       "      <td>6</td>\n",
       "      <td>2906.0</td>\n",
       "      <td>784.088005</td>\n",
       "      <td>8</td>\n",
       "      <td>TaperedDepthProportionalResolution</td>\n",
       "      <td>512</td>\n",
       "      <td>differentia=8+policy=TaperedDepthProportionalR...</td>\n",
       "    </tr>\n",
       "    <tr>\n",
       "      <th>17</th>\n",
       "      <td>Instance</td>\n",
       "      <td>&lt;function upgma at 0x7f53f4084ca0&gt;</td>\n",
       "      <td>differentia=8+policy=TaperedDepthProportionalR...</td>\n",
       "      <td>18</td>\n",
       "      <td>2861.5</td>\n",
       "      <td>747.823007</td>\n",
       "      <td>8</td>\n",
       "      <td>TaperedDepthProportionalResolution</td>\n",
       "      <td>64</td>\n",
       "      <td>differentia=8+policy=TaperedDepthProportionalR...</td>\n",
       "    </tr>\n",
       "  </tbody>\n",
       "</table>\n",
       "</div>"
      ],
      "text/plain": [
       "    Instance                           Algorithm  \\\n",
       "0   Instance  <function upgma at 0x7f53f4084ca0>   \n",
       "1   Instance  <function upgma at 0x7f53f4084ca0>   \n",
       "2   Instance  <function upgma at 0x7f53f4084ca0>   \n",
       "3   Instance  <function upgma at 0x7f53f4084ca0>   \n",
       "4   Instance  <function upgma at 0x7f53f4084ca0>   \n",
       "5   Instance  <function upgma at 0x7f53f4084ca0>   \n",
       "6   Instance  <function upgma at 0x7f53f4084ca0>   \n",
       "7   Instance  <function upgma at 0x7f53f4084ca0>   \n",
       "8   Instance  <function upgma at 0x7f53f4084ca0>   \n",
       "9   Instance  <function upgma at 0x7f53f4084ca0>   \n",
       "10  Instance  <function upgma at 0x7f53f4084ca0>   \n",
       "11  Instance  <function upgma at 0x7f53f4084ca0>   \n",
       "12  Instance  <function upgma at 0x7f53f4084ca0>   \n",
       "13  Instance  <function upgma at 0x7f53f4084ca0>   \n",
       "14  Instance  <function upgma at 0x7f53f4084ca0>   \n",
       "15  Instance  <function upgma at 0x7f53f4084ca0>   \n",
       "16  Instance  <function upgma at 0x7f53f4084ca0>   \n",
       "17  Instance  <function upgma at 0x7f53f4084ca0>   \n",
       "\n",
       "                                            Treatment  \\\n",
       "0   differentia=1+policy=RecencyProportionalResolu...   \n",
       "1   differentia=1+policy=RecencyProportionalResolu...   \n",
       "2   differentia=1+policy=RecencyProportionalResolu...   \n",
       "3   differentia=1+policy=TaperedDepthProportionalR...   \n",
       "4   differentia=1+policy=TaperedDepthProportionalR...   \n",
       "5   differentia=1+policy=TaperedDepthProportionalR...   \n",
       "6   differentia=64+policy=RecencyProportionalResol...   \n",
       "7   differentia=64+policy=RecencyProportionalResol...   \n",
       "8   differentia=64+policy=RecencyProportionalResol...   \n",
       "9   differentia=64+policy=TaperedDepthProportional...   \n",
       "10  differentia=64+policy=TaperedDepthProportional...   \n",
       "11  differentia=64+policy=TaperedDepthProportional...   \n",
       "12  differentia=8+policy=RecencyProportionalResolu...   \n",
       "13  differentia=8+policy=RecencyProportionalResolu...   \n",
       "14  differentia=8+policy=RecencyProportionalResolu...   \n",
       "15  differentia=8+policy=TaperedDepthProportionalR...   \n",
       "16  differentia=8+policy=TaperedDepthProportionalR...   \n",
       "17  differentia=8+policy=TaperedDepthProportionalR...   \n",
       "\n",
       "    Unweighted Robinson Foulds Distance Error  \\\n",
       "0                                           4   \n",
       "1                                           2   \n",
       "2                                           8   \n",
       "3                                           4   \n",
       "4                                           4   \n",
       "5                                          10   \n",
       "6                                           6   \n",
       "7                                          10   \n",
       "8                                          10   \n",
       "9                                           6   \n",
       "10                                         18   \n",
       "11                                         30   \n",
       "12                                          4   \n",
       "13                                          6   \n",
       "14                                         10   \n",
       "15                                          4   \n",
       "16                                          6   \n",
       "17                                         18   \n",
       "\n",
       "    Weighted Robinson Foulds Distance Error  Euclidean Distance Error  \\\n",
       "0                                    2944.5                785.999523   \n",
       "1                                    2923.5                785.393054   \n",
       "2                                    2844.0                737.027815   \n",
       "3                                    2931.5                786.644933   \n",
       "4                                    2941.5                781.508957   \n",
       "5                                    3026.0                774.294840   \n",
       "6                                    2891.5                780.971991   \n",
       "7                                    2714.0                648.849751   \n",
       "8                                    2714.0                648.849751   \n",
       "9                                    2906.0                784.088005   \n",
       "10                                   2861.5                747.823007   \n",
       "11                                   4113.5                795.857242   \n",
       "12                                   2913.0                784.162611   \n",
       "13                                   2891.5                780.971991   \n",
       "14                                   2714.0                648.849751   \n",
       "15                                   2913.0                784.162611   \n",
       "16                                   2906.0                784.088005   \n",
       "17                                   2861.5                747.823007   \n",
       "\n",
       "   differentia                              policy target  \\\n",
       "0            1       RecencyProportionalResolution   4096   \n",
       "1            1       RecencyProportionalResolution    512   \n",
       "2            1       RecencyProportionalResolution     64   \n",
       "3            1  TaperedDepthProportionalResolution   4096   \n",
       "4            1  TaperedDepthProportionalResolution    512   \n",
       "5            1  TaperedDepthProportionalResolution     64   \n",
       "6           64       RecencyProportionalResolution   4096   \n",
       "7           64       RecencyProportionalResolution    512   \n",
       "8           64       RecencyProportionalResolution     64   \n",
       "9           64  TaperedDepthProportionalResolution   4096   \n",
       "10          64  TaperedDepthProportionalResolution    512   \n",
       "11          64  TaperedDepthProportionalResolution     64   \n",
       "12           8       RecencyProportionalResolution   4096   \n",
       "13           8       RecencyProportionalResolution    512   \n",
       "14           8       RecencyProportionalResolution     64   \n",
       "15           8  TaperedDepthProportionalResolution   4096   \n",
       "16           8  TaperedDepthProportionalResolution    512   \n",
       "17           8  TaperedDepthProportionalResolution     64   \n",
       "\n",
       "                                                    _  \n",
       "0   differentia=1+policy=RecencyProportionalResolu...  \n",
       "1   differentia=1+policy=RecencyProportionalResolu...  \n",
       "2   differentia=1+policy=RecencyProportionalResolu...  \n",
       "3   differentia=1+policy=TaperedDepthProportionalR...  \n",
       "4   differentia=1+policy=TaperedDepthProportionalR...  \n",
       "5   differentia=1+policy=TaperedDepthProportionalR...  \n",
       "6   differentia=64+policy=RecencyProportionalResol...  \n",
       "7   differentia=64+policy=RecencyProportionalResol...  \n",
       "8   differentia=64+policy=RecencyProportionalResol...  \n",
       "9   differentia=64+policy=TaperedDepthProportional...  \n",
       "10  differentia=64+policy=TaperedDepthProportional...  \n",
       "11  differentia=64+policy=TaperedDepthProportional...  \n",
       "12  differentia=8+policy=RecencyProportionalResolu...  \n",
       "13  differentia=8+policy=RecencyProportionalResolu...  \n",
       "14  differentia=8+policy=RecencyProportionalResolu...  \n",
       "15  differentia=8+policy=TaperedDepthProportionalR...  \n",
       "16  differentia=8+policy=TaperedDepthProportionalR...  \n",
       "17  differentia=8+policy=TaperedDepthProportionalR...  "
      ]
     },
     "execution_count": 18,
     "metadata": {},
     "output_type": "execute_result"
    }
   ],
   "source": [
    "res_df\n"
   ]
  },
  {
   "cell_type": "code",
   "execution_count": 19,
   "id": "28be543b",
   "metadata": {
    "execution": {
     "iopub.execute_input": "2023-08-13T01:34:47.094142Z",
     "iopub.status.busy": "2023-08-13T01:34:47.093865Z",
     "iopub.status.idle": "2023-08-13T01:34:47.111043Z",
     "shell.execute_reply": "2023-08-13T01:34:47.110530Z"
    },
    "papermill": {
     "duration": 0.0742,
     "end_time": "2023-08-13T01:34:47.112841",
     "exception": false,
     "start_time": "2023-08-13T01:34:47.038641",
     "status": "completed"
    },
    "tags": []
   },
   "outputs": [
    {
     "name": "stdout",
     "output_type": "stream",
     "text": [
      "digest: f57af9eeba12c55ee52b862a8708cdc6986896884a34d844eb62de7ec1d149e1\n",
      "manifest:\n",
      "  Algorithm: '                                 1#   ex., <function upgma at 0x7f53f4084ca0>'\n",
      "  Euclidean Distance Error: '                  12#  ex., 785.9995229006186'\n",
      "  Instance: '                                  1#   ex., Instance'\n",
      "  Treatment: '                                 18#  ex., differentia=1+policy=RecencyProportionalResolution+target=4096'\n",
      "  Unweighted Robinson Foulds Distance Error: ' 7#   ex., 4'\n",
      "  Weighted Robinson Foulds Distance Error: '   12#  ex., 2944.5'\n",
      "  _: '                                         18#  ex., differentia=1+policy=RecencyProportionalResolution+target=4096'\n",
      "  differentia: '                               3#   ex., 1'\n",
      "  policy: '                                    2#   ex., RecencyProportionalResolution'\n",
      "  target: '                                    3#   ex., 4096'\n",
      "num cols: 10\n",
      "num cols all na: 0\n",
      "num cols any na: 0\n",
      "num na: 0\n",
      "num rows: 18\n",
      "num rows all na: 0\n",
      "num rows any na: 0\n",
      "size: 11K\n",
      "\n"
     ]
    }
   ],
   "source": [
    "nbm.print_dataframe_synopsis(res_df)\n"
   ]
  },
  {
   "cell_type": "code",
   "execution_count": 20,
   "id": "901a2156",
   "metadata": {
    "execution": {
     "iopub.execute_input": "2023-08-13T01:34:47.208404Z",
     "iopub.status.busy": "2023-08-13T01:34:47.208000Z",
     "iopub.status.idle": "2023-08-13T01:34:47.214317Z",
     "shell.execute_reply": "2023-08-13T01:34:47.213760Z"
    },
    "papermill": {
     "duration": 0.055924,
     "end_time": "2023-08-13T01:34:47.215824",
     "exception": false,
     "start_time": "2023-08-13T01:34:47.159900",
     "status": "completed"
    },
    "tags": []
   },
   "outputs": [],
   "source": [
    "res_df['Target Column Bit Size'] = res_df['target']\n",
    "res_df['Stratum Retention Policy'] = res_df['policy']\n",
    "res_df['Differentia Bit Width'] = res_df['differentia']\n"
   ]
  },
  {
   "cell_type": "code",
   "execution_count": 21,
   "id": "7236fab4",
   "metadata": {
    "execution": {
     "iopub.execute_input": "2023-08-13T01:34:47.311161Z",
     "iopub.status.busy": "2023-08-13T01:34:47.310885Z",
     "iopub.status.idle": "2023-08-13T01:34:47.318193Z",
     "shell.execute_reply": "2023-08-13T01:34:47.317538Z"
    },
    "papermill": {
     "duration": 0.057337,
     "end_time": "2023-08-13T01:34:47.319819",
     "exception": false,
     "start_time": "2023-08-13T01:34:47.262482",
     "status": "completed"
    },
    "tags": []
   },
   "outputs": [],
   "source": [
    "def facet_barplot(\n",
    "    data,\n",
    "    col,\n",
    "    x,\n",
    "    y,\n",
    "    hue,\n",
    "):\n",
    "    g = sns.FacetGrid(\n",
    "        data,\n",
    "        col=col,\n",
    "        col_order=sorted(data[col].unique(), key=lambda x: int(x)),\n",
    "        margin_titles=True,\n",
    "        legend_out=True,\n",
    "    )\n",
    "    g.map_dataframe(\n",
    "        sns.barplot,\n",
    "        x=x,\n",
    "        y=y,\n",
    "        hue=hue,\n",
    "        order=sorted(data[x].unique(), key=lambda x: int(x)),\n",
    "        palette='colorblind',\n",
    "    )\n",
    "    g.add_legend()\n",
    "    g._legend.set_title(hue)\n",
    "    for ax in g.axes.flat:\n",
    "        ax.set_xlabel(x)\n",
    "    g.axes.flat[0].set_ylabel(y)\n"
   ]
  },
  {
   "cell_type": "code",
   "execution_count": 22,
   "id": "31006c3f",
   "metadata": {
    "execution": {
     "iopub.execute_input": "2023-08-13T01:34:47.422788Z",
     "iopub.status.busy": "2023-08-13T01:34:47.422387Z",
     "iopub.status.idle": "2023-08-13T01:34:48.681782Z",
     "shell.execute_reply": "2023-08-13T01:34:48.681049Z"
    },
    "papermill": {
     "duration": 1.315064,
     "end_time": "2023-08-13T01:34:48.683567",
     "exception": false,
     "start_time": "2023-08-13T01:34:47.368503",
     "status": "completed"
    },
    "tags": []
   },
   "outputs": [
    {
     "name": "stdout",
     "output_type": "stream",
     "text": [
      "teeplots/col=differentia-bit-width+hue=stratum-retention-policy+viz=facet-barplot+x=target-column-bit-size+y=euclidean-distance-error+ext=.pdf\n"
     ]
    },
    {
     "name": "stdout",
     "output_type": "stream",
     "text": [
      "teeplots/col=differentia-bit-width+hue=stratum-retention-policy+viz=facet-barplot+x=target-column-bit-size+y=euclidean-distance-error+ext=.png\n"
     ]
    },
    {
     "data": {
      "image/png": "[encoded data removed]",
      "text/plain": [
       "<Figure size 866x216 with 3 Axes>"
      ]
     },
     "metadata": {
      "needs_background": "light"
     },
     "output_type": "display_data"
    }
   ],
   "source": [
    "tp.tee(\n",
    "    facet_barplot,\n",
    "    data=res_df,\n",
    "    col='Differentia Bit Width',\n",
    "    x='Target Column Bit Size',\n",
    "    y='Euclidean Distance Error',\n",
    "    hue='Stratum Retention Policy',\n",
    ")\n"
   ]
  },
  {
   "cell_type": "code",
   "execution_count": 23,
   "id": "836f7339",
   "metadata": {
    "execution": {
     "iopub.execute_input": "2023-08-13T01:34:48.782135Z",
     "iopub.status.busy": "2023-08-13T01:34:48.781564Z",
     "iopub.status.idle": "2023-08-13T01:34:50.124484Z",
     "shell.execute_reply": "2023-08-13T01:34:50.123850Z"
    },
    "papermill": {
     "duration": 1.394435,
     "end_time": "2023-08-13T01:34:50.126422",
     "exception": false,
     "start_time": "2023-08-13T01:34:48.731987",
     "status": "completed"
    },
    "tags": []
   },
   "outputs": [
    {
     "name": "stdout",
     "output_type": "stream",
     "text": [
      "teeplots/col=differentia-bit-width+hue=stratum-retention-policy+viz=facet-barplot+x=target-column-bit-size+y=unweighted-robinson-foulds-distance-error+ext=.pdf\n"
     ]
    },
    {
     "name": "stdout",
     "output_type": "stream",
     "text": [
      "teeplots/col=differentia-bit-width+hue=stratum-retention-policy+viz=facet-barplot+x=target-column-bit-size+y=unweighted-robinson-foulds-distance-error+ext=.png\n"
     ]
    },
    {
     "data": {
      "image/png": "[encoded data removed]",
      "text/plain": [
       "<Figure size 866x216 with 3 Axes>"
      ]
     },
     "metadata": {
      "needs_background": "light"
     },
     "output_type": "display_data"
    }
   ],
   "source": [
    "tp.tee(\n",
    "    facet_barplot,\n",
    "    data=res_df,\n",
    "    col='Differentia Bit Width',\n",
    "    x='Target Column Bit Size',\n",
    "    y='Unweighted Robinson Foulds Distance Error',\n",
    "    hue='Stratum Retention Policy',\n",
    ")\n"
   ]
  },
  {
   "cell_type": "code",
   "execution_count": 24,
   "id": "feafc569",
   "metadata": {
    "execution": {
     "iopub.execute_input": "2023-08-13T01:34:50.228184Z",
     "iopub.status.busy": "2023-08-13T01:34:50.227776Z",
     "iopub.status.idle": "2023-08-13T01:34:51.517001Z",
     "shell.execute_reply": "2023-08-13T01:34:51.516177Z"
    },
    "papermill": {
     "duration": 1.342905,
     "end_time": "2023-08-13T01:34:51.519582",
     "exception": false,
     "start_time": "2023-08-13T01:34:50.176677",
     "status": "completed"
    },
    "tags": []
   },
   "outputs": [
    {
     "name": "stdout",
     "output_type": "stream",
     "text": [
      "teeplots/col=differentia-bit-width+hue=stratum-retention-policy+viz=facet-barplot+x=target-column-bit-size+y=weighted-robinson-foulds-distance-error+ext=.pdf\n"
     ]
    },
    {
     "name": "stdout",
     "output_type": "stream",
     "text": [
      "teeplots/col=differentia-bit-width+hue=stratum-retention-policy+viz=facet-barplot+x=target-column-bit-size+y=weighted-robinson-foulds-distance-error+ext=.png\n"
     ]
    },
    {
     "data": {
      "image/png": "[encoded data removed]",
      "text/plain": [
       "<Figure size 866x216 with 3 Axes>"
      ]
     },
     "metadata": {
      "needs_background": "light"
     },
     "output_type": "display_data"
    }
   ],
   "source": [
    "tp.tee(\n",
    "    facet_barplot,\n",
    "    data=res_df,\n",
    "    col='Differentia Bit Width',\n",
    "    x='Target Column Bit Size',\n",
    "    y='Weighted Robinson Foulds Distance Error',\n",
    "    hue='Stratum Retention Policy',\n",
    ")\n"
   ]
  },
  {
   "cell_type": "code",
   "execution_count": 25,
   "id": "c37325ec",
   "metadata": {
    "execution": {
     "iopub.execute_input": "2023-08-13T01:34:51.625398Z",
     "iopub.status.busy": "2023-08-13T01:34:51.625124Z",
     "iopub.status.idle": "2023-08-13T01:34:51.632423Z",
     "shell.execute_reply": "2023-08-13T01:34:51.631847Z"
    },
    "papermill": {
     "duration": 0.062412,
     "end_time": "2023-08-13T01:34:51.634265",
     "exception": false,
     "start_time": "2023-08-13T01:34:51.571853",
     "status": "completed"
    },
    "tags": []
   },
   "outputs": [],
   "source": [
    "res_df.to_csv(\n",
    "    f'a=reconstructed_phylogeny_evaluation+source={kn.unpack(data_filename)[\"source\"]}',\n",
    "    compression='gzip',\n",
    ")\n",
    "res_df.to_csv(\n",
    "    f'a=reconstructed_phylogeny_evaluation+source={kn.unpack(data_filename)[\"source\"][:-len(\".gz\")]}',\n",
    ")\n"
   ]
  }
 ],
 "metadata": {
  "kernelspec": {
   "display_name": "Python 3",
   "language": "python",
   "name": "python3"
  },
  "papermill": {
   "default_parameters": {},
   "duration": null,
   "end_time": null,
   "environment_variables": {},
   "exception": null,
   "input_path": "/opt/hereditary-stratigraph-concept/binder/phylogenetic-inference/reconstructed_phylogeny_evaluation_mill.ipynb",
   "output_path": "executing.endomill.ipynb",
   "parameters": {
    "original_phylogeny_url": "https://osf.io/8ycq7/",
    "reconstructed_phylogeny_url": "https://github.com/mmore500/hereditary-stratigraph-concept/blob/49e2bb1ff4c433af5eab2532f077663dc7d9efa3/binder/phylogenetic-inference/a=reconstructed_phylogenies+source=nk_lexicaseselection_seed110_pop165_mut.01_snapshot_500.csv.gz"
   },
   "start_time": "2023-08-13T01:34:13.452176",
   "version": "2.3.4"
  }
 },
 "nbformat": 4,
 "nbformat_minor": 5
}