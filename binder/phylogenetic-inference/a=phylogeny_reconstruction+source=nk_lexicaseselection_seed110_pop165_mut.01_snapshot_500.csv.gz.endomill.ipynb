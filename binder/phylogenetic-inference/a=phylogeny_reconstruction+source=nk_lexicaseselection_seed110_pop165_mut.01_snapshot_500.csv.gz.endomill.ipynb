{
 "cells": [
  {
   "cell_type": "code",
   "execution_count": 1,
   "id": "0eff96be",
   "metadata": {
    "execution": {
     "iopub.execute_input": "2022-12-13T12:15:10.699860Z",
     "iopub.status.busy": "2022-12-13T12:15:10.699558Z",
     "iopub.status.idle": "2022-12-13T12:15:11.557897Z",
     "shell.execute_reply": "2022-12-13T12:15:11.557167Z"
    },
    "papermill": {
     "duration": 0.87805,
     "end_time": "2022-12-13T12:15:11.560514",
     "exception": false,
     "start_time": "2022-12-13T12:15:10.682464",
     "status": "completed"
    },
    "tags": []
   },
   "outputs": [],
   "source": [
    "import endomill\n",
    "from nbmetalog import nbmetalog as nbm\n"
   ]
  },
  {
   "cell_type": "code",
   "execution_count": 2,
   "id": "711607c8",
   "metadata": {
    "execution": {
     "iopub.execute_input": "2022-12-13T12:15:11.590109Z",
     "iopub.status.busy": "2022-12-13T12:15:11.589846Z",
     "iopub.status.idle": "2022-12-13T12:15:11.940296Z",
     "shell.execute_reply": "2022-12-13T12:15:11.939610Z"
    },
    "papermill": {
     "duration": 0.367422,
     "end_time": "2022-12-13T12:15:11.942058",
     "exception": false,
     "start_time": "2022-12-13T12:15:11.574636",
     "status": "completed"
    },
    "tags": []
   },
   "outputs": [
    {
     "name": "stdout",
     "output_type": "stream",
     "text": [
      "context: ci\n",
      "hostname: 335ee079bf9b\n",
      "interpreter: 3.8.12 (default, Jan 15 2022, 18:39:47)  [GCC 7.5.0]\n",
      "nbcellexec: 2\n",
      "nbname: phylogeny_reconstruction_mill\n",
      "nbpath: /opt/hereditary-stratigraph-concept/binder/phylogenetic-inference/phylogeny_reconstruction_mill.ipynb\n",
      "revision: null\n",
      "session: 021beb3d-159e-402d-b7ac-8a39307dce80\n",
      "timestamp: 2022-12-13T12:15:11Z00:00\n",
      "\n",
      "\n"
     ]
    },
    {
     "name": "stdout",
     "output_type": "stream",
     "text": [
      "IPython==7.16.1\n",
      "keyname==0.4.1\n",
      "yaml==5.3.1\n",
      "endomill==0.1.3\n",
      "nbmetalog==0.2.6\n",
      "re==2.2.1\n",
      "ipython_genutils==0.2.0\n",
      "logging==0.5.1.2\n",
      "zmq==22.3.0\n",
      "json==2.0.9\n",
      "ipykernel==5.5.3\n"
     ]
    }
   ],
   "source": [
    "nbm.print_metadata()\n"
   ]
  },
  {
   "cell_type": "code",
   "execution_count": 3,
   "id": "b1bef211",
   "metadata": {
    "execution": {
     "iopub.execute_input": "2022-12-13T12:15:11.972702Z",
     "iopub.status.busy": "2022-12-13T12:15:11.972433Z",
     "iopub.status.idle": "2022-12-13T12:15:11.979899Z",
     "shell.execute_reply": "2022-12-13T12:15:11.979221Z"
    },
    "papermill": {
     "duration": 0.024788,
     "end_time": "2022-12-13T12:15:11.981617",
     "exception": false,
     "start_time": "2022-12-13T12:15:11.956829",
     "status": "completed"
    },
    "tags": []
   },
   "outputs": [
    {
     "name": "stdout",
     "output_type": "stream",
     "text": [
      "detected executing.endomill.ipynb file\n",
      "skipping instantiate_over\n"
     ]
    }
   ],
   "source": [
    "base_url = (\n",
    "    'https://github.com/mmore500/hereditary-stratigraph-concept/'\n",
    "    'blob/f21c71cc31c6cc3eed4bbd47bfce2208020ce930/'\n",
    "    'binder/phylogenetic-inference/'\n",
    ")\n",
    "\n",
    "data_urls = [\n",
    "    base_url + 'a=pairwise_mrca_estimates+source=nk_ecoeaselection_seed110_pop100_mut.01_snapshot_3000.csv.gz',\n",
    "    base_url + 'a=pairwise_mrca_estimates+source=nk_lexicaseselection_seed110_pop165_mut.01_snapshot_500.csv.gz',\n",
    "    base_url + 'a=pairwise_mrca_estimates+source=nk_randomselection_seed7_pop100_mut.01_snapshot_5000.csv.gz',\n",
    "    base_url + 'a=pairwise_mrca_estimates+source=nk_sharingselection_seed10_pop100_mut.01_snapshot_5000.csv.gz',\n",
    "    base_url + 'a=pairwise_mrca_estimates+source=nk_tournamentselection_seed140_pop100_mut.01_snapshot_5000.csv.gz',\n",
    "]\n",
    "\n",
    "endomill.instantiate_over(\n",
    "    parameter_packs=[\n",
    "        {'data_url': data_url}\n",
    "        for data_url in data_urls\n",
    "    ],\n",
    ")\n"
   ]
  },
  {
   "cell_type": "code",
   "execution_count": 4,
   "id": "4ac2c673",
   "metadata": {
    "execution": {
     "iopub.execute_input": "2022-12-13T12:15:12.013785Z",
     "iopub.status.busy": "2022-12-13T12:15:12.013548Z",
     "iopub.status.idle": "2022-12-13T12:15:12.016363Z",
     "shell.execute_reply": "2022-12-13T12:15:12.015766Z"
    },
    "papermill": {
     "duration": 0.021014,
     "end_time": "2022-12-13T12:15:12.017846",
     "exception": false,
     "start_time": "2022-12-13T12:15:11.996832",
     "status": "completed"
    },
    "tags": [
     "parameters"
    ]
   },
   "outputs": [],
   "source": [
    "#define papermil parameters\n",
    "data_url: str\n"
   ]
  },
  {
   "cell_type": "code",
   "execution_count": 5,
   "id": "d217d72b",
   "metadata": {
    "execution": {
     "iopub.execute_input": "2022-12-13T12:15:12.051629Z",
     "iopub.status.busy": "2022-12-13T12:15:12.051383Z",
     "iopub.status.idle": "2022-12-13T12:15:12.054378Z",
     "shell.execute_reply": "2022-12-13T12:15:12.053864Z"
    },
    "papermill": {
     "duration": 0.021493,
     "end_time": "2022-12-13T12:15:12.056398",
     "exception": false,
     "start_time": "2022-12-13T12:15:12.034905",
     "status": "completed"
    },
    "tags": [
     "injected-parameters"
    ]
   },
   "outputs": [],
   "source": [
    "# Parameters\n",
    "data_url = \"https://github.com/mmore500/hereditary-stratigraph-concept/blob/f21c71cc31c6cc3eed4bbd47bfce2208020ce930/binder/phylogenetic-inference/a=pairwise_mrca_estimates+source=nk_lexicaseselection_seed110_pop165_mut.01_snapshot_500.csv.gz\"\n"
   ]
  },
  {
   "cell_type": "code",
   "execution_count": 6,
   "id": "7772fcde",
   "metadata": {
    "execution": {
     "iopub.execute_input": "2022-12-13T12:15:12.100467Z",
     "iopub.status.busy": "2022-12-13T12:15:12.099562Z",
     "iopub.status.idle": "2022-12-13T12:15:12.576938Z",
     "shell.execute_reply": "2022-12-13T12:15:12.576094Z"
    },
    "papermill": {
     "duration": 0.501719,
     "end_time": "2022-12-13T12:15:12.579191",
     "exception": false,
     "start_time": "2022-12-13T12:15:12.077472",
     "status": "completed"
    },
    "tags": []
   },
   "outputs": [],
   "source": [
    "import alifedata_phyloinformatics_convert as apc\n",
    "from Bio import Phylo\n",
    "from Bio.Phylo.TreeConstruction import DistanceMatrix, DistanceTreeConstructor\n",
    "from collections import Counter\n",
    "from iterpop import iterpop as ip\n",
    "import itertools as it\n",
    "from keyname import keyname as kn\n",
    "from matplotlib import pyplot as plt\n",
    "import numpy as np\n",
    "from os.path import basename\n",
    "import pandas as pd\n",
    "import sys\n",
    "from teeplot import teeplot as tp\n",
    "from tqdm import tqdm\n",
    "import warnings\n"
   ]
  },
  {
   "cell_type": "code",
   "execution_count": 7,
   "id": "900c5310",
   "metadata": {
    "execution": {
     "iopub.execute_input": "2022-12-13T12:15:12.611928Z",
     "iopub.status.busy": "2022-12-13T12:15:12.611641Z",
     "iopub.status.idle": "2022-12-13T12:15:12.616205Z",
     "shell.execute_reply": "2022-12-13T12:15:12.615504Z"
    },
    "papermill": {
     "duration": 0.023463,
     "end_time": "2022-12-13T12:15:12.617973",
     "exception": false,
     "start_time": "2022-12-13T12:15:12.594510",
     "status": "completed"
    },
    "tags": []
   },
   "outputs": [],
   "source": [
    "from pylib import draw_biopython_tree_with_origin_time_bounds\n"
   ]
  },
  {
   "cell_type": "code",
   "execution_count": 8,
   "id": "e848574e",
   "metadata": {
    "execution": {
     "iopub.execute_input": "2022-12-13T12:15:12.649855Z",
     "iopub.status.busy": "2022-12-13T12:15:12.649609Z",
     "iopub.status.idle": "2022-12-13T12:15:12.930980Z",
     "shell.execute_reply": "2022-12-13T12:15:12.930113Z"
    },
    "papermill": {
     "duration": 0.299592,
     "end_time": "2022-12-13T12:15:12.932841",
     "exception": false,
     "start_time": "2022-12-13T12:15:12.633249",
     "status": "completed"
    },
    "tags": []
   },
   "outputs": [
    {
     "name": "stdout",
     "output_type": "stream",
     "text": [
      "context: ci\n",
      "hostname: 335ee079bf9b\n",
      "interpreter: 3.8.12 (default, Jan 15 2022, 18:39:47)  [GCC 7.5.0]\n",
      "nbcellexec: 8\n",
      "nbname: phylogeny_reconstruction_mill\n",
      "nbpath: /opt/hereditary-stratigraph-concept/binder/phylogenetic-inference/phylogeny_reconstruction_mill.ipynb\n",
      "revision: null\n",
      "session: 021beb3d-159e-402d-b7ac-8a39307dce80\n",
      "timestamp: 2022-12-13T12:15:12Z00:00\n",
      "\n",
      "\n"
     ]
    },
    {
     "name": "stdout",
     "output_type": "stream",
     "text": [
      "IPython==7.16.1\n",
      "endomill==0.1.3\n",
      "ipykernel==5.5.3\n",
      "ipython_genutils==0.2.0\n",
      "json==2.0.9\n",
      "keyname==0.4.1\n",
      "logging==0.5.1.2\n",
      "nbmetalog==0.2.6\n",
      "re==2.2.1\n",
      "yaml==5.3.1\n",
      "zmq==22.3.0\n",
      "Bio==1.79\n",
      "alifedata_phyloinformatics_convert==0.6.0\n",
      "iterpop==0.4.0\n",
      "matplotlib==3.3.2\n",
      "numpy==1.21.5\n",
      "pandas==1.1.2\n",
      "teeplot==0.2.0\n"
     ]
    }
   ],
   "source": [
    "nbm.print_metadata()\n"
   ]
  },
  {
   "cell_type": "code",
   "execution_count": 9,
   "id": "8d15ac34",
   "metadata": {
    "execution": {
     "iopub.execute_input": "2022-12-13T12:15:12.965736Z",
     "iopub.status.busy": "2022-12-13T12:15:12.965365Z",
     "iopub.status.idle": "2022-12-13T12:15:13.491865Z",
     "shell.execute_reply": "2022-12-13T12:15:13.491085Z"
    },
    "papermill": {
     "duration": 0.550733,
     "end_time": "2022-12-13T12:15:13.498682",
     "exception": false,
     "start_time": "2022-12-13T12:15:12.947949",
     "status": "completed"
    },
    "tags": []
   },
   "outputs": [
    {
     "name": "stdout",
     "output_type": "stream",
     "text": [
      "digest: 1987093ab40a47acb0b56d1b2ee4eaaa7975fdec4a811766d76a59ea9410f91b\n",
      "manifest:\n",
      "  Column Configuration: '                              18#         ex., actual_bits=63+actual_strata=63+bits_error=-1+differentia=1+policy=TaperedDepthProportionalResolution+resolution=31+target_bits=64'\n",
      "  Differentia Bit Width: '                             3#          ex., 1'\n",
      "  Generation Of MRCA Lower Bound (inclusive): '        76#,1668na  ex., 440.0'\n",
      "  Generation Of MRCA Upper Bound (exclusive): '        70#,1668na  ex., 480.0'\n",
      "  Generation of Taxon Compared From: '                 10#         ex., 501'\n",
      "  Generation of Taxon Compared To: '                   10#         ex., 501'\n",
      "  MRCA Bound Confidence: '                             3#          ex., 0.96875'\n",
      "  Rank of Earliest Detectable Mrca With: '             5#          ex., 40'\n",
      "  Stratigraphic Column Actual Num Retained Strata: '   6#          ex., 63'\n",
      "  Stratigraphic Column Expected Retained Bits: '       13#         ex., 63'\n",
      "  Stratigraphic Column Expected Retained Bits Error: ' 13#         ex., -1'\n",
      "  Stratigraphic Column Mean Actual Retained Bits: '    13#         ex., 62.83333333333334'\n",
      "  Stratigraphic Column Target Retained Bits: '         3#          ex., 64'\n",
      "  Stratum Retention Policy: '                          2#          ex., TaperedDepthProportionalResolution'\n",
      "  Stratum Retention Policy Resolution Parameter: '     6#          ex., 31'\n",
      "  Taxon Compared From: '                               24#         ex., 4737'\n",
      "  Taxon Compared To: '                                 24#         ex., 4733'\n",
      "  'Unnamed: 0': '                                        9936#       ex., 0'\n",
      "num cols: 18\n",
      "num cols all na: 0\n",
      "num cols any na: 2\n",
      "num na: 3336\n",
      "num rows: 9936\n",
      "num rows all na: 0\n",
      "num rows any na: 1668\n",
      "size: 3M\n",
      "\n",
      "a=pairwise_mrca_estimates+source=nk_lexicaseselection_seed110_pop165_mut.01_snapshot_500.csv.gz\n"
     ]
    }
   ],
   "source": [
    "df = pd.read_csv(\n",
    "    f'{data_url}?raw=true',\n",
    "    compression='gzip',\n",
    ")\n",
    "\n",
    "nbm.print_dataframe_synopsis(df)\n",
    "\n",
    "data_filename = basename(data_url)\n",
    "\n",
    "print(data_filename)\n"
   ]
  },
  {
   "cell_type": "code",
   "execution_count": 10,
   "id": "0d667afe",
   "metadata": {
    "execution": {
     "iopub.execute_input": "2022-12-13T12:15:13.534009Z",
     "iopub.status.busy": "2022-12-13T12:15:13.533729Z",
     "iopub.status.idle": "2022-12-13T12:15:13.537088Z",
     "shell.execute_reply": "2022-12-13T12:15:13.536530Z"
    },
    "papermill": {
     "duration": 0.02316,
     "end_time": "2022-12-13T12:15:13.538771",
     "exception": false,
     "start_time": "2022-12-13T12:15:13.515611",
     "status": "completed"
    },
    "tags": []
   },
   "outputs": [],
   "source": [
    "endomill.add_instance_outpath(\n",
    "    f'a=phylogeny_reconstruction+source={kn.unpack(data_filename)[\"source\"]}.endomill.ipynb'\n",
    ")\n"
   ]
  },
  {
   "cell_type": "code",
   "execution_count": 11,
   "id": "3716f6de",
   "metadata": {
    "execution": {
     "iopub.execute_input": "2022-12-13T12:15:13.574092Z",
     "iopub.status.busy": "2022-12-13T12:15:13.573823Z",
     "iopub.status.idle": "2022-12-13T12:15:13.808642Z",
     "shell.execute_reply": "2022-12-13T12:15:13.807783Z"
    },
    "papermill": {
     "duration": 0.255009,
     "end_time": "2022-12-13T12:15:13.810728",
     "exception": false,
     "start_time": "2022-12-13T12:15:13.555719",
     "status": "completed"
    },
    "tags": []
   },
   "outputs": [],
   "source": [
    "df['Treatment'] = df.apply(\n",
    "    lambda row: kn.pack({\n",
    "        'target': row['Stratigraphic Column Target Retained Bits'],\n",
    "        'differentia': row['Differentia Bit Width'],\n",
    "        'policy': row['Stratum Retention Policy'],\n",
    "    }),\n",
    "    axis=1,\n",
    ")\n"
   ]
  },
  {
   "cell_type": "code",
   "execution_count": 12,
   "id": "d9a639c7",
   "metadata": {
    "execution": {
     "iopub.execute_input": "2022-12-13T12:15:13.846937Z",
     "iopub.status.busy": "2022-12-13T12:15:13.846644Z",
     "iopub.status.idle": "2022-12-13T12:15:13.850450Z",
     "shell.execute_reply": "2022-12-13T12:15:13.849904Z"
    },
    "papermill": {
     "duration": 0.024128,
     "end_time": "2022-12-13T12:15:13.852014",
     "exception": false,
     "start_time": "2022-12-13T12:15:13.827886",
     "status": "completed"
    },
    "tags": []
   },
   "outputs": [],
   "source": [
    "max_gen = df['Generation of Taxon Compared From'].max()\n"
   ]
  },
  {
   "cell_type": "code",
   "execution_count": 13,
   "id": "0a98d785",
   "metadata": {
    "execution": {
     "iopub.execute_input": "2022-12-13T12:15:13.896655Z",
     "iopub.status.busy": "2022-12-13T12:15:13.896384Z",
     "iopub.status.idle": "2022-12-13T12:15:13.908604Z",
     "shell.execute_reply": "2022-12-13T12:15:13.908059Z"
    },
    "papermill": {
     "duration": 0.034525,
     "end_time": "2022-12-13T12:15:13.910135",
     "exception": false,
     "start_time": "2022-12-13T12:15:13.875610",
     "status": "completed"
    },
    "tags": []
   },
   "outputs": [],
   "source": [
    "def create_distance_matrix(df):\n",
    "    assert len(df['Treatment'].unique() == 1)\n",
    "\n",
    "    counter = it.count()\n",
    "    taxon_to_index = {\n",
    "        taxon : next(counter)\n",
    "        for taxon in df['Taxon Compared From'].unique()\n",
    "    }\n",
    "    label_list = sorted(\n",
    "        [*df['Taxon Compared From'].unique()],\n",
    "        key=lambda x: taxon_to_index[x],\n",
    "    )\n",
    "    assert len(label_list) == len(taxon_to_index)\n",
    "\n",
    "    def row_to_mrca_time_mid(row):\n",
    "        mrca_lb = row['Generation Of MRCA Lower Bound (inclusive)']\n",
    "        mrca_ub = row['Generation Of MRCA Upper Bound (exclusive)']\n",
    "        earliest_detectable_mrca = row['Rank of Earliest Detectable Mrca With']\n",
    "        taxon1_gen = row['Generation of Taxon Compared From']\n",
    "        taxon2_gen = row['Generation of Taxon Compared To']\n",
    "\n",
    "        if not np.isnan(mrca_lb) and not np.isnan(mrca_ub):\n",
    "            return (mrca_lb + mrca_ub - 1) / 2 # ub is exclusive\n",
    "        elif earliest_detectable_mrca == 0:\n",
    "            # we are confident that no mrca exists, but return 0\n",
    "            return 0\n",
    "        elif np.isnan(mrca_ub) and not np.isnan(earliest_detectable_mrca):\n",
    "            assert np.isnan(mrca_lb)\n",
    "            return (earliest_detectable_mrca - 1) / 2 # exclusive\n",
    "        else:\n",
    "            assert np.isnan(mrca_lb) and np.isnan(mrca_ub) and np.isnan(earliest_detectable_mrca)\n",
    "            ub = min(taxon1_gen, taxon2_gen)\n",
    "            return ub / 2\n",
    "    mrca_time_mid_dict = {\n",
    "        (row['Taxon Compared From'], row['Taxon Compared To']):\n",
    "             row_to_mrca_time_mid(row)\n",
    "        for __, row in df.iterrows()\n",
    "    }\n",
    "    assert not any(np.isnan(x) for x in mrca_time_mid_dict.values())\n",
    "\n",
    "    distance_dict = {\n",
    "        (taxon_to_index[row['Taxon Compared From']], taxon_to_index[row['Taxon Compared To']]):\n",
    "            row['Generation of Taxon Compared From']\n",
    "            + row['Generation of Taxon Compared To']\n",
    "            - 2 * mrca_time_mid_dict[\n",
    "                (row['Taxon Compared From'], row['Taxon Compared To'])\n",
    "            ]\n",
    "        for __, row in df.iterrows()\n",
    "    }\n",
    "    assert not any(np.isnan(x) for x in distance_dict.values())\n",
    "\n",
    "    distance_matrix = np.array([\n",
    "        [\n",
    "            float(distance_dict[(i, j)] + distance_dict[(j, i)])\n",
    "            if i != j\n",
    "            else 0.0\n",
    "            for j in range(len(taxon_to_index))\n",
    "        ]\n",
    "        for i in range(len(taxon_to_index))\n",
    "    ])\n",
    "\n",
    "    return distance_matrix, label_list\n"
   ]
  },
  {
   "cell_type": "code",
   "execution_count": 14,
   "id": "446fbe41",
   "metadata": {
    "execution": {
     "iopub.execute_input": "2022-12-13T12:15:13.947508Z",
     "iopub.status.busy": "2022-12-13T12:15:13.946752Z",
     "iopub.status.idle": "2022-12-13T12:15:13.952342Z",
     "shell.execute_reply": "2022-12-13T12:15:13.951603Z"
    },
    "papermill": {
     "duration": 0.026369,
     "end_time": "2022-12-13T12:15:13.953908",
     "exception": false,
     "start_time": "2022-12-13T12:15:13.927539",
     "status": "completed"
    },
    "tags": []
   },
   "outputs": [],
   "source": [
    "def to_tril(matrix):\n",
    "    return [\n",
    "        row[:row_idx] + [0]\n",
    "        for row_idx, row in enumerate(matrix.tolist())\n",
    "    ]\n"
   ]
  },
  {
   "cell_type": "code",
   "execution_count": 15,
   "id": "f3f9664a",
   "metadata": {
    "execution": {
     "iopub.execute_input": "2022-12-13T12:15:13.993647Z",
     "iopub.status.busy": "2022-12-13T12:15:13.993312Z",
     "iopub.status.idle": "2022-12-13T12:15:14.015301Z",
     "shell.execute_reply": "2022-12-13T12:15:14.014667Z"
    },
    "papermill": {
     "duration": 0.044911,
     "end_time": "2022-12-13T12:15:14.017080",
     "exception": false,
     "start_time": "2022-12-13T12:15:13.972169",
     "status": "completed"
    },
    "tags": []
   },
   "outputs": [],
   "source": [
    "def distance_construct_tree(df, algorithm):\n",
    "    def row_to_mrca_time_lb(row):\n",
    "        mrca_lb = row['Generation Of MRCA Lower Bound (inclusive)']\n",
    "        if not np.isnan(mrca_lb):\n",
    "            return mrca_lb\n",
    "        else:\n",
    "            assert np.isnan(row['Generation Of MRCA Upper Bound (exclusive)'])\n",
    "            return 0\n",
    "    mrca_time_lb_dict = {\n",
    "        (row['Taxon Compared From'], row['Taxon Compared To']):\n",
    "            row_to_mrca_time_lb(row)\n",
    "        for __, row in df.iterrows()\n",
    "    }\n",
    "    assert not any(np.isnan(x) for x in mrca_time_lb_dict.values())\n",
    "\n",
    "    def row_to_mrca_time_ub(row):\n",
    "        mrca_ub = row['Generation Of MRCA Upper Bound (exclusive)']\n",
    "        earliest_detectable_mrca = row['Rank of Earliest Detectable Mrca With']\n",
    "        taxon1_gen = row['Generation of Taxon Compared From']\n",
    "        taxon2_gen = row['Generation of Taxon Compared To']\n",
    "        if not np.isnan(mrca_ub):\n",
    "            return mrca_ub\n",
    "        elif not np.isnan(earliest_detectable_mrca):\n",
    "            return earliest_detectable_mrca\n",
    "        else:\n",
    "            assert np.isnan(mrca_ub) and np.isnan(earliest_detectable_mrca)\n",
    "            return min(taxon1_gen, taxon2_gen) + 1 #exclusive\n",
    "    mrca_time_ub_dict = {\n",
    "        (row['Taxon Compared From'], row['Taxon Compared To']):\n",
    "            row_to_mrca_time_ub(row)\n",
    "        for __, row in df.iterrows()\n",
    "    }\n",
    "    assert not any(np.isnan(x) for x in mrca_time_ub_dict.values())\n",
    "\n",
    "    for __, row in df.iterrows():\n",
    "        mrca_time_lb_dict[(row['Taxon Compared From'], row['Taxon Compared From'])] \\\n",
    "            = row['Generation of Taxon Compared From'] # inclusive\n",
    "        mrca_time_ub_dict[(row['Taxon Compared From'], row['Taxon Compared From'])] \\\n",
    "            = row['Generation of Taxon Compared From'] + 1 # exclusive\n",
    "\n",
    "\n",
    "    assert len(df['Treatment'].unique() == 1)\n",
    "    distance_matrix, label_list = create_distance_matrix(df)\n",
    "    assert not np.isnan(distance_matrix.sum())\n",
    "    dm = DistanceMatrix([*map(str, label_list)], to_tril(distance_matrix))\n",
    "    tree = getattr(DistanceTreeConstructor(), algorithm)(dm)\n",
    "\n",
    "    # fixup orign times\n",
    "    for node in tree.find_clades():\n",
    "        node.origin_time_lbs = []\n",
    "        node.origin_time_ubs = []\n",
    "\n",
    "    for leaf1, leaf2 in it.product(tree.get_terminals(), tree.get_terminals()):\n",
    "        mrca_node = tree.common_ancestor(leaf1, leaf2)\n",
    "        if leaf1 == leaf2:\n",
    "            assert mrca_node == leaf1\n",
    "\n",
    "        mrca_time_lb = mrca_time_lb_dict[(int(leaf1.name), int(leaf2.name))]\n",
    "        assert not np.isnan(mrca_time_lb)\n",
    "        mrca_node.origin_time_lbs.append(mrca_time_lb)\n",
    "\n",
    "        mrca_time_ub = mrca_time_ub_dict[(int(leaf1.name), int(leaf2.name))]\n",
    "        assert not np.isnan(mrca_time_ub)\n",
    "        mrca_node.origin_time_ubs.append(mrca_time_ub)\n",
    "\n",
    "    for node in tree.find_clades():\n",
    "        assert node.origin_time_lbs\n",
    "        assert node.origin_time_ubs\n",
    "\n",
    "        # upper bound is a hard bound,\n",
    "        # so anything above the lowest upper bound\n",
    "        # is strictly impossible\n",
    "        node.origin_time_ub = np.min(node.origin_time_ubs)\n",
    "\n",
    "        # to calculate the consolidated lower bound\n",
    "        # find all bounds with an upper component that is\n",
    "        # has not been undercut\n",
    "        # and then pick the strictest among those\n",
    "        node.origin_time_lb = np.max([\n",
    "            lb\n",
    "            for lb, ub in zip(\n",
    "                node.origin_time_lbs,\n",
    "                node.origin_time_ubs,\n",
    "            )\n",
    "            if ub <= node.origin_time_ub\n",
    "        ])\n",
    "\n",
    "        assert node.origin_time_ub > node.origin_time_lb\n",
    "\n",
    "        node.origin_time_est = np.mean([node.origin_time_lb, node.origin_time_ub - 1])\n",
    "\n",
    "    # reroot tree\n",
    "    new_root = min(tree.find_clades(), key=lambda node: node.origin_time_est)\n",
    "    tree.root_with_outgroup(new_root)\n",
    "\n",
    "    # fixup branch lengths\n",
    "    tree.root.branch_length = tree.root.origin_time_est\n",
    "    for node in tree.find_clades():\n",
    "        for child in node.clades:\n",
    "            child.branch_length = child.origin_time_est - node.origin_time_est\n",
    "\n",
    "    # sort clades for consistent display\n",
    "    for node in tree.find_clades(order='postorder'):\n",
    "        if node.clades:\n",
    "            node.max_descendant = max(child.max_descendant for child in node.clades)\n",
    "        else:\n",
    "            node.max_descendant = int(node.name)\n",
    "        node.clades.sort(key=lambda node: node.max_descendant)\n",
    "\n",
    "    return tree\n"
   ]
  },
  {
   "cell_type": "code",
   "execution_count": 16,
   "id": "5a6e64a0",
   "metadata": {
    "execution": {
     "iopub.execute_input": "2022-12-13T12:15:14.059471Z",
     "iopub.status.busy": "2022-12-13T12:15:14.058811Z",
     "iopub.status.idle": "2022-12-13T12:15:19.238484Z",
     "shell.execute_reply": "2022-12-13T12:15:19.237557Z"
    },
    "papermill": {
     "duration": 5.205245,
     "end_time": "2022-12-13T12:15:19.240400",
     "exception": false,
     "start_time": "2022-12-13T12:15:14.035155",
     "status": "completed"
    },
    "tags": []
   },
   "outputs": [
    {
     "name": "stderr",
     "output_type": "stream",
     "text": [
      "\r",
      "  0%|          | 0/18 [00:00<?, ?it/s]"
     ]
    },
    {
     "name": "stderr",
     "output_type": "stream",
     "text": [
      "\r",
      "  6%|▌         | 1/18 [00:00<00:05,  2.90it/s]"
     ]
    },
    {
     "name": "stderr",
     "output_type": "stream",
     "text": [
      "\r",
      " 11%|█         | 2/18 [00:00<00:05,  3.02it/s]"
     ]
    },
    {
     "name": "stderr",
     "output_type": "stream",
     "text": [
      "\r",
      " 17%|█▋        | 3/18 [00:00<00:04,  3.18it/s]"
     ]
    },
    {
     "name": "stderr",
     "output_type": "stream",
     "text": [
      "\r",
      " 22%|██▏       | 4/18 [00:01<00:04,  3.26it/s]"
     ]
    },
    {
     "name": "stderr",
     "output_type": "stream",
     "text": [
      "\r",
      " 28%|██▊       | 5/18 [00:01<00:03,  3.34it/s]"
     ]
    },
    {
     "name": "stderr",
     "output_type": "stream",
     "text": [
      "\r",
      " 33%|███▎      | 6/18 [00:01<00:03,  3.35it/s]"
     ]
    },
    {
     "name": "stderr",
     "output_type": "stream",
     "text": [
      "\r",
      " 39%|███▉      | 7/18 [00:02<00:03,  3.40it/s]"
     ]
    },
    {
     "name": "stderr",
     "output_type": "stream",
     "text": [
      "\r",
      " 44%|████▍     | 8/18 [00:02<00:02,  3.42it/s]"
     ]
    },
    {
     "name": "stderr",
     "output_type": "stream",
     "text": [
      "\r",
      " 50%|█████     | 9/18 [00:02<00:02,  3.41it/s]"
     ]
    },
    {
     "name": "stderr",
     "output_type": "stream",
     "text": [
      "\r",
      " 56%|█████▌    | 10/18 [00:02<00:02,  3.41it/s]"
     ]
    },
    {
     "name": "stderr",
     "output_type": "stream",
     "text": [
      "\r",
      " 61%|██████    | 11/18 [00:03<00:02,  3.44it/s]"
     ]
    },
    {
     "name": "stderr",
     "output_type": "stream",
     "text": [
      "\r",
      " 67%|██████▋   | 12/18 [00:03<00:01,  3.47it/s]"
     ]
    },
    {
     "name": "stderr",
     "output_type": "stream",
     "text": [
      "\r",
      " 72%|███████▏  | 13/18 [00:03<00:01,  3.51it/s]"
     ]
    },
    {
     "name": "stderr",
     "output_type": "stream",
     "text": [
      "\r",
      " 78%|███████▊  | 14/18 [00:04<00:01,  3.54it/s]"
     ]
    },
    {
     "name": "stderr",
     "output_type": "stream",
     "text": [
      "\r",
      " 83%|████████▎ | 15/18 [00:04<00:00,  3.54it/s]"
     ]
    },
    {
     "name": "stderr",
     "output_type": "stream",
     "text": [
      "\r",
      " 89%|████████▉ | 16/18 [00:04<00:00,  3.57it/s]"
     ]
    },
    {
     "name": "stderr",
     "output_type": "stream",
     "text": [
      "\r",
      " 94%|█████████▍| 17/18 [00:04<00:00,  3.63it/s]"
     ]
    },
    {
     "name": "stderr",
     "output_type": "stream",
     "text": [
      "\r",
      "100%|██████████| 18/18 [00:05<00:00,  3.64it/s]"
     ]
    },
    {
     "name": "stderr",
     "output_type": "stream",
     "text": [
      "\r",
      "100%|██████████| 18/18 [00:05<00:00,  3.49it/s]"
     ]
    },
    {
     "name": "stderr",
     "output_type": "stream",
     "text": [
      "\n"
     ]
    }
   ],
   "source": [
    "def nj(df): return distance_construct_tree(df, 'nj')\n",
    "def upgma(df): return distance_construct_tree(df, 'upgma')\n",
    "\n",
    "trees = {\n",
    "    (treatment, algorithm): algorithm(group)\n",
    "    for treatment, group in tqdm(df.groupby('Treatment'))\n",
    "    for algorithm in (\n",
    "        # disabled nj due to obvious discrepancies\n",
    "        # with respect to origin time of internal nodes\n",
    "        # that break assertions\n",
    "        # nj,\n",
    "        upgma,\n",
    "    )\n",
    "}\n"
   ]
  },
  {
   "cell_type": "code",
   "execution_count": 17,
   "id": "504e0e80",
   "metadata": {
    "execution": {
     "iopub.execute_input": "2022-12-13T12:15:19.288014Z",
     "iopub.status.busy": "2022-12-13T12:15:19.287636Z",
     "iopub.status.idle": "2022-12-13T12:15:29.377043Z",
     "shell.execute_reply": "2022-12-13T12:15:29.376321Z"
    },
    "papermill": {
     "duration": 10.11534,
     "end_time": "2022-12-13T12:15:29.378616",
     "exception": false,
     "start_time": "2022-12-13T12:15:19.263276",
     "status": "completed"
    },
    "tags": []
   },
   "outputs": [
    {
     "data": {
      "image/png": "[encoded data removed]",
      "text/plain": [
       "<Figure size 432x288 with 1 Axes>"
      ]
     },
     "metadata": {
      "needs_background": "light"
     },
     "output_type": "display_data"
    },
    {
     "name": "stdout",
     "output_type": "stream",
     "text": [
      "teeplots/algorithm=upgma+treatment=differentia%1~policy%RecencyProportionalResolution~target%4096+viz=draw-biopython-tree-with-origin-time-bounds+ext=.pdf\n",
      "teeplots/algorithm=upgma+treatment=differentia%1~policy%RecencyProportionalResolution~target%4096+viz=draw-biopython-tree-with-origin-time-bounds+ext=.png\n"
     ]
    },
    {
     "data": {
      "text/plain": [
       "<Figure size 432x288 with 0 Axes>"
      ]
     },
     "metadata": {},
     "output_type": "display_data"
    },
    {
     "data": {
      "image/png": "[encoded data removed]",
      "text/plain": [
       "<Figure size 432x288 with 1 Axes>"
      ]
     },
     "metadata": {
      "needs_background": "light"
     },
     "output_type": "display_data"
    },
    {
     "name": "stdout",
     "output_type": "stream",
     "text": [
      "teeplots/algorithm=upgma+treatment=differentia%1~policy%RecencyProportionalResolution~target%512+viz=draw-biopython-tree-with-origin-time-bounds+ext=.pdf\n",
      "teeplots/algorithm=upgma+treatment=differentia%1~policy%RecencyProportionalResolution~target%512+viz=draw-biopython-tree-with-origin-time-bounds+ext=.png\n"
     ]
    },
    {
     "data": {
      "text/plain": [
       "<Figure size 432x288 with 0 Axes>"
      ]
     },
     "metadata": {},
     "output_type": "display_data"
    },
    {
     "data": {
      "image/png": "[encoded data removed]",
      "text/plain": [
       "<Figure size 432x288 with 1 Axes>"
      ]
     },
     "metadata": {
      "needs_background": "light"
     },
     "output_type": "display_data"
    },
    {
     "name": "stdout",
     "output_type": "stream",
     "text": [
      "teeplots/algorithm=upgma+treatment=differentia%1~policy%RecencyProportionalResolution~target%64+viz=draw-biopython-tree-with-origin-time-bounds+ext=.pdf\n",
      "teeplots/algorithm=upgma+treatment=differentia%1~policy%RecencyProportionalResolution~target%64+viz=draw-biopython-tree-with-origin-time-bounds+ext=.png\n"
     ]
    },
    {
     "data": {
      "text/plain": [
       "<Figure size 432x288 with 0 Axes>"
      ]
     },
     "metadata": {},
     "output_type": "display_data"
    },
    {
     "data": {
      "image/png": "[encoded data removed]",
      "text/plain": [
       "<Figure size 432x288 with 1 Axes>"
      ]
     },
     "metadata": {
      "needs_background": "light"
     },
     "output_type": "display_data"
    },
    {
     "name": "stdout",
     "output_type": "stream",
     "text": [
      "teeplots/algorithm=upgma+treatment=differentia%1~policy%TaperedDepthProportionalResolution~target%4096+viz=draw-biopython-tree-with-origin-time-bounds+ext=.pdf\n",
      "teeplots/algorithm=upgma+treatment=differentia%1~policy%TaperedDepthProportionalResolution~target%4096+viz=draw-biopython-tree-with-origin-time-bounds+ext=.png\n"
     ]
    },
    {
     "data": {
      "text/plain": [
       "<Figure size 432x288 with 0 Axes>"
      ]
     },
     "metadata": {},
     "output_type": "display_data"
    },
    {
     "data": {
      "image/png": "[encoded data removed]",
      "text/plain": [
       "<Figure size 432x288 with 1 Axes>"
      ]
     },
     "metadata": {
      "needs_background": "light"
     },
     "output_type": "display_data"
    },
    {
     "name": "stdout",
     "output_type": "stream",
     "text": [
      "teeplots/algorithm=upgma+treatment=differentia%1~policy%TaperedDepthProportionalResolution~target%512+viz=draw-biopython-tree-with-origin-time-bounds+ext=.pdf\n",
      "teeplots/algorithm=upgma+treatment=differentia%1~policy%TaperedDepthProportionalResolution~target%512+viz=draw-biopython-tree-with-origin-time-bounds+ext=.png\n"
     ]
    },
    {
     "data": {
      "text/plain": [
       "<Figure size 432x288 with 0 Axes>"
      ]
     },
     "metadata": {},
     "output_type": "display_data"
    },
    {
     "data": {
      "image/png": "[encoded data removed]",
      "text/plain": [
       "<Figure size 432x288 with 1 Axes>"
      ]
     },
     "metadata": {
      "needs_background": "light"
     },
     "output_type": "display_data"
    },
    {
     "name": "stdout",
     "output_type": "stream",
     "text": [
      "teeplots/algorithm=upgma+treatment=differentia%1~policy%TaperedDepthProportionalResolution~target%64+viz=draw-biopython-tree-with-origin-time-bounds+ext=.pdf\n",
      "teeplots/algorithm=upgma+treatment=differentia%1~policy%TaperedDepthProportionalResolution~target%64+viz=draw-biopython-tree-with-origin-time-bounds+ext=.png\n"
     ]
    },
    {
     "data": {
      "text/plain": [
       "<Figure size 432x288 with 0 Axes>"
      ]
     },
     "metadata": {},
     "output_type": "display_data"
    },
    {
     "data": {
      "image/png": "[encoded data removed]",
      "text/plain": [
       "<Figure size 432x288 with 1 Axes>"
      ]
     },
     "metadata": {
      "needs_background": "light"
     },
     "output_type": "display_data"
    },
    {
     "name": "stdout",
     "output_type": "stream",
     "text": [
      "teeplots/algorithm=upgma+treatment=differentia%64~policy%RecencyProportionalResolution~target%4096+viz=draw-biopython-tree-with-origin-time-bounds+ext=.pdf\n",
      "teeplots/algorithm=upgma+treatment=differentia%64~policy%RecencyProportionalResolution~target%4096+viz=draw-biopython-tree-with-origin-time-bounds+ext=.png\n"
     ]
    },
    {
     "data": {
      "text/plain": [
       "<Figure size 432x288 with 0 Axes>"
      ]
     },
     "metadata": {},
     "output_type": "display_data"
    },
    {
     "data": {
      "image/png": "[encoded data removed]",
      "text/plain": [
       "<Figure size 432x288 with 1 Axes>"
      ]
     },
     "metadata": {
      "needs_background": "light"
     },
     "output_type": "display_data"
    },
    {
     "name": "stdout",
     "output_type": "stream",
     "text": [
      "teeplots/algorithm=upgma+treatment=differentia%64~policy%RecencyProportionalResolution~target%512+viz=draw-biopython-tree-with-origin-time-bounds+ext=.pdf\n",
      "teeplots/algorithm=upgma+treatment=differentia%64~policy%RecencyProportionalResolution~target%512+viz=draw-biopython-tree-with-origin-time-bounds+ext=.png\n"
     ]
    },
    {
     "data": {
      "text/plain": [
       "<Figure size 432x288 with 0 Axes>"
      ]
     },
     "metadata": {},
     "output_type": "display_data"
    },
    {
     "data": {
      "image/png": "[encoded data removed]",
      "text/plain": [
       "<Figure size 432x288 with 1 Axes>"
      ]
     },
     "metadata": {
      "needs_background": "light"
     },
     "output_type": "display_data"
    },
    {
     "name": "stdout",
     "output_type": "stream",
     "text": [
      "teeplots/algorithm=upgma+treatment=differentia%64~policy%RecencyProportionalResolution~target%64+viz=draw-biopython-tree-with-origin-time-bounds+ext=.pdf\n",
      "teeplots/algorithm=upgma+treatment=differentia%64~policy%RecencyProportionalResolution~target%64+viz=draw-biopython-tree-with-origin-time-bounds+ext=.png\n"
     ]
    },
    {
     "data": {
      "text/plain": [
       "<Figure size 432x288 with 0 Axes>"
      ]
     },
     "metadata": {},
     "output_type": "display_data"
    },
    {
     "data": {
      "image/png": "[encoded data removed]",
      "text/plain": [
       "<Figure size 432x288 with 1 Axes>"
      ]
     },
     "metadata": {
      "needs_background": "light"
     },
     "output_type": "display_data"
    },
    {
     "name": "stdout",
     "output_type": "stream",
     "text": [
      "teeplots/algorithm=upgma+treatment=differentia%64~policy%TaperedDepthProportionalResolution~target%4096+viz=draw-biopython-tree-with-origin-time-bounds+ext=.pdf\n",
      "teeplots/algorithm=upgma+treatment=differentia%64~policy%TaperedDepthProportionalResolution~target%4096+viz=draw-biopython-tree-with-origin-time-bounds+ext=.png\n"
     ]
    },
    {
     "data": {
      "text/plain": [
       "<Figure size 432x288 with 0 Axes>"
      ]
     },
     "metadata": {},
     "output_type": "display_data"
    },
    {
     "data": {
      "image/png": "[encoded data removed]",
      "text/plain": [
       "<Figure size 432x288 with 1 Axes>"
      ]
     },
     "metadata": {
      "needs_background": "light"
     },
     "output_type": "display_data"
    },
    {
     "name": "stdout",
     "output_type": "stream",
     "text": [
      "teeplots/algorithm=upgma+treatment=differentia%64~policy%TaperedDepthProportionalResolution~target%512+viz=draw-biopython-tree-with-origin-time-bounds+ext=.pdf\n",
      "teeplots/algorithm=upgma+treatment=differentia%64~policy%TaperedDepthProportionalResolution~target%512+viz=draw-biopython-tree-with-origin-time-bounds+ext=.png\n"
     ]
    },
    {
     "data": {
      "text/plain": [
       "<Figure size 432x288 with 0 Axes>"
      ]
     },
     "metadata": {},
     "output_type": "display_data"
    },
    {
     "data": {
      "image/png": "[encoded data removed]",
      "text/plain": [
       "<Figure size 432x288 with 1 Axes>"
      ]
     },
     "metadata": {
      "needs_background": "light"
     },
     "output_type": "display_data"
    },
    {
     "name": "stdout",
     "output_type": "stream",
     "text": [
      "teeplots/algorithm=upgma+treatment=differentia%64~policy%TaperedDepthProportionalResolution~target%64+viz=draw-biopython-tree-with-origin-time-bounds+ext=.pdf\n",
      "teeplots/algorithm=upgma+treatment=differentia%64~policy%TaperedDepthProportionalResolution~target%64+viz=draw-biopython-tree-with-origin-time-bounds+ext=.png\n"
     ]
    },
    {
     "data": {
      "text/plain": [
       "<Figure size 432x288 with 0 Axes>"
      ]
     },
     "metadata": {},
     "output_type": "display_data"
    },
    {
     "data": {
      "image/png": "[encoded data removed]",
      "text/plain": [
       "<Figure size 432x288 with 1 Axes>"
      ]
     },
     "metadata": {
      "needs_background": "light"
     },
     "output_type": "display_data"
    },
    {
     "name": "stdout",
     "output_type": "stream",
     "text": [
      "teeplots/algorithm=upgma+treatment=differentia%8~policy%RecencyProportionalResolution~target%4096+viz=draw-biopython-tree-with-origin-time-bounds+ext=.pdf\n",
      "teeplots/algorithm=upgma+treatment=differentia%8~policy%RecencyProportionalResolution~target%4096+viz=draw-biopython-tree-with-origin-time-bounds+ext=.png\n"
     ]
    },
    {
     "data": {
      "text/plain": [
       "<Figure size 432x288 with 0 Axes>"
      ]
     },
     "metadata": {},
     "output_type": "display_data"
    },
    {
     "data": {
      "image/png": "[encoded data removed]",
      "text/plain": [
       "<Figure size 432x288 with 1 Axes>"
      ]
     },
     "metadata": {
      "needs_background": "light"
     },
     "output_type": "display_data"
    },
    {
     "name": "stdout",
     "output_type": "stream",
     "text": [
      "teeplots/algorithm=upgma+treatment=differentia%8~policy%RecencyProportionalResolution~target%512+viz=draw-biopython-tree-with-origin-time-bounds+ext=.pdf\n",
      "teeplots/algorithm=upgma+treatment=differentia%8~policy%RecencyProportionalResolution~target%512+viz=draw-biopython-tree-with-origin-time-bounds+ext=.png\n"
     ]
    },
    {
     "data": {
      "text/plain": [
       "<Figure size 432x288 with 0 Axes>"
      ]
     },
     "metadata": {},
     "output_type": "display_data"
    },
    {
     "data": {
      "image/png": "[encoded data removed]",
      "text/plain": [
       "<Figure size 432x288 with 1 Axes>"
      ]
     },
     "metadata": {
      "needs_background": "light"
     },
     "output_type": "display_data"
    },
    {
     "name": "stdout",
     "output_type": "stream",
     "text": [
      "teeplots/algorithm=upgma+treatment=differentia%8~policy%RecencyProportionalResolution~target%64+viz=draw-biopython-tree-with-origin-time-bounds+ext=.pdf\n",
      "teeplots/algorithm=upgma+treatment=differentia%8~policy%RecencyProportionalResolution~target%64+viz=draw-biopython-tree-with-origin-time-bounds+ext=.png\n"
     ]
    },
    {
     "data": {
      "text/plain": [
       "<Figure size 432x288 with 0 Axes>"
      ]
     },
     "metadata": {},
     "output_type": "display_data"
    },
    {
     "data": {
      "image/png": "[encoded data removed]",
      "text/plain": [
       "<Figure size 432x288 with 1 Axes>"
      ]
     },
     "metadata": {
      "needs_background": "light"
     },
     "output_type": "display_data"
    },
    {
     "name": "stdout",
     "output_type": "stream",
     "text": [
      "teeplots/algorithm=upgma+treatment=differentia%8~policy%TaperedDepthProportionalResolution~target%4096+viz=draw-biopython-tree-with-origin-time-bounds+ext=.pdf\n",
      "teeplots/algorithm=upgma+treatment=differentia%8~policy%TaperedDepthProportionalResolution~target%4096+viz=draw-biopython-tree-with-origin-time-bounds+ext=.png\n"
     ]
    },
    {
     "data": {
      "text/plain": [
       "<Figure size 432x288 with 0 Axes>"
      ]
     },
     "metadata": {},
     "output_type": "display_data"
    },
    {
     "data": {
      "image/png": "[encoded data removed]",
      "text/plain": [
       "<Figure size 432x288 with 1 Axes>"
      ]
     },
     "metadata": {
      "needs_background": "light"
     },
     "output_type": "display_data"
    },
    {
     "name": "stdout",
     "output_type": "stream",
     "text": [
      "teeplots/algorithm=upgma+treatment=differentia%8~policy%TaperedDepthProportionalResolution~target%512+viz=draw-biopython-tree-with-origin-time-bounds+ext=.pdf\n",
      "teeplots/algorithm=upgma+treatment=differentia%8~policy%TaperedDepthProportionalResolution~target%512+viz=draw-biopython-tree-with-origin-time-bounds+ext=.png\n"
     ]
    },
    {
     "data": {
      "text/plain": [
       "<Figure size 432x288 with 0 Axes>"
      ]
     },
     "metadata": {},
     "output_type": "display_data"
    },
    {
     "data": {
      "image/png": "[encoded data removed]",
      "text/plain": [
       "<Figure size 432x288 with 1 Axes>"
      ]
     },
     "metadata": {
      "needs_background": "light"
     },
     "output_type": "display_data"
    },
    {
     "name": "stdout",
     "output_type": "stream",
     "text": [
      "teeplots/algorithm=upgma+treatment=differentia%8~policy%TaperedDepthProportionalResolution~target%64+viz=draw-biopython-tree-with-origin-time-bounds+ext=.pdf\n",
      "teeplots/algorithm=upgma+treatment=differentia%8~policy%TaperedDepthProportionalResolution~target%64+viz=draw-biopython-tree-with-origin-time-bounds+ext=.png\n"
     ]
    },
    {
     "data": {
      "text/plain": [
       "<Figure size 432x288 with 0 Axes>"
      ]
     },
     "metadata": {},
     "output_type": "display_data"
    }
   ],
   "source": [
    "taxon_rename_dict = {\n",
    "    str(taxon): np.base_repr(i, 36).lower()\n",
    "    for i, taxon\n",
    "    in enumerate(sorted(df['Taxon Compared From'].unique()))\n",
    "}\n",
    "for (treatment, algorithm), tree in trees.items():\n",
    "    tp.tee(\n",
    "        draw_biopython_tree_with_origin_time_bounds,\n",
    "        tree,\n",
    "        label_func=lambda node: None if 'Inner' in str(node) else taxon_rename_dict[str(node)],\n",
    "        teeplot_outattrs={\n",
    "            'algorithm' : algorithm.__name__,\n",
    "            'treatment' : kn.demote(treatment),\n",
    "        },\n",
    "    )\n",
    "    plt.show()\n"
   ]
  },
  {
   "cell_type": "code",
   "execution_count": 18,
   "id": "5f208d1b",
   "metadata": {
    "execution": {
     "iopub.execute_input": "2022-12-13T12:15:29.470067Z",
     "iopub.status.busy": "2022-12-13T12:15:29.469743Z",
     "iopub.status.idle": "2022-12-13T12:15:29.522851Z",
     "shell.execute_reply": "2022-12-13T12:15:29.522124Z"
    },
    "papermill": {
     "duration": 0.100807,
     "end_time": "2022-12-13T12:15:29.524570",
     "exception": false,
     "start_time": "2022-12-13T12:15:29.423763",
     "status": "completed"
    },
    "tags": []
   },
   "outputs": [],
   "source": [
    "alife_dataframes = {\n",
    "    (treatment, algorithm): apc.biopython_tree_to_alife_dataframe(\n",
    "        tree,\n",
    "        exportattrs={\n",
    "            'origin_time_lb': 'Origin Time Lower Bound (Inclusive)',\n",
    "            'origin_time_ub': 'Origin Time Upper Bound (Exclusive)',\n",
    "            'origin_time_est': 'Origin Time Estimate',\n",
    "        }\n",
    "    )\n",
    "    for (treatment, algorithm), tree in trees.items()\n",
    "}\n",
    "for (treatment, algorithm), df in alife_dataframes.items():\n",
    "    df['Treatment'] = treatment\n",
    "    df['Algorithm'] = algorithm\n"
   ]
  },
  {
   "cell_type": "code",
   "execution_count": 19,
   "id": "1fe372a5",
   "metadata": {
    "execution": {
     "iopub.execute_input": "2022-12-13T12:15:29.621753Z",
     "iopub.status.busy": "2022-12-13T12:15:29.621427Z",
     "iopub.status.idle": "2022-12-13T12:15:29.644007Z",
     "shell.execute_reply": "2022-12-13T12:15:29.642987Z"
    },
    "papermill": {
     "duration": 0.07446,
     "end_time": "2022-12-13T12:15:29.646273",
     "exception": false,
     "start_time": "2022-12-13T12:15:29.571813",
     "status": "completed"
    },
    "tags": []
   },
   "outputs": [],
   "source": [
    "res_df = pd.concat(alife_dataframes.values()).reset_index()\n"
   ]
  },
  {
   "cell_type": "code",
   "execution_count": 20,
   "id": "7864c5d6",
   "metadata": {
    "execution": {
     "iopub.execute_input": "2022-12-13T12:15:29.752163Z",
     "iopub.status.busy": "2022-12-13T12:15:29.751756Z",
     "iopub.status.idle": "2022-12-13T12:15:29.777131Z",
     "shell.execute_reply": "2022-12-13T12:15:29.776608Z"
    },
    "papermill": {
     "duration": 0.0798,
     "end_time": "2022-12-13T12:15:29.778734",
     "exception": false,
     "start_time": "2022-12-13T12:15:29.698934",
     "status": "completed"
    },
    "tags": []
   },
   "outputs": [
    {
     "data": {
      "text/html": [
       "<div>\n",
       "<style scoped>\n",
       "    .dataframe tbody tr th:only-of-type {\n",
       "        vertical-align: middle;\n",
       "    }\n",
       "\n",
       "    .dataframe tbody tr th {\n",
       "        vertical-align: top;\n",
       "    }\n",
       "\n",
       "    .dataframe thead th {\n",
       "        text-align: right;\n",
       "    }\n",
       "</style>\n",
       "<table border=\"1\" class=\"dataframe\">\n",
       "  <thead>\n",
       "    <tr style=\"text-align: right;\">\n",
       "      <th></th>\n",
       "      <th>index</th>\n",
       "      <th>id</th>\n",
       "      <th>ancestor_list</th>\n",
       "      <th>origin_time</th>\n",
       "      <th>branch_length</th>\n",
       "      <th>name</th>\n",
       "      <th>Origin Time Lower Bound (Inclusive)</th>\n",
       "      <th>Origin Time Upper Bound (Exclusive)</th>\n",
       "      <th>Origin Time Estimate</th>\n",
       "      <th>Treatment</th>\n",
       "      <th>Algorithm</th>\n",
       "    </tr>\n",
       "  </thead>\n",
       "  <tbody>\n",
       "    <tr>\n",
       "      <th>0</th>\n",
       "      <td>0</td>\n",
       "      <td>0</td>\n",
       "      <td>[None]</td>\n",
       "      <td>1.5</td>\n",
       "      <td>1.5</td>\n",
       "      <td>Inner23</td>\n",
       "      <td>0.0</td>\n",
       "      <td>4.0</td>\n",
       "      <td>1.5</td>\n",
       "      <td>differentia=1+policy=RecencyProportionalResolu...</td>\n",
       "      <td>&lt;function upgma at 0x7fc0ac296b80&gt;</td>\n",
       "    </tr>\n",
       "    <tr>\n",
       "      <th>1</th>\n",
       "      <td>1</td>\n",
       "      <td>1</td>\n",
       "      <td>[0]</td>\n",
       "      <td>87.0</td>\n",
       "      <td>85.5</td>\n",
       "      <td>Inner21</td>\n",
       "      <td>85.0</td>\n",
       "      <td>90.0</td>\n",
       "      <td>87.0</td>\n",
       "      <td>differentia=1+policy=RecencyProportionalResolu...</td>\n",
       "      <td>&lt;function upgma at 0x7fc0ac296b80&gt;</td>\n",
       "    </tr>\n",
       "    <tr>\n",
       "      <th>2</th>\n",
       "      <td>2</td>\n",
       "      <td>2</td>\n",
       "      <td>[1]</td>\n",
       "      <td>351.0</td>\n",
       "      <td>264.0</td>\n",
       "      <td>Inner19</td>\n",
       "      <td>349.0</td>\n",
       "      <td>354.0</td>\n",
       "      <td>351.0</td>\n",
       "      <td>differentia=1+policy=RecencyProportionalResolu...</td>\n",
       "      <td>&lt;function upgma at 0x7fc0ac296b80&gt;</td>\n",
       "    </tr>\n",
       "    <tr>\n",
       "      <th>3</th>\n",
       "      <td>3</td>\n",
       "      <td>3</td>\n",
       "      <td>[2]</td>\n",
       "      <td>483.0</td>\n",
       "      <td>132.0</td>\n",
       "      <td>Inner3</td>\n",
       "      <td>481.0</td>\n",
       "      <td>486.0</td>\n",
       "      <td>483.0</td>\n",
       "      <td>differentia=1+policy=RecencyProportionalResolu...</td>\n",
       "      <td>&lt;function upgma at 0x7fc0ac296b80&gt;</td>\n",
       "    </tr>\n",
       "    <tr>\n",
       "      <th>4</th>\n",
       "      <td>4</td>\n",
       "      <td>4</td>\n",
       "      <td>[3]</td>\n",
       "      <td>495.0</td>\n",
       "      <td>12.0</td>\n",
       "      <td>4686</td>\n",
       "      <td>495.0</td>\n",
       "      <td>496.0</td>\n",
       "      <td>495.0</td>\n",
       "      <td>differentia=1+policy=RecencyProportionalResolu...</td>\n",
       "      <td>&lt;function upgma at 0x7fc0ac296b80&gt;</td>\n",
       "    </tr>\n",
       "    <tr>\n",
       "      <th>...</th>\n",
       "      <td>...</td>\n",
       "      <td>...</td>\n",
       "      <td>...</td>\n",
       "      <td>...</td>\n",
       "      <td>...</td>\n",
       "      <td>...</td>\n",
       "      <td>...</td>\n",
       "      <td>...</td>\n",
       "      <td>...</td>\n",
       "      <td>...</td>\n",
       "      <td>...</td>\n",
       "    </tr>\n",
       "    <tr>\n",
       "      <th>838</th>\n",
       "      <td>42</td>\n",
       "      <td>42</td>\n",
       "      <td>[40]</td>\n",
       "      <td>472.0</td>\n",
       "      <td>0.5</td>\n",
       "      <td>Inner2</td>\n",
       "      <td>448.0</td>\n",
       "      <td>497.0</td>\n",
       "      <td>472.0</td>\n",
       "      <td>differentia=8+policy=TaperedDepthProportionalR...</td>\n",
       "      <td>&lt;function upgma at 0x7fc0ac296b80&gt;</td>\n",
       "    </tr>\n",
       "    <tr>\n",
       "      <th>839</th>\n",
       "      <td>43</td>\n",
       "      <td>43</td>\n",
       "      <td>[42]</td>\n",
       "      <td>497.0</td>\n",
       "      <td>25.0</td>\n",
       "      <td>4694</td>\n",
       "      <td>497.0</td>\n",
       "      <td>498.0</td>\n",
       "      <td>497.0</td>\n",
       "      <td>differentia=8+policy=TaperedDepthProportionalR...</td>\n",
       "      <td>&lt;function upgma at 0x7fc0ac296b80&gt;</td>\n",
       "    </tr>\n",
       "    <tr>\n",
       "      <th>840</th>\n",
       "      <td>44</td>\n",
       "      <td>44</td>\n",
       "      <td>[42]</td>\n",
       "      <td>498.0</td>\n",
       "      <td>26.0</td>\n",
       "      <td>4701</td>\n",
       "      <td>498.0</td>\n",
       "      <td>499.0</td>\n",
       "      <td>498.0</td>\n",
       "      <td>differentia=8+policy=TaperedDepthProportionalR...</td>\n",
       "      <td>&lt;function upgma at 0x7fc0ac296b80&gt;</td>\n",
       "    </tr>\n",
       "    <tr>\n",
       "      <th>841</th>\n",
       "      <td>45</td>\n",
       "      <td>45</td>\n",
       "      <td>[39]</td>\n",
       "      <td>499.0</td>\n",
       "      <td>27.0</td>\n",
       "      <td>4721</td>\n",
       "      <td>499.0</td>\n",
       "      <td>500.0</td>\n",
       "      <td>499.0</td>\n",
       "      <td>differentia=8+policy=TaperedDepthProportionalR...</td>\n",
       "      <td>&lt;function upgma at 0x7fc0ac296b80&gt;</td>\n",
       "    </tr>\n",
       "    <tr>\n",
       "      <th>842</th>\n",
       "      <td>46</td>\n",
       "      <td>46</td>\n",
       "      <td>[38]</td>\n",
       "      <td>501.0</td>\n",
       "      <td>29.0</td>\n",
       "      <td>4739</td>\n",
       "      <td>501.0</td>\n",
       "      <td>502.0</td>\n",
       "      <td>501.0</td>\n",
       "      <td>differentia=8+policy=TaperedDepthProportionalR...</td>\n",
       "      <td>&lt;function upgma at 0x7fc0ac296b80&gt;</td>\n",
       "    </tr>\n",
       "  </tbody>\n",
       "</table>\n",
       "<p>843 rows × 11 columns</p>\n",
       "</div>"
      ],
      "text/plain": [
       "     index  id ancestor_list  origin_time  branch_length     name  \\\n",
       "0        0   0        [None]          1.5            1.5  Inner23   \n",
       "1        1   1           [0]         87.0           85.5  Inner21   \n",
       "2        2   2           [1]        351.0          264.0  Inner19   \n",
       "3        3   3           [2]        483.0          132.0   Inner3   \n",
       "4        4   4           [3]        495.0           12.0     4686   \n",
       "..     ...  ..           ...          ...            ...      ...   \n",
       "838     42  42          [40]        472.0            0.5   Inner2   \n",
       "839     43  43          [42]        497.0           25.0     4694   \n",
       "840     44  44          [42]        498.0           26.0     4701   \n",
       "841     45  45          [39]        499.0           27.0     4721   \n",
       "842     46  46          [38]        501.0           29.0     4739   \n",
       "\n",
       "     Origin Time Lower Bound (Inclusive)  Origin Time Upper Bound (Exclusive)  \\\n",
       "0                                    0.0                                  4.0   \n",
       "1                                   85.0                                 90.0   \n",
       "2                                  349.0                                354.0   \n",
       "3                                  481.0                                486.0   \n",
       "4                                  495.0                                496.0   \n",
       "..                                   ...                                  ...   \n",
       "838                                448.0                                497.0   \n",
       "839                                497.0                                498.0   \n",
       "840                                498.0                                499.0   \n",
       "841                                499.0                                500.0   \n",
       "842                                501.0                                502.0   \n",
       "\n",
       "     Origin Time Estimate                                          Treatment  \\\n",
       "0                     1.5  differentia=1+policy=RecencyProportionalResolu...   \n",
       "1                    87.0  differentia=1+policy=RecencyProportionalResolu...   \n",
       "2                   351.0  differentia=1+policy=RecencyProportionalResolu...   \n",
       "3                   483.0  differentia=1+policy=RecencyProportionalResolu...   \n",
       "4                   495.0  differentia=1+policy=RecencyProportionalResolu...   \n",
       "..                    ...                                                ...   \n",
       "838                 472.0  differentia=8+policy=TaperedDepthProportionalR...   \n",
       "839                 497.0  differentia=8+policy=TaperedDepthProportionalR...   \n",
       "840                 498.0  differentia=8+policy=TaperedDepthProportionalR...   \n",
       "841                 499.0  differentia=8+policy=TaperedDepthProportionalR...   \n",
       "842                 501.0  differentia=8+policy=TaperedDepthProportionalR...   \n",
       "\n",
       "                              Algorithm  \n",
       "0    <function upgma at 0x7fc0ac296b80>  \n",
       "1    <function upgma at 0x7fc0ac296b80>  \n",
       "2    <function upgma at 0x7fc0ac296b80>  \n",
       "3    <function upgma at 0x7fc0ac296b80>  \n",
       "4    <function upgma at 0x7fc0ac296b80>  \n",
       "..                                  ...  \n",
       "838  <function upgma at 0x7fc0ac296b80>  \n",
       "839  <function upgma at 0x7fc0ac296b80>  \n",
       "840  <function upgma at 0x7fc0ac296b80>  \n",
       "841  <function upgma at 0x7fc0ac296b80>  \n",
       "842  <function upgma at 0x7fc0ac296b80>  \n",
       "\n",
       "[843 rows x 11 columns]"
      ]
     },
     "execution_count": 20,
     "metadata": {},
     "output_type": "execute_result"
    }
   ],
   "source": [
    "res_df\n"
   ]
  },
  {
   "cell_type": "code",
   "execution_count": 21,
   "id": "008e7342",
   "metadata": {
    "execution": {
     "iopub.execute_input": "2022-12-13T12:15:29.881083Z",
     "iopub.status.busy": "2022-12-13T12:15:29.880806Z",
     "iopub.status.idle": "2022-12-13T12:15:29.913845Z",
     "shell.execute_reply": "2022-12-13T12:15:29.913078Z"
    },
    "papermill": {
     "duration": 0.088045,
     "end_time": "2022-12-13T12:15:29.915828",
     "exception": false,
     "start_time": "2022-12-13T12:15:29.827783",
     "status": "completed"
    },
    "tags": []
   },
   "outputs": [
    {
     "name": "stdout",
     "output_type": "stream",
     "text": [
      "digest: 2f65677ab47d2cc6301bec6be8e92ed805bc391113770eb7a586b39af4318666\n",
      "manifest:\n",
      "  Algorithm: '                           1#    ex., <function upgma at 0x7fc0ac296b80>'\n",
      "  Origin Time Estimate: '                112#  ex., 1.5'\n",
      "  Origin Time Lower Bound (Inclusive): ' 82#   ex., 0.0'\n",
      "  Origin Time Upper Bound (Exclusive): ' 72#   ex., 4.0'\n",
      "  Treatment: '                           18#   ex., differentia=1+policy=RecencyProportionalResolution+target=4096'\n",
      "  ancestor_list: '                       43#   ex., [None]'\n",
      "  branch_length: '                       184#  ex., 1.5'\n",
      "  id: '                                  47#   ex., 0'\n",
      "  index: '                               47#   ex., 0'\n",
      "  name: '                                47#   ex., Inner23'\n",
      "  origin_time: '                         112#  ex., 1.5'\n",
      "num cols: 11\n",
      "num cols all na: 0\n",
      "num cols any na: 0\n",
      "num na: 0\n",
      "num rows: 843\n",
      "num rows all na: 0\n",
      "num rows any na: 0\n",
      "size: 352K\n",
      "\n"
     ]
    }
   ],
   "source": [
    "nbm.print_dataframe_synopsis(res_df)\n"
   ]
  },
  {
   "cell_type": "code",
   "execution_count": 22,
   "id": "62463760",
   "metadata": {
    "execution": {
     "iopub.execute_input": "2022-12-13T12:15:30.013974Z",
     "iopub.status.busy": "2022-12-13T12:15:30.013382Z",
     "iopub.status.idle": "2022-12-13T12:15:30.042352Z",
     "shell.execute_reply": "2022-12-13T12:15:30.041817Z"
    },
    "papermill": {
     "duration": 0.079061,
     "end_time": "2022-12-13T12:15:30.044215",
     "exception": false,
     "start_time": "2022-12-13T12:15:29.965154",
     "status": "completed"
    },
    "tags": []
   },
   "outputs": [],
   "source": [
    "res_df.to_csv(\n",
    "    f'a=reconstructed_phylogenies+source={kn.unpack(data_filename)[\"source\"]}',\n",
    "    compression='gzip',\n",
    ")\n",
    "res_df.to_csv(\n",
    "    f'a=reconstructed_phylogenies+source={kn.unpack(data_filename)[\"source\"][:-len(\".gz\")]}',\n",
    ")\n"
   ]
  }
 ],
 "metadata": {
  "kernelspec": {
   "display_name": "Python 3",
   "language": "python",
   "name": "python3"
  },
  "papermill": {
   "default_parameters": {},
   "duration": null,
   "end_time": null,
   "environment_variables": {},
   "exception": null,
   "input_path": "/opt/hereditary-stratigraph-concept/binder/phylogenetic-inference/phylogeny_reconstruction_mill.ipynb",
   "output_path": "executing.endomill.ipynb",
   "parameters": {
    "data_url": "https://github.com/mmore500/hereditary-stratigraph-concept/blob/f21c71cc31c6cc3eed4bbd47bfce2208020ce930/binder/phylogenetic-inference/a=pairwise_mrca_estimates+source=nk_lexicaseselection_seed110_pop165_mut.01_snapshot_500.csv.gz"
   },
   "start_time": "2022-12-13T12:15:09.634659",
   "version": "2.3.4"
  }
 },
 "nbformat": 4,
 "nbformat_minor": 5
}