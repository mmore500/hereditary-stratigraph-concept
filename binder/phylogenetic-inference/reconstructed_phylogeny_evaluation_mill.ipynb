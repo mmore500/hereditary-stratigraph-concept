{
 "cells": [
  {
   "cell_type": "code",
   "execution_count": null,
   "metadata": {},
   "outputs": [],
   "source": [
    "import endomill\n",
    "from nbmetalog import nbmetalog as nbm\n"
   ]
  },
  {
   "cell_type": "code",
   "execution_count": null,
   "metadata": {},
   "outputs": [],
   "source": [
    "nbm.print_metadata()\n"
   ]
  },
  {
   "cell_type": "code",
   "execution_count": null,
   "metadata": {},
   "outputs": [],
   "source": [
    "prefix = (\n",
    "    'https://github.com/mmore500/hereditary-stratigraph-concept/'\n",
    "    'blob/7f28f68696c67737f6f18054c121769ff616758e/'\n",
    "    'binder/phylogenetic-inference/'\n",
    ")\n",
    "reconstructed_phylogeny_urls = [\n",
    "    prefix + 'a=reconstructed_phylogenies+source=nk_lexicaseselection_seed110_pop165_mut.01_snapshot_500.csv.gz',\n",
    "    prefix + 'a=reconstructed_phylogenies+source=nk_randomselection_seed7_pop100_mut.01_snapshot_5000.csv.gz',\n",
    "    prefix + 'a=reconstructed_phylogenies+source=nk_sharingselection_seed10_pop100_mut.01_snapshot_5000.csv.gz',\n",
    "    prefix + 'a=reconstructed_phylogenies+source=nk_tournamentselection_seed140_pop100_mut.01_snapshot_5000.csv.gz',\n",
    "]\n",
    "\n",
    "original_phylogeny_urls = [\n",
    "            # nk_ecoeaselection_seed110_pop100_mut.01_snapshot_3000.csv\n",
    "#             'https://osf.io/5d3be/',\n",
    "            # nk_lexicaseselection_seed110_pop165_mut.01_snapshot_500.csv\n",
    "            'https://osf.io/8ycq7/',\n",
    "            # nk_randomselection_seed7_pop100_mut.01_snapshot_5000.csv\n",
    "            'https://osf.io/ydxt7/',\n",
    "            # nk_sharingselection_seed10_pop100_mut.01_snapshot_5000.csv\n",
    "            'https://osf.io/cz9fk/',\n",
    "            # nk_tournamentselection_seed140_pop100_mut.01_snapshot_5000.csv\n",
    "            'https://osf.io/5ubn8/',\n",
    "]\n",
    "\n",
    "endomill.instantiate_over(\n",
    "    parameter_packs=[\n",
    "        {\n",
    "            'reconstructed_phylogeny_url': reconstructed_phylogeny_url,\n",
    "            'original_phylogeny_url': original_phylogeny_url,\n",
    "        }\n",
    "        for reconstructed_phylogeny_url, original_phylogeny_url\n",
    "        in zip(reconstructed_phylogeny_urls, original_phylogeny_urls)\n",
    "    ],\n",
    ")\n"
   ]
  },
  {
   "cell_type": "code",
   "execution_count": null,
   "metadata": {},
   "outputs": [],
   "source": [
    "#define papermil parameters\n",
    "reconstructed_phylogeny_url: str\n",
    "original_phylogeny_url: str\n",
    "\n",
    "# reconstructed_phylogeny_url = reconstructed_phylogeny_urls[0]\n",
    "# original_phylogeny_url = original_phylogeny_urls[0]\n"
   ]
  },
  {
   "cell_type": "code",
   "execution_count": null,
   "metadata": {},
   "outputs": [],
   "source": [
    "import alifedata_phyloinformatics_convert as apc\n",
    "from Bio import Phylo\n",
    "import dendropy\n",
    "from iterpop import iterpop as ip\n",
    "from keyname import keyname as kn\n",
    "from os.path import basename\n",
    "import pandas as pd\n",
    "import sys\n"
   ]
  },
  {
   "cell_type": "code",
   "execution_count": null,
   "metadata": {},
   "outputs": [],
   "source": [
    "sys.setrecursionlimit(100000) # data exceeds default recursion limit\n"
   ]
  },
  {
   "cell_type": "code",
   "execution_count": null,
   "metadata": {},
   "outputs": [],
   "source": [
    "nbm.print_metadata()\n"
   ]
  },
  {
   "cell_type": "code",
   "execution_count": null,
   "metadata": {},
   "outputs": [],
   "source": [
    "original_df = pd.read_csv(\n",
    "    f'{original_phylogeny_url}/download',\n",
    ")\n",
    "\n",
    "original_df['name'] = original_df['id'].astype(str)\n",
    "original_df['taxon_label'] = original_df['id'].astype(str)\n",
    "\n",
    "nbm.print_dataframe_synopsis(original_df)\n"
   ]
  },
  {
   "cell_type": "code",
   "execution_count": null,
   "metadata": {},
   "outputs": [],
   "source": [
    "reconstructed_df = pd.read_csv(\n",
    "    f'{reconstructed_phylogeny_url}?raw=true',\n",
    "    compression='gzip',\n",
    ")\n",
    "reconstructed_df['taxon_label'] = reconstructed_df['name']\n",
    "reconstructed_df['Instance'] = reconstructed_df.apply(\n",
    "    lambda row: row['Treatment'] + row['Algorithm'],\n",
    "    axis=1,\n",
    ")\n",
    "\n",
    "nbm.print_dataframe_synopsis(reconstructed_df)\n",
    "\n",
    "data_filename = basename(reconstructed_phylogeny_url)\n",
    "\n",
    "print(data_filename)\n"
   ]
  },
  {
   "cell_type": "code",
   "execution_count": null,
   "metadata": {},
   "outputs": [],
   "source": [
    "endomill.add_instance_outpath(\n",
    "    f'a=reconstructed_phylogeny_evaluation+source={kn.unpack(data_filename)[\"source\"]}.endomill.ipynb',\n",
    ")\n"
   ]
  },
  {
   "cell_type": "code",
   "execution_count": null,
   "metadata": {},
   "outputs": [],
   "source": [
    "#TODO: teeplot\n",
    "actual_tree = apc.alife_dataframe_to_biopython_tree(original_df)\n",
    "for inner_node in actual_tree.get_nonterminals():\n",
    "    inner_node.name = None\n",
    "Phylo.draw(actual_tree)\n",
    "for instance, group in reconstructed_df.groupby('Instance'):\n",
    "    tree = apc.alife_dataframe_to_biopython_tree(group)\n",
    "    tree.root_at_midpoint()\n",
    "    Phylo.draw(\n",
    "        tree,\n",
    "        label_func=lambda node: None if 'Inner' in str(node) else str(node),\n",
    "    )\n"
   ]
  },
  {
   "cell_type": "code",
   "execution_count": null,
   "metadata": {},
   "outputs": [],
   "source": [
    "actual_tree = apc.alife_dataframe_to_dendropy_tree(original_df)\n",
    "for inner_node in actual_tree.internal_nodes():\n",
    "    inner_node.taxon = None\n",
    "\n",
    "records = []\n",
    "for instance, group in reconstructed_df.groupby('Instance'):\n",
    "    tree = apc.alife_dataframe_to_dendropy_tree(group)\n",
    "    tree.migrate_taxon_namespace(actual_tree.taxon_namespace)\n",
    "    unweighted_robinson_foulds = dendropy.calculate.treecompare.unweighted_robinson_foulds_distance(\n",
    "        actual_tree,\n",
    "        tree,\n",
    "    )\n",
    "#     weighted_robinson_foulds = dendropy.calculate.treecompare.weighted_robinson_foulds_distance(\n",
    "#         actual_tree,\n",
    "#         tree,\n",
    "#     )\n",
    "#     euclidean = dendropy.calculate.treecompare.euclidean_distance(\n",
    "#         actual_tree,\n",
    "#         tree,\n",
    "#     )\n",
    "\n",
    "    records.append({\n",
    "        **{\n",
    "            'Instance': 'Instance',\n",
    "            'Algorithm': ip.popsingleton(group['Algorithm'].unique()),\n",
    "            'Treatment': ip.popsingleton(group['Treatment'].unique()),\n",
    "            'Unweighted Robinson Foulds Distance Error': unweighted_robinson_foulds,\n",
    "#             'Weighted Robinson Foulds Distance Error': weighted_robinson_foulds,\n",
    "#             'Euclidean Distance Error': euclidean,\n",
    "        },\n",
    "        **kn.unpack(ip.popsingleton(group['Treatment'].unique())),\n",
    "    })\n",
    "\n",
    "\n",
    "res_df = pd.DataFrame.from_records(records)\n"
   ]
  },
  {
   "cell_type": "code",
   "execution_count": null,
   "metadata": {},
   "outputs": [],
   "source": [
    "res_df\n"
   ]
  },
  {
   "cell_type": "code",
   "execution_count": null,
   "metadata": {},
   "outputs": [],
   "source": [
    "nbm.print_dataframe_synopsis(res_df)\n"
   ]
  },
  {
   "cell_type": "code",
   "execution_count": null,
   "metadata": {},
   "outputs": [],
   "source": [
    "res_df.to_csv(\n",
    "    f'a=reconstructed_phylogeny_evaluation+source={kn.unpack(data_filename)[\"source\"]}',\n",
    "    compression='gzip',\n",
    ")\n"
   ]
  }
 ],
 "metadata": {
  "kernelspec": {
   "display_name": "Python 3",
   "language": "python",
   "name": "python3"
  },
  "language_info": {
   "codemirror_mode": {
    "name": "ipython",
    "version": 3
   },
   "file_extension": ".py",
   "mimetype": "text/x-python",
   "name": "python",
   "nbconvert_exporter": "python",
   "pygments_lexer": "ipython3",
   "version": "3.8.10"
  }
 },
 "nbformat": 4,
 "nbformat_minor": 5
}
