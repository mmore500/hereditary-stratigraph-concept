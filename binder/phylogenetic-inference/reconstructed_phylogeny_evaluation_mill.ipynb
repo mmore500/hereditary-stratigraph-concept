{
 "cells": [
  {
   "cell_type": "code",
   "execution_count": 1,
   "id": "8e1f2741",
   "metadata": {},
   "outputs": [],
   "source": [
    "import endomill\n",
    "from nbmetalog import nbmetalog as nbm\n"
   ]
  },
  {
   "cell_type": "code",
   "execution_count": 2,
   "id": "47a01b3f",
   "metadata": {},
   "outputs": [
    {
     "name": "stdout",
     "output_type": "stream",
     "text": [
      "context: ci\n",
      "hostname: bb51e8bf6b00\n",
      "interpreter: 3.8.12 (default, Jan 15 2022, 18:39:47)  [GCC 7.5.0]\n",
      "nbcellexec: 2\n",
      "nbname: reconstructed_phylogeny_evaluation_mill\n",
      "nbpath: /opt/hereditary-stratigraph-concept/binder/phylogenetic-inference/reconstructed_phylogeny_evaluation_mill.ipynb\n",
      "revision: null\n",
      "session: 843a28bb-2ea7-44ee-8cf0-af124bcc07f5\n",
      "timestamp: 2022-05-15T03:05:46Z00:00\n",
      "\n",
      "\n",
      "IPython==7.16.1\n",
      "keyname==0.4.1\n",
      "yaml==5.3.1\n",
      "endomill==0.1.3\n",
      "nbmetalog==0.2.6\n",
      "re==2.2.1\n",
      "ipython_genutils==0.2.0\n",
      "logging==0.5.1.2\n",
      "zmq==22.3.0\n",
      "json==2.0.9\n",
      "ipykernel==5.5.3\n"
     ]
    }
   ],
   "source": [
    "nbm.print_metadata()\n"
   ]
  },
  {
   "cell_type": "code",
   "execution_count": 3,
   "id": "32b89000",
   "metadata": {},
   "outputs": [
    {
     "name": "stdout",
     "output_type": "stream",
     "text": [
      "👷🪓 milling {'reconstructed_phylogeny_url': 'https://github.com/mmore500/hereditary-stratigraph-concept/blob/49e2bb1ff4c433af5eab2532f077663dc7d9efa3/binder/phylogenetic-inference/a=reconstructed_phylogenies+source=nk_ecoeaselection_seed110_pop100_mut.01_snapshot_3000.csv.gz', 'original_phylogeny_url': 'https://osf.io/5d3be/'} ...\n"
     ]
    },
    {
     "data": {
      "application/javascript": [
       "Jupyter.notebook.kernel.interrupt()"
      ],
      "text/plain": [
       "<IPython.core.display.Javascript object>"
      ]
     },
     "metadata": {},
     "output_type": "display_data"
    },
    {
     "name": "stderr",
     "output_type": "stream",
     "text": [
      "Input notebook does not contain a cell with tag 'parameters'\n"
     ]
    },
    {
     "name": "stdout",
     "output_type": "stream",
     "text": [
      "🪵✨ milled a=reconstructed_phylogeny_evaluation+source=nk_ecoeaselection_seed110_pop100_mut.01_snapshot_3000.csv.gz.endomill.ipynb\n"
     ]
    },
    {
     "data": {
      "text/html": [
       "&nbsp;&nbsp;&nbsp;&nbsp;&nbsp;&nbsp;&nbsp;&nbsp;📎 <a href=\"a=reconstructed_phylogeny_evaluation+source=nk_ecoeaselection_seed110_pop100_mut.01_snapshot_3000.csv.gz.endomill.ipynb\">a=reconstructed_phylogeny_evaluation+source=nk_ecoeaselection_seed110_pop100_mut.01_snapshot_3000.csv.gz.endomill.ipynb</a>"
      ],
      "text/plain": [
       "<IPython.core.display.HTML object>"
      ]
     },
     "metadata": {},
     "output_type": "display_data"
    },
    {
     "name": "stdout",
     "output_type": "stream",
     "text": [
      "\n",
      "👷🪓 milling {'reconstructed_phylogeny_url': 'https://github.com/mmore500/hereditary-stratigraph-concept/blob/49e2bb1ff4c433af5eab2532f077663dc7d9efa3/binder/phylogenetic-inference/a=reconstructed_phylogenies+source=nk_lexicaseselection_seed110_pop165_mut.01_snapshot_500.csv.gz', 'original_phylogeny_url': 'https://osf.io/8ycq7/'} ...\n"
     ]
    },
    {
     "data": {
      "application/javascript": [
       "Jupyter.notebook.kernel.interrupt()"
      ],
      "text/plain": [
       "<IPython.core.display.Javascript object>"
      ]
     },
     "metadata": {},
     "output_type": "display_data"
    },
    {
     "name": "stderr",
     "output_type": "stream",
     "text": [
      "Input notebook does not contain a cell with tag 'parameters'\n"
     ]
    },
    {
     "name": "stdout",
     "output_type": "stream",
     "text": [
      "🪵✨ milled a=reconstructed_phylogeny_evaluation+source=nk_lexicaseselection_seed110_pop165_mut.01_snapshot_500.csv.gz.endomill.ipynb\n"
     ]
    },
    {
     "data": {
      "text/html": [
       "&nbsp;&nbsp;&nbsp;&nbsp;&nbsp;&nbsp;&nbsp;&nbsp;📎 <a href=\"a=reconstructed_phylogeny_evaluation+source=nk_lexicaseselection_seed110_pop165_mut.01_snapshot_500.csv.gz.endomill.ipynb\">a=reconstructed_phylogeny_evaluation+source=nk_lexicaseselection_seed110_pop165_mut.01_snapshot_500.csv.gz.endomill.ipynb</a>"
      ],
      "text/plain": [
       "<IPython.core.display.HTML object>"
      ]
     },
     "metadata": {},
     "output_type": "display_data"
    },
    {
     "name": "stdout",
     "output_type": "stream",
     "text": [
      "\n",
      "👷🪓 milling {'reconstructed_phylogeny_url': 'https://github.com/mmore500/hereditary-stratigraph-concept/blob/49e2bb1ff4c433af5eab2532f077663dc7d9efa3/binder/phylogenetic-inference/a=reconstructed_phylogenies+source=nk_randomselection_seed7_pop100_mut.01_snapshot_5000.csv.gz', 'original_phylogeny_url': 'https://osf.io/ydxt7/'} ...\n"
     ]
    },
    {
     "data": {
      "application/javascript": [
       "Jupyter.notebook.kernel.interrupt()"
      ],
      "text/plain": [
       "<IPython.core.display.Javascript object>"
      ]
     },
     "metadata": {},
     "output_type": "display_data"
    },
    {
     "name": "stderr",
     "output_type": "stream",
     "text": [
      "Input notebook does not contain a cell with tag 'parameters'\n"
     ]
    },
    {
     "name": "stdout",
     "output_type": "stream",
     "text": [
      "🪵✨ milled a=reconstructed_phylogeny_evaluation+source=nk_randomselection_seed7_pop100_mut.01_snapshot_5000.csv.gz.endomill.ipynb\n"
     ]
    },
    {
     "data": {
      "text/html": [
       "&nbsp;&nbsp;&nbsp;&nbsp;&nbsp;&nbsp;&nbsp;&nbsp;📎 <a href=\"a=reconstructed_phylogeny_evaluation+source=nk_randomselection_seed7_pop100_mut.01_snapshot_5000.csv.gz.endomill.ipynb\">a=reconstructed_phylogeny_evaluation+source=nk_randomselection_seed7_pop100_mut.01_snapshot_5000.csv.gz.endomill.ipynb</a>"
      ],
      "text/plain": [
       "<IPython.core.display.HTML object>"
      ]
     },
     "metadata": {},
     "output_type": "display_data"
    },
    {
     "name": "stdout",
     "output_type": "stream",
     "text": [
      "\n",
      "👷🪓 milling {'reconstructed_phylogeny_url': 'https://github.com/mmore500/hereditary-stratigraph-concept/blob/49e2bb1ff4c433af5eab2532f077663dc7d9efa3/binder/phylogenetic-inference/a=reconstructed_phylogenies+source=nk_sharingselection_seed10_pop100_mut.01_snapshot_5000.csv.gz', 'original_phylogeny_url': 'https://osf.io/cz9fk/'} ...\n"
     ]
    },
    {
     "data": {
      "application/javascript": [
       "Jupyter.notebook.kernel.interrupt()"
      ],
      "text/plain": [
       "<IPython.core.display.Javascript object>"
      ]
     },
     "metadata": {},
     "output_type": "display_data"
    },
    {
     "name": "stderr",
     "output_type": "stream",
     "text": [
      "Input notebook does not contain a cell with tag 'parameters'\n"
     ]
    },
    {
     "name": "stdout",
     "output_type": "stream",
     "text": [
      "🪵✨ milled a=reconstructed_phylogeny_evaluation+source=nk_sharingselection_seed10_pop100_mut.01_snapshot_5000.csv.gz.endomill.ipynb\n"
     ]
    },
    {
     "data": {
      "text/html": [
       "&nbsp;&nbsp;&nbsp;&nbsp;&nbsp;&nbsp;&nbsp;&nbsp;📎 <a href=\"a=reconstructed_phylogeny_evaluation+source=nk_sharingselection_seed10_pop100_mut.01_snapshot_5000.csv.gz.endomill.ipynb\">a=reconstructed_phylogeny_evaluation+source=nk_sharingselection_seed10_pop100_mut.01_snapshot_5000.csv.gz.endomill.ipynb</a>"
      ],
      "text/plain": [
       "<IPython.core.display.HTML object>"
      ]
     },
     "metadata": {},
     "output_type": "display_data"
    },
    {
     "name": "stdout",
     "output_type": "stream",
     "text": [
      "\n",
      "👷🪓 milling {'reconstructed_phylogeny_url': 'https://github.com/mmore500/hereditary-stratigraph-concept/blob/49e2bb1ff4c433af5eab2532f077663dc7d9efa3/binder/phylogenetic-inference/a=reconstructed_phylogenies+source=nk_tournamentselection_seed140_pop100_mut.01_snapshot_5000.csv.gz', 'original_phylogeny_url': 'https://osf.io/5ubn8/'} ...\n"
     ]
    },
    {
     "data": {
      "application/javascript": [
       "Jupyter.notebook.kernel.interrupt()"
      ],
      "text/plain": [
       "<IPython.core.display.Javascript object>"
      ]
     },
     "metadata": {},
     "output_type": "display_data"
    },
    {
     "name": "stderr",
     "output_type": "stream",
     "text": [
      "Input notebook does not contain a cell with tag 'parameters'\n"
     ]
    },
    {
     "name": "stdout",
     "output_type": "stream",
     "text": [
      "🪵✨ milled a=reconstructed_phylogeny_evaluation+source=nk_tournamentselection_seed140_pop100_mut.01_snapshot_5000.csv.gz.endomill.ipynb\n"
     ]
    },
    {
     "data": {
      "text/html": [
       "&nbsp;&nbsp;&nbsp;&nbsp;&nbsp;&nbsp;&nbsp;&nbsp;📎 <a href=\"a=reconstructed_phylogeny_evaluation+source=nk_tournamentselection_seed140_pop100_mut.01_snapshot_5000.csv.gz.endomill.ipynb\">a=reconstructed_phylogeny_evaluation+source=nk_tournamentselection_seed140_pop100_mut.01_snapshot_5000.csv.gz.endomill.ipynb</a>"
      ],
      "text/plain": [
       "<IPython.core.display.HTML object>"
      ]
     },
     "metadata": {},
     "output_type": "display_data"
    },
    {
     "name": "stdout",
     "output_type": "stream",
     "text": [
      "\n",
      "🏠🍻 milling complete!\n"
     ]
    },
    {
     "data": {
      "application/javascript": [
       "Jupyter.notebook.kernel.interrupt()"
      ],
      "text/plain": [
       "<IPython.core.display.Javascript object>"
      ]
     },
     "metadata": {},
     "output_type": "display_data"
    },
    {
     "name": "stdout",
     "output_type": "stream",
     "text": [
      "🌛💤 disabling notebok by overriding IPython with nop runner\n"
     ]
    }
   ],
   "source": [
    "prefix = (\n",
    "    'https://github.com/mmore500/hereditary-stratigraph-concept/'\n",
    "    'blob/49e2bb1ff4c433af5eab2532f077663dc7d9efa3/'\n",
    "    'binder/phylogenetic-inference/'\n",
    ")\n",
    "reconstructed_phylogeny_urls = [\n",
    "    prefix + 'a=reconstructed_phylogenies+source=nk_ecoeaselection_seed110_pop100_mut.01_snapshot_3000.csv.gz',\n",
    "    prefix + 'a=reconstructed_phylogenies+source=nk_lexicaseselection_seed110_pop165_mut.01_snapshot_500.csv.gz',\n",
    "    prefix + 'a=reconstructed_phylogenies+source=nk_randomselection_seed7_pop100_mut.01_snapshot_5000.csv.gz',\n",
    "    prefix + 'a=reconstructed_phylogenies+source=nk_sharingselection_seed10_pop100_mut.01_snapshot_5000.csv.gz',\n",
    "    prefix + 'a=reconstructed_phylogenies+source=nk_tournamentselection_seed140_pop100_mut.01_snapshot_5000.csv.gz',\n",
    "]\n",
    "\n",
    "original_phylogeny_urls = [\n",
    "            # nk_ecoeaselection_seed110_pop100_mut.01_snapshot_3000.csv\n",
    "            'https://osf.io/5d3be/',\n",
    "            # nk_lexicaseselection_seed110_pop165_mut.01_snapshot_500.csv\n",
    "            'https://osf.io/8ycq7/',\n",
    "            # nk_randomselection_seed7_pop100_mut.01_snapshot_5000.csv\n",
    "            'https://osf.io/ydxt7/',\n",
    "            # nk_sharingselection_seed10_pop100_mut.01_snapshot_5000.csv\n",
    "            'https://osf.io/cz9fk/',\n",
    "            # nk_tournamentselection_seed140_pop100_mut.01_snapshot_5000.csv\n",
    "            'https://osf.io/5ubn8/',\n",
    "]\n",
    "\n",
    "endomill.instantiate_over(\n",
    "    parameter_packs=[\n",
    "        {\n",
    "            'reconstructed_phylogeny_url': reconstructed_phylogeny_url,\n",
    "            'original_phylogeny_url': original_phylogeny_url,\n",
    "        }\n",
    "        for reconstructed_phylogeny_url, original_phylogeny_url\n",
    "        in zip(reconstructed_phylogeny_urls, original_phylogeny_urls)\n",
    "    ],\n",
    ")\n"
   ]
  },
  {
   "cell_type": "code",
   "execution_count": 4,
   "id": "78958d3d",
   "metadata": {},
   "outputs": [],
   "source": [
    "#define papermil parameters\n",
    "reconstructed_phylogeny_url: str\n",
    "original_phylogeny_url: str\n"
   ]
  },
  {
   "cell_type": "code",
   "execution_count": 5,
   "id": "0ddfc91b",
   "metadata": {},
   "outputs": [],
   "source": [
    "import alifedata_phyloinformatics_convert as apc\n",
    "from Bio import Phylo\n",
    "import dendropy\n",
    "from iterpop import iterpop as ip\n",
    "from keyname import keyname as kn\n",
    "from matplotlib import pyplot as plt\n",
    "import numpy as np\n",
    "import opytional as opyt\n",
    "from os.path import basename\n",
    "import pandas as pd\n",
    "import seaborn as sns\n",
    "import sys\n",
    "from teeplot import teeplot as tp\n"
   ]
  },
  {
   "cell_type": "code",
   "execution_count": 6,
   "id": "66e0698f",
   "metadata": {},
   "outputs": [],
   "source": [
    "from pylib import draw_biopython_tree_with_origin_time_bounds\n"
   ]
  },
  {
   "cell_type": "code",
   "execution_count": 7,
   "id": "969fc6b7",
   "metadata": {},
   "outputs": [],
   "source": [
    "sys.setrecursionlimit(100000) # data exceeds default recursion limit\n"
   ]
  },
  {
   "cell_type": "code",
   "execution_count": 8,
   "id": "34b16b18",
   "metadata": {},
   "outputs": [],
   "source": [
    "nbm.print_metadata()\n"
   ]
  },
  {
   "cell_type": "code",
   "execution_count": 9,
   "id": "d7890afe",
   "metadata": {},
   "outputs": [],
   "source": [
    "original_df = pd.read_csv(\n",
    "    f'{original_phylogeny_url}/download',\n",
    ")\n",
    "\n",
    "original_df['name'] = original_df['id'].astype(str)\n",
    "original_df['taxon_label'] = original_df['id'].astype(str)\n",
    "\n",
    "nbm.print_dataframe_synopsis(original_df)\n"
   ]
  },
  {
   "cell_type": "code",
   "execution_count": 10,
   "id": "6d307547",
   "metadata": {},
   "outputs": [],
   "source": [
    "reconstructed_df = pd.read_csv(\n",
    "    f'{reconstructed_phylogeny_url}?raw=true',\n",
    "    compression='gzip',\n",
    ")\n",
    "reconstructed_df['taxon_label'] = reconstructed_df['name']\n",
    "reconstructed_df['Instance'] = reconstructed_df.apply(\n",
    "    lambda row: row['Treatment'] + row['Algorithm'],\n",
    "    axis=1,\n",
    ")\n",
    "\n",
    "nbm.print_dataframe_synopsis(reconstructed_df)\n",
    "\n",
    "data_filename = basename(reconstructed_phylogeny_url)\n",
    "\n",
    "print(data_filename)\n"
   ]
  },
  {
   "cell_type": "code",
   "execution_count": 11,
   "id": "ca2b7beb",
   "metadata": {},
   "outputs": [],
   "source": [
    "endomill.add_instance_outpath(\n",
    "    f'a=reconstructed_phylogeny_evaluation+source={kn.unpack(data_filename)[\"source\"]}.endomill.ipynb',\n",
    ")\n"
   ]
  },
  {
   "cell_type": "code",
   "execution_count": 12,
   "id": "571c4cc5",
   "metadata": {},
   "outputs": [],
   "source": [
    "def sort_tree(tree):\n",
    "    # sort clades for consistent display\n",
    "    for node in tree.find_clades(order='postorder'):\n",
    "        if node.clades:\n",
    "            node.max_descendant = max(child.max_descendant for child in node.clades)\n",
    "        else:\n",
    "            node.max_descendant = int(node.name)\n",
    "        node.clades.sort(key=lambda node: node.max_descendant)\n"
   ]
  },
  {
   "cell_type": "code",
   "execution_count": 13,
   "id": "1707700f",
   "metadata": {},
   "outputs": [],
   "source": [
    "taxon_rename_dict = {\n",
    "    str(taxon): np.base_repr(i, 36).lower()\n",
    "    for i, taxon\n",
    "    in enumerate(sorted(reconstructed_df['name'].unique()))\n",
    "    if 'Inner' not in taxon\n",
    "}\n"
   ]
  },
  {
   "cell_type": "code",
   "execution_count": 14,
   "id": "e9857d77",
   "metadata": {},
   "outputs": [],
   "source": [
    "actual_tree = apc.alife_dataframe_to_biopython_tree(\n",
    "    original_df,\n",
    "    setup_branch_lengths=True,\n",
    ")\n",
    "for inner_node in actual_tree.get_nonterminals():\n",
    "    inner_node.name = None\n",
    "sort_tree(actual_tree)\n",
    "\n",
    "\n",
    "def truncate_phylo(*args, **kwargs):\n",
    "    Phylo.draw(*args, **kwargs)\n",
    "    if 'sharingselection' in reconstructed_phylogeny_url:\n",
    "        plt.gca().set_xlim(4920, 5020)\n",
    "        plt.gcf().set_size_inches(3, 15)\n",
    "\n",
    "tp.tee(\n",
    "    truncate_phylo,\n",
    "    actual_tree,\n",
    "    label_func=lambda node: opyt.apply_if(node.name, lambda x: taxon_rename_dict[str(x)]),\n",
    "    do_show=False,\n",
    "    teeplot_outattrs={\n",
    "        'a' : 'true_phylogeny',\n",
    "        'source' : kn.demote(data_filename),\n",
    "    },\n",
    ")\n"
   ]
  },
  {
   "cell_type": "code",
   "execution_count": 15,
   "id": "bfe4352f",
   "metadata": {},
   "outputs": [],
   "source": [
    "def truncate_phylo_bounds(*args, **kwargs):\n",
    "    draw_biopython_tree_with_origin_time_bounds(*args, **kwargs)\n",
    "    if 'sharingselection' in reconstructed_phylogeny_url:\n",
    "        plt.gca().set_xlim(4920, 5020)\n",
    "        plt.gcf().set_size_inches(3, 15)\n",
    "\n",
    "\n",
    "for instance, group in reconstructed_df.groupby('Instance'):\n",
    "    assert not any(group['branch_length'].isnull())\n",
    "    tree = apc.alife_dataframe_to_biopython_tree(\n",
    "        group,\n",
    "        # don't need to pass setup_edge_lengths=True\n",
    "        # because they're provided directly\n",
    "        # as a column in the dataframe\n",
    "        setattrs={\n",
    "            'Origin Time Lower Bound (Inclusive)': 'origin_time_lb',\n",
    "            'Origin Time Upper Bound (Exclusive)': 'origin_time_ub',\n",
    "        },\n",
    "    )\n",
    "    sort_tree(tree)\n",
    "    tp.tee(\n",
    "        truncate_phylo_bounds,\n",
    "        tree,\n",
    "        label_func=lambda node: opyt.apply_if(\n",
    "            node.name, lambda x: taxon_rename_dict[str(x)]\n",
    "        )\n",
    "        if \"Inner\" not in node.name\n",
    "        else None,\n",
    "        do_show=False,\n",
    "        teeplot_outattrs={\n",
    "            'treatment': kn.demote(ip.popsingleton(group['Treatment'].unique())),\n",
    "            'source' : kn.demote(data_filename),\n",
    "        },\n",
    "    )\n"
   ]
  },
  {
   "cell_type": "code",
   "execution_count": 16,
   "id": "d9fbfc42",
   "metadata": {},
   "outputs": [],
   "source": [
    "actual_tree = apc.alife_dataframe_to_dendropy_tree(original_df)\n",
    "for inner_node in actual_tree.internal_nodes():\n",
    "    inner_node.taxon = None\n",
    "\n",
    "records = []\n",
    "for instance, group in reconstructed_df.groupby('Instance'):\n",
    "    group['edge_length'] = group['branch_length']\n",
    "    assert not any(group['edge_length'].isnull())\n",
    "    tree = apc.alife_dataframe_to_dendropy_tree(\n",
    "        group,\n",
    "        # don't need to pass setup_edge_lengths=True\n",
    "        # because they're provided directly\n",
    "        # as a column in the dataframe\n",
    "    )\n",
    "    tree.migrate_taxon_namespace(actual_tree.taxon_namespace)\n",
    "    unweighted_robinson_foulds = dendropy.calculate.treecompare.unweighted_robinson_foulds_distance(\n",
    "        actual_tree,\n",
    "        tree,\n",
    "    )\n",
    "    weighted_robinson_foulds = dendropy.calculate.treecompare.weighted_robinson_foulds_distance(\n",
    "        actual_tree,\n",
    "        tree,\n",
    "    )\n",
    "    euclidean = dendropy.calculate.treecompare.euclidean_distance(\n",
    "        actual_tree,\n",
    "        tree,\n",
    "    )\n",
    "\n",
    "    records.append({\n",
    "        **{\n",
    "            'Instance': 'Instance',\n",
    "            'Algorithm': ip.popsingleton(group['Algorithm'].unique()),\n",
    "            'Treatment': ip.popsingleton(group['Treatment'].unique()),\n",
    "            'Unweighted Robinson Foulds Distance Error': unweighted_robinson_foulds,\n",
    "            'Weighted Robinson Foulds Distance Error': weighted_robinson_foulds,\n",
    "            'Euclidean Distance Error': euclidean,\n",
    "        },\n",
    "        **kn.unpack(ip.popsingleton(group['Treatment'].unique())),\n",
    "    })\n",
    "\n",
    "\n",
    "res_df = pd.DataFrame.from_records(records)\n"
   ]
  },
  {
   "cell_type": "code",
   "execution_count": 17,
   "id": "54e10576",
   "metadata": {},
   "outputs": [],
   "source": [
    "res_df\n"
   ]
  },
  {
   "cell_type": "code",
   "execution_count": 18,
   "id": "ddef78ad",
   "metadata": {},
   "outputs": [],
   "source": [
    "nbm.print_dataframe_synopsis(res_df)\n"
   ]
  },
  {
   "cell_type": "code",
   "execution_count": 19,
   "id": "dc5fba8a",
   "metadata": {},
   "outputs": [],
   "source": [
    "res_df['Target Column Bit Size'] = res_df['target']\n",
    "res_df['Stratum Retention Policy'] = res_df['policy']\n",
    "res_df['Differentia Bit Width'] = res_df['differentia']\n"
   ]
  },
  {
   "cell_type": "code",
   "execution_count": 20,
   "id": "56a1b810",
   "metadata": {},
   "outputs": [],
   "source": [
    "def facet_barplot(\n",
    "    data,\n",
    "    col,\n",
    "    x,\n",
    "    y,\n",
    "    hue,\n",
    "):\n",
    "    g = sns.FacetGrid(\n",
    "        data,\n",
    "        col=col,\n",
    "        col_order=sorted(data[col].unique(), key=lambda x: int(x)),\n",
    "        margin_titles=True,\n",
    "        legend_out=True,\n",
    "    )\n",
    "    g.map_dataframe(\n",
    "        sns.barplot,\n",
    "        x=x,\n",
    "        y=y,\n",
    "        hue=hue,\n",
    "        order=sorted(data[x].unique(), key=lambda x: int(x)),\n",
    "        palette='colorblind',\n",
    "    )\n",
    "    g.add_legend()\n",
    "    g._legend.set_title(hue)\n",
    "    for ax in g.axes.flat:\n",
    "        ax.set_xlabel(x)\n",
    "    g.axes.flat[0].set_ylabel(y)\n"
   ]
  },
  {
   "cell_type": "code",
   "execution_count": 21,
   "id": "389b1d1a",
   "metadata": {},
   "outputs": [],
   "source": [
    "tp.tee(\n",
    "    facet_barplot,\n",
    "    data=res_df,\n",
    "    col='Differentia Bit Width',\n",
    "    x='Target Column Bit Size',\n",
    "    y='Euclidean Distance Error',\n",
    "    hue='Stratum Retention Policy',\n",
    ")\n"
   ]
  },
  {
   "cell_type": "code",
   "execution_count": 22,
   "id": "dcfe6c0f",
   "metadata": {},
   "outputs": [],
   "source": [
    "tp.tee(\n",
    "    facet_barplot,\n",
    "    data=res_df,\n",
    "    col='Differentia Bit Width',\n",
    "    x='Target Column Bit Size',\n",
    "    y='Unweighted Robinson Foulds Distance Error',\n",
    "    hue='Stratum Retention Policy',\n",
    ")\n"
   ]
  },
  {
   "cell_type": "code",
   "execution_count": 23,
   "id": "733aa94f",
   "metadata": {},
   "outputs": [],
   "source": [
    "tp.tee(\n",
    "    facet_barplot,\n",
    "    data=res_df,\n",
    "    col='Differentia Bit Width',\n",
    "    x='Target Column Bit Size',\n",
    "    y='Weighted Robinson Foulds Distance Error',\n",
    "    hue='Stratum Retention Policy',\n",
    ")\n"
   ]
  },
  {
   "cell_type": "code",
   "execution_count": 24,
   "id": "3a1a1021",
   "metadata": {},
   "outputs": [],
   "source": [
    "res_df.to_csv(\n",
    "    f'a=reconstructed_phylogeny_evaluation+source={kn.unpack(data_filename)[\"source\"]}',\n",
    "    compression='gzip',\n",
    ")\n",
    "res_df.to_csv(\n",
    "    f'a=reconstructed_phylogeny_evaluation+source={kn.unpack(data_filename)[\"source\"][:-len(\".gz\")]}',\n",
    ")\n"
   ]
  }
 ],
 "metadata": {
  "kernelspec": {
   "display_name": "Python 3",
   "language": "python",
   "name": "python3"
  },
  "language_info": {
   "codemirror_mode": {
    "name": "ipython",
    "version": 3
   },
   "file_extension": ".py",
   "mimetype": "text/x-python",
   "name": "python",
   "nbconvert_exporter": "python",
   "pygments_lexer": "ipython3",
   "version": "3.8.12"
  }
 },
 "nbformat": 4,
 "nbformat_minor": 5
}
