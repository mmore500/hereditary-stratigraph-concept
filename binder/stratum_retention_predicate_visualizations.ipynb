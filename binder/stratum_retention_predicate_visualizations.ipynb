{
 "cells": [
  {
   "cell_type": "code",
   "execution_count": null,
   "metadata": {},
   "outputs": [],
   "source": [
    "from matplotlib import pyplot as plt\n",
    "from nbmetalog import nbmetalog as nbm\n",
    "from teeplot import teeplot as tp\n"
   ]
  },
  {
   "cell_type": "code",
   "execution_count": null,
   "metadata": {},
   "outputs": [],
   "source": [
    "from pylib import stratum_retention_predicate_maximal\n",
    "from pylib import stratum_retention_predicate_minimal\n",
    "from pylib import StratumRetentionPredicateDepthProportionalResolution\n",
    "from pylib import StratumRetentionPredicateRecencyProportionalResolution\n",
    "from pylib import stratum_retention_predicate_stochastic\n"
   ]
  },
  {
   "cell_type": "markdown",
   "metadata": {},
   "source": [
    "TODO\n"
   ]
  },
  {
   "cell_type": "code",
   "execution_count": null,
   "metadata": {},
   "outputs": [],
   "source": [
    "def drip_plot(testfun, length):\n",
    "  for site in range(length):\n",
    "    for curtime in range(site, length):\n",
    "      if (not testfun(site, curtime)):\n",
    "        break\n",
    "    plt.plot([site, site], [site, curtime], 'k')\n",
    "\n",
    "  plt.gca().invert_yaxis()\n"
   ]
  },
  {
   "cell_type": "code",
   "execution_count": null,
   "metadata": {},
   "outputs": [],
   "source": [
    "drip_plot(\n",
    "    stratum_retention_predicate_maximal,\n",
    "    1000,\n",
    ")\n"
   ]
  },
  {
   "cell_type": "code",
   "execution_count": null,
   "metadata": {},
   "outputs": [],
   "source": [
    "drip_plot(\n",
    "    stratum_retention_predicate_minimal,\n",
    "    1000,\n",
    ")\n"
   ]
  },
  {
   "cell_type": "code",
   "execution_count": null,
   "metadata": {},
   "outputs": [],
   "source": [
    "drip_plot(\n",
    "    stratum_retention_predicate_stochastic,\n",
    "    1000,\n",
    ")\n"
   ]
  },
  {
   "cell_type": "code",
   "execution_count": null,
   "metadata": {},
   "outputs": [],
   "source": [
    "drip_plot(\n",
    "    StratumRetentionPredicateRecencyProportionalResolution(),\n",
    "    1000,\n",
    ")\n"
   ]
  },
  {
   "cell_type": "code",
   "execution_count": null,
   "metadata": {},
   "outputs": [],
   "source": [
    "drip_plot(\n",
    "    StratumRetentionPredicateDepthProportionalResolution(),\n",
    "    1000,\n",
    ")\n"
   ]
  }
 ],
 "metadata": {
  "kernelspec": {
   "display_name": "Python 3",
   "language": "python",
   "name": "python3"
  },
  "language_info": {
   "codemirror_mode": {
    "name": "ipython",
    "version": 3
   },
   "file_extension": ".py",
   "mimetype": "text/x-python",
   "name": "python",
   "nbconvert_exporter": "python",
   "pygments_lexer": "ipython3",
   "version": "3.8.10"
  }
 },
 "nbformat": 4,
 "nbformat_minor": 4
}
