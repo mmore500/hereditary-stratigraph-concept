{
 "cells": [
  {
   "cell_type": "code",
   "execution_count": null,
   "metadata": {},
   "outputs": [],
   "source": [
    "from matplotlib import pyplot as plt\n",
    "from nbmetalog import nbmetalog as nbm\n",
    "from teeplot import teeplot as tp\n"
   ]
  },
  {
   "cell_type": "code",
   "execution_count": null,
   "metadata": {},
   "outputs": [],
   "source": [
    "from pylib import stratum_retention_predicate_maximal\n",
    "from pylib import stratum_retention_predicate_minimal\n",
    "from pylib import StratumRetentionPredicateDepthProportionalResolution\n",
    "from pylib import StratumRetentionPredicateRecencyProportionalResolution\n",
    "from pylib import stratum_retention_predicate_stochastic\n"
   ]
  },
  {
   "cell_type": "markdown",
   "metadata": {},
   "source": [
    "TODO\n"
   ]
  },
  {
   "cell_type": "code",
   "execution_count": null,
   "metadata": {},
   "outputs": [],
   "source": [
    "def drip_plot(*, testfun, length):\n",
    "  for site in range(length):\n",
    "    for curtime in range(site, length):\n",
    "      if (not testfun(site, curtime)):\n",
    "        break\n",
    "    plt.plot([site, site], [site, curtime], 'k')\n",
    "\n",
    "  plt.gca().invert_yaxis()\n"
   ]
  },
  {
   "cell_type": "code",
   "execution_count": null,
   "metadata": {},
   "outputs": [],
   "source": [
    "num_layers = 1000\n",
    "tp.tee(\n",
    "    drip_plot,\n",
    "    testfun=stratum_retention_predicate_maximal,\n",
    "    length=num_layers,\n",
    "    teeplot_outattrs={\n",
    "        **nbm.collate_outattr_metadata(),\n",
    "        **{\n",
    "            'num_layers' : num_layers,\n",
    "            'stratum_retention_predicate' : 'maximal',\n",
    "        },\n",
    "    }\n",
    ")\n",
    "plt.show()\n"
   ]
  },
  {
   "cell_type": "code",
   "execution_count": null,
   "metadata": {},
   "outputs": [],
   "source": [
    "num_layers = 1000\n",
    "tp.tee(\n",
    "    drip_plot,\n",
    "    testfun=stratum_retention_predicate_minimal,\n",
    "    length=num_layers,\n",
    "    teeplot_outattrs={\n",
    "        **nbm.collate_outattr_metadata(),\n",
    "        **{\n",
    "            'num_layers' : num_layers,\n",
    "            'stratum_retention_predicate' : 'minimal',\n",
    "        },\n",
    "    }\n",
    ")\n",
    "plt.show()\n"
   ]
  },
  {
   "cell_type": "code",
   "execution_count": null,
   "metadata": {},
   "outputs": [],
   "source": [
    "num_layers = 100\n",
    "tp.tee(\n",
    "    drip_plot,\n",
    "    testfun=stratum_retention_predicate_stochastic,\n",
    "    length=num_layers,\n",
    "    teeplot_outattrs={\n",
    "        **nbm.collate_outattr_metadata(),\n",
    "        **{\n",
    "            'num_layers' : num_layers,\n",
    "            'stratum_retention_predicate' : 'stochastic',\n",
    "        },\n",
    "    }\n",
    ")\n",
    "plt.show()\n"
   ]
  },
  {
   "cell_type": "code",
   "execution_count": null,
   "metadata": {},
   "outputs": [],
   "source": [
    "num_layers = 1000\n",
    "tp.tee(\n",
    "    drip_plot,\n",
    "    testfun=StratumRetentionPredicateRecencyProportionalResolution(),\n",
    "    length=num_layers,\n",
    "    teeplot_outattrs={\n",
    "        **nbm.collate_outattr_metadata(),\n",
    "        **{\n",
    "            'num_layers' : num_layers,\n",
    "            'stratum_retention_predicate' : 'recency_proportional_resolution',\n",
    "        },\n",
    "    }\n",
    ")\n",
    "plt.show()\n"
   ]
  },
  {
   "cell_type": "code",
   "execution_count": null,
   "metadata": {},
   "outputs": [],
   "source": [
    "num_layers = 1000\n",
    "for min_intervals_divide_into in [\n",
    "    1, 2, 3, 42,\n",
    "]:\n",
    "    tp.tee(\n",
    "        drip_plot,\n",
    "        testfun=StratumRetentionPredicateDepthProportionalResolution(\n",
    "            min_intervals_divide_into=min_intervals_divide_into,\n",
    "        ),\n",
    "        length=num_layers,\n",
    "        teeplot_outattrs={\n",
    "            **nbm.collate_outattr_metadata(),\n",
    "            **{\n",
    "                'min_intervals_divide_into' : min_intervals_divide_into,\n",
    "                'num_layers' : num_layers,\n",
    "                'stratum_retention_predicate' : 'depth_proportional_resolution',\n",
    "            },\n",
    "        }\n",
    "    )\n",
    "    plt.show()\n"
   ]
  }
 ],
 "metadata": {
  "kernelspec": {
   "display_name": "Python 3",
   "language": "python",
   "name": "python3"
  },
  "language_info": {
   "codemirror_mode": {
    "name": "ipython",
    "version": 3
   },
   "file_extension": ".py",
   "mimetype": "text/x-python",
   "name": "python",
   "nbconvert_exporter": "python",
   "pygments_lexer": "ipython3",
   "version": "3.8.10"
  }
 },
 "nbformat": 4,
 "nbformat_minor": 4
}
