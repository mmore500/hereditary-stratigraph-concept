{
 "cells": [
  {
   "cell_type": "code",
   "execution_count": null,
   "metadata": {},
   "outputs": [],
   "source": [
    "from matplotlib import pyplot as plt\n",
    "from nbmetalog import nbmetalog as nbm\n",
    "from teeplot import teeplot as tp\n"
   ]
  },
  {
   "cell_type": "code",
   "execution_count": null,
   "metadata": {},
   "outputs": [],
   "source": [
    "from pylib import StratumRetentionPredicateDepthProportionalResolution\n",
    "from pylib import StratumRetentionPredicateFixedResolution\n",
    "from pylib import StratumRetentionPredicateMaximal\n",
    "from pylib import StratumRetentionPredicateMinimal\n",
    "from pylib import StratumRetentionPredicateRecencyProportionalResolution\n",
    "from pylib import StratumRetentionPredicateRecursiveInterspersion\n",
    "from pylib import StratumRetentionPredicateStochastic\n"
   ]
  },
  {
   "cell_type": "code",
   "execution_count": null,
   "metadata": {},
   "outputs": [],
   "source": [
    "from pylib import HereditaryStratigraphicColumn\n"
   ]
  },
  {
   "cell_type": "markdown",
   "metadata": {},
   "source": [
    "TODO\n"
   ]
  },
  {
   "cell_type": "code",
   "execution_count": null,
   "metadata": {},
   "outputs": [],
   "source": [
    "def drip_plot(*, testfun, length):\n",
    "  for site in range(length):\n",
    "    for curtime in range(site, length):\n",
    "      if (not testfun(site, curtime)):\n",
    "        break\n",
    "    plt.plot([site, site], [site, curtime], 'k')\n",
    "\n",
    "  plt.gca().invert_yaxis()\n"
   ]
  },
  {
   "cell_type": "code",
   "execution_count": null,
   "metadata": {},
   "outputs": [],
   "source": [
    "num_layers = 1000\n",
    "tp.tee(\n",
    "    drip_plot,\n",
    "    testfun=StratumRetentionPredicateMaximal(),\n",
    "    length=num_layers,\n",
    "    teeplot_outattrs={\n",
    "        **nbm.collate_outattr_metadata(),\n",
    "        **{\n",
    "            'num_layers' : num_layers,\n",
    "            'stratum_retention_predicate' : 'maximal',\n",
    "        },\n",
    "    }\n",
    ")\n",
    "plt.show()\n"
   ]
  },
  {
   "cell_type": "code",
   "execution_count": null,
   "metadata": {},
   "outputs": [],
   "source": [
    "num_layers = 1000\n",
    "tp.tee(\n",
    "    drip_plot,\n",
    "    testfun=StratumRetentionPredicateMinimal(),\n",
    "    length=num_layers,\n",
    "    teeplot_outattrs={\n",
    "        **nbm.collate_outattr_metadata(),\n",
    "        **{\n",
    "            'num_layers' : num_layers,\n",
    "            'stratum_retention_predicate' : 'minimal',\n",
    "        },\n",
    "    }\n",
    ")\n",
    "plt.show()\n"
   ]
  },
  {
   "cell_type": "code",
   "execution_count": null,
   "metadata": {},
   "outputs": [],
   "source": [
    "num_layers = 100\n",
    "tp.tee(\n",
    "    drip_plot,\n",
    "    testfun=StratumRetentionPredicateStochastic(),\n",
    "    length=num_layers,\n",
    "    teeplot_outattrs={\n",
    "        **nbm.collate_outattr_metadata(),\n",
    "        **{\n",
    "            'num_layers' : num_layers,\n",
    "            'stratum_retention_predicate' : 'stochastic',\n",
    "        },\n",
    "    }\n",
    ")\n",
    "plt.show()\n"
   ]
  },
  {
   "cell_type": "code",
   "execution_count": null,
   "metadata": {},
   "outputs": [],
   "source": [
    "num_layers = 1000\n",
    "for guaranteed_mrca_recency_proportional_resolution in 2, 3, 10, 100,:\n",
    "    tp.tee(\n",
    "        drip_plot,\n",
    "        testfun=StratumRetentionPredicateRecencyProportionalResolution(\n",
    "                guaranteed_mrca_recency_proportional_resolution=guaranteed_mrca_recency_proportional_resolution,\n",
    "        ),\n",
    "        length=num_layers,\n",
    "        teeplot_outattrs={\n",
    "            **nbm.collate_outattr_metadata(),\n",
    "            **{\n",
    "                'guaranteed_mrca_recency_proportional_resolution' : guaranteed_mrca_recency_proportional_resolution,\n",
    "                'num_layers' : num_layers,\n",
    "                'stratum_retention_predicate' : 'recency_proportional_resolution',\n",
    "            },\n",
    "        }\n",
    "    )\n",
    "    plt.show()\n"
   ]
  },
  {
   "cell_type": "code",
   "execution_count": null,
   "metadata": {},
   "outputs": [],
   "source": [
    "num_layers = 1000\n",
    "for guaranteed_depth_proportional_resolution in [\n",
    "    1, 2, 3, 42,\n",
    "]:\n",
    "    tp.tee(\n",
    "        drip_plot,\n",
    "        testfun=StratumRetentionPredicateDepthProportionalResolution(\n",
    "            guaranteed_depth_proportional_resolution=guaranteed_depth_proportional_resolution,\n",
    "        ),\n",
    "        length=num_layers,\n",
    "        teeplot_outattrs={\n",
    "            **nbm.collate_outattr_metadata(),\n",
    "            **{\n",
    "                'guaranteed_depth_proportional_resolution' : guaranteed_depth_proportional_resolution,\n",
    "                'num_layers' : num_layers,\n",
    "                'stratum_retention_predicate' : 'depth_proportional_resolution',\n",
    "            },\n",
    "        }\n",
    "    )\n",
    "    plt.show()\n"
   ]
  },
  {
   "cell_type": "code",
   "execution_count": null,
   "metadata": {},
   "outputs": [],
   "source": [
    "def to_ascii(column):\n",
    "    held_ranks = {column.GetRankAtColumnIndex(index) for index in range(column.GetNumStrataRetained())}\n",
    "\n",
    "    return ''.join([\n",
    "        '|' if rank in held_ranks else ' '\n",
    "        for rank in range(column.GetNumStrataDeposited())\n",
    "    ])\n"
   ]
  },
  {
   "cell_type": "code",
   "execution_count": null,
   "metadata": {},
   "outputs": [],
   "source": [
    "predicate = StratumRetentionPredicateDepthProportionalResolution(\n",
    "    guaranteed_depth_proportional_resolution=2,\n",
    ")\n",
    "column = HereditaryStratigraphicColumn(\n",
    "    stratum_retention_predicate=predicate,\n",
    ")\n",
    "\n",
    "for generation in range(1,31):\n",
    "    print(f'{generation:2d}', to_ascii(column))\n",
    "    column.DepositStratum()\n"
   ]
  },
  {
   "cell_type": "code",
   "execution_count": null,
   "metadata": {},
   "outputs": [],
   "source": [
    "num_layers = 100\n",
    "tp.tee(\n",
    "    drip_plot,\n",
    "    testfun=StratumRetentionPredicateFixedResolution(),\n",
    "    length=num_layers,\n",
    "    teeplot_outattrs={\n",
    "        **nbm.collate_outattr_metadata(),\n",
    "        **{\n",
    "            'num_layers' : num_layers,\n",
    "            'stratum_retention_predicate' : 'stochastic',\n",
    "        },\n",
    "    }\n",
    ")\n",
    "plt.show()\n"
   ]
  },
  {
   "cell_type": "code",
   "execution_count": null,
   "metadata": {},
   "outputs": [],
   "source": [
    "num_layers = 1000\n",
    "tp.tee(\n",
    "    drip_plot,\n",
    "    testfun=StratumRetentionPredicateRecursiveInterspersion(2, 1),\n",
    "    length=num_layers,\n",
    "    teeplot_outattrs={\n",
    "        **nbm.collate_outattr_metadata(),\n",
    "        **{\n",
    "            'num_layers' : num_layers,\n",
    "            'stratum_retention_predicate' : 'recusive_interspersion',\n",
    "        },\n",
    "    }\n",
    ")\n",
    "plt.show()\n"
   ]
  },
  {
   "cell_type": "code",
   "execution_count": null,
   "metadata": {},
   "outputs": [],
   "source": [
    "num_layers = 1000\n",
    "tp.tee(\n",
    "    drip_plot,\n",
    "    testfun=StratumRetentionPredicateRecursiveInterspersion(3, 1),\n",
    "    length=num_layers,\n",
    "    teeplot_outattrs={\n",
    "        **nbm.collate_outattr_metadata(),\n",
    "        **{\n",
    "            'num_layers' : num_layers,\n",
    "            'stratum_retention_predicate' : 'recusive_interspersion',\n",
    "        },\n",
    "    }\n",
    ")\n",
    "plt.show()\n"
   ]
  },
  {
   "cell_type": "code",
   "execution_count": null,
   "metadata": {},
   "outputs": [],
   "source": [
    "num_layers = 1000\n",
    "tp.tee(\n",
    "    drip_plot,\n",
    "    testfun=StratumRetentionPredicateRecencyProportionalResolution(10),\n",
    "    length=num_layers,\n",
    "    teeplot_outattrs={\n",
    "        **nbm.collate_outattr_metadata(),\n",
    "        **{\n",
    "            'num_layers' : num_layers,\n",
    "            'stratum_retention_predicate' : 'recusive_interspersion',\n",
    "        },\n",
    "    }\n",
    ")\n",
    "plt.show()\n"
   ]
  }
 ],
 "metadata": {
  "kernelspec": {
   "display_name": "Python 3",
   "language": "python",
   "name": "python3"
  },
  "language_info": {
   "codemirror_mode": {
    "name": "ipython",
    "version": 3
   },
   "file_extension": ".py",
   "mimetype": "text/x-python",
   "name": "python",
   "nbconvert_exporter": "python",
   "pygments_lexer": "ipython3",
   "version": "3.8.10"
  }
 },
 "nbformat": 4,
 "nbformat_minor": 4
}
