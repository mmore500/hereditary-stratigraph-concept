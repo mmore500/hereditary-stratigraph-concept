{
 "cells": [
  {
   "cell_type": "code",
   "execution_count": 1,
   "id": "d0c24ace",
   "metadata": {},
   "outputs": [],
   "source": [
    "from interval_search import doubling_search\n",
    "import math\n",
    "from nbmetalog import nbmetalog as nbm\n",
    "import numpy as np\n",
    "import pandas as pd\n",
    "import random\n",
    "from scipy import stats\n",
    "import sympy\n",
    "import typing\n",
    "\n",
    "random.seed(1)\n"
   ]
  },
  {
   "cell_type": "code",
   "execution_count": 2,
   "id": "f4ea3225",
   "metadata": {},
   "outputs": [
    {
     "name": "stdout",
     "output_type": "stream",
     "text": [
      "context: ci\n",
      "hostname: 2a5b7f51d0e9\n",
      "interpreter: 3.8.12 (default, Jan 15 2022, 18:39:47)  [GCC 7.5.0]\n",
      "nbcellexec: 2\n",
      "nbname: maximum_likelihood_popsize_estimator_credible_interval\n",
      "nbpath: /opt/hereditary-stratigraph-concept/binder/popsize/maximum_likelihood_popsize_estimator_credible_interval.ipynb\n",
      "revision: null\n",
      "session: 73a5b112-7d8f-4f25-a76d-9cb7580379fb\n",
      "timestamp: 2022-08-14T04:09:51Z00:00\n",
      "\n",
      "\n",
      "IPython==7.16.1\n",
      "keyname==0.4.1\n",
      "yaml==5.3.1\n",
      "nbmetalog==0.2.6\n",
      "numpy==1.21.5\n",
      "pandas==1.1.2\n",
      "scipy==1.5.4\n",
      "sympy==1.5.1\n",
      "re==2.2.1\n",
      "ipython_genutils==0.2.0\n",
      "logging==0.5.1.2\n",
      "zmq==22.3.0\n",
      "json==2.0.9\n",
      "ipykernel==5.5.3\n"
     ]
    }
   ],
   "source": [
    "nbm.print_metadata()\n"
   ]
  },
  {
   "cell_type": "markdown",
   "id": "27aedeba",
   "metadata": {},
   "source": [
    "# Goal\n",
    "\n",
    "From [maximum_likelihood_estimator.ipynb](maximum_likelihood_estimator.ipynb) we have the maximum likelihood estimator for $n$ given $k$ observations of fixed gene magnitude $x_1, x_2, ... x_k$ as\n",
    "\n",
    "$\\hat{n}_\\mathrm{mle} = -\\frac{k}{\\sum_{i=1}^k \\log( x_i )}$.\n",
    "\n",
    "In order to better understand our estimate, we should develop an expression for uncertainty related to the estimate.\n"
   ]
  },
  {
   "cell_type": "markdown",
   "id": "b5a1f195",
   "metadata": {},
   "source": [
    "# Likelihood & Credibility\n",
    "\n",
    "We can express probability that the true value of $n$ falls within a range as the fraction of total likelihood that falls within that range.\n",
    "This constitutes a Bayesian \"credible interval,\" which differs subtly from a (frequentist) confidence interval [(Porter, 1996)](porder1996interval).\n",
    "Note that this assumes a uniform prior for $n$ over $\\mathbb{R}_{\\ge 0}$.\n"
   ]
  },
  {
   "cell_type": "markdown",
   "id": "7b2c67e5",
   "metadata": {},
   "source": [
    "# Normalization Factor $L$\n",
    "\n",
    "To begin, calculate total likelihood $L$ by integrating over the domain of $n$.\n",
    "(For simplicity, we treat $n$ as continuous rather than discrete.)\n",
    "\n",
    "$\\begin{align*}\n",
    "L\n",
    "&= \\int_{0}^{\\infty} \\mathcal{L}(n) \\, \\mathrm{d}n \\\\\n",
    "&= \\int_{0}^{\\infty} \\exp(\\log\\mathcal{L}(n)) \\, \\mathrm{d}n \\\\\n",
    "&= \\int_{0}^{\\infty} \\exp\\Big((n-1) \\sum_{i=1}^k \\log( x_i ) + k \\log(n)\\Big) \\, \\mathrm{d}n \\\\\n",
    "&= \\int_{0}^{\\infty} \\exp\\Big((n-1) \\sum_{i=1}^k \\log( x_i )\\Big) \\exp\\Big(k \\log(n)\\Big) \\, \\mathrm{d}n \\\\\n",
    "&= \\int_{0}^{\\infty} \\exp\\Big((n-1) \\sum_{i=1}^k \\log( x_i )\\Big) \\exp\\Big( \\log(n^k)\\Big) \\, \\mathrm{d}n \\\\\n",
    "&= \\int_{0}^{\\infty} \\exp\\Big((n-1) \\sum_{i=1}^k \\log( x_i )\\Big) n^k \\, \\mathrm{d}n.\n",
    "\\end{align*}$\n",
    "\n",
    "Let's simplify our expression by substituting $\\sum_{i=1}^k \\log( x_i )$ as $v$,\n",
    "\n",
    "$\\begin{align*}\n",
    "L\n",
    "&= \\int_{0}^{\\infty} \\exp\\Big((n-1) v\\Big) n^k \\, \\mathrm{d}n\n",
    "\\end{align*}$\n",
    "\n",
    "and evaluate this integral with the help of computer algebra.\n"
   ]
  },
  {
   "cell_type": "code",
   "execution_count": 3,
   "id": "a99e0f0b",
   "metadata": {},
   "outputs": [
    {
     "data": {
      "text/latex": [
       "$\\displaystyle \\int\\limits_{0}^{\\infty} n^{k} e^{v \\left(n - 1\\right)}\\, dn$"
      ],
      "text/plain": [
       "Integral(n**k*exp(v*(n - 1)), (n, 0, oo))"
      ]
     },
     "execution_count": 3,
     "metadata": {},
     "output_type": "execute_result"
    }
   ],
   "source": [
    "# specify variables with assumptions for domain\n",
    "n = sympy.Symbol('n', positive=True, real=True,)\n",
    "k = sympy.Symbol('k', integer=True, positive=True, real=True,)\n",
    "v = sympy.Symbol('v', negative=True, real=True,)\n",
    "\n",
    "likelihood = sympy.exp( (n-1) * v ) * n**k\n",
    "\n",
    "# pretty print, does the expression look right?\n",
    "sympy.Integral(likelihood, (n, 0, sympy.oo))\n"
   ]
  },
  {
   "cell_type": "code",
   "execution_count": 4,
   "id": "907c7af5",
   "metadata": {},
   "outputs": [
    {
     "data": {
      "text/latex": [
       "$\\displaystyle - \\frac{\\left(- v\\right)^{- k} e^{- v} \\Gamma\\left(k + 1\\right)}{v}$"
      ],
      "text/plain": [
       "-(-v)**(-k)*exp(-v)*gamma(k + 1)/v"
      ]
     },
     "execution_count": 4,
     "metadata": {},
     "output_type": "execute_result"
    }
   ],
   "source": [
    "# perform integration\n",
    "likelihood_integrated_over_domain = sympy.integrate(\n",
    "    likelihood,\n",
    "    (n, 0, sympy.oo)\n",
    ")\n",
    "likelihood_integrated_over_domain\n"
   ]
  },
  {
   "cell_type": "markdown",
   "id": "bca2ac5c",
   "metadata": {},
   "source": [
    "Simplifying and substituting,\n",
    "\n",
    "$\\begin{align*}\n",
    "L\n",
    "&= -\\frac{(-v)^{-k} e^{-v} \\Gamma(k+1)}{v}\\\\\n",
    "&= -\\frac{-v(-v)^{-k-1} e^{-v} \\Gamma(k+1)}{v}\\\\\n",
    "&= (-v)^{-k-1} e^{-v} \\Gamma(k+1).\n",
    "\\end{align*}$\n"
   ]
  },
  {
   "cell_type": "markdown",
   "id": "b0be435e",
   "metadata": {},
   "source": [
    "# Credibility Within Factor of MLE\n",
    "\n",
    "How much likelihood $L_f$ falls within a factor $f$ of our maximum likelihood estimate?\n",
    "Integrating likelihood $\\mathcal{L}$ between $\\hat{n}_\\mathrm{mle}/f$ and $f\\hat{n}_\\mathrm{mle}$,\n",
    "\n",
    "$\\begin{align*}\n",
    "L_f\n",
    "&= \\int_{\\hat{n}_\\mathrm{mle}/f}^{f\\hat{n}_\\mathrm{mle}} \\mathcal{L}(n) \\, \\mathrm{d}n\\\\\n",
    "&= \\int_{\\frac{1}{f}\\frac{k}{-\\sum_{i=1}^k \\log( x_i )}}^{f\\frac{k}{-\\sum_{i=1}^k \\log( x_i )}} \\exp\\Big((n-1) v\\Big) n^k \\, \\mathrm{d}n.\n",
    "\\end{align*}$\n",
    "\n",
    "Once more simplifying this expression by substituting $\\sum_{i=1}^k \\log( x_i )$ as $v$,\n",
    "\n",
    "$\\begin{align*}\n",
    "L_f\n",
    "&= \\int_{\\frac{k}{-fv}}^{\\frac{fk}{-v}} \\exp\\Big((n-1) v\\Big) n^k \\, \\mathrm{d}n.\n",
    "\\end{align*}$\n",
    "\n",
    "we will again rely on computer algebra to evaluate this integral.\n"
   ]
  },
  {
   "cell_type": "code",
   "execution_count": 5,
   "id": "81af94c7",
   "metadata": {},
   "outputs": [
    {
     "data": {
      "text/latex": [
       "$\\displaystyle \\int\\limits_{- \\frac{k}{f v}}^{- \\frac{f k}{v}} n^{k} e^{v \\left(n - 1\\right)}\\, dn$"
      ],
      "text/plain": [
       "Integral(n**k*exp(v*(n - 1)), (n, -k/(f*v), -f*k/v))"
      ]
     },
     "execution_count": 5,
     "metadata": {},
     "output_type": "execute_result"
    }
   ],
   "source": [
    "# specify variables with assumptions for domain\n",
    "f = sympy.Symbol('f', positive=True, real=True,)\n",
    "\n",
    "factor_interval_lb = - k / (f * v)\n",
    "factor_interval_ub = - f * k / v\n",
    "\n",
    "# pretty print, does the expression look right?\n",
    "sympy.Integral(\n",
    "    likelihood,\n",
    "    (n, factor_interval_lb, factor_interval_ub,),\n",
    ")\n"
   ]
  },
  {
   "cell_type": "code",
   "execution_count": 6,
   "id": "10f31610",
   "metadata": {},
   "outputs": [
    {
     "data": {
      "text/latex": [
       "$\\displaystyle v^{- k - 1} \\left(\\gamma\\left(k + 1, \\frac{k}{f}\\right) - \\gamma\\left(k + 1, f k\\right)\\right) e^{i \\pi k - v}$"
      ],
      "text/plain": [
       "v**(-k - 1)*(lowergamma(k + 1, k/f) - lowergamma(k + 1, f*k))*exp(I*pi*k - v)"
      ]
     },
     "execution_count": 6,
     "metadata": {},
     "output_type": "execute_result"
    }
   ],
   "source": [
    "# perform integration\n",
    "likelihood_integrated_over_credible_interval = sympy.integrate(\n",
    "    likelihood,\n",
    "    (n, factor_interval_lb, factor_interval_ub,),\n",
    ")\n",
    "likelihood_integrated_over_credible_interval.simplify()\n"
   ]
  },
  {
   "cell_type": "markdown",
   "id": "9fee2c60",
   "metadata": {},
   "source": [
    "We can now solve for the credibilty contained within the credible interval by taking the ratio of integrated likelihoods.\n"
   ]
  },
  {
   "cell_type": "code",
   "execution_count": 7,
   "id": "7a830d25",
   "metadata": {},
   "outputs": [
    {
     "data": {
      "text/latex": [
       "$\\displaystyle \\frac{- \\gamma\\left(k + 1, \\frac{k}{f}\\right) + \\gamma\\left(k + 1, f k\\right)}{k!}$"
      ],
      "text/plain": [
       "(-lowergamma(k + 1, k/f) + lowergamma(k + 1, f*k))/factorial(k)"
      ]
     },
     "execution_count": 7,
     "metadata": {},
     "output_type": "execute_result"
    }
   ],
   "source": [
    "credibility = (\n",
    "    likelihood_integrated_over_credible_interval\n",
    "    / likelihood_integrated_over_domain\n",
    ").simplify()\n",
    "credibility\n"
   ]
  },
  {
   "cell_type": "markdown",
   "id": "91581398",
   "metadata": {},
   "source": [
    "# What Interval Factor Is Required to Capture a Target Credibility?\n",
    "\n",
    "Unfortunately, there is no easy rearrangement to analytically express the number of required independent observations $k$ in terms of the required credibility and the desired creditiblity interval width factor $f$.\n"
   ]
  },
  {
   "cell_type": "code",
   "execution_count": 8,
   "id": "b205bbd2",
   "metadata": {},
   "outputs": [
    {
     "name": "stdout",
     "output_type": "stream",
     "text": [
      "multiple generators [factorial(k), lowergamma(k + 1, f*k), lowergamma(k + 1, k/f)]\n",
      "No algorithms are implemented to solve equation (-lowergamma(k + 1, k/f) + lowergamma(k + 1, f*k))/factorial(k) - 19/20\n"
     ]
    }
   ],
   "source": [
    "# trying to solve for an expression that gives f\n",
    "# which will yield 95% credibility fails\n",
    "try:\n",
    "    sympy.solve(sympy.Eq( credibility, 0.95 ), k)\n",
    "except NotImplementedError as e:\n",
    "    print(e)\n"
   ]
  },
  {
   "cell_type": "markdown",
   "id": "97229e7d",
   "metadata": {},
   "source": [
    "However, we can nonetheless efficiently compute the number of required independent observations $k$ to capture a target credibility within a particular factor of the MLE by means of exponential search.\n"
   ]
  },
  {
   "cell_type": "code",
   "execution_count": 9,
   "id": "1554c14e",
   "metadata": {},
   "outputs": [],
   "source": [
    "def num_observations_required_for_credibility(\n",
    "    target_credibility: float,\n",
    "    interval_factor: float,\n",
    ") -> int:\n",
    "    \"\"\"\n",
    "    Find the minimum number of observations required for a threshold amount of credibility to be contained within a factor of the MLE estimate for\n",
    "    population size.\n",
    "\n",
    "    Parameters\n",
    "    ----------\n",
    "    target_credibility : float\n",
    "        What credibility is required for the credible interval?\n",
    "    interval_factor : float\n",
    "        What should the credible interval bounds be, as a factor of the MLE estimate?\n",
    "        For instance, 2 would indicate the credible interval should span from half of the MLE estimate to twice the MLE estimate.\n",
    "        Corresponds to $f$ in symbolic scratchwork elsewhere.\n",
    "    upper_bound : int\n",
    "        Upper bound for the binary search, inclusive.\n",
    "    \"\"\"\n",
    "\n",
    "    assert 0.0 <= target_credibility <= 1.0\n",
    "    assert interval_factor > 1.0\n",
    "\n",
    "    predicate = lambda k_: credibility.evalf(\n",
    "        subs={\n",
    "            k : k_,\n",
    "            f : interval_factor,\n",
    "        },\n",
    "    ) >= target_credibility\n",
    "\n",
    "    return doubling_search( predicate )\n"
   ]
  },
  {
   "cell_type": "markdown",
   "id": "3f3ebe55",
   "metadata": {},
   "source": [
    "How many independent observations are required to capture 95% of credibility for different credible interval size factors?\n"
   ]
  },
  {
   "cell_type": "code",
   "execution_count": 10,
   "id": "8f567492",
   "metadata": {},
   "outputs": [
    {
     "data": {
      "text/html": [
       "<div>\n",
       "<style scoped>\n",
       "    .dataframe tbody tr th:only-of-type {\n",
       "        vertical-align: middle;\n",
       "    }\n",
       "\n",
       "    .dataframe tbody tr th {\n",
       "        vertical-align: top;\n",
       "    }\n",
       "\n",
       "    .dataframe thead th {\n",
       "        text-align: right;\n",
       "    }\n",
       "</style>\n",
       "<table border=\"1\" class=\"dataframe\">\n",
       "  <thead>\n",
       "    <tr style=\"text-align: right;\">\n",
       "      <th></th>\n",
       "      <th>Factor of MLE with 95% Credibility</th>\n",
       "      <th>Num Independent Observations Required</th>\n",
       "    </tr>\n",
       "  </thead>\n",
       "  <tbody>\n",
       "    <tr>\n",
       "      <th>0</th>\n",
       "      <td>1.1</td>\n",
       "      <td>423</td>\n",
       "    </tr>\n",
       "    <tr>\n",
       "      <th>1</th>\n",
       "      <td>1.5</td>\n",
       "      <td>23</td>\n",
       "    </tr>\n",
       "    <tr>\n",
       "      <th>2</th>\n",
       "      <td>2.0</td>\n",
       "      <td>8</td>\n",
       "    </tr>\n",
       "    <tr>\n",
       "      <th>3</th>\n",
       "      <td>3.0</td>\n",
       "      <td>3</td>\n",
       "    </tr>\n",
       "    <tr>\n",
       "      <th>4</th>\n",
       "      <td>4.0</td>\n",
       "      <td>2</td>\n",
       "    </tr>\n",
       "    <tr>\n",
       "      <th>5</th>\n",
       "      <td>6.0</td>\n",
       "      <td>1</td>\n",
       "    </tr>\n",
       "  </tbody>\n",
       "</table>\n",
       "</div>"
      ],
      "text/plain": [
       "   Factor of MLE with 95% Credibility  Num Independent Observations Required\n",
       "0                                 1.1                                    423\n",
       "1                                 1.5                                     23\n",
       "2                                 2.0                                      8\n",
       "3                                 3.0                                      3\n",
       "4                                 4.0                                      2\n",
       "5                                 6.0                                      1"
      ]
     },
     "execution_count": 10,
     "metadata": {},
     "output_type": "execute_result"
    }
   ],
   "source": [
    "interval_factors = (\n",
    "    1.1,\n",
    "    1.5,\n",
    "    2.0,\n",
    "    3.0,\n",
    "    4.0,\n",
    "    6.0,\n",
    ")\n",
    "\n",
    "atleast95cred_intervals_df = pd.DataFrame.from_records([\n",
    "    {\n",
    "        'Factor of MLE with 95% Credibility' : interval_factor,\n",
    "        'Num Independent Observations Required' : num_observations_required_for_credibility(0.95, interval_factor),\n",
    "    }\n",
    "for interval_factor in interval_factors])\n",
    "\n",
    "atleast95cred_intervals_df\n"
   ]
  },
  {
   "cell_type": "markdown",
   "id": "86e5eadc",
   "metadata": {},
   "source": [
    "# Simulated Experiments\n"
   ]
  },
  {
   "cell_type": "markdown",
   "id": "bbcbb52a",
   "metadata": {},
   "source": [
    "How do the derived maximum likelihood estimator and credibility intervals perform on simulated experiments?\n"
   ]
  },
  {
   "cell_type": "code",
   "execution_count": 11,
   "id": "d1f3bebf",
   "metadata": {},
   "outputs": [],
   "source": [
    "def sample_observations(true_popsize: int, num_observations: int) -> typing.List[float]:\n",
    "    \"\"\"Simulate sampling the largest gene from within a population of `true_popsize` `num_observations` times.\"\"\"\n",
    "\n",
    "    return [\n",
    "        max(random.random() for __ in range(true_popsize))\n",
    "        for __ in range(num_observations)\n",
    "    ]\n",
    "\n",
    "def estimate_popsize(observations: typing.List[float]) -> float:\n",
    "    \"\"\"Use maximum likelihood estimator to estimate underlying population size given `observations`.\"\"\"\n",
    "\n",
    "    return -len(observations) / sum(math.log(o) for o in observations)\n",
    "\n",
    "def sample_popsize_estimate(true_popsize: int, num_observations: int) -> float:\n",
    "    \"\"\"Generate sampled largest genes from `true_popsize` population\n",
    "    and then use maximum likelihood estimator to estimate `true_popsize`.\"\"\"\n",
    "\n",
    "    return estimate_popsize(sample_observations(true_popsize, num_observations))\n"
   ]
  },
  {
   "cell_type": "code",
   "execution_count": 12,
   "id": "46069031",
   "metadata": {},
   "outputs": [],
   "source": [
    "# simulate gene drive within populations and then subsequent estimates of population size from magnitude of fixed genes\n",
    "records = []\n",
    "for true_popsize in 10, 1000:\n",
    "    for __, row in atleast95cred_intervals_df.iterrows():\n",
    "        sampled_estimates = [\n",
    "            sample_popsize_estimate(\n",
    "                true_popsize,\n",
    "                int(row['Num Independent Observations Required']),\n",
    "            )\n",
    "            for __ in range(200)\n",
    "        ]\n",
    "\n",
    "        f = row['Factor of MLE with 95% Credibility']\n",
    "        num_estimates_within_credible_interval = sum(\n",
    "            true_popsize / f <= est <= true_popsize * f\n",
    "            for est in sampled_estimates\n",
    "        )\n",
    "\n",
    "        records.append({\n",
    "            **row,\n",
    "            **{\n",
    "                'True Population Size' : true_popsize,\n",
    "                'Mean Estimated Population Size' : np.mean(sampled_estimates),\n",
    "                'Median Estimated Population Size' : np.median(sampled_estimates),\n",
    "                'Mean Normalized Error' : np.mean([abs(est - true_popsize) for est in sampled_estimates]) / true_popsize,\n",
    "                'Normalized Mean Estimate' : np.mean(sampled_estimates) / true_popsize,\n",
    "                'Normalized Median Estimate' : np.median(sampled_estimates) / true_popsize,\n",
    "                'Factor of MLE with 95% Credibility' : f,\n",
    "                'Fraction Estimates within Credible Interval'\n",
    "                    : num_estimates_within_credible_interval / len(sampled_estimates),\n",
    "                'p As Many Estimates Outside Credible Interval'\n",
    "                    : stats.binom.cdf(num_estimates_within_credible_interval, len(sampled_estimates), 0.95),\n",
    "            },\n",
    "        })\n"
   ]
  },
  {
   "cell_type": "code",
   "execution_count": 13,
   "id": "60736663",
   "metadata": {},
   "outputs": [
    {
     "data": {
      "text/html": [
       "<div>\n",
       "<style scoped>\n",
       "    .dataframe tbody tr th:only-of-type {\n",
       "        vertical-align: middle;\n",
       "    }\n",
       "\n",
       "    .dataframe tbody tr th {\n",
       "        vertical-align: top;\n",
       "    }\n",
       "\n",
       "    .dataframe thead th {\n",
       "        text-align: right;\n",
       "    }\n",
       "</style>\n",
       "<table border=\"1\" class=\"dataframe\">\n",
       "  <thead>\n",
       "    <tr style=\"text-align: right;\">\n",
       "      <th></th>\n",
       "      <th>Factor of MLE with 95% Credibility</th>\n",
       "      <th>Num Independent Observations Required</th>\n",
       "      <th>True Population Size</th>\n",
       "      <th>Mean Estimated Population Size</th>\n",
       "      <th>Median Estimated Population Size</th>\n",
       "      <th>Mean Normalized Error</th>\n",
       "      <th>Normalized Mean Estimate</th>\n",
       "      <th>Normalized Median Estimate</th>\n",
       "      <th>Fraction Estimates within Credible Interval</th>\n",
       "      <th>p As Many Estimates Outside Credible Interval</th>\n",
       "    </tr>\n",
       "  </thead>\n",
       "  <tbody>\n",
       "    <tr>\n",
       "      <th>0</th>\n",
       "      <td>1.1</td>\n",
       "      <td>423.0</td>\n",
       "      <td>10</td>\n",
       "      <td>10.05315</td>\n",
       "      <td>10.03200</td>\n",
       "      <td>0.03878</td>\n",
       "      <td>1.00532</td>\n",
       "      <td>1.00320</td>\n",
       "      <td>0.935</td>\n",
       "      <td>0.20352</td>\n",
       "    </tr>\n",
       "    <tr>\n",
       "      <th>1</th>\n",
       "      <td>1.5</td>\n",
       "      <td>23.0</td>\n",
       "      <td>10</td>\n",
       "      <td>10.54698</td>\n",
       "      <td>10.04277</td>\n",
       "      <td>0.19212</td>\n",
       "      <td>1.05470</td>\n",
       "      <td>1.00428</td>\n",
       "      <td>0.945</td>\n",
       "      <td>0.41693</td>\n",
       "    </tr>\n",
       "    <tr>\n",
       "      <th>2</th>\n",
       "      <td>2.0</td>\n",
       "      <td>8.0</td>\n",
       "      <td>10</td>\n",
       "      <td>10.97870</td>\n",
       "      <td>9.84358</td>\n",
       "      <td>0.32053</td>\n",
       "      <td>1.09787</td>\n",
       "      <td>0.98436</td>\n",
       "      <td>0.920</td>\n",
       "      <td>0.04436</td>\n",
       "    </tr>\n",
       "    <tr>\n",
       "      <th>3</th>\n",
       "      <td>3.0</td>\n",
       "      <td>3.0</td>\n",
       "      <td>10</td>\n",
       "      <td>13.61881</td>\n",
       "      <td>10.91971</td>\n",
       "      <td>0.62296</td>\n",
       "      <td>1.36188</td>\n",
       "      <td>1.09197</td>\n",
       "      <td>0.945</td>\n",
       "      <td>0.41693</td>\n",
       "    </tr>\n",
       "    <tr>\n",
       "      <th>4</th>\n",
       "      <td>4.0</td>\n",
       "      <td>2.0</td>\n",
       "      <td>10</td>\n",
       "      <td>19.57653</td>\n",
       "      <td>12.18342</td>\n",
       "      <td>1.21283</td>\n",
       "      <td>1.95765</td>\n",
       "      <td>1.21834</td>\n",
       "      <td>0.905</td>\n",
       "      <td>0.00582</td>\n",
       "    </tr>\n",
       "    <tr>\n",
       "      <th>5</th>\n",
       "      <td>6.0</td>\n",
       "      <td>1.0</td>\n",
       "      <td>10</td>\n",
       "      <td>45.89956</td>\n",
       "      <td>14.45084</td>\n",
       "      <td>3.87291</td>\n",
       "      <td>4.58996</td>\n",
       "      <td>1.44508</td>\n",
       "      <td>0.820</td>\n",
       "      <td>0.00000</td>\n",
       "    </tr>\n",
       "    <tr>\n",
       "      <th>6</th>\n",
       "      <td>1.1</td>\n",
       "      <td>423.0</td>\n",
       "      <td>1000</td>\n",
       "      <td>1005.95845</td>\n",
       "      <td>998.00275</td>\n",
       "      <td>0.03896</td>\n",
       "      <td>1.00596</td>\n",
       "      <td>0.99800</td>\n",
       "      <td>0.950</td>\n",
       "      <td>0.54529</td>\n",
       "    </tr>\n",
       "    <tr>\n",
       "      <th>7</th>\n",
       "      <td>1.5</td>\n",
       "      <td>23.0</td>\n",
       "      <td>1000</td>\n",
       "      <td>1045.75424</td>\n",
       "      <td>1015.97323</td>\n",
       "      <td>0.17533</td>\n",
       "      <td>1.04575</td>\n",
       "      <td>1.01597</td>\n",
       "      <td>0.955</td>\n",
       "      <td>0.67298</td>\n",
       "    </tr>\n",
       "    <tr>\n",
       "      <th>8</th>\n",
       "      <td>2.0</td>\n",
       "      <td>8.0</td>\n",
       "      <td>1000</td>\n",
       "      <td>1118.10771</td>\n",
       "      <td>1005.23288</td>\n",
       "      <td>0.32071</td>\n",
       "      <td>1.11811</td>\n",
       "      <td>1.00523</td>\n",
       "      <td>0.965</td>\n",
       "      <td>0.87626</td>\n",
       "    </tr>\n",
       "    <tr>\n",
       "      <th>9</th>\n",
       "      <td>3.0</td>\n",
       "      <td>3.0</td>\n",
       "      <td>1000</td>\n",
       "      <td>1431.11674</td>\n",
       "      <td>984.24562</td>\n",
       "      <td>0.72989</td>\n",
       "      <td>1.43112</td>\n",
       "      <td>0.98425</td>\n",
       "      <td>0.915</td>\n",
       "      <td>0.02380</td>\n",
       "    </tr>\n",
       "    <tr>\n",
       "      <th>10</th>\n",
       "      <td>4.0</td>\n",
       "      <td>2.0</td>\n",
       "      <td>1000</td>\n",
       "      <td>1946.59591</td>\n",
       "      <td>1050.57851</td>\n",
       "      <td>1.25030</td>\n",
       "      <td>1.94660</td>\n",
       "      <td>1.05058</td>\n",
       "      <td>0.925</td>\n",
       "      <td>0.07813</td>\n",
       "    </tr>\n",
       "    <tr>\n",
       "      <th>11</th>\n",
       "      <td>6.0</td>\n",
       "      <td>1.0</td>\n",
       "      <td>1000</td>\n",
       "      <td>55686.56524</td>\n",
       "      <td>1327.23097</td>\n",
       "      <td>55.01108</td>\n",
       "      <td>55.68657</td>\n",
       "      <td>1.32723</td>\n",
       "      <td>0.850</td>\n",
       "      <td>0.00000</td>\n",
       "    </tr>\n",
       "  </tbody>\n",
       "</table>\n",
       "</div>"
      ],
      "text/plain": [
       "    Factor of MLE with 95% Credibility  Num Independent Observations Required  \\\n",
       "0                                  1.1                                  423.0   \n",
       "1                                  1.5                                   23.0   \n",
       "2                                  2.0                                    8.0   \n",
       "3                                  3.0                                    3.0   \n",
       "4                                  4.0                                    2.0   \n",
       "5                                  6.0                                    1.0   \n",
       "6                                  1.1                                  423.0   \n",
       "7                                  1.5                                   23.0   \n",
       "8                                  2.0                                    8.0   \n",
       "9                                  3.0                                    3.0   \n",
       "10                                 4.0                                    2.0   \n",
       "11                                 6.0                                    1.0   \n",
       "\n",
       "    True Population Size  Mean Estimated Population Size  \\\n",
       "0                     10                        10.05315   \n",
       "1                     10                        10.54698   \n",
       "2                     10                        10.97870   \n",
       "3                     10                        13.61881   \n",
       "4                     10                        19.57653   \n",
       "5                     10                        45.89956   \n",
       "6                   1000                      1005.95845   \n",
       "7                   1000                      1045.75424   \n",
       "8                   1000                      1118.10771   \n",
       "9                   1000                      1431.11674   \n",
       "10                  1000                      1946.59591   \n",
       "11                  1000                     55686.56524   \n",
       "\n",
       "    Median Estimated Population Size  Mean Normalized Error  \\\n",
       "0                           10.03200                0.03878   \n",
       "1                           10.04277                0.19212   \n",
       "2                            9.84358                0.32053   \n",
       "3                           10.91971                0.62296   \n",
       "4                           12.18342                1.21283   \n",
       "5                           14.45084                3.87291   \n",
       "6                          998.00275                0.03896   \n",
       "7                         1015.97323                0.17533   \n",
       "8                         1005.23288                0.32071   \n",
       "9                          984.24562                0.72989   \n",
       "10                        1050.57851                1.25030   \n",
       "11                        1327.23097               55.01108   \n",
       "\n",
       "    Normalized Mean Estimate  Normalized Median Estimate  \\\n",
       "0                    1.00532                     1.00320   \n",
       "1                    1.05470                     1.00428   \n",
       "2                    1.09787                     0.98436   \n",
       "3                    1.36188                     1.09197   \n",
       "4                    1.95765                     1.21834   \n",
       "5                    4.58996                     1.44508   \n",
       "6                    1.00596                     0.99800   \n",
       "7                    1.04575                     1.01597   \n",
       "8                    1.11811                     1.00523   \n",
       "9                    1.43112                     0.98425   \n",
       "10                   1.94660                     1.05058   \n",
       "11                  55.68657                     1.32723   \n",
       "\n",
       "    Fraction Estimates within Credible Interval  \\\n",
       "0                                         0.935   \n",
       "1                                         0.945   \n",
       "2                                         0.920   \n",
       "3                                         0.945   \n",
       "4                                         0.905   \n",
       "5                                         0.820   \n",
       "6                                         0.950   \n",
       "7                                         0.955   \n",
       "8                                         0.965   \n",
       "9                                         0.915   \n",
       "10                                        0.925   \n",
       "11                                        0.850   \n",
       "\n",
       "    p As Many Estimates Outside Credible Interval  \n",
       "0                                         0.20352  \n",
       "1                                         0.41693  \n",
       "2                                         0.04436  \n",
       "3                                         0.41693  \n",
       "4                                         0.00582  \n",
       "5                                         0.00000  \n",
       "6                                         0.54529  \n",
       "7                                         0.67298  \n",
       "8                                         0.87626  \n",
       "9                                         0.02380  \n",
       "10                                        0.07813  \n",
       "11                                        0.00000  "
      ]
     },
     "execution_count": 13,
     "metadata": {},
     "output_type": "execute_result"
    }
   ],
   "source": [
    "res_df = pd.DataFrame.from_records(records)\n",
    "res_df.round(5)\n"
   ]
  },
  {
   "cell_type": "markdown",
   "id": "31c8b5c0",
   "metadata": {},
   "source": [
    "The maximum likelihood population size estimator $\\hat{n}_{\\mathrm{MLE}}$ appears to be biased towards overestimation, especially for small numbers of independent observations.\n",
    "For one independent observation, 95% credibility appears to translate to about 80% confidence.\n",
    "\n",
    "Perhaps numerical simulation paired with binomial confidence intervals could be used to produce (loose) confidence intervals for this estimation method.\n"
   ]
  },
  {
   "cell_type": "markdown",
   "id": "0bb3716c",
   "metadata": {},
   "source": [
    "# Result\n",
    "\n",
    "We derived an expression for the credibilty contained within a factor of the maximum likelihood estimate $\\hat{n}_\\mathrm{mle}$,\n",
    "\n",
    "$$\\frac{- \\gamma(k + 1, \\frac{k}{f}) + \\gamma(k + 1, f k)}{k!}.$$\n",
    "\n",
    "By its form, the credibility contained within a factor of maximum likelihood estimate $\\hat{n}_\\mathrm{mle}$ remains constant across population sizes $n$.\n",
    "Numerical simulation showed that $\\hat{n}_\\mathrm{mle}$ is biased towards overestimation, although this bias decreases with increasing independent observations $k$.\n",
    "Numerical simulation also showed a clear nonequivalence between confidence and credibility, although this dissipated with larger $k$.\n"
   ]
  },
  {
   "cell_type": "markdown",
   "id": "fc4589fb",
   "metadata": {},
   "source": [
    "# References\n",
    "\n",
    "<a\n",
    "   id=\"porter1996interval\"\n",
    "   href=\"https://www.jstor.org/stable/2985006\">\n",
    "Porter, Frank. \"Interval estimation using the likelihood function.\" Nuclear Instruments and Methods in Physics Research Section A: Accelerators, Spectrometers, Detectors and Associated Equipment 368.3 (1996): 793-803.\n",
    "</a>\n"
   ]
  }
 ],
 "metadata": {
  "kernelspec": {
   "display_name": "Python 3",
   "language": "python",
   "name": "python3"
  },
  "language_info": {
   "codemirror_mode": {
    "name": "ipython",
    "version": 3
   },
   "file_extension": ".py",
   "mimetype": "text/x-python",
   "name": "python",
   "nbconvert_exporter": "python",
   "pygments_lexer": "ipython3",
   "version": "3.8.12"
  }
 },
 "nbformat": 4,
 "nbformat_minor": 5
}
