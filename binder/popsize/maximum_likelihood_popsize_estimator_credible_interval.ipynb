{
 "cells": [
  {
   "cell_type": "code",
   "execution_count": 1,
   "id": "78b1a2a5",
   "metadata": {},
   "outputs": [],
   "source": [
    "from interval_search import doubling_search\n",
    "import math\n",
    "from nbmetalog import nbmetalog as nbm\n",
    "import numpy as np\n",
    "import pandas as pd\n",
    "import random\n",
    "from scipy import stats\n",
    "import sympy\n",
    "import typing\n",
    "\n",
    "random.seed(1)\n"
   ]
  },
  {
   "cell_type": "code",
   "execution_count": 2,
   "id": "0367fd0a",
   "metadata": {},
   "outputs": [
    {
     "name": "stdout",
     "output_type": "stream",
     "text": [
      "context: ci\n",
      "hostname: 285cf15699cb\n",
      "interpreter: 3.8.12 (default, Jan 15 2022, 18:39:47)  [GCC 7.5.0]\n",
      "nbcellexec: 2\n",
      "nbname: maximum_likelihood_popsize_estimator_credible_interval\n",
      "nbpath: /opt/hereditary-stratigraph-concept/binder/popsize/maximum_likelihood_popsize_estimator_credible_interval.ipynb\n",
      "revision: null\n",
      "session: d5c9f33b-39fd-4e5e-882c-b5ebb5003a17\n",
      "timestamp: 2022-12-12T14:56:05Z00:00\n",
      "\n",
      "\n",
      "IPython==7.16.1\n",
      "keyname==0.4.1\n",
      "yaml==5.3.1\n",
      "nbmetalog==0.2.6\n",
      "numpy==1.21.5\n",
      "pandas==1.1.2\n",
      "scipy==1.5.4\n",
      "sympy==1.5.1\n",
      "re==2.2.1\n",
      "ipython_genutils==0.2.0\n",
      "logging==0.5.1.2\n",
      "zmq==22.3.0\n",
      "json==2.0.9\n",
      "ipykernel==5.5.3\n"
     ]
    }
   ],
   "source": [
    "nbm.print_metadata()\n"
   ]
  },
  {
   "cell_type": "markdown",
   "id": "1b3331fb",
   "metadata": {},
   "source": [
    "# Goal\n",
    "\n",
    "From [maximum_likelihood_estimator.ipynb](maximum_likelihood_estimator.ipynb) we have the maximum likelihood estimator for $n$ given $k$ observations of fixed gene magnitude $x_1, x_2, ... x_k$ as\n",
    "\n",
    "$\\hat{n}_\\mathrm{mle} = -\\frac{k}{\\sum_{i=1}^k \\log( x_i )}$.\n",
    "\n",
    "In order to better understand our estimate, we should develop an expression for uncertainty related to the estimate.\n"
   ]
  },
  {
   "cell_type": "markdown",
   "id": "6cbd0104",
   "metadata": {},
   "source": [
    "# Likelihood & Credibility\n",
    "\n",
    "We can express probability that the true value of $n$ falls within a range as the fraction of total likelihood that falls within that range.\n",
    "This constitutes a Bayesian \"credible interval,\" which differs subtly from a (frequentist) confidence interval [(Porter, 1996)](porder1996interval).\n",
    "Note that this assumes a uniform prior for $n$ over $\\mathbb{R}_{\\ge 0}$.\n"
   ]
  },
  {
   "cell_type": "markdown",
   "id": "1602f80d",
   "metadata": {},
   "source": [
    "# Normalization Factor $L$\n",
    "\n",
    "To begin, calculate total likelihood $L$ by integrating over the domain of $n$.\n",
    "(For simplicity, we treat $n$ as continuous rather than discrete.)\n",
    "\n",
    "$\\begin{align*}\n",
    "L\n",
    "&= \\int_{0}^{\\infty} \\mathcal{L}(n) \\, \\mathrm{d}n \\\\\n",
    "&= \\int_{0}^{\\infty} \\exp(\\log\\mathcal{L}(n)) \\, \\mathrm{d}n \\\\\n",
    "&= \\int_{0}^{\\infty} \\exp\\Big((n-1) \\sum_{i=1}^k \\log( x_i ) + k \\log(n)\\Big) \\, \\mathrm{d}n \\\\\n",
    "&= \\int_{0}^{\\infty} \\exp\\Big((n-1) \\sum_{i=1}^k \\log( x_i )\\Big) \\exp\\Big(k \\log(n)\\Big) \\, \\mathrm{d}n \\\\\n",
    "&= \\int_{0}^{\\infty} \\exp\\Big((n-1) \\sum_{i=1}^k \\log( x_i )\\Big) \\exp\\Big( \\log(n^k)\\Big) \\, \\mathrm{d}n \\\\\n",
    "&= \\int_{0}^{\\infty} \\exp\\Big((n-1) \\sum_{i=1}^k \\log( x_i )\\Big) n^k \\, \\mathrm{d}n.\n",
    "\\end{align*}$\n",
    "\n",
    "Let's simplify our expression by substituting $\\sum_{i=1}^k \\log( x_i )$ as $v$,\n",
    "\n",
    "$\\begin{align*}\n",
    "L\n",
    "&= \\int_{0}^{\\infty} \\exp\\Big((n-1) v\\Big) n^k \\, \\mathrm{d}n\n",
    "\\end{align*}$\n",
    "\n",
    "and evaluate this integral with the help of computer algebra.\n"
   ]
  },
  {
   "cell_type": "code",
   "execution_count": 3,
   "id": "523b5cfa",
   "metadata": {},
   "outputs": [
    {
     "data": {
      "text/latex": [
       "$\\displaystyle \\int\\limits_{0}^{\\infty} n^{k} e^{v \\left(n - 1\\right)}\\, dn$"
      ],
      "text/plain": [
       "Integral(n**k*exp(v*(n - 1)), (n, 0, oo))"
      ]
     },
     "execution_count": 3,
     "metadata": {},
     "output_type": "execute_result"
    }
   ],
   "source": [
    "# specify variables with assumptions for domain\n",
    "n = sympy.Symbol('n', positive=True, real=True,)\n",
    "k = sympy.Symbol('k', integer=True, positive=True, real=True,)\n",
    "v = sympy.Symbol('v', negative=True, real=True,)\n",
    "\n",
    "likelihood = sympy.exp( (n-1) * v ) * n**k\n",
    "\n",
    "# pretty print, does the expression look right?\n",
    "sympy.Integral(likelihood, (n, 0, sympy.oo))\n"
   ]
  },
  {
   "cell_type": "code",
   "execution_count": 4,
   "id": "63e1e356",
   "metadata": {},
   "outputs": [
    {
     "data": {
      "text/latex": [
       "$\\displaystyle - \\frac{\\left(- v\\right)^{- k} e^{- v} \\Gamma\\left(k + 1\\right)}{v}$"
      ],
      "text/plain": [
       "-(-v)**(-k)*exp(-v)*gamma(k + 1)/v"
      ]
     },
     "execution_count": 4,
     "metadata": {},
     "output_type": "execute_result"
    }
   ],
   "source": [
    "# perform integration\n",
    "likelihood_integrated_over_domain = sympy.integrate(\n",
    "    likelihood,\n",
    "    (n, 0, sympy.oo)\n",
    ")\n",
    "likelihood_integrated_over_domain\n"
   ]
  },
  {
   "cell_type": "markdown",
   "id": "13e1dc67",
   "metadata": {},
   "source": [
    "Simplifying and substituting,\n",
    "\n",
    "$\\begin{align*}\n",
    "L\n",
    "&= -\\frac{(-v)^{-k} e^{-v} \\Gamma(k+1)}{v}\\\\\n",
    "&= -\\frac{-v(-v)^{-k-1} e^{-v} \\Gamma(k+1)}{v}\\\\\n",
    "&= (-v)^{-k-1} e^{-v} \\Gamma(k+1).\n",
    "\\end{align*}$\n"
   ]
  },
  {
   "cell_type": "markdown",
   "id": "19d89936",
   "metadata": {},
   "source": [
    "# Credibility Within Factor of MLE\n",
    "\n",
    "How much likelihood $L_f$ falls within a factor $f$ of our maximum likelihood estimate?\n",
    "Integrating likelihood $\\mathcal{L}$ between $\\hat{n}_\\mathrm{mle}/f$ and $f\\hat{n}_\\mathrm{mle}$,\n",
    "\n",
    "$\\begin{align*}\n",
    "L_f\n",
    "&= \\int_{\\hat{n}_\\mathrm{mle}/f}^{f\\hat{n}_\\mathrm{mle}} \\mathcal{L}(n) \\, \\mathrm{d}n\\\\\n",
    "&= \\int_{\\frac{1}{f}\\frac{k}{-\\sum_{i=1}^k \\log( x_i )}}^{f\\frac{k}{-\\sum_{i=1}^k \\log( x_i )}} \\exp\\Big((n-1) v\\Big) n^k \\, \\mathrm{d}n.\n",
    "\\end{align*}$\n",
    "\n",
    "Once more simplifying this expression by substituting $\\sum_{i=1}^k \\log( x_i )$ as $v$,\n",
    "\n",
    "$\\begin{align*}\n",
    "L_f\n",
    "&= \\int_{\\frac{k}{-fv}}^{\\frac{fk}{-v}} \\exp\\Big((n-1) v\\Big) n^k \\, \\mathrm{d}n.\n",
    "\\end{align*}$\n",
    "\n",
    "we will again rely on computer algebra to evaluate this integral.\n"
   ]
  },
  {
   "cell_type": "code",
   "execution_count": 5,
   "id": "13751c7d",
   "metadata": {},
   "outputs": [
    {
     "data": {
      "text/latex": [
       "$\\displaystyle \\int\\limits_{- \\frac{k}{f v}}^{- \\frac{f k}{v}} n^{k} e^{v \\left(n - 1\\right)}\\, dn$"
      ],
      "text/plain": [
       "Integral(n**k*exp(v*(n - 1)), (n, -k/(f*v), -f*k/v))"
      ]
     },
     "execution_count": 5,
     "metadata": {},
     "output_type": "execute_result"
    }
   ],
   "source": [
    "# specify variables with assumptions for domain\n",
    "f = sympy.Symbol('f', positive=True, real=True,)\n",
    "\n",
    "factor_interval_lb = - k / (f * v)\n",
    "factor_interval_ub = - f * k / v\n",
    "\n",
    "# pretty print, does the expression look right?\n",
    "sympy.Integral(\n",
    "    likelihood,\n",
    "    (n, factor_interval_lb, factor_interval_ub,),\n",
    ")\n"
   ]
  },
  {
   "cell_type": "code",
   "execution_count": 6,
   "id": "4f9486df",
   "metadata": {},
   "outputs": [
    {
     "data": {
      "text/latex": [
       "$\\displaystyle v^{- k - 1} \\left(\\gamma\\left(k + 1, \\frac{k}{f}\\right) - \\gamma\\left(k + 1, f k\\right)\\right) e^{i \\pi k - v}$"
      ],
      "text/plain": [
       "v**(-k - 1)*(lowergamma(k + 1, k/f) - lowergamma(k + 1, f*k))*exp(I*pi*k - v)"
      ]
     },
     "execution_count": 6,
     "metadata": {},
     "output_type": "execute_result"
    }
   ],
   "source": [
    "# perform integration\n",
    "likelihood_integrated_over_credible_interval = sympy.integrate(\n",
    "    likelihood,\n",
    "    (n, factor_interval_lb, factor_interval_ub,),\n",
    ")\n",
    "likelihood_integrated_over_credible_interval.simplify()\n"
   ]
  },
  {
   "cell_type": "markdown",
   "id": "66cc7122",
   "metadata": {},
   "source": [
    "We can now solve for the credibilty contained within the credible interval by taking the ratio of integrated likelihoods.\n"
   ]
  },
  {
   "cell_type": "code",
   "execution_count": 7,
   "id": "862395e1",
   "metadata": {},
   "outputs": [
    {
     "data": {
      "text/latex": [
       "$\\displaystyle \\frac{- \\gamma\\left(k + 1, \\frac{k}{f}\\right) + \\gamma\\left(k + 1, f k\\right)}{k!}$"
      ],
      "text/plain": [
       "(-lowergamma(k + 1, k/f) + lowergamma(k + 1, f*k))/factorial(k)"
      ]
     },
     "execution_count": 7,
     "metadata": {},
     "output_type": "execute_result"
    }
   ],
   "source": [
    "credibility = (\n",
    "    likelihood_integrated_over_credible_interval\n",
    "    / likelihood_integrated_over_domain\n",
    ").simplify()\n",
    "credibility\n"
   ]
  },
  {
   "cell_type": "markdown",
   "id": "7eb3bfbb",
   "metadata": {},
   "source": [
    "# What Interval Factor Is Required to Capture a Target Credibility?\n",
    "\n",
    "Unfortunately, there is no easy rearrangement to analytically express the number of required independent observations $k$ in terms of the required credibility and the desired creditiblity interval width factor $f$.\n"
   ]
  },
  {
   "cell_type": "code",
   "execution_count": 8,
   "id": "d480681b",
   "metadata": {},
   "outputs": [
    {
     "name": "stdout",
     "output_type": "stream",
     "text": [
      "multiple generators [factorial(k), lowergamma(k + 1, f*k), lowergamma(k + 1, k/f)]\n",
      "No algorithms are implemented to solve equation (-lowergamma(k + 1, k/f) + lowergamma(k + 1, f*k))/factorial(k) - 19/20\n"
     ]
    }
   ],
   "source": [
    "# trying to solve for an expression that gives f\n",
    "# which will yield 95% credibility fails\n",
    "try:\n",
    "    sympy.solve(sympy.Eq( credibility, 0.95 ), k)\n",
    "except NotImplementedError as e:\n",
    "    print(e)\n"
   ]
  },
  {
   "cell_type": "markdown",
   "id": "72cb5059",
   "metadata": {},
   "source": [
    "However, we can nonetheless efficiently compute the number of required independent observations $k$ to capture a target credibility within a particular factor of the MLE by means of exponential search.\n"
   ]
  },
  {
   "cell_type": "code",
   "execution_count": 9,
   "id": "a66cc26a",
   "metadata": {},
   "outputs": [],
   "source": [
    "def num_observations_required_for_credibility(\n",
    "    target_credibility: float,\n",
    "    interval_factor: float,\n",
    ") -> int:\n",
    "    \"\"\"\n",
    "    Find the minimum number of observations required for a threshold amount of credibility to be contained within a factor of the MLE estimate for\n",
    "    population size.\n",
    "\n",
    "    Parameters\n",
    "    ----------\n",
    "    target_credibility : float\n",
    "        What credibility is required for the credible interval?\n",
    "    interval_factor : float\n",
    "        What should the credible interval bounds be, as a factor of the MLE estimate?\n",
    "        For instance, 2 would indicate the credible interval should span from half of the MLE estimate to twice the MLE estimate.\n",
    "        Corresponds to $f$ in symbolic scratchwork elsewhere.\n",
    "    upper_bound : int\n",
    "        Upper bound for the binary search, inclusive.\n",
    "    \"\"\"\n",
    "\n",
    "    assert 0.0 <= target_credibility <= 1.0\n",
    "    assert interval_factor > 1.0\n",
    "\n",
    "    predicate = lambda k_: credibility.evalf(\n",
    "        subs={\n",
    "            k : k_,\n",
    "            f : interval_factor,\n",
    "        },\n",
    "    ) >= target_credibility\n",
    "\n",
    "    return doubling_search( predicate )\n"
   ]
  },
  {
   "cell_type": "markdown",
   "id": "ee32ca1a",
   "metadata": {},
   "source": [
    "How many independent observations are required to capture 95% of credibility for different credible interval size factors?\n"
   ]
  },
  {
   "cell_type": "code",
   "execution_count": 10,
   "id": "070939e0",
   "metadata": {},
   "outputs": [
    {
     "data": {
      "text/html": [
       "<div>\n",
       "<style scoped>\n",
       "    .dataframe tbody tr th:only-of-type {\n",
       "        vertical-align: middle;\n",
       "    }\n",
       "\n",
       "    .dataframe tbody tr th {\n",
       "        vertical-align: top;\n",
       "    }\n",
       "\n",
       "    .dataframe thead th {\n",
       "        text-align: right;\n",
       "    }\n",
       "</style>\n",
       "<table border=\"1\" class=\"dataframe\">\n",
       "  <thead>\n",
       "    <tr style=\"text-align: right;\">\n",
       "      <th></th>\n",
       "      <th>Factor of MLE with 95% Credibility</th>\n",
       "      <th>Num Independent Observations Required</th>\n",
       "    </tr>\n",
       "  </thead>\n",
       "  <tbody>\n",
       "    <tr>\n",
       "      <th>0</th>\n",
       "      <td>1.1</td>\n",
       "      <td>423</td>\n",
       "    </tr>\n",
       "    <tr>\n",
       "      <th>1</th>\n",
       "      <td>1.5</td>\n",
       "      <td>23</td>\n",
       "    </tr>\n",
       "    <tr>\n",
       "      <th>2</th>\n",
       "      <td>2.0</td>\n",
       "      <td>8</td>\n",
       "    </tr>\n",
       "    <tr>\n",
       "      <th>3</th>\n",
       "      <td>3.0</td>\n",
       "      <td>3</td>\n",
       "    </tr>\n",
       "    <tr>\n",
       "      <th>4</th>\n",
       "      <td>4.0</td>\n",
       "      <td>2</td>\n",
       "    </tr>\n",
       "    <tr>\n",
       "      <th>5</th>\n",
       "      <td>6.0</td>\n",
       "      <td>1</td>\n",
       "    </tr>\n",
       "  </tbody>\n",
       "</table>\n",
       "</div>"
      ],
      "text/plain": [
       "   Factor of MLE with 95% Credibility  Num Independent Observations Required\n",
       "0                                 1.1                                    423\n",
       "1                                 1.5                                     23\n",
       "2                                 2.0                                      8\n",
       "3                                 3.0                                      3\n",
       "4                                 4.0                                      2\n",
       "5                                 6.0                                      1"
      ]
     },
     "execution_count": 10,
     "metadata": {},
     "output_type": "execute_result"
    }
   ],
   "source": [
    "interval_factors = (\n",
    "    1.1,\n",
    "    1.5,\n",
    "    2.0,\n",
    "    3.0,\n",
    "    4.0,\n",
    "    6.0,\n",
    ")\n",
    "\n",
    "atleast95cred_intervals_df = pd.DataFrame.from_records([\n",
    "    {\n",
    "        'Factor of MLE with 95% Credibility' : interval_factor,\n",
    "        'Num Independent Observations Required' : num_observations_required_for_credibility(0.95, interval_factor),\n",
    "    }\n",
    "for interval_factor in interval_factors])\n",
    "\n",
    "atleast95cred_intervals_df\n"
   ]
  },
  {
   "cell_type": "markdown",
   "id": "e953d8c6",
   "metadata": {},
   "source": [
    "# Simulated Experiments\n"
   ]
  },
  {
   "cell_type": "markdown",
   "id": "af55f1a1",
   "metadata": {},
   "source": [
    "How do the derived maximum likelihood estimator and credibility intervals perform on simulated experiments?\n"
   ]
  },
  {
   "cell_type": "code",
   "execution_count": 11,
   "id": "0a0e1100",
   "metadata": {},
   "outputs": [],
   "source": [
    "def sample_observations(true_popsize: int, num_observations: int) -> typing.List[float]:\n",
    "    \"\"\"Simulate sampling the largest gene from within a population of `true_popsize` `num_observations` times.\"\"\"\n",
    "\n",
    "    return [\n",
    "        max(random.random() for __ in range(true_popsize))\n",
    "        for __ in range(num_observations)\n",
    "    ]\n",
    "\n",
    "def estimate_popsize(observations: typing.List[float]) -> float:\n",
    "    \"\"\"Use maximum likelihood estimator to estimate underlying population size given `observations`.\"\"\"\n",
    "\n",
    "    return -len(observations) / sum(math.log(o) for o in observations)\n",
    "\n",
    "def sample_popsize_estimate(true_popsize: int, num_observations: int) -> float:\n",
    "    \"\"\"Generate sampled largest genes from `true_popsize` population\n",
    "    and then use maximum likelihood estimator to estimate `true_popsize`.\"\"\"\n",
    "\n",
    "    return estimate_popsize(sample_observations(true_popsize, num_observations))\n"
   ]
  },
  {
   "cell_type": "code",
   "execution_count": 12,
   "id": "a7204254",
   "metadata": {},
   "outputs": [],
   "source": [
    "# simulate gene drive within populations and then subsequent estimates of population size from magnitude of fixed genes\n",
    "records = []\n",
    "for true_popsize in 10, 1000:\n",
    "    for __, row in atleast95cred_intervals_df.iterrows():\n",
    "        sampled_estimates = [\n",
    "            sample_popsize_estimate(\n",
    "                true_popsize,\n",
    "                int(row['Num Independent Observations Required']),\n",
    "            )\n",
    "            for __ in range(200)\n",
    "        ]\n",
    "\n",
    "        f = row['Factor of MLE with 95% Credibility']\n",
    "        num_estimates_within_credible_interval = sum(\n",
    "            true_popsize / f <= est <= true_popsize * f\n",
    "            for est in sampled_estimates\n",
    "        )\n",
    "\n",
    "        records.append({\n",
    "            **row,\n",
    "            **{\n",
    "                'True Population Size' : true_popsize,\n",
    "                'Mean Estimated Population Size' : np.mean(sampled_estimates),\n",
    "                'Median Estimated Population Size' : np.median(sampled_estimates),\n",
    "                'Mean Normalized Error' : np.mean([abs(est - true_popsize) for est in sampled_estimates]) / true_popsize,\n",
    "                'Normalized Mean Estimate' : np.mean(sampled_estimates) / true_popsize,\n",
    "                'Normalized Median Estimate' : np.median(sampled_estimates) / true_popsize,\n",
    "                'Factor of MLE with 95% Credibility' : f,\n",
    "                'Fraction Estimates within Credible Interval'\n",
    "                    : num_estimates_within_credible_interval / len(sampled_estimates),\n",
    "                'p As Many Estimates Outside Credible Interval'\n",
    "                    : stats.binom.cdf(num_estimates_within_credible_interval, len(sampled_estimates), 0.95),\n",
    "            },\n",
    "        })\n"
   ]
  },
  {
   "cell_type": "code",
   "execution_count": 13,
   "id": "9d902ad7",
   "metadata": {},
   "outputs": [
    {
     "data": {
      "text/html": [
       "<div>\n",
       "<style scoped>\n",
       "    .dataframe tbody tr th:only-of-type {\n",
       "        vertical-align: middle;\n",
       "    }\n",
       "\n",
       "    .dataframe tbody tr th {\n",
       "        vertical-align: top;\n",
       "    }\n",
       "\n",
       "    .dataframe thead th {\n",
       "        text-align: right;\n",
       "    }\n",
       "</style>\n",
       "<table border=\"1\" class=\"dataframe\">\n",
       "  <thead>\n",
       "    <tr style=\"text-align: right;\">\n",
       "      <th></th>\n",
       "      <th>Factor of MLE with 95% Credibility</th>\n",
       "      <th>Num Independent Observations Required</th>\n",
       "      <th>True Population Size</th>\n",
       "      <th>Mean Estimated Population Size</th>\n",
       "      <th>Median Estimated Population Size</th>\n",
       "      <th>Mean Normalized Error</th>\n",
       "      <th>Normalized Mean Estimate</th>\n",
       "      <th>Normalized Median Estimate</th>\n",
       "      <th>Fraction Estimates within Credible Interval</th>\n",
       "      <th>p As Many Estimates Outside Credible Interval</th>\n",
       "    </tr>\n",
       "  </thead>\n",
       "  <tbody>\n",
       "    <tr>\n",
       "      <th>0</th>\n",
       "      <td>1.1</td>\n",
       "      <td>423.0</td>\n",
       "      <td>10</td>\n",
       "      <td>10.01657</td>\n",
       "      <td>10.02156</td>\n",
       "      <td>0.03947</td>\n",
       "      <td>1.00166</td>\n",
       "      <td>1.00216</td>\n",
       "      <td>0.950</td>\n",
       "      <td>0.54529</td>\n",
       "    </tr>\n",
       "    <tr>\n",
       "      <th>1</th>\n",
       "      <td>1.5</td>\n",
       "      <td>23.0</td>\n",
       "      <td>10</td>\n",
       "      <td>10.12196</td>\n",
       "      <td>9.79180</td>\n",
       "      <td>0.17273</td>\n",
       "      <td>1.01220</td>\n",
       "      <td>0.97918</td>\n",
       "      <td>0.940</td>\n",
       "      <td>0.30024</td>\n",
       "    </tr>\n",
       "    <tr>\n",
       "      <th>2</th>\n",
       "      <td>2.0</td>\n",
       "      <td>8.0</td>\n",
       "      <td>10</td>\n",
       "      <td>11.44213</td>\n",
       "      <td>10.56638</td>\n",
       "      <td>0.34375</td>\n",
       "      <td>1.14421</td>\n",
       "      <td>1.05664</td>\n",
       "      <td>0.935</td>\n",
       "      <td>0.20352</td>\n",
       "    </tr>\n",
       "    <tr>\n",
       "      <th>3</th>\n",
       "      <td>3.0</td>\n",
       "      <td>3.0</td>\n",
       "      <td>10</td>\n",
       "      <td>14.50678</td>\n",
       "      <td>11.51827</td>\n",
       "      <td>0.71610</td>\n",
       "      <td>1.45068</td>\n",
       "      <td>1.15183</td>\n",
       "      <td>0.915</td>\n",
       "      <td>0.02380</td>\n",
       "    </tr>\n",
       "    <tr>\n",
       "      <th>4</th>\n",
       "      <td>4.0</td>\n",
       "      <td>2.0</td>\n",
       "      <td>10</td>\n",
       "      <td>23.92638</td>\n",
       "      <td>12.62758</td>\n",
       "      <td>1.64739</td>\n",
       "      <td>2.39264</td>\n",
       "      <td>1.26276</td>\n",
       "      <td>0.930</td>\n",
       "      <td>0.12989</td>\n",
       "    </tr>\n",
       "    <tr>\n",
       "      <th>5</th>\n",
       "      <td>6.0</td>\n",
       "      <td>1.0</td>\n",
       "      <td>10</td>\n",
       "      <td>61.29758</td>\n",
       "      <td>15.87050</td>\n",
       "      <td>5.39575</td>\n",
       "      <td>6.12976</td>\n",
       "      <td>1.58705</td>\n",
       "      <td>0.825</td>\n",
       "      <td>0.00000</td>\n",
       "    </tr>\n",
       "    <tr>\n",
       "      <th>6</th>\n",
       "      <td>1.1</td>\n",
       "      <td>423.0</td>\n",
       "      <td>1000</td>\n",
       "      <td>1003.72643</td>\n",
       "      <td>1003.82839</td>\n",
       "      <td>0.04127</td>\n",
       "      <td>1.00373</td>\n",
       "      <td>1.00383</td>\n",
       "      <td>0.925</td>\n",
       "      <td>0.07813</td>\n",
       "    </tr>\n",
       "    <tr>\n",
       "      <th>7</th>\n",
       "      <td>1.5</td>\n",
       "      <td>23.0</td>\n",
       "      <td>1000</td>\n",
       "      <td>1061.59460</td>\n",
       "      <td>1042.32772</td>\n",
       "      <td>0.17422</td>\n",
       "      <td>1.06159</td>\n",
       "      <td>1.04233</td>\n",
       "      <td>0.940</td>\n",
       "      <td>0.30024</td>\n",
       "    </tr>\n",
       "    <tr>\n",
       "      <th>8</th>\n",
       "      <td>2.0</td>\n",
       "      <td>8.0</td>\n",
       "      <td>1000</td>\n",
       "      <td>1155.08907</td>\n",
       "      <td>1056.78722</td>\n",
       "      <td>0.34199</td>\n",
       "      <td>1.15509</td>\n",
       "      <td>1.05679</td>\n",
       "      <td>0.950</td>\n",
       "      <td>0.54529</td>\n",
       "    </tr>\n",
       "    <tr>\n",
       "      <th>9</th>\n",
       "      <td>3.0</td>\n",
       "      <td>3.0</td>\n",
       "      <td>1000</td>\n",
       "      <td>1384.82102</td>\n",
       "      <td>1009.82461</td>\n",
       "      <td>0.69035</td>\n",
       "      <td>1.38482</td>\n",
       "      <td>1.00982</td>\n",
       "      <td>0.925</td>\n",
       "      <td>0.07813</td>\n",
       "    </tr>\n",
       "    <tr>\n",
       "      <th>10</th>\n",
       "      <td>4.0</td>\n",
       "      <td>2.0</td>\n",
       "      <td>1000</td>\n",
       "      <td>1803.41253</td>\n",
       "      <td>1217.32340</td>\n",
       "      <td>1.07203</td>\n",
       "      <td>1.80341</td>\n",
       "      <td>1.21732</td>\n",
       "      <td>0.915</td>\n",
       "      <td>0.02380</td>\n",
       "    </tr>\n",
       "    <tr>\n",
       "      <th>11</th>\n",
       "      <td>6.0</td>\n",
       "      <td>1.0</td>\n",
       "      <td>1000</td>\n",
       "      <td>9003.31133</td>\n",
       "      <td>1394.63864</td>\n",
       "      <td>8.34295</td>\n",
       "      <td>9.00331</td>\n",
       "      <td>1.39464</td>\n",
       "      <td>0.845</td>\n",
       "      <td>0.00000</td>\n",
       "    </tr>\n",
       "  </tbody>\n",
       "</table>\n",
       "</div>"
      ],
      "text/plain": [
       "    Factor of MLE with 95% Credibility  Num Independent Observations Required  \\\n",
       "0                                  1.1                                  423.0   \n",
       "1                                  1.5                                   23.0   \n",
       "2                                  2.0                                    8.0   \n",
       "3                                  3.0                                    3.0   \n",
       "4                                  4.0                                    2.0   \n",
       "5                                  6.0                                    1.0   \n",
       "6                                  1.1                                  423.0   \n",
       "7                                  1.5                                   23.0   \n",
       "8                                  2.0                                    8.0   \n",
       "9                                  3.0                                    3.0   \n",
       "10                                 4.0                                    2.0   \n",
       "11                                 6.0                                    1.0   \n",
       "\n",
       "    True Population Size  Mean Estimated Population Size  \\\n",
       "0                     10                        10.01657   \n",
       "1                     10                        10.12196   \n",
       "2                     10                        11.44213   \n",
       "3                     10                        14.50678   \n",
       "4                     10                        23.92638   \n",
       "5                     10                        61.29758   \n",
       "6                   1000                      1003.72643   \n",
       "7                   1000                      1061.59460   \n",
       "8                   1000                      1155.08907   \n",
       "9                   1000                      1384.82102   \n",
       "10                  1000                      1803.41253   \n",
       "11                  1000                      9003.31133   \n",
       "\n",
       "    Median Estimated Population Size  Mean Normalized Error  \\\n",
       "0                           10.02156                0.03947   \n",
       "1                            9.79180                0.17273   \n",
       "2                           10.56638                0.34375   \n",
       "3                           11.51827                0.71610   \n",
       "4                           12.62758                1.64739   \n",
       "5                           15.87050                5.39575   \n",
       "6                         1003.82839                0.04127   \n",
       "7                         1042.32772                0.17422   \n",
       "8                         1056.78722                0.34199   \n",
       "9                         1009.82461                0.69035   \n",
       "10                        1217.32340                1.07203   \n",
       "11                        1394.63864                8.34295   \n",
       "\n",
       "    Normalized Mean Estimate  Normalized Median Estimate  \\\n",
       "0                    1.00166                     1.00216   \n",
       "1                    1.01220                     0.97918   \n",
       "2                    1.14421                     1.05664   \n",
       "3                    1.45068                     1.15183   \n",
       "4                    2.39264                     1.26276   \n",
       "5                    6.12976                     1.58705   \n",
       "6                    1.00373                     1.00383   \n",
       "7                    1.06159                     1.04233   \n",
       "8                    1.15509                     1.05679   \n",
       "9                    1.38482                     1.00982   \n",
       "10                   1.80341                     1.21732   \n",
       "11                   9.00331                     1.39464   \n",
       "\n",
       "    Fraction Estimates within Credible Interval  \\\n",
       "0                                         0.950   \n",
       "1                                         0.940   \n",
       "2                                         0.935   \n",
       "3                                         0.915   \n",
       "4                                         0.930   \n",
       "5                                         0.825   \n",
       "6                                         0.925   \n",
       "7                                         0.940   \n",
       "8                                         0.950   \n",
       "9                                         0.925   \n",
       "10                                        0.915   \n",
       "11                                        0.845   \n",
       "\n",
       "    p As Many Estimates Outside Credible Interval  \n",
       "0                                         0.54529  \n",
       "1                                         0.30024  \n",
       "2                                         0.20352  \n",
       "3                                         0.02380  \n",
       "4                                         0.12989  \n",
       "5                                         0.00000  \n",
       "6                                         0.07813  \n",
       "7                                         0.30024  \n",
       "8                                         0.54529  \n",
       "9                                         0.07813  \n",
       "10                                        0.02380  \n",
       "11                                        0.00000  "
      ]
     },
     "execution_count": 13,
     "metadata": {},
     "output_type": "execute_result"
    }
   ],
   "source": [
    "res_df = pd.DataFrame.from_records(records)\n",
    "res_df.round(5)\n"
   ]
  },
  {
   "cell_type": "markdown",
   "id": "50701ae8",
   "metadata": {},
   "source": [
    "The maximum likelihood population size estimator $\\hat{n}_{\\mathrm{MLE}}$ appears to be biased towards overestimation, especially for small numbers of independent observations.\n",
    "For one independent observation, 95% credibility appears to translate to about 80% confidence.\n",
    "\n",
    "Perhaps numerical simulation paired with binomial confidence intervals could be used to produce (loose) confidence intervals for this estimation method.\n"
   ]
  },
  {
   "cell_type": "markdown",
   "id": "1007da09",
   "metadata": {},
   "source": [
    "# Result\n",
    "\n",
    "We derived an expression for the credibilty contained within a factor of the maximum likelihood estimate $\\hat{n}_\\mathrm{mle}$,\n",
    "\n",
    "$$\\frac{- \\gamma(k + 1, \\frac{k}{f}) + \\gamma(k + 1, f k)}{k!}.$$\n",
    "\n",
    "By its form, the credibility contained within a factor of maximum likelihood estimate $\\hat{n}_\\mathrm{mle}$ remains constant across population sizes $n$.\n",
    "Numerical simulation showed that $\\hat{n}_\\mathrm{mle}$ is biased towards overestimation, although this bias decreases with increasing independent observations $k$.\n",
    "Numerical simulation also showed a clear nonequivalence between confidence and credibility, although this dissipated with larger $k$.\n"
   ]
  },
  {
   "cell_type": "markdown",
   "id": "b6c6e98f",
   "metadata": {},
   "source": [
    "# References\n",
    "\n",
    "<a\n",
    "   id=\"porter1996interval\"\n",
    "   href=\"https://www.jstor.org/stable/2985006\">\n",
    "Porter, Frank. \"Interval estimation using the likelihood function.\" Nuclear Instruments and Methods in Physics Research Section A: Accelerators, Spectrometers, Detectors and Associated Equipment 368.3 (1996): 793-803.\n",
    "</a>\n"
   ]
  }
 ],
 "metadata": {
  "kernelspec": {
   "display_name": "Python 3",
   "language": "python",
   "name": "python3"
  },
  "language_info": {
   "codemirror_mode": {
    "name": "ipython",
    "version": 3
   },
   "file_extension": ".py",
   "mimetype": "text/x-python",
   "name": "python",
   "nbconvert_exporter": "python",
   "pygments_lexer": "ipython3",
   "version": "3.8.12"
  }
 },
 "nbformat": 4,
 "nbformat_minor": 5
}
