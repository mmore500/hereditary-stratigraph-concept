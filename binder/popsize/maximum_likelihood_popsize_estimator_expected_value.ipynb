{
 "cells": [
  {
   "cell_type": "code",
   "execution_count": 1,
   "id": "d7187448",
   "metadata": {},
   "outputs": [],
   "source": [
    "import math\n",
    "from nbmetalog import nbmetalog as nbm\n",
    "import numpy as np\n",
    "import random\n",
    "import sympy\n",
    "\n",
    "random.seed(1)\n"
   ]
  },
  {
   "cell_type": "code",
   "execution_count": 2,
   "id": "77a5c46a",
   "metadata": {},
   "outputs": [
    {
     "name": "stdout",
     "output_type": "stream",
     "text": [
      "context: ci\n",
      "hostname: 812d283872fe\n",
      "interpreter: 3.8.12 (default, Jan 15 2022, 18:39:47)  [GCC 7.5.0]\n",
      "nbcellexec: 2\n",
      "nbname: maximum_likelihood_popsize_estimator_expected_value\n",
      "nbpath: /opt/hereditary-stratigraph-concept/binder/popsize/maximum_likelihood_popsize_estimator_expected_value.ipynb\n",
      "revision: null\n",
      "session: 13156ca8-595c-4702-b3a6-2796b8316885\n",
      "timestamp: 2022-07-31T03:55:12Z00:00\n",
      "\n",
      "\n",
      "IPython==7.16.1\n",
      "keyname==0.4.1\n",
      "yaml==5.3.1\n",
      "nbmetalog==0.2.6\n",
      "numpy==1.21.5\n",
      "sympy==1.5.1\n",
      "re==2.2.1\n",
      "ipython_genutils==0.2.0\n",
      "logging==0.5.1.2\n",
      "zmq==22.3.0\n",
      "json==2.0.9\n",
      "ipykernel==5.5.3\n"
     ]
    }
   ],
   "source": [
    "nbm.print_metadata()\n"
   ]
  },
  {
   "cell_type": "markdown",
   "id": "4e27b4b0",
   "metadata": {},
   "source": [
    "# Goal\n",
    "\n",
    "Derive the expected value for the maximum likelihood population size estimator, $\\hat{n}_\\mathrm{mle}$.\n"
   ]
  },
  {
   "cell_type": "markdown",
   "id": "80acafcd",
   "metadata": {},
   "source": [
    "# Derivation\n",
    "\n",
    "From [gene_drive_scenario.ipynb](gene_drive_scenario.ipynb), we have that for each independent observation of fixed gene magnitude $\\boldsymbol{X}_i$, we have $\\boldsymbol{X}_i \\sim p(x_i) = n x_i^{n-1}$ for $x_i \\in [0,1]$ and $p(x_i) = 0$ otherwise.\n",
    "\n",
    "From [maximum_likelihood_popsize_estimator.ipynb](maximum_likelihood_popsize_estimator.ipynb) we have\n",
    "\n",
    "$$\n",
    "\\hat{n}_\\mathrm{mle}\n",
    "= -\\frac{k}{\\sum_{i=1}^k \\log( \\boldsymbol{X}_i )}.\n",
    "$$\n",
    "\n",
    "From the definition of expected value and then making use of the laplace transform as shown in <https://math.stackexchange.com/a/302442>,\n",
    "\n",
    "$\\begin{align*}\n",
    "\\\\\n",
    "E(\\hat{n}_\\mathrm{mle})\n",
    "&= E\\Big(-\\frac{k}{\\sum_{i=1}^k \\log( \\boldsymbol{X}_i )}\\Big)\\\\\n",
    "&= -k E\\Big(\\frac{1}{\\sum_{i=1}^k \\log( \\boldsymbol{X}_i )}\\Big)\\\\\n",
    "&= -k E\\Big[\\int_0^\\infty \\exp \\Big( -t \\sum_{i=1}^k \\log( \\boldsymbol{X}_i )\\Big) \\, \\mathrm{d}t \\Big] \\\\\n",
    "&= -k E\\Big[\\int_0^\\infty \\exp \\Big( -t \\sum_{i=1}^k \\log( \\boldsymbol{X}_i )\\Big) \\, \\mathrm{d}t \\Big]\\\\\n",
    "&= -k \\int_0^\\infty E\\Big[ \\exp \\Big( -t \\sum_{i=1}^k \\log( \\boldsymbol{X}_i )\\Big)\\Big] \\, \\mathrm{d}t \\\\\n",
    "&= -k \\int_0^\\infty E\\Big[ \\exp \\Big( -t \\log( \\boldsymbol{X} )\\Big)\\Big]^k \\, \\mathrm{d}t \\\\\n",
    "&= -k \\int_0^\\infty \\Big[\\int_0^1 \\exp \\Big( -t \\log( x )\\Big) p(x) \\, \\mathrm{d}x \\Big]^k \\, \\mathrm{d}t \\\\\n",
    "&= -k \\int_0^\\infty \\Big[\\int_0^1 \\exp \\Big( -t \\log( x )\\Big) n x^{n-1} \\, \\mathrm{d}x \\Big]^k \\, \\mathrm{d}t \\\\\n",
    "&= -k \\int_0^\\infty \\Big[n\\int_0^1 \\exp \\Big( -t \\log( x )\\Big) x^{n-1} \\, \\mathrm{d}x \\Big]^k \\, \\mathrm{d}t \\\\\n",
    "&= -k \\int_0^\\infty n^k\\Big[\\int_0^1 \\exp \\Big( -t \\log( x )\\Big) x^{n-1} \\, \\mathrm{d}x \\Big]^k \\, \\mathrm{d}t \\\\\n",
    "&= -k \\times n^k \\int_0^\\infty \\Big[\\int_0^1 \\exp \\Big( -t \\log( x )\\Big) x^{n-1} \\, \\mathrm{d}x \\Big]^k \\, \\mathrm{d}t \\\\\n",
    "&= -k \\times n^k \\int_0^\\infty \\Big[\\int_0^1 \\exp \\Big( \\log( x^{-t} )\\Big) x^{n-1} \\, \\mathrm{d}x \\Big]^k \\,\n",
    "\\mathrm{d}t \\\\\n",
    "&= -k \\times n^k \\int_0^\\infty \\Big[\\int_0^1 x^{-t} x^{n-1} \\, \\mathrm{d}x \\Big]^k \\,\n",
    "\\mathrm{d}t \\\\\n",
    "&= -k \\times n^k \\int_0^\\infty \\Big[\\int_0^1 x^{n-t-1} \\, \\mathrm{d}x \\Big]^k \\,\n",
    "\\mathrm{d}t \\\\\n",
    "&= -k \\times n^k \\int_0^\\infty \\Big[ \\frac{x^{n-t}}{n-t} \\Big|^0_1 \\Big]^k \\, \\mathrm{d}t \\\\\n",
    "&= -k \\times n^k \\int_0^\\infty \\Big[\\frac{1^{n-t}}{n-t} - \\frac{0^{n-t}}{n-t} \\Big]^k \\, \\mathrm{d}t \\\\\n",
    "&= -k \\times n^k \\int_0^\\infty \\Big[\\frac{1}{n-t} \\Big]^k \\, \\mathrm{d}t \\\\\n",
    "&= -k \\times n^k \\int_0^\\infty \\frac{1}{u^k} \\, (-\\mathrm{d}u) \\\\\n",
    "&= k \\times n^k \\int_0^\\infty u^{-k} \\, \\mathrm{d}u.\n",
    "\\end{align*}$\n",
    "\n",
    "For $k > 1$, we find\n",
    "\n",
    "$\\begin{align*}\n",
    "E(\\hat{n}_\\mathrm{mle})\n",
    "&= k \\times n^k \\int_0^\\infty u^{-k} \\, \\mathrm{d}u \\\\\n",
    "&= k \\times n^k \\frac{u^{1-k}}{1-k} \\Big|_0^\\infty \\\\\n",
    "&= k \\times n^k \\frac{(n-t)^{1-k}}{1-k} \\Big|_0^\\infty \\\\\n",
    "&= k \\times n^k \\frac{1}{(n-t)^{k-1}(1-k)} \\Big|_0^\\infty \\\\\n",
    "&= k \\times n^k \\Big( \\frac{1}{(n-\\infty)^{k-1}(1-k)} - \\frac{1}{(n-0)^{k-1}(1-k)} \\Big) \\\\\n",
    "&= k \\times n^k \\Big( 0 - \\frac{1}{(n-0)^{k-1}(1-k)} \\Big) \\\\\n",
    "&= -k \\times n^k \\frac{1}{n^{k-1}(1-k)} \\\\\n",
    "&= -\\frac{k \\times n^k}{n^{k-1}(1-k)} \\\\\n",
    "&= -\\frac{k \\times n}{1-k} \\\\\n",
    "&= -n\\frac{k}{1-k} \\\\\n",
    "&= n\\frac{k}{k-1}.\n",
    "\\end{align*}$\n",
    "\n",
    "For $k = 1$, expected value diverges as\n",
    "\n",
    "$\\begin{align*}\n",
    "E(\\hat{n}_\\mathrm{mle})\n",
    "&= k \\times n^k \\int_0^\\infty u^{-k} \\, \\mathrm{d}u \\\\\n",
    "&= k \\times n^1 \\int_0^\\infty u^{-1} \\, \\mathrm{d}u \\\\\n",
    "&= k \\times n \\log(u) \\Big|_0^\\infty \\\\\n",
    "&= k \\times n \\log(n-t) \\Big|_0^\\infty \\\\\n",
    "&= k \\times n \\Big[ \\log(n-\\infty) - \\log(n-0) \\Big] \\\\\n",
    "&= k \\times n \\Big[ \\infty - \\log(n) \\Big] \\\\\n",
    "&= \\infty.\n",
    "\\end{align*}$\n"
   ]
  },
  {
   "cell_type": "markdown",
   "id": "938ca68c",
   "metadata": {},
   "source": [
    "# Literature Review\n",
    "\n",
    "[(Terelius, 2012)](#terelius2012distributed) report an identical result.\n"
   ]
  },
  {
   "cell_type": "markdown",
   "id": "a8f0dd36",
   "metadata": {},
   "source": [
    "# Result\n",
    "\n",
    "Expected value for the maximum likelihood population size estimator $\\hat{n}_\\mathrm{mle}$ is given as,\n",
    "\n",
    "$$\n",
    "E(\\hat{n}_\\mathrm{mle})\n",
    "= n\\frac{k}{k-1}\n",
    "$$\n",
    "\n",
    "for $k>1$.\n"
   ]
  },
  {
   "cell_type": "markdown",
   "id": "8d0a2f51",
   "metadata": {},
   "source": [
    "# References\n",
    "\n",
    "<a\n",
    "   id=\"terelius2012distributed\"\n",
    "   href=\"http://doi.org/10.1109/CDC.2012.6425912\">\n",
    "H. Terelius, D. Varagnolo and K. H. Johansson, \"Distributed size estimation of dynamic anonymous networks,\" 2012 IEEE 51st IEEE Conference on Decision and Control (CDC), 2012, pp. 5221-5227, doi: 10.1109/CDC.2012.6425912.\n",
    "</a>\n"
   ]
  }
 ],
 "metadata": {
  "kernelspec": {
   "display_name": "Python 3",
   "language": "python",
   "name": "python3"
  },
  "language_info": {
   "codemirror_mode": {
    "name": "ipython",
    "version": 3
   },
   "file_extension": ".py",
   "mimetype": "text/x-python",
   "name": "python",
   "nbconvert_exporter": "python",
   "pygments_lexer": "ipython3",
   "version": "3.8.12"
  }
 },
 "nbformat": 4,
 "nbformat_minor": 5
}
