{
 "cells": [
  {
   "cell_type": "code",
   "execution_count": null,
   "metadata": {},
   "outputs": [],
   "source": [
    "import math\n",
    "from nbmetalog import nbmetalog as nbm\n",
    "import numpy as np\n",
    "import pandas as pd\n",
    "import random\n",
    "from scipy import stats\n",
    "import typing\n",
    "\n",
    "random.seed(1)\n"
   ]
  },
  {
   "cell_type": "code",
   "execution_count": null,
   "metadata": {},
   "outputs": [],
   "source": [
    "nbm.print_metadata()\n"
   ]
  },
  {
   "cell_type": "markdown",
   "metadata": {},
   "source": [
    "# Goal\n",
    "\n",
    "As a preliminary exercise, derive a confidence interval for estimation of population size $n$ from a single observation of fixed gene magnitude $x$.\n"
   ]
  },
  {
   "cell_type": "markdown",
   "metadata": {},
   "source": [
    "# Strategy\n",
    "\n",
    "Recall from [gene_drive_scenario.ipynb](gene_drive_scenario.ipynb), we have the probability density function for fixed gene magnitude given $n$ as,\n",
    "\n",
    "$$p(x) = nx^{n-1}.$$\n",
    "\n",
    "In order to achieve a $c\\%$ confidence interval, we must capture all $n$ that generate an as-or-less-extreme outcome as the observed $\\hat{x}$ within the inner $c\\%$ of probability mass.\n",
    "In other words, for all $n$ *outside* the confidence interval less than $(1-c)\\%$ of probability mass should be associated with an as-or-more-extreme outcome as observed.\n",
    "(The observed outcome would only be generated with $(1-c)\\%$ probability.)\n",
    "\n",
    "We will take an even-tailed approach, so each tail of as-or-more-extreme outcomes for $n$ rejected from the confidence interval should contain no more than $(1-c)/2\\%$ probability mass.\n"
   ]
  },
  {
   "cell_type": "markdown",
   "metadata": {},
   "source": [
    "# Lower Bound\n",
    "\n",
    "As the lower bound for our confidence interval estimating $n$, we will find the $n_\\mathrm{lb}$ where integrating the upper tail of probability density beyond $\\hat{x}$ contains only $(1-c)/2\\%$ probability mass.\n",
    "\n",
    "We find,\n",
    "\n",
    "$\\begin{align*}\n",
    "(1-c)/2\n",
    "&= \\int_\\hat{x}^1 n_\\mathrm{lb}x^{n_\\mathrm{lb}-1} \\, \\mathrm{d}x\\\\\n",
    "&= x^n_\\mathrm{lb} \\Big|_\\hat{x}^1 \\\\\n",
    "&= 1^n_\\mathrm{lb} - \\hat{x}^n_\\mathrm{lb}\\\\\n",
    "&= 1 - \\hat{x}^n_\\mathrm{lb}\\\\\n",
    "(-1-c)/2\n",
    "&= - \\hat{x}^n_\\mathrm{lb}\\\\\n",
    "(c+1)/2\n",
    "&= \\hat{x}^n_\\mathrm{lb}\\\\\n",
    "n_\\mathrm{lb}\n",
    "&= \\log_\\hat{x}\\Big( \\frac{1+c}{2} \\Big)\\\\\n",
    "&= \\frac{\\log \\Big( \\frac{1+c}{2} \\Big)}{\\log\\hat{x}}.\n",
    "\\end{align*}$\n"
   ]
  },
  {
   "cell_type": "markdown",
   "metadata": {},
   "source": [
    "# Upper Bound\n",
    "\n",
    "As the upper bound for our confidence interval estimating $n$, we will find the $n_\\mathrm{ub}$ where integrating the lower tail of probability density beyond $\\hat{x}$ contains only $(1-c)/2\\%$ probability mass.\n",
    "\n",
    "We find,\n",
    "\n",
    "$\\begin{align*}\n",
    "(1-c)/2\n",
    "&= \\int_0^\\hat{x} n_\\mathrm{ub}x^{n_\\mathrm{ub}-1} \\, \\mathrm{d}x\\\\\n",
    "&= x^n_\\mathrm{ub} \\Big|_0^\\hat{x} \\\\\n",
    "&= \\hat{x}^n_\\mathrm{ub} - 0^n_\\mathrm{ub}\\\\\n",
    "&= \\hat{x}^n_\\mathrm{ub} - 0\\\\\n",
    "(1-c)/2\n",
    "&= \\hat{x}^n_\\mathrm{ub}\\\\\n",
    "n_\\mathrm{ub}\n",
    "&= \\log_\\hat{x}\\Big( \\frac{1-c}{2} \\Big)\\\\\n",
    "&= \\frac{\\log \\Big( \\frac{1-c}{2} \\Big)}{\\log\\hat{x}}.\n",
    "\\end{align*}$\n"
   ]
  },
  {
   "cell_type": "markdown",
   "metadata": {},
   "source": [
    "# Simulated Experiments\n"
   ]
  },
  {
   "cell_type": "code",
   "execution_count": null,
   "metadata": {},
   "outputs": [],
   "source": [
    "def sample_observation(true_popsize: int,) -> float:\n",
    "    \"\"\"Simulate sampling the largest gene from within a population of `true_popsize`.\"\"\"\n",
    "\n",
    "    return max(random.random() for __ in range(true_popsize))\n",
    "\n",
    "def calculate_popsize_confidence_interval(\n",
    "    observation: float,\n",
    "    confidence: float,\n",
    ") -> typing.Tuple[float, float]:\n",
    "    \"\"\"Calculate confidence interval for true population size $n$\n",
    "    given observed fixed gene magnitude $\\hat{x}$.\"\"\"\n",
    "\n",
    "    lb = math.log( (1.0 + confidence)/2.0 ) / math.log(observation)\n",
    "    ub = math.log( (1.0 - confidence)/2.0 ) / math.log(observation)\n",
    "\n",
    "    return (lb, ub,)\n",
    "\n",
    "def sample_popsize_confidence_interval(\n",
    "    true_popsize: int,\n",
    "    confidence: float,\n",
    ") -> typing.Tuple[float, float]:\n",
    "    \"\"\"Generate a sampled largest gene from a `true_popsize` population\n",
    "    and then to calculate a confidence interval for `true_popsize`\n",
    "    based on that sampled largest gene.\"\"\"\n",
    "\n",
    "    return calculate_popsize_confidence_interval(\n",
    "        sample_observation(true_popsize),\n",
    "        confidence,\n",
    "    )\n"
   ]
  },
  {
   "cell_type": "code",
   "execution_count": null,
   "metadata": {},
   "outputs": [],
   "source": [
    "# simulate gene drive within populations and then subsequent estimates of population size from magnitude of fixed genes\n",
    "records = []\n",
    "for true_popsize in 10, 1000,:\n",
    "    for confidence in 0.8, 0.95, 0.99,:\n",
    "        sampled_cis = [\n",
    "            sample_popsize_confidence_interval(\n",
    "                true_popsize,\n",
    "                confidence,\n",
    "            )\n",
    "            for __ in range(1000)\n",
    "        ]\n",
    "\n",
    "        num_confidence_intervals_containing_true_popsize = sum(\n",
    "            bool(lb_ <= true_popsize <= ub_)\n",
    "            for lb_, ub_ in sampled_cis\n",
    "        )\n",
    "\n",
    "        records.append({\n",
    "            'True Population Size' : true_popsize,\n",
    "            'Confidence' : confidence,\n",
    "            'Mean Normalized Confidence Interval width' : np.mean([ub_ - lb_ for lb_, ub_ in sampled_cis]) / true_popsize,\n",
    "            f'Fraction Estimates within Confidence Interval'\n",
    "                : num_confidence_intervals_containing_true_popsize / len(sampled_cis),\n",
    "            'p As Many Estimates Outside Confidence Interval'\n",
    "                : stats.binom.cdf(num_confidence_intervals_containing_true_popsize, len(sampled_cis), confidence),\n",
    "        })\n",
    "\n",
    "res_df = pd.DataFrame.from_records(records)\n",
    "res_df.round(5)\n"
   ]
  },
  {
   "cell_type": "markdown",
   "metadata": {},
   "source": [
    "Simulated experiments show the expected fractions of estimates falling within calculated confidence intervals.\n"
   ]
  },
  {
   "cell_type": "markdown",
   "metadata": {},
   "source": [
    "# Result\n",
    "\n",
    "For a single observation of fixed gene magnitude $\\hat{x}$, the population size $n$ can be estimated with $c\\%$ confidence to fall within the interval\n",
    "\n",
    "$\\begin{align*}\n",
    "\\Big(\n",
    "\\frac{\\log(1+c)}{\\log\\hat{x}},\n",
    "\\frac{\\log(1-c)}{\\log\\hat{x}}\n",
    "\\Big).\n",
    "\\end{align*}$\n",
    "\n",
    "Simulated experiments support the validity of this result.\n"
   ]
  }
 ],
 "metadata": {},
 "nbformat": 4,
 "nbformat_minor": 5
}
