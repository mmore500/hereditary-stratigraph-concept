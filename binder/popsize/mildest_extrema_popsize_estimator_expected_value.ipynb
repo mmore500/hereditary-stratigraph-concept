{
 "cells": [
  {
   "cell_type": "code",
   "execution_count": 1,
   "id": "01fbf273",
   "metadata": {},
   "outputs": [],
   "source": [
    "from IPython.display import display\n",
    "import math\n",
    "import mpmath\n",
    "from nbmetalog import nbmetalog as nbm\n",
    "import os\n",
    "import sympy\n"
   ]
  },
  {
   "cell_type": "code",
   "execution_count": 2,
   "id": "da98ae33",
   "metadata": {},
   "outputs": [
    {
     "name": "stdout",
     "output_type": "stream",
     "text": [
      "context: ci\n",
      "hostname: bd28f571e2ee\n",
      "interpreter: 3.8.10 (default, May 26 2023, 14:05:08)  [GCC 9.4.0]\n",
      "nbcellexec: 2\n",
      "nbname: mildest_extrema_popsize_estimator_expected_value\n",
      "nbpath: /opt/hereditary-stratigraph-concept/binder/popsize/mildest_extrema_popsize_estimator_expected_value.ipynb\n",
      "revision: null\n",
      "session: 43544a01-ee12-4f66-8057-6e860fb1333b\n",
      "timestamp: 2023-11-05T01:04:00Z00:00\n",
      "\n",
      "\n",
      "IPython==7.16.1\n",
      "keyname==0.4.1\n",
      "yaml==5.3.1\n",
      "mpmath==1.2.1\n",
      "nbmetalog==0.2.6\n",
      "sympy==1.5.1\n",
      "re==2.2.1\n",
      "ipython_genutils==0.2.0\n",
      "logging==0.5.1.2\n",
      "zmq==22.3.0\n",
      "json==2.0.9\n",
      "ipykernel==5.5.3\n"
     ]
    }
   ],
   "source": [
    "nbm.print_metadata()\n"
   ]
  },
  {
   "cell_type": "markdown",
   "id": "dbd779fa",
   "metadata": {},
   "source": [
    "# Goal\n",
    "\n",
    "Derive the expected value for the mildest extrema estimator for population size $\\hat{n}_\\mathrm{mue}$.\n"
   ]
  },
  {
   "cell_type": "markdown",
   "id": "cec6f378",
   "metadata": {},
   "source": [
    "# Derivation\n",
    "\n",
    "From [mildest_extrema_popsize_estimator.ipynb](mildest_extrema_popsize_estimator.ipynb), we have\n",
    "\n",
    "$$\n",
    "\\hat{n}_\\mathrm{mue} = \\frac{\n",
    "    \\log \\Big( - \\frac{1}{2}^{1/k} + 1 \\Big)\n",
    "}{\\log( \\min(x_1, x_2, ..., x_k) )}.\n",
    "$$\n",
    "\n",
    "where $p(x_i) =  k nx_i^{n-1} \\Big(1 - x_i^n \\Big)^{k-1}$ for $x_i \\in [0,1]$ and $p(x_i) = 0$ otherwise.\n",
    "\n",
    "From [mildest_extrema_popsize_estimator.ipynb](mildest_extrema_popsize_estimator.ipynb), we also have\n",
    "\n",
    "$$\n",
    "p(x_\\min) =\n",
    "k n x_\\min^{n-1} \\Big(1 - x_\\min^n \\Big)^{k-1}.\n",
    "$$\n",
    "\n",
    "Working from the definition of expected value,\n",
    "\n",
    "$\\begin{align*}\n",
    "E(\\hat{n}_\\mathrm{mue})\n",
    "&= E \\Big(\\frac{\n",
    "    \\log \\Big( - \\frac{1}{2}^{1/k} + 1 \\Big)\n",
    "}{\\log( \\min(x_1, x_2, ..., x_i) )} \\Big)\\\\\n",
    "&= E \\Big(\\frac{\n",
    "    \\log \\Big( - \\frac{1}{2}^{1/k} + 1 \\Big)\n",
    "}{\\log( x_\\min )} \\Big)\\\\\n",
    "&= \\int_0^1 \\frac{\n",
    "    \\log \\Big( - \\frac{1}{2}^{1/k} + 1 \\Big)\n",
    "}{\\log x_\\min } \\times k nx_\\min^{n-1} \\Big(1 - x_\\min^n \\Big)^{k-1} \\, \\mathrm{d}x_\\min\\\\\n",
    "&= k n \\log \\Big( - \\frac{1}{2}^{1/k} + 1 \\Big) \\int_0^1 \\frac{\n",
    "1\n",
    "}{\\log x_\\min } \\times x_\\min^{n-1} \\Big(1 - x_\\min^n \\Big)^{k-1} \\, \\mathrm{d}x_\\min\\\\\n",
    "&= k n \\log \\Big( - \\frac{1}{2}^{1/k} + 1 \\Big) \\int_0^1 \\frac{\n",
    "x^{n-1}\n",
    "}{\\log x } \\Big(1 - x^n \\Big)^{k-1} \\, \\mathrm{d}x.\n",
    "\\end{align*}$\n",
    "\n",
    "To derive a general form for the integral at hand, we will use computer algebra to test the first few terms and then extrapolate.\n"
   ]
  },
  {
   "cell_type": "code",
   "execution_count": 3,
   "id": "3b561dc5",
   "metadata": {},
   "outputs": [],
   "source": [
    "def compute_integral(*, k: int,) -> sympy.Expr:\n",
    "\n",
    "    x = sympy.Symbol('x', nonnegative=True, real=True,)\n",
    "    n = sympy.Symbol('n', nonnegative=True, real=True,)\n",
    "\n",
    "    density = x ** (n-1) * (1 - x**n)**(k-1) / sympy.log(x)\n",
    "    expected_value = sympy.integrate(\n",
    "        density,\n",
    "        (x, 0, 1,),\n",
    "    ).simplify()\n",
    "    return expected_value\n"
   ]
  },
  {
   "cell_type": "code",
   "execution_count": 4,
   "id": "22557e71",
   "metadata": {},
   "outputs": [
    {
     "data": {
      "text/latex": [
       "$\\displaystyle \\int\\limits_{0}^{1} \\frac{x^{n - 1}}{\\log{\\left(x \\right)}}\\, dx$"
      ],
      "text/plain": [
       "Integral(x**(n - 1)/log(x), (x, 0, 1))"
      ]
     },
     "execution_count": 4,
     "metadata": {},
     "output_type": "execute_result"
    }
   ],
   "source": [
    "compute_integral(k=1,)\n"
   ]
  },
  {
   "cell_type": "code",
   "execution_count": 5,
   "id": "1b246c6c",
   "metadata": {},
   "outputs": [
    {
     "data": {
      "text/latex": [
       "$\\displaystyle - \\log{\\left(2 \\right)}$"
      ],
      "text/plain": [
       "-log(2)"
      ]
     },
     "execution_count": 5,
     "metadata": {},
     "output_type": "execute_result"
    }
   ],
   "source": [
    "compute_integral(k=2,)\n"
   ]
  },
  {
   "cell_type": "code",
   "execution_count": 6,
   "id": "90f20f18",
   "metadata": {},
   "outputs": [],
   "source": [
    "# disabled in CI due to compute intensity\n",
    "if 'CI' not in os.environ:\n",
    "    display(compute_integral(k=3,))\n"
   ]
  },
  {
   "cell_type": "code",
   "execution_count": 7,
   "id": "5b846998",
   "metadata": {},
   "outputs": [],
   "source": [
    "# disabled in CI due to compute intensity\n",
    "if 'CI' not in os.environ:\n",
    "    display(compute_integral(k=4,))\n"
   ]
  },
  {
   "cell_type": "code",
   "execution_count": 8,
   "id": "ff6bd008",
   "metadata": {},
   "outputs": [],
   "source": [
    "# disabled in CI due to compute intensity\n",
    "if 'CI' not in os.environ:\n",
    "    display(compute_integral(k=5,))\n"
   ]
  },
  {
   "cell_type": "code",
   "execution_count": 9,
   "id": "6a4dc995",
   "metadata": {},
   "outputs": [],
   "source": [
    "# disabled in CI due to compute intensity\n",
    "if 'CI' not in os.environ:\n",
    "    display(compute_integral(k=6,))\n"
   ]
  },
  {
   "cell_type": "markdown",
   "id": "83b73a4a",
   "metadata": {},
   "source": [
    "The integral appears to be related to infinite products for $\\pi/2$, $e$ and $e^\\gamma$,\n",
    "\n",
    "$$\n",
    "\\prod_{i=1}^{k} i^{(-1)^{i+1} \\times {k-1 \\choose i-1}}\n",
    "$$\n",
    "\n",
    "See <https://oeis.org/A122214> and <http://oeis.org/A122215>.\n",
    "\n",
    "So, we have\n",
    "\n",
    "$\\begin{align*}\n",
    "E(\\hat{n}_\\mathrm{mue})\n",
    "&= k n \\log \\Big( - \\frac{1}{2}^{1/k} + 1 \\Big) \\log\\Big( \\prod_{i=1}^{k} i^{(-1)^{i+1} \\times {k-1 \\choose i-1}} \\Big)\\\\\n",
    "&= k n \\log \\Big( 1 - \\frac{1}{2}^{1/k} + \\prod_{i=1}^{k} i^{(-1)^{i+1} \\times {k-1 \\choose i-1}} \\Big).\n",
    "\\end{align*}$\n"
   ]
  },
  {
   "cell_type": "markdown",
   "id": "46c275e1",
   "metadata": {},
   "source": [
    "# Expected Value as $k$ Increases\n"
   ]
  },
  {
   "cell_type": "code",
   "execution_count": 10,
   "id": "005a590c",
   "metadata": {},
   "outputs": [],
   "source": [
    "def calculate_coefficient(*, k: int,) -> float:\n",
    "    prod_term = math.prod(\n",
    "        mpmath.mpf(i) ** (\n",
    "            mpmath.mpf(-1)**(i+1)\n",
    "            * mpmath.mpf(math.comb(k-1, i-1))\n",
    "        )\n",
    "        for i in range(1, k+1)\n",
    "    )\n",
    "    power_term = - mpmath.mpf(0.5)**mpmath.mpf(1/k) + 1\n",
    "    return k * mpmath.log(prod_term) * mpmath.log(power_term)\n"
   ]
  },
  {
   "cell_type": "code",
   "execution_count": 11,
   "id": "79a1be7e",
   "metadata": {},
   "outputs": [
    {
     "name": "stdout",
     "output_type": "stream",
     "text": [
      "1 0.0\n",
      "6 1.15816185364435\n",
      "11 1.08774719366714\n",
      "16 1.06288548654699\n",
      "21 1.04979052268657\n",
      "26 1.04156228852897\n",
      "31 1.03584557960134\n",
      "36 1.03160698617298\n",
      "41 1.02831796253132\n",
      "46 1.02567845711025\n",
      "51 1.02350469889704\n",
      "56 1.02167743222656\n",
      "61 -11233.5139442267\n"
     ]
    }
   ],
   "source": [
    "for k in range(1,62,5,):\n",
    "    print(k, calculate_coefficient(k=k,))\n"
   ]
  },
  {
   "cell_type": "markdown",
   "id": "19a73272",
   "metadata": {},
   "source": [
    "The coefficient multiplied by $n$ to yield $E(\\hat{n}_\\mathrm{mue})$ appears to converge close to 1, although it becomes unstable past 60 potentially due to numerical errors.\n"
   ]
  },
  {
   "cell_type": "markdown",
   "id": "b33199e0",
   "metadata": {},
   "source": [
    "# Result\n",
    "\n",
    "We have shown the expected value for the mildest extrema estimator as\n",
    "\n",
    "$\\begin{align*}\n",
    "E(\\hat{n}_\\mathrm{mue})\n",
    "&= k n \\log \\Big( 1 - \\frac{1}{2}^{1/k} + \\prod_{i=1}^{k} i^{(-1)^{i+1} \\times {k-1 \\choose i-1}} \\Big).\n",
    "\\end{align*}$\n",
    "\n",
    "The bias of this estimator appears to approach 0 as $k$ increases (although this is made uncertain by numerical issues)\n"
   ]
  }
 ],
 "metadata": {
  "kernelspec": {
   "display_name": "Python 3",
   "language": "python",
   "name": "python3"
  },
  "language_info": {
   "codemirror_mode": {
    "name": "ipython",
    "version": 3
   },
   "file_extension": ".py",
   "mimetype": "text/x-python",
   "name": "python",
   "nbconvert_exporter": "python",
   "pygments_lexer": "ipython3",
   "version": "3.8.10"
  }
 },
 "nbformat": 4,
 "nbformat_minor": 5
}
