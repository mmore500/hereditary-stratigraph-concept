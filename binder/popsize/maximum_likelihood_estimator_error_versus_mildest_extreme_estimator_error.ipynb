{
 "cells": [
  {
   "cell_type": "code",
   "execution_count": null,
   "metadata": {},
   "outputs": [],
   "source": [
    "from collections import defaultdict\n",
    "import math\n",
    "import mpmath\n",
    "import numpy as np\n",
    "import pandas as pd\n",
    "import random\n",
    "import sympy\n",
    "import typing\n",
    "\n",
    "random.seed(1)\n"
   ]
  },
  {
   "cell_type": "markdown",
   "metadata": {},
   "source": [
    "# Goal\n",
    "\n",
    "Compre mean square error and mean absolute error for the mildest extreme estimator, the maximum likelihood estimator, and their bias-corrected variants.\n"
   ]
  },
  {
   "cell_type": "markdown",
   "metadata": {},
   "source": [
    "# Estimators\n",
    "\n",
    "Functions to return estimates for population size from a list of observed fixed gene magnitudes.\n"
   ]
  },
  {
   "cell_type": "code",
   "execution_count": null,
   "metadata": {},
   "outputs": [],
   "source": [
    "def mildest_extrema_estimator(observed_fixed_genes: typing.List[float],) -> float:\n",
    "\n",
    "    mildest_extreme = min(observed_fixed_genes)\n",
    "    k = len(observed_fixed_genes)\n",
    "    return math.log(1.0 - 0.5**(1/k)) / math.log(mildest_extreme)\n"
   ]
  },
  {
   "cell_type": "code",
   "execution_count": null,
   "metadata": {},
   "outputs": [],
   "source": [
    "def corrected_mildest_extrema_estimator(observed_fixed_genes: typing.List[float],) -> float:\n",
    "\n",
    "\n",
    "    k = len(observed_fixed_genes)\n",
    "    # expected value of estimator does not converge for k < 2,\n",
    "    # just return raw estimator\n",
    "    if k == 1:\n",
    "        return mildest_extrema_estimator(observed_fixed_genes)\n",
    "\n",
    "    prod_term = math.prod(\n",
    "        mpmath.mpf(i) ** (\n",
    "            mpmath.mpf(-1)**(i+1)\n",
    "            * mpmath.mpf(math.comb(k-1, i-1))\n",
    "        )\n",
    "        for i in range(1, k+1)\n",
    "    )\n",
    "    power_term = - mpmath.mpf(0.5)**mpmath.mpf(1/k) + 1\n",
    "\n",
    "    # correction factor from mildest_extreme_estimator_expected_value.ipynb\n",
    "    correction_factor = k * mpmath.log(prod_term) * mpmath.log(power_term)\n",
    "\n",
    "    return mildest_extrema_estimator(observed_fixed_genes) / correction_factor\n"
   ]
  },
  {
   "cell_type": "code",
   "execution_count": null,
   "metadata": {},
   "outputs": [],
   "source": [
    "def maximum_likelihood_estimator(observed_fixed_genes: typing.List[float],) -> float:\n",
    "\n",
    "    k = len(observed_fixed_genes)\n",
    "    return -k / sum(map(math.log, observed_fixed_genes))\n"
   ]
  },
  {
   "cell_type": "code",
   "execution_count": null,
   "metadata": {},
   "outputs": [],
   "source": [
    "def corrected_maximum_likelihood_estimator(observed_fixed_genes: typing.List[float],) -> float:\n",
    "\n",
    "    k = len(observed_fixed_genes)\n",
    "    # expected value of estimator does not converge for k < 2,\n",
    "    # just return raw estimator\n",
    "    if k == 1:\n",
    "        return maximum_likelihood_estimator(observed_fixed_genes)\n",
    "\n",
    "    # correction factor from maximum_likelihood_popsize_estimator_expected_value.ipynb\n",
    "    correction_factor = k / (k - 1)\n",
    "\n",
    "    return maximum_likelihood_estimator(observed_fixed_genes) / correction_factor\n"
   ]
  },
  {
   "cell_type": "code",
   "execution_count": null,
   "metadata": {},
   "outputs": [],
   "source": [
    "estimators = [\n",
    "    mildest_extrema_estimator,\n",
    "    corrected_mildest_extrema_estimator,\n",
    "    maximum_likelihood_estimator,\n",
    "    corrected_maximum_likelihood_estimator,\n",
    "]\n"
   ]
  },
  {
   "cell_type": "markdown",
   "metadata": {},
   "source": [
    "# Analytical Expressions for Mean Square Error\n",
    "\n",
    "From [maximum_likelihood_popsize_estimator_mean_square_error.ipynb](maximum_likelihood_popsize_estimator_mean_square_error.ipynb), we have\n",
    "\n",
    "$\\begin{align*}\n",
    "\\mathrm{MSE}( \\hat{n}_\\mathrm{mle} ) = n^2 \\frac{k+2}{(k-1)(k-2)}.\n",
    "\\end{align*}$\n"
   ]
  },
  {
   "cell_type": "code",
   "execution_count": null,
   "metadata": {},
   "outputs": [],
   "source": [
    "def maximum_likelihood_estimator_expected_mean_square_error(k: int, n: int,) -> float:\n",
    "\n",
    "    if k < 3: return float('inf')\n",
    "\n",
    "    return (\n",
    "        n**2\n",
    "        * (k**2 + k-2)\n",
    "        / ( (k-1)**2 * (k-2) )\n",
    "    )\n"
   ]
  },
  {
   "cell_type": "markdown",
   "metadata": {},
   "source": [
    "From [mildest_extrema_popsize_estimator_mean_square_error.ipynb](mildest_extrema_popsize_estimator_mean_square_error.ipynb), we have\n",
    "\n",
    "$\\begin{align*}\n",
    "\\mathrm{MSE}( \\hat{n}_\\mathrm{mee} )\n",
    "= kn\\int\\limits_{0}^{1} \\frac{x^{n - 1} \\left(1 - x^{n}\\right)^{k - 1} \\left(n \\log{\\left(x \\right)} - \\log{\\left(2^{\\frac{1}{k}} - 1 \\right)} + \\frac{\\log{\\left(2 \\right)}}{k}\\right)^{2}}{\\log{\\left(x \\right)}^{2}}\\, dx.\n",
    "\\end{align*}$\n"
   ]
  },
  {
   "cell_type": "code",
   "execution_count": null,
   "metadata": {},
   "outputs": [],
   "source": [
    "def mildest_extrema_estimator_expected_mean_square_error(*, k: int, n: int,) -> float:\n",
    "\n",
    "    x = sympy.Symbol('x', nonnegative=True, real=True,)\n",
    "\n",
    "    res = k * n * sympy.Integral(\n",
    "        x**(n - 1)\n",
    "        *(1 - x**n)**(k - 1)\n",
    "        *(n*sympy.log(x) - sympy.log(2**(1/k) - 1) + sympy.log(2)/k)**2\n",
    "        /sympy.log(x)**2,\n",
    "        (x, 0, 1),\n",
    "    ).evalf()\n",
    "    return float(res)\n"
   ]
  },
  {
   "cell_type": "code",
   "execution_count": null,
   "metadata": {},
   "outputs": [],
   "source": [
    "def expected_mean_square_error(estimator_name: str, **kwargs,) -> float:\n",
    "    return defaultdict(\n",
    "        lambda: float('nan'),\n",
    "        {\n",
    "            'maximum_likelihood_estimator' : maximum_likelihood_estimator_expected_mean_square_error(**kwargs),\n",
    "            'mildest_extrema_estimator' : mildest_extrema_estimator_expected_mean_square_error(**kwargs),\n",
    "        },\n",
    "    )[estimator_name]\n"
   ]
  },
  {
   "cell_type": "markdown",
   "metadata": {},
   "source": [
    "# Simulated Mean Square Error\n"
   ]
  },
  {
   "cell_type": "code",
   "execution_count": null,
   "metadata": {},
   "outputs": [],
   "source": [
    "def sample_observations(true_popsize: int, num_observations: int,) -> typing.List[float]:\n",
    "    \"\"\"Simulate sampling the largest gene from within a population of `true_popsize` `num_observations` times.\"\"\"\n",
    "\n",
    "    return [\n",
    "        max(random.random() for __ in range(true_popsize))\n",
    "        for __ in range(num_observations)\n",
    "    ]\n"
   ]
  },
  {
   "cell_type": "code",
   "execution_count": null,
   "metadata": {},
   "outputs": [],
   "source": [
    "def sample_squared_error(estimator, true_popsize: int, num_observations: int,) -> float:\n",
    "\n",
    "    estimate = estimator(sample_observations(\n",
    "        true_popsize,\n",
    "        num_observations,\n",
    "    ),)\n",
    "\n",
    "    return (true_popsize - estimate)**2\n"
   ]
  },
  {
   "cell_type": "code",
   "execution_count": null,
   "metadata": {},
   "outputs": [],
   "source": [
    "records = []\n",
    "for estimator in estimators:\n",
    "    for k in 2, 3, 10,:\n",
    "        for true_popsize in 10, 100,:\n",
    "\n",
    "            mse = np.mean([\n",
    "                sample_squared_error(\n",
    "                    estimator, true_popsize, k,\n",
    "                )\n",
    "                for __ in range(1000)\n",
    "            ])\n",
    "            expected_mse = expected_mean_square_error(\n",
    "                estimator.__name__,\n",
    "                k=k,\n",
    "                n=true_popsize,\n",
    "            )\n",
    "\n",
    "            records.append({\n",
    "                'Estimator' : estimator.__name__,\n",
    "                'Num Observations' : k,\n",
    "                'True Population Size' : true_popsize,\n",
    "                'Normalized Mean Square Error' : mse/true_popsize**2,\n",
    "                'Mean Square Error' : mse,\n",
    "                'Expectation-Normalized Mean Square Error' : mse/expected_mse,\n",
    "                'Expected Mean Square Error' : expected_mse,\n",
    "            })\n",
    "\n",
    "res_df = pd.DataFrame.from_records(records)\n",
    "res_df.round(5)\n"
   ]
  },
  {
   "cell_type": "markdown",
   "metadata": {},
   "source": [
    "# Simulated Absolute Error\n"
   ]
  },
  {
   "cell_type": "code",
   "execution_count": null,
   "metadata": {},
   "outputs": [],
   "source": [
    "def sample_absolute_error(estimator, true_popsize: int, num_observations: int,) -> float:\n",
    "\n",
    "    estimate = estimator(sample_observations(\n",
    "        true_popsize,\n",
    "        num_observations,\n",
    "    ),)\n",
    "\n",
    "    return abs(true_popsize - estimate)\n"
   ]
  },
  {
   "cell_type": "code",
   "execution_count": null,
   "metadata": {},
   "outputs": [],
   "source": [
    "records = []\n",
    "for estimator in estimators:\n",
    "    for k in 2, 3, 10,:\n",
    "        for true_popsize in 10, 100,:\n",
    "\n",
    "            mse = np.mean([\n",
    "                sample_absolute_error(\n",
    "                    estimator, true_popsize, k,\n",
    "                )\n",
    "                for __ in range(1000)\n",
    "            ])\n",
    "\n",
    "            records.append({\n",
    "                'Estimator' : estimator.__name__,\n",
    "                'Num Observations' : k,\n",
    "                'True Population Size' : true_popsize,\n",
    "                'Mean Absolute Error' : mse,\n",
    "                'Normalized Absolute Square Error' : mse/true_popsize,\n",
    "            })\n",
    "\n",
    "res_df = pd.DataFrame.from_records(records)\n",
    "res_df.round(5)\n"
   ]
  },
  {
   "cell_type": "markdown",
   "metadata": {},
   "source": [
    "# Result\n",
    "\n",
    "The bias-corrected maximum likelihood estimator for population size shows lowest mean average error and mean square error.\n"
   ]
  }
 ],
 "metadata": {
  "kernelspec": {
   "display_name": "Python 3",
   "language": "python",
   "name": "python3"
  },
  "language_info": {
   "codemirror_mode": {
    "name": "ipython",
    "version": 3
   },
   "file_extension": ".py",
   "mimetype": "text/x-python",
   "name": "python",
   "nbconvert_exporter": "python",
   "pygments_lexer": "ipython3",
   "version": "3.8.10"
  }
 },
 "nbformat": 4,
 "nbformat_minor": 5
}
