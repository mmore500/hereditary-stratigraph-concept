{
 "cells": [
  {
   "cell_type": "code",
   "execution_count": null,
   "metadata": {},
   "outputs": [],
   "source": [
    "import math\n",
    "from nbmetalog import nbmetalog as nbm\n",
    "import numpy as np\n",
    "import pandas as pd\n",
    "import random\n",
    "from scipy import stats\n",
    "import sympy\n",
    "import typing\n",
    "\n",
    "random.seed(1)\n"
   ]
  },
  {
   "cell_type": "code",
   "execution_count": null,
   "metadata": {},
   "outputs": [],
   "source": [
    "nbm.print_metadata()\n"
   ]
  },
  {
   "cell_type": "markdown",
   "metadata": {},
   "source": [
    "# Goal\n",
    "\n",
    "Derive an estimator $\\hat{n}_\\mathrm{mee}$ that predicts the population size that generated $k$ independent fixed-gene magnitudes based solely on the magnitude of the least-extreme fixed gene magnitude observed.\n"
   ]
  },
  {
   "cell_type": "markdown",
   "metadata": {},
   "source": [
    "# Strategy\n",
    "\n",
    "\n",
    "Use the confidence intervals derived in [mildest_extrema_popsize_estimator_confidence_interval.ipynb](mildest_extrema_popsize_estimator_confidence_interval.ipynb), setting confidence to zero.\n"
   ]
  },
  {
   "cell_type": "markdown",
   "metadata": {},
   "source": [
    "# Calculating from CI Lower Bound\n",
    "\n",
    "Beginning from the derived expression for the confidence interval lower bound given $k$ observations and a mildest extreme observation $\\hat{x}$, setting confidence to zero,\n",
    "\n",
    "$\\begin{align*}\n",
    "\\hat{n}_\\mathrm{lb}\n",
    "& =\\frac{\n",
    "    \\log \\Big( - \\frac{c+1}{2}^{1/k} + 1 \\Big)\n",
    "}{\\log( \\hat{x} )}\\\\\n",
    "\\hat{n}_\\mathrm{mumee}\n",
    "& =\\frac{\n",
    "    \\log \\Big( - \\frac{0+1}{2}^{1/k} + 1 \\Big)\n",
    "}{\\log( \\hat{x} )}\\\\\n",
    "& =\\frac{\n",
    "    \\log \\Big( - \\frac{1}{2}^{1/k} + 1 \\Big)\n",
    "}{\\log( \\hat{x} )}.\n",
    "\\end{align*}$\n"
   ]
  },
  {
   "cell_type": "markdown",
   "metadata": {},
   "source": [
    "# Calculating from CI Upper Bound\n",
    "\n",
    "As a sanity check, we should arrive at the same result when deriving $\\hat{n}_\\mathrm{mumee}$ from the upper confidence bound,\n",
    "\n",
    "$\\begin{align*}\n",
    "\\hat{n}_\\mathrm{yb}\n",
    "& =\\frac{\n",
    "    \\log \\Big( - \\frac{1-c}{2}^{1/k} + 1 \\Big)\n",
    "}{\\log( \\hat{x} )}\\\\\n",
    "\\hat{n}_\\mathrm{mumee}\n",
    "& =\\frac{\n",
    "    \\log \\Big( - \\frac{1-0}{2}^{1/k} + 1 \\Big)\n",
    "}{\\log( \\hat{x} )}\\\\\n",
    "& \\stackrel{\\checkmark}{=}\\frac{\n",
    "    \\log \\Big( - \\frac{1}{2}^{1/k} + 1 \\Big)\n",
    "}{\\log( \\hat{x} )}.\n",
    "\\end{align*}$\n"
   ]
  },
  {
   "cell_type": "markdown",
   "metadata": {},
   "source": [
    "# Simulated Experiments\n",
    "\n",
    "Test whether estimator is median-unbiased.\n"
   ]
  },
  {
   "cell_type": "code",
   "execution_count": null,
   "metadata": {},
   "outputs": [],
   "source": [
    "def sample_observations(true_popsize: int, num_observations: int) -> typing.List[float]:\n",
    "    \"\"\"Simulate sampling the largest gene from within a population of `true_popsize` `num_observations` times.\"\"\"\n",
    "    return [\n",
    "        max(random.random() for __ in range(true_popsize))\n",
    "        for __ in range(num_observations)\n",
    "    ]\n",
    "\n",
    "def estimate_popsize(observations: typing.List[float]) -> float:\n",
    "    \"\"\"Use maximum likelihood estimator to estimate underlying population size given `observations`.\"\"\"\n",
    "    least_extreme = min(observations)\n",
    "    k = len(observations)\n",
    "    return math.log(1.0 - 0.5**(1/k)) / math.log(least_extreme)\n",
    "\n",
    "def sample_popsize_estimate(true_popsize: int, num_observations: int) -> float:\n",
    "    \"\"\"Generate sampled largest genes from `true_popsize` population\n",
    "    and then use maximum likelihood estimator to estimate `true_popsize`.\"\"\"\n",
    "    return estimate_popsize(sample_observations(true_popsize, num_observations))\n"
   ]
  },
  {
   "cell_type": "code",
   "execution_count": null,
   "metadata": {},
   "outputs": [],
   "source": [
    "# simulate gene drive within populations and then subsequent estimates of population size from magnitude of fixed genes\n",
    "records = []\n",
    "for num_observations in 1, 2, 4, 8, 10, 20, 100, 423:\n",
    "    for true_popsize in 10, 1000:\n",
    "        sampled_estimates = [\n",
    "            sample_popsize_estimate(\n",
    "                true_popsize,\n",
    "                num_observations,\n",
    "            )\n",
    "            for __ in range(500)\n",
    "        ]\n",
    "\n",
    "        num_overestimates = sum(\n",
    "            est > true_popsize\n",
    "            for est in sampled_estimates\n",
    "        )\n",
    "\n",
    "        records.append({\n",
    "            'Num Observations' : num_observations,\n",
    "            'True Population Size' : true_popsize,\n",
    "            'Mean Normalized Error' : np.mean([abs(est - true_popsize) for est in sampled_estimates]) / true_popsize,\n",
    "            'Median Median-Unbiased Estimate' : np.median(sampled_estimates),\n",
    "            'Num Overestimates' : num_overestimates,\n",
    "            'p As Many Overestimates'\n",
    "                : stats.binom.cdf(num_overestimates, len(sampled_estimates), 0.5),\n",
    "        })\n",
    "\n",
    "res_df = pd.DataFrame.from_records(records)\n",
    "res_df.round(5)\n"
   ]
  },
  {
   "cell_type": "markdown",
   "metadata": {},
   "source": [
    "# Result\n",
    "\n",
    "For $k$ observations of fixed gene magnitude $\\hat{x}_i$, we have derived a median-unbiased estimator of population size $\\hat{n}_\\mathrm{mumee}$ based on the maximum-likelihood estimator as\n",
    "\n",
    "$\\begin{align*}\n",
    "\\hat{n}_\\mathrm{mumee}\n",
    "& =\\frac{\n",
    "    \\log \\Big( - \\frac{1}{2}^{1/k} + 1 \\Big)\n",
    "}{\\log( \\prod_{i=1}^k\\hat{x}_i) )}.\n",
    "\\end{align*}$\n",
    "\n",
    "Numerical simulations support this result.\n"
   ]
  }
 ],
 "metadata": {},
 "nbformat": 4,
 "nbformat_minor": 5
}
