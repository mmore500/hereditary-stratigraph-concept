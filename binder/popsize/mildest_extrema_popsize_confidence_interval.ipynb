{
 "cells": [
  {
   "cell_type": "code",
   "execution_count": 1,
   "id": "695b9919",
   "metadata": {},
   "outputs": [],
   "source": [
    "import math\n",
    "from nbmetalog import nbmetalog as nbm\n",
    "import numpy as np\n",
    "import pandas as pd\n",
    "import random\n",
    "from scipy import integrate, stats\n",
    "import sympy\n",
    "import typing\n",
    "\n",
    "random.seed(1)\n",
    "sympy.init_printing()\n"
   ]
  },
  {
   "cell_type": "code",
   "execution_count": 2,
   "id": "5941cdf6",
   "metadata": {},
   "outputs": [
    {
     "name": "stdout",
     "output_type": "stream",
     "text": [
      "context: ci\n",
      "hostname: 6ba40c58a217\n",
      "interpreter: 3.8.10 (default, May 26 2023, 14:05:08)  [GCC 9.4.0]\n",
      "nbcellexec: 2\n",
      "nbname: mildest_extrema_popsize_confidence_interval\n",
      "nbpath: /opt/hereditary-stratigraph-concept/binder/popsize/mildest_extrema_popsize_confidence_interval.ipynb\n",
      "revision: null\n",
      "session: 828b50f8-eade-4a52-9b1a-a78a455c0787\n",
      "timestamp: 2023-08-13T01:43:48Z00:00\n",
      "\n",
      "\n",
      "IPython==7.16.1\n",
      "keyname==0.4.1\n",
      "yaml==5.3.1\n",
      "nbmetalog==0.2.6\n",
      "numpy==1.21.5\n",
      "pandas==2.0.3\n",
      "scipy==1.5.4\n",
      "sympy==1.5.1\n",
      "re==2.2.1\n",
      "ipython_genutils==0.2.0\n",
      "logging==0.5.1.2\n",
      "zmq==22.3.0\n",
      "json==2.0.9\n",
      "ipykernel==5.5.3\n"
     ]
    }
   ],
   "source": [
    "nbm.print_metadata()\n"
   ]
  },
  {
   "cell_type": "markdown",
   "id": "d9cfb3e6",
   "metadata": {},
   "source": [
    "# Goal\n",
    "\n",
    "Calculate a $c\\%$ confidence interval for population size $n$ that takes into account $k$ independent observations of fixed gene magnitude.\n"
   ]
  },
  {
   "cell_type": "markdown",
   "id": "8168d2b7",
   "metadata": {},
   "source": [
    "# Strategy\n",
    "\n",
    "Extend the approach from notebook [single_observation_popsize_confidence_interval.ipynb](single_observation_popsize_confidence_interval.ipynb), where the confidence interval excluded all $n$ for which an outcome as-or-more-extreme than observed was had probability less than $1-c\\%$.\n",
    "\n",
    "This requires an expression for probability density of the observed outcome given population size $n$.\n",
    "Deriving a probability density function for the sum of $k$ replicate observations is difficult.\n",
    "However, through the magic of order statistics, an expression for the probability density of the least-extreme of the $k$ replicate observations is feasible.\n",
    "This will allow us to compute a confidence interval for $n$ in terms of the least-extreme observed fixed gene magnitude $\\hat{x}_1$.\n",
    "\n",
    "At face value, estimating population size $n$ from fixed gene magnitude seems highly susceptible to skew by rare events.\n",
    "A single extremely-high magnitude gene anywhere within a population will fix and distort the estimate of $n$.\n",
    "Therefore there may be some benefit to estimating $n$ by means of the least extreme of $k$ replicate observations with respect to resilience against skew from rare events.\n",
    "However, this approach also seems likely to suffer from \"discarding\" information from the other more extreme $k-1$ observations.\n"
   ]
  },
  {
   "cell_type": "markdown",
   "id": "418e75fc",
   "metadata": {},
   "source": [
    "# Probability Density Function of Least-Extreme Fixed Gene Magnitude\n",
    "\n",
    "According to [(Miller, 2017)](#miller2017probability),\n",
    "\n",
    "\n",
    "> For a random sample of size $n$ having values $x$ and continuous density $f(x)$, the probability density of the $r$th order statistic $Y_r$ is given by\n",
    ">\n",
    "> $\n",
    "g_r(y_r)\n",
    "=\n",
    "\\frac{n!}{(r-1)!}{(n-r)!}\n",
    "\\Big(\\int_{-\\infty}^{y_r} f(x) \\, \\mathrm{d}x \\Big)^{r-1}\n",
    "f(y_r)\n",
    "\\Big(\\int_{y_r}^{\\infty} f(x) \\, \\mathrm{d}x \\Big)^{n-r}\n",
    "$\n",
    ">\n",
    "> and for $Y_1$ (smallest value),\n",
    ">\n",
    "> $\n",
    "f_1(y)\n",
    "=\n",
    "n\n",
    "f(y)\n",
    "\\Big(\\int_{y}^{\\infty} f(x) \\, \\mathrm{d}x \\Big)^{n-1}.\n",
    "$\n",
    "\n",
    "So, with $k$ observations the probability density function of the least-extreme fixed gene is,\n",
    "\n",
    "$\\begin{align*}\n",
    "p_1(x)\n",
    "&= k f(x) \\Big(\\int_{x}^{\\infty} f(u) \\, \\mathrm{d}u \\Big)^{k-1}\\\\\n",
    "&= k nx^{n-1} \\Big(\\int_{x}^{\\infty} nu^{n-1} \\, \\mathrm{d}u \\Big)^{k-1}\\\\\n",
    "&= k nx^{n-1} \\Big(\\int_{x}^{1} nu^{n-1} \\, \\mathrm{d}u \\Big)^{k-1}\\\\\n",
    "&= k nx^{n-1} \\Big(u^{n} |_x^1 \\Big)^{k-1}\\\\\n",
    "&= k nx^{n-1} \\Big(1^{n} - x^n \\Big)^{k-1}\\\\\n",
    "&= k nx^{n-1} \\Big(1 - x^n \\Big)^{k-1}.\n",
    "\\end{align*}$\n"
   ]
  },
  {
   "cell_type": "markdown",
   "id": "104a81f9",
   "metadata": {},
   "source": [
    "# Upper Bound\n",
    "\n",
    "As the upper bound for our confidence interval estimating $n$, we will find the $n_\\mathrm{ub}$ where integrating the lower tail of probability density beyond $\\hat{x}_1$ contains only $(1-c)/2\\%$ probability mass.\n",
    "\n",
    "We must solve\n",
    "\n",
    "$\\begin{align*}\n",
    "(1-c)/2\n",
    "&= \\int_0^{\\hat{x}_1}  k n_\\mathrm{ub} x^{n_\\mathrm{ub}-1} \\Big(1 - x^n_\\mathrm{ub} \\Big)^{k-1} \\, \\mathrm{d}x\n",
    "\\end{align*}$\n",
    "\n",
    "for $n_\\mathrm{ub}$.\n",
    "\n",
    "Sympy fails to solve for arbitrary $k$, so we will solve for $k=1,2,3,\\dots$ and then extrapolate.\n"
   ]
  },
  {
   "cell_type": "code",
   "execution_count": 3,
   "id": "f7bd0e47",
   "metadata": {},
   "outputs": [],
   "source": [
    "# specify variables with assumptions for domain\n",
    "def solve_for_ub(*, k: int):\n",
    "\n",
    "    x = sympy.Symbol('x', nonnegative=True, real=True,)\n",
    "    n = sympy.Symbol('n_\\mathrm{lb}', positive=True, real=True,)\n",
    "\n",
    "    probability_density = k * n * x ** (n - 1) * (1 - x**n)**(k-1)\n",
    "\n",
    "    x1 = sympy.Symbol('\\hat{x}_1', nonnegative=True, real=True,)\n",
    "\n",
    "    integrated = sympy.integrate(\n",
    "        probability_density,\n",
    "        (x, 0, x1,),\n",
    "    ).simplify()\n",
    "\n",
    "    c = sympy.Symbol('c', positive=True, real=True,)\n",
    "\n",
    "    equation = sympy.Eq( integrated, (1-c)/2 ).simplify()\n",
    "\n",
    "    solutions = sympy.solve(equation, n)\n",
    "\n",
    "    return solutions[0].simplify()\n"
   ]
  },
  {
   "cell_type": "code",
   "execution_count": 4,
   "id": "9b6642ed",
   "metadata": {},
   "outputs": [
    {
     "data": {
      "image/png": "[encoded data removed]",
      "text/latex": [
       "$\\displaystyle \\frac{\\log{\\left(\\frac{1}{2} - \\frac{c}{2} \\right)}}{\\log{\\left(\\hat{x}_1 \\right)}}$"
      ],
      "text/plain": [
       "     ⎛1   c⎞ \n",
       "  log⎜─ - ─⎟ \n",
       "     ⎝2   2⎠ \n",
       "─────────────\n",
       "log(\\hat{x}₁)"
      ]
     },
     "execution_count": 4,
     "metadata": {},
     "output_type": "execute_result"
    }
   ],
   "source": [
    "solve_for_ub(k=1,)\n"
   ]
  },
  {
   "cell_type": "code",
   "execution_count": 5,
   "id": "fd094c4f",
   "metadata": {},
   "outputs": [
    {
     "data": {
      "image/png": "[encoded data removed]",
      "text/latex": [
       "$\\displaystyle \\frac{\\log{\\left(- \\frac{\\sqrt{2} \\sqrt{c + 1}}{2} + 1 \\right)}}{\\log{\\left(\\hat{x}_1 \\right)}}$"
      ],
      "text/plain": [
       "   ⎛       _______    ⎞\n",
       "   ⎜  √2⋅╲╱ c + 1     ⎟\n",
       "log⎜- ──────────── + 1⎟\n",
       "   ⎝       2          ⎠\n",
       "───────────────────────\n",
       "     log(\\hat{x}₁)     "
      ]
     },
     "execution_count": 5,
     "metadata": {},
     "output_type": "execute_result"
    }
   ],
   "source": [
    "solve_for_ub(k=2,)\n"
   ]
  },
  {
   "cell_type": "code",
   "execution_count": 6,
   "id": "96375cdb",
   "metadata": {},
   "outputs": [
    {
     "data": {
      "image/png": "[encoded data removed]",
      "text/latex": [
       "$\\displaystyle \\frac{\\log{\\left(- \\frac{2^{\\frac{2}{3}} \\sqrt[3]{c + 1}}{2} + 1 \\right)}}{\\log{\\left(\\hat{x}_1 \\right)}}$"
      ],
      "text/plain": [
       "   ⎛   2/3 3 _______    ⎞\n",
       "   ⎜  2   ⋅╲╱ c + 1     ⎟\n",
       "log⎜- ────────────── + 1⎟\n",
       "   ⎝        2           ⎠\n",
       "─────────────────────────\n",
       "      log(\\hat{x}₁)      "
      ]
     },
     "execution_count": 6,
     "metadata": {},
     "output_type": "execute_result"
    }
   ],
   "source": [
    "solve_for_ub(k=3,)\n"
   ]
  },
  {
   "cell_type": "code",
   "execution_count": 7,
   "id": "0defa609",
   "metadata": {},
   "outputs": [
    {
     "data": {
      "image/png": "[encoded data removed]",
      "text/latex": [
       "$\\displaystyle \\frac{\\log{\\left(- \\frac{2^{\\frac{3}{4}} \\sqrt[4]{c + 1}}{2} + 1 \\right)}}{\\log{\\left(\\hat{x}_1 \\right)}}$"
      ],
      "text/plain": [
       "   ⎛   3/4 4 _______    ⎞\n",
       "   ⎜  2   ⋅╲╱ c + 1     ⎟\n",
       "log⎜- ────────────── + 1⎟\n",
       "   ⎝        2           ⎠\n",
       "─────────────────────────\n",
       "      log(\\hat{x}₁)      "
      ]
     },
     "execution_count": 7,
     "metadata": {},
     "output_type": "execute_result"
    }
   ],
   "source": [
    "solve_for_ub(k=4,)\n"
   ]
  },
  {
   "cell_type": "code",
   "execution_count": 8,
   "id": "25e9d559",
   "metadata": {},
   "outputs": [
    {
     "data": {
      "image/png": "[encoded data removed]",
      "text/latex": [
       "$\\displaystyle \\frac{\\log{\\left(- \\frac{2^{\\frac{5}{6}} \\sqrt[6]{c + 1}}{2} + 1 \\right)}}{\\log{\\left(\\hat{x}_1 \\right)}}$"
      ],
      "text/plain": [
       "   ⎛   5/6 6 _______    ⎞\n",
       "   ⎜  2   ⋅╲╱ c + 1     ⎟\n",
       "log⎜- ────────────── + 1⎟\n",
       "   ⎝        2           ⎠\n",
       "─────────────────────────\n",
       "      log(\\hat{x}₁)      "
      ]
     },
     "execution_count": 8,
     "metadata": {},
     "output_type": "execute_result"
    }
   ],
   "source": [
    "# sympy can't solve this case\n",
    "#solve_for_ub(k=5,)\n",
    "\n",
    "solve_for_ub(k=6,)\n"
   ]
  },
  {
   "cell_type": "code",
   "execution_count": 9,
   "id": "15163a87",
   "metadata": {},
   "outputs": [
    {
     "data": {
      "image/png": "[encoded data removed]",
      "text/latex": [
       "$\\displaystyle \\frac{\\log{\\left(- \\frac{2^{\\frac{7}{8}} \\sqrt[8]{c + 1}}{2} + 1 \\right)}}{\\log{\\left(\\hat{x}_1 \\right)}}$"
      ],
      "text/plain": [
       "   ⎛   7/8 8 _______    ⎞\n",
       "   ⎜  2   ⋅╲╱ c + 1     ⎟\n",
       "log⎜- ────────────── + 1⎟\n",
       "   ⎝        2           ⎠\n",
       "─────────────────────────\n",
       "      log(\\hat{x}₁)      "
      ]
     },
     "execution_count": 9,
     "metadata": {},
     "output_type": "execute_result"
    }
   ],
   "source": [
    "# sympy can't solve this case\n",
    "# solve_for_ub(k=7,)\n",
    "\n",
    "solve_for_ub(k=8,)\n"
   ]
  },
  {
   "cell_type": "markdown",
   "id": "16fe0044",
   "metadata": {},
   "source": [
    "Solution appears to be of the form\n",
    "\n",
    "$\\begin{align*}\n",
    "n_\\mathrm{ub}\n",
    "&=\\frac{\n",
    "    \\log \\Big( - \\frac{2^\\frac{k-1}{k} (c+1)^{1/k}}{2} + 1 \\Big)\n",
    "}{\\log( \\hat{x}_1 )}\\\\\n",
    "&=\\frac{\n",
    "    \\log \\Big( - 2^\\frac{-1}{k} (c+1)^{1/k} + 1 \\Big)\n",
    "}{\\log( \\hat{x}_1 )}\\\\\n",
    "&=\\frac{\n",
    "    \\log \\Big( - \\frac{c+1}{2}^{1/k} + 1 \\Big)\n",
    "}{\\log( \\hat{x}_1 )}\\\\\n",
    "&=\\frac{\n",
    "    \\log \\Big( 1 - \\frac{1+c}{2}^{1/k} \\Big)\n",
    "}{\\log( \\hat{x}_1 )}.\n",
    "\\end{align*}$\n"
   ]
  },
  {
   "cell_type": "markdown",
   "id": "8ab66ada",
   "metadata": {},
   "source": [
    "# Validating Upper Bound Extrapolation\n",
    "\n",
    "To validate the upper bound, we will run numeric integration with specific values of $c$ and $\\hat{x}_1$ to test solutions for more values of $k$.\n"
   ]
  },
  {
   "cell_type": "code",
   "execution_count": 10,
   "id": "b53b9617",
   "metadata": {},
   "outputs": [],
   "source": [
    "def expected_ub(*, k: int, c: float, x1: float) -> float:\n",
    "    return math.log(\n",
    "        1 - ((c+1)/2)**(1/k)\n",
    "        ) / math.log(\n",
    "        x1\n",
    "    )\n"
   ]
  },
  {
   "cell_type": "code",
   "execution_count": 11,
   "id": "19a14f43",
   "metadata": {},
   "outputs": [],
   "source": [
    "def validate_ub(*, k: int, c: float, x1: float,) -> float:\n",
    "\n",
    "    n = expected_ub(k=k, c=c, x1=x1)\n",
    "\n",
    "    # not used: sympy too slow\n",
    "    # x = sympy.Symbol('x', nonnegative=True, real=True,)\n",
    "    # probability_density = k * n * x ** (n - 1) * (1 - x**n)**(k-1)\n",
    "    # integrated = sympy.Integral(\n",
    "    #     probability_density,\n",
    "    #     (x, 0, x1,),\n",
    "    # ).evalf()\n",
    "\n",
    "    integrated, err = integrate.quad(\n",
    "        lambda x: k * n * x ** (n - 1) * (1 - x**n)**(k-1),\n",
    "        0,\n",
    "        x1,\n",
    "    )\n",
    "    assert err < 1e-6, err\n",
    "\n",
    "    return math.isclose(integrated, (1-c)/2, abs_tol=err,)\n"
   ]
  },
  {
   "cell_type": "code",
   "execution_count": 12,
   "id": "7d65c4f5",
   "metadata": {},
   "outputs": [],
   "source": [
    "for k in range(1,1001,50):\n",
    "    for c in np.linspace(0.01, 0.99, 10):\n",
    "        for x1 in np.linspace(0.01, 0.99, 10):\n",
    "            assert validate_ub(k=k, c=c, x1=x1), (k, c, x1)\n"
   ]
  },
  {
   "cell_type": "markdown",
   "id": "bd66a658",
   "metadata": {},
   "source": [
    "# Lower Bound\n",
    "\n",
    "As the lower bound for our confidence interval estimating $n$, we will find the $n_\\mathrm{lb}$ where integrating the upper tail of probability density beyond $\\hat{x}_1$ contains only $(1-c)/2\\%$ probability mass.\n",
    "\n",
    "We must solve\n",
    "\n",
    "$\\begin{align*}\n",
    "(1-c)/2\n",
    "&= \\int_{\\hat{x}_1}^1  k n_\\mathrm{lb}x^{n_\\mathrm{lb}-1} \\Big(1 - x^{n_\\mathrm{lb}} \\Big)^{k-1} \\, \\mathrm{d}x\n",
    "\\end{align*}$\n",
    "\n",
    "for $n_\\mathrm{lb}$.\n",
    "\n",
    "Sympy fails to solve for arbitrary $k$, so we will solve for $k=1,2,3,\\dots$ and then extrapolate.\n"
   ]
  },
  {
   "cell_type": "code",
   "execution_count": 13,
   "id": "c34a6b2e",
   "metadata": {},
   "outputs": [],
   "source": [
    "def solve_lb(*, k: int):\n",
    "\n",
    "    # specify variables with assumptions for domain\n",
    "    x = sympy.Symbol('x', nonnegative=True, real=True,)\n",
    "    n = sympy.Symbol('n_\\mathrm{lb}', positive=True, real=True,)\n",
    "\n",
    "    probability_density = k * n * x ** (n - 1) * (1 - x**n)**(k-1)\n",
    "\n",
    "    x1 = sympy.Symbol('\\hat{x}_1', nonnegative=True, real=True,)\n",
    "\n",
    "    integrated = sympy.integrate(\n",
    "        probability_density,\n",
    "        (x, x1, 1,),\n",
    "    ).simplify()\n",
    "\n",
    "    c = sympy.Symbol('c', positive=True, real=True,)\n",
    "\n",
    "    equation = sympy.Eq( integrated, (1-c)/2 ).simplify()\n",
    "\n",
    "    solutions = sympy.solve(equation, n)\n",
    "\n",
    "    return [solution.simplify() for solution in solutions]\n"
   ]
  },
  {
   "cell_type": "code",
   "execution_count": 14,
   "id": "3ac6678e",
   "metadata": {},
   "outputs": [
    {
     "data": {
      "image/png": "[encoded data removed]",
      "text/latex": [
       "$\\displaystyle \\frac{\\log{\\left(\\frac{c}{2} + \\frac{1}{2} \\right)}}{\\log{\\left(\\hat{x}_1 \\right)}}$"
      ],
      "text/plain": [
       "     ⎛c   1⎞ \n",
       "  log⎜─ + ─⎟ \n",
       "     ⎝2   2⎠ \n",
       "─────────────\n",
       "log(\\hat{x}₁)"
      ]
     },
     "execution_count": 14,
     "metadata": {},
     "output_type": "execute_result"
    }
   ],
   "source": [
    "solve_lb(k=1,)[0]\n"
   ]
  },
  {
   "cell_type": "code",
   "execution_count": 15,
   "id": "588b067e",
   "metadata": {},
   "outputs": [
    {
     "data": {
      "image/png": "[encoded data removed]",
      "text/latex": [
       "$\\displaystyle \\frac{\\log{\\left(- \\frac{\\sqrt{2} \\sqrt{1 - c}}{2} + 1 \\right)}}{\\log{\\left(\\hat{x}_1 \\right)}}$"
      ],
      "text/plain": [
       "   ⎛       _______    ⎞\n",
       "   ⎜  √2⋅╲╱ 1 - c     ⎟\n",
       "log⎜- ──────────── + 1⎟\n",
       "   ⎝       2          ⎠\n",
       "───────────────────────\n",
       "     log(\\hat{x}₁)     "
      ]
     },
     "execution_count": 15,
     "metadata": {},
     "output_type": "execute_result"
    }
   ],
   "source": [
    "solve_lb(k=2,)[0]\n"
   ]
  },
  {
   "cell_type": "code",
   "execution_count": 16,
   "id": "896d5d42",
   "metadata": {},
   "outputs": [
    {
     "data": {
      "image/png": "[encoded data removed]",
      "text/latex": [
       "$\\displaystyle \\frac{\\log{\\left(- \\frac{\\sqrt[3]{2} \\sqrt[3]{- c + \\left|{c - 1}\\right| + 1}}{2} + 1 \\right)}}{\\log{\\left(\\hat{x}_1 \\right)}}$"
      ],
      "text/plain": [
       "   ⎛  3 ___ 3 __________________    ⎞\n",
       "   ⎜  ╲╱ 2 ⋅╲╱ -c + │c - 1│ + 1     ⎟\n",
       "log⎜- ────────────────────────── + 1⎟\n",
       "   ⎝              2                 ⎠\n",
       "─────────────────────────────────────\n",
       "            log(\\hat{x}₁)            "
      ]
     },
     "execution_count": 16,
     "metadata": {},
     "output_type": "execute_result"
    }
   ],
   "source": [
    "solve_lb(k=3,)[0]\n"
   ]
  },
  {
   "cell_type": "code",
   "execution_count": 17,
   "id": "8e86f19f",
   "metadata": {},
   "outputs": [
    {
     "data": {
      "image/png": "[encoded data removed]",
      "text/latex": [
       "$\\displaystyle \\frac{\\log{\\left(- \\frac{2^{\\frac{3}{4}} \\sqrt[4]{1 - c}}{2} + 1 \\right)}}{\\log{\\left(\\hat{x}_1 \\right)}}$"
      ],
      "text/plain": [
       "   ⎛   3/4 4 _______    ⎞\n",
       "   ⎜  2   ⋅╲╱ 1 - c     ⎟\n",
       "log⎜- ────────────── + 1⎟\n",
       "   ⎝        2           ⎠\n",
       "─────────────────────────\n",
       "      log(\\hat{x}₁)      "
      ]
     },
     "execution_count": 17,
     "metadata": {},
     "output_type": "execute_result"
    }
   ],
   "source": [
    "solve_lb(k=4,)[-2]\n"
   ]
  },
  {
   "cell_type": "code",
   "execution_count": 18,
   "id": "854999f0",
   "metadata": {},
   "outputs": [
    {
     "data": {
      "image/png": "[encoded data removed]",
      "text/latex": [
       "$\\displaystyle \\left[ \\right]$"
      ],
      "text/plain": [
       "[]"
      ]
     },
     "execution_count": 18,
     "metadata": {},
     "output_type": "execute_result"
    }
   ],
   "source": [
    "solve_lb(k=5,)\n"
   ]
  },
  {
   "cell_type": "code",
   "execution_count": 19,
   "id": "1f13c78f",
   "metadata": {},
   "outputs": [
    {
     "data": {
      "image/png": "[encoded data removed]",
      "text/latex": [
       "$\\displaystyle \\left[ \\frac{\\log{\\left(- \\frac{\\sqrt[6]{2} \\sqrt{\\left(1 - \\sqrt{3} i\\right) \\sqrt[3]{c + \\left|{c - 1}\\right| - 1}}}{2} + 1 \\right)}}{\\log{\\left(\\hat{x}_1 \\right)}}, \\  \\frac{\\log{\\left(\\frac{\\sqrt[6]{2} \\sqrt{\\left(1 - \\sqrt{3} i\\right) \\sqrt[3]{c + \\left|{c - 1}\\right| - 1}}}{2} + 1 \\right)}}{\\log{\\left(\\hat{x}_1 \\right)}}, \\  \\frac{\\log{\\left(- \\frac{\\sqrt[6]{2} \\sqrt{\\left(1 + \\sqrt{3} i\\right) \\sqrt[3]{c + \\left|{c - 1}\\right| - 1}}}{2} + 1 \\right)}}{\\log{\\left(\\hat{x}_1 \\right)}}, \\  \\frac{\\log{\\left(\\frac{\\sqrt[6]{2} \\sqrt{\\left(1 + \\sqrt{3} i\\right) \\sqrt[3]{c + \\left|{c - 1}\\right| - 1}}}{2} + 1 \\right)}}{\\log{\\left(\\hat{x}_1 \\right)}}, \\  \\frac{\\log{\\left(- \\frac{2^{\\frac{2}{3}} \\sqrt{- \\sqrt[3]{c + \\left|{c - 1}\\right| - 1}}}{2} + 1 \\right)}}{\\log{\\left(\\hat{x}_1 \\right)}}, \\  \\frac{\\log{\\left(\\frac{2^{\\frac{2}{3}} \\sqrt{- \\sqrt[3]{c + \\left|{c - 1}\\right| - 1}}}{2} + 1 \\right)}}{\\log{\\left(\\hat{x}_1 \\right)}}\\right]$"
      ],
      "text/plain": [
       "⎡   ⎛           ________________________________    ⎞     ⎛         __________\n",
       "⎢   ⎜  6 ___   ╱            3 _________________     ⎟     ⎜6 ___   ╱          \n",
       "⎢   ⎜  ╲╱ 2 ⋅╲╱  (1 - √3⋅ⅈ)⋅╲╱ c + │c - 1│ - 1      ⎟     ⎜╲╱ 2 ⋅╲╱  (1 - √3⋅ⅈ\n",
       "⎢log⎜- ───────────────────────────────────────── + 1⎟  log⎜───────────────────\n",
       "⎢   ⎝                      2                        ⎠     ⎝                   \n",
       "⎢────────────────────────────────────────────────────, ───────────────────────\n",
       "⎣                   log(\\hat{x}₁)                                        log(\\\n",
       "\n",
       "______________________    ⎞     ⎛           ________________________________  \n",
       "  3 _________________     ⎟     ⎜  6 ___   ╱            3 _________________   \n",
       ")⋅╲╱ c + │c - 1│ - 1      ⎟     ⎜  ╲╱ 2 ⋅╲╱  (1 + √3⋅ⅈ)⋅╲╱ c + │c - 1│ - 1    \n",
       "────────────────────── + 1⎟  log⎜- ───────────────────────────────────────── +\n",
       " 2                        ⎠     ⎝                      2                      \n",
       "───────────────────────────, ─────────────────────────────────────────────────\n",
       "hat{x}₁)                                        log(\\hat{x}₁)                 \n",
       "\n",
       "  ⎞     ⎛         ________________________________    ⎞     ⎛          _______\n",
       "  ⎟     ⎜6 ___   ╱            3 _________________     ⎟     ⎜   2/3   ╱  3 ___\n",
       "  ⎟     ⎜╲╱ 2 ⋅╲╱  (1 + √3⋅ⅈ)⋅╲╱ c + │c - 1│ - 1      ⎟     ⎜  2   ⋅╲╱  -╲╱ c \n",
       " 1⎟  log⎜───────────────────────────────────────── + 1⎟  log⎜- ───────────────\n",
       "  ⎠     ⎝                    2                        ⎠     ⎝                2\n",
       "───, ──────────────────────────────────────────────────, ─────────────────────\n",
       "                       log(\\hat{x}₁)                                   log(\\ha\n",
       "\n",
       "_______________    ⎞     ⎛        ______________________    ⎞⎤\n",
       "______________     ⎟     ⎜ 2/3   ╱  3 _________________     ⎟⎥\n",
       "+ │c - 1│ - 1      ⎟     ⎜2   ⋅╲╱  -╲╱ c + │c - 1│ - 1      ⎟⎥\n",
       "─────────────── + 1⎟  log⎜────────────────────────────── + 1⎟⎥\n",
       "                   ⎠     ⎝              2                   ⎠⎥\n",
       "────────────────────, ───────────────────────────────────────⎥\n",
       "t{x}₁)                             log(\\hat{x}₁)             ⎦"
      ]
     },
     "execution_count": 19,
     "metadata": {},
     "output_type": "execute_result"
    }
   ],
   "source": [
    "solve_lb(k=6,)\n"
   ]
  },
  {
   "cell_type": "code",
   "execution_count": 20,
   "id": "a7d97585",
   "metadata": {},
   "outputs": [
    {
     "data": {
      "image/png": "[encoded data removed]",
      "text/latex": [
       "$\\displaystyle \\left[ \\right]$"
      ],
      "text/plain": [
       "[]"
      ]
     },
     "execution_count": 20,
     "metadata": {},
     "output_type": "execute_result"
    }
   ],
   "source": [
    "solve_lb(k=7,)\n"
   ]
  },
  {
   "cell_type": "code",
   "execution_count": 21,
   "id": "49af3128",
   "metadata": {},
   "outputs": [
    {
     "data": {
      "image/png": "[encoded data removed]",
      "text/latex": [
       "$\\displaystyle \\frac{\\log{\\left(- \\frac{2^{\\frac{7}{8}} \\sqrt[8]{1 - c}}{2} + 1 \\right)}}{\\log{\\left(\\hat{x}_1 \\right)}}$"
      ],
      "text/plain": [
       "   ⎛   7/8 8 _______    ⎞\n",
       "   ⎜  2   ⋅╲╱ 1 - c     ⎟\n",
       "log⎜- ────────────── + 1⎟\n",
       "   ⎝        2           ⎠\n",
       "─────────────────────────\n",
       "      log(\\hat{x}₁)      "
      ]
     },
     "execution_count": 21,
     "metadata": {},
     "output_type": "execute_result"
    }
   ],
   "source": [
    "solve_lb(k=8,)[6]\n"
   ]
  },
  {
   "cell_type": "markdown",
   "id": "e20978c7",
   "metadata": {},
   "source": [
    "Solution appears to be of the form\n",
    "\n",
    "$\\begin{align*}\n",
    "n_\\mathrm{lb}\n",
    "&=\\frac{\n",
    "    \\log \\Big( - \\frac{2^\\frac{k-1}{k} (1-c)^{1/k}}{2} + 1 \\Big)\n",
    "}{\\log( \\hat{x}_1 )}\\\\\n",
    "&=\\frac{\n",
    "    \\log \\Big( - 2^\\frac{-1}{k} (1-c)^{1/k} + 1 \\Big)\n",
    "}{\\log( \\hat{x}_1 )}\\\\\n",
    "&=\\frac{\n",
    "    \\log \\Big( - \\frac{1-c}{2}^{1/k} + 1 \\Big)\n",
    "}{\\log( \\hat{x}_1 )}\\\\\n",
    "&=\\frac{\n",
    "    \\log \\Big( 1 - \\frac{1-c}{2}^{1/k} \\Big)\n",
    "}{\\log( \\hat{x}_1 )}.\n",
    "\\end{align*}$\n",
    "\n",
    "However, the consistency of Sympy's symbolic integration is spottier than for calculating the upper bound.\n"
   ]
  },
  {
   "cell_type": "markdown",
   "id": "17b011df",
   "metadata": {},
   "source": [
    "# Validating Lower Bound Extrapolation\n"
   ]
  },
  {
   "cell_type": "code",
   "execution_count": 22,
   "id": "3eee93b4",
   "metadata": {},
   "outputs": [],
   "source": [
    "def expected_lb(*, k: int, c: float, x1: float) -> float:\n",
    "    return math.log(\n",
    "        1 - ((1-c)/2)**(1/k)\n",
    "        ) / math.log(\n",
    "        x1\n",
    "    )\n"
   ]
  },
  {
   "cell_type": "code",
   "execution_count": 23,
   "id": "30667114",
   "metadata": {},
   "outputs": [],
   "source": [
    "def validate_lb(*, k: int, c: float, x1: float,) -> float:\n",
    "\n",
    "    n = expected_lb(k=k, c=c, x1=x1)\n",
    "\n",
    "    # not used: sympy too slow\n",
    "    # x = sympy.Symbol('x', nonnegative=True, real=True,)\n",
    "    # probability_density = k * n * x ** (n - 1) * (1 - x**n)**(k-1)\n",
    "    # integrated = sympy.Integral(\n",
    "    #     probability_density,\n",
    "    #     (x, x1, 1.0),\n",
    "    # ).evalf()\n",
    "\n",
    "    integrated, err = integrate.quad(\n",
    "        lambda x: k * n * x ** (n - 1) * (1 - x**n)**(k-1),\n",
    "        x1,\n",
    "        1,\n",
    "    )\n",
    "    assert err < 1e-6, err\n",
    "\n",
    "    return math.isclose(integrated, (1-c)/2, abs_tol=err,)\n"
   ]
  },
  {
   "cell_type": "code",
   "execution_count": 24,
   "id": "55c84c1d",
   "metadata": {},
   "outputs": [],
   "source": [
    "for k in range(1,1001,50):\n",
    "    for c in np.linspace(0.01, 0.99, 10):\n",
    "        for x1 in np.linspace(0.01, 0.99, 10):\n",
    "            assert validate_lb(k=k, c=c, x1=x1), (k, c, x1)\n"
   ]
  },
  {
   "cell_type": "markdown",
   "id": "be3de75e",
   "metadata": {},
   "source": [
    "# Simulated Experiments\n"
   ]
  },
  {
   "cell_type": "code",
   "execution_count": 25,
   "id": "6c1ffcbf",
   "metadata": {},
   "outputs": [],
   "source": [
    "def sample_observations(\n",
    "    true_popsize: int,\n",
    "    num_observations: int,\n",
    ") -> typing.List[float]:\n",
    "    \"\"\"Simulate sampling the largest gene from within a population of `true_popsize` `num_observations` times.\"\"\"\n",
    "    return [\n",
    "        max(random.random() for __ in range(true_popsize))\n",
    "        for __ in range(num_observations)\n",
    "    ]\n",
    "\n",
    "def estimate_popsize_bounds(\n",
    "    observations: typing.List[float],\n",
    ") -> typing.Tuple[float, float]:\n",
    "\n",
    "    lb = math.log(\n",
    "        - ( (1+0.95)/2 ) ** (1/len(observations)) + 1\n",
    "    ) / math.log(\n",
    "            min(observations)\n",
    "    )\n",
    "    ub = math.log(\n",
    "        - ( (1-0.95)/2 ) ** (1/len(observations)) + 1,\n",
    "    ) / math.log(\n",
    "            min(observations),\n",
    "    )\n",
    "\n",
    "    return (ub, lb,)\n",
    "\n",
    "def sample_popsize_bounds(\n",
    "    true_popsize: int,\n",
    "    num_observations: int,\n",
    ") -> typing.Tuple[float, float]:\n",
    "    \"\"\"Generate sampled largest genes from `true_popsize` population\n",
    "    and then use maximum likelihood estimator to estimate `true_popsize`.\"\"\"\n",
    "    return estimate_popsize_bounds(sample_observations(true_popsize, num_observations))\n"
   ]
  },
  {
   "cell_type": "code",
   "execution_count": 26,
   "id": "66ab4f3f",
   "metadata": {},
   "outputs": [
    {
     "data": {
      "text/html": [
       "<div>\n",
       "<style scoped>\n",
       "    .dataframe tbody tr th:only-of-type {\n",
       "        vertical-align: middle;\n",
       "    }\n",
       "\n",
       "    .dataframe tbody tr th {\n",
       "        vertical-align: top;\n",
       "    }\n",
       "\n",
       "    .dataframe thead th {\n",
       "        text-align: right;\n",
       "    }\n",
       "</style>\n",
       "<table border=\"1\" class=\"dataframe\">\n",
       "  <thead>\n",
       "    <tr style=\"text-align: right;\">\n",
       "      <th></th>\n",
       "      <th>Num Observations</th>\n",
       "      <th>True Population Size</th>\n",
       "      <th>Fraction Estimates within 95% Confidence Interval</th>\n",
       "      <th>Mean Normalized Confidence Interval Width</th>\n",
       "      <th>Mean Normalized Confidence Interval Lower Bound</th>\n",
       "      <th>Mean Lower CI Bound</th>\n",
       "      <th>Mean Normalized Confidence Interval Upper Bound</th>\n",
       "      <th>Mean Upper CI Bound</th>\n",
       "      <th>Median Lower CI Bound</th>\n",
       "      <th>Median Upper CI Bound</th>\n",
       "      <th>p As Many Estimates Outside Credible Interval</th>\n",
       "    </tr>\n",
       "  </thead>\n",
       "  <tbody>\n",
       "    <tr>\n",
       "      <th>0</th>\n",
       "      <td>1</td>\n",
       "      <td>10</td>\n",
       "      <td>0.975</td>\n",
       "      <td>37.73473</td>\n",
       "      <td>0.26077</td>\n",
       "      <td>2.60774</td>\n",
       "      <td>37.99551</td>\n",
       "      <td>379.95506</td>\n",
       "      <td>0.36420</td>\n",
       "      <td>53.06556</td>\n",
       "      <td>0.97355</td>\n",
       "    </tr>\n",
       "    <tr>\n",
       "      <th>1</th>\n",
       "      <td>1</td>\n",
       "      <td>1000</td>\n",
       "      <td>0.980</td>\n",
       "      <td>19.12567</td>\n",
       "      <td>0.13217</td>\n",
       "      <td>132.17197</td>\n",
       "      <td>19.25785</td>\n",
       "      <td>19257.84610</td>\n",
       "      <td>34.30363</td>\n",
       "      <td>4998.14036</td>\n",
       "      <td>0.99095</td>\n",
       "    </tr>\n",
       "    <tr>\n",
       "      <th>2</th>\n",
       "      <td>2</td>\n",
       "      <td>10</td>\n",
       "      <td>0.945</td>\n",
       "      <td>5.98843</td>\n",
       "      <td>0.24519</td>\n",
       "      <td>2.45188</td>\n",
       "      <td>6.23362</td>\n",
       "      <td>62.33618</td>\n",
       "      <td>1.52046</td>\n",
       "      <td>38.65608</td>\n",
       "      <td>0.41693</td>\n",
       "    </tr>\n",
       "    <tr>\n",
       "      <th>3</th>\n",
       "      <td>2</td>\n",
       "      <td>1000</td>\n",
       "      <td>0.970</td>\n",
       "      <td>4.82900</td>\n",
       "      <td>0.19772</td>\n",
       "      <td>197.71624</td>\n",
       "      <td>5.02671</td>\n",
       "      <td>5026.71371</td>\n",
       "      <td>130.93559</td>\n",
       "      <td>3328.89050</td>\n",
       "      <td>0.93766</td>\n",
       "    </tr>\n",
       "    <tr>\n",
       "      <th>4</th>\n",
       "      <td>4</td>\n",
       "      <td>10</td>\n",
       "      <td>0.925</td>\n",
       "      <td>3.06174</td>\n",
       "      <td>0.34043</td>\n",
       "      <td>3.40433</td>\n",
       "      <td>3.40217</td>\n",
       "      <td>34.02171</td>\n",
       "      <td>2.58802</td>\n",
       "      <td>25.86379</td>\n",
       "      <td>0.07813</td>\n",
       "    </tr>\n",
       "    <tr>\n",
       "      <th>5</th>\n",
       "      <td>4</td>\n",
       "      <td>1000</td>\n",
       "      <td>0.950</td>\n",
       "      <td>3.17433</td>\n",
       "      <td>0.35295</td>\n",
       "      <td>352.95224</td>\n",
       "      <td>3.52728</td>\n",
       "      <td>3527.28134</td>\n",
       "      <td>288.09385</td>\n",
       "      <td>2879.10930</td>\n",
       "      <td>0.54529</td>\n",
       "    </tr>\n",
       "    <tr>\n",
       "      <th>6</th>\n",
       "      <td>8</td>\n",
       "      <td>10</td>\n",
       "      <td>0.915</td>\n",
       "      <td>2.02036</td>\n",
       "      <td>0.42255</td>\n",
       "      <td>4.22547</td>\n",
       "      <td>2.44291</td>\n",
       "      <td>24.42906</td>\n",
       "      <td>3.76821</td>\n",
       "      <td>21.78545</td>\n",
       "      <td>0.02380</td>\n",
       "    </tr>\n",
       "    <tr>\n",
       "      <th>7</th>\n",
       "      <td>8</td>\n",
       "      <td>1000</td>\n",
       "      <td>0.960</td>\n",
       "      <td>2.10137</td>\n",
       "      <td>0.43949</td>\n",
       "      <td>439.49022</td>\n",
       "      <td>2.54086</td>\n",
       "      <td>2540.85920</td>\n",
       "      <td>389.19559</td>\n",
       "      <td>2250.08693</td>\n",
       "      <td>0.78670</td>\n",
       "    </tr>\n",
       "    <tr>\n",
       "      <th>8</th>\n",
       "      <td>10</td>\n",
       "      <td>10</td>\n",
       "      <td>0.950</td>\n",
       "      <td>1.90494</td>\n",
       "      <td>0.46633</td>\n",
       "      <td>4.66333</td>\n",
       "      <td>2.37127</td>\n",
       "      <td>23.71269</td>\n",
       "      <td>4.13065</td>\n",
       "      <td>21.00410</td>\n",
       "      <td>0.54529</td>\n",
       "    </tr>\n",
       "    <tr>\n",
       "      <th>9</th>\n",
       "      <td>10</td>\n",
       "      <td>1000</td>\n",
       "      <td>0.960</td>\n",
       "      <td>1.89924</td>\n",
       "      <td>0.46494</td>\n",
       "      <td>464.93746</td>\n",
       "      <td>2.36418</td>\n",
       "      <td>2364.17545</td>\n",
       "      <td>407.13054</td>\n",
       "      <td>2070.23118</td>\n",
       "      <td>0.78670</td>\n",
       "    </tr>\n",
       "    <tr>\n",
       "      <th>10</th>\n",
       "      <td>20</td>\n",
       "      <td>10</td>\n",
       "      <td>0.935</td>\n",
       "      <td>1.54053</td>\n",
       "      <td>0.56099</td>\n",
       "      <td>5.60989</td>\n",
       "      <td>2.10152</td>\n",
       "      <td>21.01524</td>\n",
       "      <td>5.28173</td>\n",
       "      <td>19.78591</td>\n",
       "      <td>0.20352</td>\n",
       "    </tr>\n",
       "    <tr>\n",
       "      <th>11</th>\n",
       "      <td>20</td>\n",
       "      <td>1000</td>\n",
       "      <td>0.960</td>\n",
       "      <td>1.51322</td>\n",
       "      <td>0.55104</td>\n",
       "      <td>551.04135</td>\n",
       "      <td>2.06426</td>\n",
       "      <td>2064.25757</td>\n",
       "      <td>516.98771</td>\n",
       "      <td>1936.68911</td>\n",
       "      <td>0.78670</td>\n",
       "    </tr>\n",
       "    <tr>\n",
       "      <th>12</th>\n",
       "      <td>100</td>\n",
       "      <td>10</td>\n",
       "      <td>0.960</td>\n",
       "      <td>1.01987</td>\n",
       "      <td>0.68184</td>\n",
       "      <td>6.81838</td>\n",
       "      <td>1.70171</td>\n",
       "      <td>17.01709</td>\n",
       "      <td>6.86186</td>\n",
       "      <td>17.12561</td>\n",
       "      <td>0.78670</td>\n",
       "    </tr>\n",
       "    <tr>\n",
       "      <th>13</th>\n",
       "      <td>100</td>\n",
       "      <td>1000</td>\n",
       "      <td>0.950</td>\n",
       "      <td>1.02906</td>\n",
       "      <td>0.68798</td>\n",
       "      <td>687.97953</td>\n",
       "      <td>1.71704</td>\n",
       "      <td>1717.03708</td>\n",
       "      <td>674.78100</td>\n",
       "      <td>1684.09660</td>\n",
       "      <td>0.54529</td>\n",
       "    </tr>\n",
       "  </tbody>\n",
       "</table>\n",
       "</div>"
      ],
      "text/plain": [
       "    Num Observations  True Population Size  \\\n",
       "0                  1                    10   \n",
       "1                  1                  1000   \n",
       "2                  2                    10   \n",
       "3                  2                  1000   \n",
       "4                  4                    10   \n",
       "5                  4                  1000   \n",
       "6                  8                    10   \n",
       "7                  8                  1000   \n",
       "8                 10                    10   \n",
       "9                 10                  1000   \n",
       "10                20                    10   \n",
       "11                20                  1000   \n",
       "12               100                    10   \n",
       "13               100                  1000   \n",
       "\n",
       "    Fraction Estimates within 95% Confidence Interval  \\\n",
       "0                                               0.975   \n",
       "1                                               0.980   \n",
       "2                                               0.945   \n",
       "3                                               0.970   \n",
       "4                                               0.925   \n",
       "5                                               0.950   \n",
       "6                                               0.915   \n",
       "7                                               0.960   \n",
       "8                                               0.950   \n",
       "9                                               0.960   \n",
       "10                                              0.935   \n",
       "11                                              0.960   \n",
       "12                                              0.960   \n",
       "13                                              0.950   \n",
       "\n",
       "    Mean Normalized Confidence Interval Width  \\\n",
       "0                                    37.73473   \n",
       "1                                    19.12567   \n",
       "2                                     5.98843   \n",
       "3                                     4.82900   \n",
       "4                                     3.06174   \n",
       "5                                     3.17433   \n",
       "6                                     2.02036   \n",
       "7                                     2.10137   \n",
       "8                                     1.90494   \n",
       "9                                     1.89924   \n",
       "10                                    1.54053   \n",
       "11                                    1.51322   \n",
       "12                                    1.01987   \n",
       "13                                    1.02906   \n",
       "\n",
       "    Mean Normalized Confidence Interval Lower Bound  Mean Lower CI Bound  \\\n",
       "0                                           0.26077              2.60774   \n",
       "1                                           0.13217            132.17197   \n",
       "2                                           0.24519              2.45188   \n",
       "3                                           0.19772            197.71624   \n",
       "4                                           0.34043              3.40433   \n",
       "5                                           0.35295            352.95224   \n",
       "6                                           0.42255              4.22547   \n",
       "7                                           0.43949            439.49022   \n",
       "8                                           0.46633              4.66333   \n",
       "9                                           0.46494            464.93746   \n",
       "10                                          0.56099              5.60989   \n",
       "11                                          0.55104            551.04135   \n",
       "12                                          0.68184              6.81838   \n",
       "13                                          0.68798            687.97953   \n",
       "\n",
       "    Mean Normalized Confidence Interval Upper Bound  Mean Upper CI Bound  \\\n",
       "0                                          37.99551            379.95506   \n",
       "1                                          19.25785          19257.84610   \n",
       "2                                           6.23362             62.33618   \n",
       "3                                           5.02671           5026.71371   \n",
       "4                                           3.40217             34.02171   \n",
       "5                                           3.52728           3527.28134   \n",
       "6                                           2.44291             24.42906   \n",
       "7                                           2.54086           2540.85920   \n",
       "8                                           2.37127             23.71269   \n",
       "9                                           2.36418           2364.17545   \n",
       "10                                          2.10152             21.01524   \n",
       "11                                          2.06426           2064.25757   \n",
       "12                                          1.70171             17.01709   \n",
       "13                                          1.71704           1717.03708   \n",
       "\n",
       "    Median Lower CI Bound  Median Upper CI Bound  \\\n",
       "0                 0.36420               53.06556   \n",
       "1                34.30363             4998.14036   \n",
       "2                 1.52046               38.65608   \n",
       "3               130.93559             3328.89050   \n",
       "4                 2.58802               25.86379   \n",
       "5               288.09385             2879.10930   \n",
       "6                 3.76821               21.78545   \n",
       "7               389.19559             2250.08693   \n",
       "8                 4.13065               21.00410   \n",
       "9               407.13054             2070.23118   \n",
       "10                5.28173               19.78591   \n",
       "11              516.98771             1936.68911   \n",
       "12                6.86186               17.12561   \n",
       "13              674.78100             1684.09660   \n",
       "\n",
       "    p As Many Estimates Outside Credible Interval  \n",
       "0                                         0.97355  \n",
       "1                                         0.99095  \n",
       "2                                         0.41693  \n",
       "3                                         0.93766  \n",
       "4                                         0.07813  \n",
       "5                                         0.54529  \n",
       "6                                         0.02380  \n",
       "7                                         0.78670  \n",
       "8                                         0.54529  \n",
       "9                                         0.78670  \n",
       "10                                        0.20352  \n",
       "11                                        0.78670  \n",
       "12                                        0.78670  \n",
       "13                                        0.54529  "
      ]
     },
     "execution_count": 26,
     "metadata": {},
     "output_type": "execute_result"
    }
   ],
   "source": [
    "# simulate gene drive within populations and then subsequent estimates of population size from magnitude of fixed genes\n",
    "records = []\n",
    "for num_observations in 1, 2, 4, 8, 10, 20, 100:\n",
    "    for true_popsize in 10, 1000:\n",
    "        sampled_ci_bounds = [\n",
    "            sample_popsize_bounds(\n",
    "                true_popsize,\n",
    "                num_observations,\n",
    "            )\n",
    "            for __ in range(200)\n",
    "        ]\n",
    "\n",
    "        num_confidence_intervals_containing_true_popsize = sum(\n",
    "            bool(lb_ <= true_popsize <= ub_)\n",
    "            for lb_, ub_ in sampled_ci_bounds\n",
    "        )\n",
    "\n",
    "        records.append({\n",
    "            'Num Observations' : num_observations,\n",
    "            'True Population Size' : true_popsize,\n",
    "            'Fraction Estimates within 95% Confidence Interval'\n",
    "                : num_confidence_intervals_containing_true_popsize / len(sampled_ci_bounds),\n",
    "            'Mean Normalized Confidence Interval Width' : np.mean([ub_ - lb_ for lb_, ub_ in sampled_ci_bounds]) / true_popsize,\n",
    "            'Mean Normalized Confidence Interval Lower Bound' : np.mean([lb_ for lb_, ub_ in sampled_ci_bounds]) / true_popsize,            'Mean Lower CI Bound' : np.mean([lb_ for lb_, __ in sampled_ci_bounds]),\n",
    "            'Mean Normalized Confidence Interval Upper Bound' : np.mean([ub_ for lb_, ub_ in sampled_ci_bounds]) / true_popsize,            'Mean Lower CI Bound' : np.mean([lb_ for lb_, __ in sampled_ci_bounds]),\n",
    "            'Mean Upper CI Bound' : np.mean([ub_ for __, ub_ in sampled_ci_bounds]),\n",
    "            'Median Lower CI Bound' : np.median([lb_ for lb_, __ in sampled_ci_bounds]),\n",
    "            'Median Upper CI Bound' : np.median([ub_ for __, ub_ in sampled_ci_bounds]),\n",
    "            'p As Many Estimates Outside Credible Interval'\n",
    "                : stats.binom.cdf(num_confidence_intervals_containing_true_popsize, len(sampled_ci_bounds), 0.95),\n",
    "        })\n",
    "\n",
    "res_df = pd.DataFrame.from_records(records)\n",
    "res_df.round(5)\n"
   ]
  },
  {
   "cell_type": "markdown",
   "id": "61b8a2cd",
   "metadata": {},
   "source": [
    "# Result\n",
    "\n",
    "For the least-extreme observation of fixed gene magnitude $\\hat{x}_1$ from among $k$ observations, the population size $n$ can be estimated with $c\\%$ confidence to fall within the interval\n",
    "\n",
    "$\\begin{align*}\n",
    "\\Big(\n",
    "\\frac{\n",
    "    \\log \\Big( 1 - \\frac{1-c}{2}^{1/k} \\Big)\n",
    "}{\\log( \\hat{x}_1 )},\n",
    "\\frac{\n",
    "    \\log \\Big( 1 - \\frac{1+c}{2}^{1/k} \\Big)\n",
    "}{\\log( \\hat{x}_1 )}\n",
    "\\Big).\n",
    "\\end{align*}$\n",
    "\n",
    "Simulated experiments support the validity of this result.\n"
   ]
  },
  {
   "cell_type": "markdown",
   "id": "d94dea05",
   "metadata": {},
   "source": [
    "# References\n",
    "\n",
    "<a\n",
    "   id=\"miller2017probability\"\n",
    "   href=\"https://press.princeton.edu/books/hardcover/9780691149547/the-probability-lifesaver\">\n",
    "Miller, Steven J. The Probability Lifesaver. Princeton University Press, 2017.\n",
    "</a>\n",
    "    * supplementary chapter \"Order Statistics and the Median Theorem\" retrieved from <https://web.williams.edu/Mathematics/sjmiller/public_html/probabilitylifesaver/supplementalchap_mediantheoremandorderstatistics.pdf>\n"
   ]
  }
 ],
 "metadata": {
  "kernelspec": {
   "display_name": "Python 3",
   "language": "python",
   "name": "python3"
  },
  "language_info": {
   "codemirror_mode": {
    "name": "ipython",
    "version": 3
   },
   "file_extension": ".py",
   "mimetype": "text/x-python",
   "name": "python",
   "nbconvert_exporter": "python",
   "pygments_lexer": "ipython3",
   "version": "3.8.10"
  }
 },
 "nbformat": 4,
 "nbformat_minor": 5
}
