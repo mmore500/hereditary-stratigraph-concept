{
 "cells": [
  {
   "cell_type": "code",
   "execution_count": 41,
   "id": "7623bc99",
   "metadata": {},
   "outputs": [],
   "source": [
    "import math\n",
    "from nbmetalog import nbmetalog as nbm\n",
    "import numpy as np\n",
    "import pandas as pd\n",
    "import random\n",
    "from scipy import integrate, stats\n",
    "import sympy\n",
    "import typing\n",
    "\n",
    "random.seed(1)\n",
    "sympy.init_printing()\n"
   ]
  },
  {
   "cell_type": "code",
   "execution_count": 2,
   "id": "bfd1fa29",
   "metadata": {},
   "outputs": [
    {
     "name": "stdout",
     "output_type": "stream",
     "text": [
      "context: local\n",
      "hostname: thinkpad\n",
      "interpreter: 3.8.10 (default, Nov 26 2021, 20:14:08)  [GCC 9.3.0]\n",
      "nbcellexec: 2\n",
      "nbname: mildest_extrema_popsize_confidence_interval\n",
      "nbpath: /home/mmore500/2022-01-29/hereditary-stratigraph-concept/binder/popsize/mildest_extrema_popsize_confidence_interval.ipynb\n",
      "revision: null\n",
      "session: 2be2ef0c-2b0f-47e6-be96-d2360b5d99e6\n",
      "timestamp: 2022-02-07T22:12:46Z00:00\n",
      "\n",
      "\n",
      "IPython==7.13.0\n",
      "keyname==0.4.1\n",
      "yaml==5.3.1\n",
      "nbmetalog==0.2.5\n",
      "numpy==1.19.5\n",
      "scipy==1.6.0\n",
      "sympy==1.5.1\n",
      "re==2.2.1\n",
      "ipython_genutils==0.2.0\n",
      "logging==0.5.1.2\n",
      "zmq==18.1.1\n",
      "json==2.0.9\n",
      "six==1.16.0\n",
      "ipykernel==5.2.0\n"
     ]
    }
   ],
   "source": [
    "nbm.print_metadata()\n"
   ]
  },
  {
   "cell_type": "markdown",
   "id": "1fc630c6",
   "metadata": {},
   "source": [
    "# Goal\n",
    "\n",
    "Calculate a $c\\%$ confidence interval for population size $n$ that takes into account $k$ independent observations of fixed gene magnitude.\n"
   ]
  },
  {
   "cell_type": "markdown",
   "id": "912200ee",
   "metadata": {},
   "source": [
    "# Strategy\n",
    "\n",
    "Extend the approach from notebook [single_observation_popsize_confidence_interval.ipynb](single_observation_popsize_confidence_interval.ipynb), where the confidence interval excluded all $n$ for which an outcome as-or-more-extreme than observed was had probability less than $1-c\\%$.\n",
    "\n",
    "This requires an expression for probability density of the observed outcome given population size $n$.\n",
    "Deriving a probability density function for the sum of $k$ replicate observations is difficult.\n",
    "However, through the magic of order statistics, an expression for the probability density of the least-extreme of the $k$ replicate observations is feasible.\n",
    "This will allow us to compute a confidence interval for $n$ in terms of the least-extreme observed fixed gene magnitude $\\hat{x}_1$.\n",
    "\n",
    "At face value, estimating population size $n$ from fixed gene magnitude seems highly susceptible to skew by rare events.\n",
    "A single extremely-high magnitude gene anywhere within a population will fix and distort the estimate of $n$.\n",
    "Therefore there may be some benefit to estimating $n$ by means of the least extreme of $k$ replicate observations with respect to resilience against skew from rare events.\n",
    "However, this approach also seems likely to suffer from \"discarding\" information from the other more extreme $k-1$ observations.\n"
   ]
  },
  {
   "cell_type": "markdown",
   "id": "656265e4",
   "metadata": {},
   "source": [
    "# Probability Density Function of Least-Extreme Fixed Gene Magnitude\n",
    "\n",
    "According to [(Miller, 2017)](#miller2017probability),\n",
    "\n",
    "\n",
    "> For a random sample of size $n$ having values $x$ and continuous density $f(x)$, the probability density of the $r$th order statistic $Y_r$ is given by\n",
    ">\n",
    "> $\n",
    "g_r(y_r) \n",
    "=\n",
    "\\frac{n!}{(r-1)!}{(n-r)!}\n",
    "\\Big(\\int_{-\\infty}^{y_r} f(x) \\, \\mathrm{d}x \\Big)^{r-1}\n",
    "f(y_r)\n",
    "\\Big(\\int_{y_r}^{\\infty} f(x) \\, \\mathrm{d}x \\Big)^{n-r}\n",
    "$\n",
    ">\n",
    "> and for $Y_1$ (smallest value),\n",
    ">\n",
    "> $\n",
    "f_1(y) \n",
    "=\n",
    "n\n",
    "f(y)\n",
    "\\Big(\\int_{y}^{\\infty} f(x) \\, \\mathrm{d}x \\Big)^{n-1}.\n",
    "$\n",
    "\n",
    "So, with $k$ observations the probability density function of the least-extreme fixed gene is,\n",
    "\n",
    "$\\begin{align*}\n",
    "p_1(x) \n",
    "&= k f(x) \\Big(\\int_{x}^{\\infty} f(u) \\, \\mathrm{d}u \\Big)^{k-1}\\\\\n",
    "&= k nx^{n-1} \\Big(\\int_{x}^{\\infty} nu^{n-1} \\, \\mathrm{d}u \\Big)^{k-1}\\\\\n",
    "&= k nx^{n-1} \\Big(\\int_{x}^{1} nu^{n-1} \\, \\mathrm{d}u \\Big)^{k-1}\\\\\n",
    "&= k nx^{n-1} \\Big(u^{n} |_x^1 \\Big)^{k-1}\\\\\n",
    "&= k nx^{n-1} \\Big(1^{n} - x^n \\Big)^{k-1}\\\\\n",
    "&= k nx^{n-1} \\Big(1 - x^n \\Big)^{k-1}.\n",
    "\\end{align*}$"
   ]
  },
  {
   "cell_type": "markdown",
   "id": "3e6f5327",
   "metadata": {},
   "source": [
    "# Upper Bound\n",
    "\n",
    "As the upper bound for our confidence interval estimating $n$, we will find the $n_\\mathrm{ub}$ where integrating the lower tail of probability density beyond $\\hat{x}_1$ contains only $(1-c)/2\\%$ probability mass.\n",
    "\n",
    "We must solve\n",
    "\n",
    "$\\begin{align*}\n",
    "(1-c)/2 \n",
    "&= \\int_0^{\\hat{x}_1}  k n_\\mathrm{ub} x^{n_\\mathrm{ub}-1} \\Big(1 - x^n_\\mathrm{ub} \\Big)^{k-1} \\, \\mathrm{d}x\n",
    "\\end{align*}$\n",
    "\n",
    "for $n_\\mathrm{ub}$.\n",
    "\n",
    "Sympy fails to solve for arbitrary $k$, so we will solve for $k=1,2,3,\\dots$ and then extrapolate."
   ]
  },
  {
   "cell_type": "code",
   "execution_count": 8,
   "id": "ba47db22",
   "metadata": {},
   "outputs": [],
   "source": [
    "# specify variables with assumptions for domain\n",
    "def solve_for_ub(*, k: int):\n",
    "\n",
    "    x = sympy.Symbol('x', nonnegative=True, real=True,)\n",
    "    n = sympy.Symbol('n_\\mathrm{lb}', positive=True, real=True,)\n",
    "\n",
    "    probability_density = k * n * x ** (n - 1) * (1 - x**n)**(k-1)\n",
    "\n",
    "    x1 = sympy.Symbol('\\hat{x}_1', nonnegative=True, real=True,)\n",
    "\n",
    "    integrated = sympy.integrate(\n",
    "        probability_density,\n",
    "        (x, 0, x1,),\n",
    "    ).simplify()\n",
    "\n",
    "    c = sympy.Symbol('c', positive=True, real=True,)\n",
    "        \n",
    "    equation = sympy.Eq( integrated, (1-c)/2 ).simplify()\n",
    "\n",
    "    solutions = sympy.solve(equation, n)\n",
    "\n",
    "    return solutions[0].simplify()\n"
   ]
  },
  {
   "cell_type": "code",
   "execution_count": 9,
   "id": "31a48902",
   "metadata": {},
   "outputs": [
    {
     "data": {
      "image/png": "[encoded data removed]",
      "text/latex": [
       "$\\displaystyle \\frac{\\log{\\left(\\frac{1}{2} - \\frac{c}{2} \\right)}}{\\log{\\left(\\hat{x}_1 \\right)}}$"
      ],
      "text/plain": [
       "     ⎛1   c⎞ \n",
       "  log⎜─ - ─⎟ \n",
       "     ⎝2   2⎠ \n",
       "─────────────\n",
       "log(\\hat{x}₁)"
      ]
     },
     "execution_count": 9,
     "metadata": {},
     "output_type": "execute_result"
    }
   ],
   "source": [
    "solve_for_ub(k=1,)"
   ]
  },
  {
   "cell_type": "code",
   "execution_count": 10,
   "id": "c9008619",
   "metadata": {},
   "outputs": [
    {
     "data": {
      "image/png": "[encoded data removed]",
      "text/latex": [
       "$\\displaystyle \\frac{\\log{\\left(- \\frac{\\sqrt{2} \\sqrt{c + 1}}{2} + 1 \\right)}}{\\log{\\left(\\hat{x}_1 \\right)}}$"
      ],
      "text/plain": [
       "   ⎛       _______    ⎞\n",
       "   ⎜  √2⋅╲╱ c + 1     ⎟\n",
       "log⎜- ──────────── + 1⎟\n",
       "   ⎝       2          ⎠\n",
       "───────────────────────\n",
       "     log(\\hat{x}₁)     "
      ]
     },
     "execution_count": 10,
     "metadata": {},
     "output_type": "execute_result"
    }
   ],
   "source": [
    "solve_for_ub(k=2,)"
   ]
  },
  {
   "cell_type": "code",
   "execution_count": 11,
   "id": "0d6683ea",
   "metadata": {},
   "outputs": [
    {
     "data": {
      "image/png": "[encoded data removed]",
      "text/latex": [
       "$\\displaystyle \\frac{\\log{\\left(- \\frac{2^{\\frac{2}{3}} \\sqrt[3]{c + 1}}{2} + 1 \\right)}}{\\log{\\left(\\hat{x}_1 \\right)}}$"
      ],
      "text/plain": [
       "   ⎛   2/3 3 _______    ⎞\n",
       "   ⎜  2   ⋅╲╱ c + 1     ⎟\n",
       "log⎜- ────────────── + 1⎟\n",
       "   ⎝        2           ⎠\n",
       "─────────────────────────\n",
       "      log(\\hat{x}₁)      "
      ]
     },
     "execution_count": 11,
     "metadata": {},
     "output_type": "execute_result"
    }
   ],
   "source": [
    "solve_for_ub(k=3,)"
   ]
  },
  {
   "cell_type": "code",
   "execution_count": 12,
   "id": "b9504564",
   "metadata": {},
   "outputs": [
    {
     "data": {
      "image/png": "[encoded data removed]",
      "text/latex": [
       "$\\displaystyle \\frac{\\log{\\left(- \\frac{2^{\\frac{3}{4}} \\sqrt[4]{c + 1}}{2} + 1 \\right)}}{\\log{\\left(\\hat{x}_1 \\right)}}$"
      ],
      "text/plain": [
       "   ⎛   3/4 4 _______    ⎞\n",
       "   ⎜  2   ⋅╲╱ c + 1     ⎟\n",
       "log⎜- ────────────── + 1⎟\n",
       "   ⎝        2           ⎠\n",
       "─────────────────────────\n",
       "      log(\\hat{x}₁)      "
      ]
     },
     "execution_count": 12,
     "metadata": {},
     "output_type": "execute_result"
    }
   ],
   "source": [
    "solve_for_ub(k=4,)"
   ]
  },
  {
   "cell_type": "code",
   "execution_count": 13,
   "id": "24f66c78",
   "metadata": {},
   "outputs": [
    {
     "data": {
      "image/png": "[encoded data removed]",
      "text/latex": [
       "$\\displaystyle \\frac{\\log{\\left(- \\frac{2^{\\frac{5}{6}} \\sqrt[6]{c + 1}}{2} + 1 \\right)}}{\\log{\\left(\\hat{x}_1 \\right)}}$"
      ],
      "text/plain": [
       "   ⎛   5/6 6 _______    ⎞\n",
       "   ⎜  2   ⋅╲╱ c + 1     ⎟\n",
       "log⎜- ────────────── + 1⎟\n",
       "   ⎝        2           ⎠\n",
       "─────────────────────────\n",
       "      log(\\hat{x}₁)      "
      ]
     },
     "execution_count": 13,
     "metadata": {},
     "output_type": "execute_result"
    }
   ],
   "source": [
    "# sympy can't solve this case\n",
    "#solve_for_ub(k=5,)\n",
    "\n",
    "solve_for_ub(k=6,)"
   ]
  },
  {
   "cell_type": "code",
   "execution_count": 14,
   "id": "7cea7781",
   "metadata": {},
   "outputs": [
    {
     "data": {
      "image/png": "[encoded data removed]",
      "text/latex": [
       "$\\displaystyle \\frac{\\log{\\left(- \\frac{2^{\\frac{7}{8}} \\sqrt[8]{c + 1}}{2} + 1 \\right)}}{\\log{\\left(\\hat{x}_1 \\right)}}$"
      ],
      "text/plain": [
       "   ⎛   7/8 8 _______    ⎞\n",
       "   ⎜  2   ⋅╲╱ c + 1     ⎟\n",
       "log⎜- ────────────── + 1⎟\n",
       "   ⎝        2           ⎠\n",
       "─────────────────────────\n",
       "      log(\\hat{x}₁)      "
      ]
     },
     "execution_count": 14,
     "metadata": {},
     "output_type": "execute_result"
    }
   ],
   "source": [
    "# sympy can't solve this case\n",
    "# solve_for_ub(k=7,)\n",
    "\n",
    "solve_for_ub(k=8,)"
   ]
  },
  {
   "cell_type": "markdown",
   "id": "e4dbc3b6",
   "metadata": {},
   "source": [
    "Solution appears to be of the form\n",
    "\n",
    "$\\begin{align*}\n",
    "n_\\mathrm{ub}\n",
    "&=\\frac{\n",
    "    \\log \\Big( - \\frac{2^\\frac{k-1}{k} (c+1)^{1/k}}{2} + 1 \\Big)\n",
    "}{\\log( \\hat{x}_1 )}\\\\\n",
    "&=\\frac{\n",
    "    \\log \\Big( - 2^\\frac{-1}{k} (c+1)^{1/k} + 1 \\Big)\n",
    "}{\\log( \\hat{x}_1 )}\\\\\n",
    "&=\\frac{\n",
    "    \\log \\Big( - \\frac{c+1}{2}^{1/k} + 1 \\Big)\n",
    "}{\\log( \\hat{x}_1 )}\\\\\n",
    "&=\\frac{\n",
    "    \\log \\Big( 1 - \\frac{1+c}{2}^{1/k} \\Big)\n",
    "}{\\log( \\hat{x}_1 )}.\n",
    "\\end{align*}$"
   ]
  },
  {
   "cell_type": "markdown",
   "id": "5c8ced42",
   "metadata": {},
   "source": [
    "# Validating Upper Bound Extrapolation\n",
    "\n",
    "To validate the upper bound, we will run numeric integration with specific values of $c$ and $\\hat{x}_1$ to test solutions for more values of $k$.\n"
   ]
  },
  {
   "cell_type": "code",
   "execution_count": 15,
   "id": "2eee33cf",
   "metadata": {},
   "outputs": [],
   "source": [
    "def expected_ub(*, k: int, c: float, x1: float) -> float:\n",
    "    return math.log(\n",
    "        1 - ((c+1)/2)**(1/k)\n",
    "        ) / math.log(\n",
    "        x1\n",
    "    )\n"
   ]
  },
  {
   "cell_type": "code",
   "execution_count": 16,
   "id": "6a28efc0",
   "metadata": {},
   "outputs": [],
   "source": [
    "def validate_ub(*, k: int, c: float, x1: float,) -> float:\n",
    "\n",
    "    n = expected_ub(k=k, c=c, x1=x1)\n",
    "    \n",
    "    # not used: sympy too slow\n",
    "    # x = sympy.Symbol('x', nonnegative=True, real=True,)\n",
    "    # probability_density = k * n * x ** (n - 1) * (1 - x**n)**(k-1)\n",
    "    # integrated = sympy.Integral(\n",
    "    #     probability_density,\n",
    "    #     (x, 0, x1,),\n",
    "    # ).evalf()\n",
    "    \n",
    "    integrated, err = integrate.quad(\n",
    "        lambda x: k * n * x ** (n - 1) * (1 - x**n)**(k-1),\n",
    "        0,\n",
    "        x1,\n",
    "    )\n",
    "    assert err < 1e-6, err\n",
    "    \n",
    "    return math.isclose(integrated, (1-c)/2, abs_tol=err,)\n"
   ]
  },
  {
   "cell_type": "code",
   "execution_count": 17,
   "id": "c27f4372",
   "metadata": {},
   "outputs": [],
   "source": [
    "for k in range(1,1001,50):\n",
    "    for c in np.linspace(0.01, 0.99, 10):\n",
    "        for x1 in np.linspace(0.01, 0.99, 10):\n",
    "            assert validate_ub(k=k, c=c, x1=x1), (k, c, x1)\n"
   ]
  },
  {
   "cell_type": "markdown",
   "id": "8a6ab881",
   "metadata": {},
   "source": [
    "# Lower Bound\n",
    "\n",
    "As the lower bound for our confidence interval estimating $n$, we will find the $n_\\mathrm{lb}$ where integrating the upper tail of probability density beyond $\\hat{x}_1$ contains only $(1-c)/2\\%$ probability mass.\n",
    "\n",
    "We must solve\n",
    "\n",
    "$\\begin{align*}\n",
    "(1-c)/2 \n",
    "&= \\int_{\\hat{x}_1}^1  k n_\\mathrm{lb}x^{n_\\mathrm{lb}-1} \\Big(1 - x^{n_\\mathrm{lb}} \\Big)^{k-1} \\, \\mathrm{d}x\n",
    "\\end{align*}$\n",
    "\n",
    "for $n_\\mathrm{lb}$.\n",
    "\n",
    "Sympy fails to solve for arbitrary $k$, so we will solve for $k=1,2,3,\\dots$ and then extrapolate. "
   ]
  },
  {
   "cell_type": "code",
   "execution_count": 18,
   "id": "bba34cb3",
   "metadata": {},
   "outputs": [],
   "source": [
    "def solve_lb(*, k: int):\n",
    "\n",
    "    # specify variables with assumptions for domain\n",
    "    x = sympy.Symbol('x', nonnegative=True, real=True,)\n",
    "    n = sympy.Symbol('n_\\mathrm{lb}', positive=True, real=True,)\n",
    "\n",
    "    probability_density = k * n * x ** (n - 1) * (1 - x**n)**(k-1)\n",
    "\n",
    "    x1 = sympy.Symbol('\\hat{x}_1', nonnegative=True, real=True,)\n",
    "\n",
    "    integrated = sympy.integrate(\n",
    "        probability_density,\n",
    "        (x, x1, 1,),\n",
    "    ).simplify()\n",
    "\n",
    "    c = sympy.Symbol('c', positive=True, real=True,)\n",
    "\n",
    "    equation = sympy.Eq( integrated, (1-c)/2 ).simplify()\n",
    "\n",
    "    solutions = sympy.solve(equation, n)\n",
    "\n",
    "    return [solution.simplify() for solution in solutions]\n"
   ]
  },
  {
   "cell_type": "code",
   "execution_count": 19,
   "id": "51c364f1",
   "metadata": {},
   "outputs": [
    {
     "data": {
      "image/png": "[encoded data removed]",
      "text/latex": [
       "$\\displaystyle \\frac{\\log{\\left(\\frac{c}{2} + \\frac{1}{2} \\right)}}{\\log{\\left(\\hat{x}_1 \\right)}}$"
      ],
      "text/plain": [
       "     ⎛c   1⎞ \n",
       "  log⎜─ + ─⎟ \n",
       "     ⎝2   2⎠ \n",
       "─────────────\n",
       "log(\\hat{x}₁)"
      ]
     },
     "execution_count": 19,
     "metadata": {},
     "output_type": "execute_result"
    }
   ],
   "source": [
    "solve_lb(k=1,)[0]"
   ]
  },
  {
   "cell_type": "code",
   "execution_count": 20,
   "id": "81ef2a86",
   "metadata": {},
   "outputs": [
    {
     "data": {
      "image/png": "[encoded data removed]",
      "text/latex": [
       "$\\displaystyle \\frac{\\log{\\left(- \\frac{\\sqrt{2} \\sqrt{1 - c}}{2} + 1 \\right)}}{\\log{\\left(\\hat{x}_1 \\right)}}$"
      ],
      "text/plain": [
       "   ⎛       _______    ⎞\n",
       "   ⎜  √2⋅╲╱ 1 - c     ⎟\n",
       "log⎜- ──────────── + 1⎟\n",
       "   ⎝       2          ⎠\n",
       "───────────────────────\n",
       "     log(\\hat{x}₁)     "
      ]
     },
     "execution_count": 20,
     "metadata": {},
     "output_type": "execute_result"
    }
   ],
   "source": [
    "solve_lb(k=2,)[0]"
   ]
  },
  {
   "cell_type": "code",
   "execution_count": 21,
   "id": "dfde93d6",
   "metadata": {},
   "outputs": [
    {
     "data": {
      "image/png": "[encoded data removed]",
      "text/latex": [
       "$\\displaystyle \\frac{\\log{\\left(- \\frac{\\sqrt[3]{2} \\sqrt[3]{- c + \\left|{c - 1}\\right| + 1}}{2} + 1 \\right)}}{\\log{\\left(\\hat{x}_1 \\right)}}$"
      ],
      "text/plain": [
       "   ⎛  3 ___ 3 __________________    ⎞\n",
       "   ⎜  ╲╱ 2 ⋅╲╱ -c + │c - 1│ + 1     ⎟\n",
       "log⎜- ────────────────────────── + 1⎟\n",
       "   ⎝              2                 ⎠\n",
       "─────────────────────────────────────\n",
       "            log(\\hat{x}₁)            "
      ]
     },
     "execution_count": 21,
     "metadata": {},
     "output_type": "execute_result"
    }
   ],
   "source": [
    "solve_lb(k=3,)[0]"
   ]
  },
  {
   "cell_type": "code",
   "execution_count": 22,
   "id": "61503100",
   "metadata": {},
   "outputs": [
    {
     "data": {
      "image/png": "[encoded data removed]",
      "text/latex": [
       "$\\displaystyle \\frac{\\log{\\left(- \\frac{2^{\\frac{3}{4}} \\sqrt[4]{1 - c}}{2} + 1 \\right)}}{\\log{\\left(\\hat{x}_1 \\right)}}$"
      ],
      "text/plain": [
       "   ⎛   3/4 4 _______    ⎞\n",
       "   ⎜  2   ⋅╲╱ 1 - c     ⎟\n",
       "log⎜- ────────────── + 1⎟\n",
       "   ⎝        2           ⎠\n",
       "─────────────────────────\n",
       "      log(\\hat{x}₁)      "
      ]
     },
     "execution_count": 22,
     "metadata": {},
     "output_type": "execute_result"
    }
   ],
   "source": [
    "solve_lb(k=4,)[-2]"
   ]
  },
  {
   "cell_type": "code",
   "execution_count": 23,
   "id": "ab2538f3",
   "metadata": {},
   "outputs": [
    {
     "data": {
      "image/png": "[encoded data removed]",
      "text/latex": [
       "$\\displaystyle \\left[ \\right]$"
      ],
      "text/plain": [
       "[]"
      ]
     },
     "execution_count": 23,
     "metadata": {},
     "output_type": "execute_result"
    }
   ],
   "source": [
    "solve_lb(k=5,)"
   ]
  },
  {
   "cell_type": "code",
   "execution_count": 24,
   "id": "e8dd56c5",
   "metadata": {},
   "outputs": [
    {
     "data": {
      "image/png": "[encoded data removed]",
      "text/latex": [
       "$\\displaystyle \\left[ \\frac{\\log{\\left(- \\frac{\\sqrt[6]{2} \\sqrt{\\left(1 - \\sqrt{3} i\\right) \\sqrt[3]{c + \\left|{c - 1}\\right| - 1}}}{2} + 1 \\right)}}{\\log{\\left(\\hat{x}_1 \\right)}}, \\  \\frac{\\log{\\left(\\frac{\\sqrt[6]{2} \\sqrt{\\left(1 - \\sqrt{3} i\\right) \\sqrt[3]{c + \\left|{c - 1}\\right| - 1}}}{2} + 1 \\right)}}{\\log{\\left(\\hat{x}_1 \\right)}}, \\  \\frac{\\log{\\left(- \\frac{\\sqrt[6]{2} \\sqrt{\\left(1 + \\sqrt{3} i\\right) \\sqrt[3]{c + \\left|{c - 1}\\right| - 1}}}{2} + 1 \\right)}}{\\log{\\left(\\hat{x}_1 \\right)}}, \\  \\frac{\\log{\\left(\\frac{\\sqrt[6]{2} \\sqrt{\\left(1 + \\sqrt{3} i\\right) \\sqrt[3]{c + \\left|{c - 1}\\right| - 1}}}{2} + 1 \\right)}}{\\log{\\left(\\hat{x}_1 \\right)}}, \\  \\frac{\\log{\\left(- \\frac{2^{\\frac{2}{3}} \\sqrt{- \\sqrt[3]{c + \\left|{c - 1}\\right| - 1}}}{2} + 1 \\right)}}{\\log{\\left(\\hat{x}_1 \\right)}}, \\  \\frac{\\log{\\left(\\frac{2^{\\frac{2}{3}} \\sqrt{- \\sqrt[3]{c + \\left|{c - 1}\\right| - 1}}}{2} + 1 \\right)}}{\\log{\\left(\\hat{x}_1 \\right)}}\\right]$"
      ],
      "text/plain": [
       "⎡   ⎛           ________________________________    ⎞     ⎛         __________\n",
       "⎢   ⎜  6 ___   ╱            3 _________________     ⎟     ⎜6 ___   ╱          \n",
       "⎢   ⎜  ╲╱ 2 ⋅╲╱  (1 - √3⋅ⅈ)⋅╲╱ c + │c - 1│ - 1      ⎟     ⎜╲╱ 2 ⋅╲╱  (1 - √3⋅ⅈ\n",
       "⎢log⎜- ───────────────────────────────────────── + 1⎟  log⎜───────────────────\n",
       "⎢   ⎝                      2                        ⎠     ⎝                   \n",
       "⎢────────────────────────────────────────────────────, ───────────────────────\n",
       "⎣                   log(\\hat{x}₁)                                        log(\\\n",
       "\n",
       "______________________    ⎞     ⎛           ________________________________  \n",
       "  3 _________________     ⎟     ⎜  6 ___   ╱            3 _________________   \n",
       ")⋅╲╱ c + │c - 1│ - 1      ⎟     ⎜  ╲╱ 2 ⋅╲╱  (1 + √3⋅ⅈ)⋅╲╱ c + │c - 1│ - 1    \n",
       "────────────────────── + 1⎟  log⎜- ───────────────────────────────────────── +\n",
       " 2                        ⎠     ⎝                      2                      \n",
       "───────────────────────────, ─────────────────────────────────────────────────\n",
       "hat{x}₁)                                        log(\\hat{x}₁)                 \n",
       "\n",
       "  ⎞     ⎛         ________________________________    ⎞     ⎛          _______\n",
       "  ⎟     ⎜6 ___   ╱            3 _________________     ⎟     ⎜   2/3   ╱  3 ___\n",
       "  ⎟     ⎜╲╱ 2 ⋅╲╱  (1 + √3⋅ⅈ)⋅╲╱ c + │c - 1│ - 1      ⎟     ⎜  2   ⋅╲╱  -╲╱ c \n",
       " 1⎟  log⎜───────────────────────────────────────── + 1⎟  log⎜- ───────────────\n",
       "  ⎠     ⎝                    2                        ⎠     ⎝                2\n",
       "───, ──────────────────────────────────────────────────, ─────────────────────\n",
       "                       log(\\hat{x}₁)                                   log(\\ha\n",
       "\n",
       "_______________    ⎞     ⎛        ______________________    ⎞⎤\n",
       "______________     ⎟     ⎜ 2/3   ╱  3 _________________     ⎟⎥\n",
       "+ │c - 1│ - 1      ⎟     ⎜2   ⋅╲╱  -╲╱ c + │c - 1│ - 1      ⎟⎥\n",
       "─────────────── + 1⎟  log⎜────────────────────────────── + 1⎟⎥\n",
       "                   ⎠     ⎝              2                   ⎠⎥\n",
       "────────────────────, ───────────────────────────────────────⎥\n",
       "t{x}₁)                             log(\\hat{x}₁)             ⎦"
      ]
     },
     "execution_count": 24,
     "metadata": {},
     "output_type": "execute_result"
    }
   ],
   "source": [
    "solve_lb(k=6,)"
   ]
  },
  {
   "cell_type": "code",
   "execution_count": 25,
   "id": "2ebcc5c1",
   "metadata": {},
   "outputs": [
    {
     "data": {
      "image/png": "[encoded data removed]",
      "text/latex": [
       "$\\displaystyle \\left[ \\right]$"
      ],
      "text/plain": [
       "[]"
      ]
     },
     "execution_count": 25,
     "metadata": {},
     "output_type": "execute_result"
    }
   ],
   "source": [
    "solve_lb(k=7,)"
   ]
  },
  {
   "cell_type": "code",
   "execution_count": 26,
   "id": "b6bb628e",
   "metadata": {},
   "outputs": [
    {
     "data": {
      "image/png": "[encoded data removed]",
      "text/latex": [
       "$\\displaystyle \\frac{\\log{\\left(- \\frac{2^{\\frac{7}{8}} \\sqrt[8]{1 - c}}{2} + 1 \\right)}}{\\log{\\left(\\hat{x}_1 \\right)}}$"
      ],
      "text/plain": [
       "   ⎛   7/8 8 _______    ⎞\n",
       "   ⎜  2   ⋅╲╱ 1 - c     ⎟\n",
       "log⎜- ────────────── + 1⎟\n",
       "   ⎝        2           ⎠\n",
       "─────────────────────────\n",
       "      log(\\hat{x}₁)      "
      ]
     },
     "execution_count": 26,
     "metadata": {},
     "output_type": "execute_result"
    }
   ],
   "source": [
    "solve_lb(k=8,)[6]"
   ]
  },
  {
   "cell_type": "markdown",
   "id": "91b47dca",
   "metadata": {},
   "source": [
    "Solution appears to be of the form\n",
    "\n",
    "$\\begin{align*}\n",
    "n_\\mathrm{lb}\n",
    "&=\\frac{\n",
    "    \\log \\Big( - \\frac{2^\\frac{k-1}{k} (1-c)^{1/k}}{2} + 1 \\Big)\n",
    "}{\\log( \\hat{x}_1 )}\\\\\n",
    "&=\\frac{\n",
    "    \\log \\Big( - 2^\\frac{-1}{k} (1-c)^{1/k} + 1 \\Big)\n",
    "}{\\log( \\hat{x}_1 )}\\\\\n",
    "&=\\frac{\n",
    "    \\log \\Big( - \\frac{1-c}{2}^{1/k} + 1 \\Big)\n",
    "}{\\log( \\hat{x}_1 )}\\\\\n",
    "&=\\frac{\n",
    "    \\log \\Big( 1 - \\frac{1-c}{2}^{1/k} \\Big)\n",
    "}{\\log( \\hat{x}_1 )}.\n",
    "\\end{align*}$\n",
    "\n",
    "However, the consistency of Sympy's symbolic integration is spottier than for calculating the upper bound.  "
   ]
  },
  {
   "cell_type": "markdown",
   "id": "76cddd4f",
   "metadata": {},
   "source": [
    "# Validating Lower Bound Extrapolation"
   ]
  },
  {
   "cell_type": "code",
   "execution_count": 27,
   "id": "912641e8",
   "metadata": {},
   "outputs": [],
   "source": [
    "def expected_lb(*, k: int, c: float, x1: float) -> float:\n",
    "    return math.log(\n",
    "        1 - ((1-c)/2)**(1/k)\n",
    "        ) / math.log(\n",
    "        x1\n",
    "    )\n"
   ]
  },
  {
   "cell_type": "code",
   "execution_count": 28,
   "id": "edaaf522",
   "metadata": {},
   "outputs": [],
   "source": [
    "def validate_lb(*, k: int, c: float, x1: float,) -> float:\n",
    "\n",
    "    n = expected_lb(k=k, c=c, x1=x1)\n",
    "    \n",
    "    # not used: sympy too slow\n",
    "    # x = sympy.Symbol('x', nonnegative=True, real=True,)\n",
    "    # probability_density = k * n * x ** (n - 1) * (1 - x**n)**(k-1)\n",
    "    # integrated = sympy.Integral(\n",
    "    #     probability_density,\n",
    "    #     (x, x1, 1.0),\n",
    "    # ).evalf()\n",
    "    \n",
    "    integrated, err = integrate.quad(\n",
    "        lambda x: k * n * x ** (n - 1) * (1 - x**n)**(k-1),\n",
    "        x1,\n",
    "        1,\n",
    "    )\n",
    "    assert err < 1e-6, err\n",
    "    \n",
    "    return math.isclose(integrated, (1-c)/2, abs_tol=err,)\n"
   ]
  },
  {
   "cell_type": "code",
   "execution_count": 29,
   "id": "0f047833",
   "metadata": {},
   "outputs": [],
   "source": [
    "for k in range(1,1001,50):\n",
    "    for c in np.linspace(0.01, 0.99, 10):\n",
    "        for x1 in np.linspace(0.01, 0.99, 10):\n",
    "            assert validate_lb(k=k, c=c, x1=x1), (k, c, x1)\n"
   ]
  },
  {
   "cell_type": "markdown",
   "id": "6611b465",
   "metadata": {},
   "source": [
    "# Simulated Experiments"
   ]
  },
  {
   "cell_type": "code",
   "execution_count": 35,
   "id": "08a4a93a",
   "metadata": {},
   "outputs": [],
   "source": [
    "def sample_observations(\n",
    "    true_popsize: int,\n",
    "    num_observations: int,\n",
    ") -> typing.List[float]:\n",
    "    \"\"\"Simulate sampling the largest gene from within a population of `true_popsize` `num_observations` times.\"\"\"\n",
    "    return [\n",
    "        max(random.random() for __ in range(true_popsize))\n",
    "        for __ in range(num_observations)\n",
    "    ]\n",
    "\n",
    "def estimate_popsize_bounds(\n",
    "    observations: typing.List[float],\n",
    ") -> typing.Tuple[float, float]:\n",
    "\n",
    "    lb = math.log( \n",
    "        - ( (1+0.95)/2 ) ** (1/len(observations)) + 1\n",
    "    ) / math.log(\n",
    "            min(observations)\n",
    "    )\n",
    "    ub = math.log( \n",
    "        - ( (1-0.95)/2 ) ** (1/len(observations)) + 1,\n",
    "    ) / math.log(\n",
    "            min(observations),\n",
    "    )\n",
    "\n",
    "    return (ub, lb,)\n",
    "\n",
    "def sample_popsize_bounds(\n",
    "    true_popsize: int, \n",
    "    num_observations: int,\n",
    ") -> typing.Tuple[float, float]:\n",
    "    \"\"\"Generate sampled largest genes from `true_popsize` population\n",
    "    and then use maximum likelihood estimator to estimate `true_popsize`.\"\"\"\n",
    "    return estimate_popsize_bounds(sample_observations(true_popsize, num_observations))\n"
   ]
  },
  {
   "cell_type": "code",
   "execution_count": 43,
   "id": "85d65343",
   "metadata": {},
   "outputs": [
    {
     "data": {
      "text/html": [
       "<div>\n",
       "<style scoped>\n",
       "    .dataframe tbody tr th:only-of-type {\n",
       "        vertical-align: middle;\n",
       "    }\n",
       "\n",
       "    .dataframe tbody tr th {\n",
       "        vertical-align: top;\n",
       "    }\n",
       "\n",
       "    .dataframe thead th {\n",
       "        text-align: right;\n",
       "    }\n",
       "</style>\n",
       "<table border=\"1\" class=\"dataframe\">\n",
       "  <thead>\n",
       "    <tr style=\"text-align: right;\">\n",
       "      <th></th>\n",
       "      <th>Num Observations</th>\n",
       "      <th>True Population Size</th>\n",
       "      <th>Fraction Estimates within 95% Confidence Interval</th>\n",
       "      <th>Mean Normalized Confidence Interval Width</th>\n",
       "      <th>Mean Normalized Confidence Interval Lower Bound</th>\n",
       "      <th>Mean Lower CI Bound</th>\n",
       "      <th>Mean Normalized Confidence Interval Upper Bound</th>\n",
       "      <th>Mean Upper CI Bound</th>\n",
       "      <th>Median Lower CI Bound</th>\n",
       "      <th>Median Upper CI Bound</th>\n",
       "      <th>p As Many Estimates Outside Credible Interval</th>\n",
       "    </tr>\n",
       "  </thead>\n",
       "  <tbody>\n",
       "    <tr>\n",
       "      <th>0</th>\n",
       "      <td>1</td>\n",
       "      <td>10</td>\n",
       "      <td>0.965</td>\n",
       "      <td>12.06640</td>\n",
       "      <td>0.08339</td>\n",
       "      <td>0.83387</td>\n",
       "      <td>12.14979</td>\n",
       "      <td>121.49788</td>\n",
       "      <td>0.36334</td>\n",
       "      <td>52.93939</td>\n",
       "      <td>0.87626</td>\n",
       "    </tr>\n",
       "    <tr>\n",
       "      <th>1</th>\n",
       "      <td>1</td>\n",
       "      <td>1000</td>\n",
       "      <td>0.955</td>\n",
       "      <td>17.37264</td>\n",
       "      <td>0.12006</td>\n",
       "      <td>120.05728</td>\n",
       "      <td>17.49270</td>\n",
       "      <td>17492.70103</td>\n",
       "      <td>35.32566</td>\n",
       "      <td>5147.05358</td>\n",
       "      <td>0.67298</td>\n",
       "    </tr>\n",
       "    <tr>\n",
       "      <th>2</th>\n",
       "      <td>2</td>\n",
       "      <td>10</td>\n",
       "      <td>0.905</td>\n",
       "      <td>6.87588</td>\n",
       "      <td>0.28152</td>\n",
       "      <td>2.81523</td>\n",
       "      <td>7.15740</td>\n",
       "      <td>71.57401</td>\n",
       "      <td>1.35380</td>\n",
       "      <td>34.41875</td>\n",
       "      <td>0.00582</td>\n",
       "    </tr>\n",
       "    <tr>\n",
       "      <th>3</th>\n",
       "      <td>2</td>\n",
       "      <td>1000</td>\n",
       "      <td>0.930</td>\n",
       "      <td>8.37179</td>\n",
       "      <td>0.34277</td>\n",
       "      <td>342.77068</td>\n",
       "      <td>8.71456</td>\n",
       "      <td>8714.56030</td>\n",
       "      <td>129.10115</td>\n",
       "      <td>3282.25214</td>\n",
       "      <td>0.12989</td>\n",
       "    </tr>\n",
       "    <tr>\n",
       "      <th>4</th>\n",
       "      <td>4</td>\n",
       "      <td>10</td>\n",
       "      <td>0.950</td>\n",
       "      <td>3.12202</td>\n",
       "      <td>0.34714</td>\n",
       "      <td>3.47136</td>\n",
       "      <td>3.46916</td>\n",
       "      <td>34.69158</td>\n",
       "      <td>2.73947</td>\n",
       "      <td>27.37729</td>\n",
       "      <td>0.54529</td>\n",
       "    </tr>\n",
       "    <tr>\n",
       "      <th>5</th>\n",
       "      <td>4</td>\n",
       "      <td>1000</td>\n",
       "      <td>0.955</td>\n",
       "      <td>3.03792</td>\n",
       "      <td>0.33778</td>\n",
       "      <td>337.78493</td>\n",
       "      <td>3.37570</td>\n",
       "      <td>3375.70463</td>\n",
       "      <td>265.18853</td>\n",
       "      <td>2650.20158</td>\n",
       "      <td>0.67298</td>\n",
       "    </tr>\n",
       "    <tr>\n",
       "      <th>6</th>\n",
       "      <td>8</td>\n",
       "      <td>10</td>\n",
       "      <td>0.915</td>\n",
       "      <td>2.27793</td>\n",
       "      <td>0.47642</td>\n",
       "      <td>4.76417</td>\n",
       "      <td>2.75435</td>\n",
       "      <td>27.54346</td>\n",
       "      <td>4.01310</td>\n",
       "      <td>23.20125</td>\n",
       "      <td>0.02380</td>\n",
       "    </tr>\n",
       "    <tr>\n",
       "      <th>7</th>\n",
       "      <td>8</td>\n",
       "      <td>1000</td>\n",
       "      <td>0.930</td>\n",
       "      <td>2.10728</td>\n",
       "      <td>0.44073</td>\n",
       "      <td>440.72728</td>\n",
       "      <td>2.54801</td>\n",
       "      <td>2548.01112</td>\n",
       "      <td>392.93235</td>\n",
       "      <td>2271.69056</td>\n",
       "      <td>0.12989</td>\n",
       "    </tr>\n",
       "    <tr>\n",
       "      <th>8</th>\n",
       "      <td>10</td>\n",
       "      <td>10</td>\n",
       "      <td>0.980</td>\n",
       "      <td>1.89211</td>\n",
       "      <td>0.46319</td>\n",
       "      <td>4.63193</td>\n",
       "      <td>2.35530</td>\n",
       "      <td>23.55305</td>\n",
       "      <td>4.28749</td>\n",
       "      <td>21.80161</td>\n",
       "      <td>0.99095</td>\n",
       "    </tr>\n",
       "    <tr>\n",
       "      <th>9</th>\n",
       "      <td>10</td>\n",
       "      <td>1000</td>\n",
       "      <td>0.955</td>\n",
       "      <td>1.98420</td>\n",
       "      <td>0.48574</td>\n",
       "      <td>485.73523</td>\n",
       "      <td>2.46993</td>\n",
       "      <td>2469.93073</td>\n",
       "      <td>432.20646</td>\n",
       "      <td>2197.74057</td>\n",
       "      <td>0.67298</td>\n",
       "    </tr>\n",
       "    <tr>\n",
       "      <th>10</th>\n",
       "      <td>20</td>\n",
       "      <td>10</td>\n",
       "      <td>0.945</td>\n",
       "      <td>1.48423</td>\n",
       "      <td>0.54049</td>\n",
       "      <td>5.40486</td>\n",
       "      <td>2.02471</td>\n",
       "      <td>20.24714</td>\n",
       "      <td>5.15478</td>\n",
       "      <td>19.31032</td>\n",
       "      <td>0.41693</td>\n",
       "    </tr>\n",
       "    <tr>\n",
       "      <th>11</th>\n",
       "      <td>20</td>\n",
       "      <td>1000</td>\n",
       "      <td>0.960</td>\n",
       "      <td>1.53379</td>\n",
       "      <td>0.55853</td>\n",
       "      <td>558.53339</td>\n",
       "      <td>2.09232</td>\n",
       "      <td>2092.32349</td>\n",
       "      <td>530.44397</td>\n",
       "      <td>1987.09763</td>\n",
       "      <td>0.78670</td>\n",
       "    </tr>\n",
       "    <tr>\n",
       "      <th>12</th>\n",
       "      <td>100</td>\n",
       "      <td>10</td>\n",
       "      <td>0.940</td>\n",
       "      <td>1.00362</td>\n",
       "      <td>0.67097</td>\n",
       "      <td>6.70974</td>\n",
       "      <td>1.67460</td>\n",
       "      <td>16.74596</td>\n",
       "      <td>6.47042</td>\n",
       "      <td>16.14867</td>\n",
       "      <td>0.30024</td>\n",
       "    </tr>\n",
       "    <tr>\n",
       "      <th>13</th>\n",
       "      <td>100</td>\n",
       "      <td>1000</td>\n",
       "      <td>0.945</td>\n",
       "      <td>1.00271</td>\n",
       "      <td>0.67036</td>\n",
       "      <td>670.36424</td>\n",
       "      <td>1.67307</td>\n",
       "      <td>1673.07340</td>\n",
       "      <td>652.16254</td>\n",
       "      <td>1627.64619</td>\n",
       "      <td>0.41693</td>\n",
       "    </tr>\n",
       "  </tbody>\n",
       "</table>\n",
       "</div>"
      ],
      "text/plain": [
       "    Num Observations  True Population Size  \\\n",
       "0                  1                    10   \n",
       "1                  1                  1000   \n",
       "2                  2                    10   \n",
       "3                  2                  1000   \n",
       "4                  4                    10   \n",
       "5                  4                  1000   \n",
       "6                  8                    10   \n",
       "7                  8                  1000   \n",
       "8                 10                    10   \n",
       "9                 10                  1000   \n",
       "10                20                    10   \n",
       "11                20                  1000   \n",
       "12               100                    10   \n",
       "13               100                  1000   \n",
       "\n",
       "    Fraction Estimates within 95% Confidence Interval  \\\n",
       "0                                               0.965   \n",
       "1                                               0.955   \n",
       "2                                               0.905   \n",
       "3                                               0.930   \n",
       "4                                               0.950   \n",
       "5                                               0.955   \n",
       "6                                               0.915   \n",
       "7                                               0.930   \n",
       "8                                               0.980   \n",
       "9                                               0.955   \n",
       "10                                              0.945   \n",
       "11                                              0.960   \n",
       "12                                              0.940   \n",
       "13                                              0.945   \n",
       "\n",
       "    Mean Normalized Confidence Interval Width  \\\n",
       "0                                    12.06640   \n",
       "1                                    17.37264   \n",
       "2                                     6.87588   \n",
       "3                                     8.37179   \n",
       "4                                     3.12202   \n",
       "5                                     3.03792   \n",
       "6                                     2.27793   \n",
       "7                                     2.10728   \n",
       "8                                     1.89211   \n",
       "9                                     1.98420   \n",
       "10                                    1.48423   \n",
       "11                                    1.53379   \n",
       "12                                    1.00362   \n",
       "13                                    1.00271   \n",
       "\n",
       "    Mean Normalized Confidence Interval Lower Bound  Mean Lower CI Bound  \\\n",
       "0                                           0.08339              0.83387   \n",
       "1                                           0.12006            120.05728   \n",
       "2                                           0.28152              2.81523   \n",
       "3                                           0.34277            342.77068   \n",
       "4                                           0.34714              3.47136   \n",
       "5                                           0.33778            337.78493   \n",
       "6                                           0.47642              4.76417   \n",
       "7                                           0.44073            440.72728   \n",
       "8                                           0.46319              4.63193   \n",
       "9                                           0.48574            485.73523   \n",
       "10                                          0.54049              5.40486   \n",
       "11                                          0.55853            558.53339   \n",
       "12                                          0.67097              6.70974   \n",
       "13                                          0.67036            670.36424   \n",
       "\n",
       "    Mean Normalized Confidence Interval Upper Bound  Mean Upper CI Bound  \\\n",
       "0                                          12.14979            121.49788   \n",
       "1                                          17.49270          17492.70103   \n",
       "2                                           7.15740             71.57401   \n",
       "3                                           8.71456           8714.56030   \n",
       "4                                           3.46916             34.69158   \n",
       "5                                           3.37570           3375.70463   \n",
       "6                                           2.75435             27.54346   \n",
       "7                                           2.54801           2548.01112   \n",
       "8                                           2.35530             23.55305   \n",
       "9                                           2.46993           2469.93073   \n",
       "10                                          2.02471             20.24714   \n",
       "11                                          2.09232           2092.32349   \n",
       "12                                          1.67460             16.74596   \n",
       "13                                          1.67307           1673.07340   \n",
       "\n",
       "    Median Lower CI Bound  Median Upper CI Bound  \\\n",
       "0                 0.36334               52.93939   \n",
       "1                35.32566             5147.05358   \n",
       "2                 1.35380               34.41875   \n",
       "3               129.10115             3282.25214   \n",
       "4                 2.73947               27.37729   \n",
       "5               265.18853             2650.20158   \n",
       "6                 4.01310               23.20125   \n",
       "7               392.93235             2271.69056   \n",
       "8                 4.28749               21.80161   \n",
       "9               432.20646             2197.74057   \n",
       "10                5.15478               19.31032   \n",
       "11              530.44397             1987.09763   \n",
       "12                6.47042               16.14867   \n",
       "13              652.16254             1627.64619   \n",
       "\n",
       "    p As Many Estimates Outside Credible Interval  \n",
       "0                                         0.87626  \n",
       "1                                         0.67298  \n",
       "2                                         0.00582  \n",
       "3                                         0.12989  \n",
       "4                                         0.54529  \n",
       "5                                         0.67298  \n",
       "6                                         0.02380  \n",
       "7                                         0.12989  \n",
       "8                                         0.99095  \n",
       "9                                         0.67298  \n",
       "10                                        0.41693  \n",
       "11                                        0.78670  \n",
       "12                                        0.30024  \n",
       "13                                        0.41693  "
      ]
     },
     "execution_count": 43,
     "metadata": {},
     "output_type": "execute_result"
    }
   ],
   "source": [
    "# simulate gene drive within populations and then subsequent estimates of population size from magnitude of fixed genes\n",
    "records = []\n",
    "for num_observations in 1, 2, 4, 8, 10, 20, 100:\n",
    "    for true_popsize in 10, 1000:\n",
    "        sampled_ci_bounds = [\n",
    "            sample_popsize_bounds(\n",
    "                true_popsize,\n",
    "                num_observations,\n",
    "            )\n",
    "            for __ in range(200)\n",
    "        ]\n",
    "\n",
    "        num_confidence_intervals_containing_true_popsize = sum(\n",
    "            bool(lb_ <= true_popsize <= ub_)\n",
    "            for lb_, ub_ in sampled_ci_bounds\n",
    "        )\n",
    "\n",
    "        records.append({\n",
    "            'Num Observations' : num_observations,\n",
    "            'True Population Size' : true_popsize,\n",
    "            'Fraction Estimates within 95% Confidence Interval'\n",
    "                : num_confidence_intervals_containing_true_popsize / len(sampled_ci_bounds),\n",
    "            'Mean Normalized Confidence Interval Width' : np.mean([ub_ - lb_ for lb_, ub_ in sampled_ci_bounds]) / true_popsize,\n",
    "            'Mean Normalized Confidence Interval Lower Bound' : np.mean([lb_ for lb_, ub_ in sampled_ci_bounds]) / true_popsize,            'Mean Lower CI Bound' : np.mean([lb_ for lb_, __ in sampled_ci_bounds]), \n",
    "            'Mean Normalized Confidence Interval Upper Bound' : np.mean([ub_ for lb_, ub_ in sampled_ci_bounds]) / true_popsize,            'Mean Lower CI Bound' : np.mean([lb_ for lb_, __ in sampled_ci_bounds]), \n",
    "            'Mean Upper CI Bound' : np.mean([ub_ for __, ub_ in sampled_ci_bounds]), \n",
    "            'Median Lower CI Bound' : np.median([lb_ for lb_, __ in sampled_ci_bounds]), \n",
    "            'Median Upper CI Bound' : np.median([ub_ for __, ub_ in sampled_ci_bounds]), \n",
    "            'p As Many Estimates Outside Credible Interval'\n",
    "                : stats.binom.cdf(num_confidence_intervals_containing_true_popsize, len(sampled_ci_bounds), 0.95),\n",
    "        })\n",
    "\n",
    "res_df = pd.DataFrame.from_records(records)\n",
    "res_df.round(5)\n"
   ]
  },
  {
   "cell_type": "markdown",
   "id": "c9f85c09",
   "metadata": {},
   "source": [
    "# Result\n",
    "\n",
    "For the least-extreme observation of fixed gene magnitude $\\hat{x}_1$ from among $k$ observations, the population size $n$ can be estimated with $c\\%$ confidence to fall within the interval\n",
    "\n",
    "$\\begin{align*}\n",
    "\\Big(\n",
    "\\frac{\n",
    "    \\log \\Big( 1 - \\frac{1-c}{2}^{1/k} \\Big)\n",
    "}{\\log( \\hat{x}_1 )},\n",
    "\\frac{\n",
    "    \\log \\Big( 1 - \\frac{1+c}{2}^{1/k} \\Big)\n",
    "}{\\log( \\hat{x}_1 )}\n",
    "\\Big).\n",
    "\\end{align*}$\n",
    "\n",
    "Simulated experiments support the validity of this result."
   ]
  },
  {
   "cell_type": "markdown",
   "id": "27d3adbb",
   "metadata": {},
   "source": [
    "# References\n",
    "\n",
    "<a\n",
    "   id=\"miller2017probability\"\n",
    "   href=\"https://press.princeton.edu/books/hardcover/9780691149547/the-probability-lifesaver\">\n",
    "Miller, Steven J. The Probability Lifesaver. Princeton University Press, 2017.\n",
    "</a>\n",
    "    * supplementary chapter \"Order Statistics and the Median Theorem\" retrieved from <https://web.williams.edu/Mathematics/sjmiller/public_html/probabilitylifesaver/supplementalchap_mediantheoremandorderstatistics.pdf>\n"
   ]
  }
 ],
 "metadata": {
  "kernelspec": {
   "display_name": "Python 3",
   "language": "python",
   "name": "python3"
  },
  "language_info": {
   "codemirror_mode": {
    "name": "ipython",
    "version": 3
   },
   "file_extension": ".py",
   "mimetype": "text/x-python",
   "name": "python",
   "nbconvert_exporter": "python",
   "pygments_lexer": "ipython3",
   "version": "3.8.10"
  }
 },
 "nbformat": 4,
 "nbformat_minor": 5
}
