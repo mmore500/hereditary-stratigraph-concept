{
 "cells": [
  {
   "cell_type": "code",
   "execution_count": null,
   "metadata": {},
   "outputs": [],
   "source": [
    "import math\n",
    "from nbmetalog import nbmetalog as nbm\n",
    "import numpy as np\n",
    "import pandas as pd\n",
    "import random\n",
    "from scipy import integrate, stats\n",
    "import sympy\n",
    "import typing\n",
    "\n",
    "random.seed(1)\n",
    "sympy.init_printing()\n"
   ]
  },
  {
   "cell_type": "code",
   "execution_count": null,
   "metadata": {},
   "outputs": [],
   "source": [
    "nbm.print_metadata()\n"
   ]
  },
  {
   "cell_type": "markdown",
   "metadata": {},
   "source": [
    "# Goal\n",
    "\n",
    "Calculate a $c\\%$ confidence interval for population size $n$ that takes into account $k$ independent observations of fixed gene magnitude.\n"
   ]
  },
  {
   "cell_type": "markdown",
   "metadata": {},
   "source": [
    "# Strategy\n",
    "\n",
    "Extend the approach from notebook [single_observation_popsize_confidence_interval.ipynb](single_observation_popsize_confidence_interval.ipynb), where the confidence interval excluded all $n$ for which an outcome as-or-more-extreme than observed was had probability less than $1-c\\%$.\n",
    "\n",
    "This requires an expression for probability density of the observed outcome given population size $n$.\n",
    "Deriving a probability density function for the sum of $k$ replicate observations is difficult.\n",
    "However, through the magic of order statistics, an expression for the probability density of the least-extreme of the $k$ replicate observations is feasible.\n",
    "This will allow us to compute a confidence interval for $n$ in terms of the least-extreme observed fixed gene magnitude $\\hat{x}_1$.\n",
    "\n",
    "At face value, estimating population size $n$ from fixed gene magnitude seems highly susceptible to skew by rare events.\n",
    "A single extremely-high magnitude gene anywhere within a population will fix and distort the estimate of $n$.\n",
    "Therefore there may be some benefit to estimating $n$ by means of the least extreme of $k$ replicate observations with respect to resilience against skew from rare events.\n",
    "However, this approach also seems likely to suffer from \"discarding\" information from the other more extreme $k-1$ observations.\n"
   ]
  },
  {
   "cell_type": "markdown",
   "metadata": {},
   "source": [
    "# Probability Density Function of Least-Extreme Fixed Gene Magnitude\n",
    "\n",
    "According to [(Miller, 2017)](#miller2017probability),\n",
    "\n",
    "\n",
    "> For a random sample of size $n$ having values $x$ and continuous density $f(x)$, the probability density of the $r$th order statistic $Y_r$ is given by\n",
    ">\n",
    "> $\n",
    "g_r(y_r)\n",
    "=\n",
    "\\frac{n!}{(r-1)!}{(n-r)!}\n",
    "\\Big(\\int_{-\\infty}^{y_r} f(x) \\, \\mathrm{d}x \\Big)^{r-1}\n",
    "f(y_r)\n",
    "\\Big(\\int_{y_r}^{\\infty} f(x) \\, \\mathrm{d}x \\Big)^{n-r}\n",
    "$\n",
    ">\n",
    "> and for $Y_1$ (smallest value),\n",
    ">\n",
    "> $\n",
    "f_1(y)\n",
    "=\n",
    "n\n",
    "f(y)\n",
    "\\Big(\\int_{y}^{\\infty} f(x) \\, \\mathrm{d}x \\Big)^{n-1}.\n",
    "$\n",
    "\n",
    "So, with $k$ observations the probability density function of the least-extreme fixed gene is,\n",
    "\n",
    "$\\begin{align*}\n",
    "p_1(x)\n",
    "&= k f(x) \\Big(\\int_{x}^{\\infty} f(u) \\, \\mathrm{d}u \\Big)^{k-1}\\\\\n",
    "&= k nx^{n-1} \\Big(\\int_{x}^{\\infty} nu^{n-1} \\, \\mathrm{d}u \\Big)^{k-1}\\\\\n",
    "&= k nx^{n-1} \\Big(\\int_{x}^{1} nu^{n-1} \\, \\mathrm{d}u \\Big)^{k-1}\\\\\n",
    "&= k nx^{n-1} \\Big(u^{n} |_x^1 \\Big)^{k-1}\\\\\n",
    "&= k nx^{n-1} \\Big(1^{n} - x^n \\Big)^{k-1}\\\\\n",
    "&= k nx^{n-1} \\Big(1 - x^n \\Big)^{k-1}.\n",
    "\\end{align*}$\n"
   ]
  },
  {
   "cell_type": "markdown",
   "metadata": {},
   "source": [
    "# Upper Bound\n",
    "\n",
    "As the upper bound for our confidence interval estimating $n$, we will find the $n_\\mathrm{ub}$ where integrating the lower tail of probability density beyond $\\hat{x}_1$ contains only $(1-c)/2\\%$ probability mass.\n",
    "\n",
    "We must solve\n",
    "\n",
    "$\\begin{align*}\n",
    "(1-c)/2\n",
    "&= \\int_0^{\\hat{x}_1}  k n_\\mathrm{ub} x^{n_\\mathrm{ub}-1} \\Big(1 - x^n_\\mathrm{ub} \\Big)^{k-1} \\, \\mathrm{d}x\n",
    "\\end{align*}$\n",
    "\n",
    "for $n_\\mathrm{ub}$.\n",
    "\n",
    "Sympy fails to solve for arbitrary $k$, so we will solve for $k=1,2,3,\\dots$ and then extrapolate.\n"
   ]
  },
  {
   "cell_type": "code",
   "execution_count": null,
   "metadata": {},
   "outputs": [],
   "source": [
    "# specify variables with assumptions for domain\n",
    "def solve_for_ub(*, k: int):\n",
    "\n",
    "    x = sympy.Symbol('x', nonnegative=True, real=True,)\n",
    "    n = sympy.Symbol('n_\\mathrm{lb}', positive=True, real=True,)\n",
    "\n",
    "    probability_density = k * n * x ** (n - 1) * (1 - x**n)**(k-1)\n",
    "\n",
    "    x1 = sympy.Symbol('\\hat{x}_1', nonnegative=True, real=True,)\n",
    "\n",
    "    integrated = sympy.integrate(\n",
    "        probability_density,\n",
    "        (x, 0, x1,),\n",
    "    ).simplify()\n",
    "\n",
    "    c = sympy.Symbol('c', positive=True, real=True,)\n",
    "\n",
    "    equation = sympy.Eq( integrated, (1-c)/2 ).simplify()\n",
    "\n",
    "    solutions = sympy.solve(equation, n)\n",
    "\n",
    "    return solutions[0].simplify()\n"
   ]
  },
  {
   "cell_type": "code",
   "execution_count": null,
   "metadata": {},
   "outputs": [],
   "source": [
    "solve_for_ub(k=1,)\n"
   ]
  },
  {
   "cell_type": "code",
   "execution_count": null,
   "metadata": {},
   "outputs": [],
   "source": [
    "solve_for_ub(k=2,)\n"
   ]
  },
  {
   "cell_type": "code",
   "execution_count": null,
   "metadata": {},
   "outputs": [],
   "source": [
    "solve_for_ub(k=3,)\n"
   ]
  },
  {
   "cell_type": "code",
   "execution_count": null,
   "metadata": {},
   "outputs": [],
   "source": [
    "solve_for_ub(k=4,)\n"
   ]
  },
  {
   "cell_type": "code",
   "execution_count": null,
   "metadata": {},
   "outputs": [],
   "source": [
    "# sympy can't solve this case\n",
    "#solve_for_ub(k=5,)\n",
    "\n",
    "solve_for_ub(k=6,)\n"
   ]
  },
  {
   "cell_type": "code",
   "execution_count": null,
   "metadata": {},
   "outputs": [],
   "source": [
    "# sympy can't solve this case\n",
    "# solve_for_ub(k=7,)\n",
    "\n",
    "solve_for_ub(k=8,)\n"
   ]
  },
  {
   "cell_type": "markdown",
   "metadata": {},
   "source": [
    "Solution appears to be of the form\n",
    "\n",
    "$\\begin{align*}\n",
    "n_\\mathrm{ub}\n",
    "&=\\frac{\n",
    "    \\log \\Big( - \\frac{2^\\frac{k-1}{k} (c+1)^{1/k}}{2} + 1 \\Big)\n",
    "}{\\log( \\hat{x}_1 )}\\\\\n",
    "&=\\frac{\n",
    "    \\log \\Big( - 2^\\frac{-1}{k} (c+1)^{1/k} + 1 \\Big)\n",
    "}{\\log( \\hat{x}_1 )}\\\\\n",
    "&=\\frac{\n",
    "    \\log \\Big( - \\frac{c+1}{2}^{1/k} + 1 \\Big)\n",
    "}{\\log( \\hat{x}_1 )}\\\\\n",
    "&=\\frac{\n",
    "    \\log \\Big( 1 - \\frac{1+c}{2}^{1/k} \\Big)\n",
    "}{\\log( \\hat{x}_1 )}.\n",
    "\\end{align*}$\n"
   ]
  },
  {
   "cell_type": "markdown",
   "metadata": {},
   "source": [
    "# Validating Upper Bound Extrapolation\n",
    "\n",
    "To validate the upper bound, we will run numeric integration with specific values of $c$ and $\\hat{x}_1$ to test solutions for more values of $k$.\n"
   ]
  },
  {
   "cell_type": "code",
   "execution_count": null,
   "metadata": {},
   "outputs": [],
   "source": [
    "def expected_ub(*, k: int, c: float, x1: float) -> float:\n",
    "    return math.log(\n",
    "        1 - ((c+1)/2)**(1/k)\n",
    "        ) / math.log(\n",
    "        x1\n",
    "    )\n"
   ]
  },
  {
   "cell_type": "code",
   "execution_count": null,
   "metadata": {},
   "outputs": [],
   "source": [
    "def validate_ub(*, k: int, c: float, x1: float,) -> float:\n",
    "\n",
    "    n = expected_ub(k=k, c=c, x1=x1)\n",
    "\n",
    "    # not used: sympy too slow\n",
    "    # x = sympy.Symbol('x', nonnegative=True, real=True,)\n",
    "    # probability_density = k * n * x ** (n - 1) * (1 - x**n)**(k-1)\n",
    "    # integrated = sympy.Integral(\n",
    "    #     probability_density,\n",
    "    #     (x, 0, x1,),\n",
    "    # ).evalf()\n",
    "\n",
    "    integrated, err = integrate.quad(\n",
    "        lambda x: k * n * x ** (n - 1) * (1 - x**n)**(k-1),\n",
    "        0,\n",
    "        x1,\n",
    "    )\n",
    "    assert err < 1e-6, err\n",
    "\n",
    "    return math.isclose(integrated, (1-c)/2, abs_tol=err,)\n"
   ]
  },
  {
   "cell_type": "code",
   "execution_count": null,
   "metadata": {},
   "outputs": [],
   "source": [
    "for k in range(1,1001,50):\n",
    "    for c in np.linspace(0.01, 0.99, 10):\n",
    "        for x1 in np.linspace(0.01, 0.99, 10):\n",
    "            assert validate_ub(k=k, c=c, x1=x1), (k, c, x1)\n"
   ]
  },
  {
   "cell_type": "markdown",
   "metadata": {},
   "source": [
    "# Lower Bound\n",
    "\n",
    "As the lower bound for our confidence interval estimating $n$, we will find the $n_\\mathrm{lb}$ where integrating the upper tail of probability density beyond $\\hat{x}_1$ contains only $(1-c)/2\\%$ probability mass.\n",
    "\n",
    "We must solve\n",
    "\n",
    "$\\begin{align*}\n",
    "(1-c)/2\n",
    "&= \\int_{\\hat{x}_1}^1  k n_\\mathrm{lb}x^{n_\\mathrm{lb}-1} \\Big(1 - x^{n_\\mathrm{lb}} \\Big)^{k-1} \\, \\mathrm{d}x\n",
    "\\end{align*}$\n",
    "\n",
    "for $n_\\mathrm{lb}$.\n",
    "\n",
    "Sympy fails to solve for arbitrary $k$, so we will solve for $k=1,2,3,\\dots$ and then extrapolate.\n"
   ]
  },
  {
   "cell_type": "code",
   "execution_count": null,
   "metadata": {},
   "outputs": [],
   "source": [
    "def solve_lb(*, k: int):\n",
    "\n",
    "    # specify variables with assumptions for domain\n",
    "    x = sympy.Symbol('x', nonnegative=True, real=True,)\n",
    "    n = sympy.Symbol('n_\\mathrm{lb}', positive=True, real=True,)\n",
    "\n",
    "    probability_density = k * n * x ** (n - 1) * (1 - x**n)**(k-1)\n",
    "\n",
    "    x1 = sympy.Symbol('\\hat{x}_1', nonnegative=True, real=True,)\n",
    "\n",
    "    integrated = sympy.integrate(\n",
    "        probability_density,\n",
    "        (x, x1, 1,),\n",
    "    ).simplify()\n",
    "\n",
    "    c = sympy.Symbol('c', positive=True, real=True,)\n",
    "\n",
    "    equation = sympy.Eq( integrated, (1-c)/2 ).simplify()\n",
    "\n",
    "    solutions = sympy.solve(equation, n)\n",
    "\n",
    "    return [solution.simplify() for solution in solutions]\n"
   ]
  },
  {
   "cell_type": "code",
   "execution_count": null,
   "metadata": {},
   "outputs": [],
   "source": [
    "solve_lb(k=1,)[0]\n"
   ]
  },
  {
   "cell_type": "code",
   "execution_count": null,
   "metadata": {},
   "outputs": [],
   "source": [
    "solve_lb(k=2,)[0]\n"
   ]
  },
  {
   "cell_type": "code",
   "execution_count": null,
   "metadata": {},
   "outputs": [],
   "source": [
    "solve_lb(k=3,)[0]\n"
   ]
  },
  {
   "cell_type": "code",
   "execution_count": null,
   "metadata": {},
   "outputs": [],
   "source": [
    "solve_lb(k=4,)[-2]\n"
   ]
  },
  {
   "cell_type": "code",
   "execution_count": null,
   "metadata": {},
   "outputs": [],
   "source": [
    "solve_lb(k=5,)\n"
   ]
  },
  {
   "cell_type": "code",
   "execution_count": null,
   "metadata": {},
   "outputs": [],
   "source": [
    "solve_lb(k=6,)\n"
   ]
  },
  {
   "cell_type": "code",
   "execution_count": null,
   "metadata": {},
   "outputs": [],
   "source": [
    "solve_lb(k=7,)\n"
   ]
  },
  {
   "cell_type": "code",
   "execution_count": null,
   "metadata": {},
   "outputs": [],
   "source": [
    "solve_lb(k=8,)[6]\n"
   ]
  },
  {
   "cell_type": "markdown",
   "metadata": {},
   "source": [
    "Solution appears to be of the form\n",
    "\n",
    "$\\begin{align*}\n",
    "n_\\mathrm{lb}\n",
    "&=\\frac{\n",
    "    \\log \\Big( - \\frac{2^\\frac{k-1}{k} (1-c)^{1/k}}{2} + 1 \\Big)\n",
    "}{\\log( \\hat{x}_1 )}\\\\\n",
    "&=\\frac{\n",
    "    \\log \\Big( - 2^\\frac{-1}{k} (1-c)^{1/k} + 1 \\Big)\n",
    "}{\\log( \\hat{x}_1 )}\\\\\n",
    "&=\\frac{\n",
    "    \\log \\Big( - \\frac{1-c}{2}^{1/k} + 1 \\Big)\n",
    "}{\\log( \\hat{x}_1 )}\\\\\n",
    "&=\\frac{\n",
    "    \\log \\Big( 1 - \\frac{1-c}{2}^{1/k} \\Big)\n",
    "}{\\log( \\hat{x}_1 )}.\n",
    "\\end{align*}$\n",
    "\n",
    "However, the consistency of Sympy's symbolic integration is spottier than for calculating the upper bound.\n"
   ]
  },
  {
   "cell_type": "markdown",
   "metadata": {},
   "source": [
    "# Validating Lower Bound Extrapolation\n"
   ]
  },
  {
   "cell_type": "code",
   "execution_count": null,
   "metadata": {},
   "outputs": [],
   "source": [
    "def expected_lb(*, k: int, c: float, x1: float) -> float:\n",
    "    return math.log(\n",
    "        1 - ((1-c)/2)**(1/k)\n",
    "        ) / math.log(\n",
    "        x1\n",
    "    )\n"
   ]
  },
  {
   "cell_type": "code",
   "execution_count": null,
   "metadata": {},
   "outputs": [],
   "source": [
    "def validate_lb(*, k: int, c: float, x1: float,) -> float:\n",
    "\n",
    "    n = expected_lb(k=k, c=c, x1=x1)\n",
    "\n",
    "    # not used: sympy too slow\n",
    "    # x = sympy.Symbol('x', nonnegative=True, real=True,)\n",
    "    # probability_density = k * n * x ** (n - 1) * (1 - x**n)**(k-1)\n",
    "    # integrated = sympy.Integral(\n",
    "    #     probability_density,\n",
    "    #     (x, x1, 1.0),\n",
    "    # ).evalf()\n",
    "\n",
    "    integrated, err = integrate.quad(\n",
    "        lambda x: k * n * x ** (n - 1) * (1 - x**n)**(k-1),\n",
    "        x1,\n",
    "        1,\n",
    "    )\n",
    "    assert err < 1e-6, err\n",
    "\n",
    "    return math.isclose(integrated, (1-c)/2, abs_tol=err,)\n"
   ]
  },
  {
   "cell_type": "code",
   "execution_count": null,
   "metadata": {},
   "outputs": [],
   "source": [
    "for k in range(1,1001,50):\n",
    "    for c in np.linspace(0.01, 0.99, 10):\n",
    "        for x1 in np.linspace(0.01, 0.99, 10):\n",
    "            assert validate_lb(k=k, c=c, x1=x1), (k, c, x1)\n"
   ]
  },
  {
   "cell_type": "markdown",
   "metadata": {},
   "source": [
    "# Simulated Experiments\n"
   ]
  },
  {
   "cell_type": "code",
   "execution_count": null,
   "metadata": {},
   "outputs": [],
   "source": [
    "def sample_observations(\n",
    "    true_popsize: int,\n",
    "    num_observations: int,\n",
    ") -> typing.List[float]:\n",
    "    \"\"\"Simulate sampling the largest gene from within a population of `true_popsize` `num_observations` times.\"\"\"\n",
    "    return [\n",
    "        max(random.random() for __ in range(true_popsize))\n",
    "        for __ in range(num_observations)\n",
    "    ]\n",
    "\n",
    "def estimate_popsize_bounds(\n",
    "    observations: typing.List[float],\n",
    ") -> typing.Tuple[float, float]:\n",
    "\n",
    "    lb = math.log(\n",
    "        - ( (1+0.95)/2 ) ** (1/len(observations)) + 1\n",
    "    ) / math.log(\n",
    "            min(observations)\n",
    "    )\n",
    "    ub = math.log(\n",
    "        - ( (1-0.95)/2 ) ** (1/len(observations)) + 1,\n",
    "    ) / math.log(\n",
    "            min(observations),\n",
    "    )\n",
    "\n",
    "    return (ub, lb,)\n",
    "\n",
    "def sample_popsize_bounds(\n",
    "    true_popsize: int,\n",
    "    num_observations: int,\n",
    ") -> typing.Tuple[float, float]:\n",
    "    \"\"\"Generate sampled largest genes from `true_popsize` population\n",
    "    and then use maximum likelihood estimator to estimate `true_popsize`.\"\"\"\n",
    "    return estimate_popsize_bounds(sample_observations(true_popsize, num_observations))\n"
   ]
  },
  {
   "cell_type": "code",
   "execution_count": null,
   "metadata": {},
   "outputs": [],
   "source": [
    "# simulate gene drive within populations and then subsequent estimates of population size from magnitude of fixed genes\n",
    "records = []\n",
    "for num_observations in 1, 2, 4, 8, 10, 20, 100:\n",
    "    for true_popsize in 10, 1000:\n",
    "        sampled_ci_bounds = [\n",
    "            sample_popsize_bounds(\n",
    "                true_popsize,\n",
    "                num_observations,\n",
    "            )\n",
    "            for __ in range(200)\n",
    "        ]\n",
    "\n",
    "        num_confidence_intervals_containing_true_popsize = sum(\n",
    "            bool(lb_ <= true_popsize <= ub_)\n",
    "            for lb_, ub_ in sampled_ci_bounds\n",
    "        )\n",
    "\n",
    "        records.append({\n",
    "            'Num Observations' : num_observations,\n",
    "            'True Population Size' : true_popsize,\n",
    "            'Fraction Estimates within 95% Confidence Interval'\n",
    "                : num_confidence_intervals_containing_true_popsize / len(sampled_ci_bounds),\n",
    "            'Mean Normalized Confidence Interval Width' : np.mean([ub_ - lb_ for lb_, ub_ in sampled_ci_bounds]) / true_popsize,\n",
    "            'Mean Normalized Confidence Interval Lower Bound' : np.mean([lb_ for lb_, ub_ in sampled_ci_bounds]) / true_popsize,            'Mean Lower CI Bound' : np.mean([lb_ for lb_, __ in sampled_ci_bounds]),\n",
    "            'Mean Normalized Confidence Interval Upper Bound' : np.mean([ub_ for lb_, ub_ in sampled_ci_bounds]) / true_popsize,            'Mean Lower CI Bound' : np.mean([lb_ for lb_, __ in sampled_ci_bounds]),\n",
    "            'Mean Upper CI Bound' : np.mean([ub_ for __, ub_ in sampled_ci_bounds]),\n",
    "            'Median Lower CI Bound' : np.median([lb_ for lb_, __ in sampled_ci_bounds]),\n",
    "            'Median Upper CI Bound' : np.median([ub_ for __, ub_ in sampled_ci_bounds]),\n",
    "            'p As Many Estimates Outside Credible Interval'\n",
    "                : stats.binom.cdf(num_confidence_intervals_containing_true_popsize, len(sampled_ci_bounds), 0.95),\n",
    "        })\n",
    "\n",
    "res_df = pd.DataFrame.from_records(records)\n",
    "res_df.round(5)\n"
   ]
  },
  {
   "cell_type": "markdown",
   "metadata": {},
   "source": [
    "# Result\n",
    "\n",
    "For the least-extreme observation of fixed gene magnitude $\\hat{x}_1$ from among $k$ observations, the population size $n$ can be estimated with $c\\%$ confidence to fall within the interval\n",
    "\n",
    "$\\begin{align*}\n",
    "\\Big(\n",
    "\\frac{\n",
    "    \\log \\Big( 1 - \\frac{1-c}{2}^{1/k} \\Big)\n",
    "}{\\log( \\hat{x}_1 )},\n",
    "\\frac{\n",
    "    \\log \\Big( 1 - \\frac{1+c}{2}^{1/k} \\Big)\n",
    "}{\\log( \\hat{x}_1 )}\n",
    "\\Big).\n",
    "\\end{align*}$\n",
    "\n",
    "Simulated experiments support the validity of this result.\n"
   ]
  },
  {
   "cell_type": "markdown",
   "metadata": {},
   "source": [
    "# References\n",
    "\n",
    "<a\n",
    "   id=\"miller2017probability\"\n",
    "   href=\"https://press.princeton.edu/books/hardcover/9780691149547/the-probability-lifesaver\">\n",
    "Miller, Steven J. The Probability Lifesaver. Princeton University Press, 2017.\n",
    "</a>\n",
    "    * supplementary chapter \"Order Statistics and the Median Theorem\" retrieved from <https://web.williams.edu/Mathematics/sjmiller/public_html/probabilitylifesaver/supplementalchap_mediantheoremandorderstatistics.pdf>\n"
   ]
  }
 ],
 "metadata": {
  "kernelspec": {
   "display_name": "Python 3",
   "language": "python",
   "name": "python3"
  },
  "language_info": {
   "codemirror_mode": {
    "name": "ipython",
    "version": 3
   },
   "file_extension": ".py",
   "mimetype": "text/x-python",
   "name": "python",
   "nbconvert_exporter": "python",
   "pygments_lexer": "ipython3",
   "version": "3.8.10"
  }
 },
 "nbformat": 4,
 "nbformat_minor": 5
}
