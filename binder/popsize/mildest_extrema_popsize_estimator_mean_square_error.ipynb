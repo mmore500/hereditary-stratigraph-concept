{
 "cells": [
  {
   "cell_type": "code",
   "execution_count": 1,
   "id": "8f65db29",
   "metadata": {},
   "outputs": [],
   "source": [
    "from nbmetalog import nbmetalog as nbm\n",
    "import sympy\n"
   ]
  },
  {
   "cell_type": "code",
   "execution_count": 2,
   "id": "0130a441",
   "metadata": {},
   "outputs": [
    {
     "name": "stdout",
     "output_type": "stream",
     "text": [
      "context: ci\n",
      "hostname: d91d49a6ecab\n",
      "interpreter: 3.8.12 (default, Jan 15 2022, 18:39:47)  [GCC 7.5.0]\n",
      "nbcellexec: 2\n",
      "nbname: mildest_extrema_popsize_estimator_mean_square_error\n",
      "nbpath: /opt/hereditary-stratigraph-concept/binder/popsize/mildest_extrema_popsize_estimator_mean_square_error.ipynb\n",
      "revision: null\n",
      "session: 18e3e9da-763b-4466-8bdd-9f49bd2434ed\n",
      "timestamp: 2022-12-06T06:02:19Z00:00\n",
      "\n",
      "\n",
      "IPython==7.16.1\n",
      "keyname==0.4.1\n",
      "yaml==5.3.1\n",
      "nbmetalog==0.2.6\n",
      "sympy==1.5.1\n",
      "re==2.2.1\n",
      "ipython_genutils==0.2.0\n",
      "logging==0.5.1.2\n",
      "zmq==22.3.0\n",
      "json==2.0.9\n",
      "ipykernel==5.5.3\n"
     ]
    }
   ],
   "source": [
    "nbm.print_metadata()\n"
   ]
  },
  {
   "cell_type": "markdown",
   "id": "68402ac0",
   "metadata": {},
   "source": [
    "$\\begin{align*}\n",
    "\\mathrm{MSE}(\\hat{n}_\\mathrm{mue})\n",
    "&= E \\Big[ ( \\hat{n}_\\mathrm{mue} - n )^2 \\Big] \\\\\n",
    "&= E \\Big[ ( \\hat{n}_\\mathrm{mue} - n )^2 \\Big] \\\\\n",
    "&= E \\Big[ \\Big( \\frac{\n",
    "    \\log \\Big( - \\frac{1}{2}^{1/k} + 1 \\Big)\n",
    "}{\\log( x )} - n \\Big)^2 \\Big] \\\\\n",
    "&= \\int_0^1 \\Big( \\frac{\n",
    "    \\log \\Big( - \\frac{1}{2}^{1/k} + 1 \\Big)\n",
    "}{\\log( x )} - n \\Big)^2 p(x) \\, \\mathrm{d}x \\\\\n",
    "&= \\int_0^1 \\Big( \\frac{\n",
    "    \\log \\Big( - \\frac{1}{2}^{1/k} + 1 \\Big)\n",
    "}{\\log( x )} - n \\Big)^2 k nx^{n-1} \\Big(1 - x^n \\Big)^{k-1} \\, \\mathrm{d}x \\\\\n",
    "&= kn \\int_0^1 \\Big( \\frac{\n",
    "    \\log \\Big( - \\frac{1}{2}^{1/k} + 1 \\Big)\n",
    "}{\\log( x )} - n \\Big)^2 x^{n-1} \\Big(1 - x^n \\Big)^{k-1} \\, \\mathrm{d}x \\\\\n",
    "\\end{align*}$\n"
   ]
  },
  {
   "cell_type": "markdown",
   "id": "6a8b2427",
   "metadata": {},
   "source": [
    "An analytical representation of this integral stumps computer algebra.\n"
   ]
  },
  {
   "cell_type": "markdown",
   "id": "03fd2964",
   "metadata": {},
   "source": [
    "# Numerical Approximation\n",
    "\n",
    "Numeric evaluation appears to converge for $k>2$.\n"
   ]
  },
  {
   "cell_type": "code",
   "execution_count": 3,
   "id": "a16a32b5",
   "metadata": {},
   "outputs": [
    {
     "data": {
      "text/latex": [
       "$\\displaystyle \\int\\limits_{0}^{1} \\frac{x^{n - 1} \\left(1 - x^{n}\\right)^{k - 1} \\left(n \\log{\\left(x \\right)} - \\log{\\left(2^{\\frac{1}{k}} - 1 \\right)} + \\frac{\\log{\\left(2 \\right)}}{k}\\right)^{2}}{\\log{\\left(x \\right)}^{2}}\\, dx$"
      ],
      "text/plain": [
       "Integral(x**(n - 1)*(1 - x**n)**(k - 1)*(n*log(x) - log(2**(1/k) - 1) + log(2)/k)**2/log(x)**2, (x, 0, 1))"
      ]
     },
     "execution_count": 3,
     "metadata": {},
     "output_type": "execute_result"
    }
   ],
   "source": [
    "# specify variables with assumptions for domain\n",
    "\n",
    "x = sympy.Symbol('x', nonnegative=True, real=True,)\n",
    "n = sympy.Symbol('n', positive=True, real=True,)\n",
    "k = sympy.Symbol('k', positive=True, real=True, integer=True,)\n",
    "\n",
    "density = (\n",
    "    sympy.log(1 - 2**(-1/k)) / sympy.log(x) - n\n",
    ")**2 * x**(n-1) * (1-x**n)**(k-1)\n",
    "\n",
    "sympy.Integral(\n",
    "    density,\n",
    "    (x, 0, 1)\n",
    ").simplify()\n"
   ]
  },
  {
   "cell_type": "code",
   "execution_count": 4,
   "id": "6a2abf89",
   "metadata": {},
   "outputs": [
    {
     "name": "stdout",
     "output_type": "stream",
     "text": [
      "1 0.e+102\n",
      "2 0.e+2\n",
      "3 0.728799457179254\n",
      "4 0.245257097070731\n"
     ]
    }
   ],
   "source": [
    "for k_ in range(1,5):\n",
    "    mse = sympy.Integral(\n",
    "        density,\n",
    "        (x, 0, 1)\n",
    "    ).simplify().subs(\n",
    "        k, k_,\n",
    "    ).subs(\n",
    "        n, 100,\n",
    "    ).evalf() / 100\n",
    "    print(k_, mse)\n"
   ]
  },
  {
   "cell_type": "markdown",
   "id": "9d1f7b52",
   "metadata": {},
   "source": [
    "# Result\n",
    "\n",
    "Although an analytical expression for mean square error of the mildest extream estimator seems unlikely, numerical approximations appear to converge for $k>2$.\n"
   ]
  }
 ],
 "metadata": {
  "kernelspec": {
   "display_name": "Python 3",
   "language": "python",
   "name": "python3"
  },
  "language_info": {
   "codemirror_mode": {
    "name": "ipython",
    "version": 3
   },
   "file_extension": ".py",
   "mimetype": "text/x-python",
   "name": "python",
   "nbconvert_exporter": "python",
   "pygments_lexer": "ipython3",
   "version": "3.8.12"
  }
 },
 "nbformat": 4,
 "nbformat_minor": 5
}
