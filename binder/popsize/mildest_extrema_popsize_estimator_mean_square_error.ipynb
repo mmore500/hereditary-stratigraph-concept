{
 "cells": [
  {
   "cell_type": "code",
   "execution_count": null,
   "metadata": {},
   "outputs": [],
   "source": [
    "from nbmetalog import nbmetalog as nbm\n",
    "import sympy\n"
   ]
  },
  {
   "cell_type": "code",
   "execution_count": null,
   "metadata": {},
   "outputs": [],
   "source": [
    "nbm.print_metadata()\n"
   ]
  },
  {
   "cell_type": "markdown",
   "metadata": {},
   "source": [
    "$\\begin{align*}\n",
    "\\mathrm{MSE}(\\hat{n}_\\mathrm{mue})\n",
    "&= E \\Big[ ( \\hat{n}_\\mathrm{mue} - n )^2 \\Big] \\\\\n",
    "&= E \\Big[ ( \\hat{n}_\\mathrm{mue} - n )^2 \\Big] \\\\\n",
    "&= E \\Big[ \\Big( \\frac{\n",
    "    \\log \\Big( - \\frac{1}{2}^{1/k} + 1 \\Big)\n",
    "}{\\log( x )} - n \\Big)^2 \\Big] \\\\\n",
    "&= \\int_0^1 \\Big( \\frac{\n",
    "    \\log \\Big( - \\frac{1}{2}^{1/k} + 1 \\Big)\n",
    "}{\\log( x )} - n \\Big)^2 p(x) \\, \\mathrm{d}x \\\\\n",
    "&= \\int_0^1 \\Big( \\frac{\n",
    "    \\log \\Big( - \\frac{1}{2}^{1/k} + 1 \\Big)\n",
    "}{\\log( x )} - n \\Big)^2 k nx^{n-1} \\Big(1 - x^n \\Big)^{k-1} \\, \\mathrm{d}x \\\\\n",
    "&= kn \\int_0^1 \\Big( \\frac{\n",
    "    \\log \\Big( - \\frac{1}{2}^{1/k} + 1 \\Big)\n",
    "}{\\log( x )} - n \\Big)^2 x^{n-1} \\Big(1 - x^n \\Big)^{k-1} \\, \\mathrm{d}x \\\\\n",
    "\\end{align*}$\n"
   ]
  },
  {
   "cell_type": "markdown",
   "metadata": {},
   "source": [
    "An analytical representation of this integral stumps computer algebra.\n"
   ]
  },
  {
   "cell_type": "markdown",
   "metadata": {},
   "source": [
    "# Numerical Approximation\n",
    "\n",
    "Numeric evaluation appears to converge for $k>2$.\n"
   ]
  },
  {
   "cell_type": "code",
   "execution_count": null,
   "metadata": {},
   "outputs": [],
   "source": [
    "# specify variables with assumptions for domain\n",
    "\n",
    "x = sympy.Symbol('x', nonnegative=True, real=True,)\n",
    "n = sympy.Symbol('n', positive=True, real=True,)\n",
    "k = sympy.Symbol('k', positive=True, real=True, integer=True,)\n",
    "\n",
    "density = (\n",
    "    sympy.log(1 - 2**(-1/k)) / sympy.log(x) - n\n",
    ")**2 * x**(n-1) * (1-x**n)**(k-1)\n",
    "\n",
    "sympy.Integral(\n",
    "    density,\n",
    "    (x, 0, 1)\n",
    ").simplify()\n"
   ]
  },
  {
   "cell_type": "code",
   "execution_count": null,
   "metadata": {},
   "outputs": [],
   "source": [
    "for k_ in range(1,5):\n",
    "    mse = sympy.Integral(\n",
    "        density,\n",
    "        (x, 0, 1)\n",
    "    ).simplify().subs(\n",
    "        k, k_,\n",
    "    ).subs(\n",
    "        n, 100,\n",
    "    ).evalf() / 100\n",
    "    print(k_, mse)\n"
   ]
  },
  {
   "cell_type": "markdown",
   "metadata": {},
   "source": [
    "# Result\n",
    "\n",
    "Although an analytical expression for mean square error of the mildest extream estimator seems unlikely, numerical approximations appear to converge for $k>2$.\n"
   ]
  }
 ],
 "metadata": {},
 "nbformat": 4,
 "nbformat_minor": 5
}
