{
 "cells": [
  {
   "cell_type": "code",
   "execution_count": 3,
   "id": "080af18c",
   "metadata": {},
   "outputs": [],
   "source": [
    "from nbmetalog import nbmetalog as nbm\n"
   ]
  },
  {
   "cell_type": "code",
   "execution_count": 2,
   "id": "2cc8c1ee",
   "metadata": {},
   "outputs": [
    {
     "name": "stdout",
     "output_type": "stream",
     "text": [
      "context: local\n",
      "hostname: thinkpad\n",
      "interpreter: 3.8.10 (default, Nov 26 2021, 20:14:08)  [GCC 9.3.0]\n",
      "nbcellexec: 2\n",
      "nbname: gene_drive_scenario\n",
      "nbpath: /home/mmore500/2022-01-29/hereditary-stratigraph-concept/binder/popsize/gene_drive_scenario.ipynb\n",
      "revision: null\n",
      "session: dd81a16d-2753-4558-92c3-48a37d3fa540\n",
      "timestamp: 2022-02-04T18:15:04Z00:00\n",
      "\n",
      "\n",
      "IPython==7.13.0\n",
      "keyname==0.4.1\n",
      "yaml==5.3.1\n",
      "nbmetalog==0.2.5\n",
      "re==2.2.1\n",
      "ipython_genutils==0.2.0\n",
      "logging==0.5.1.2\n",
      "zmq==18.1.1\n",
      "json==2.0.9\n",
      "six==1.16.0\n",
      "ipykernel==5.2.0\n"
     ]
    }
   ],
   "source": [
    "nbm.print_metadata()\n"
   ]
  },
  {
   "cell_type": "markdown",
   "id": "3ca4eb0c",
   "metadata": {},
   "source": [
    "# Goal\n",
    "\n",
    "Introduce a scenario where gene drive within a population pushes the largest of integer genes to fixation and describe the distribution of the fixed gene. "
   ]
  },
  {
   "cell_type": "markdown",
   "id": "5862f42c",
   "metadata": {},
   "source": [
    "# Scenario\n",
    "\n",
    "Suppose we have a population of $n$ individuals.\n",
    "Each individual has one gene: an unsigned integer of fixed precision (i.e., 32 bits, 64 bits, etc.).\n",
    "At outset, suppose each individual begins with gene value drawn from a uniform distribution over possible gene values.\n",
    "Then, let generations elapse with sexual recombination between individuals.\n",
    "\n",
    "If we enforce a \"gene drive\" mechanism where offspring inherit the larger of their parents' genes, the largest gene value in the population will eventually reach fixation.\n",
    "\n",
    "Introduce a random variable $\\mathbb{X}$ to represent the the magnitude of the gene value observed after fixation.\n",
    "How is $\\mathbb{X}$ distributed?\n"
   ]
  },
  {
   "cell_type": "markdown",
   "id": "c33651cf",
   "metadata": {},
   "source": [
    "# Magnitude of Fixed Gene\n",
    "\n",
    "If we approximate our unsigned gene as uniformly distributed between 0 and 1, it turns out to be distributed as\n",
    "\n",
    "$$\n",
    "\\mathrm{Beta}(n, 1)\n",
    "$$\n",
    "\n",
    "[(Gentle, 2008)](#gentle2008computational) [via Wikipedia](https://en.wikipedia.org/wiki/Order_statistic#:~:text=Order%20statistics%20sampled%20from%20a%20uniform%20distribution%5Bedit%5D>).\n",
    "\n",
    "This probability density function of this distribution can be given as\n",
    "\n",
    "$$\n",
    "n x^{n-1}\n",
    "$$\n",
    "\n",
    "for $x$ on $[0,1]$ and 0 otherwise.\n"
   ]
  },
  {
   "cell_type": "markdown",
   "id": "577fed6f",
   "metadata": {},
   "source": [
    "# Multiple Observations\n",
    "\n",
    "Extend our thought experiment to $k$ independent genes, where each gene has the same fixed precision, is initialized uniformly, is inherited entirely independently from all other genes, and independently enforces the \"gene drive\" mechanism as before.\n",
    "\n",
    "Suppose we sample an individual from the population after all genes goes to fixation.\n",
    "If we observe values of $k$ fixed genes, how can we estimate the size of the population the individual was extracted from?\n"
   ]
  },
  {
   "cell_type": "markdown",
   "id": "31252395",
   "metadata": {},
   "source": [
    "# References\n",
    "\n",
    "<a \n",
    "   href=\"https://doi.org/10.1007/978-0-387-98144-4_7\"\n",
    "   id=\"gentle2008computational\">\n",
    "Gentle, James E. Computational statistics. Vol. 308. New York: Springer, 2009.\n",
    "</a>\n"
   ]
  }
 ],
 "metadata": {
  "kernelspec": {
   "display_name": "Python 3",
   "language": "python",
   "name": "python3"
  },
  "language_info": {
   "codemirror_mode": {
    "name": "ipython",
    "version": 3
   },
   "file_extension": ".py",
   "mimetype": "text/x-python",
   "name": "python",
   "nbconvert_exporter": "python",
   "pygments_lexer": "ipython3",
   "version": "3.8.10"
  }
 },
 "nbformat": 4,
 "nbformat_minor": 5
}
