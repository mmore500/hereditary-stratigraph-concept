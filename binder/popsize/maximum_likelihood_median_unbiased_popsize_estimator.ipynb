{
 "cells": [
  {
   "cell_type": "code",
   "execution_count": 1,
   "id": "61975ec6",
   "metadata": {},
   "outputs": [],
   "source": [
    "import math\n",
    "from nbmetalog import nbmetalog as nbm\n",
    "import numpy as np\n",
    "import pandas as pd\n",
    "import random\n",
    "from scipy import stats\n",
    "import sympy\n",
    "import typing\n",
    "\n",
    "random.seed(1)\n"
   ]
  },
  {
   "cell_type": "code",
   "execution_count": 2,
   "id": "4292a1a5",
   "metadata": {},
   "outputs": [
    {
     "name": "stdout",
     "output_type": "stream",
     "text": [
      "context: ci\n",
      "hostname: 335ee079bf9b\n",
      "interpreter: 3.8.12 (default, Jan 15 2022, 18:39:47)  [GCC 7.5.0]\n",
      "nbcellexec: 2\n",
      "nbname: maximum_likelihood_median_unbiased_popsize_estimator\n",
      "nbpath: /opt/hereditary-stratigraph-concept/binder/popsize/maximum_likelihood_median_unbiased_popsize_estimator.ipynb\n",
      "revision: null\n",
      "session: a4d2ede9-881c-45ce-981f-c8eb64be5151\n",
      "timestamp: 2022-12-13T13:06:54Z00:00\n",
      "\n",
      "\n",
      "IPython==7.16.1\n",
      "keyname==0.4.1\n",
      "yaml==5.3.1\n",
      "nbmetalog==0.2.6\n",
      "numpy==1.21.5\n",
      "pandas==1.1.2\n",
      "scipy==1.5.4\n",
      "sympy==1.5.1\n",
      "re==2.2.1\n",
      "ipython_genutils==0.2.0\n",
      "logging==0.5.1.2\n",
      "zmq==22.3.0\n",
      "json==2.0.9\n",
      "ipykernel==5.5.3\n"
     ]
    }
   ],
   "source": [
    "nbm.print_metadata()\n"
   ]
  },
  {
   "cell_type": "markdown",
   "id": "d8439945",
   "metadata": {},
   "source": [
    "# Goal\n",
    "\n",
    "Suppose the scenario described in [gene_drive_scenario.ipynb](gene_drive_scenario.ipynb).\n",
    "\n",
    "Here, we will derive an estimator for population size $\\hat{n}_\\mathrm{mumle}$ that is median-unbiased.\n",
    "That is, half of estimates will be overestimates and half of estimates will be underestimates.\n"
   ]
  },
  {
   "cell_type": "markdown",
   "id": "56c98886",
   "metadata": {},
   "source": [
    "# Strategy\n",
    "\n",
    "Use the confidence intervals derived in [maximum_likelihood_popsize_estimator_confidence_interval.ipynb](maximum_likelihood_popsize_estimator_confidence_interval.ipynb), setting confidence to zero.\n"
   ]
  },
  {
   "cell_type": "markdown",
   "id": "bbb11f22",
   "metadata": {},
   "source": [
    "# Calculating from CI Lower Bound\n",
    "\n",
    "Beginning from the derived expression for the confidence interval lower bound, set confidence to zero,\n",
    "\n",
    "$\\begin{align*}\n",
    "0\n",
    "&= 2\\Gamma(k, -n_\\mathrm{lb}\\log(\\hat{x})) - (c+1)\\Gamma(k)\\\\\n",
    "&= 2\\Gamma(k, -\\hat{n}_\\mathrm{mumle}\\log(\\hat{x})) - \\Gamma(k).\n",
    "\\end{align*}$\n",
    "\n",
    "Beyond this point, we must solve numerically.\n"
   ]
  },
  {
   "cell_type": "code",
   "execution_count": 3,
   "id": "3b3a434a",
   "metadata": {},
   "outputs": [],
   "source": [
    "def solve_mumle(\n",
    "    observations: typing.List[float],\n",
    ") -> float:\n",
    "\n",
    "    k = len(observations)\n",
    "    hat_x = math.prod(observations)\n",
    "\n",
    "    # use mle estimate as starting guess\n",
    "    hat_n_mle = -k/math.log(hat_x)\n",
    "\n",
    "    n_lb = sympy.Symbol('n_\\mathrm{lb}', positive=True, real=True,)\n",
    "\n",
    "    return float(sympy.nsolve(\n",
    "        2 * sympy.uppergamma(k, -n_lb * sympy.log(hat_x))\n",
    "        - sympy.gamma(k),\n",
    "        hat_n_mle,\n",
    "        verify=False,\n",
    "    ))\n"
   ]
  },
  {
   "cell_type": "markdown",
   "id": "7861f597",
   "metadata": {},
   "source": [
    "# Calculating from CI Upper Bound\n",
    "\n",
    "As a sanity check, we should arrive at the same result when deriving $\\hat{n}_\\mathrm{mumle}$ from the upper confidence bound,\n",
    "\n",
    "$\\begin{align*}\n",
    "0\n",
    "&= 2\\Gamma(k, -n_\\mathrm{lb}\\log(\\hat{x})) - (1-c)\\Gamma(k)\\\\\n",
    "&\\stackrel{\\checkmark}{=} 2\\Gamma(k, -\\hat{n}_\\mathrm{mumle}\\log(\\hat{x})) - \\Gamma(k).\n",
    "\\end{align*}$\n"
   ]
  },
  {
   "cell_type": "markdown",
   "id": "6a9aa7dc",
   "metadata": {},
   "source": [
    "# Simulated Experiments\n",
    "\n",
    "Test whether estimator is median-unbiased.\n"
   ]
  },
  {
   "cell_type": "code",
   "execution_count": 4,
   "id": "fba32a12",
   "metadata": {},
   "outputs": [],
   "source": [
    "def sample_observations(true_popsize: int, num_observations: int) -> typing.List[float]:\n",
    "    \"\"\"Simulate sampling the largest gene from within a population of `true_popsize` `num_observations` times.\"\"\"\n",
    "\n",
    "    return [\n",
    "        max(random.random() for __ in range(true_popsize))\n",
    "        for __ in range(num_observations)\n",
    "    ]\n",
    "\n",
    "def sample_popsize_estimate(true_popsize: int, num_observations: int) -> float:\n",
    "    \"\"\"Generate sampled largest genes from `true_popsize` population\n",
    "    and then use maximum likelihood estimator to estimate `true_popsize`.\"\"\"\n",
    "\n",
    "    return solve_mumle(sample_observations(true_popsize, num_observations))\n"
   ]
  },
  {
   "cell_type": "code",
   "execution_count": 5,
   "id": "4fc367c6",
   "metadata": {},
   "outputs": [
    {
     "data": {
      "text/html": [
       "<div>\n",
       "<style scoped>\n",
       "    .dataframe tbody tr th:only-of-type {\n",
       "        vertical-align: middle;\n",
       "    }\n",
       "\n",
       "    .dataframe tbody tr th {\n",
       "        vertical-align: top;\n",
       "    }\n",
       "\n",
       "    .dataframe thead th {\n",
       "        text-align: right;\n",
       "    }\n",
       "</style>\n",
       "<table border=\"1\" class=\"dataframe\">\n",
       "  <thead>\n",
       "    <tr style=\"text-align: right;\">\n",
       "      <th></th>\n",
       "      <th>Num Observations</th>\n",
       "      <th>True Population Size</th>\n",
       "      <th>Mean Normalized Error</th>\n",
       "      <th>Median Median-Unbiased Estimate</th>\n",
       "      <th>Num Overestimates</th>\n",
       "      <th>p As Many Overestimates</th>\n",
       "    </tr>\n",
       "  </thead>\n",
       "  <tbody>\n",
       "    <tr>\n",
       "      <th>0</th>\n",
       "      <td>1</td>\n",
       "      <td>10</td>\n",
       "      <td>2.84640</td>\n",
       "      <td>10.52128</td>\n",
       "      <td>26</td>\n",
       "      <td>0.66409</td>\n",
       "    </tr>\n",
       "    <tr>\n",
       "      <th>1</th>\n",
       "      <td>1</td>\n",
       "      <td>100</td>\n",
       "      <td>16.92837</td>\n",
       "      <td>143.02804</td>\n",
       "      <td>30</td>\n",
       "      <td>0.94054</td>\n",
       "    </tr>\n",
       "    <tr>\n",
       "      <th>2</th>\n",
       "      <td>10</td>\n",
       "      <td>10</td>\n",
       "      <td>0.25845</td>\n",
       "      <td>9.99168</td>\n",
       "      <td>25</td>\n",
       "      <td>0.55614</td>\n",
       "    </tr>\n",
       "    <tr>\n",
       "      <th>3</th>\n",
       "      <td>10</td>\n",
       "      <td>100</td>\n",
       "      <td>0.23618</td>\n",
       "      <td>93.92553</td>\n",
       "      <td>22</td>\n",
       "      <td>0.23994</td>\n",
       "    </tr>\n",
       "    <tr>\n",
       "      <th>4</th>\n",
       "      <td>100</td>\n",
       "      <td>10</td>\n",
       "      <td>0.08630</td>\n",
       "      <td>9.80072</td>\n",
       "      <td>23</td>\n",
       "      <td>0.33591</td>\n",
       "    </tr>\n",
       "    <tr>\n",
       "      <th>5</th>\n",
       "      <td>100</td>\n",
       "      <td>100</td>\n",
       "      <td>0.07876</td>\n",
       "      <td>100.30482</td>\n",
       "      <td>25</td>\n",
       "      <td>0.55614</td>\n",
       "    </tr>\n",
       "  </tbody>\n",
       "</table>\n",
       "</div>"
      ],
      "text/plain": [
       "   Num Observations  True Population Size  Mean Normalized Error  \\\n",
       "0                 1                    10                2.84640   \n",
       "1                 1                   100               16.92837   \n",
       "2                10                    10                0.25845   \n",
       "3                10                   100                0.23618   \n",
       "4               100                    10                0.08630   \n",
       "5               100                   100                0.07876   \n",
       "\n",
       "   Median Median-Unbiased Estimate  Num Overestimates  p As Many Overestimates  \n",
       "0                         10.52128                 26                  0.66409  \n",
       "1                        143.02804                 30                  0.94054  \n",
       "2                          9.99168                 25                  0.55614  \n",
       "3                         93.92553                 22                  0.23994  \n",
       "4                          9.80072                 23                  0.33591  \n",
       "5                        100.30482                 25                  0.55614  "
      ]
     },
     "execution_count": 5,
     "metadata": {},
     "output_type": "execute_result"
    }
   ],
   "source": [
    "# simulate gene drive within populations and then subsequent estimates of population size from magnitude of fixed genes\n",
    "records = []\n",
    "for num_observations in 1, 10, 100:\n",
    "    for true_popsize in 10, 100:\n",
    "        sampled_estimates = [\n",
    "            sample_popsize_estimate(\n",
    "                true_popsize,\n",
    "                num_observations,\n",
    "            )\n",
    "            for __ in range(50)\n",
    "        ]\n",
    "\n",
    "        num_overestimates = sum(\n",
    "            est > true_popsize\n",
    "            for est in sampled_estimates\n",
    "        )\n",
    "\n",
    "        records.append({\n",
    "            'Num Observations' : num_observations,\n",
    "            'True Population Size' : true_popsize,\n",
    "            'Mean Normalized Error' : np.mean([abs(est - true_popsize) for est in sampled_estimates]) / true_popsize,\n",
    "            'Median Median-Unbiased Estimate' : np.median(sampled_estimates),\n",
    "            'Num Overestimates' : num_overestimates,\n",
    "            'p As Many Overestimates'\n",
    "                : stats.binom.cdf(num_overestimates, len(sampled_estimates), 0.5),\n",
    "        })\n",
    "\n",
    "res_df = pd.DataFrame.from_records(records)\n",
    "res_df.round(5)\n"
   ]
  },
  {
   "cell_type": "markdown",
   "id": "1c8e0119",
   "metadata": {},
   "source": [
    "# Result\n",
    "\n",
    "We have derived the median-unbiased estimator for population size $n$ given $k$ independent observations of fixed gene magnitude $\\hat{x}_1, \\hat{x}_2, ... \\hat{x}_k$ based on the maximum-likelihood estimator as the solution $\\hat{n}_\\mathrm{mumle}$ to\n",
    "\n",
    "$\\begin{align*}\n",
    "0\n",
    "&= 2\\Gamma(k, -\\hat{n}_\\mathrm{mumle}\\log(\\prod_{i=1}^k\\hat{x}_i)) - \\Gamma(k).\n",
    "\\end{align*}$\n",
    "\n",
    "Simulated experiments support the validity of this result.\n"
   ]
  }
 ],
 "metadata": {
  "kernelspec": {
   "display_name": "Python 3",
   "language": "python",
   "name": "python3"
  },
  "language_info": {
   "codemirror_mode": {
    "name": "ipython",
    "version": 3
   },
   "file_extension": ".py",
   "mimetype": "text/x-python",
   "name": "python",
   "nbconvert_exporter": "python",
   "pygments_lexer": "ipython3",
   "version": "3.8.12"
  }
 },
 "nbformat": 4,
 "nbformat_minor": 5
}
