{
 "cells": [
  {
   "cell_type": "code",
   "execution_count": 1,
   "id": "b6a19700",
   "metadata": {},
   "outputs": [],
   "source": [
    "import math\n",
    "from nbmetalog import nbmetalog as nbm\n",
    "import numpy as np\n",
    "import pandas as pd\n",
    "import random\n",
    "from scipy import stats\n",
    "import sympy\n",
    "import typing\n",
    "\n",
    "random.seed(1)\n"
   ]
  },
  {
   "cell_type": "code",
   "execution_count": 2,
   "id": "8b50738d",
   "metadata": {},
   "outputs": [
    {
     "name": "stdout",
     "output_type": "stream",
     "text": [
      "context: ci\n",
      "hostname: c7410cc9c19b\n",
      "interpreter: 3.8.12 (default, Jan 15 2022, 18:39:47)  [GCC 7.5.0]\n",
      "nbcellexec: 2\n",
      "nbname: maximum_likelihood_median_unbiased_popsize_estimator\n",
      "nbpath: /opt/hereditary-stratigraph-concept/binder/popsize/maximum_likelihood_median_unbiased_popsize_estimator.ipynb\n",
      "revision: null\n",
      "session: dd0deb06-9bdd-472b-8c8d-b5f3b7ed9bdb\n",
      "timestamp: 2022-03-27T03:13:08Z00:00\n",
      "\n",
      "\n",
      "IPython==7.16.1\n",
      "keyname==0.4.1\n",
      "yaml==5.3.1\n",
      "nbmetalog==0.2.6\n",
      "numpy==1.21.5\n",
      "pandas==1.1.2\n",
      "scipy==1.5.4\n",
      "sympy==1.5.1\n",
      "re==2.2.1\n",
      "ipython_genutils==0.2.0\n",
      "logging==0.5.1.2\n",
      "zmq==22.3.0\n",
      "json==2.0.9\n",
      "ipykernel==5.5.3\n"
     ]
    }
   ],
   "source": [
    "nbm.print_metadata()\n"
   ]
  },
  {
   "cell_type": "markdown",
   "id": "52c055fd",
   "metadata": {},
   "source": [
    "# Goal\n",
    "\n",
    "Suppose the scenario described in [gene_drive_scenario.ipynb](gene_drive_scenario.ipynb).\n",
    "\n",
    "Here, we will derive an estimator for population size $\\hat{n}_\\mathrm{mumle}$ that is median-unbiased.\n",
    "That is, half of estimates will be overestimates and half of estimates will be underestimates.\n"
   ]
  },
  {
   "cell_type": "markdown",
   "id": "36adc9d4",
   "metadata": {},
   "source": [
    "# Strategy\n",
    "\n",
    "Use the confidence intervals derived in [maximum_likelihood_popsize_estimator_confidence_interval.ipynb](maximum_likelihood_popsize_estimator_confidence_interval.ipynb), setting confidence to zero.\n"
   ]
  },
  {
   "cell_type": "markdown",
   "id": "736a2fe5",
   "metadata": {},
   "source": [
    "# Calculating from CI Lower Bound\n",
    "\n",
    "Beginning from the derived expression for the confidence interval lower bound, set confidence to zero,\n",
    "\n",
    "$\\begin{align*}\n",
    "0\n",
    "&= 2\\Gamma(k, -n_\\mathrm{lb}\\log(\\hat{x})) - (c+1)\\Gamma(k)\\\\\n",
    "&= 2\\Gamma(k, -\\hat{n}_\\mathrm{mumle}\\log(\\hat{x})) - \\Gamma(k).\n",
    "\\end{align*}$\n",
    "\n",
    "Beyond this point, we must solve numerically.\n"
   ]
  },
  {
   "cell_type": "code",
   "execution_count": 3,
   "id": "faa19aa5",
   "metadata": {},
   "outputs": [],
   "source": [
    "def solve_mumle(\n",
    "    observations: typing.List[float],\n",
    ") -> float:\n",
    "\n",
    "    k = len(observations)\n",
    "    hat_x = math.prod(observations)\n",
    "\n",
    "    # use mle estimate as starting guess\n",
    "    hat_n_mle = -k/math.log(hat_x)\n",
    "\n",
    "    n_lb = sympy.Symbol('n_\\mathrm{lb}', positive=True, real=True,)\n",
    "\n",
    "    return float(sympy.nsolve(\n",
    "        2 * sympy.uppergamma(k, -n_lb * sympy.log(hat_x))\n",
    "        - sympy.gamma(k),\n",
    "        hat_n_mle,\n",
    "        verify=False,\n",
    "    ))\n"
   ]
  },
  {
   "cell_type": "markdown",
   "id": "88e6eefc",
   "metadata": {},
   "source": [
    "# Calculating from CI Upper Bound\n",
    "\n",
    "As a sanity check, we should arrive at the same result when deriving $\\hat{n}_\\mathrm{mumle}$ from the upper confidence bound,\n",
    "\n",
    "$\\begin{align*}\n",
    "0\n",
    "&= 2\\Gamma(k, -n_\\mathrm{lb}\\log(\\hat{x})) - (1-c)\\Gamma(k)\\\\\n",
    "&\\stackrel{\\checkmark}{=} 2\\Gamma(k, -\\hat{n}_\\mathrm{mumle}\\log(\\hat{x})) - \\Gamma(k).\n",
    "\\end{align*}$\n"
   ]
  },
  {
   "cell_type": "markdown",
   "id": "4e582e95",
   "metadata": {},
   "source": [
    "# Simulated Experiments\n",
    "\n",
    "Test whether estimator is median-unbiased.\n"
   ]
  },
  {
   "cell_type": "code",
   "execution_count": 4,
   "id": "4c7a21c7",
   "metadata": {},
   "outputs": [],
   "source": [
    "def sample_observations(true_popsize: int, num_observations: int) -> typing.List[float]:\n",
    "    \"\"\"Simulate sampling the largest gene from within a population of `true_popsize` `num_observations` times.\"\"\"\n",
    "\n",
    "    return [\n",
    "        max(random.random() for __ in range(true_popsize))\n",
    "        for __ in range(num_observations)\n",
    "    ]\n",
    "\n",
    "def sample_popsize_estimate(true_popsize: int, num_observations: int) -> float:\n",
    "    \"\"\"Generate sampled largest genes from `true_popsize` population\n",
    "    and then use maximum likelihood estimator to estimate `true_popsize`.\"\"\"\n",
    "\n",
    "    return solve_mumle(sample_observations(true_popsize, num_observations))\n"
   ]
  },
  {
   "cell_type": "code",
   "execution_count": 5,
   "id": "f4b4f8ab",
   "metadata": {},
   "outputs": [
    {
     "data": {
      "text/html": [
       "<div>\n",
       "<style scoped>\n",
       "    .dataframe tbody tr th:only-of-type {\n",
       "        vertical-align: middle;\n",
       "    }\n",
       "\n",
       "    .dataframe tbody tr th {\n",
       "        vertical-align: top;\n",
       "    }\n",
       "\n",
       "    .dataframe thead th {\n",
       "        text-align: right;\n",
       "    }\n",
       "</style>\n",
       "<table border=\"1\" class=\"dataframe\">\n",
       "  <thead>\n",
       "    <tr style=\"text-align: right;\">\n",
       "      <th></th>\n",
       "      <th>Num Observations</th>\n",
       "      <th>True Population Size</th>\n",
       "      <th>Mean Normalized Error</th>\n",
       "      <th>Median Median-Unbiased Estimate</th>\n",
       "      <th>Num Overestimates</th>\n",
       "      <th>p As Many Overestimates</th>\n",
       "    </tr>\n",
       "  </thead>\n",
       "  <tbody>\n",
       "    <tr>\n",
       "      <th>0</th>\n",
       "      <td>1</td>\n",
       "      <td>10</td>\n",
       "      <td>4.33732</td>\n",
       "      <td>9.15051</td>\n",
       "      <td>24</td>\n",
       "      <td>0.44386</td>\n",
       "    </tr>\n",
       "    <tr>\n",
       "      <th>1</th>\n",
       "      <td>1</td>\n",
       "      <td>100</td>\n",
       "      <td>3.34274</td>\n",
       "      <td>117.53926</td>\n",
       "      <td>26</td>\n",
       "      <td>0.66409</td>\n",
       "    </tr>\n",
       "    <tr>\n",
       "      <th>2</th>\n",
       "      <td>10</td>\n",
       "      <td>10</td>\n",
       "      <td>0.31936</td>\n",
       "      <td>9.36021</td>\n",
       "      <td>22</td>\n",
       "      <td>0.23994</td>\n",
       "    </tr>\n",
       "    <tr>\n",
       "      <th>3</th>\n",
       "      <td>10</td>\n",
       "      <td>100</td>\n",
       "      <td>0.32409</td>\n",
       "      <td>102.74636</td>\n",
       "      <td>28</td>\n",
       "      <td>0.83888</td>\n",
       "    </tr>\n",
       "    <tr>\n",
       "      <th>4</th>\n",
       "      <td>100</td>\n",
       "      <td>10</td>\n",
       "      <td>0.08400</td>\n",
       "      <td>9.66809</td>\n",
       "      <td>19</td>\n",
       "      <td>0.05946</td>\n",
       "    </tr>\n",
       "    <tr>\n",
       "      <th>5</th>\n",
       "      <td>100</td>\n",
       "      <td>100</td>\n",
       "      <td>0.09717</td>\n",
       "      <td>97.33853</td>\n",
       "      <td>23</td>\n",
       "      <td>0.33591</td>\n",
       "    </tr>\n",
       "  </tbody>\n",
       "</table>\n",
       "</div>"
      ],
      "text/plain": [
       "   Num Observations  True Population Size  Mean Normalized Error  \\\n",
       "0                 1                    10                4.33732   \n",
       "1                 1                   100                3.34274   \n",
       "2                10                    10                0.31936   \n",
       "3                10                   100                0.32409   \n",
       "4               100                    10                0.08400   \n",
       "5               100                   100                0.09717   \n",
       "\n",
       "   Median Median-Unbiased Estimate  Num Overestimates  p As Many Overestimates  \n",
       "0                          9.15051                 24                  0.44386  \n",
       "1                        117.53926                 26                  0.66409  \n",
       "2                          9.36021                 22                  0.23994  \n",
       "3                        102.74636                 28                  0.83888  \n",
       "4                          9.66809                 19                  0.05946  \n",
       "5                         97.33853                 23                  0.33591  "
      ]
     },
     "execution_count": 5,
     "metadata": {},
     "output_type": "execute_result"
    }
   ],
   "source": [
    "# simulate gene drive within populations and then subsequent estimates of population size from magnitude of fixed genes\n",
    "records = []\n",
    "for num_observations in 1, 10, 100:\n",
    "    for true_popsize in 10, 100:\n",
    "        sampled_estimates = [\n",
    "            sample_popsize_estimate(\n",
    "                true_popsize,\n",
    "                num_observations,\n",
    "            )\n",
    "            for __ in range(50)\n",
    "        ]\n",
    "\n",
    "        num_overestimates = sum(\n",
    "            est > true_popsize\n",
    "            for est in sampled_estimates\n",
    "        )\n",
    "\n",
    "        records.append({\n",
    "            'Num Observations' : num_observations,\n",
    "            'True Population Size' : true_popsize,\n",
    "            'Mean Normalized Error' : np.mean([abs(est - true_popsize) for est in sampled_estimates]) / true_popsize,\n",
    "            'Median Median-Unbiased Estimate' : np.median(sampled_estimates),\n",
    "            'Num Overestimates' : num_overestimates,\n",
    "            'p As Many Overestimates'\n",
    "                : stats.binom.cdf(num_overestimates, len(sampled_estimates), 0.5),\n",
    "        })\n",
    "\n",
    "res_df = pd.DataFrame.from_records(records)\n",
    "res_df.round(5)\n"
   ]
  },
  {
   "cell_type": "markdown",
   "id": "2dc471b9",
   "metadata": {},
   "source": [
    "# Result\n",
    "\n",
    "We have derived the median-unbiased estimator for population size $n$ given $k$ independent observations of fixed gene magnitude $\\hat{x}_1, \\hat{x}_2, ... \\hat{x}_k$ based on the maximum-likelihood estimator as the solution $\\hat{n}_\\mathrm{mumle}$ to\n",
    "\n",
    "$\\begin{align*}\n",
    "0\n",
    "&= 2\\Gamma(k, -\\hat{n}_\\mathrm{mumle}\\log(\\prod_{i=1}^k\\hat{x}_i)) - \\Gamma(k).\n",
    "\\end{align*}$\n",
    "\n",
    "Simulated experiments support the validity of this result.\n"
   ]
  }
 ],
 "metadata": {
  "kernelspec": {
   "display_name": "Python 3",
   "language": "python",
   "name": "python3"
  },
  "language_info": {
   "codemirror_mode": {
    "name": "ipython",
    "version": 3
   },
   "file_extension": ".py",
   "mimetype": "text/x-python",
   "name": "python",
   "nbconvert_exporter": "python",
   "pygments_lexer": "ipython3",
   "version": "3.8.12"
  }
 },
 "nbformat": 4,
 "nbformat_minor": 5
}
