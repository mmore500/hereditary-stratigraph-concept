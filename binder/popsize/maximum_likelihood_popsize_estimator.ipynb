{
 "cells": [
  {
   "cell_type": "code",
   "execution_count": 1,
   "id": "1667466d",
   "metadata": {},
   "outputs": [],
   "source": [
    "from nbmetalog import nbmetalog as nbm\n"
   ]
  },
  {
   "cell_type": "code",
   "execution_count": 2,
   "id": "ac9f0226",
   "metadata": {},
   "outputs": [
    {
     "name": "stdout",
     "output_type": "stream",
     "text": [
      "context: ci\n",
      "hostname: 3d31fedbd290\n",
      "interpreter: 3.8.10 (default, Nov 22 2023, 10:22:35)  [GCC 9.4.0]\n",
      "nbcellexec: 2\n",
      "nbname: maximum_likelihood_popsize_estimator\n",
      "nbpath: /opt/hereditary-stratigraph-concept/binder/popsize/maximum_likelihood_popsize_estimator.ipynb\n",
      "revision: null\n",
      "session: ed237c71-084a-49ef-9659-e241c761ca65\n",
      "timestamp: 2024-02-11T00:50:31Z00:00\n",
      "\n",
      "\n",
      "IPython==7.16.1\n",
      "keyname==0.4.1\n",
      "yaml==5.3.1\n",
      "nbmetalog==0.2.6\n",
      "re==2.2.1\n",
      "ipython_genutils==0.2.0\n",
      "logging==0.5.1.2\n",
      "zmq==22.3.0\n",
      "json==2.0.9\n",
      "ipykernel==5.5.3\n"
     ]
    }
   ],
   "source": [
    "nbm.print_metadata()\n"
   ]
  },
  {
   "cell_type": "markdown",
   "id": "3dbdc15f",
   "metadata": {},
   "source": [
    "# Goal\n",
    "\n",
    "Suppose the scenario described in [gene_drive_scenario.ipynb](gene_drive_scenario.ipynb).\n",
    "\n",
    "Here, we apply the method of maximum likelihood estimation to determine the most likely value of $n$ given an observation of $k$ gene values after fixation.\n"
   ]
  },
  {
   "cell_type": "markdown",
   "id": "f68b7555",
   "metadata": {},
   "source": [
    "# Calculating Likelihood\n",
    "\n",
    "Denote the likelihood of a population size $n$ given our observations as $\\mathcal{L}(n|\\mathbb{X}_0=x_0, \\dots, \\mathbb{X}_k=x_k)$ or $\\mathcal{L}$ for short.\n",
    "Because our observations are independent, we can calculate likelihood as a product of probability densities,\n",
    "\n",
    "$\\begin{align*}\n",
    "\\mathcal{L}\n",
    "&= \\prod_{i=1}^k n x_i^{n-1}.\n",
    "\\end{align*}$\n",
    "\n",
    "Applying a logarithmic transformation for convenience,\n",
    "\n",
    "$\\begin{align*}\n",
    "\\log\\mathcal{L}\n",
    "&= \\sum_{i=1}^k \\log( n x_i^{n-1} ) \\\\\n",
    "&= (n-1) \\sum_{i=1}^k \\log( x_i ) + k \\log(n)\n",
    "\\end{align*}$\n"
   ]
  },
  {
   "cell_type": "markdown",
   "id": "9e391f7f",
   "metadata": {},
   "source": [
    "# Finding Likelihood Extrema\n",
    "\n",
    "To maximize $\\log\\mathcal{L}$ with respect to $n$, solve for $n$ where $\\frac{\\mathrm{d}}{\\mathrm{d}n}\\log\\mathcal{L} = 0$,\n",
    "\n",
    "$\\begin{align*}\n",
    "0\n",
    "&= \\frac{\\mathrm{d}}{\\mathrm{d}n}\\log\\mathcal{L} \\\\\n",
    "&= \\frac{\\mathrm{d}}{\\mathrm{d}n} \\Big( (n-1) \\sum_{i=1}^k \\log( x_i ) + k \\log(n) \\Big)\\\\\n",
    "&= \\sum_{i=1}^k \\log( x_i ) + k/n\\\\\n",
    "-k/n &= \\sum_{i=1}^k \\log( x_i )\\\\\n",
    "-k &= n\\sum_{i=1}^k \\log( x_i )\\\\\n",
    "n &= -\\frac{k}{\\sum_{i=1}^k \\log( x_i )}.\n",
    "\\end{align*}$\n",
    "\n",
    "Note that $\\forall i$, $x_i \\leq 1$ so $\\log( x_i ) \\leq 0$ and $\\sum_{i=1}^k \\log( x_i ) \\leq 0$.\n"
   ]
  },
  {
   "cell_type": "markdown",
   "id": "238bd39a",
   "metadata": {},
   "source": [
    "# Proving Extrema is Maxima\n",
    "\n",
    "To check that $n = -\\frac{k}{\\sum_{i=1}^k \\log( x_i )}$ maximizes $\\log\\mathcal{L}$ rather than minimizing it, we must show that $\\frac{\\mathrm{d}^2}{\\mathrm{d}n^2} < 0$ at this point.\n",
    "\n",
    "$\\begin{align*}\n",
    "0 &\\stackrel{?}{>} \\frac{\\mathrm{d}^2}{\\mathrm{d}n^2} \\log\\mathcal{L}|_{n = -\\frac{k}{\\sum_{i=1}^k \\log( x_i )}}\\\\\n",
    "&\\stackrel{?}{>} \\frac{\\mathrm{d}}{\\mathrm{d}n} \\sum_{i=1}^k \\log( x_i ) + k n^{-1} |_{n = -\\frac{k}{\\sum_{i=1}^k \\log( x_i )}}\\\\\n",
    "&\\stackrel{?}{>} -kn^{-2} |_{n = -\\frac{k}{\\sum_{i=1}^k \\log( x_i )}}\\\\\n",
    "&\\stackrel{?}{>} -k/n^{2} |_{n = -\\frac{k}{\\sum_{i=1}^k \\log( x_i )}}\\\\\n",
    "&\\stackrel{?}{>} -k\\\\\n",
    "&\\stackrel{?}{<} k.\n",
    "\\end{align*}$\n",
    "\n",
    "Because $k$ is our count of 1 or more replicate observations, we have $0 \\stackrel{\\checkmark}{<} k$.\n"
   ]
  },
  {
   "cell_type": "markdown",
   "id": "d4d5a5b7",
   "metadata": {},
   "source": [
    "# Result\n",
    "\n",
    "We have derived the maximum likelihood estimator for $n$ given $k$ observations of fixed gene magnitude $x_1, x_2, ... x_k$ as\n",
    "\n",
    "$\\hat{n}_\\mathrm{mle} = -\\frac{k}{\\sum_{i=1}^k \\log( x_i )}$.\n"
   ]
  }
 ],
 "metadata": {
  "kernelspec": {
   "display_name": "Python 3",
   "language": "python",
   "name": "python3"
  },
  "language_info": {
   "codemirror_mode": {
    "name": "ipython",
    "version": 3
   },
   "file_extension": ".py",
   "mimetype": "text/x-python",
   "name": "python",
   "nbconvert_exporter": "python",
   "pygments_lexer": "ipython3",
   "version": "3.8.10"
  }
 },
 "nbformat": 4,
 "nbformat_minor": 5
}
