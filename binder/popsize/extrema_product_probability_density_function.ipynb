{
 "cells": [
  {
   "cell_type": "code",
   "execution_count": null,
   "metadata": {},
   "outputs": [],
   "source": [
    "from nbmetalog import nbmetalog as nbm\n",
    "import sympy\n"
   ]
  },
  {
   "cell_type": "code",
   "execution_count": null,
   "metadata": {},
   "outputs": [],
   "source": [
    "nbm.print_metadata()\n"
   ]
  },
  {
   "cell_type": "markdown",
   "metadata": {},
   "source": [
    "# Goal\n",
    "\n",
    "Suppose we have $\\boldsymbol{X}_i \\sim p_i(x_i) = nx_i^{n-1}$ on $[0, 1]$ and 0 otherwise.\n",
    "How is $\\hat{\\boldsymbol{X}}_k = \\prod_{i=1}^k \\boldsymbol{X}_i \\sim \\hat{p}_k(\\hat{x}_k)$ distributed?\n"
   ]
  },
  {
   "cell_type": "markdown",
   "metadata": {},
   "source": [
    "# Strategy\n",
    "\n",
    "Derive the probability density function for $\\boldsymbol{X}_1 \\times \\boldsymbol{X}_2$ then derive a result under the more general case $\\hat{\\boldsymbol{X}}_k \\times \\boldsymbol{X}_{k+1}$ to set up an inductive proof for the general form of the probability density function for $\\hat{\\boldsymbol{X}}_k$.\n"
   ]
  },
  {
   "cell_type": "markdown",
   "metadata": {},
   "source": [
    "# Product of Two Random Variables over [0,1]\n",
    "\n",
    "Adapted from <https://math.stackexchange.com/a/659278>.\n",
    "\n",
    "Suppose we have two random variables $\\boldsymbol{Y}_1 \\sim p_1(y_1)$ and $\\boldsymbol{Y}_2 \\sim p_2(y_1)$.\n",
    "Denote their cumulative density functions as $P_1(y_1)$ and $P_2(y_2)$, respectively.\n",
    "Let $\\boldsymbol{Z} = \\boldsymbol{Y}_1 \\boldsymbol{Y}_2$.\n",
    "Denote the probabilty density function for $\\boldsymbol{Z}$ as $p(z)$ and the cumulative density function for $\\boldsymbol{Z}$ as $P(z)$.\n",
    "\n",
    "It follows that,\n",
    "\n",
    "$\\begin{align*}\n",
    "P(z)\n",
    "&= \\int_0^1 P_2\\Big(\\frac{z}{y_1}\\Big) p_1(y_1) \\, \\mathrm{d}y_1\\\\\n",
    "&= \\int_0^1 \\int_0^{\\min(1,\\frac{z}{y_1})} p_2(y_2) \\, \\mathrm{d}y_2 \\, p_1(y_1) \\, \\mathrm{d}y_1\\\\\n",
    "&= \\int_0^z \\int_0^{\\min(1,\\frac{z}{y_1})} p_2(y_2) \\, \\mathrm{d}y_2 \\, p_1(y_1) \\, \\mathrm{d}y_1\n",
    "  + \\int_z^1 \\int_0^{\\min(1,\\frac{z}{y_1})} p_2(y_2) \\, \\mathrm{d}y_2 \\, p_1(y_1) \\, \\mathrm{d}y_1\\\\\n",
    "&= \\int_0^z \\int_0^{1} p_2(y_2) \\, \\mathrm{d}y_2 \\, p_1(y_1) \\, \\mathrm{d}y_1\n",
    "  + \\int_z^1 \\int_0^{\\frac{z}{y_1}} p_2(y_2) \\, \\mathrm{d}y_2 \\, p_1(y_1) \\, \\mathrm{d}y_1\\\\.\n",
    "\\end{align*}$\n",
    "\n",
    "So,\n",
    "\n",
    "$\\begin{align*}\n",
    "p(z)\n",
    "= \\frac{\\mathrm{d}}{\\mathrm{d}z}\n",
    "\\Big(\n",
    "    \\int_0^z \\int_0^{1} p_2(y_2) \\, \\mathrm{d}y_2 \\, p_1(y_1) \\, \\mathrm{d}y_1\n",
    "      + \\int_z^1 \\int_0^{\\frac{z}{y_1}} p_2(y_2) \\, \\mathrm{d}y_2 \\, p_1(y_1) \\, \\mathrm{d}y_1\n",
    "\\Big).\n",
    "\\end{align*}$\n"
   ]
  },
  {
   "cell_type": "markdown",
   "metadata": {},
   "source": [
    "# Compute Probability Density Functions for $\\hat{\\boldsymbol{X}}_2, \\hat{\\boldsymbol{X}}_3, \\dots$\n"
   ]
  },
  {
   "cell_type": "markdown",
   "metadata": {},
   "source": [
    "We can compute the probability density function for $\\hat{\\boldsymbol{X}}_2 = \\boldsymbol{X}_1 \\times \\boldsymbol{X}_2$ by combining the probability density functions for $\\boldsymbol{X}_1$ and $\\boldsymbol{X}_2$ as above.\n",
    "Let's use computer algebra to do the hard work.\n"
   ]
  },
  {
   "cell_type": "code",
   "execution_count": null,
   "metadata": {},
   "outputs": [],
   "source": [
    "x = sympy.Symbol('x', positive=True, real=True,)\n",
    "\n",
    "def pdf_of_unitrv_product(\n",
    "    left_rv_pdf: sympy.Expr,\n",
    "    right_rv_pdf: sympy.Expr,\n",
    ") -> sympy.Expr:\n",
    "    \"\"\"Calculate the probability density function for a product of two random variables that only take on values between 0 and 1.\n",
    "\n",
    "    Parameters\n",
    "    ----------\n",
    "    left_rv_pdf : sympy.Expr\n",
    "        Probability density function of left random variable multiplicand, in terms of sympy variable x.\n",
    "        Left rv multiplicand must only take on values between 0 and 1.\n",
    "    right_rv_pdf : sympy.Expr\n",
    "        Probability density function of right random variable multiplicand, in terms of sympy variable x.\n",
    "        Right rv multiplicand must only take on values between 0 and 1.\n",
    "\n",
    "    Returns\n",
    "    -------\n",
    "    product_cdf : sympy.Expr\n",
    "        Probability density of random variable representing product of left and right random variable multiplicands.\n",
    "    \"\"\"\n",
    "\n",
    "    x1 = sympy.Symbol('x_1', positive=True, real=True,)\n",
    "    x2 = sympy.Symbol('x_2', positive=True, real=True,)\n",
    "\n",
    "    product_cdf = sympy.integrate(\n",
    "        sympy.Integral(\n",
    "            left_rv_pdf.subs(x,x1,),\n",
    "            (x1, 0, 1),\n",
    "        ) * right_rv_pdf.subs(x,x2,),\n",
    "        (x2, 0, x),\n",
    "    # note use of Integral instead of integrate,\n",
    "    # x appears in the integral bounds\n",
    "    # so the integral dissapears under differentiation below\n",
    "    ) + sympy.Integral(\n",
    "        sympy.integrate(\n",
    "                left_rv_pdf.subs(x,x1,),\n",
    "               (x1, 0, x/x2),\n",
    "        ) * right_rv_pdf.subs(x,x2,),\n",
    "        (x2, x, 1,)\n",
    "    ).simplify()\n",
    "\n",
    "    product_pdf = sympy.diff(\n",
    "        product_cdf,\n",
    "        x,\n",
    "    ).simplify()\n",
    "\n",
    "    return product_pdf\n"
   ]
  },
  {
   "cell_type": "code",
   "execution_count": null,
   "metadata": {},
   "outputs": [],
   "source": [
    "n = sympy.Symbol('n', positive=True, real=True,)\n",
    "\n",
    "pdf_X = n * x**(n-1)\n",
    "pdf_X\n"
   ]
  },
  {
   "cell_type": "code",
   "execution_count": null,
   "metadata": {},
   "outputs": [],
   "source": [
    "pdf_hatX_2 = pdf_of_unitrv_product(pdf_X, pdf_X)\n",
    "pdf_hatX_2\n"
   ]
  },
  {
   "cell_type": "markdown",
   "metadata": {},
   "source": [
    "We can continue multiplying our $\\hat{\\boldsymbol{X}}_k$ by $\\boldsymbol{X}_i$ to generate the probability densities of $\\hat{\\boldsymbol{X}}_2, \\hat{\\boldsymbol{X}}_3, \\dots$\n"
   ]
  },
  {
   "cell_type": "code",
   "execution_count": null,
   "metadata": {},
   "outputs": [],
   "source": [
    "pdf_hatX_3 = pdf_of_unitrv_product(pdf_hatX_2, pdf_X)\n",
    "pdf_hatX_3\n"
   ]
  },
  {
   "cell_type": "code",
   "execution_count": null,
   "metadata": {},
   "outputs": [],
   "source": [
    "pdf_hatX_4 = pdf_of_unitrv_product(pdf_hatX_3, pdf_X)\n",
    "pdf_hatX_4\n"
   ]
  },
  {
   "cell_type": "markdown",
   "metadata": {},
   "source": [
    "We now have a hypothesis for the general form of the probability density $\\hat{\\boldsymbol{X}}_k$,\n",
    "\n",
    "$\\begin{align*}\n",
    "\\hat{\\boldsymbol{X}}_k\n",
    "\\sim\n",
    "p(\\hat{x}_k)\n",
    "&=\n",
    "\\frac{(-1)^{k+1} n^{k} x^{n-1} \\log^{k-1}(x)}{(k-1)!}.\n",
    "\\end{align*}$\n",
    "\n",
    "Let's test our hypothesis.\n"
   ]
  },
  {
   "cell_type": "code",
   "execution_count": null,
   "metadata": {},
   "outputs": [],
   "source": [
    "def generate_hatx_pdf(*, k: int,):\n",
    "    return (-1)**(k+1) * x**(n-1) * n**(k) * sympy.log(x)**(k-1) / sympy.factorial(k-1)\n"
   ]
  },
  {
   "cell_type": "code",
   "execution_count": null,
   "metadata": {},
   "outputs": [],
   "source": [
    "generate_hatx_pdf(k=1,)\n"
   ]
  },
  {
   "cell_type": "code",
   "execution_count": null,
   "metadata": {},
   "outputs": [],
   "source": [
    "generate_hatx_pdf(k=2,)\n"
   ]
  },
  {
   "cell_type": "code",
   "execution_count": null,
   "metadata": {},
   "outputs": [],
   "source": [
    "generate_hatx_pdf(k=3,)\n"
   ]
  },
  {
   "cell_type": "code",
   "execution_count": null,
   "metadata": {},
   "outputs": [],
   "source": [
    "generate_hatx_pdf(k=4,)\n"
   ]
  },
  {
   "cell_type": "markdown",
   "metadata": {},
   "source": [
    "# Inductive Step\n",
    "\n",
    "We hypothesize\n",
    "\n",
    "$\\begin{align*}\n",
    "\\hat{\\boldsymbol{X}}_k\n",
    "\\sim\n",
    "p(\\hat{x}_k)\n",
    "&=\n",
    "\\frac{(-1)^{k+1} n^{k} \\hat{x}_k^{n-1} \\log^{k-1}(\\hat{x}_k)}{(k-1)!}.\n",
    "\\end{align*}$\n",
    "\n",
    "Note base case\n",
    "\n",
    "$\\begin{align*}\n",
    "\\boldsymbol{X}_1\n",
    "=\n",
    "\\hat{\\boldsymbol{X}}_1\n",
    "\\sim\n",
    "p(\\hat{x}_1)\n",
    "=\n",
    "\\frac{(-1)^{2} n^{1} \\hat{x}_1^{n-1} \\log^{0}(\\hat{x}_1)}{0!}\n",
    "\\stackrel{\\checkmark}{=}\n",
    "nx^{n-1}\n",
    "=\n",
    "p(x_1).\n",
    "\\end{align*}$\n",
    "\n",
    "To prove this general form for all $k \\in \\mathbb{Z}_+$, we must show\n",
    "\n",
    "$\\begin{align*}\n",
    "\\hat{\\boldsymbol{X}}_{k+1}\n",
    "=\n",
    "\\hat{\\boldsymbol{X}}_k \\times \\boldsymbol{X}_{k+1}\n",
    "\\sim\n",
    "p(\\hat{x}_{k+1})\n",
    "&=\n",
    "\\frac{(-1)^{k+2} n^{k+1} x^{n-1} \\log^{k}(x)}{k!}.\n",
    "\\end{align*}$\n",
    "\n",
    "Recalling our formula for computing the probability density of the product of two unit random variables,\n",
    "\n",
    "$\\begin{align*}\n",
    "p(\\hat{x}_{k+1})\n",
    "=& \\frac{\\mathrm{d}}{\\mathrm{d}\\hat{x}_{k+1}}\n",
    "\\Big(\n",
    "    \\int_0^{\\hat{x}_{k+1}} \\int_0^{1} p_1(x_1) \\, \\mathrm{d}x_1 \\, p_2(x_2) \\, \\mathrm{d}x_2\n",
    "      + \\int_{\\hat{x}_{k+1}}^1 \\int_0^{\\frac{\\hat{x}_{k+1}}{x_1}} p_1(x_1) \\, \\mathrm{d}x_1 \\, p_2(x_2) \\, \\mathrm{d}x_2\n",
    "\\Big)\\\\\n",
    "=& \\frac{\\mathrm{d}}{\\mathrm{d}\\hat{x}_{k+1}}\n",
    "\\Big(\n",
    "    \\int_0^{\\hat{x}_{k+1}} \\int_0^{1} nx_1^{n-1} \\, \\mathrm{d}x_1 \\, \\frac{(-1)^{k+1} n^{k} x_2^{n-1} \\log^{k-1}(x_2)}{(k-1)!} \\, \\mathrm{d}x_2\\\\\n",
    "& + \\int_{\\hat{x}_{k+1}}^1 \\int_0^{\\frac{\\hat{x}_{k+1}}{x_2}} nx_1^{n-1} \\, \\mathrm{d}x_1 \\, \\frac{(-1)^{k+1} n^{k} x_2^{n-1} \\log^{k-1}(x_2)}{(k-1)!} \\, \\mathrm{d}x_2\n",
    "\\Big)\\\\\n",
    "=& \\frac{\\mathrm{d}}{\\mathrm{d}\\hat{x}_{k+1}}\n",
    "\\frac{(-1)^{k+1} n^{k}}{(k-1)!} \\Big(\n",
    "    \\int_0^{\\hat{x}_{k+1}}  (x_1^n|_0^1) \\, x_2^{n-1} \\log^{k-1}(x_2) \\, \\mathrm{d}x_2 + \\int_{\\hat{x}_{k+1}}^1  (x_1^n|_0^{\\frac{\\hat{x}_{k+1}}{x_2}}) x_2^{n-1} \\log^{k-1}(x_2) \\, \\mathrm{d}x_2\n",
    "\\Big)\\\\\n",
    "=& \\frac{\\mathrm{d}}{\\mathrm{d}\\hat{x}_{k+1}}\n",
    "\\frac{(-1)^{k+1} n^{k}}{(k-1)!} \\Big(\n",
    "    \\int_0^{\\hat{x}_{k+1}} x_2^{n-1} \\log^{k-1}(x_2) \\, \\mathrm{d}x_2 + \\int_{\\hat{x}_{k+1}}^1 \\frac{\\hat{x}_{k+1}^n}{x_2^n} x_2^{n-1} \\log^{k-1}(x_2) \\, \\mathrm{d}x_2\\\\\n",
    "    =& \\frac{(-1)^{k+1} n^{k}}{(k-1)!} \\frac{\\mathrm{d}}{\\mathrm{d}\\hat{x}_{k+1}}\n",
    "\\Big(\n",
    "    \\int_0^{\\hat{x}_{k+1}} x_2^{n-1} \\log^{k-1}(x_2) \\, \\mathrm{d}x_2 + \\hat{x}_{k+1}^n \\int_{\\hat{x}_{k+1}}^1 \\frac{1}{x_2} \\log^{k-1}(x_2) \\, \\mathrm{d}x_2\n",
    "\\Big).\n",
    "\\end{align*}$\n",
    "\n",
    "The rightmost integral can be computed directly.\n"
   ]
  },
  {
   "cell_type": "code",
   "execution_count": null,
   "metadata": {},
   "outputs": [],
   "source": [
    "x = sympy.Symbol('x', positive=True, real=True,)\n",
    "k = sympy.Symbol('k', integer=True, positive=True, real=True,)\n",
    "s = sympy.Symbol('s', positive=True, real=True,)\n",
    "\n",
    "density = sympy.log(x)**(k-1)/x\n",
    "sympy.Integral(\n",
    "    density,\n",
    "    (x, s, 1),\n",
    ")\n"
   ]
  },
  {
   "cell_type": "code",
   "execution_count": null,
   "metadata": {},
   "outputs": [],
   "source": [
    "# substitue k -> k+1 -> k\n",
    "# because sympy can't handle k-1 in exponent\n",
    "sympy.integrate(\n",
    "    density.subs(k, k+1),\n",
    "    (x, s, 1),\n",
    ").subs(k+1, k).simplify()\n"
   ]
  },
  {
   "cell_type": "markdown",
   "metadata": {},
   "source": [
    "Continuing our derivation,\n",
    "\n",
    "$\\begin{align*}\n",
    "p(\\hat{x}_{k+1})\n",
    "    =& \\frac{(-1)^{k+1} n^{k}}{(k-1)!} \\frac{\\mathrm{d}}{\\mathrm{d}\\hat{x}_{k+1}}\n",
    "\\Big(\n",
    "    \\int_0^{\\hat{x}_{k+1}} x_2^{n-1} \\log^{k-1}(x_2) \\, \\mathrm{d}x_2 + \\hat{x}_{k+1}^n \\int_{\\hat{x}_{k+1}}^1 \\frac{1}{x_2} \\log^{k-1}(x_2) \\, \\mathrm{d}x_2\n",
    "\\Big)\\\\\n",
    "    =& \\frac{(-1)^{k+1} n^{k}}{(k-1)!} \\frac{\\mathrm{d}}{\\mathrm{d}\\hat{x}_{k+1}}\n",
    "\\Big(\n",
    "    \\int_0^{\\hat{x}_{k+1}} x_2^{n-1} \\log^{k-1}(x_2) \\, \\mathrm{d}x_2 - \\hat{x}_{k+1}^n \\frac{\\log^{k}(\\hat{x}_{k+1})}{k}\n",
    "\\Big)\\\\\n",
    "    =& \\frac{(-1)^{k+1} n^{k}}{(k-1)!}\n",
    "\\Big(\n",
    "    \\hat{x}_{k+1}^{n-1} \\log^{k-1}(\\hat{x}_{k+1}) - \\frac{1}{k}\\frac{\\mathrm{d}}{\\mathrm{d}\\hat{x}_{k+1}} \\hat{x}_{k+1}^n \\log^{k}(\\hat{x}_{k+1})\n",
    "\\Big)\\\\\n",
    "    =& \\frac{(-1)^{k+1} n^{k}}{(k-1)!}\n",
    "\\Big(\n",
    "    \\hat{x}_{k+1}^{n-1} \\log^{k-1}(\\hat{x}_{k+1}) - \\frac{1}{k}\\Big[ n\\hat{x}_{k+1}^{n-1} \\log^{k}(\\hat{x}_{k+1}) + k\\hat{x}_{k+1}^n \\log^{k-1}(\\hat{x}_{k+1}) \\frac{1}{\\hat{x}_{k+1}} \\Big]\n",
    "\\Big)\\\\\n",
    "    =& \\frac{(-1)^{k+1} n^{k}\\log^{k-1}(\\hat{x}_{k+1})}{(k-1)!}\n",
    "\\Big(\n",
    "    \\hat{x}_{k+1}^{n-1} - \\frac{1}{k}\\Big[ n\\hat{x}_{k+1}^{n-1} \\log(\\hat{x}_{k+1}) + k\\hat{x}_{k+1}^n \\frac{1}{\\hat{x}_{k+1}} \\Big]\n",
    "\\Big)\\\\\n",
    "    =& \\frac{(-1)^{k+1} n^{k}\\log^{k-1}(\\hat{x}_{k+1})}{(k-1)!}\n",
    "\\Big(\n",
    "    \\hat{x}_{k+1}^{n-1} - \\frac{1}{k}\\Big[ n\\hat{x}_{k+1}^{n-1} \\log(\\hat{x}_{k+1}) + k\\hat{x}_{k+1}^{n-1} \\Big]\n",
    "\\Big)\\\\\n",
    "    =& \\frac{(-1)^{k+1} n^{k}\\log^{k-1}(\\hat{x}_{k+1})\\hat{x}_{k+1}^{n-1}}{(k-1)!}\n",
    "\\Big(\n",
    "    1 - \\frac{1}{k}\\Big[ n \\log(\\hat{x}_{k+1}) + k \\Big]\n",
    "\\Big)\\\\\n",
    "    =& \\frac{(-1)^{k+1} n^{k}\\log^{k-1}(\\hat{x}_{k+1})\\hat{x}_{k+1}^{n-1}}{(k-1)!}\n",
    "\\Big(\n",
    "    1 - \\frac{n \\log(\\hat{x}_{k+1})}{k} - 1\n",
    "\\Big)\\\\\n",
    "    =& \\frac{(-1)^{k+1} n^{k}\\log^{k-1}(\\hat{x}_{k+1})\\hat{x}_{k+1}^{n-1}}{(k-1)!}\n",
    "\\Big(\n",
    "    - \\frac{n \\log(\\hat{x}_{k+1})}{k}\n",
    "\\Big)\\\\\n",
    "    =& \\frac{(-1)^{k+2} n^{k}\\log^{k-1}(\\hat{x}_{k+1})\\hat{x}_{k+1}^{n-1}}{(k-1)!}\n",
    "\\Big(\n",
    "    \\frac{n \\log(\\hat{x}_{k+1})}{k}\n",
    "\\Big)\\\\\n",
    "    =& \\frac{(-1)^{k+2} n^{k}\\log^{k-1}(\\hat{x}_{k+1})\\hat{x}_{k+1}^{n-1}}{k!}\n",
    "\\Big(\n",
    "    n \\log(\\hat{x}_{k+1})\n",
    "\\Big)\\\\\n",
    "    =& \\frac{(-1)^{k+2} n^{k+1}\\log^{k-1}(\\hat{x}_{k+1})\\hat{x}_{k+1}^{n-1}}{k!}\n",
    "\\Big(\n",
    "    \\log(\\hat{x}_{k+1})\n",
    "\\Big)\\\\\n",
    "    \\stackrel{\\checkmark}{=}& \\frac{(-1)^{k+2} n^{k+1}\\log^{k}(\\hat{x}_{k+1})\\hat{x}_{k+1}^{n-1}}{k!}\\\\\n",
    "\\end{align*}$\n"
   ]
  },
  {
   "cell_type": "markdown",
   "metadata": {},
   "source": [
    "# Result\n",
    "\n",
    "We have shown that for the product of $k$ random variables each $\\boldsymbol{X}_i \\sim n x_i^{n-1}$,\n",
    "\n",
    "$$\n",
    "\\hat{\\boldsymbol{X}}_k \\sim p(x)\n",
    "= \\frac{\n",
    "   (-1)^{k+1} x^{n-1} n^{k} \\log^{k-1}(x)\n",
    "}{\n",
    "(k-1)!\n",
    "}.\n",
    "$$\n"
   ]
  }
 ],
 "metadata": {
  "kernelspec": {
   "display_name": "Python 3",
   "language": "python",
   "name": "python3"
  },
  "language_info": {
   "codemirror_mode": {
    "name": "ipython",
    "version": 3
   },
   "file_extension": ".py",
   "mimetype": "text/x-python",
   "name": "python",
   "nbconvert_exporter": "python",
   "pygments_lexer": "ipython3",
   "version": "3.8.10"
  }
 },
 "nbformat": 4,
 "nbformat_minor": 5
}
