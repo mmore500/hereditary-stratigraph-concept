{
 "cells": [
  {
   "cell_type": "code",
   "execution_count": null,
   "metadata": {},
   "outputs": [],
   "source": [
    "from hstrat import hstrat\n",
    "from matplotlib import pyplot as plt\n",
    "from matplotlib import ticker\n",
    "from nbmetalog import nbmetalog as nbm\n",
    "import random\n",
    "from teeplot import teeplot as tp\n"
   ]
  },
  {
   "cell_type": "code",
   "execution_count": null,
   "metadata": {},
   "outputs": [],
   "source": [
    "random.seed(1)\n"
   ]
  },
  {
   "cell_type": "code",
   "execution_count": null,
   "metadata": {},
   "outputs": [],
   "source": [
    "nbm.print_metadata()\n"
   ]
  },
  {
   "cell_type": "code",
   "execution_count": null,
   "metadata": {},
   "outputs": [],
   "source": [
    "def tweak_and_show():\n",
    "    plt.grid(visible=True, which='major', linewidth=1)\n",
    "    plt.grid(visible=True, which='minor', linewidth=1, linestyle=\":\")\n",
    "    loc = ticker.MultipleLocator(base=256.0) # this locator puts ticks at regular intervals\n",
    "    plt.gca().yaxis.set_major_locator(loc)\n",
    "    plt.gca().xaxis.set_major_locator(loc)\n",
    "    loc = ticker.MultipleLocator(base=64.0) # this locator puts ticks at regular intervals\n",
    "    plt.gca().yaxis.set_minor_locator(loc)\n",
    "    plt.gca().xaxis.set_minor_locator(loc)\n",
    "    plt.show()\n"
   ]
  },
  {
   "cell_type": "code",
   "execution_count": null,
   "metadata": {},
   "outputs": [],
   "source": [
    "def tweaked_stratum_retention_drip_plot(*args, **kwargs):\n",
    "    hstrat.stratum_retention_drip_plot(*args, **kwargs)\n",
    "    tweak_and_show()\n"
   ]
  },
  {
   "cell_type": "markdown",
   "metadata": {},
   "source": [
    "# Perfect Resolution Policy\n"
   ]
  },
  {
   "cell_type": "code",
   "execution_count": null,
   "metadata": {},
   "outputs": [],
   "source": [
    "num_layers = 1024\n",
    "tp.tee(\n",
    "    tweaked_stratum_retention_drip_plot,\n",
    "    do_show=False,\n",
    "    stratum_retention_predicate=hstrat.StratumRetentionPredicatePerfectResolution(),\n",
    "    num_generations=num_layers,\n",
    "    teeplot_outattrs={\n",
    "        **nbm.collate_outattr_metadata(),\n",
    "        **{\n",
    "            'num_layers' : num_layers,\n",
    "            'stratum_retention_predicate' : 'perfect-resolution',\n",
    "        },\n",
    "    }\n",
    ")\n"
   ]
  },
  {
   "cell_type": "markdown",
   "metadata": {},
   "source": [
    "# Nominal Resolution Policy\n"
   ]
  },
  {
   "cell_type": "code",
   "execution_count": null,
   "metadata": {},
   "outputs": [],
   "source": [
    "num_layers = 1024\n",
    "tp.tee(\n",
    "    tweaked_stratum_retention_drip_plot,\n",
    "    do_show=False,\n",
    "    stratum_retention_predicate=hstrat.StratumRetentionPredicateNominalResolution(),\n",
    "    num_generations=num_layers,\n",
    "    teeplot_outattrs={\n",
    "        **nbm.collate_outattr_metadata(),\n",
    "        **{\n",
    "            'num_layers' : num_layers,\n",
    "            'stratum_retention_predicate' : 'nominal-resolution',\n",
    "        },\n",
    "    }\n",
    ")\n"
   ]
  },
  {
   "cell_type": "markdown",
   "metadata": {},
   "source": [
    "# Stochastic Policy\n"
   ]
  },
  {
   "cell_type": "code",
   "execution_count": null,
   "metadata": {},
   "outputs": [],
   "source": [
    "num_layers = 1024\n",
    "tp.tee(\n",
    "    tweaked_stratum_retention_drip_plot,\n",
    "    do_show=False,\n",
    "    stratum_retention_predicate=hstrat.StratumRetentionPredicateStochastic(),\n",
    "    num_generations=num_layers,\n",
    "    teeplot_outattrs={\n",
    "        **nbm.collate_outattr_metadata(),\n",
    "        **{\n",
    "            'num_layers' : num_layers,\n",
    "            'stratum_retention_predicate' : 'stochastic',\n",
    "        },\n",
    "    }\n",
    ")\n"
   ]
  },
  {
   "cell_type": "code",
   "execution_count": null,
   "metadata": {},
   "outputs": [],
   "source": [
    "num_layers = 128\n",
    "tp.tee(\n",
    "    hstrat.stratum_retention_drip_plot,\n",
    "    do_show=False,\n",
    "    stratum_retention_predicate=hstrat.StratumRetentionPredicateStochastic(),\n",
    "    num_generations=num_layers,\n",
    "    teeplot_outattrs={\n",
    "        **nbm.collate_outattr_metadata(),\n",
    "        **{\n",
    "            'num_layers' : num_layers,\n",
    "            'stratum_retention_predicate' : 'stochastic',\n",
    "        },\n",
    "    }\n",
    ")\n"
   ]
  },
  {
   "cell_type": "markdown",
   "metadata": {},
   "source": [
    "# Recency-proportional Resolution Policy\n"
   ]
  },
  {
   "cell_type": "code",
   "execution_count": null,
   "metadata": {},
   "outputs": [],
   "source": [
    "num_layers = 1024\n",
    "for guaranteed_mrca_recency_proportional_resolution in 0, 4:\n",
    "    tp.tee(\n",
    "        tweaked_stratum_retention_drip_plot,\n",
    "        do_show=False,\n",
    "        stratum_retention_predicate=hstrat.StratumRetentionPredicateRecencyProportionalResolution(\n",
    "                guaranteed_mrca_recency_proportional_resolution=guaranteed_mrca_recency_proportional_resolution,\n",
    "        ),\n",
    "        num_generations=num_layers,\n",
    "        teeplot_outattrs={\n",
    "            **nbm.collate_outattr_metadata(),\n",
    "            **{\n",
    "                'guaranteed_mrca_recency_proportional_resolution' : guaranteed_mrca_recency_proportional_resolution,\n",
    "                'num_layers' : num_layers,\n",
    "                'stratum_retention_predicate' : 'recency-proportional-resolution',\n",
    "            },\n",
    "        }\n",
    "    )\n"
   ]
  },
  {
   "cell_type": "markdown",
   "metadata": {},
   "source": [
    "# Depth-proportional Resolution Policy\n"
   ]
  },
  {
   "cell_type": "code",
   "execution_count": null,
   "metadata": {},
   "outputs": [],
   "source": [
    "num_layers = 1024\n",
    "for guaranteed_depth_proportional_resolution in 1, 4:\n",
    "    tp.tee(\n",
    "        tweaked_stratum_retention_drip_plot,\n",
    "        do_show=False,\n",
    "        stratum_retention_predicate=hstrat.StratumRetentionPredicateDepthProportionalResolution(\n",
    "            guaranteed_depth_proportional_resolution=guaranteed_depth_proportional_resolution,\n",
    "        ),\n",
    "        num_generations=num_layers,\n",
    "        teeplot_outattrs={\n",
    "            **nbm.collate_outattr_metadata(),\n",
    "            **{\n",
    "                'guaranteed_depth_proportional_resolution' : guaranteed_depth_proportional_resolution,\n",
    "                'num_layers' : num_layers,\n",
    "                'stratum_retention_predicate' : 'depth-proportional-resolution',\n",
    "            },\n",
    "        }\n",
    "    )\n"
   ]
  },
  {
   "cell_type": "code",
   "execution_count": null,
   "metadata": {},
   "outputs": [],
   "source": [
    "num_layers = 1000\n",
    "for guaranteed_depth_proportional_resolution in 1, 4:\n",
    "    tp.tee(\n",
    "        tweaked_stratum_retention_drip_plot,\n",
    "        do_show=False,\n",
    "        stratum_retention_predicate=hstrat.StratumRetentionPredicateTaperedDepthProportionalResolution(\n",
    "            guaranteed_depth_proportional_resolution=guaranteed_depth_proportional_resolution,\n",
    "        ),\n",
    "        num_generations=num_layers,\n",
    "        teeplot_outattrs={\n",
    "            **nbm.collate_outattr_metadata(),\n",
    "            **{\n",
    "                'guaranteed_depth_proportional_resolution' : guaranteed_depth_proportional_resolution,\n",
    "                'num_layers' : num_layers,\n",
    "                'stratum_retention_predicate' : 'tapered-proportional-resolution',\n",
    "            },\n",
    "        }\n",
    "    )\n"
   ]
  },
  {
   "cell_type": "markdown",
   "metadata": {},
   "source": [
    "# Fixed Resolution Policy\n"
   ]
  },
  {
   "cell_type": "code",
   "execution_count": null,
   "metadata": {},
   "outputs": [],
   "source": [
    "num_layers = 1024\n",
    "for fixed_resolution in 512, 128:\n",
    "    tp.tee(\n",
    "        tweaked_stratum_retention_drip_plot,\n",
    "        do_show=False,\n",
    "        stratum_retention_predicate=hstrat.StratumRetentionPredicateFixedResolution(fixed_resolution),\n",
    "        num_generations=num_layers,\n",
    "        teeplot_outattrs={\n",
    "            **nbm.collate_outattr_metadata(),\n",
    "            **{\n",
    "                'num_layers' : num_layers,\n",
    "                'stratum_retention_predicate' : 'fixed-resolution',\n",
    "            },\n",
    "        }\n",
    "    )\n"
   ]
  }
 ],
 "metadata": {
  "kernelspec": {
   "display_name": "Python 3",
   "language": "python",
   "name": "python3"
  }
 },
 "nbformat": 4,
 "nbformat_minor": 4
}
