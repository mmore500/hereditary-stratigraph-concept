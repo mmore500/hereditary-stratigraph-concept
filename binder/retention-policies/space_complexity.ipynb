{
 "cells": [
  {
   "cell_type": "code",
   "execution_count": null,
   "metadata": {},
   "outputs": [],
   "source": [
    "from hstrat import hstrat\n",
    "from iterpop import iterpop as ip\n",
    "from keyname import keyname as kn\n",
    "from matplotlib import pyplot as plt\n",
    "from natsort import natsorted\n",
    "from nbmetalog import nbmetalog as nbm\n",
    "import pandas as pd\n",
    "import seaborn as sns\n",
    "import sympy\n",
    "from teeplot import teeplot as tp\n"
   ]
  },
  {
   "cell_type": "code",
   "execution_count": null,
   "metadata": {},
   "outputs": [],
   "source": [
    "nbm.print_metadata()\n"
   ]
  },
  {
   "cell_type": "markdown",
   "metadata": {},
   "source": [
    "# How many strata are retained under the recency-proportional resolution policy?\n"
   ]
  },
  {
   "cell_type": "code",
   "execution_count": null,
   "metadata": {},
   "outputs": [],
   "source": [
    "records = [{\n",
    "    'Generations Elapsed': generations_elapsed,\n",
    "    'Resolution': str(resolution),\n",
    "    'Num Strata Retained': hstrat\\\n",
    "        .StratumRetentionPredicateRecencyProportionalResolution(resolution)\\\n",
    "        .CalcNumStrataRetainedExact(generations_elapsed),\n",
    "}\n",
    "    for generations_elapsed in (10**3, 10**6, 10**9, 10**12)\n",
    "    for resolution in (1, 2, 4, 10, 100)\n",
    "]\n",
    "df = pd.DataFrame.from_records(records)\n",
    "df\n"
   ]
  },
  {
   "cell_type": "code",
   "execution_count": null,
   "metadata": {},
   "outputs": [],
   "source": [
    "piv = pd.pivot(\n",
    "    df,\n",
    "    values=['Num Strata Retained'],\n",
    "    index=['Generations Elapsed'],\n",
    "    columns=['Resolution'],\n",
    ")\n",
    "# piv.columns = piv.columns.map(', Resolution '.join)\n",
    "piv[piv.index.name] = piv.index\n",
    "piv.reset_index(drop=True, inplace=True)\n",
    "piv = piv.reindex(natsorted(piv.columns), axis=1)\n",
    "# piv.columns.names = (None, None)\n",
    "piv\n"
   ]
  },
  {
   "cell_type": "code",
   "execution_count": null,
   "metadata": {},
   "outputs": [],
   "source": [
    "piv.to_csv(kn.pack({\n",
    "    'a': 'space-complexity',\n",
    "    'policy': 'recency-proportional-resolution',\n",
    "    'ext': '.csv',\n",
    "}))\n"
   ]
  },
  {
   "cell_type": "code",
   "execution_count": null,
   "metadata": {},
   "outputs": [],
   "source": [
    "def loglineplot(*args, **kwargs):\n",
    "    sns.lineplot(*args, **kwargs)\n",
    "    plt.gca().set_xscale('log')\n",
    "\n",
    "tp.tee(\n",
    "    loglineplot,\n",
    "    data=df[df['Resolution'].astype(int) < 100],\n",
    "    x='Generations Elapsed',\n",
    "    y='Num Strata Retained',\n",
    "    hue='Resolution',\n",
    "    marker='o',\n",
    "    teeplot_outattrs={\n",
    "        'policy': 'recency-proportional-resolution',\n",
    "    },\n",
    ")\n"
   ]
  },
  {
   "cell_type": "markdown",
   "metadata": {},
   "source": [
    "# How does recency-proportional stratum retention scale with resolution?\n"
   ]
  },
  {
   "cell_type": "markdown",
   "metadata": {},
   "source": [
    "From <https://github.com/mmore500/hstrat/blob/3eebabb6931b3ef3bbf6b7808a6e136caf600bd8/hstrat/hstrat/stratum_retention_predicates/StratumRetentionPredicateRecencyProportionalResolution.py#L222> we have space complexity of the recency-proportional resolution as less than or equal to\n",
    "\n",
    "$\\begin{align*}\n",
    "\\log(x) + \\sum_{i=1}^r \\log\\Big(\\frac{n}{i}\\Big)\n",
    "\\end{align*}$\n",
    "\n",
    "where $r$ is resolution parameter and $n$ is number of strata deposited.\n",
    "(This is within a constant factor, glossing over $\\log$ vs. $\\log_2$, omitting integer truncated division, and substituting $\\log(x)$ for integer bit weight.)\n",
    "\n",
    "Applying logarithm properties,\n",
    "\n",
    "$\\begin{align*}\n",
    "\\sum_{i=1}^r \\log\\Big(\\frac{n}{i}\\Big)\n",
    "&= \\log\\Big(\\prod_{i=1}^r \\frac{n}{i}\\Big)\\\\\n",
    "&= \\log\\Big(\\frac{\\prod_{i=1}^r n}{\\prod_{i=1}^r i}\\Big)\\\\\n",
    "&= \\log\\Big(\\frac{n^r}{r!}\\Big).\n",
    "\\end{align*}$\n",
    "\n",
    "So, we can re-express space complexity as\n",
    "\n",
    "$\\begin{align*}\n",
    "\\log(n) + \\log\\Big(\\frac{n^r}{r!}\\Big).\n",
    "\\end{align*}$\n",
    "\n",
    "In order to understand how space complexity scales with respect to resolution $r$, we can consider the ratio of space complexity between a policy with resolution $r$ and a policy with twice the resolution $2r$ as $r$ goes to infinity.\n",
    "Let's apply computer algebra to evaluate this limit.\n"
   ]
  },
  {
   "cell_type": "code",
   "execution_count": null,
   "metadata": {},
   "outputs": [],
   "source": [
    "# specify variables with assumptions for domain\n",
    "r = sympy.Symbol('r', integer=True, positive=True, real=True,)\n",
    "n = sympy.Symbol('n', integer=True, positive=True, real=True,)\n",
    "\n",
    "space_complexity = sympy.log(n**r / sympy.factorial(r)) + sympy.log(n)\n",
    "space_complexity\n"
   ]
  },
  {
   "cell_type": "code",
   "execution_count": null,
   "metadata": {},
   "outputs": [],
   "source": [
    "ratio = space_complexity.subs(r, 2*r) / space_complexity\n",
    "ratio\n"
   ]
  },
  {
   "cell_type": "markdown",
   "metadata": {},
   "source": [
    "Evaluating as $n \\to \\infty$,\n"
   ]
  },
  {
   "cell_type": "code",
   "execution_count": null,
   "metadata": {},
   "outputs": [],
   "source": [
    "lim = sympy.Limit(ratio, n, sympy.oo)\n",
    "lim\n"
   ]
  },
  {
   "cell_type": "code",
   "execution_count": null,
   "metadata": {},
   "outputs": [],
   "source": [
    "lim.doit().simplify()\n"
   ]
  },
  {
   "cell_type": "markdown",
   "metadata": {},
   "source": [
    "Evaluating as $r \\to \\infty$,\n"
   ]
  },
  {
   "cell_type": "code",
   "execution_count": null,
   "metadata": {},
   "outputs": [],
   "source": [
    "lim = sympy.Limit(ratio, r, sympy.oo)\n",
    "lim\n"
   ]
  },
  {
   "cell_type": "code",
   "execution_count": null,
   "metadata": {},
   "outputs": [],
   "source": [
    "lim.doit()\n"
   ]
  },
  {
   "cell_type": "markdown",
   "metadata": {},
   "source": [
    "## Result\n",
    "\n",
    "Doubling resolution doubles space complexity.\n",
    "So, in the limit, space complexity scales linearly with desired resolution.\n"
   ]
  }
 ],
 "metadata": {},
 "nbformat": 4,
 "nbformat_minor": 5
}
