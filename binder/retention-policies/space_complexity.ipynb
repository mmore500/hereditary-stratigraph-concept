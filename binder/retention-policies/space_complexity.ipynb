{
 "cells": [
  {
   "cell_type": "code",
   "execution_count": 1,
   "id": "1ee370f7",
   "metadata": {},
   "outputs": [],
   "source": [
    "from hstrat import hstrat\n",
    "from iterpop import iterpop as ip\n",
    "from keyname import keyname as kn\n",
    "from matplotlib import pyplot as plt\n",
    "from natsort import natsorted\n",
    "from nbmetalog import nbmetalog as nbm\n",
    "import pandas as pd\n",
    "import seaborn as sns\n",
    "import sympy\n",
    "from teeplot import teeplot as tp\n"
   ]
  },
  {
   "cell_type": "code",
   "execution_count": 2,
   "id": "75f71caa",
   "metadata": {},
   "outputs": [
    {
     "name": "stdout",
     "output_type": "stream",
     "text": [
      "context: ci\n",
      "hostname: 2a5b7f51d0e9\n",
      "interpreter: 3.8.12 (default, Jan 15 2022, 18:39:47)  [GCC 7.5.0]\n",
      "nbcellexec: 2\n",
      "nbname: space_complexity\n",
      "nbpath: /opt/hereditary-stratigraph-concept/binder/retention-policies/space_complexity.ipynb\n",
      "revision: null\n",
      "session: b91c1b48-5aad-45c1-a1a9-42adca65cb9d\n",
      "timestamp: 2022-08-14T04:14:48Z00:00\n",
      "\n",
      "\n",
      "IPython==7.16.1\n",
      "keyname==0.4.1\n",
      "yaml==5.3.1\n",
      "hstrat==0.3.2\n",
      "iterpop==0.4.0\n",
      "matplotlib==3.3.2\n",
      "nbmetalog==0.2.6\n",
      "pandas==1.1.2\n",
      "seaborn==0.11.0\n",
      "sympy==1.5.1\n",
      "teeplot==0.2.0\n",
      "re==2.2.1\n",
      "ipython_genutils==0.2.0\n",
      "logging==0.5.1.2\n",
      "zmq==22.3.0\n",
      "json==2.0.9\n",
      "ipykernel==5.5.3\n"
     ]
    }
   ],
   "source": [
    "nbm.print_metadata()\n"
   ]
  },
  {
   "cell_type": "markdown",
   "id": "a0412e4f",
   "metadata": {},
   "source": [
    "# How many strata are retained under the recency-proportional resolution policy?\n"
   ]
  },
  {
   "cell_type": "code",
   "execution_count": 3,
   "id": "2961cd1a",
   "metadata": {},
   "outputs": [
    {
     "data": {
      "text/html": [
       "<div>\n",
       "<style scoped>\n",
       "    .dataframe tbody tr th:only-of-type {\n",
       "        vertical-align: middle;\n",
       "    }\n",
       "\n",
       "    .dataframe tbody tr th {\n",
       "        vertical-align: top;\n",
       "    }\n",
       "\n",
       "    .dataframe thead th {\n",
       "        text-align: right;\n",
       "    }\n",
       "</style>\n",
       "<table border=\"1\" class=\"dataframe\">\n",
       "  <thead>\n",
       "    <tr style=\"text-align: right;\">\n",
       "      <th></th>\n",
       "      <th>Generations Elapsed</th>\n",
       "      <th>Resolution</th>\n",
       "      <th>Num Strata Retained</th>\n",
       "    </tr>\n",
       "  </thead>\n",
       "  <tbody>\n",
       "    <tr>\n",
       "      <th>0</th>\n",
       "      <td>1000</td>\n",
       "      <td>1</td>\n",
       "      <td>18</td>\n",
       "    </tr>\n",
       "    <tr>\n",
       "      <th>1</th>\n",
       "      <td>1000</td>\n",
       "      <td>2</td>\n",
       "      <td>26</td>\n",
       "    </tr>\n",
       "    <tr>\n",
       "      <th>2</th>\n",
       "      <td>1000</td>\n",
       "      <td>4</td>\n",
       "      <td>41</td>\n",
       "    </tr>\n",
       "    <tr>\n",
       "      <th>3</th>\n",
       "      <td>1000</td>\n",
       "      <td>10</td>\n",
       "      <td>80</td>\n",
       "    </tr>\n",
       "    <tr>\n",
       "      <th>4</th>\n",
       "      <td>1000</td>\n",
       "      <td>100</td>\n",
       "      <td>428</td>\n",
       "    </tr>\n",
       "    <tr>\n",
       "      <th>5</th>\n",
       "      <td>1000000</td>\n",
       "      <td>1</td>\n",
       "      <td>32</td>\n",
       "    </tr>\n",
       "    <tr>\n",
       "      <th>6</th>\n",
       "      <td>1000000</td>\n",
       "      <td>2</td>\n",
       "      <td>50</td>\n",
       "    </tr>\n",
       "    <tr>\n",
       "      <th>7</th>\n",
       "      <td>1000000</td>\n",
       "      <td>4</td>\n",
       "      <td>85</td>\n",
       "    </tr>\n",
       "    <tr>\n",
       "      <th>8</th>\n",
       "      <td>1000000</td>\n",
       "      <td>10</td>\n",
       "      <td>184</td>\n",
       "    </tr>\n",
       "    <tr>\n",
       "      <th>9</th>\n",
       "      <td>1000000</td>\n",
       "      <td>100</td>\n",
       "      <td>1430</td>\n",
       "    </tr>\n",
       "    <tr>\n",
       "      <th>10</th>\n",
       "      <td>1000000000</td>\n",
       "      <td>1</td>\n",
       "      <td>51</td>\n",
       "    </tr>\n",
       "    <tr>\n",
       "      <th>11</th>\n",
       "      <td>1000000000</td>\n",
       "      <td>2</td>\n",
       "      <td>79</td>\n",
       "    </tr>\n",
       "    <tr>\n",
       "      <th>12</th>\n",
       "      <td>1000000000</td>\n",
       "      <td>4</td>\n",
       "      <td>134</td>\n",
       "    </tr>\n",
       "    <tr>\n",
       "      <th>13</th>\n",
       "      <td>1000000000</td>\n",
       "      <td>10</td>\n",
       "      <td>293</td>\n",
       "    </tr>\n",
       "    <tr>\n",
       "      <th>14</th>\n",
       "      <td>1000000000</td>\n",
       "      <td>100</td>\n",
       "      <td>2435</td>\n",
       "    </tr>\n",
       "    <tr>\n",
       "      <th>15</th>\n",
       "      <td>1000000000000</td>\n",
       "      <td>1</td>\n",
       "      <td>64</td>\n",
       "    </tr>\n",
       "    <tr>\n",
       "      <th>16</th>\n",
       "      <td>1000000000000</td>\n",
       "      <td>2</td>\n",
       "      <td>102</td>\n",
       "    </tr>\n",
       "    <tr>\n",
       "      <th>17</th>\n",
       "      <td>1000000000000</td>\n",
       "      <td>4</td>\n",
       "      <td>177</td>\n",
       "    </tr>\n",
       "    <tr>\n",
       "      <th>18</th>\n",
       "      <td>1000000000000</td>\n",
       "      <td>10</td>\n",
       "      <td>396</td>\n",
       "    </tr>\n",
       "    <tr>\n",
       "      <th>19</th>\n",
       "      <td>1000000000000</td>\n",
       "      <td>100</td>\n",
       "      <td>3437</td>\n",
       "    </tr>\n",
       "  </tbody>\n",
       "</table>\n",
       "</div>"
      ],
      "text/plain": [
       "    Generations Elapsed Resolution  Num Strata Retained\n",
       "0                  1000          1                   18\n",
       "1                  1000          2                   26\n",
       "2                  1000          4                   41\n",
       "3                  1000         10                   80\n",
       "4                  1000        100                  428\n",
       "5               1000000          1                   32\n",
       "6               1000000          2                   50\n",
       "7               1000000          4                   85\n",
       "8               1000000         10                  184\n",
       "9               1000000        100                 1430\n",
       "10           1000000000          1                   51\n",
       "11           1000000000          2                   79\n",
       "12           1000000000          4                  134\n",
       "13           1000000000         10                  293\n",
       "14           1000000000        100                 2435\n",
       "15        1000000000000          1                   64\n",
       "16        1000000000000          2                  102\n",
       "17        1000000000000          4                  177\n",
       "18        1000000000000         10                  396\n",
       "19        1000000000000        100                 3437"
      ]
     },
     "execution_count": 3,
     "metadata": {},
     "output_type": "execute_result"
    }
   ],
   "source": [
    "records = [{\n",
    "    'Generations Elapsed': generations_elapsed,\n",
    "    'Resolution': str(resolution),\n",
    "    'Num Strata Retained': hstrat\\\n",
    "        .StratumRetentionPredicateRecencyProportionalResolution(resolution)\\\n",
    "        .CalcNumStrataRetainedExact(generations_elapsed),\n",
    "}\n",
    "    for generations_elapsed in (10**3, 10**6, 10**9, 10**12)\n",
    "    for resolution in (1, 2, 4, 10, 100)\n",
    "]\n",
    "df = pd.DataFrame.from_records(records)\n",
    "df\n"
   ]
  },
  {
   "cell_type": "code",
   "execution_count": 4,
   "id": "e819f8c4",
   "metadata": {},
   "outputs": [
    {
     "data": {
      "text/html": [
       "<div>\n",
       "<style scoped>\n",
       "    .dataframe tbody tr th:only-of-type {\n",
       "        vertical-align: middle;\n",
       "    }\n",
       "\n",
       "    .dataframe tbody tr th {\n",
       "        vertical-align: top;\n",
       "    }\n",
       "\n",
       "    .dataframe thead tr th {\n",
       "        text-align: left;\n",
       "    }\n",
       "</style>\n",
       "<table border=\"1\" class=\"dataframe\">\n",
       "  <thead>\n",
       "    <tr>\n",
       "      <th></th>\n",
       "      <th>Generations Elapsed</th>\n",
       "      <th colspan=\"5\" halign=\"left\">Num Strata Retained</th>\n",
       "    </tr>\n",
       "    <tr>\n",
       "      <th>Resolution</th>\n",
       "      <th></th>\n",
       "      <th>1</th>\n",
       "      <th>2</th>\n",
       "      <th>4</th>\n",
       "      <th>10</th>\n",
       "      <th>100</th>\n",
       "    </tr>\n",
       "  </thead>\n",
       "  <tbody>\n",
       "    <tr>\n",
       "      <th>0</th>\n",
       "      <td>1000</td>\n",
       "      <td>18</td>\n",
       "      <td>26</td>\n",
       "      <td>41</td>\n",
       "      <td>80</td>\n",
       "      <td>428</td>\n",
       "    </tr>\n",
       "    <tr>\n",
       "      <th>1</th>\n",
       "      <td>1000000</td>\n",
       "      <td>32</td>\n",
       "      <td>50</td>\n",
       "      <td>85</td>\n",
       "      <td>184</td>\n",
       "      <td>1430</td>\n",
       "    </tr>\n",
       "    <tr>\n",
       "      <th>2</th>\n",
       "      <td>1000000000</td>\n",
       "      <td>51</td>\n",
       "      <td>79</td>\n",
       "      <td>134</td>\n",
       "      <td>293</td>\n",
       "      <td>2435</td>\n",
       "    </tr>\n",
       "    <tr>\n",
       "      <th>3</th>\n",
       "      <td>1000000000000</td>\n",
       "      <td>64</td>\n",
       "      <td>102</td>\n",
       "      <td>177</td>\n",
       "      <td>396</td>\n",
       "      <td>3437</td>\n",
       "    </tr>\n",
       "  </tbody>\n",
       "</table>\n",
       "</div>"
      ],
      "text/plain": [
       "           Generations Elapsed Num Strata Retained                     \n",
       "Resolution                                       1    2    4   10   100\n",
       "0                         1000                  18   26   41   80   428\n",
       "1                      1000000                  32   50   85  184  1430\n",
       "2                   1000000000                  51   79  134  293  2435\n",
       "3                1000000000000                  64  102  177  396  3437"
      ]
     },
     "execution_count": 4,
     "metadata": {},
     "output_type": "execute_result"
    }
   ],
   "source": [
    "piv = pd.pivot(\n",
    "    df,\n",
    "    values=['Num Strata Retained'],\n",
    "    index=['Generations Elapsed'],\n",
    "    columns=['Resolution'],\n",
    ")\n",
    "# piv.columns = piv.columns.map(', Resolution '.join)\n",
    "piv[piv.index.name] = piv.index\n",
    "piv.reset_index(drop=True, inplace=True)\n",
    "piv = piv.reindex(natsorted(piv.columns), axis=1)\n",
    "# piv.columns.names = (None, None)\n",
    "piv\n"
   ]
  },
  {
   "cell_type": "code",
   "execution_count": 5,
   "id": "d76db822",
   "metadata": {},
   "outputs": [],
   "source": [
    "piv.to_csv(kn.pack({\n",
    "    'a': 'space-complexity',\n",
    "    'policy': 'recency-proportional-resolution',\n",
    "    'ext': '.csv',\n",
    "}))\n"
   ]
  },
  {
   "cell_type": "code",
   "execution_count": 6,
   "id": "b906e71c",
   "metadata": {},
   "outputs": [
    {
     "name": "stdout",
     "output_type": "stream",
     "text": [
      "teeplots/hue=resolution+marker=o+policy=recency-proportional-resolution+viz=loglineplot+x=generations-elapsed+y=num-strata-retained+ext=.pdf\n",
      "teeplots/hue=resolution+marker=o+policy=recency-proportional-resolution+viz=loglineplot+x=generations-elapsed+y=num-strata-retained+ext=.png\n"
     ]
    },
    {
     "data": {
      "image/png": "[encoded data removed]",
      "text/plain": [
       "<Figure size 432x288 with 1 Axes>"
      ]
     },
     "metadata": {
      "needs_background": "light"
     },
     "output_type": "display_data"
    }
   ],
   "source": [
    "def loglineplot(*args, **kwargs):\n",
    "    sns.lineplot(*args, **kwargs)\n",
    "    plt.gca().set_xscale('log')\n",
    "\n",
    "tp.tee(\n",
    "    loglineplot,\n",
    "    data=df[df['Resolution'].astype(int) < 100],\n",
    "    x='Generations Elapsed',\n",
    "    y='Num Strata Retained',\n",
    "    hue='Resolution',\n",
    "    marker='o',\n",
    "    teeplot_outattrs={\n",
    "        'policy': 'recency-proportional-resolution',\n",
    "    },\n",
    ")\n"
   ]
  },
  {
   "cell_type": "markdown",
   "id": "f4920906",
   "metadata": {},
   "source": [
    "# How does recency-proportional stratum retention scale with resolution?\n"
   ]
  },
  {
   "cell_type": "markdown",
   "id": "9c545868",
   "metadata": {},
   "source": [
    "From <https://github.com/mmore500/hstrat/blob/3eebabb6931b3ef3bbf6b7808a6e136caf600bd8/hstrat/hstrat/stratum_retention_predicates/StratumRetentionPredicateRecencyProportionalResolution.py#L222> we have space complexity of the recency-proportional resolution as less than or equal to\n",
    "\n",
    "$\\begin{align*}\n",
    "\\log(x) + \\sum_{i=1}^r \\log\\Big(\\frac{n}{i}\\Big)\n",
    "\\end{align*}$\n",
    "\n",
    "where $r$ is resolution parameter and $n$ is number of strata deposited.\n",
    "(This is within a constant factor, glossing over $\\log$ vs. $\\log_2$, omitting integer truncated division, and substituting $\\log(x)$ for integer bit weight.)\n",
    "\n",
    "Applying logarithm properties,\n",
    "\n",
    "$\\begin{align*}\n",
    "\\sum_{i=1}^r \\log\\Big(\\frac{n}{i}\\Big)\n",
    "&= \\log\\Big(\\prod_{i=1}^r \\frac{n}{i}\\Big)\\\\\n",
    "&= \\log\\Big(\\frac{\\prod_{i=1}^r n}{\\prod_{i=1}^r i}\\Big)\\\\\n",
    "&= \\log\\Big(\\frac{n^r}{r!}\\Big).\n",
    "\\end{align*}$\n",
    "\n",
    "So, we can re-express space complexity as\n",
    "\n",
    "$\\begin{align*}\n",
    "\\log(n) + \\log\\Big(\\frac{n^r}{r!}\\Big).\n",
    "\\end{align*}$\n",
    "\n",
    "In order to understand how space complexity scales with respect to resolution $r$, we can consider the ratio of space complexity between a policy with resolution $r$ and a policy with twice the resolution $2r$ as $r$ goes to infinity.\n",
    "Let's apply computer algebra to evaluate this limit.\n"
   ]
  },
  {
   "cell_type": "code",
   "execution_count": 7,
   "id": "fac4631f",
   "metadata": {},
   "outputs": [
    {
     "data": {
      "text/latex": [
       "$\\displaystyle \\log{\\left(n \\right)} + \\log{\\left(\\frac{n^{r}}{r!} \\right)}$"
      ],
      "text/plain": [
       "log(n) + log(n**r/factorial(r))"
      ]
     },
     "execution_count": 7,
     "metadata": {},
     "output_type": "execute_result"
    }
   ],
   "source": [
    "# specify variables with assumptions for domain\n",
    "r = sympy.Symbol('r', integer=True, positive=True, real=True,)\n",
    "n = sympy.Symbol('n', integer=True, positive=True, real=True,)\n",
    "\n",
    "space_complexity = sympy.log(n**r / sympy.factorial(r)) + sympy.log(n)\n",
    "space_complexity\n"
   ]
  },
  {
   "cell_type": "code",
   "execution_count": 8,
   "id": "ae3876e3",
   "metadata": {},
   "outputs": [
    {
     "data": {
      "text/latex": [
       "$\\displaystyle \\frac{\\log{\\left(n \\right)} + \\log{\\left(\\frac{n^{2 r}}{\\left(2 r\\right)!} \\right)}}{\\log{\\left(n \\right)} + \\log{\\left(\\frac{n^{r}}{r!} \\right)}}$"
      ],
      "text/plain": [
       "(log(n) + log(n**(2*r)/factorial(2*r)))/(log(n) + log(n**r/factorial(r)))"
      ]
     },
     "execution_count": 8,
     "metadata": {},
     "output_type": "execute_result"
    }
   ],
   "source": [
    "ratio = space_complexity.subs(r, 2*r) / space_complexity\n",
    "ratio\n"
   ]
  },
  {
   "cell_type": "markdown",
   "id": "7daca865",
   "metadata": {},
   "source": [
    "Evaluating as $n \\to \\infty$,\n"
   ]
  },
  {
   "cell_type": "code",
   "execution_count": 9,
   "id": "91e47320",
   "metadata": {},
   "outputs": [
    {
     "data": {
      "text/latex": [
       "$\\displaystyle \\lim_{n \\to \\infty}\\left(\\frac{\\log{\\left(n \\right)} + \\log{\\left(\\frac{n^{2 r}}{\\left(2 r\\right)!} \\right)}}{\\log{\\left(n \\right)} + \\log{\\left(\\frac{n^{r}}{r!} \\right)}}\\right)$"
      ],
      "text/plain": [
       "Limit((log(n) + log(n**(2*r)/factorial(2*r)))/(log(n) + log(n**r/factorial(r))), n, oo, dir='-')"
      ]
     },
     "execution_count": 9,
     "metadata": {},
     "output_type": "execute_result"
    }
   ],
   "source": [
    "lim = sympy.Limit(ratio, n, sympy.oo)\n",
    "lim\n"
   ]
  },
  {
   "cell_type": "code",
   "execution_count": 10,
   "id": "e90e049b",
   "metadata": {},
   "outputs": [
    {
     "data": {
      "text/latex": [
       "$\\displaystyle \\frac{2 r + 1}{r + 1}$"
      ],
      "text/plain": [
       "(2*r + 1)/(r + 1)"
      ]
     },
     "execution_count": 10,
     "metadata": {},
     "output_type": "execute_result"
    }
   ],
   "source": [
    "lim.doit().simplify()\n"
   ]
  },
  {
   "cell_type": "markdown",
   "id": "daaa0f3e",
   "metadata": {},
   "source": [
    "Evaluating as $r \\to \\infty$,\n"
   ]
  },
  {
   "cell_type": "code",
   "execution_count": 11,
   "id": "1a70fd8b",
   "metadata": {},
   "outputs": [
    {
     "data": {
      "text/latex": [
       "$\\displaystyle \\lim_{r \\to \\infty}\\left(\\frac{\\log{\\left(n \\right)} + \\log{\\left(\\frac{n^{2 r}}{\\left(2 r\\right)!} \\right)}}{\\log{\\left(n \\right)} + \\log{\\left(\\frac{n^{r}}{r!} \\right)}}\\right)$"
      ],
      "text/plain": [
       "Limit((log(n) + log(n**(2*r)/factorial(2*r)))/(log(n) + log(n**r/factorial(r))), r, oo, dir='-')"
      ]
     },
     "execution_count": 11,
     "metadata": {},
     "output_type": "execute_result"
    }
   ],
   "source": [
    "lim = sympy.Limit(ratio, r, sympy.oo)\n",
    "lim\n"
   ]
  },
  {
   "cell_type": "code",
   "execution_count": 12,
   "id": "76d5649e",
   "metadata": {},
   "outputs": [
    {
     "data": {
      "text/latex": [
       "$\\displaystyle 2$"
      ],
      "text/plain": [
       "2"
      ]
     },
     "execution_count": 12,
     "metadata": {},
     "output_type": "execute_result"
    }
   ],
   "source": [
    "lim.doit()\n"
   ]
  },
  {
   "cell_type": "markdown",
   "id": "4cc5fb2f",
   "metadata": {},
   "source": [
    "## Result\n",
    "\n",
    "Doubling resolution doubles space complexity.\n",
    "So, in the limit, space complexity scales linearly with desired resolution.\n"
   ]
  }
 ],
 "metadata": {
  "kernelspec": {
   "display_name": "Python 3",
   "language": "python",
   "name": "python3"
  },
  "language_info": {
   "codemirror_mode": {
    "name": "ipython",
    "version": 3
   },
   "file_extension": ".py",
   "mimetype": "text/x-python",
   "name": "python",
   "nbconvert_exporter": "python",
   "pygments_lexer": "ipython3",
   "version": "3.8.12"
  }
 },
 "nbformat": 4,
 "nbformat_minor": 5
}
