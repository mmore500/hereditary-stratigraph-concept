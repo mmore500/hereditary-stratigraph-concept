{
 "cells": [
  {
   "cell_type": "code",
   "execution_count": null,
   "id": "d260d2d4",
   "metadata": {},
   "outputs": [],
   "source": [
    "import json\n",
    "import math\n",
    "import os\n",
    "\n",
    "from iterpop import iterpop as ip\n",
    "import pandas as pd\n",
    "import seaborn as sns\n",
    "from slugify import slugify\n",
    "from teeplot import teeplot as tp\n"
   ]
  },
  {
   "cell_type": "markdown",
   "id": "769549d9",
   "metadata": {},
   "source": [
    "# load data from JSON\n",
    "\n",
    "The source json file was manually extracted from notebook file provided by Emily.\n",
    "(The notebook can also be found in `assets/`.)"
   ]
  },
  {
   "cell_type": "code",
   "execution_count": null,
   "id": "df32c742",
   "metadata": {},
   "outputs": [],
   "source": [
    "with open(\"assets/reconstruction_quality.json\") as file:\n",
    "    data = json.load(file)\n",
    "\n",
    "records = [\n",
    "    {\n",
    "        data['columns'][int(k) - 1]['label'][0] : v\n",
    "        for k, v in row.items()\n",
    "    }\n",
    "    for row in data['data']\n",
    "]\n",
    "\n",
    "df = pd.DataFrame.from_records(records)\n"
   ]
  },
  {
   "cell_type": "code",
   "execution_count": null,
   "id": "97c9efdd",
   "metadata": {},
   "outputs": [],
   "source": [
    "df\n"
   ]
  },
  {
   "cell_type": "code",
   "execution_count": null,
   "id": "94ae8725",
   "metadata": {},
   "outputs": [],
   "source": [
    "numeric_cols = [\n",
    "    \"target\",\n",
    "    \"differentia\",\n",
    "    \"score\",\n",
    "]\n",
    "df[numeric_cols] = df[numeric_cols].apply(pd.to_numeric, errors='coerce').astype({\n",
    "    \"differentia\" : \"Int64\",\n",
    "    \"target\" : \"Int64\",\n",
    "})\n",
    "\n",
    "df\n"
   ]
  },
  {
   "cell_type": "code",
   "execution_count": null,
   "id": "c09a666b",
   "metadata": {},
   "outputs": [],
   "source": [
    "df[\"Tree Comparison Metric\"] = df[\"dist_fun\"].apply(\n",
    "    lambda x: {\n",
    "        \"rf\" : \"Generalized Robinson-Foulds Similarity\",\n",
    "        \"info\" : \"Mutual Clustering Information\",\n",
    "        \"cid\" : \"Clustering Information Distance\",\n",
    "    }[x]\n",
    ")\n",
    "df[\"Num Column Bits\"] = df[\"target\"]\n",
    "df[\"Num Differentia Bits\"] = df[\"differentia\"]\n"
   ]
  },
  {
   "cell_type": "code",
   "execution_count": null,
   "id": "bbd7700e",
   "metadata": {},
   "outputs": [],
   "source": [
    "# filter out trueTree rows\n",
    "df_results = df[df['Treatment'] != \"trueTree\"]\n",
    "\n",
    "# save as csv for inclusion in PDF appendices\n",
    "os.makedirs(\"outplots\", exist_ok=True)\n",
    "df_results.to_csv(\"outplots/reconstruction_quality_results.csv\", index=False)\n",
    "\n",
    "df_results\n"
   ]
  },
  {
   "cell_type": "markdown",
   "id": "f7f14a35",
   "metadata": {},
   "source": [
    "# plot scores"
   ]
  },
  {
   "cell_type": "code",
   "execution_count": null,
   "id": "267be9ca",
   "metadata": {},
   "outputs": [],
   "source": [
    "for metric, df_group in df_results.groupby(\"Tree Comparison Metric\"):\n",
    "    print(metric)\n",
    "    tp.tee(\n",
    "        sns.catplot,\n",
    "        x=\"condition\",\n",
    "        y=\"score\",\n",
    "        hue=\"policy\",\n",
    "        col=\"Num Differentia Bits\",\n",
    "        row=\"Num Column Bits\",\n",
    "        data=df_group,\n",
    "        kind=\"bar\",\n",
    "        margin_titles=True,\n",
    "        teeplot_outattrs={\n",
    "            \"tree-comparison-metric\" : slugify(metric),\n",
    "        }\n",
    "    )\n"
   ]
  },
  {
   "cell_type": "code",
   "execution_count": null,
   "id": "4c1ece9e",
   "metadata": {},
   "outputs": [],
   "source": [
    "for metric, df_group in df_results.groupby(\"Tree Comparison Metric\"):\n",
    "    print(metric)\n",
    "    tp.tee(\n",
    "        sns.catplot,\n",
    "        x=\"Num Column Bits\",\n",
    "        y=\"score\",\n",
    "        hue=\"Num Differentia Bits\",\n",
    "        col=\"condition\",\n",
    "        row=\"policy\",\n",
    "        data=df_group,\n",
    "        kind=\"bar\",\n",
    "        margin_titles=True,\n",
    "        teeplot_outattrs={\n",
    "            \"tree-comparison-metric\" : slugify(metric),\n",
    "        }\n",
    "    )\n"
   ]
  },
  {
   "cell_type": "markdown",
   "id": "661788c1",
   "metadata": {},
   "source": [
    "# summarize RPR vs TDPR outcomes"
   ]
  },
  {
   "cell_type": "code",
   "execution_count": null,
   "id": "351d570d",
   "metadata": {},
   "outputs": [],
   "source": [
    "for metric, df_distfun in df_results.groupby(\"Tree Comparison Metric\"):\n",
    "\n",
    "    num_RPR_greater, num_TDPR_greater, num_equivalent, num_nan = 0, 0, 0, 0\n",
    "\n",
    "    for __, df_group in df_distfun.groupby([\n",
    "        \"condition\",\n",
    "        \"Num Differentia Bits\",\n",
    "        \"Num Column Bits\",\n",
    "    ]):\n",
    "        result = {\n",
    "            policy : ip.popsingleton(df_subgroup[\"score\"])\n",
    "            for policy, df_subgroup in df_group.groupby(\"policy\")\n",
    "        }\n",
    "        num_RPR_greater += result[\"RPR\"] > result[\"TDPR\"]\n",
    "        num_TDPR_greater += result[\"TDPR\"] > result[\"RPR\"]\n",
    "        num_equivalent += result[\"TDPR\"] == result[\"RPR\"]\n",
    "        num_nan += math.isnan(result[\"RPR\"]) or math.isnan(result[\"TDPR\"])\n",
    "        \n",
    "    print(f\"{metric=}\")\n",
    "    print(f\"   {num_RPR_greater=}\")\n",
    "    print(f\"   {num_TDPR_greater=}\")\n",
    "    print(f\"   {num_equivalent=}\")\n",
    "    print(f\"   {num_nan=}\")\n",
    "    "
   ]
  },
  {
   "cell_type": "code",
   "execution_count": null,
   "id": "1576a586",
   "metadata": {},
   "outputs": [],
   "source": [
    "df_policy = df_results.pivot(\n",
    "    index=[\n",
    "        \"Tree Comparison Metric\",\n",
    "        \"condition\",\n",
    "        \"Num Differentia Bits\",\n",
    "        \"Num Column Bits\",\n",
    "    ],\n",
    "    columns=\"policy\",\n",
    "    values=\"score\",\n",
    ").reset_index()\n",
    "df_policy[\"sign\"] = df_policy[\"TDPR\"] > df_policy[\"RPR\"]\n",
    "df_policy.loc[\n",
    "    df_policy[\"RPR\"].isna() | df_policy[\"TDPR\"].isna(),\n",
    "    \"sign\",  \n",
    "] = float('nan')\n",
    "\n",
    "# save as csv for inclusion in PDF appendices\n",
    "os.makedirs(\"outplots\", exist_ok=True)\n",
    "df_policy.to_csv(\"outplots/reconstruction_quality_results_by_policy.csv\", index=False)\n",
    "\n",
    "df_policy\n"
   ]
  },
  {
   "cell_type": "markdown",
   "id": "d6dbc2eb",
   "metadata": {},
   "source": [
    "# summarize differentia bits outcomes"
   ]
  },
  {
   "cell_type": "code",
   "execution_count": null,
   "id": "d2dec0ea",
   "metadata": {},
   "outputs": [],
   "source": [
    "for metric, df_distfun in df_results.groupby(\"Tree Comparison Metric\"):\n",
    "\n",
    "    num_1bit_greater, num_64bit_greater, num_equivalent, num_nan = 0, 0, 0, 0\n",
    "\n",
    "    for __, df_group in df_distfun.groupby([\n",
    "        \"condition\",\n",
    "        \"policy\",\n",
    "        \"Num Column Bits\",\n",
    "    ]):\n",
    "        result = {\n",
    "            int(num_differentia_bits) : ip.popsingleton(df_subgroup[\"score\"])\n",
    "            for num_differentia_bits, df_subgroup in df_group.groupby(\"Num Differentia Bits\")\n",
    "        }\n",
    "        num_1bit_greater += result[1] > result[64]\n",
    "        num_64bit_greater += result[64] > result[1]\n",
    "        num_equivalent += result[64] == result[1]\n",
    "        num_nan += math.isnan(result[64]) or math.isnan(result[1])\n",
    "        \n",
    "    print(f\"{metric=}\")\n",
    "    print(f\"   {num_1bit_greater=}\")\n",
    "    print(f\"   {num_64bit_greater=}\")\n",
    "    print(f\"   {num_equivalent=}\")\n",
    "    print(f\"   {num_nan=}\")\n",
    "    "
   ]
  },
  {
   "cell_type": "code",
   "execution_count": null,
   "id": "e157fcd4",
   "metadata": {},
   "outputs": [],
   "source": [
    "df_diffbits = df_results.pivot(\n",
    "    index=[\n",
    "        \"Tree Comparison Metric\",\n",
    "        \"condition\",\n",
    "        \"policy\",\n",
    "        \"Num Column Bits\",\n",
    "    ],\n",
    "    columns=\"Num Differentia Bits\",\n",
    "    values=\"score\",\n",
    ").reset_index()\n",
    "df_diffbits[\"sign\"] = df_diffbits[64] > df_diffbits[1]\n",
    "df_diffbits.loc[\n",
    "    df_diffbits[64].isna() | df_diffbits[1].isna(),\n",
    "    \"sign\",  \n",
    "] = float('nan')\n",
    "\n",
    "# save as csv for inclusion in PDF appendices\n",
    "os.makedirs(\"outplots\", exist_ok=True)\n",
    "df_diffbits.to_csv(\"outplots/reconstruction_quality_results_by_differentia_bits.csv\", index=False)\n",
    "\n",
    "df_diffbits\n"
   ]
  }
 ],
 "metadata": {
  "kernelspec": {
   "display_name": "Python 3",
   "language": "python",
   "name": "python3"
  }
 },
 "nbformat": 4,
 "nbformat_minor": 5
}
