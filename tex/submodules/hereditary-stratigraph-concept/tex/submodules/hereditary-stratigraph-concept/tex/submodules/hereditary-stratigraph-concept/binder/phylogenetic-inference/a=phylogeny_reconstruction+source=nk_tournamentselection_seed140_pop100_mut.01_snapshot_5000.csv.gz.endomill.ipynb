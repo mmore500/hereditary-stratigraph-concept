{
 "cells": [
  {
   "cell_type": "code",
   "execution_count": 1,
   "id": "694b955a",
   "metadata": {
    "execution": {
     "iopub.execute_input": "2022-03-11T16:33:52.462481Z",
     "iopub.status.busy": "2022-03-11T16:33:52.462226Z",
     "iopub.status.idle": "2022-03-11T16:33:52.468163Z",
     "shell.execute_reply": "2022-03-11T16:33:52.467581Z"
    },
    "papermill": {
     "duration": 0.02125,
     "end_time": "2022-03-11T16:33:52.469400",
     "exception": false,
     "start_time": "2022-03-11T16:33:52.448150",
     "status": "completed"
    },
    "tags": [
     "injected-parameters"
    ]
   },
   "outputs": [],
   "source": [
    "# Parameters\n",
    "data_url = \"https://github.com/mmore500/hereditary-stratigraph-concept/blob/f21c71cc31c6cc3eed4bbd47bfce2208020ce930/binder/phylogenetic-inference/a=pairwise_mrca_estimates+source=nk_tournamentselection_seed140_pop100_mut.01_snapshot_5000.csv.gz\"\n"
   ]
  },
  {
   "cell_type": "code",
   "execution_count": 2,
   "id": "43168120",
   "metadata": {
    "execution": {
     "iopub.execute_input": "2022-03-11T16:33:52.491824Z",
     "iopub.status.busy": "2022-03-11T16:33:52.491550Z",
     "iopub.status.idle": "2022-03-11T16:33:53.149689Z",
     "shell.execute_reply": "2022-03-11T16:33:53.149123Z"
    },
    "papermill": {
     "duration": 0.671259,
     "end_time": "2022-03-11T16:33:53.151285",
     "exception": false,
     "start_time": "2022-03-11T16:33:52.480026",
     "status": "completed"
    },
    "tags": []
   },
   "outputs": [],
   "source": [
    "import endomill\n",
    "from nbmetalog import nbmetalog as nbm\n"
   ]
  },
  {
   "cell_type": "code",
   "execution_count": 3,
   "id": "9e952e50",
   "metadata": {
    "execution": {
     "iopub.execute_input": "2022-03-11T16:33:53.176834Z",
     "iopub.status.busy": "2022-03-11T16:33:53.176609Z",
     "iopub.status.idle": "2022-03-11T16:33:53.446978Z",
     "shell.execute_reply": "2022-03-11T16:33:53.446389Z"
    },
    "papermill": {
     "duration": 0.285762,
     "end_time": "2022-03-11T16:33:53.448703",
     "exception": false,
     "start_time": "2022-03-11T16:33:53.162941",
     "status": "completed"
    },
    "tags": []
   },
   "outputs": [
    {
     "name": "stdout",
     "output_type": "stream",
     "text": [
      "context: ci\n",
      "hostname: 1c08192c2c1d\n",
      "interpreter: 3.8.12 (default, Jan 15 2022, 18:39:47)  [GCC 7.5.0]\n",
      "nbcellexec: 3\n",
      "nbname: phylogeny_reconstruction_mill\n",
      "nbpath: /opt/hereditary-stratigraph-concept/binder/phylogenetic-inference/phylogeny_reconstruction_mill.ipynb\n",
      "revision: null\n",
      "session: 26db6dbb-6c9b-42a8-9747-e87ff956419a\n",
      "timestamp: 2022-03-11T16:33:53Z00:00\n",
      "\n",
      "\n",
      "IPython==7.16.1\n",
      "keyname==0.4.1\n",
      "yaml==5.3.1\n",
      "endomill==0.1.3\n",
      "nbmetalog==0.2.6\n",
      "re==2.2.1\n",
      "ipython_genutils==0.2.0\n",
      "logging==0.5.1.2\n",
      "zmq==22.3.0\n",
      "json==2.0.9\n",
      "ipykernel==5.5.3\n"
     ]
    }
   ],
   "source": [
    "nbm.print_metadata()\n"
   ]
  },
  {
   "cell_type": "code",
   "execution_count": 4,
   "id": "cfa4036c",
   "metadata": {
    "execution": {
     "iopub.execute_input": "2022-03-11T16:33:53.474658Z",
     "iopub.status.busy": "2022-03-11T16:33:53.474451Z",
     "iopub.status.idle": "2022-03-11T16:33:53.478675Z",
     "shell.execute_reply": "2022-03-11T16:33:53.478130Z"
    },
    "papermill": {
     "duration": 0.019805,
     "end_time": "2022-03-11T16:33:53.480796",
     "exception": false,
     "start_time": "2022-03-11T16:33:53.460991",
     "status": "completed"
    },
    "tags": []
   },
   "outputs": [
    {
     "name": "stdout",
     "output_type": "stream",
     "text": [
      "detected executing.endomill.ipynb file\n",
      "skipping instantiate_over\n"
     ]
    }
   ],
   "source": [
    "base_url = (\n",
    "    'https://github.com/mmore500/hereditary-stratigraph-concept/'\n",
    "    'blob/f21c71cc31c6cc3eed4bbd47bfce2208020ce930/'\n",
    "    'binder/phylogenetic-inference/'\n",
    ")\n",
    "\n",
    "data_urls = [\n",
    "    base_url + 'a=pairwise_mrca_estimates+source=nk_ecoeaselection_seed110_pop100_mut.01_snapshot_3000.csv.gz',\n",
    "    base_url + 'a=pairwise_mrca_estimates+source=nk_lexicaseselection_seed110_pop165_mut.01_snapshot_500.csv.gz',\n",
    "    base_url + 'a=pairwise_mrca_estimates+source=nk_randomselection_seed7_pop100_mut.01_snapshot_5000.csv.gz',\n",
    "    base_url + 'a=pairwise_mrca_estimates+source=nk_sharingselection_seed10_pop100_mut.01_snapshot_5000.csv.gz',\n",
    "    base_url + 'a=pairwise_mrca_estimates+source=nk_tournamentselection_seed140_pop100_mut.01_snapshot_5000.csv.gz',\n",
    "]\n",
    "\n",
    "endomill.instantiate_over(\n",
    "    parameter_packs=[\n",
    "        {'data_url': data_url}\n",
    "        for data_url in data_urls\n",
    "    ],\n",
    ")\n"
   ]
  },
  {
   "cell_type": "code",
   "execution_count": 5,
   "id": "1b1df996",
   "metadata": {
    "execution": {
     "iopub.execute_input": "2022-03-11T16:33:53.507698Z",
     "iopub.status.busy": "2022-03-11T16:33:53.507479Z",
     "iopub.status.idle": "2022-03-11T16:33:53.510054Z",
     "shell.execute_reply": "2022-03-11T16:33:53.509537Z"
    },
    "papermill": {
     "duration": 0.017827,
     "end_time": "2022-03-11T16:33:53.511392",
     "exception": false,
     "start_time": "2022-03-11T16:33:53.493565",
     "status": "completed"
    },
    "tags": []
   },
   "outputs": [],
   "source": [
    "#define papermil parameters\n",
    "data_url: str\n"
   ]
  },
  {
   "cell_type": "code",
   "execution_count": 6,
   "id": "93bdf660",
   "metadata": {
    "execution": {
     "iopub.execute_input": "2022-03-11T16:33:53.537881Z",
     "iopub.status.busy": "2022-03-11T16:33:53.537675Z",
     "iopub.status.idle": "2022-03-11T16:33:53.933473Z",
     "shell.execute_reply": "2022-03-11T16:33:53.932883Z"
    },
    "papermill": {
     "duration": 0.411452,
     "end_time": "2022-03-11T16:33:53.935476",
     "exception": false,
     "start_time": "2022-03-11T16:33:53.524024",
     "status": "completed"
    },
    "tags": []
   },
   "outputs": [],
   "source": [
    "import alifedata_phyloinformatics_convert as apc\n",
    "from Bio import Phylo\n",
    "from Bio.Phylo.TreeConstruction import DistanceMatrix, DistanceTreeConstructor\n",
    "from collections import Counter\n",
    "from iterpop import iterpop as ip\n",
    "import itertools as it\n",
    "from keyname import keyname as kn\n",
    "from matplotlib import pyplot as plt\n",
    "import numpy as np\n",
    "from os.path import basename\n",
    "import pandas as pd\n",
    "import sys\n",
    "from teeplot import teeplot as tp\n",
    "from tqdm import tqdm\n",
    "import warnings\n"
   ]
  },
  {
   "cell_type": "code",
   "execution_count": 7,
   "id": "d8ee15c1",
   "metadata": {
    "execution": {
     "iopub.execute_input": "2022-03-11T16:33:53.963944Z",
     "iopub.status.busy": "2022-03-11T16:33:53.963705Z",
     "iopub.status.idle": "2022-03-11T16:33:53.967541Z",
     "shell.execute_reply": "2022-03-11T16:33:53.966975Z"
    },
    "papermill": {
     "duration": 0.020212,
     "end_time": "2022-03-11T16:33:53.968961",
     "exception": false,
     "start_time": "2022-03-11T16:33:53.948749",
     "status": "completed"
    },
    "tags": []
   },
   "outputs": [],
   "source": [
    "from pylib import draw_biopython_tree_with_origin_time_bounds\n"
   ]
  },
  {
   "cell_type": "code",
   "execution_count": 8,
   "id": "cbd4bf79",
   "metadata": {
    "execution": {
     "iopub.execute_input": "2022-03-11T16:33:53.998765Z",
     "iopub.status.busy": "2022-03-11T16:33:53.998516Z",
     "iopub.status.idle": "2022-03-11T16:33:54.226486Z",
     "shell.execute_reply": "2022-03-11T16:33:54.225826Z"
    },
    "papermill": {
     "duration": 0.244423,
     "end_time": "2022-03-11T16:33:54.228265",
     "exception": false,
     "start_time": "2022-03-11T16:33:53.983842",
     "status": "completed"
    },
    "tags": []
   },
   "outputs": [
    {
     "name": "stdout",
     "output_type": "stream",
     "text": [
      "context: ci\n",
      "hostname: 1c08192c2c1d\n",
      "interpreter: 3.8.12 (default, Jan 15 2022, 18:39:47)  [GCC 7.5.0]\n",
      "nbcellexec: 8\n",
      "nbname: phylogeny_reconstruction_mill\n",
      "nbpath: /opt/hereditary-stratigraph-concept/binder/phylogenetic-inference/phylogeny_reconstruction_mill.ipynb\n",
      "revision: null\n",
      "session: 26db6dbb-6c9b-42a8-9747-e87ff956419a\n",
      "timestamp: 2022-03-11T16:33:54Z00:00\n",
      "\n",
      "\n",
      "IPython==7.16.1\n",
      "endomill==0.1.3\n",
      "ipykernel==5.5.3\n",
      "ipython_genutils==0.2.0\n",
      "json==2.0.9\n",
      "keyname==0.4.1\n",
      "logging==0.5.1.2\n",
      "nbmetalog==0.2.6\n",
      "re==2.2.1\n",
      "yaml==5.3.1\n",
      "zmq==22.3.0\n",
      "Bio==1.79\n",
      "alifedata_phyloinformatics_convert==0.6.0\n",
      "iterpop==0.4.0\n",
      "matplotlib==3.3.2\n",
      "numpy==1.21.5\n",
      "pandas==1.1.2\n",
      "teeplot==0.2.0\n"
     ]
    }
   ],
   "source": [
    "nbm.print_metadata()\n"
   ]
  },
  {
   "cell_type": "code",
   "execution_count": 9,
   "id": "c6f02263",
   "metadata": {
    "execution": {
     "iopub.execute_input": "2022-03-11T16:33:54.253847Z",
     "iopub.status.busy": "2022-03-11T16:33:54.253642Z",
     "iopub.status.idle": "2022-03-11T16:33:54.548380Z",
     "shell.execute_reply": "2022-03-11T16:33:54.547940Z"
    },
    "papermill": {
     "duration": 0.308877,
     "end_time": "2022-03-11T16:33:54.549875",
     "exception": false,
     "start_time": "2022-03-11T16:33:54.240998",
     "status": "completed"
    },
    "tags": []
   },
   "outputs": [
    {
     "name": "stdout",
     "output_type": "stream",
     "text": [
      "digest: aefcf217686f36fccfd37e50fb2e5b8fcbecd4abd7c2e10ca2ee27a01068ae37\n",
      "manifest:\n",
      "  Column Configuration: '                              18#        ex., actual_bits=56+actual_strata=7+bits_error=-8+differentia=8+policy=TaperedDepthProportionalResolution+resolution=3+target_bits=64'\n",
      "  Differentia Bit Width: '                             3#         ex., 8'\n",
      "  Generation Of MRCA Lower Bound (inclusive): '        11#,266na  ex., 0.0'\n",
      "  Generation Of MRCA Upper Bound (exclusive): '        19#,266na  ex., 1024.0'\n",
      "  Generation of Taxon Compared From: '                 2#         ex., 5001'\n",
      "  Generation of Taxon Compared To: '                   2#         ex., 5001'\n",
      "  MRCA Bound Confidence: '                             3#         ex., 0.99609375'\n",
      "  Rank of Earliest Detectable Mrca With: '             6#         ex., 0'\n",
      "  Stratigraphic Column Actual Num Retained Strata: '   7#         ex., 7'\n",
      "  Stratigraphic Column Expected Retained Bits: '       14#        ex., 56'\n",
      "  Stratigraphic Column Expected Retained Bits Error: ' 9#         ex., -8'\n",
      "  Stratigraphic Column Mean Actual Retained Bits: '    17#        ex., 56.0'\n",
      "  Stratigraphic Column Target Retained Bits: '         3#         ex., 64'\n",
      "  Stratum Retention Policy: '                          2#         ex., TaperedDepthProportionalResolution'\n",
      "  Stratum Retention Policy Resolution Parameter: '     9#         ex., 3'\n",
      "  Taxon Compared From: '                               9#         ex., 47645'\n",
      "  Taxon Compared To: '                                 9#         ex., 47644'\n",
      "  'Unnamed: 0': '                                        1296#      ex., 1'\n",
      "num cols: 18\n",
      "num cols all na: 0\n",
      "num cols any na: 2\n",
      "num na: 532\n",
      "num rows: 1296\n",
      "num rows all na: 0\n",
      "num rows any na: 266\n",
      "size: 511K\n",
      "\n",
      "a=pairwise_mrca_estimates+source=nk_tournamentselection_seed140_pop100_mut.01_snapshot_5000.csv.gz\n"
     ]
    }
   ],
   "source": [
    "df = pd.read_csv(\n",
    "    f'{data_url}?raw=true',\n",
    "    compression='gzip',\n",
    ")\n",
    "\n",
    "nbm.print_dataframe_synopsis(df)\n",
    "\n",
    "data_filename = basename(data_url)\n",
    "\n",
    "print(data_filename)\n"
   ]
  },
  {
   "cell_type": "code",
   "execution_count": 10,
   "id": "99353f23",
   "metadata": {
    "execution": {
     "iopub.execute_input": "2022-03-11T16:33:54.575571Z",
     "iopub.status.busy": "2022-03-11T16:33:54.575391Z",
     "iopub.status.idle": "2022-03-11T16:33:54.578816Z",
     "shell.execute_reply": "2022-03-11T16:33:54.578373Z"
    },
    "papermill": {
     "duration": 0.01791,
     "end_time": "2022-03-11T16:33:54.580080",
     "exception": false,
     "start_time": "2022-03-11T16:33:54.562170",
     "status": "completed"
    },
    "tags": []
   },
   "outputs": [],
   "source": [
    "endomill.add_instance_outpath(\n",
    "    f'a=phylogeny_reconstruction+source={kn.unpack(data_filename)[\"source\"]}.endomill.ipynb'\n",
    ")\n"
   ]
  },
  {
   "cell_type": "code",
   "execution_count": 11,
   "id": "b6ef96a8",
   "metadata": {
    "execution": {
     "iopub.execute_input": "2022-03-11T16:33:54.605440Z",
     "iopub.status.busy": "2022-03-11T16:33:54.605253Z",
     "iopub.status.idle": "2022-03-11T16:33:54.633582Z",
     "shell.execute_reply": "2022-03-11T16:33:54.633026Z"
    },
    "papermill": {
     "duration": 0.043389,
     "end_time": "2022-03-11T16:33:54.635588",
     "exception": false,
     "start_time": "2022-03-11T16:33:54.592199",
     "status": "completed"
    },
    "tags": []
   },
   "outputs": [],
   "source": [
    "df['Treatment'] = df.apply(\n",
    "    lambda row: kn.pack({\n",
    "        'target': row['Stratigraphic Column Target Retained Bits'],\n",
    "        'differentia': row['Differentia Bit Width'],\n",
    "        'policy': row['Stratum Retention Policy'],\n",
    "    }),\n",
    "    axis=1,\n",
    ")\n"
   ]
  },
  {
   "cell_type": "code",
   "execution_count": 12,
   "id": "035d925f",
   "metadata": {
    "execution": {
     "iopub.execute_input": "2022-03-11T16:33:54.661721Z",
     "iopub.status.busy": "2022-03-11T16:33:54.661514Z",
     "iopub.status.idle": "2022-03-11T16:33:54.664666Z",
     "shell.execute_reply": "2022-03-11T16:33:54.664077Z"
    },
    "papermill": {
     "duration": 0.017865,
     "end_time": "2022-03-11T16:33:54.666079",
     "exception": false,
     "start_time": "2022-03-11T16:33:54.648214",
     "status": "completed"
    },
    "tags": []
   },
   "outputs": [],
   "source": [
    "max_gen = df['Generation of Taxon Compared From'].max()\n"
   ]
  },
  {
   "cell_type": "code",
   "execution_count": 13,
   "id": "ad679605",
   "metadata": {
    "execution": {
     "iopub.execute_input": "2022-03-11T16:33:54.692055Z",
     "iopub.status.busy": "2022-03-11T16:33:54.691788Z",
     "iopub.status.idle": "2022-03-11T16:33:54.703120Z",
     "shell.execute_reply": "2022-03-11T16:33:54.702572Z"
    },
    "papermill": {
     "duration": 0.025961,
     "end_time": "2022-03-11T16:33:54.704333",
     "exception": false,
     "start_time": "2022-03-11T16:33:54.678372",
     "status": "completed"
    },
    "tags": []
   },
   "outputs": [],
   "source": [
    "def create_distance_matrix(df):\n",
    "    assert len(df['Treatment'].unique() == 1)\n",
    "\n",
    "    counter = it.count()\n",
    "    taxon_to_index = {\n",
    "        taxon : next(counter)\n",
    "        for taxon in df['Taxon Compared From'].unique()\n",
    "    }\n",
    "    label_list = sorted(\n",
    "        [*df['Taxon Compared From'].unique()],\n",
    "        key=lambda x: taxon_to_index[x],\n",
    "    )\n",
    "    assert len(label_list) == len(taxon_to_index)\n",
    "\n",
    "    def row_to_mrca_time_mid(row):\n",
    "        mrca_lb = row['Generation Of MRCA Lower Bound (inclusive)']\n",
    "        mrca_ub = row['Generation Of MRCA Upper Bound (exclusive)']\n",
    "        earliest_detectable_mrca = row['Rank of Earliest Detectable Mrca With']\n",
    "        taxon1_gen = row['Generation of Taxon Compared From']\n",
    "        taxon2_gen = row['Generation of Taxon Compared To']\n",
    "\n",
    "        if not np.isnan(mrca_lb) and not np.isnan(mrca_ub):\n",
    "            return (mrca_lb + mrca_ub - 1) / 2 # ub is exclusive\n",
    "        elif earliest_detectable_mrca == 0:\n",
    "            # we are confident that no mrca exists, but return 0\n",
    "            return 0\n",
    "        elif np.isnan(mrca_ub) and not np.isnan(earliest_detectable_mrca):\n",
    "            assert np.isnan(mrca_lb)\n",
    "            return (earliest_detectable_mrca - 1) / 2 # exclusive\n",
    "        else:\n",
    "            assert np.isnan(mrca_lb) and np.isnan(mrca_ub) and np.isnan(earliest_detectable_mrca)\n",
    "            ub = min(taxon1_gen, taxon2_gen)\n",
    "            return ub / 2\n",
    "    mrca_time_mid_dict = {\n",
    "        (row['Taxon Compared From'], row['Taxon Compared To']):\n",
    "             row_to_mrca_time_mid(row)\n",
    "        for __, row in df.iterrows()\n",
    "    }\n",
    "    assert not any(np.isnan(x) for x in mrca_time_mid_dict.values())\n",
    "\n",
    "    distance_dict = {\n",
    "        (taxon_to_index[row['Taxon Compared From']], taxon_to_index[row['Taxon Compared To']]):\n",
    "            row['Generation of Taxon Compared From']\n",
    "            + row['Generation of Taxon Compared To']\n",
    "            - 2 * mrca_time_mid_dict[\n",
    "                (row['Taxon Compared From'], row['Taxon Compared To'])\n",
    "            ]\n",
    "        for __, row in df.iterrows()\n",
    "    }\n",
    "    assert not any(np.isnan(x) for x in distance_dict.values())\n",
    "\n",
    "    distance_matrix = np.array([\n",
    "        [\n",
    "            float(distance_dict[(i, j)] + distance_dict[(j, i)])\n",
    "            if i != j\n",
    "            else 0.0\n",
    "            for j in range(len(taxon_to_index))\n",
    "        ]\n",
    "        for i in range(len(taxon_to_index))\n",
    "    ])\n",
    "\n",
    "    return distance_matrix, label_list\n"
   ]
  },
  {
   "cell_type": "code",
   "execution_count": 14,
   "id": "5ab8472f",
   "metadata": {
    "execution": {
     "iopub.execute_input": "2022-03-11T16:33:54.730136Z",
     "iopub.status.busy": "2022-03-11T16:33:54.729945Z",
     "iopub.status.idle": "2022-03-11T16:33:54.732997Z",
     "shell.execute_reply": "2022-03-11T16:33:54.732482Z"
    },
    "papermill": {
     "duration": 0.01764,
     "end_time": "2022-03-11T16:33:54.734294",
     "exception": false,
     "start_time": "2022-03-11T16:33:54.716654",
     "status": "completed"
    },
    "tags": []
   },
   "outputs": [],
   "source": [
    "def to_tril(matrix):\n",
    "    return [\n",
    "        row[:row_idx] + [0]\n",
    "        for row_idx, row in enumerate(matrix.tolist())\n",
    "    ]\n"
   ]
  },
  {
   "cell_type": "code",
   "execution_count": 15,
   "id": "570e787f",
   "metadata": {
    "execution": {
     "iopub.execute_input": "2022-03-11T16:33:54.763956Z",
     "iopub.status.busy": "2022-03-11T16:33:54.763746Z",
     "iopub.status.idle": "2022-03-11T16:33:54.779437Z",
     "shell.execute_reply": "2022-03-11T16:33:54.778920Z"
    },
    "papermill": {
     "duration": 0.032023,
     "end_time": "2022-03-11T16:33:54.780732",
     "exception": false,
     "start_time": "2022-03-11T16:33:54.748709",
     "status": "completed"
    },
    "tags": []
   },
   "outputs": [],
   "source": [
    "def distance_construct_tree(df, algorithm):\n",
    "    def row_to_mrca_time_lb(row):\n",
    "        mrca_lb = row['Generation Of MRCA Lower Bound (inclusive)']\n",
    "        if not np.isnan(mrca_lb):\n",
    "            return mrca_lb\n",
    "        else:\n",
    "            assert np.isnan(row['Generation Of MRCA Upper Bound (exclusive)'])\n",
    "            return 0\n",
    "    mrca_time_lb_dict = {\n",
    "        (row['Taxon Compared From'], row['Taxon Compared To']):\n",
    "            row_to_mrca_time_lb(row)\n",
    "        for __, row in df.iterrows()\n",
    "    }\n",
    "    assert not any(np.isnan(x) for x in mrca_time_lb_dict.values())\n",
    "\n",
    "    def row_to_mrca_time_ub(row):\n",
    "        mrca_ub = row['Generation Of MRCA Upper Bound (exclusive)']\n",
    "        earliest_detectable_mrca = row['Rank of Earliest Detectable Mrca With']\n",
    "        taxon1_gen = row['Generation of Taxon Compared From']\n",
    "        taxon2_gen = row['Generation of Taxon Compared To']\n",
    "        if not np.isnan(mrca_ub):\n",
    "            return mrca_ub\n",
    "        elif not np.isnan(earliest_detectable_mrca):\n",
    "            return earliest_detectable_mrca\n",
    "        else:\n",
    "            assert np.isnan(mrca_ub) and np.isnan(earliest_detectable_mrca)\n",
    "            return min(taxon1_gen, taxon2_gen) + 1 #exclusive\n",
    "    mrca_time_ub_dict = {\n",
    "        (row['Taxon Compared From'], row['Taxon Compared To']):\n",
    "            row_to_mrca_time_ub(row)\n",
    "        for __, row in df.iterrows()\n",
    "    }\n",
    "    assert not any(np.isnan(x) for x in mrca_time_ub_dict.values())\n",
    "\n",
    "    for __, row in df.iterrows():\n",
    "        mrca_time_lb_dict[(row['Taxon Compared From'], row['Taxon Compared From'])] \\\n",
    "            = row['Generation of Taxon Compared From'] # inclusive\n",
    "        mrca_time_ub_dict[(row['Taxon Compared From'], row['Taxon Compared From'])] \\\n",
    "            = row['Generation of Taxon Compared From'] + 1 # exclusive\n",
    "\n",
    "\n",
    "    assert len(df['Treatment'].unique() == 1)\n",
    "    distance_matrix, label_list = create_distance_matrix(df)\n",
    "    assert not np.isnan(distance_matrix.sum())\n",
    "    dm = DistanceMatrix([*map(str, label_list)], to_tril(distance_matrix))\n",
    "    tree = getattr(DistanceTreeConstructor(), algorithm)(dm)\n",
    "\n",
    "    # fixup orign times\n",
    "    for node in tree.find_clades():\n",
    "        node.origin_time_lbs = []\n",
    "        node.origin_time_ubs = []\n",
    "\n",
    "    for leaf1, leaf2 in it.product(tree.get_terminals(), tree.get_terminals()):\n",
    "        mrca_node = tree.common_ancestor(leaf1, leaf2)\n",
    "        if leaf1 == leaf2:\n",
    "            assert mrca_node == leaf1\n",
    "\n",
    "        mrca_time_lb = mrca_time_lb_dict[(int(leaf1.name), int(leaf2.name))]\n",
    "        assert not np.isnan(mrca_time_lb)\n",
    "        mrca_node.origin_time_lbs.append(mrca_time_lb)\n",
    "\n",
    "        mrca_time_ub = mrca_time_ub_dict[(int(leaf1.name), int(leaf2.name))]\n",
    "        assert not np.isnan(mrca_time_ub)\n",
    "        mrca_node.origin_time_ubs.append(mrca_time_ub)\n",
    "\n",
    "    for node in tree.find_clades():\n",
    "        assert node.origin_time_lbs\n",
    "        assert node.origin_time_ubs\n",
    "\n",
    "        # upper bound is a hard bound,\n",
    "        # so anything above the lowest upper bound\n",
    "        # is strictly impossible\n",
    "        node.origin_time_ub = np.min(node.origin_time_ubs)\n",
    "\n",
    "        # to calculate the consolidated lower bound\n",
    "        # find all bounds with an upper component that is\n",
    "        # has not been undercut\n",
    "        # and then pick the strictest among those\n",
    "        node.origin_time_lb = np.max([\n",
    "            lb\n",
    "            for lb, ub in zip(\n",
    "                node.origin_time_lbs,\n",
    "                node.origin_time_ubs,\n",
    "            )\n",
    "            if ub <= node.origin_time_ub\n",
    "        ])\n",
    "\n",
    "        assert node.origin_time_ub > node.origin_time_lb\n",
    "\n",
    "        node.origin_time_est = np.mean([node.origin_time_lb, node.origin_time_ub - 1])\n",
    "\n",
    "    # reroot tree\n",
    "    new_root = min(tree.find_clades(), key=lambda node: node.origin_time_est)\n",
    "    tree.root_with_outgroup(new_root)\n",
    "\n",
    "    # fixup branch lengths\n",
    "    tree.root.branch_length = tree.root.origin_time_est\n",
    "    for node in tree.find_clades():\n",
    "        for child in node.clades:\n",
    "            child.branch_length = child.origin_time_est - node.origin_time_est\n",
    "\n",
    "    # sort clades for consistent display\n",
    "    for node in tree.find_clades(order='postorder'):\n",
    "        if node.clades:\n",
    "            node.max_descendant = max(child.max_descendant for child in node.clades)\n",
    "        else:\n",
    "            node.max_descendant = int(node.name)\n",
    "        node.clades.sort(key=lambda node: node.max_descendant)\n",
    "\n",
    "    return tree\n"
   ]
  },
  {
   "cell_type": "code",
   "execution_count": 16,
   "id": "61b3db07",
   "metadata": {
    "execution": {
     "iopub.execute_input": "2022-03-11T16:33:54.810233Z",
     "iopub.status.busy": "2022-03-11T16:33:54.810009Z",
     "iopub.status.idle": "2022-03-11T16:33:55.393817Z",
     "shell.execute_reply": "2022-03-11T16:33:55.393072Z"
    },
    "papermill": {
     "duration": 0.600321,
     "end_time": "2022-03-11T16:33:55.395162",
     "exception": false,
     "start_time": "2022-03-11T16:33:54.794841",
     "status": "completed"
    },
    "tags": []
   },
   "outputs": [
    {
     "name": "stderr",
     "output_type": "stream",
     "text": [
      "\r",
      "  0%|          | 0/18 [00:00<?, ?it/s]"
     ]
    },
    {
     "name": "stderr",
     "output_type": "stream",
     "text": [
      "\r",
      " 22%|██▏       | 4/18 [00:00<00:00, 30.92it/s]"
     ]
    },
    {
     "name": "stderr",
     "output_type": "stream",
     "text": [
      "\r",
      " 44%|████▍     | 8/18 [00:00<00:00, 31.03it/s]"
     ]
    },
    {
     "name": "stderr",
     "output_type": "stream",
     "text": [
      "\r",
      " 67%|██████▋   | 12/18 [00:00<00:00, 31.24it/s]"
     ]
    },
    {
     "name": "stderr",
     "output_type": "stream",
     "text": [
      "\r",
      " 89%|████████▉ | 16/18 [00:00<00:00, 31.33it/s]"
     ]
    },
    {
     "name": "stderr",
     "output_type": "stream",
     "text": [
      "\r",
      "100%|██████████| 18/18 [00:00<00:00, 31.42it/s]"
     ]
    },
    {
     "name": "stderr",
     "output_type": "stream",
     "text": [
      "\n"
     ]
    }
   ],
   "source": [
    "def nj(df): return distance_construct_tree(df, 'nj')\n",
    "def upgma(df): return distance_construct_tree(df, 'upgma')\n",
    "\n",
    "trees = {\n",
    "    (treatment, algorithm): algorithm(group)\n",
    "    for treatment, group in tqdm(df.groupby('Treatment'))\n",
    "    for algorithm in (\n",
    "        # disabled nj due to obvious discrepancies\n",
    "        # with respect to origin time of internal nodes\n",
    "        # that break assertions\n",
    "        # nj,\n",
    "        upgma,\n",
    "    )\n",
    "}\n"
   ]
  },
  {
   "cell_type": "code",
   "execution_count": 17,
   "id": "a47fc2ba",
   "metadata": {
    "execution": {
     "iopub.execute_input": "2022-03-11T16:33:55.424908Z",
     "iopub.status.busy": "2022-03-11T16:33:55.424720Z",
     "iopub.status.idle": "2022-03-11T16:34:00.578222Z",
     "shell.execute_reply": "2022-03-11T16:34:00.577682Z"
    },
    "papermill": {
     "duration": 5.169981,
     "end_time": "2022-03-11T16:34:00.579563",
     "exception": false,
     "start_time": "2022-03-11T16:33:55.409582",
     "status": "completed"
    },
    "tags": []
   },
   "outputs": [
    {
     "data": {
      "image/png": "[encoded data removed]",
      "text/plain": [
       "<Figure size 432x288 with 1 Axes>"
      ]
     },
     "metadata": {
      "needs_background": "light"
     },
     "output_type": "display_data"
    },
    {
     "name": "stdout",
     "output_type": "stream",
     "text": [
      "teeplots/algorithm=upgma+treatment=differentia%1~policy%RecencyProportionalResolution~target%4096+viz=draw-biopython-tree-with-origin-time-bounds+ext=.pdf\n",
      "teeplots/algorithm=upgma+treatment=differentia%1~policy%RecencyProportionalResolution~target%4096+viz=draw-biopython-tree-with-origin-time-bounds+ext=.png\n"
     ]
    },
    {
     "data": {
      "text/plain": [
       "<Figure size 432x288 with 0 Axes>"
      ]
     },
     "metadata": {},
     "output_type": "display_data"
    },
    {
     "data": {
      "image/png": "[encoded data removed]",
      "text/plain": [
       "<Figure size 432x288 with 1 Axes>"
      ]
     },
     "metadata": {
      "needs_background": "light"
     },
     "output_type": "display_data"
    },
    {
     "name": "stdout",
     "output_type": "stream",
     "text": [
      "teeplots/algorithm=upgma+treatment=differentia%1~policy%RecencyProportionalResolution~target%512+viz=draw-biopython-tree-with-origin-time-bounds+ext=.pdf\n",
      "teeplots/algorithm=upgma+treatment=differentia%1~policy%RecencyProportionalResolution~target%512+viz=draw-biopython-tree-with-origin-time-bounds+ext=.png\n"
     ]
    },
    {
     "data": {
      "text/plain": [
       "<Figure size 432x288 with 0 Axes>"
      ]
     },
     "metadata": {},
     "output_type": "display_data"
    },
    {
     "data": {
      "image/png": "[encoded data removed]",
      "text/plain": [
       "<Figure size 432x288 with 1 Axes>"
      ]
     },
     "metadata": {
      "needs_background": "light"
     },
     "output_type": "display_data"
    },
    {
     "name": "stdout",
     "output_type": "stream",
     "text": [
      "teeplots/algorithm=upgma+treatment=differentia%1~policy%RecencyProportionalResolution~target%64+viz=draw-biopython-tree-with-origin-time-bounds+ext=.pdf\n",
      "teeplots/algorithm=upgma+treatment=differentia%1~policy%RecencyProportionalResolution~target%64+viz=draw-biopython-tree-with-origin-time-bounds+ext=.png\n"
     ]
    },
    {
     "data": {
      "text/plain": [
       "<Figure size 432x288 with 0 Axes>"
      ]
     },
     "metadata": {},
     "output_type": "display_data"
    },
    {
     "data": {
      "image/png": "[encoded data removed]",
      "text/plain": [
       "<Figure size 432x288 with 1 Axes>"
      ]
     },
     "metadata": {
      "needs_background": "light"
     },
     "output_type": "display_data"
    },
    {
     "name": "stdout",
     "output_type": "stream",
     "text": [
      "teeplots/algorithm=upgma+treatment=differentia%1~policy%TaperedDepthProportionalResolution~target%4096+viz=draw-biopython-tree-with-origin-time-bounds+ext=.pdf\n",
      "teeplots/algorithm=upgma+treatment=differentia%1~policy%TaperedDepthProportionalResolution~target%4096+viz=draw-biopython-tree-with-origin-time-bounds+ext=.png\n"
     ]
    },
    {
     "data": {
      "text/plain": [
       "<Figure size 432x288 with 0 Axes>"
      ]
     },
     "metadata": {},
     "output_type": "display_data"
    },
    {
     "data": {
      "image/png": "[encoded data removed]",
      "text/plain": [
       "<Figure size 432x288 with 1 Axes>"
      ]
     },
     "metadata": {
      "needs_background": "light"
     },
     "output_type": "display_data"
    },
    {
     "name": "stdout",
     "output_type": "stream",
     "text": [
      "teeplots/algorithm=upgma+treatment=differentia%1~policy%TaperedDepthProportionalResolution~target%512+viz=draw-biopython-tree-with-origin-time-bounds+ext=.pdf\n",
      "teeplots/algorithm=upgma+treatment=differentia%1~policy%TaperedDepthProportionalResolution~target%512+viz=draw-biopython-tree-with-origin-time-bounds+ext=.png\n"
     ]
    },
    {
     "data": {
      "text/plain": [
       "<Figure size 432x288 with 0 Axes>"
      ]
     },
     "metadata": {},
     "output_type": "display_data"
    },
    {
     "data": {
      "image/png": "[encoded data removed]",
      "text/plain": [
       "<Figure size 432x288 with 1 Axes>"
      ]
     },
     "metadata": {
      "needs_background": "light"
     },
     "output_type": "display_data"
    },
    {
     "name": "stdout",
     "output_type": "stream",
     "text": [
      "teeplots/algorithm=upgma+treatment=differentia%1~policy%TaperedDepthProportionalResolution~target%64+viz=draw-biopython-tree-with-origin-time-bounds+ext=.pdf\n",
      "teeplots/algorithm=upgma+treatment=differentia%1~policy%TaperedDepthProportionalResolution~target%64+viz=draw-biopython-tree-with-origin-time-bounds+ext=.png\n"
     ]
    },
    {
     "data": {
      "text/plain": [
       "<Figure size 432x288 with 0 Axes>"
      ]
     },
     "metadata": {},
     "output_type": "display_data"
    },
    {
     "data": {
      "image/png": "[encoded data removed]",
      "text/plain": [
       "<Figure size 432x288 with 1 Axes>"
      ]
     },
     "metadata": {
      "needs_background": "light"
     },
     "output_type": "display_data"
    },
    {
     "name": "stdout",
     "output_type": "stream",
     "text": [
      "teeplots/algorithm=upgma+treatment=differentia%64~policy%RecencyProportionalResolution~target%4096+viz=draw-biopython-tree-with-origin-time-bounds+ext=.pdf\n",
      "teeplots/algorithm=upgma+treatment=differentia%64~policy%RecencyProportionalResolution~target%4096+viz=draw-biopython-tree-with-origin-time-bounds+ext=.png\n"
     ]
    },
    {
     "data": {
      "text/plain": [
       "<Figure size 432x288 with 0 Axes>"
      ]
     },
     "metadata": {},
     "output_type": "display_data"
    },
    {
     "data": {
      "image/png": "[encoded data removed]",
      "text/plain": [
       "<Figure size 432x288 with 1 Axes>"
      ]
     },
     "metadata": {
      "needs_background": "light"
     },
     "output_type": "display_data"
    },
    {
     "name": "stdout",
     "output_type": "stream",
     "text": [
      "teeplots/algorithm=upgma+treatment=differentia%64~policy%RecencyProportionalResolution~target%512+viz=draw-biopython-tree-with-origin-time-bounds+ext=.pdf\n",
      "teeplots/algorithm=upgma+treatment=differentia%64~policy%RecencyProportionalResolution~target%512+viz=draw-biopython-tree-with-origin-time-bounds+ext=.png\n"
     ]
    },
    {
     "data": {
      "text/plain": [
       "<Figure size 432x288 with 0 Axes>"
      ]
     },
     "metadata": {},
     "output_type": "display_data"
    },
    {
     "data": {
      "image/png": "[encoded data removed]",
      "text/plain": [
       "<Figure size 432x288 with 1 Axes>"
      ]
     },
     "metadata": {
      "needs_background": "light"
     },
     "output_type": "display_data"
    },
    {
     "name": "stdout",
     "output_type": "stream",
     "text": [
      "teeplots/algorithm=upgma+treatment=differentia%64~policy%RecencyProportionalResolution~target%64+viz=draw-biopython-tree-with-origin-time-bounds+ext=.pdf\n",
      "teeplots/algorithm=upgma+treatment=differentia%64~policy%RecencyProportionalResolution~target%64+viz=draw-biopython-tree-with-origin-time-bounds+ext=.png\n"
     ]
    },
    {
     "data": {
      "text/plain": [
       "<Figure size 432x288 with 0 Axes>"
      ]
     },
     "metadata": {},
     "output_type": "display_data"
    },
    {
     "data": {
      "image/png": "[encoded data removed]",
      "text/plain": [
       "<Figure size 432x288 with 1 Axes>"
      ]
     },
     "metadata": {
      "needs_background": "light"
     },
     "output_type": "display_data"
    },
    {
     "name": "stdout",
     "output_type": "stream",
     "text": [
      "teeplots/algorithm=upgma+treatment=differentia%64~policy%TaperedDepthProportionalResolution~target%4096+viz=draw-biopython-tree-with-origin-time-bounds+ext=.pdf\n",
      "teeplots/algorithm=upgma+treatment=differentia%64~policy%TaperedDepthProportionalResolution~target%4096+viz=draw-biopython-tree-with-origin-time-bounds+ext=.png\n"
     ]
    },
    {
     "data": {
      "text/plain": [
       "<Figure size 432x288 with 0 Axes>"
      ]
     },
     "metadata": {},
     "output_type": "display_data"
    },
    {
     "data": {
      "image/png": "[encoded data removed]",
      "text/plain": [
       "<Figure size 432x288 with 1 Axes>"
      ]
     },
     "metadata": {
      "needs_background": "light"
     },
     "output_type": "display_data"
    },
    {
     "name": "stdout",
     "output_type": "stream",
     "text": [
      "teeplots/algorithm=upgma+treatment=differentia%64~policy%TaperedDepthProportionalResolution~target%512+viz=draw-biopython-tree-with-origin-time-bounds+ext=.pdf\n",
      "teeplots/algorithm=upgma+treatment=differentia%64~policy%TaperedDepthProportionalResolution~target%512+viz=draw-biopython-tree-with-origin-time-bounds+ext=.png\n"
     ]
    },
    {
     "data": {
      "text/plain": [
       "<Figure size 432x288 with 0 Axes>"
      ]
     },
     "metadata": {},
     "output_type": "display_data"
    },
    {
     "data": {
      "image/png": "[encoded data removed]",
      "text/plain": [
       "<Figure size 432x288 with 1 Axes>"
      ]
     },
     "metadata": {
      "needs_background": "light"
     },
     "output_type": "display_data"
    },
    {
     "name": "stdout",
     "output_type": "stream",
     "text": [
      "teeplots/algorithm=upgma+treatment=differentia%64~policy%TaperedDepthProportionalResolution~target%64+viz=draw-biopython-tree-with-origin-time-bounds+ext=.pdf\n",
      "teeplots/algorithm=upgma+treatment=differentia%64~policy%TaperedDepthProportionalResolution~target%64+viz=draw-biopython-tree-with-origin-time-bounds+ext=.png\n"
     ]
    },
    {
     "data": {
      "text/plain": [
       "<Figure size 432x288 with 0 Axes>"
      ]
     },
     "metadata": {},
     "output_type": "display_data"
    },
    {
     "data": {
      "image/png": "[encoded data removed]",
      "text/plain": [
       "<Figure size 432x288 with 1 Axes>"
      ]
     },
     "metadata": {
      "needs_background": "light"
     },
     "output_type": "display_data"
    },
    {
     "name": "stdout",
     "output_type": "stream",
     "text": [
      "teeplots/algorithm=upgma+treatment=differentia%8~policy%RecencyProportionalResolution~target%4096+viz=draw-biopython-tree-with-origin-time-bounds+ext=.pdf\n",
      "teeplots/algorithm=upgma+treatment=differentia%8~policy%RecencyProportionalResolution~target%4096+viz=draw-biopython-tree-with-origin-time-bounds+ext=.png\n"
     ]
    },
    {
     "data": {
      "text/plain": [
       "<Figure size 432x288 with 0 Axes>"
      ]
     },
     "metadata": {},
     "output_type": "display_data"
    },
    {
     "data": {
      "image/png": "[encoded data removed]",
      "text/plain": [
       "<Figure size 432x288 with 1 Axes>"
      ]
     },
     "metadata": {
      "needs_background": "light"
     },
     "output_type": "display_data"
    },
    {
     "name": "stdout",
     "output_type": "stream",
     "text": [
      "teeplots/algorithm=upgma+treatment=differentia%8~policy%RecencyProportionalResolution~target%512+viz=draw-biopython-tree-with-origin-time-bounds+ext=.pdf\n",
      "teeplots/algorithm=upgma+treatment=differentia%8~policy%RecencyProportionalResolution~target%512+viz=draw-biopython-tree-with-origin-time-bounds+ext=.png\n"
     ]
    },
    {
     "data": {
      "text/plain": [
       "<Figure size 432x288 with 0 Axes>"
      ]
     },
     "metadata": {},
     "output_type": "display_data"
    },
    {
     "data": {
      "image/png": "[encoded data removed]",
      "text/plain": [
       "<Figure size 432x288 with 1 Axes>"
      ]
     },
     "metadata": {
      "needs_background": "light"
     },
     "output_type": "display_data"
    },
    {
     "name": "stdout",
     "output_type": "stream",
     "text": [
      "teeplots/algorithm=upgma+treatment=differentia%8~policy%RecencyProportionalResolution~target%64+viz=draw-biopython-tree-with-origin-time-bounds+ext=.pdf\n",
      "teeplots/algorithm=upgma+treatment=differentia%8~policy%RecencyProportionalResolution~target%64+viz=draw-biopython-tree-with-origin-time-bounds+ext=.png\n"
     ]
    },
    {
     "data": {
      "text/plain": [
       "<Figure size 432x288 with 0 Axes>"
      ]
     },
     "metadata": {},
     "output_type": "display_data"
    },
    {
     "data": {
      "image/png": "[encoded data removed]",
      "text/plain": [
       "<Figure size 432x288 with 1 Axes>"
      ]
     },
     "metadata": {
      "needs_background": "light"
     },
     "output_type": "display_data"
    },
    {
     "name": "stdout",
     "output_type": "stream",
     "text": [
      "teeplots/algorithm=upgma+treatment=differentia%8~policy%TaperedDepthProportionalResolution~target%4096+viz=draw-biopython-tree-with-origin-time-bounds+ext=.pdf\n",
      "teeplots/algorithm=upgma+treatment=differentia%8~policy%TaperedDepthProportionalResolution~target%4096+viz=draw-biopython-tree-with-origin-time-bounds+ext=.png\n"
     ]
    },
    {
     "data": {
      "text/plain": [
       "<Figure size 432x288 with 0 Axes>"
      ]
     },
     "metadata": {},
     "output_type": "display_data"
    },
    {
     "data": {
      "image/png": "[encoded data removed]",
      "text/plain": [
       "<Figure size 432x288 with 1 Axes>"
      ]
     },
     "metadata": {
      "needs_background": "light"
     },
     "output_type": "display_data"
    },
    {
     "name": "stdout",
     "output_type": "stream",
     "text": [
      "teeplots/algorithm=upgma+treatment=differentia%8~policy%TaperedDepthProportionalResolution~target%512+viz=draw-biopython-tree-with-origin-time-bounds+ext=.pdf\n",
      "teeplots/algorithm=upgma+treatment=differentia%8~policy%TaperedDepthProportionalResolution~target%512+viz=draw-biopython-tree-with-origin-time-bounds+ext=.png\n"
     ]
    },
    {
     "data": {
      "text/plain": [
       "<Figure size 432x288 with 0 Axes>"
      ]
     },
     "metadata": {},
     "output_type": "display_data"
    },
    {
     "data": {
      "image/png": "[encoded data removed]",
      "text/plain": [
       "<Figure size 432x288 with 1 Axes>"
      ]
     },
     "metadata": {
      "needs_background": "light"
     },
     "output_type": "display_data"
    },
    {
     "name": "stdout",
     "output_type": "stream",
     "text": [
      "teeplots/algorithm=upgma+treatment=differentia%8~policy%TaperedDepthProportionalResolution~target%64+viz=draw-biopython-tree-with-origin-time-bounds+ext=.pdf\n",
      "teeplots/algorithm=upgma+treatment=differentia%8~policy%TaperedDepthProportionalResolution~target%64+viz=draw-biopython-tree-with-origin-time-bounds+ext=.png\n"
     ]
    },
    {
     "data": {
      "text/plain": [
       "<Figure size 432x288 with 0 Axes>"
      ]
     },
     "metadata": {},
     "output_type": "display_data"
    }
   ],
   "source": [
    "taxon_rename_dict = {\n",
    "    str(taxon): np.base_repr(i, 36).lower()\n",
    "    for i, taxon\n",
    "    in enumerate(sorted(df['Taxon Compared From'].unique()))\n",
    "}\n",
    "for (treatment, algorithm), tree in trees.items():\n",
    "    tp.tee(\n",
    "        draw_biopython_tree_with_origin_time_bounds,\n",
    "        tree,\n",
    "        label_func=lambda node: None if 'Inner' in str(node) else taxon_rename_dict[str(node)],\n",
    "        teeplot_outattrs={\n",
    "            'algorithm' : algorithm.__name__,\n",
    "            'treatment' : kn.demote(treatment),\n",
    "        },\n",
    "    )\n",
    "    plt.show()\n"
   ]
  },
  {
   "cell_type": "code",
   "execution_count": 18,
   "id": "614c89e9",
   "metadata": {
    "execution": {
     "iopub.execute_input": "2022-03-11T16:34:00.646480Z",
     "iopub.status.busy": "2022-03-11T16:34:00.646227Z",
     "iopub.status.idle": "2022-03-11T16:34:00.684608Z",
     "shell.execute_reply": "2022-03-11T16:34:00.684012Z"
    },
    "papermill": {
     "duration": 0.074036,
     "end_time": "2022-03-11T16:34:00.686286",
     "exception": false,
     "start_time": "2022-03-11T16:34:00.612250",
     "status": "completed"
    },
    "tags": []
   },
   "outputs": [],
   "source": [
    "alife_dataframes = {\n",
    "    (treatment, algorithm): apc.biopython_tree_to_alife_dataframe(\n",
    "        tree,\n",
    "        exportattrs={\n",
    "            'origin_time_lb': 'Origin Time Lower Bound (Inclusive)',\n",
    "            'origin_time_ub': 'Origin Time Upper Bound (Exclusive)',\n",
    "            'origin_time_est': 'Origin Time Estimate',\n",
    "        }\n",
    "    )\n",
    "    for (treatment, algorithm), tree in trees.items()\n",
    "}\n",
    "for (treatment, algorithm), df in alife_dataframes.items():\n",
    "    df['Treatment'] = treatment\n",
    "    df['Algorithm'] = algorithm\n"
   ]
  },
  {
   "cell_type": "code",
   "execution_count": 19,
   "id": "7b06e176",
   "metadata": {
    "execution": {
     "iopub.execute_input": "2022-03-11T16:34:00.765605Z",
     "iopub.status.busy": "2022-03-11T16:34:00.765346Z",
     "iopub.status.idle": "2022-03-11T16:34:00.782039Z",
     "shell.execute_reply": "2022-03-11T16:34:00.781487Z"
    },
    "papermill": {
     "duration": 0.057569,
     "end_time": "2022-03-11T16:34:00.783409",
     "exception": false,
     "start_time": "2022-03-11T16:34:00.725840",
     "status": "completed"
    },
    "tags": []
   },
   "outputs": [],
   "source": [
    "res_df = pd.concat(alife_dataframes.values()).reset_index()\n"
   ]
  },
  {
   "cell_type": "code",
   "execution_count": 20,
   "id": "44e7ca70",
   "metadata": {
    "execution": {
     "iopub.execute_input": "2022-03-11T16:34:00.863372Z",
     "iopub.status.busy": "2022-03-11T16:34:00.863040Z",
     "iopub.status.idle": "2022-03-11T16:34:00.883535Z",
     "shell.execute_reply": "2022-03-11T16:34:00.883107Z"
    },
    "papermill": {
     "duration": 0.063422,
     "end_time": "2022-03-11T16:34:00.884996",
     "exception": false,
     "start_time": "2022-03-11T16:34:00.821574",
     "status": "completed"
    },
    "tags": []
   },
   "outputs": [
    {
     "data": {
      "text/html": [
       "<div>\n",
       "<style scoped>\n",
       "    .dataframe tbody tr th:only-of-type {\n",
       "        vertical-align: middle;\n",
       "    }\n",
       "\n",
       "    .dataframe tbody tr th {\n",
       "        vertical-align: top;\n",
       "    }\n",
       "\n",
       "    .dataframe thead th {\n",
       "        text-align: right;\n",
       "    }\n",
       "</style>\n",
       "<table border=\"1\" class=\"dataframe\">\n",
       "  <thead>\n",
       "    <tr style=\"text-align: right;\">\n",
       "      <th></th>\n",
       "      <th>index</th>\n",
       "      <th>id</th>\n",
       "      <th>ancestor_list</th>\n",
       "      <th>origin_time</th>\n",
       "      <th>branch_length</th>\n",
       "      <th>name</th>\n",
       "      <th>Origin Time Lower Bound (Inclusive)</th>\n",
       "      <th>Origin Time Upper Bound (Exclusive)</th>\n",
       "      <th>Origin Time Estimate</th>\n",
       "      <th>Treatment</th>\n",
       "      <th>Algorithm</th>\n",
       "    </tr>\n",
       "  </thead>\n",
       "  <tbody>\n",
       "    <tr>\n",
       "      <th>0</th>\n",
       "      <td>0</td>\n",
       "      <td>0</td>\n",
       "      <td>[None]</td>\n",
       "      <td>20.5</td>\n",
       "      <td>20.5</td>\n",
       "      <td>Inner8</td>\n",
       "      <td>16.0</td>\n",
       "      <td>26.0</td>\n",
       "      <td>20.5</td>\n",
       "      <td>differentia=1+policy=RecencyProportionalResolu...</td>\n",
       "      <td>&lt;function upgma at 0x7fe9748e1e50&gt;</td>\n",
       "    </tr>\n",
       "    <tr>\n",
       "      <th>1</th>\n",
       "      <td>1</td>\n",
       "      <td>1</td>\n",
       "      <td>[0]</td>\n",
       "      <td>22.5</td>\n",
       "      <td>2.0</td>\n",
       "      <td>Inner6</td>\n",
       "      <td>18.0</td>\n",
       "      <td>28.0</td>\n",
       "      <td>22.5</td>\n",
       "      <td>differentia=1+policy=RecencyProportionalResolu...</td>\n",
       "      <td>&lt;function upgma at 0x7fe9748e1e50&gt;</td>\n",
       "    </tr>\n",
       "    <tr>\n",
       "      <th>2</th>\n",
       "      <td>2</td>\n",
       "      <td>2</td>\n",
       "      <td>[1]</td>\n",
       "      <td>5000.0</td>\n",
       "      <td>4977.5</td>\n",
       "      <td>47626</td>\n",
       "      <td>5000.0</td>\n",
       "      <td>5001.0</td>\n",
       "      <td>5000.0</td>\n",
       "      <td>differentia=1+policy=RecencyProportionalResolu...</td>\n",
       "      <td>&lt;function upgma at 0x7fe9748e1e50&gt;</td>\n",
       "    </tr>\n",
       "    <tr>\n",
       "      <th>3</th>\n",
       "      <td>3</td>\n",
       "      <td>3</td>\n",
       "      <td>[1]</td>\n",
       "      <td>26.5</td>\n",
       "      <td>4.0</td>\n",
       "      <td>Inner3</td>\n",
       "      <td>22.0</td>\n",
       "      <td>32.0</td>\n",
       "      <td>26.5</td>\n",
       "      <td>differentia=1+policy=RecencyProportionalResolu...</td>\n",
       "      <td>&lt;function upgma at 0x7fe9748e1e50&gt;</td>\n",
       "    </tr>\n",
       "    <tr>\n",
       "      <th>4</th>\n",
       "      <td>4</td>\n",
       "      <td>4</td>\n",
       "      <td>[3]</td>\n",
       "      <td>28.5</td>\n",
       "      <td>2.0</td>\n",
       "      <td>Inner2</td>\n",
       "      <td>24.0</td>\n",
       "      <td>34.0</td>\n",
       "      <td>28.5</td>\n",
       "      <td>differentia=1+policy=RecencyProportionalResolu...</td>\n",
       "      <td>&lt;function upgma at 0x7fe9748e1e50&gt;</td>\n",
       "    </tr>\n",
       "    <tr>\n",
       "      <th>...</th>\n",
       "      <td>...</td>\n",
       "      <td>...</td>\n",
       "      <td>...</td>\n",
       "      <td>...</td>\n",
       "      <td>...</td>\n",
       "      <td>...</td>\n",
       "      <td>...</td>\n",
       "      <td>...</td>\n",
       "      <td>...</td>\n",
       "      <td>...</td>\n",
       "      <td>...</td>\n",
       "    </tr>\n",
       "    <tr>\n",
       "      <th>301</th>\n",
       "      <td>12</td>\n",
       "      <td>12</td>\n",
       "      <td>[4]</td>\n",
       "      <td>5001.0</td>\n",
       "      <td>4489.5</td>\n",
       "      <td>47641</td>\n",
       "      <td>5001.0</td>\n",
       "      <td>5002.0</td>\n",
       "      <td>5001.0</td>\n",
       "      <td>differentia=8+policy=TaperedDepthProportionalR...</td>\n",
       "      <td>&lt;function upgma at 0x7fe9748e1e50&gt;</td>\n",
       "    </tr>\n",
       "    <tr>\n",
       "      <th>302</th>\n",
       "      <td>13</td>\n",
       "      <td>13</td>\n",
       "      <td>[3]</td>\n",
       "      <td>5001.0</td>\n",
       "      <td>4489.5</td>\n",
       "      <td>47642</td>\n",
       "      <td>5001.0</td>\n",
       "      <td>5002.0</td>\n",
       "      <td>5001.0</td>\n",
       "      <td>differentia=8+policy=TaperedDepthProportionalR...</td>\n",
       "      <td>&lt;function upgma at 0x7fe9748e1e50&gt;</td>\n",
       "    </tr>\n",
       "    <tr>\n",
       "      <th>303</th>\n",
       "      <td>14</td>\n",
       "      <td>14</td>\n",
       "      <td>[2]</td>\n",
       "      <td>5001.0</td>\n",
       "      <td>4489.5</td>\n",
       "      <td>47643</td>\n",
       "      <td>5001.0</td>\n",
       "      <td>5002.0</td>\n",
       "      <td>5001.0</td>\n",
       "      <td>differentia=8+policy=TaperedDepthProportionalR...</td>\n",
       "      <td>&lt;function upgma at 0x7fe9748e1e50&gt;</td>\n",
       "    </tr>\n",
       "    <tr>\n",
       "      <th>304</th>\n",
       "      <td>15</td>\n",
       "      <td>15</td>\n",
       "      <td>[1]</td>\n",
       "      <td>5001.0</td>\n",
       "      <td>4489.5</td>\n",
       "      <td>47644</td>\n",
       "      <td>5001.0</td>\n",
       "      <td>5002.0</td>\n",
       "      <td>5001.0</td>\n",
       "      <td>differentia=8+policy=TaperedDepthProportionalR...</td>\n",
       "      <td>&lt;function upgma at 0x7fe9748e1e50&gt;</td>\n",
       "    </tr>\n",
       "    <tr>\n",
       "      <th>305</th>\n",
       "      <td>16</td>\n",
       "      <td>16</td>\n",
       "      <td>[0]</td>\n",
       "      <td>5001.0</td>\n",
       "      <td>4489.5</td>\n",
       "      <td>47645</td>\n",
       "      <td>5001.0</td>\n",
       "      <td>5002.0</td>\n",
       "      <td>5001.0</td>\n",
       "      <td>differentia=8+policy=TaperedDepthProportionalR...</td>\n",
       "      <td>&lt;function upgma at 0x7fe9748e1e50&gt;</td>\n",
       "    </tr>\n",
       "  </tbody>\n",
       "</table>\n",
       "<p>306 rows × 11 columns</p>\n",
       "</div>"
      ],
      "text/plain": [
       "     index  id ancestor_list  origin_time  branch_length    name  \\\n",
       "0        0   0        [None]         20.5           20.5  Inner8   \n",
       "1        1   1           [0]         22.5            2.0  Inner6   \n",
       "2        2   2           [1]       5000.0         4977.5   47626   \n",
       "3        3   3           [1]         26.5            4.0  Inner3   \n",
       "4        4   4           [3]         28.5            2.0  Inner2   \n",
       "..     ...  ..           ...          ...            ...     ...   \n",
       "301     12  12           [4]       5001.0         4489.5   47641   \n",
       "302     13  13           [3]       5001.0         4489.5   47642   \n",
       "303     14  14           [2]       5001.0         4489.5   47643   \n",
       "304     15  15           [1]       5001.0         4489.5   47644   \n",
       "305     16  16           [0]       5001.0         4489.5   47645   \n",
       "\n",
       "     Origin Time Lower Bound (Inclusive)  Origin Time Upper Bound (Exclusive)  \\\n",
       "0                                   16.0                                 26.0   \n",
       "1                                   18.0                                 28.0   \n",
       "2                                 5000.0                               5001.0   \n",
       "3                                   22.0                                 32.0   \n",
       "4                                   24.0                                 34.0   \n",
       "..                                   ...                                  ...   \n",
       "301                               5001.0                               5002.0   \n",
       "302                               5001.0                               5002.0   \n",
       "303                               5001.0                               5002.0   \n",
       "304                               5001.0                               5002.0   \n",
       "305                               5001.0                               5002.0   \n",
       "\n",
       "     Origin Time Estimate                                          Treatment  \\\n",
       "0                    20.5  differentia=1+policy=RecencyProportionalResolu...   \n",
       "1                    22.5  differentia=1+policy=RecencyProportionalResolu...   \n",
       "2                  5000.0  differentia=1+policy=RecencyProportionalResolu...   \n",
       "3                    26.5  differentia=1+policy=RecencyProportionalResolu...   \n",
       "4                    28.5  differentia=1+policy=RecencyProportionalResolu...   \n",
       "..                    ...                                                ...   \n",
       "301                5001.0  differentia=8+policy=TaperedDepthProportionalR...   \n",
       "302                5001.0  differentia=8+policy=TaperedDepthProportionalR...   \n",
       "303                5001.0  differentia=8+policy=TaperedDepthProportionalR...   \n",
       "304                5001.0  differentia=8+policy=TaperedDepthProportionalR...   \n",
       "305                5001.0  differentia=8+policy=TaperedDepthProportionalR...   \n",
       "\n",
       "                              Algorithm  \n",
       "0    <function upgma at 0x7fe9748e1e50>  \n",
       "1    <function upgma at 0x7fe9748e1e50>  \n",
       "2    <function upgma at 0x7fe9748e1e50>  \n",
       "3    <function upgma at 0x7fe9748e1e50>  \n",
       "4    <function upgma at 0x7fe9748e1e50>  \n",
       "..                                  ...  \n",
       "301  <function upgma at 0x7fe9748e1e50>  \n",
       "302  <function upgma at 0x7fe9748e1e50>  \n",
       "303  <function upgma at 0x7fe9748e1e50>  \n",
       "304  <function upgma at 0x7fe9748e1e50>  \n",
       "305  <function upgma at 0x7fe9748e1e50>  \n",
       "\n",
       "[306 rows x 11 columns]"
      ]
     },
     "execution_count": 20,
     "metadata": {},
     "output_type": "execute_result"
    }
   ],
   "source": [
    "res_df\n"
   ]
  },
  {
   "cell_type": "code",
   "execution_count": 21,
   "id": "343f6b3f",
   "metadata": {
    "execution": {
     "iopub.execute_input": "2022-03-11T16:34:00.968659Z",
     "iopub.status.busy": "2022-03-11T16:34:00.968421Z",
     "iopub.status.idle": "2022-03-11T16:34:00.987570Z",
     "shell.execute_reply": "2022-03-11T16:34:00.987082Z"
    },
    "papermill": {
     "duration": 0.064892,
     "end_time": "2022-03-11T16:34:00.988874",
     "exception": false,
     "start_time": "2022-03-11T16:34:00.923982",
     "status": "completed"
    },
    "tags": []
   },
   "outputs": [
    {
     "name": "stdout",
     "output_type": "stream",
     "text": [
      "digest: 78c86c7d1168bd283f50b927cdf48c220fcc5e6b1f77180e1df414f29f9932a3\n",
      "manifest:\n",
      "  Algorithm: '                           1#   ex., <function upgma at 0x7fe9748e1e50>'\n",
      "  Origin Time Estimate: '                24#  ex., 20.5'\n",
      "  Origin Time Lower Bound (Inclusive): ' 13#  ex., 16.0'\n",
      "  Origin Time Upper Bound (Exclusive): ' 23#  ex., 26.0'\n",
      "  Treatment: '                           18#  ex., differentia=1+policy=RecencyProportionalResolution+target=4096'\n",
      "  ancestor_list: '                       15#  ex., [None]'\n",
      "  branch_length: '                       53#  ex., 20.5'\n",
      "  id: '                                  17#  ex., 0'\n",
      "  index: '                               17#  ex., 0'\n",
      "  name: '                                17#  ex., Inner8'\n",
      "  origin_time: '                         24#  ex., 20.5'\n",
      "num cols: 11\n",
      "num cols all na: 0\n",
      "num cols any na: 0\n",
      "num na: 0\n",
      "num rows: 306\n",
      "num rows all na: 0\n",
      "num rows any na: 0\n",
      "size: 127K\n",
      "\n"
     ]
    }
   ],
   "source": [
    "nbm.print_dataframe_synopsis(res_df)\n"
   ]
  },
  {
   "cell_type": "code",
   "execution_count": 22,
   "id": "c7ac62f5",
   "metadata": {
    "execution": {
     "iopub.execute_input": "2022-03-11T16:34:01.069845Z",
     "iopub.status.busy": "2022-03-11T16:34:01.069571Z",
     "iopub.status.idle": "2022-03-11T16:34:01.083677Z",
     "shell.execute_reply": "2022-03-11T16:34:01.083111Z"
    },
    "papermill": {
     "duration": 0.057139,
     "end_time": "2022-03-11T16:34:01.085071",
     "exception": false,
     "start_time": "2022-03-11T16:34:01.027932",
     "status": "completed"
    },
    "tags": []
   },
   "outputs": [],
   "source": [
    "res_df.to_csv(\n",
    "    f'a=reconstructed_phylogenies+source={kn.unpack(data_filename)[\"source\"]}',\n",
    "    compression='gzip',\n",
    ")\n",
    "res_df.to_csv(\n",
    "    f'a=reconstructed_phylogenies+source={kn.unpack(data_filename)[\"source\"][:-len(\".gz\")]}',\n",
    ")\n"
   ]
  }
 ],
 "metadata": {
  "kernelspec": {
   "display_name": "Python 3",
   "language": "python",
   "name": "python3"
  },
  "language_info": {
   "codemirror_mode": {
    "name": "ipython",
    "version": 3
   },
   "file_extension": ".py",
   "mimetype": "text/x-python",
   "name": "python",
   "nbconvert_exporter": "python",
   "pygments_lexer": "ipython3",
   "version": "3.8.10"
  },
  "papermill": {
   "default_parameters": {},
   "duration": null,
   "end_time": null,
   "environment_variables": {},
   "exception": null,
   "input_path": "/opt/hereditary-stratigraph-concept/binder/phylogenetic-inference/phylogeny_reconstruction_mill.ipynb",
   "output_path": "executing.endomill.ipynb",
   "parameters": {
    "data_url": "https://github.com/mmore500/hereditary-stratigraph-concept/blob/f21c71cc31c6cc3eed4bbd47bfce2208020ce930/binder/phylogenetic-inference/a=pairwise_mrca_estimates+source=nk_tournamentselection_seed140_pop100_mut.01_snapshot_5000.csv.gz"
   },
   "start_time": "2022-03-11T16:33:51.628780",
   "version": "2.3.4"
  }
 },
 "nbformat": 4,
 "nbformat_minor": 5
}